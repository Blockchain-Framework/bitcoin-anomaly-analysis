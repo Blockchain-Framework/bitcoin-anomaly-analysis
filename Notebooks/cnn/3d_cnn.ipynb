{
  "cells": [
    {
      "cell_type": "markdown",
      "metadata": {
        "id": "view-in-github",
        "colab_type": "text"
      },
      "source": [
        "<a href=\"https://colab.research.google.com/github/Blockchain-Framework/bitcoin-anomaly-analysis/blob/develop/Notebooks/cnn/3d_cnn.ipynb\" target=\"_parent\"><img src=\"https://colab.research.google.com/assets/colab-badge.svg\" alt=\"Open In Colab\"/></a>"
      ]
    },
    {
      "cell_type": "code",
      "source": [
        "from google.colab import drive\n",
        "drive.mount('/content/drive')"
      ],
      "metadata": {
        "colab": {
          "base_uri": "https://localhost:8080/"
        },
        "id": "oJGV7uL_xKhC",
        "outputId": "6245f080-bb97-4236-99e1-b9a3038f551f"
      },
      "execution_count": 1,
      "outputs": [
        {
          "output_type": "stream",
          "name": "stdout",
          "text": [
            "Mounted at /content/drive\n"
          ]
        }
      ]
    },
    {
      "cell_type": "markdown",
      "metadata": {
        "id": "yXdDPVa-wwqk"
      },
      "source": [
        "## Importing Libraries"
      ]
    },
    {
      "cell_type": "code",
      "execution_count": 2,
      "metadata": {
        "id": "zp-enFhPlCf-"
      },
      "outputs": [],
      "source": [
        "import numpy as np\n",
        "import pandas as pd\n",
        "import tensorflow as tf\n",
        "from matplotlib import pyplot as plt\n",
        "import sklearn\n",
        "from sklearn.preprocessing import MinMaxScaler\n",
        "from tensorflow.keras import models, datasets, layers, Sequential\n",
        "from tensorflow.keras.layers import Conv2D, Input, Dropout, Activation, Dense, MaxPooling2D, Flatten, AveragePooling2D, LayerNormalization"
      ]
    },
    {
      "cell_type": "markdown",
      "metadata": {
        "id": "VKdde1d9wwqs"
      },
      "source": [
        "### Splitting Data\n"
      ]
    },
    {
      "cell_type": "code",
      "source": [
        "\n",
        "from sklearn import preprocessing\n",
        "from sklearn.model_selection import train_test_split"
      ],
      "metadata": {
        "id": "k8KGnWyQx_gR"
      },
      "execution_count": 3,
      "outputs": []
    },
    {
      "cell_type": "code",
      "execution_count": 4,
      "metadata": {
        "id": "zERxs2Dkwwqt"
      },
      "outputs": [],
      "source": [
        "# X_train_val, X_test, y_train_val, y_test = train_test_split(X, y, test_size=0.2, random_state=42, stratify=y)\n",
        "# X_train, X_val, y_train, y_val = train_test_split(X_train_val, y_train_val, test_size=0.25, random_state=42, stratify=y_train_val)"
      ]
    },
    {
      "cell_type": "code",
      "execution_count": 5,
      "metadata": {
        "scrolled": true,
        "id": "3NWGg8NHwwqt"
      },
      "outputs": [],
      "source": [
        "# y_train.head()"
      ]
    },
    {
      "cell_type": "code",
      "source": [
        "train = pd.read_csv('/content/drive/MyDrive/Colab Notebooks/FYP/Anomaly/bitcoin_imbalance_train_set.csv')\n",
        "test = pd.read_csv(\"/content/drive/MyDrive/Colab Notebooks/FYP/Anomaly/bitcoin_imbalance_test.csv\")"
      ],
      "metadata": {
        "id": "2S4KxTeOw8M_"
      },
      "execution_count": 64,
      "outputs": []
    },
    {
      "cell_type": "code",
      "source": [
        "# Split train dataset\n",
        "X_train = train.drop(columns=['label'])  # Drop the 'label' column for features\n",
        "y_train = train['label']  # Select the 'label' column for the target variable\n",
        "\n",
        "# Split test dataset\n",
        "X_test = test.drop(columns=['label'])  # Drop the 'label' column for features\n",
        "y_test = test['label']  # Select the 'label' column for the target variable"
      ],
      "metadata": {
        "id": "iDOAn2OBxnzC"
      },
      "execution_count": 65,
      "outputs": []
    },
    {
      "cell_type": "code",
      "source": [
        "# Convert multi-class to binary classification for the target variable\n",
        "y_train = y_train.apply(lambda x: 1 if x > 0 else 0)\n",
        "y_test = y_test.apply(lambda x: 1 if x > 0 else 0)\n"
      ],
      "metadata": {
        "id": "PjU8KF6j_4j0"
      },
      "execution_count": 66,
      "outputs": []
    },
    {
      "cell_type": "code",
      "source": [
        "X_train, X_val, y_train, y_val = train_test_split(X_train, y_train, test_size=0.25, random_state=42, stratify=y_train)"
      ],
      "metadata": {
        "id": "-hOBowhgxsay"
      },
      "execution_count": 67,
      "outputs": []
    },
    {
      "cell_type": "markdown",
      "metadata": {
        "id": "QxPccQqIwwqt"
      },
      "source": [
        "### Features Extraction"
      ]
    },
    {
      "cell_type": "code",
      "execution_count": 68,
      "metadata": {
        "id": "NBc8inxfwwqt"
      },
      "outputs": [],
      "source": [
        "from sklearn.feature_selection import RFE\n",
        "from sklearn.ensemble import RandomForestClassifier\n",
        "from sklearn.model_selection import cross_val_score, KFold\n",
        "\n",
        "# forest = RandomForestClassifier()\n",
        "# _ = forest.fit(X_train, y_train)\n",
        "# print(forest.score(X_test, y_test))"
      ]
    },
    {
      "cell_type": "code",
      "source": [
        "# rfe = RFE(forest, n_features_to_select=20)\n",
        "\n",
        "# # Define 5-fold cross-validation object\n",
        "# cv = KFold(n_splits=5, shuffle=True, random_state=1)\n",
        "\n",
        "# # Perform RFE with 5-fold cross-validation\n",
        "# scores = cross_val_score(rfe, X_train, y_train, cv=cv)\n",
        "\n",
        "# # Print mean score and standard deviation\n",
        "# print('Accuracy: {:.3f} (+/- {:.3f})'.format(scores.mean(), scores.std()))"
      ],
      "metadata": {
        "id": "hEcIOh4rzIa5"
      },
      "execution_count": 69,
      "outputs": []
    },
    {
      "cell_type": "code",
      "execution_count": 70,
      "metadata": {
        "id": "X2u8ZePbwwqt"
      },
      "outputs": [],
      "source": [
        "# pd.DataFrame(\n",
        "#     zip(X_train.columns, abs(forest.feature_importances_)),\n",
        "#     columns=[\"feature\", \"weight\"],\n",
        "# ).sort_values(\"weight\").reset_index(drop=True)"
      ]
    },
    {
      "cell_type": "code",
      "execution_count": 71,
      "metadata": {
        "id": "qsuvAQ0iwwqu"
      },
      "outputs": [],
      "source": [
        "# from sklearn.feature_selection import RFECV\n",
        "# from sklearn.metrics import accuracy_score,precision_score, recall_score, f1_score\n",
        "# from sklearn.model_selection import cross_validate\n",
        "# # Init, fit\n",
        "# # scoring = ['accuracy', 'precision', 'recall', 'f1']\n",
        "# rfecv = RFECV(\n",
        "#     estimator=RandomForestClassifier(),\n",
        "#     min_features_to_select=20,\n",
        "#     n_jobs=-1,\n",
        "#     step=10,\n",
        "#     scoring='f1_macro',\n",
        "#     cv=5\n",
        "# )"
      ]
    },
    {
      "cell_type": "code",
      "execution_count": 72,
      "metadata": {
        "id": "3QRNAJEcwwqu"
      },
      "outputs": [],
      "source": [
        "# _ = rfecv.fit(X_train, y_train)"
      ]
    },
    {
      "cell_type": "code",
      "execution_count": 73,
      "metadata": {
        "scrolled": false,
        "id": "zqj2RfsYwwqu"
      },
      "outputs": [],
      "source": [
        "# print(X_train.columns[rfecv.get_support()])"
      ]
    },
    {
      "cell_type": "code",
      "execution_count": 74,
      "metadata": {
        "scrolled": false,
        "id": "88yBKikFwwqu"
      },
      "outputs": [],
      "source": [
        "# selected_features = X_train.columns[rfecv.get_support()]\n",
        "# # selected_features=selected_features.tolist()"
      ]
    },
    {
      "cell_type": "code",
      "source": [
        "# selected_features"
      ],
      "metadata": {
        "id": "_Ie6qKbwiIMh"
      },
      "execution_count": 75,
      "outputs": []
    },
    {
      "cell_type": "code",
      "execution_count": 76,
      "metadata": {
        "scrolled": true,
        "id": "Tb2NMEGywwqu"
      },
      "outputs": [],
      "source": [
        "# n=20\n",
        "# feature_importance = _.estimator_.feature_importances_  # or coef_\n",
        "# feature_importance_sorted = sorted(enumerate(feature_importance), key=lambda x: x[1])\n",
        "# top_n_idx = [idx for idx, _ in feature_importance_sorted[:n]]\n",
        "\n",
        "# top_64_features = X_train.columns[top_n_idx]\n",
        "# top_64_features = top_64_features.tolist()\n",
        "# top_64_features"
      ]
    },
    {
      "cell_type": "code",
      "execution_count": 77,
      "metadata": {
        "scrolled": false,
        "id": "YF7YRzvuwwqv"
      },
      "outputs": [],
      "source": [
        "# features_removed=(set(X_train.columns)-set(top_64_features))\n",
        "# features_removed"
      ]
    },
    {
      "cell_type": "code",
      "execution_count": 78,
      "metadata": {
        "id": "yPmF-UKZwwqv"
      },
      "outputs": [],
      "source": [
        "features_to_be_dropped=['input_output_max_ratio',\n",
        " 'input_output_maximum_transaction_value_diff',\n",
        " 'input_output_mean_ratio',\n",
        " 'input_output_min_ratio',\n",
        " 'input_output_minimum_transaction_value_diff',\n",
        " 'input_output_percentile_25_diff',\n",
        " 'input_output_percentile_75_diff',\n",
        " 'input_output_time_diff_max_min_diff',\n",
        " 'input_output_transaction_count_ratio',\n",
        " 'input_output_usd_max_ratio',\n",
        " 'input_output_usd_min_ratio',\n",
        " 'input_output_usd_percentile_25_diff',\n",
        " 'input_output_usd_percentile_75_diff',\n",
        " 'input_range_mean_ratio',\n",
        " 'input_spending_value_usd_25th_percentile',\n",
        " 'input_spending_value_usd_75th_percentile',\n",
        " 'input_spending_value_usd_maximum',\n",
        " 'input_spending_value_usd_mean',\n",
        " 'input_spending_value_usd_median',\n",
        " 'input_spending_value_usd_minimum',\n",
        " 'input_time_diff_25th_percentile',\n",
        " 'input_time_diff_median',\n",
        " 'input_time_diff_minimum',\n",
        " 'input_time_diff_range',\n",
        " 'input_value_25th_percentile',\n",
        " 'input_value_75th_percentile',\n",
        " 'input_value_maximum',\n",
        " 'input_value_mean',\n",
        " 'input_value_median',\n",
        " 'input_value_minimum',\n",
        " 'output_range_mean_ratio',\n",
        " 'output_time_diff_75th_percentile',\n",
        " 'output_time_diff_range',\n",
        " 'output_value_maximum',\n",
        " 'output_value_mean',\n",
        " 'output_value_median',\n",
        " 'output_value_minimum',\n",
        " 'output_value_usd_25th_percentile',\n",
        " 'output_value_usd_maximum',\n",
        " 'output_value_usd_mean',\n",
        " 'output_value_usd_median',\n",
        " 'output_value_usd_minimum']"
      ]
    },
    {
      "cell_type": "code",
      "execution_count": 79,
      "metadata": {
        "id": "ZmoZ_vlIwwqv"
      },
      "outputs": [],
      "source": [
        "X_train=X_train.drop(features_to_be_dropped, axis=1)\n",
        "X_test=X_test.drop(features_to_be_dropped, axis=1)\n",
        "X_val=X_val.drop(features_to_be_dropped, axis=1)"
      ]
    },
    {
      "cell_type": "markdown",
      "metadata": {
        "id": "KZpWp9ngwwqv"
      },
      "source": [
        "## Model Training"
      ]
    },
    {
      "cell_type": "markdown",
      "metadata": {
        "id": "TSUag-M5wwqv"
      },
      "source": [
        "### Multiclass Classification"
      ]
    },
    {
      "cell_type": "code",
      "source": [
        "print(X_train.shape)\n",
        "print(X_test.shape)\n",
        "print(X_val.shape)"
      ],
      "metadata": {
        "colab": {
          "base_uri": "https://localhost:8080/"
        },
        "id": "TKjQ1VhLyxLf",
        "outputId": "335e7e27-08d5-44e8-a423-253fd9c21b94"
      },
      "execution_count": 80,
      "outputs": [
        {
          "output_type": "stream",
          "name": "stdout",
          "text": [
            "(54606, 20)\n",
            "(17800, 20)\n",
            "(18203, 20)\n"
          ]
        }
      ]
    },
    {
      "cell_type": "code",
      "execution_count": 81,
      "metadata": {
        "id": "r4MStHQfwwq1"
      },
      "outputs": [],
      "source": [
        "#This model was taking a lot of time to run so we had to stop the training\n",
        "# from keras.models import Sequential\n",
        "# from keras.layers import Conv1D, MaxPooling1D, Flatten, Dense, Dropout, LayerNormalization\n",
        "# from keras.optimizers import Adam\n",
        "# from keras.losses import SparseCategoricalCrossentropy\n",
        "# from keras.layers import Conv3D, BatchNormalization, AveragePooling3D, SpatialDropout3D\n",
        "\n",
        "from keras.models import Sequential\n",
        "from keras.layers import Conv3D, BatchNormalization, AveragePooling3D, SpatialDropout3D, Flatten, Dense\n",
        "from keras.optimizers import Adam\n",
        "from keras.losses import SparseCategoricalCrossentropy\n",
        "\n",
        "cnn3d = Sequential()\n",
        "cnn3d.add(Conv3D(filters=32, kernel_size=(2, 2, 3), activation='relu', padding='same', input_shape=(2, 2, 5, 1)))\n",
        "cnn3d.add(BatchNormalization())\n",
        "cnn3d.add(AveragePooling3D(pool_size=(1, 1, 2)))\n",
        "cnn3d.add(SpatialDropout3D(0.05))\n",
        "\n",
        "cnn3d.add(Conv3D(filters=64, kernel_size=(2, 2, 3), activation='relu', padding='same'))\n",
        "cnn3d.add(BatchNormalization())\n",
        "cnn3d.add(AveragePooling3D(pool_size=(1, 1, 2)))\n",
        "cnn3d.add(SpatialDropout3D(0.05))\n",
        "\n",
        "# Reducing the number of Conv3D layers due to limited data dimensionality\n",
        "cnn3d.add(Flatten())\n",
        "cnn3d.add(Dense(256, activation='relu'))\n",
        "cnn3d.add(Dense(units=2, activation='softmax'))\n",
        "\n",
        "cnn3d.compile(optimizer=Adam(learning_rate=0.0001),\n",
        "              loss=SparseCategoricalCrossentropy(), metrics=['accuracy'])\n",
        "\n",
        "# X_train = np.reshape(X_train, (X_train.shape[0], 64))"
      ]
    },
    {
      "cell_type": "code",
      "source": [
        "X_train = X_train.values.reshape(X_train.shape[0], 2, 2, 5, 1)\n",
        "X_val = X_val.values.reshape(X_val.shape[0], 2, 2, 5, 1)\n",
        "X_test = X_test.values.reshape(X_test.shape[0], 2, 2, 5, 1)"
      ],
      "metadata": {
        "id": "jcGWqGCRHYmO"
      },
      "execution_count": 82,
      "outputs": []
    },
    {
      "cell_type": "code",
      "execution_count": 83,
      "metadata": {
        "id": "xr4UYb5lwwq1",
        "outputId": "42c7505c-959a-4576-e97a-7d081fc31da6",
        "colab": {
          "base_uri": "https://localhost:8080/"
        }
      },
      "outputs": [
        {
          "output_type": "stream",
          "name": "stdout",
          "text": [
            "(54606, 2, 2, 5, 1)\n",
            "Epoch 1/25\n",
            "1707/1707 [==============================] - 12s 6ms/step - loss: 0.6380 - accuracy: 0.6314 - val_loss: 0.6886 - val_accuracy: 0.5527\n",
            "Epoch 2/25\n",
            "1707/1707 [==============================] - 10s 6ms/step - loss: 0.6154 - accuracy: 0.6553 - val_loss: 0.7073 - val_accuracy: 0.5050\n",
            "Epoch 3/25\n",
            "1707/1707 [==============================] - 9s 5ms/step - loss: 0.6018 - accuracy: 0.6664 - val_loss: 0.6842 - val_accuracy: 0.5542\n",
            "Epoch 4/25\n",
            "1707/1707 [==============================] - 10s 6ms/step - loss: 0.5934 - accuracy: 0.6743 - val_loss: 0.6926 - val_accuracy: 0.5489\n",
            "Epoch 5/25\n",
            "1707/1707 [==============================] - 10s 6ms/step - loss: 0.5898 - accuracy: 0.6780 - val_loss: 0.7065 - val_accuracy: 0.4505\n",
            "Epoch 6/25\n",
            "1707/1707 [==============================] - 10s 6ms/step - loss: 0.5861 - accuracy: 0.6797 - val_loss: 0.6895 - val_accuracy: 0.5500\n",
            "Epoch 7/25\n",
            "1707/1707 [==============================] - 9s 5ms/step - loss: 0.5831 - accuracy: 0.6797 - val_loss: 0.7029 - val_accuracy: 0.5483\n",
            "Epoch 8/25\n",
            "1707/1707 [==============================] - 10s 6ms/step - loss: 0.5810 - accuracy: 0.6810 - val_loss: 0.6859 - val_accuracy: 0.5498\n"
          ]
        }
      ],
      "source": [
        "from keras.callbacks import EarlyStopping\n",
        "print(X_train.shape)\n",
        "history = cnn3d.fit(X_train, y_train, epochs=25, batch_size=32,\n",
        "                    validation_data=(X_val, y_val),\n",
        "                    callbacks=[EarlyStopping(monitor='val_loss', patience=5)], verbose=1)"
      ]
    },
    {
      "cell_type": "code",
      "execution_count": 84,
      "metadata": {
        "id": "wqxJHk24wwq2",
        "colab": {
          "base_uri": "https://localhost:8080/"
        },
        "outputId": "0396fd32-95f1-4c5a-d49e-985b61c6096b"
      },
      "outputs": [
        {
          "output_type": "stream",
          "name": "stderr",
          "text": [
            "/usr/local/lib/python3.10/dist-packages/keras/src/engine/training.py:3103: UserWarning: You are saving your model as an HDF5 file via `model.save()`. This file format is considered legacy. We recommend using instead the native Keras format, e.g. `model.save('my_model.keras')`.\n",
            "  saving_api.save_model(\n"
          ]
        }
      ],
      "source": [
        "cnn3d.save('/content/drive/MyDrive/Colab Notebooks/FYP/Anomaly/1d_CNN/CNN3D_binary.h5')"
      ]
    },
    {
      "cell_type": "code",
      "execution_count": 85,
      "metadata": {
        "id": "p1wi_8u4wwq2",
        "colab": {
          "base_uri": "https://localhost:8080/",
          "height": 472
        },
        "outputId": "aa834f80-15e3-493c-8d0d-c65d2b278ad0"
      },
      "outputs": [
        {
          "output_type": "display_data",
          "data": {
            "text/plain": [
              "<Figure size 640x480 with 1 Axes>"
            ],
            "image/png": "[encoded data removed]"
          },
          "metadata": {}
        }
      ],
      "source": [
        "train_loss = history.history['loss']\n",
        "val_loss = history.history['val_loss']\n",
        "epochs = range(1, 9)\n",
        "plt.plot(epochs, train_loss, 'g', label='Training Loss')\n",
        "plt.plot(epochs, val_loss, 'b', label='Validation Loss')\n",
        "plt.title('CNN3D')\n",
        "plt.xlabel('Epochs')\n",
        "plt.ylabel('Loss')\n",
        "plt.legend()\n",
        "plt.show()"
      ]
    },
    {
      "cell_type": "code",
      "execution_count": 86,
      "metadata": {
        "id": "oQmouiuGwwq2",
        "colab": {
          "base_uri": "https://localhost:8080/",
          "height": 472
        },
        "outputId": "9d999f52-b143-4ffb-d92d-53bb56e58563"
      },
      "outputs": [
        {
          "output_type": "display_data",
          "data": {
            "text/plain": [
              "<Figure size 640x480 with 1 Axes>"
            ],
            "image/png": "[encoded data removed]"
          },
          "metadata": {}
        }
      ],
      "source": [
        "train_acc = history.history['accuracy']\n",
        "val_acc = history.history['val_accuracy']\n",
        "epochs = range(1, 9)\n",
        "plt.plot(epochs, train_acc, 'g', label='Training Accuracy')\n",
        "plt.plot(epochs, val_acc, 'b', label='Validation Accuracy')\n",
        "plt.title('CNN2D')\n",
        "plt.xlabel('Epochs')\n",
        "plt.ylabel('Accuracy')\n",
        "plt.legend()\n",
        "plt.show()"
      ]
    },
    {
      "cell_type": "code",
      "execution_count": 88,
      "metadata": {
        "id": "JnLXNESfwwq2",
        "colab": {
          "base_uri": "https://localhost:8080/"
        },
        "outputId": "56a51baa-fbae-440b-a547-6c0a0ab7f1ad"
      },
      "outputs": [
        {
          "output_type": "stream",
          "name": "stdout",
          "text": [
            "557/557 [==============================] - 3s 5ms/step\n"
          ]
        }
      ],
      "source": [
        "\n",
        "y_pred = cnn3d.predict(X_test)\n",
        "\n",
        "y_pred_classes = np.argmax(y_pred, axis=1)"
      ]
    },
    {
      "cell_type": "code",
      "source": [
        "from sklearn.feature_selection import RFECV\n",
        "from sklearn.metrics import accuracy_score,precision_score, recall_score, f1_score\n",
        "from sklearn.model_selection import cross_validate"
      ],
      "metadata": {
        "id": "dZ-3qqwT3_Pu"
      },
      "execution_count": 89,
      "outputs": []
    },
    {
      "cell_type": "code",
      "execution_count": 90,
      "metadata": {
        "id": "sU-O27BLwwq3",
        "colab": {
          "base_uri": "https://localhost:8080/"
        },
        "outputId": "49b07bfd-6edc-4dc2-b123-318190d626a6"
      },
      "outputs": [
        {
          "output_type": "stream",
          "name": "stdout",
          "text": [
            "\n",
            "Testing Accuracy: 94.52\n",
            "\n",
            "Precision: 96.78\n",
            "Recall: 94.52\n",
            "F1-score: 95.62\n",
            "\n",
            "F1-score-m: 50.93\n",
            "\n"
          ]
        }
      ],
      "source": [
        "print('\\nTesting Accuracy: {:.2f}\\n'.format(accuracy_score(y_test, y_pred_classes)*100))\n",
        "\n",
        "print('Precision: {:.2f}'.format(precision_score(y_test, y_pred_classes, average='weighted')*100))\n",
        "print('Recall: {:.2f}'.format(recall_score(y_test, y_pred_classes, average='weighted')*100))\n",
        "print('F1-score: {:.2f}\\n'.format(f1_score(y_test, y_pred_classes, average='weighted')*100))\n",
        "print('F1-score-m: {:.2f}\\n'.format(f1_score(y_test, y_pred_classes, average='macro')*100))"
      ]
    },
    {
      "cell_type": "code",
      "source": [
        "import seaborn as sns\n",
        "from sklearn.metrics import confusion_matrix\n",
        "\n",
        "cm = confusion_matrix(y_test, y_pred_classes)\n",
        "print(cm)"
      ],
      "metadata": {
        "colab": {
          "base_uri": "https://localhost:8080/"
        },
        "id": "kzVTbbVP4Zl1",
        "outputId": "5eee6bf5-d96f-4b31-8168-4f3028f0a4c5"
      },
      "execution_count": 91,
      "outputs": [
        {
          "output_type": "stream",
          "name": "stdout",
          "text": [
            "[[16800   700]\n",
            " [  276    24]]\n"
          ]
        }
      ]
    },
    {
      "cell_type": "code",
      "source": [],
      "metadata": {
        "id": "9o7FEGfyIaDS"
      },
      "execution_count": null,
      "outputs": []
    }
  ],
  "metadata": {
    "colab": {
      "provenance": [],
      "gpuType": "T4",
      "include_colab_link": true
    },
    "kernelspec": {
      "display_name": "Python 3",
      "name": "python3"
    },
    "language_info": {
      "codemirror_mode": {
        "name": "ipython",
        "version": 3
      },
      "file_extension": ".py",
      "mimetype": "text/x-python",
      "name": "python",
      "nbconvert_exporter": "python",
      "pygments_lexer": "ipython3",
      "version": "3.9.1"
    },
    "accelerator": "GPU"
  },
  "nbformat": 4,
  "nbformat_minor": 0
}