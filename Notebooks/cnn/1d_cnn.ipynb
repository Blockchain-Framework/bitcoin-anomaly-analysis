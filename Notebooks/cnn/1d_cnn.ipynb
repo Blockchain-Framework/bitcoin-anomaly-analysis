{
  "cells": [
    {
      "cell_type": "markdown",
      "metadata": {
        "id": "view-in-github",
        "colab_type": "text"
      },
      "source": [
        "<a href=\"https://colab.research.google.com/github/Blockchain-Framework/bitcoin-anomaly-analysis/blob/develop/Notebooks/cnn/1d_cnn.ipynb\" target=\"_parent\"><img src=\"https://colab.research.google.com/assets/colab-badge.svg\" alt=\"Open In Colab\"/></a>"
      ]
    },
    {
      "cell_type": "code",
      "source": [
        "from google.colab import drive\n",
        "drive.mount('/content/drive')"
      ],
      "metadata": {
        "colab": {
          "base_uri": "https://localhost:8080/"
        },
        "id": "oJGV7uL_xKhC",
        "outputId": "156d748d-2715-46ab-cbd9-561a9624276e"
      },
      "execution_count": 4,
      "outputs": [
        {
          "output_type": "stream",
          "name": "stdout",
          "text": [
            "Mounted at /content/drive\n"
          ]
        }
      ]
    },
    {
      "cell_type": "markdown",
      "metadata": {
        "id": "yXdDPVa-wwqk"
      },
      "source": [
        "## Importing Libraries"
      ]
    },
    {
      "cell_type": "code",
      "execution_count": 5,
      "metadata": {
        "id": "zp-enFhPlCf-"
      },
      "outputs": [],
      "source": [
        "import numpy as np\n",
        "import pandas as pd\n",
        "import tensorflow as tf\n",
        "from matplotlib import pyplot as plt\n",
        "import sklearn\n",
        "from sklearn.preprocessing import MinMaxScaler\n",
        "from tensorflow.keras import models, datasets, layers, Sequential\n",
        "from tensorflow.keras.layers import Conv2D, Input, Dropout, Activation, Dense, MaxPooling2D, Flatten, AveragePooling2D, LayerNormalization"
      ]
    },
    {
      "cell_type": "markdown",
      "metadata": {
        "id": "VKdde1d9wwqs"
      },
      "source": [
        "### Splitting Data\n"
      ]
    },
    {
      "cell_type": "code",
      "source": [
        "\n",
        "from sklearn import preprocessing\n",
        "from sklearn.model_selection import train_test_split"
      ],
      "metadata": {
        "id": "k8KGnWyQx_gR"
      },
      "execution_count": 9,
      "outputs": []
    },
    {
      "cell_type": "code",
      "execution_count": 11,
      "metadata": {
        "id": "zERxs2Dkwwqt"
      },
      "outputs": [],
      "source": [
        "# X_train_val, X_test, y_train_val, y_test = train_test_split(X, y, test_size=0.2, random_state=42, stratify=y)\n",
        "# X_train, X_val, y_train, y_val = train_test_split(X_train_val, y_train_val, test_size=0.25, random_state=42, stratify=y_train_val)"
      ]
    },
    {
      "cell_type": "code",
      "execution_count": null,
      "metadata": {
        "scrolled": true,
        "id": "3NWGg8NHwwqt",
        "outputId": "a9b5b772-d727-48cc-d80c-b29d5ab78729"
      },
      "outputs": [
        {
          "data": {
            "text/plain": [
              "521773      4.0\n",
              "323487      1.0\n",
              "1081637    11.0\n",
              "257266      1.0\n",
              "381983      1.0\n",
              "Name: Cat, dtype: float64"
            ]
          },
          "execution_count": 27,
          "metadata": {},
          "output_type": "execute_result"
        }
      ],
      "source": [
        "# y_train.head()"
      ]
    },
    {
      "cell_type": "code",
      "source": [
        "train = pd.read_csv('/content/drive/MyDrive/Colab Notebooks/FYP/Anomaly/bitcoin_imbalance_train_set.csv')\n",
        "test = pd.read_csv(\"/content/drive/MyDrive/Colab Notebooks/FYP/Anomaly/bitcoin_imbalance_test.csv\")"
      ],
      "metadata": {
        "id": "2S4KxTeOw8M_"
      },
      "execution_count": 84,
      "outputs": []
    },
    {
      "cell_type": "code",
      "source": [
        "# Split train dataset\n",
        "X_train = train.drop(columns=['label'])  # Drop the 'label' column for features\n",
        "y_train = train['label']  # Select the 'label' column for the target variable\n",
        "\n",
        "# Split test dataset\n",
        "X_test = test.drop(columns=['label'])  # Drop the 'label' column for features\n",
        "y_test = test['label']  # Select the 'label' column for the target variable"
      ],
      "metadata": {
        "id": "iDOAn2OBxnzC"
      },
      "execution_count": 85,
      "outputs": []
    },
    {
      "cell_type": "code",
      "source": [
        "# Convert multi-class to binary classification for the target variable\n",
        "y_train = y_train.apply(lambda x: 1 if x > 0 else 0)\n",
        "y_test = y_test.apply(lambda x: 1 if x > 0 else 0)"
      ],
      "metadata": {
        "id": "aWNCpjBk_vhh"
      },
      "execution_count": 87,
      "outputs": []
    },
    {
      "cell_type": "code",
      "source": [
        "X_train, X_val, y_train, y_val = train_test_split(X_train, y_train, test_size=0.25, random_state=42, stratify=y_train)"
      ],
      "metadata": {
        "id": "-hOBowhgxsay"
      },
      "execution_count": 88,
      "outputs": []
    },
    {
      "cell_type": "markdown",
      "metadata": {
        "id": "QxPccQqIwwqt"
      },
      "source": [
        "### Features Extraction"
      ]
    },
    {
      "cell_type": "code",
      "execution_count": null,
      "metadata": {
        "id": "NBc8inxfwwqt"
      },
      "outputs": [],
      "source": [
        "from sklearn.feature_selection import RFE\n",
        "from sklearn.ensemble import RandomForestClassifier\n",
        "from sklearn.model_selection import cross_val_score, KFold\n",
        "\n",
        "forest = RandomForestClassifier()\n",
        "_ = forest.fit(X_train, y_train)\n",
        "print(forest.score(X_test, y_test))"
      ]
    },
    {
      "cell_type": "code",
      "source": [
        "rfe = RFE(forest, n_features_to_select=20)\n",
        "\n",
        "# Define 5-fold cross-validation object\n",
        "cv = KFold(n_splits=5, shuffle=True, random_state=1)\n",
        "\n",
        "# Perform RFE with 5-fold cross-validation\n",
        "scores = cross_val_score(rfe, X_train, y_train, cv=cv)\n",
        "\n",
        "# Print mean score and standard deviation\n",
        "print('Accuracy: {:.3f} (+/- {:.3f})'.format(scores.mean(), scores.std()))"
      ],
      "metadata": {
        "colab": {
          "base_uri": "https://localhost:8080/"
        },
        "id": "hEcIOh4rzIa5",
        "outputId": "2b93dd09-33a6-4bb0-b9bc-5f74be061465"
      },
      "execution_count": 21,
      "outputs": [
        {
          "output_type": "stream",
          "name": "stdout",
          "text": [
            "Accuracy: 0.677 (+/- 0.004)\n"
          ]
        }
      ]
    },
    {
      "cell_type": "code",
      "execution_count": 22,
      "metadata": {
        "colab": {
          "base_uri": "https://localhost:8080/",
          "height": 424
        },
        "id": "X2u8ZePbwwqt",
        "outputId": "fb58c90a-54f1-418b-c4cf-27ca127ccfb7"
      },
      "outputs": [
        {
          "output_type": "execute_result",
          "data": {
            "text/plain": [
              "                                        feature    weight\n",
              "0                      output_time_diff_minimum  0.000000\n",
              "1                       input_time_diff_minimum  0.000000\n",
              "2                        input_output_max_ratio  0.000051\n",
              "3   input_output_maximum_transaction_value_diff  0.000064\n",
              "4   input_output_minimum_transaction_value_diff  0.000224\n",
              "..                                          ...       ...\n",
              "57                     output_value_usd_minimum  0.029758\n",
              "58     input_spending_value_usd_25th_percentile  0.029892\n",
              "59             output_value_usd_75th_percentile  0.030951\n",
              "60             output_value_usd_25th_percentile  0.033325\n",
              "61              input_spending_value_usd_median  0.033677\n",
              "\n",
              "[62 rows x 2 columns]"
            ],
            "text/html": [
              "\n",
              "  <div id=\"df-95e06653-c6f1-49c2-a157-d5e02dec8e4f\" class=\"colab-df-container\">\n",
              "    <div>\n",
              "<style scoped>\n",
              "    .dataframe tbody tr th:only-of-type {\n",
              "        vertical-align: middle;\n",
              "    }\n",
              "\n",
              "    .dataframe tbody tr th {\n",
              "        vertical-align: top;\n",
              "    }\n",
              "\n",
              "    .dataframe thead th {\n",
              "        text-align: right;\n",
              "    }\n",
              "</style>\n",
              "<table border=\"1\" class=\"dataframe\">\n",
              "  <thead>\n",
              "    <tr style=\"text-align: right;\">\n",
              "      <th></th>\n",
              "      <th>feature</th>\n",
              "      <th>weight</th>\n",
              "    </tr>\n",
              "  </thead>\n",
              "  <tbody>\n",
              "    <tr>\n",
              "      <th>0</th>\n",
              "      <td>output_time_diff_minimum</td>\n",
              "      <td>0.000000</td>\n",
              "    </tr>\n",
              "    <tr>\n",
              "      <th>1</th>\n",
              "      <td>input_time_diff_minimum</td>\n",
              "      <td>0.000000</td>\n",
              "    </tr>\n",
              "    <tr>\n",
              "      <th>2</th>\n",
              "      <td>input_output_max_ratio</td>\n",
              "      <td>0.000051</td>\n",
              "    </tr>\n",
              "    <tr>\n",
              "      <th>3</th>\n",
              "      <td>input_output_maximum_transaction_value_diff</td>\n",
              "      <td>0.000064</td>\n",
              "    </tr>\n",
              "    <tr>\n",
              "      <th>4</th>\n",
              "      <td>input_output_minimum_transaction_value_diff</td>\n",
              "      <td>0.000224</td>\n",
              "    </tr>\n",
              "    <tr>\n",
              "      <th>...</th>\n",
              "      <td>...</td>\n",
              "      <td>...</td>\n",
              "    </tr>\n",
              "    <tr>\n",
              "      <th>57</th>\n",
              "      <td>output_value_usd_minimum</td>\n",
              "      <td>0.029758</td>\n",
              "    </tr>\n",
              "    <tr>\n",
              "      <th>58</th>\n",
              "      <td>input_spending_value_usd_25th_percentile</td>\n",
              "      <td>0.029892</td>\n",
              "    </tr>\n",
              "    <tr>\n",
              "      <th>59</th>\n",
              "      <td>output_value_usd_75th_percentile</td>\n",
              "      <td>0.030951</td>\n",
              "    </tr>\n",
              "    <tr>\n",
              "      <th>60</th>\n",
              "      <td>output_value_usd_25th_percentile</td>\n",
              "      <td>0.033325</td>\n",
              "    </tr>\n",
              "    <tr>\n",
              "      <th>61</th>\n",
              "      <td>input_spending_value_usd_median</td>\n",
              "      <td>0.033677</td>\n",
              "    </tr>\n",
              "  </tbody>\n",
              "</table>\n",
              "<p>62 rows × 2 columns</p>\n",
              "</div>\n",
              "    <div class=\"colab-df-buttons\">\n",
              "\n",
              "  <div class=\"colab-df-container\">\n",
              "    <button class=\"colab-df-convert\" onclick=\"convertToInteractive('df-95e06653-c6f1-49c2-a157-d5e02dec8e4f')\"\n",
              "            title=\"Convert this dataframe to an interactive table.\"\n",
              "            style=\"display:none;\">\n",
              "\n",
              "  <svg xmlns=\"http://www.w3.org/2000/svg\" height=\"24px\" viewBox=\"0 -960 960 960\">\n",
              "    <path d=\"M120-120v-720h720v720H120Zm60-500h600v-160H180v160Zm220 220h160v-160H400v160Zm0 220h160v-160H400v160ZM180-400h160v-160H180v160Zm440 0h160v-160H620v160ZM180-180h160v-160H180v160Zm440 0h160v-160H620v160Z\"/>\n",
              "  </svg>\n",
              "    </button>\n",
              "\n",
              "  <style>\n",
              "    .colab-df-container {\n",
              "      display:flex;\n",
              "      gap: 12px;\n",
              "    }\n",
              "\n",
              "    .colab-df-convert {\n",
              "      background-color: #E8F0FE;\n",
              "      border: none;\n",
              "      border-radius: 50%;\n",
              "      cursor: pointer;\n",
              "      display: none;\n",
              "      fill: #1967D2;\n",
              "      height: 32px;\n",
              "      padding: 0 0 0 0;\n",
              "      width: 32px;\n",
              "    }\n",
              "\n",
              "    .colab-df-convert:hover {\n",
              "      background-color: #E2EBFA;\n",
              "      box-shadow: 0px 1px 2px rgba(60, 64, 67, 0.3), 0px 1px 3px 1px rgba(60, 64, 67, 0.15);\n",
              "      fill: #174EA6;\n",
              "    }\n",
              "\n",
              "    .colab-df-buttons div {\n",
              "      margin-bottom: 4px;\n",
              "    }\n",
              "\n",
              "    [theme=dark] .colab-df-convert {\n",
              "      background-color: #3B4455;\n",
              "      fill: #D2E3FC;\n",
              "    }\n",
              "\n",
              "    [theme=dark] .colab-df-convert:hover {\n",
              "      background-color: #434B5C;\n",
              "      box-shadow: 0px 1px 3px 1px rgba(0, 0, 0, 0.15);\n",
              "      filter: drop-shadow(0px 1px 2px rgba(0, 0, 0, 0.3));\n",
              "      fill: #FFFFFF;\n",
              "    }\n",
              "  </style>\n",
              "\n",
              "    <script>\n",
              "      const buttonEl =\n",
              "        document.querySelector('#df-95e06653-c6f1-49c2-a157-d5e02dec8e4f button.colab-df-convert');\n",
              "      buttonEl.style.display =\n",
              "        google.colab.kernel.accessAllowed ? 'block' : 'none';\n",
              "\n",
              "      async function convertToInteractive(key) {\n",
              "        const element = document.querySelector('#df-95e06653-c6f1-49c2-a157-d5e02dec8e4f');\n",
              "        const dataTable =\n",
              "          await google.colab.kernel.invokeFunction('convertToInteractive',\n",
              "                                                    [key], {});\n",
              "        if (!dataTable) return;\n",
              "\n",
              "        const docLinkHtml = 'Like what you see? Visit the ' +\n",
              "          '<a target=\"_blank\" href=https://colab.research.google.com/notebooks/data_table.ipynb>data table notebook</a>'\n",
              "          + ' to learn more about interactive tables.';\n",
              "        element.innerHTML = '';\n",
              "        dataTable['output_type'] = 'display_data';\n",
              "        await google.colab.output.renderOutput(dataTable, element);\n",
              "        const docLink = document.createElement('div');\n",
              "        docLink.innerHTML = docLinkHtml;\n",
              "        element.appendChild(docLink);\n",
              "      }\n",
              "    </script>\n",
              "  </div>\n",
              "\n",
              "\n",
              "<div id=\"df-e7d8f862-485a-4c7f-9393-8f7a59ce5a7c\">\n",
              "  <button class=\"colab-df-quickchart\" onclick=\"quickchart('df-e7d8f862-485a-4c7f-9393-8f7a59ce5a7c')\"\n",
              "            title=\"Suggest charts\"\n",
              "            style=\"display:none;\">\n",
              "\n",
              "<svg xmlns=\"http://www.w3.org/2000/svg\" height=\"24px\"viewBox=\"0 0 24 24\"\n",
              "     width=\"24px\">\n",
              "    <g>\n",
              "        <path d=\"M19 3H5c-1.1 0-2 .9-2 2v14c0 1.1.9 2 2 2h14c1.1 0 2-.9 2-2V5c0-1.1-.9-2-2-2zM9 17H7v-7h2v7zm4 0h-2V7h2v10zm4 0h-2v-4h2v4z\"/>\n",
              "    </g>\n",
              "</svg>\n",
              "  </button>\n",
              "\n",
              "<style>\n",
              "  .colab-df-quickchart {\n",
              "      --bg-color: #E8F0FE;\n",
              "      --fill-color: #1967D2;\n",
              "      --hover-bg-color: #E2EBFA;\n",
              "      --hover-fill-color: #174EA6;\n",
              "      --disabled-fill-color: #AAA;\n",
              "      --disabled-bg-color: #DDD;\n",
              "  }\n",
              "\n",
              "  [theme=dark] .colab-df-quickchart {\n",
              "      --bg-color: #3B4455;\n",
              "      --fill-color: #D2E3FC;\n",
              "      --hover-bg-color: #434B5C;\n",
              "      --hover-fill-color: #FFFFFF;\n",
              "      --disabled-bg-color: #3B4455;\n",
              "      --disabled-fill-color: #666;\n",
              "  }\n",
              "\n",
              "  .colab-df-quickchart {\n",
              "    background-color: var(--bg-color);\n",
              "    border: none;\n",
              "    border-radius: 50%;\n",
              "    cursor: pointer;\n",
              "    display: none;\n",
              "    fill: var(--fill-color);\n",
              "    height: 32px;\n",
              "    padding: 0;\n",
              "    width: 32px;\n",
              "  }\n",
              "\n",
              "  .colab-df-quickchart:hover {\n",
              "    background-color: var(--hover-bg-color);\n",
              "    box-shadow: 0 1px 2px rgba(60, 64, 67, 0.3), 0 1px 3px 1px rgba(60, 64, 67, 0.15);\n",
              "    fill: var(--button-hover-fill-color);\n",
              "  }\n",
              "\n",
              "  .colab-df-quickchart-complete:disabled,\n",
              "  .colab-df-quickchart-complete:disabled:hover {\n",
              "    background-color: var(--disabled-bg-color);\n",
              "    fill: var(--disabled-fill-color);\n",
              "    box-shadow: none;\n",
              "  }\n",
              "\n",
              "  .colab-df-spinner {\n",
              "    border: 2px solid var(--fill-color);\n",
              "    border-color: transparent;\n",
              "    border-bottom-color: var(--fill-color);\n",
              "    animation:\n",
              "      spin 1s steps(1) infinite;\n",
              "  }\n",
              "\n",
              "  @keyframes spin {\n",
              "    0% {\n",
              "      border-color: transparent;\n",
              "      border-bottom-color: var(--fill-color);\n",
              "      border-left-color: var(--fill-color);\n",
              "    }\n",
              "    20% {\n",
              "      border-color: transparent;\n",
              "      border-left-color: var(--fill-color);\n",
              "      border-top-color: var(--fill-color);\n",
              "    }\n",
              "    30% {\n",
              "      border-color: transparent;\n",
              "      border-left-color: var(--fill-color);\n",
              "      border-top-color: var(--fill-color);\n",
              "      border-right-color: var(--fill-color);\n",
              "    }\n",
              "    40% {\n",
              "      border-color: transparent;\n",
              "      border-right-color: var(--fill-color);\n",
              "      border-top-color: var(--fill-color);\n",
              "    }\n",
              "    60% {\n",
              "      border-color: transparent;\n",
              "      border-right-color: var(--fill-color);\n",
              "    }\n",
              "    80% {\n",
              "      border-color: transparent;\n",
              "      border-right-color: var(--fill-color);\n",
              "      border-bottom-color: var(--fill-color);\n",
              "    }\n",
              "    90% {\n",
              "      border-color: transparent;\n",
              "      border-bottom-color: var(--fill-color);\n",
              "    }\n",
              "  }\n",
              "</style>\n",
              "\n",
              "  <script>\n",
              "    async function quickchart(key) {\n",
              "      const quickchartButtonEl =\n",
              "        document.querySelector('#' + key + ' button');\n",
              "      quickchartButtonEl.disabled = true;  // To prevent multiple clicks.\n",
              "      quickchartButtonEl.classList.add('colab-df-spinner');\n",
              "      try {\n",
              "        const charts = await google.colab.kernel.invokeFunction(\n",
              "            'suggestCharts', [key], {});\n",
              "      } catch (error) {\n",
              "        console.error('Error during call to suggestCharts:', error);\n",
              "      }\n",
              "      quickchartButtonEl.classList.remove('colab-df-spinner');\n",
              "      quickchartButtonEl.classList.add('colab-df-quickchart-complete');\n",
              "    }\n",
              "    (() => {\n",
              "      let quickchartButtonEl =\n",
              "        document.querySelector('#df-e7d8f862-485a-4c7f-9393-8f7a59ce5a7c button');\n",
              "      quickchartButtonEl.style.display =\n",
              "        google.colab.kernel.accessAllowed ? 'block' : 'none';\n",
              "    })();\n",
              "  </script>\n",
              "</div>\n",
              "\n",
              "    </div>\n",
              "  </div>\n"
            ],
            "application/vnd.google.colaboratory.intrinsic+json": {
              "type": "dataframe",
              "summary": "{\n  \"name\": \")\",\n  \"rows\": 62,\n  \"fields\": [\n    {\n      \"column\": \"feature\",\n      \"properties\": {\n        \"dtype\": \"string\",\n        \"num_unique_values\": 62,\n        \"samples\": [\n          \"input_value_maximum\",\n          \"output_value_usd_median\",\n          \"output_time_diff_minimum\"\n        ],\n        \"semantic_type\": \"\",\n        \"description\": \"\"\n      }\n    },\n    {\n      \"column\": \"weight\",\n      \"properties\": {\n        \"dtype\": \"number\",\n        \"std\": 0.010433555905011592,\n        \"min\": 0.0,\n        \"max\": 0.033677019790077596,\n        \"num_unique_values\": 61,\n        \"samples\": [\n          0.0,\n          0.0013273930488699637,\n          0.025989686859922406\n        ],\n        \"semantic_type\": \"\",\n        \"description\": \"\"\n      }\n    }\n  ]\n}"
            }
          },
          "metadata": {},
          "execution_count": 22
        }
      ],
      "source": [
        "pd.DataFrame(\n",
        "    zip(X_train.columns, abs(forest.feature_importances_)),\n",
        "    columns=[\"feature\", \"weight\"],\n",
        ").sort_values(\"weight\").reset_index(drop=True)"
      ]
    },
    {
      "cell_type": "code",
      "execution_count": 25,
      "metadata": {
        "id": "qsuvAQ0iwwqu"
      },
      "outputs": [],
      "source": [
        "from sklearn.feature_selection import RFECV\n",
        "from sklearn.metrics import accuracy_score,precision_score, recall_score, f1_score\n",
        "from sklearn.model_selection import cross_validate\n",
        "# Init, fit\n",
        "# scoring = ['accuracy', 'precision', 'recall', 'f1']\n",
        "rfecv = RFECV(\n",
        "    estimator=RandomForestClassifier(),\n",
        "    min_features_to_select=20,\n",
        "    n_jobs=-1,\n",
        "    step=10,\n",
        "    scoring='f1_macro',\n",
        "    cv=5\n",
        ")"
      ]
    },
    {
      "cell_type": "code",
      "execution_count": 26,
      "metadata": {
        "id": "3QRNAJEcwwqu"
      },
      "outputs": [],
      "source": [
        "_ = rfecv.fit(X_train, y_train)"
      ]
    },
    {
      "cell_type": "code",
      "execution_count": 27,
      "metadata": {
        "scrolled": false,
        "colab": {
          "base_uri": "https://localhost:8080/"
        },
        "id": "zqj2RfsYwwqu",
        "outputId": "84b2760f-0ac4-4f02-bd52-59fef0919938"
      },
      "outputs": [
        {
          "output_type": "stream",
          "name": "stdout",
          "text": [
            "Index(['input_transaction_count', 'output_transaction_count',\n",
            "       'input_value_mean', 'input_value_median', 'input_value_maximum',\n",
            "       'input_value_minimum', 'input_value_25th_percentile',\n",
            "       'input_value_75th_percentile', 'input_value_range',\n",
            "       'input_spending_value_usd_mean', 'input_spending_value_usd_median',\n",
            "       'input_spending_value_usd_maximum', 'input_spending_value_usd_minimum',\n",
            "       'input_spending_value_usd_25th_percentile',\n",
            "       'input_spending_value_usd_75th_percentile',\n",
            "       'input_spending_value_usd_range', 'input_time_diff_mean',\n",
            "       'input_time_diff_median', 'input_time_diff_maximum',\n",
            "       'input_time_diff_25th_percentile', 'input_time_diff_75th_percentile',\n",
            "       'input_time_diff_range', 'output_value_usd_mean',\n",
            "       'output_value_usd_median', 'output_value_usd_maximum',\n",
            "       'output_value_usd_minimum', 'output_value_usd_25th_percentile',\n",
            "       'output_value_usd_75th_percentile', 'output_value_usd_range',\n",
            "       'output_time_diff_mean', 'output_time_diff_median',\n",
            "       'output_time_diff_maximum', 'output_time_diff_25th_percentile',\n",
            "       'output_time_diff_75th_percentile', 'output_time_diff_range',\n",
            "       'output_value_mean', 'output_value_median', 'output_value_maximum',\n",
            "       'output_value_minimum', 'output_value_25th_percentile',\n",
            "       'output_value_75th_percentile', 'output_value_range',\n",
            "       'range_mean_ratio_input', 'range_mean_ratio_output',\n",
            "       'input_output_usd_mean_ratio', 'input_output_usd_max_ratio',\n",
            "       'input_output_usd_min_ratio', 'input_output_usd_percentile_25_diff',\n",
            "       'input_output_usd_percentile_75_diff', 'input_range_mean_ratio',\n",
            "       'output_range_mean_ratio', 'input_output_time_diff_max_min_diff'],\n",
            "      dtype='object')\n"
          ]
        }
      ],
      "source": [
        "print(X_train.columns[rfecv.get_support()])"
      ]
    },
    {
      "cell_type": "code",
      "execution_count": 28,
      "metadata": {
        "scrolled": false,
        "id": "88yBKikFwwqu"
      },
      "outputs": [],
      "source": [
        "selected_features = X_train.columns[rfecv.get_support()]\n",
        "# selected_features=selected_features.tolist()"
      ]
    },
    {
      "cell_type": "code",
      "source": [
        "selected_features"
      ],
      "metadata": {
        "colab": {
          "base_uri": "https://localhost:8080/"
        },
        "id": "_Ie6qKbwiIMh",
        "outputId": "3bd9b9a8-7078-4cfe-a6d0-991fe0c499e7"
      },
      "execution_count": 29,
      "outputs": [
        {
          "output_type": "execute_result",
          "data": {
            "text/plain": [
              "Index(['input_transaction_count', 'output_transaction_count',\n",
              "       'input_value_mean', 'input_value_median', 'input_value_maximum',\n",
              "       'input_value_minimum', 'input_value_25th_percentile',\n",
              "       'input_value_75th_percentile', 'input_value_range',\n",
              "       'input_spending_value_usd_mean', 'input_spending_value_usd_median',\n",
              "       'input_spending_value_usd_maximum', 'input_spending_value_usd_minimum',\n",
              "       'input_spending_value_usd_25th_percentile',\n",
              "       'input_spending_value_usd_75th_percentile',\n",
              "       'input_spending_value_usd_range', 'input_time_diff_mean',\n",
              "       'input_time_diff_median', 'input_time_diff_maximum',\n",
              "       'input_time_diff_25th_percentile', 'input_time_diff_75th_percentile',\n",
              "       'input_time_diff_range', 'output_value_usd_mean',\n",
              "       'output_value_usd_median', 'output_value_usd_maximum',\n",
              "       'output_value_usd_minimum', 'output_value_usd_25th_percentile',\n",
              "       'output_value_usd_75th_percentile', 'output_value_usd_range',\n",
              "       'output_time_diff_mean', 'output_time_diff_median',\n",
              "       'output_time_diff_maximum', 'output_time_diff_25th_percentile',\n",
              "       'output_time_diff_75th_percentile', 'output_time_diff_range',\n",
              "       'output_value_mean', 'output_value_median', 'output_value_maximum',\n",
              "       'output_value_minimum', 'output_value_25th_percentile',\n",
              "       'output_value_75th_percentile', 'output_value_range',\n",
              "       'range_mean_ratio_input', 'range_mean_ratio_output',\n",
              "       'input_output_usd_mean_ratio', 'input_output_usd_max_ratio',\n",
              "       'input_output_usd_min_ratio', 'input_output_usd_percentile_25_diff',\n",
              "       'input_output_usd_percentile_75_diff', 'input_range_mean_ratio',\n",
              "       'output_range_mean_ratio', 'input_output_time_diff_max_min_diff'],\n",
              "      dtype='object')"
            ]
          },
          "metadata": {},
          "execution_count": 29
        }
      ]
    },
    {
      "cell_type": "code",
      "execution_count": 30,
      "metadata": {
        "scrolled": true,
        "colab": {
          "base_uri": "https://localhost:8080/"
        },
        "id": "Tb2NMEGywwqu",
        "outputId": "d723878d-1065-43c8-826a-bac798925908"
      },
      "outputs": [
        {
          "output_type": "execute_result",
          "data": {
            "text/plain": [
              "['output_value_75th_percentile',\n",
              " 'input_value_range',\n",
              " 'output_value_25th_percentile',\n",
              " 'output_time_diff_maximum',\n",
              " 'output_transaction_count',\n",
              " 'input_spending_value_usd_range',\n",
              " 'range_mean_ratio_input',\n",
              " 'input_transaction_count',\n",
              " 'output_time_diff_mean',\n",
              " 'output_value_usd_75th_percentile',\n",
              " 'output_value_range',\n",
              " 'input_time_diff_75th_percentile',\n",
              " 'range_mean_ratio_output',\n",
              " 'output_time_diff_25th_percentile',\n",
              " 'output_value_usd_range',\n",
              " 'input_time_diff_maximum',\n",
              " 'output_time_diff_minimum',\n",
              " 'output_time_diff_median',\n",
              " 'input_output_usd_mean_ratio',\n",
              " 'input_time_diff_mean']"
            ]
          },
          "metadata": {},
          "execution_count": 30
        }
      ],
      "source": [
        "n=20\n",
        "feature_importance = _.estimator_.feature_importances_  # or coef_\n",
        "feature_importance_sorted = sorted(enumerate(feature_importance), key=lambda x: x[1])\n",
        "top_n_idx = [idx for idx, _ in feature_importance_sorted[:n]]\n",
        "\n",
        "top_64_features = X_train.columns[top_n_idx]\n",
        "top_64_features = top_64_features.tolist()\n",
        "top_64_features"
      ]
    },
    {
      "cell_type": "code",
      "execution_count": 31,
      "metadata": {
        "scrolled": false,
        "colab": {
          "base_uri": "https://localhost:8080/"
        },
        "id": "YF7YRzvuwwqv",
        "outputId": "66e6c118-c7da-4d01-dc55-54d1396963ae"
      },
      "outputs": [
        {
          "output_type": "execute_result",
          "data": {
            "text/plain": [
              "{'input_output_max_ratio',\n",
              " 'input_output_maximum_transaction_value_diff',\n",
              " 'input_output_mean_ratio',\n",
              " 'input_output_min_ratio',\n",
              " 'input_output_minimum_transaction_value_diff',\n",
              " 'input_output_percentile_25_diff',\n",
              " 'input_output_percentile_75_diff',\n",
              " 'input_output_time_diff_max_min_diff',\n",
              " 'input_output_transaction_count_ratio',\n",
              " 'input_output_usd_max_ratio',\n",
              " 'input_output_usd_min_ratio',\n",
              " 'input_output_usd_percentile_25_diff',\n",
              " 'input_output_usd_percentile_75_diff',\n",
              " 'input_range_mean_ratio',\n",
              " 'input_spending_value_usd_25th_percentile',\n",
              " 'input_spending_value_usd_75th_percentile',\n",
              " 'input_spending_value_usd_maximum',\n",
              " 'input_spending_value_usd_mean',\n",
              " 'input_spending_value_usd_median',\n",
              " 'input_spending_value_usd_minimum',\n",
              " 'input_time_diff_25th_percentile',\n",
              " 'input_time_diff_median',\n",
              " 'input_time_diff_minimum',\n",
              " 'input_time_diff_range',\n",
              " 'input_value_25th_percentile',\n",
              " 'input_value_75th_percentile',\n",
              " 'input_value_maximum',\n",
              " 'input_value_mean',\n",
              " 'input_value_median',\n",
              " 'input_value_minimum',\n",
              " 'output_range_mean_ratio',\n",
              " 'output_time_diff_75th_percentile',\n",
              " 'output_time_diff_range',\n",
              " 'output_value_maximum',\n",
              " 'output_value_mean',\n",
              " 'output_value_median',\n",
              " 'output_value_minimum',\n",
              " 'output_value_usd_25th_percentile',\n",
              " 'output_value_usd_maximum',\n",
              " 'output_value_usd_mean',\n",
              " 'output_value_usd_median',\n",
              " 'output_value_usd_minimum'}"
            ]
          },
          "metadata": {},
          "execution_count": 31
        }
      ],
      "source": [
        "features_removed=(set(X_train.columns)-set(top_64_features))\n",
        "features_removed"
      ]
    },
    {
      "cell_type": "code",
      "execution_count": 90,
      "metadata": {
        "id": "yPmF-UKZwwqv"
      },
      "outputs": [],
      "source": [
        "features_to_be_dropped=['input_output_max_ratio',\n",
        " 'input_output_maximum_transaction_value_diff',\n",
        " 'input_output_mean_ratio',\n",
        " 'input_output_min_ratio',\n",
        " 'input_output_minimum_transaction_value_diff',\n",
        " 'input_output_percentile_25_diff',\n",
        " 'input_output_percentile_75_diff',\n",
        " 'input_output_time_diff_max_min_diff',\n",
        " 'input_output_transaction_count_ratio',\n",
        " 'input_output_usd_max_ratio',\n",
        " 'input_output_usd_min_ratio',\n",
        " 'input_output_usd_percentile_25_diff',\n",
        " 'input_output_usd_percentile_75_diff',\n",
        " 'input_range_mean_ratio',\n",
        " 'input_spending_value_usd_25th_percentile',\n",
        " 'input_spending_value_usd_75th_percentile',\n",
        " 'input_spending_value_usd_maximum',\n",
        " 'input_spending_value_usd_mean',\n",
        " 'input_spending_value_usd_median',\n",
        " 'input_spending_value_usd_minimum',\n",
        " 'input_time_diff_25th_percentile',\n",
        " 'input_time_diff_median',\n",
        " 'input_time_diff_minimum',\n",
        " 'input_time_diff_range',\n",
        " 'input_value_25th_percentile',\n",
        " 'input_value_75th_percentile',\n",
        " 'input_value_maximum',\n",
        " 'input_value_mean',\n",
        " 'input_value_median',\n",
        " 'input_value_minimum',\n",
        " 'output_range_mean_ratio',\n",
        " 'output_time_diff_75th_percentile',\n",
        " 'output_time_diff_range',\n",
        " 'output_value_maximum',\n",
        " 'output_value_mean',\n",
        " 'output_value_median',\n",
        " 'output_value_minimum',\n",
        " 'output_value_usd_25th_percentile',\n",
        " 'output_value_usd_maximum',\n",
        " 'output_value_usd_mean',\n",
        " 'output_value_usd_median',\n",
        " 'output_value_usd_minimum']"
      ]
    },
    {
      "cell_type": "code",
      "execution_count": 91,
      "metadata": {
        "id": "ZmoZ_vlIwwqv"
      },
      "outputs": [],
      "source": [
        "X_train=X_train.drop(features_to_be_dropped, axis=1)\n",
        "X_test=X_test.drop(features_to_be_dropped, axis=1)\n",
        "X_val=X_val.drop(features_to_be_dropped, axis=1)"
      ]
    },
    {
      "cell_type": "markdown",
      "metadata": {
        "id": "KZpWp9ngwwqv"
      },
      "source": [
        "## Model Training"
      ]
    },
    {
      "cell_type": "markdown",
      "metadata": {
        "id": "TSUag-M5wwqv"
      },
      "source": [
        "### Multiclass Classification"
      ]
    },
    {
      "cell_type": "code",
      "execution_count": 105,
      "metadata": {
        "id": "_eyTuTHmwwqv"
      },
      "outputs": [],
      "source": [
        "from keras.models import Sequential\n",
        "from keras.layers import Conv1D, MaxPooling1D, Flatten, Dense, Dropout, LayerNormalization\n",
        "from keras.optimizers import Adam\n",
        "from keras.losses import SparseCategoricalCrossentropy\n",
        "\n",
        "model = Sequential()\n",
        "model.add(Conv1D(filters=32, kernel_size=5, activation='relu', padding='same', input_shape=(20, 1)))\n",
        "model.add(LayerNormalization())\n",
        "model.add(MaxPooling1D(pool_size=2))\n",
        "model.add(Dropout(0.05))\n",
        "model.add(Conv1D(filters=64, kernel_size=5, activation='relu', padding='same'))\n",
        "model.add(LayerNormalization())\n",
        "model.add(MaxPooling1D(pool_size=2))\n",
        "model.add(Dropout(0.05))\n",
        "model.add(Conv1D(filters=128, kernel_size=5, activation='relu', padding='same'))\n",
        "model.add(LayerNormalization())\n",
        "model.add(MaxPooling1D(pool_size=2))\n",
        "model.add(Dropout(0.05))\n",
        "model.add(Conv1D(filters=256, kernel_size=5, activation='relu', padding='same'))\n",
        "model.add(LayerNormalization())\n",
        "model.add(MaxPooling1D(pool_size=2))\n",
        "model.add(Dropout(0.05))\n",
        "model.add(Flatten())\n",
        "model.add(Dense(256, activation='relu'))\n",
        "model.add(Dense(units=2, activation='softmax'))\n",
        "\n",
        "model.compile(optimizer=Adam(learning_rate=0.0001),\n",
        "              loss=SparseCategoricalCrossentropy(), metrics=['accuracy'])\n",
        "\n",
        "X_train = X_train.values.reshape(X_train.shape[0], X_train.shape[1], 1)\n",
        "\n",
        "X_val = X_val.values.reshape(X_val.shape[0], X_val.shape[1], 1)\n",
        "\n",
        "X_test = X_test.values.reshape(X_test.shape[0], X_test.shape[1], 1)\n",
        "\n",
        "# X_train = np.reshape(X_train, (X_train.shape[0], 20))"
      ]
    },
    {
      "cell_type": "code",
      "execution_count": 97,
      "metadata": {
        "colab": {
          "base_uri": "https://localhost:8080/"
        },
        "id": "3wP94UzLwwqw",
        "outputId": "cabf842e-3405-41d1-cb9e-b3284da2b588"
      },
      "outputs": [
        {
          "output_type": "stream",
          "name": "stdout",
          "text": [
            "(54606, 20, 1)\n",
            "(17800, 20, 1)\n",
            "(18203, 20, 1)\n"
          ]
        }
      ],
      "source": [
        "print(X_train.shape)\n",
        "print(X_test.shape)\n",
        "print(X_val.shape)"
      ]
    },
    {
      "cell_type": "code",
      "execution_count": 106,
      "metadata": {
        "scrolled": false,
        "colab": {
          "base_uri": "https://localhost:8080/"
        },
        "id": "aS91ec59wwqw",
        "outputId": "8b60a3da-d1b2-49d8-8320-a5e77025c055"
      },
      "outputs": [
        {
          "output_type": "stream",
          "name": "stdout",
          "text": [
            "(54606, 20, 1)\n",
            "Epoch 1/50\n",
            "1707/1707 [==============================] - 55s 31ms/step - loss: 0.6128 - accuracy: 0.6212 - val_loss: 0.5855 - val_accuracy: 0.6489\n",
            "Epoch 2/50\n",
            "1707/1707 [==============================] - 49s 29ms/step - loss: 0.5934 - accuracy: 0.6356 - val_loss: 0.5832 - val_accuracy: 0.6587\n",
            "Epoch 3/50\n",
            "1707/1707 [==============================] - 52s 30ms/step - loss: 0.5823 - accuracy: 0.6563 - val_loss: 0.5782 - val_accuracy: 0.6726\n",
            "Epoch 4/50\n",
            "1707/1707 [==============================] - 50s 29ms/step - loss: 0.5707 - accuracy: 0.6747 - val_loss: 0.5575 - val_accuracy: 0.6925\n",
            "Epoch 5/50\n",
            "1707/1707 [==============================] - 50s 29ms/step - loss: 0.5643 - accuracy: 0.6826 - val_loss: 0.5502 - val_accuracy: 0.6991\n",
            "Epoch 6/50\n",
            "1707/1707 [==============================] - 47s 27ms/step - loss: 0.5594 - accuracy: 0.6882 - val_loss: 0.5461 - val_accuracy: 0.7013\n",
            "Epoch 7/50\n",
            "1707/1707 [==============================] - 49s 29ms/step - loss: 0.5561 - accuracy: 0.6911 - val_loss: 0.5470 - val_accuracy: 0.6979\n",
            "Epoch 8/50\n",
            "1707/1707 [==============================] - 48s 28ms/step - loss: 0.5538 - accuracy: 0.6942 - val_loss: 0.5456 - val_accuracy: 0.7047\n",
            "Epoch 9/50\n",
            "1707/1707 [==============================] - 50s 29ms/step - loss: 0.5525 - accuracy: 0.6969 - val_loss: 0.5409 - val_accuracy: 0.7061\n",
            "Epoch 10/50\n",
            "1707/1707 [==============================] - 47s 27ms/step - loss: 0.5511 - accuracy: 0.6979 - val_loss: 0.5460 - val_accuracy: 0.7010\n",
            "Epoch 11/50\n",
            "1707/1707 [==============================] - 48s 28ms/step - loss: 0.5490 - accuracy: 0.6994 - val_loss: 0.5409 - val_accuracy: 0.7091\n",
            "Epoch 12/50\n",
            "1707/1707 [==============================] - 48s 28ms/step - loss: 0.5475 - accuracy: 0.7007 - val_loss: 0.5407 - val_accuracy: 0.7087\n",
            "Epoch 13/50\n",
            "1707/1707 [==============================] - 49s 29ms/step - loss: 0.5466 - accuracy: 0.7022 - val_loss: 0.5390 - val_accuracy: 0.7086\n",
            "Epoch 14/50\n",
            "1707/1707 [==============================] - 48s 28ms/step - loss: 0.5445 - accuracy: 0.7035 - val_loss: 0.5355 - val_accuracy: 0.7125\n",
            "Epoch 15/50\n",
            "1707/1707 [==============================] - 48s 28ms/step - loss: 0.5433 - accuracy: 0.7047 - val_loss: 0.5369 - val_accuracy: 0.7105\n",
            "Epoch 16/50\n",
            "1707/1707 [==============================] - 46s 27ms/step - loss: 0.5420 - accuracy: 0.7065 - val_loss: 0.5387 - val_accuracy: 0.7130\n",
            "Epoch 17/50\n",
            "1707/1707 [==============================] - 51s 30ms/step - loss: 0.5403 - accuracy: 0.7075 - val_loss: 0.5345 - val_accuracy: 0.7147\n",
            "Epoch 18/50\n",
            "1707/1707 [==============================] - 52s 31ms/step - loss: 0.5393 - accuracy: 0.7074 - val_loss: 0.5306 - val_accuracy: 0.7157\n",
            "Epoch 19/50\n",
            "1707/1707 [==============================] - 49s 29ms/step - loss: 0.5389 - accuracy: 0.7076 - val_loss: 0.5360 - val_accuracy: 0.7153\n",
            "Epoch 20/50\n",
            "1707/1707 [==============================] - 48s 28ms/step - loss: 0.5363 - accuracy: 0.7100 - val_loss: 0.5327 - val_accuracy: 0.7107\n",
            "Epoch 21/50\n",
            "1707/1707 [==============================] - 49s 28ms/step - loss: 0.5351 - accuracy: 0.7092 - val_loss: 0.5289 - val_accuracy: 0.7150\n",
            "Epoch 22/50\n",
            "1707/1707 [==============================] - 49s 29ms/step - loss: 0.5345 - accuracy: 0.7118 - val_loss: 0.5286 - val_accuracy: 0.7148\n",
            "Epoch 23/50\n",
            "1707/1707 [==============================] - 47s 27ms/step - loss: 0.5309 - accuracy: 0.7160 - val_loss: 0.5301 - val_accuracy: 0.7165\n",
            "Epoch 24/50\n",
            "1707/1707 [==============================] - 49s 29ms/step - loss: 0.5301 - accuracy: 0.7181 - val_loss: 0.5210 - val_accuracy: 0.7255\n",
            "Epoch 25/50\n",
            "1707/1707 [==============================] - 48s 28ms/step - loss: 0.5273 - accuracy: 0.7208 - val_loss: 0.5190 - val_accuracy: 0.7261\n",
            "Epoch 26/50\n",
            "1707/1707 [==============================] - 46s 27ms/step - loss: 0.5258 - accuracy: 0.7207 - val_loss: 0.5194 - val_accuracy: 0.7267\n",
            "Epoch 27/50\n",
            "1707/1707 [==============================] - 50s 29ms/step - loss: 0.5241 - accuracy: 0.7236 - val_loss: 0.5212 - val_accuracy: 0.7277\n",
            "Epoch 28/50\n",
            "1707/1707 [==============================] - 48s 28ms/step - loss: 0.5234 - accuracy: 0.7237 - val_loss: 0.5189 - val_accuracy: 0.7292\n",
            "Epoch 29/50\n",
            "1707/1707 [==============================] - 47s 28ms/step - loss: 0.5221 - accuracy: 0.7248 - val_loss: 0.5170 - val_accuracy: 0.7305\n",
            "Epoch 30/50\n",
            "1707/1707 [==============================] - 50s 29ms/step - loss: 0.5205 - accuracy: 0.7269 - val_loss: 0.5150 - val_accuracy: 0.7336\n",
            "Epoch 31/50\n",
            "1707/1707 [==============================] - 47s 28ms/step - loss: 0.5200 - accuracy: 0.7270 - val_loss: 0.5158 - val_accuracy: 0.7303\n",
            "Epoch 32/50\n",
            "1707/1707 [==============================] - 47s 27ms/step - loss: 0.5197 - accuracy: 0.7255 - val_loss: 0.5147 - val_accuracy: 0.7341\n",
            "Epoch 33/50\n",
            "1707/1707 [==============================] - 49s 29ms/step - loss: 0.5185 - accuracy: 0.7272 - val_loss: 0.5199 - val_accuracy: 0.7268\n",
            "Epoch 34/50\n",
            "1707/1707 [==============================] - 49s 29ms/step - loss: 0.5165 - accuracy: 0.7288 - val_loss: 0.5172 - val_accuracy: 0.7277\n",
            "Epoch 35/50\n",
            "1707/1707 [==============================] - 49s 29ms/step - loss: 0.5171 - accuracy: 0.7281 - val_loss: 0.5218 - val_accuracy: 0.7334\n",
            "Epoch 36/50\n",
            "1707/1707 [==============================] - 49s 28ms/step - loss: 0.5163 - accuracy: 0.7293 - val_loss: 0.5188 - val_accuracy: 0.7298\n",
            "Epoch 37/50\n",
            "1707/1707 [==============================] - 53s 31ms/step - loss: 0.5160 - accuracy: 0.7298 - val_loss: 0.5179 - val_accuracy: 0.7297\n"
          ]
        }
      ],
      "source": [
        "from keras.callbacks import EarlyStopping\n",
        "print(X_train.shape)\n",
        "history = model.fit(X_train, y_train, epochs=50, batch_size=32,\n",
        "                    validation_data=(X_val, y_val),\n",
        "                    callbacks=[EarlyStopping(monitor='val_loss', patience=5)], verbose=1)"
      ]
    },
    {
      "cell_type": "code",
      "execution_count": 107,
      "metadata": {
        "colab": {
          "base_uri": "https://localhost:8080/"
        },
        "id": "JQNIK716wwqw",
        "outputId": "1efb7e12-f892-4333-d7e7-32b05eeed874"
      },
      "outputs": [
        {
          "output_type": "stream",
          "name": "stderr",
          "text": [
            "/usr/local/lib/python3.10/dist-packages/keras/src/engine/training.py:3103: UserWarning: You are saving your model as an HDF5 file via `model.save()`. This file format is considered legacy. We recommend using instead the native Keras format, e.g. `model.save('my_model.keras')`.\n",
            "  saving_api.save_model(\n"
          ]
        }
      ],
      "source": [
        "model.save('/content/drive/MyDrive/Colab Notebooks/FYP/Anomaly/1d_CNN/CNN1D_binary.h5')"
      ]
    },
    {
      "cell_type": "code",
      "execution_count": 108,
      "metadata": {
        "scrolled": true,
        "colab": {
          "base_uri": "https://localhost:8080/",
          "height": 472
        },
        "id": "qRcZIgG1wwqw",
        "outputId": "ac886542-bcbb-417f-826b-3f989cebc8c4"
      },
      "outputs": [
        {
          "output_type": "display_data",
          "data": {
            "text/plain": [
              "<Figure size 640x480 with 1 Axes>"
            ],
            "image/png": "[encoded data removed]"
          },
          "metadata": {}
        }
      ],
      "source": [
        "epochs = range(1, len(train_loss) + 1)\n",
        "plt.plot(epochs, train_loss, 'g', label='Training Loss')\n",
        "plt.plot(epochs, val_loss, 'b', label='Validation Loss')\n",
        "plt.title('CNN1D')\n",
        "plt.xlabel('Epochs')\n",
        "plt.ylabel('Loss')\n",
        "plt.legend()\n",
        "plt.show()\n"
      ]
    },
    {
      "cell_type": "code",
      "execution_count": 109,
      "metadata": {
        "colab": {
          "base_uri": "https://localhost:8080/",
          "height": 472
        },
        "id": "GIt4_-_8wwqw",
        "outputId": "6dd4f99a-4b13-4558-f791-aeb72ba92a6c"
      },
      "outputs": [
        {
          "output_type": "display_data",
          "data": {
            "text/plain": [
              "<Figure size 640x480 with 1 Axes>"
            ],
            "image/png": "[encoded data removed]"
          },
          "metadata": {}
        }
      ],
      "source": [
        "epochs = range(1, len(train_acc) + 1)  # This adjusts the range to match your data length\n",
        "plt.plot(epochs, train_acc, 'g', label='Training Accuracy')\n",
        "plt.plot(epochs, val_acc, 'b', label='Validation Accuracy')\n",
        "plt.title('CNN1D')\n",
        "plt.xlabel('Epochs')\n",
        "plt.ylabel('Accuracy')\n",
        "plt.legend()\n",
        "plt.show()\n"
      ]
    },
    {
      "cell_type": "code",
      "execution_count": 110,
      "metadata": {
        "colab": {
          "base_uri": "https://localhost:8080/"
        },
        "id": "NZCDalXtwwqw",
        "outputId": "10b7dfbb-1dd4-432c-b6ea-439f4d9ffcf5"
      },
      "outputs": [
        {
          "output_type": "stream",
          "name": "stdout",
          "text": [
            "557/557 [==============================] - 4s 7ms/step\n"
          ]
        }
      ],
      "source": [
        "y_pred = model.predict(X_test)\n",
        "\n",
        "y_pred_classes = np.argmax(y_pred, axis=1)"
      ]
    },
    {
      "cell_type": "code",
      "execution_count": 111,
      "metadata": {
        "colab": {
          "base_uri": "https://localhost:8080/"
        },
        "id": "-vOCrdZUwwqx",
        "outputId": "71c8c96d-1d4f-43a0-a9b7-4bf304e03e95"
      },
      "outputs": [
        {
          "output_type": "stream",
          "name": "stdout",
          "text": [
            "\n",
            "Testing Accuracy: 63.62\n",
            "\n",
            "Precision: 97.89\n",
            "Recall: 63.62\n",
            "F1-score: 76.20\n",
            "\n",
            "F1-score-m: 42.21\n",
            "\n"
          ]
        }
      ],
      "source": [
        "from sklearn.metrics import accuracy_score, precision_score, recall_score, f1_score\n",
        "print('\\nTesting Accuracy: {:.2f}\\n'.format(accuracy_score(y_test, y_pred_classes)*100))\n",
        "\n",
        "print('Precision: {:.2f}'.format(precision_score(y_test, y_pred_classes, average='weighted')*100))\n",
        "print('Recall: {:.2f}'.format(recall_score(y_test, y_pred_classes, average='weighted')*100))\n",
        "print('F1-score: {:.2f}\\n'.format(f1_score(y_test, y_pred_classes, average='weighted')*100))\n",
        "print('F1-score-m: {:.2f}\\n'.format(f1_score(y_test, y_pred_classes, average='macro')*100))"
      ]
    },
    {
      "cell_type": "code",
      "source": [
        "import seaborn as sns\n",
        "from sklearn.metrics import confusion_matrix\n",
        "\n",
        "cm = confusion_matrix(y_test, y_pred_classes)\n",
        "print(cm)"
      ],
      "metadata": {
        "colab": {
          "base_uri": "https://localhost:8080/"
        },
        "id": "P0DmFaIzQVZN",
        "outputId": "8e04eb44-b655-401c-97c7-e226f58cc1ce"
      },
      "execution_count": 112,
      "outputs": [
        {
          "output_type": "stream",
          "name": "stdout",
          "text": [
            "[[11080  6420]\n",
            " [   55   245]]\n"
          ]
        }
      ]
    },
    {
      "cell_type": "code",
      "source": [],
      "metadata": {
        "id": "v_temVEDQadX"
      },
      "execution_count": null,
      "outputs": []
    }
  ],
  "metadata": {
    "colab": {
      "provenance": [],
      "include_colab_link": true
    },
    "kernelspec": {
      "display_name": "Python 3",
      "language": "python",
      "name": "python3"
    },
    "language_info": {
      "codemirror_mode": {
        "name": "ipython",
        "version": 3
      },
      "file_extension": ".py",
      "mimetype": "text/x-python",
      "name": "python",
      "nbconvert_exporter": "python",
      "pygments_lexer": "ipython3",
      "version": "3.9.1"
    }
  },
  "nbformat": 4,
  "nbformat_minor": 0
}