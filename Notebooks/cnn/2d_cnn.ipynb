{
  "cells": [
    {
      "cell_type": "markdown",
      "metadata": {
        "id": "view-in-github",
        "colab_type": "text"
      },
      "source": [
        "<a href=\"https://colab.research.google.com/github/Blockchain-Framework/bitcoin-anomaly-analysis/blob/develop/Notebooks/cnn/2d_cnn.ipynb\" target=\"_parent\"><img src=\"https://colab.research.google.com/assets/colab-badge.svg\" alt=\"Open In Colab\"/></a>"
      ]
    },
    {
      "cell_type": "code",
      "source": [
        "from google.colab import drive\n",
        "drive.mount('/content/drive')"
      ],
      "metadata": {
        "colab": {
          "base_uri": "https://localhost:8080/"
        },
        "id": "oJGV7uL_xKhC",
        "outputId": "1e5d97c9-eef6-4884-a551-2835a59c6b7b"
      },
      "execution_count": 1,
      "outputs": [
        {
          "output_type": "stream",
          "name": "stdout",
          "text": [
            "Mounted at /content/drive\n"
          ]
        }
      ]
    },
    {
      "cell_type": "markdown",
      "metadata": {
        "id": "yXdDPVa-wwqk"
      },
      "source": [
        "## Importing Libraries"
      ]
    },
    {
      "cell_type": "code",
      "execution_count": 2,
      "metadata": {
        "id": "zp-enFhPlCf-"
      },
      "outputs": [],
      "source": [
        "import numpy as np\n",
        "import pandas as pd\n",
        "import tensorflow as tf\n",
        "from matplotlib import pyplot as plt\n",
        "import sklearn\n",
        "from sklearn.preprocessing import MinMaxScaler\n",
        "from tensorflow.keras import models, datasets, layers, Sequential\n",
        "from tensorflow.keras.layers import Conv2D, Input, Dropout, Activation, Dense, MaxPooling2D, Flatten, AveragePooling2D, LayerNormalization"
      ]
    },
    {
      "cell_type": "markdown",
      "metadata": {
        "id": "VKdde1d9wwqs"
      },
      "source": [
        "### Splitting Data\n"
      ]
    },
    {
      "cell_type": "code",
      "source": [
        "\n",
        "from sklearn import preprocessing\n",
        "from sklearn.model_selection import train_test_split"
      ],
      "metadata": {
        "id": "k8KGnWyQx_gR"
      },
      "execution_count": 3,
      "outputs": []
    },
    {
      "cell_type": "code",
      "execution_count": 4,
      "metadata": {
        "id": "zERxs2Dkwwqt"
      },
      "outputs": [],
      "source": [
        "# X_train_val, X_test, y_train_val, y_test = train_test_split(X, y, test_size=0.2, random_state=42, stratify=y)\n",
        "# X_train, X_val, y_train, y_val = train_test_split(X_train_val, y_train_val, test_size=0.25, random_state=42, stratify=y_train_val)"
      ]
    },
    {
      "cell_type": "code",
      "execution_count": 5,
      "metadata": {
        "scrolled": true,
        "id": "3NWGg8NHwwqt"
      },
      "outputs": [],
      "source": [
        "# y_train.head()"
      ]
    },
    {
      "cell_type": "code",
      "source": [
        "train = pd.read_csv('/content/drive/MyDrive/Colab Notebooks/FYP/Anomaly/bitcoin_imbalance_train_set.csv')\n",
        "test = pd.read_csv(\"/content/drive/MyDrive/Colab Notebooks/FYP/Anomaly/bitcoin_imbalance_test.csv\")"
      ],
      "metadata": {
        "id": "2S4KxTeOw8M_"
      },
      "execution_count": 130,
      "outputs": []
    },
    {
      "cell_type": "code",
      "source": [
        "# Split train dataset\n",
        "X_train = train.drop(columns=['label'])  # Drop the 'label' column for features\n",
        "y_train = train['label']  # Select the 'label' column for the target variable\n",
        "\n",
        "# Split test dataset\n",
        "X_test = test.drop(columns=['label'])  # Drop the 'label' column for features\n",
        "y_test = test['label']  # Select the 'label' column for the target variable"
      ],
      "metadata": {
        "id": "iDOAn2OBxnzC"
      },
      "execution_count": 131,
      "outputs": []
    },
    {
      "cell_type": "code",
      "source": [
        "# Convert multi-class to binary classification for the target variable\n",
        "y_train = y_train.apply(lambda x: 1 if x > 0 else 0)\n",
        "y_test = y_test.apply(lambda x: 1 if x > 0 else 0)"
      ],
      "metadata": {
        "id": "o5b2gIaN_1Hh"
      },
      "execution_count": 132,
      "outputs": []
    },
    {
      "cell_type": "code",
      "source": [
        "X_train, X_val, y_train, y_val = train_test_split(X_train, y_train, test_size=0.25, random_state=42, stratify=y_train)"
      ],
      "metadata": {
        "id": "-hOBowhgxsay"
      },
      "execution_count": 133,
      "outputs": []
    },
    {
      "cell_type": "markdown",
      "metadata": {
        "id": "QxPccQqIwwqt"
      },
      "source": [
        "### Features Extraction"
      ]
    },
    {
      "cell_type": "code",
      "execution_count": 40,
      "metadata": {
        "id": "NBc8inxfwwqt"
      },
      "outputs": [],
      "source": [
        "from sklearn.feature_selection import RFE\n",
        "from sklearn.ensemble import RandomForestClassifier\n",
        "from sklearn.model_selection import cross_val_score, KFold\n",
        "\n",
        "# forest = RandomForestClassifier()\n",
        "# _ = forest.fit(X_train, y_train)\n",
        "# print(forest.score(X_test, y_test))"
      ]
    },
    {
      "cell_type": "code",
      "source": [
        "# rfe = RFE(forest, n_features_to_select=20)\n",
        "\n",
        "# # Define 5-fold cross-validation object\n",
        "# cv = KFold(n_splits=5, shuffle=True, random_state=1)\n",
        "\n",
        "# # Perform RFE with 5-fold cross-validation\n",
        "# scores = cross_val_score(rfe, X_train, y_train, cv=cv)\n",
        "\n",
        "# # Print mean score and standard deviation\n",
        "# print('Accuracy: {:.3f} (+/- {:.3f})'.format(scores.mean(), scores.std()))"
      ],
      "metadata": {
        "id": "hEcIOh4rzIa5"
      },
      "execution_count": 41,
      "outputs": []
    },
    {
      "cell_type": "code",
      "execution_count": 42,
      "metadata": {
        "id": "X2u8ZePbwwqt"
      },
      "outputs": [],
      "source": [
        "# pd.DataFrame(\n",
        "#     zip(X_train.columns, abs(forest.feature_importances_)),\n",
        "#     columns=[\"feature\", \"weight\"],\n",
        "# ).sort_values(\"weight\").reset_index(drop=True)"
      ]
    },
    {
      "cell_type": "code",
      "execution_count": 43,
      "metadata": {
        "id": "qsuvAQ0iwwqu"
      },
      "outputs": [],
      "source": [
        "# from sklearn.feature_selection import RFECV\n",
        "# from sklearn.metrics import accuracy_score,precision_score, recall_score, f1_score\n",
        "# from sklearn.model_selection import cross_validate\n",
        "# # Init, fit\n",
        "# # scoring = ['accuracy', 'precision', 'recall', 'f1']\n",
        "# rfecv = RFECV(\n",
        "#     estimator=RandomForestClassifier(),\n",
        "#     min_features_to_select=20,\n",
        "#     n_jobs=-1,\n",
        "#     step=10,\n",
        "#     scoring='f1_macro',\n",
        "#     cv=5\n",
        "# )"
      ]
    },
    {
      "cell_type": "code",
      "execution_count": 44,
      "metadata": {
        "id": "3QRNAJEcwwqu"
      },
      "outputs": [],
      "source": [
        "# _ = rfecv.fit(X_train, y_train)"
      ]
    },
    {
      "cell_type": "code",
      "execution_count": 45,
      "metadata": {
        "scrolled": false,
        "id": "zqj2RfsYwwqu"
      },
      "outputs": [],
      "source": [
        "# print(X_train.columns[rfecv.get_support()])"
      ]
    },
    {
      "cell_type": "code",
      "execution_count": 46,
      "metadata": {
        "scrolled": false,
        "id": "88yBKikFwwqu"
      },
      "outputs": [],
      "source": [
        "# selected_features = X_train.columns[rfecv.get_support()]\n",
        "# # selected_features=selected_features.tolist()"
      ]
    },
    {
      "cell_type": "code",
      "source": [
        "# selected_features"
      ],
      "metadata": {
        "id": "_Ie6qKbwiIMh"
      },
      "execution_count": 47,
      "outputs": []
    },
    {
      "cell_type": "code",
      "execution_count": 48,
      "metadata": {
        "scrolled": true,
        "id": "Tb2NMEGywwqu"
      },
      "outputs": [],
      "source": [
        "# n=20\n",
        "# feature_importance = _.estimator_.feature_importances_  # or coef_\n",
        "# feature_importance_sorted = sorted(enumerate(feature_importance), key=lambda x: x[1])\n",
        "# top_n_idx = [idx for idx, _ in feature_importance_sorted[:n]]\n",
        "\n",
        "# top_64_features = X_train.columns[top_n_idx]\n",
        "# top_64_features = top_64_features.tolist()\n",
        "# top_64_features"
      ]
    },
    {
      "cell_type": "code",
      "execution_count": 49,
      "metadata": {
        "scrolled": false,
        "id": "YF7YRzvuwwqv"
      },
      "outputs": [],
      "source": [
        "# features_removed=(set(X_train.columns)-set(top_64_features))\n",
        "# features_removed"
      ]
    },
    {
      "cell_type": "code",
      "execution_count": 134,
      "metadata": {
        "id": "yPmF-UKZwwqv"
      },
      "outputs": [],
      "source": [
        "features_to_be_dropped=['input_output_max_ratio',\n",
        " 'input_output_maximum_transaction_value_diff',\n",
        " 'input_output_mean_ratio',\n",
        " 'input_output_min_ratio',\n",
        " 'input_output_minimum_transaction_value_diff',\n",
        " 'input_output_percentile_25_diff',\n",
        " 'input_output_percentile_75_diff',\n",
        " 'input_output_time_diff_max_min_diff',\n",
        " 'input_output_transaction_count_ratio',\n",
        " 'input_output_usd_max_ratio',\n",
        " 'input_output_usd_min_ratio',\n",
        " 'input_output_usd_percentile_25_diff',\n",
        " 'input_output_usd_percentile_75_diff',\n",
        " 'input_range_mean_ratio',\n",
        " 'input_spending_value_usd_25th_percentile',\n",
        " 'input_spending_value_usd_75th_percentile',\n",
        " 'input_spending_value_usd_maximum',\n",
        " 'input_spending_value_usd_mean',\n",
        " 'input_spending_value_usd_median',\n",
        " 'input_spending_value_usd_minimum',\n",
        " 'input_time_diff_25th_percentile',\n",
        " 'input_time_diff_median',\n",
        " 'input_time_diff_minimum',\n",
        " 'input_time_diff_range',\n",
        " 'input_value_25th_percentile',\n",
        " 'input_value_75th_percentile',\n",
        " 'input_value_maximum',\n",
        " 'input_value_mean',\n",
        " 'input_value_median',\n",
        " 'input_value_minimum',\n",
        " 'output_range_mean_ratio',\n",
        " 'output_time_diff_75th_percentile',\n",
        " 'output_time_diff_range',\n",
        " 'output_value_maximum',\n",
        " 'output_value_mean',\n",
        " 'output_value_median',\n",
        " 'output_value_minimum',\n",
        " 'output_value_usd_25th_percentile',\n",
        " 'output_value_usd_maximum',\n",
        " 'output_value_usd_mean',\n",
        " 'output_value_usd_median',\n",
        " 'output_value_usd_minimum']"
      ]
    },
    {
      "cell_type": "code",
      "execution_count": 135,
      "metadata": {
        "id": "ZmoZ_vlIwwqv"
      },
      "outputs": [],
      "source": [
        "X_train=X_train.drop(features_to_be_dropped, axis=1)\n",
        "X_test=X_test.drop(features_to_be_dropped, axis=1)\n",
        "X_val=X_val.drop(features_to_be_dropped, axis=1)"
      ]
    },
    {
      "cell_type": "markdown",
      "metadata": {
        "id": "KZpWp9ngwwqv"
      },
      "source": [
        "## Model Training"
      ]
    },
    {
      "cell_type": "markdown",
      "metadata": {
        "id": "TSUag-M5wwqv"
      },
      "source": [
        "### Multiclass Classification"
      ]
    },
    {
      "cell_type": "code",
      "execution_count": 136,
      "metadata": {
        "colab": {
          "base_uri": "https://localhost:8080/"
        },
        "id": "3wP94UzLwwqw",
        "outputId": "b36e489f-c495-4a30-c4e6-c8eb45d61c5d"
      },
      "outputs": [
        {
          "output_type": "stream",
          "name": "stdout",
          "text": [
            "(54606, 20)\n",
            "(17800, 20)\n",
            "(18203, 20)\n"
          ]
        }
      ],
      "source": [
        "print(X_train.shape)\n",
        "print(X_test.shape)\n",
        "print(X_val.shape)"
      ]
    },
    {
      "cell_type": "code",
      "execution_count": 137,
      "metadata": {
        "id": "A2uyyKsDeLv6"
      },
      "outputs": [],
      "source": [
        "from keras.models import Sequential\n",
        "from keras.layers import Conv1D, MaxPooling1D, Flatten, Dense, Dropout, LayerNormalization\n",
        "from keras.optimizers import Adam\n",
        "from keras.losses import SparseCategoricalCrossentropy\n",
        "\n",
        "# cnn2d = Sequential()\n",
        "# cnn2d.add(Conv2D(filters=32, kernel_size=(5,5), activation='relu', padding='same', input_shape=(5, 4, 1)))\n",
        "# cnn2d.add(LayerNormalization())\n",
        "# cnn2d.add(AveragePooling2D())\n",
        "# cnn2d.add(layers.SpatialDropout2D(0.05))\n",
        "# cnn2d.add(Conv2D(filters=64, kernel_size=(5,5), activation='relu', padding='same'))\n",
        "# cnn2d.add(LayerNormalization())\n",
        "# cnn2d.add(AveragePooling2D())\n",
        "# cnn2d.add(layers.SpatialDropout2D(0.05))\n",
        "# cnn2d.add(Conv2D(filters=128, kernel_size=(5,5), activation='relu', padding='same'))\n",
        "# cnn2d.add(LayerNormalization())\n",
        "# cnn2d.add(AveragePooling2D())\n",
        "# cnn2d.add(layers.SpatialDropout2D(0.05))\n",
        "# cnn2d.add(Conv2D(filters=256, kernel_size=(5,5), activation='relu', padding='same'))\n",
        "# cnn2d.add(LayerNormalization())\n",
        "# cnn2d.add(layers.SpatialDropout2D(0.05))\n",
        "# cnn2d.add(Flatten())\n",
        "# cnn2d.add(Dense(512, activation='relu'))\n",
        "# cnn2d.add(Dense(units=17, activation='softmax'))\n",
        "\n",
        "# cnn2d.compile(optimizer=Adam(learning_rate=0.0001),\n",
        "#               loss=SparseCategoricalCrossentropy(), metrics=['accuracy'])\n",
        "\n",
        "from keras.models import Sequential\n",
        "from keras.layers import Conv2D, LayerNormalization, AveragePooling2D, SpatialDropout2D, Flatten, Dense\n",
        "from keras.optimizers import Adam\n",
        "from keras.losses import SparseCategoricalCrossentropy\n",
        "\n",
        "cnn2d = Sequential([\n",
        "    # Input layer\n",
        "    Conv2D(filters=32, kernel_size=(3, 3), activation='relu', padding='same', input_shape=(5, 4, 1)),\n",
        "    LayerNormalization(),\n",
        "\n",
        "    # Pooling layer\n",
        "    AveragePooling2D(pool_size=(2, 2), strides=(2, 2), padding='same'),\n",
        "    SpatialDropout2D(0.05),\n",
        "\n",
        "    # Second Convolutional layer, adjusted filters and kernel size\n",
        "    Conv2D(filters=64, kernel_size=(3, 3), activation='relu', padding='same'),\n",
        "    LayerNormalization(),\n",
        "    # Adjusted to ensure the model does not reduce dimensionality too quickly\n",
        "    AveragePooling2D(pool_size=(2, 2), padding='same'),\n",
        "    SpatialDropout2D(0.05),\n",
        "\n",
        "    # Flatten to feed into a dense layer\n",
        "    Flatten(),\n",
        "\n",
        "    # Dense layer\n",
        "    Dense(128, activation='relu'),\n",
        "    Dense(units=2, activation='softmax')  # Output layer\n",
        "])\n",
        "\n",
        "cnn2d.compile(optimizer=Adam(learning_rate=0.0001),\n",
        "              loss=SparseCategoricalCrossentropy(), metrics=['accuracy'])\n",
        "\n",
        "\n",
        "\n",
        "# X_train = np.reshape(X_train, (X_train.shape[0], 64))"
      ]
    },
    {
      "cell_type": "code",
      "source": [
        "X_train = X_train.values.reshape(X_train.shape[0], 5, 4, 1)\n",
        "\n",
        "X_val = X_val.values.reshape(X_val.shape[0],  5, 4, 1)\n",
        "\n",
        "X_test = X_test.values.reshape(X_test.shape[0],  5, 4, 1)\n",
        "\n",
        "# X_train = np.reshape(X_train, (X_train.shape[0], 64))"
      ],
      "metadata": {
        "id": "PoGTVemCFlvr"
      },
      "execution_count": 138,
      "outputs": []
    },
    {
      "cell_type": "code",
      "execution_count": 139,
      "metadata": {
        "id": "lJpav46fwwqz",
        "outputId": "20a1ecb1-8fd2-433b-b98a-cdfb5aa1273e",
        "colab": {
          "base_uri": "https://localhost:8080/"
        }
      },
      "outputs": [
        {
          "output_type": "stream",
          "name": "stdout",
          "text": [
            "(54606, 5, 4, 1)\n",
            "(17800, 5, 4, 1)\n",
            "(18203, 5, 4, 1)\n"
          ]
        }
      ],
      "source": [
        "print(X_train.shape)\n",
        "print(X_test.shape)\n",
        "print(X_val.shape)"
      ]
    },
    {
      "cell_type": "code",
      "execution_count": 140,
      "metadata": {
        "scrolled": true,
        "id": "A-0uR5dHwwqz",
        "outputId": "ac5a7452-eeb8-4793-9db9-d730299db54d",
        "colab": {
          "base_uri": "https://localhost:8080/"
        }
      },
      "outputs": [
        {
          "output_type": "stream",
          "name": "stdout",
          "text": [
            "(54606, 5, 4, 1)\n",
            "Epoch 1/25\n",
            "1707/1707 [==============================] - 14s 7ms/step - loss: 0.5987 - accuracy: 0.6415 - val_loss: 0.5673 - val_accuracy: 0.6833\n",
            "Epoch 2/25\n",
            "1707/1707 [==============================] - 10s 6ms/step - loss: 0.5743 - accuracy: 0.6720 - val_loss: 0.5637 - val_accuracy: 0.6886\n",
            "Epoch 3/25\n",
            "1707/1707 [==============================] - 12s 7ms/step - loss: 0.5684 - accuracy: 0.6811 - val_loss: 0.5673 - val_accuracy: 0.6836\n",
            "Epoch 4/25\n",
            "1707/1707 [==============================] - 10s 6ms/step - loss: 0.5640 - accuracy: 0.6857 - val_loss: 0.5565 - val_accuracy: 0.6927\n",
            "Epoch 5/25\n",
            "1707/1707 [==============================] - 10s 6ms/step - loss: 0.5619 - accuracy: 0.6888 - val_loss: 0.5513 - val_accuracy: 0.7002\n",
            "Epoch 6/25\n",
            "1707/1707 [==============================] - 10s 6ms/step - loss: 0.5597 - accuracy: 0.6912 - val_loss: 0.5496 - val_accuracy: 0.7033\n",
            "Epoch 7/25\n",
            "1707/1707 [==============================] - 12s 7ms/step - loss: 0.5582 - accuracy: 0.6915 - val_loss: 0.5511 - val_accuracy: 0.6955\n",
            "Epoch 8/25\n",
            "1707/1707 [==============================] - 12s 7ms/step - loss: 0.5573 - accuracy: 0.6918 - val_loss: 0.5485 - val_accuracy: 0.7045\n",
            "Epoch 9/25\n",
            "1707/1707 [==============================] - 12s 7ms/step - loss: 0.5559 - accuracy: 0.6941 - val_loss: 0.5488 - val_accuracy: 0.7017\n",
            "Epoch 10/25\n",
            "1707/1707 [==============================] - 10s 6ms/step - loss: 0.5548 - accuracy: 0.6945 - val_loss: 0.5478 - val_accuracy: 0.7015\n",
            "Epoch 11/25\n",
            "1707/1707 [==============================] - 10s 6ms/step - loss: 0.5543 - accuracy: 0.6948 - val_loss: 0.5449 - val_accuracy: 0.7001\n",
            "Epoch 12/25\n",
            "1707/1707 [==============================] - 10s 6ms/step - loss: 0.5533 - accuracy: 0.6958 - val_loss: 0.5485 - val_accuracy: 0.6983\n",
            "Epoch 13/25\n",
            "1707/1707 [==============================] - 10s 6ms/step - loss: 0.5525 - accuracy: 0.6961 - val_loss: 0.5461 - val_accuracy: 0.7022\n",
            "Epoch 14/25\n",
            "1707/1707 [==============================] - 12s 7ms/step - loss: 0.5520 - accuracy: 0.6968 - val_loss: 0.5444 - val_accuracy: 0.7029\n",
            "Epoch 15/25\n",
            "1707/1707 [==============================] - 10s 6ms/step - loss: 0.5510 - accuracy: 0.6964 - val_loss: 0.5441 - val_accuracy: 0.6996\n",
            "Epoch 16/25\n",
            "1707/1707 [==============================] - 10s 6ms/step - loss: 0.5503 - accuracy: 0.6976 - val_loss: 0.5429 - val_accuracy: 0.7055\n",
            "Epoch 17/25\n",
            "1707/1707 [==============================] - 11s 6ms/step - loss: 0.5499 - accuracy: 0.6985 - val_loss: 0.5421 - val_accuracy: 0.7025\n",
            "Epoch 18/25\n",
            "1707/1707 [==============================] - 9s 6ms/step - loss: 0.5496 - accuracy: 0.6975 - val_loss: 0.5420 - val_accuracy: 0.7031\n",
            "Epoch 19/25\n",
            "1707/1707 [==============================] - 10s 6ms/step - loss: 0.5491 - accuracy: 0.6982 - val_loss: 0.5411 - val_accuracy: 0.7048\n",
            "Epoch 20/25\n",
            "1707/1707 [==============================] - 12s 7ms/step - loss: 0.5482 - accuracy: 0.6991 - val_loss: 0.5414 - val_accuracy: 0.7050\n",
            "Epoch 21/25\n",
            "1707/1707 [==============================] - 11s 6ms/step - loss: 0.5480 - accuracy: 0.6986 - val_loss: 0.5405 - val_accuracy: 0.7052\n",
            "Epoch 22/25\n",
            "1707/1707 [==============================] - 12s 7ms/step - loss: 0.5469 - accuracy: 0.6996 - val_loss: 0.5420 - val_accuracy: 0.7036\n",
            "Epoch 23/25\n",
            "1707/1707 [==============================] - 10s 6ms/step - loss: 0.5469 - accuracy: 0.6994 - val_loss: 0.5405 - val_accuracy: 0.7014\n",
            "Epoch 24/25\n",
            "1707/1707 [==============================] - 11s 6ms/step - loss: 0.5467 - accuracy: 0.6989 - val_loss: 0.5392 - val_accuracy: 0.7020\n",
            "Epoch 25/25\n",
            "1707/1707 [==============================] - 11s 6ms/step - loss: 0.5458 - accuracy: 0.6992 - val_loss: 0.5386 - val_accuracy: 0.7076\n"
          ]
        }
      ],
      "source": [
        "from keras.callbacks import EarlyStopping\n",
        "\n",
        "print(X_train.shape)\n",
        "history = cnn2d.fit(X_train, y_train, epochs=25, validation_data=(X_val, y_val),\n",
        "            callbacks=[EarlyStopping(monitor='val_loss', patience=5)], verbose=1)"
      ]
    },
    {
      "cell_type": "code",
      "execution_count": 142,
      "metadata": {
        "id": "t9a633cbwwqz"
      },
      "outputs": [],
      "source": [
        "cnn2d.save('/content/drive/MyDrive/Colab Notebooks/FYP/Anomaly/1d_CNN/CNN2D_binary.h5')"
      ]
    },
    {
      "cell_type": "code",
      "execution_count": 143,
      "metadata": {
        "id": "NRkHogLkwwqz",
        "outputId": "0d3db407-1063-48f6-fc8c-0728fb4ac74a",
        "colab": {
          "base_uri": "https://localhost:8080/",
          "height": 472
        }
      },
      "outputs": [
        {
          "output_type": "display_data",
          "data": {
            "text/plain": [
              "<Figure size 640x480 with 1 Axes>"
            ],
            "image/png": "[encoded data removed]"
          },
          "metadata": {}
        }
      ],
      "source": [
        "train_loss = history.history['loss']\n",
        "val_loss = history.history['val_loss']\n",
        "epochs = range(1, 26)\n",
        "plt.plot(epochs, train_loss, 'g', label='Training Loss')\n",
        "plt.plot(epochs, val_loss, 'b', label='Validation Loss')\n",
        "plt.title('CNN2D')\n",
        "plt.xlabel('Epochs')\n",
        "plt.ylabel('Loss')\n",
        "plt.legend()\n",
        "plt.show()"
      ]
    },
    {
      "cell_type": "code",
      "execution_count": 144,
      "metadata": {
        "id": "p4giL8UUwwq0",
        "outputId": "23eff414-a0be-43e9-e48d-3057ce3e3985",
        "colab": {
          "base_uri": "https://localhost:8080/",
          "height": 472
        }
      },
      "outputs": [
        {
          "output_type": "display_data",
          "data": {
            "text/plain": [
              "<Figure size 640x480 with 1 Axes>"
            ],
            "image/png": "[encoded data removed]"
          },
          "metadata": {}
        }
      ],
      "source": [
        "train_acc = history.history['accuracy']\n",
        "val_acc = history.history['val_accuracy']\n",
        "epochs = range(1, 26)\n",
        "plt.plot(epochs, train_acc, 'g', label='Training Accuracy')\n",
        "plt.plot(epochs, val_acc, 'b', label='Validation Accuracy')\n",
        "plt.title('CNN2D')\n",
        "plt.xlabel('Epochs')\n",
        "plt.ylabel('Accuracy')\n",
        "plt.legend()\n",
        "plt.show()"
      ]
    },
    {
      "cell_type": "code",
      "execution_count": 145,
      "metadata": {
        "id": "ko7w9yGawwq0",
        "outputId": "b409db9c-dd2c-4734-a0bf-dbf5a0a18d5f",
        "colab": {
          "base_uri": "https://localhost:8080/"
        }
      },
      "outputs": [
        {
          "output_type": "stream",
          "name": "stdout",
          "text": [
            "557/557 [==============================] - 1s 2ms/step\n"
          ]
        }
      ],
      "source": [
        "y_pred = cnn2d.predict(X_test)\n",
        "\n",
        "y_pred_classes = np.argmax(y_pred, axis=1)"
      ]
    },
    {
      "cell_type": "code",
      "source": [
        "from sklearn.feature_selection import RFECV\n",
        "from sklearn.metrics import accuracy_score,precision_score, recall_score, f1_score\n",
        "from sklearn.model_selection import cross_validate"
      ],
      "metadata": {
        "id": "oQ7h_adK0zvV"
      },
      "execution_count": 146,
      "outputs": []
    },
    {
      "cell_type": "code",
      "execution_count": 147,
      "metadata": {
        "id": "Ex6ZhANHwwq0",
        "outputId": "b01c2587-0b20-4fc0-f52e-f8b7622ae79f",
        "colab": {
          "base_uri": "https://localhost:8080/"
        }
      },
      "outputs": [
        {
          "output_type": "stream",
          "name": "stdout",
          "text": [
            "\n",
            "Testing Accuracy: 58.71\n",
            "\n",
            "Precision: 97.82\n",
            "Recall: 58.71\n",
            "F1-score-w: 72.39\n",
            "\n",
            "F1-score-m: 39.86\n",
            "\n"
          ]
        }
      ],
      "source": [
        "print('\\nTesting Accuracy: {:.2f}\\n'.format(accuracy_score(y_test, y_pred_classes)*100))\n",
        "\n",
        "print('Precision: {:.2f}'.format(precision_score(y_test, y_pred_classes, average='weighted')*100))\n",
        "print('Recall: {:.2f}'.format(recall_score(y_test, y_pred_classes, average='weighted')*100))\n",
        "print('F1-score-w: {:.2f}\\n'.format(f1_score(y_test, y_pred_classes, average='weighted')*100))\n",
        "print('F1-score-m: {:.2f}\\n'.format(f1_score(y_test, y_pred_classes, average='macro')*100))"
      ]
    },
    {
      "cell_type": "code",
      "source": [
        "import seaborn as sns\n",
        "from sklearn.metrics import confusion_matrix\n",
        "\n",
        "cm = confusion_matrix(y_test, y_pred_classes)\n",
        "print(cm)"
      ],
      "metadata": {
        "colab": {
          "base_uri": "https://localhost:8080/"
        },
        "id": "T1EaiFcG4V8F",
        "outputId": "e61f77ae-2e6d-47d6-dc3a-0bf7457d512a"
      },
      "execution_count": 148,
      "outputs": [
        {
          "output_type": "stream",
          "name": "stdout",
          "text": [
            "[[10207  7293]\n",
            " [   57   243]]\n"
          ]
        }
      ]
    },
    {
      "cell_type": "code",
      "execution_count": null,
      "metadata": {
        "id": "dyLGjNMxwwq8"
      },
      "outputs": [],
      "source": []
    }
  ],
  "metadata": {
    "colab": {
      "provenance": [],
      "gpuType": "T4",
      "include_colab_link": true
    },
    "kernelspec": {
      "display_name": "Python 3",
      "name": "python3"
    },
    "language_info": {
      "codemirror_mode": {
        "name": "ipython",
        "version": 3
      },
      "file_extension": ".py",
      "mimetype": "text/x-python",
      "name": "python",
      "nbconvert_exporter": "python",
      "pygments_lexer": "ipython3",
      "version": "3.9.1"
    },
    "accelerator": "GPU"
  },
  "nbformat": 4,
  "nbformat_minor": 0
}