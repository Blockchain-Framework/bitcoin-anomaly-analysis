{
 "cells": [
  {
   "cell_type": "code",
   "execution_count": 1,
   "metadata": {},
   "outputs": [
    {
     "name": "stderr",
     "output_type": "stream",
     "text": [
      "/home/dilusha/anaconda3/lib/python3.9/site-packages/xgboost/compat.py:36: FutureWarning: pandas.Int64Index is deprecated and will be removed from pandas in a future version. Use pandas.Index with the appropriate dtype instead.\n",
      "  from pandas import MultiIndex, Int64Index\n"
     ]
    }
   ],
   "source": [
    "import pandas as pd\n",
    "import numpy as np\n",
    "import seaborn as sn\n",
    "import matplotlib.pyplot as plt\n",
    "from sklearn.preprocessing import LabelEncoder\n",
    "from sklearn.decomposition import PCA\n",
    "from sklearn.preprocessing import StandardScaler\n",
    "import matplotlib.pyplot as plt\n",
    "\n",
    "\n",
    "from sklearn.model_selection import train_test_split\n",
    "from sklearn.preprocessing import StandardScaler\n",
    "from sklearn.neighbors import KNeighborsClassifier\n",
    "from sklearn.tree import DecisionTreeClassifier\n",
    "from sklearn.ensemble import RandomForestClassifier\n",
    "from sklearn.neural_network import MLPClassifier\n",
    "from xgboost import XGBClassifier\n",
    "from sklearn.metrics import accuracy_score"
   ]
  },
  {
   "cell_type": "code",
   "execution_count": 2,
   "metadata": {},
   "outputs": [],
   "source": [
    "df = pd.read_csv('BABD-13.csv')"
   ]
  },
  {
   "cell_type": "code",
   "execution_count": 3,
   "metadata": {},
   "outputs": [
    {
     "data": {
      "text/plain": [
       "3     0.551003\n",
       "6     0.193323\n",
       "1     0.168271\n",
       "2     0.025458\n",
       "11    0.022797\n",
       "5     0.017098\n",
       "0     0.015953\n",
       "10    0.002902\n",
       "12    0.002759\n",
       "4     0.000331\n",
       "7     0.000050\n",
       "8     0.000029\n",
       "9     0.000028\n",
       "Name: label, dtype: float64"
      ]
     },
     "execution_count": 3,
     "metadata": {},
     "output_type": "execute_result"
    }
   ],
   "source": [
    "(df.label.value_counts() / df.shape[0])"
   ]
  },
  {
   "cell_type": "code",
   "execution_count": 4,
   "metadata": {},
   "outputs": [],
   "source": [
    "data = df.copy()"
   ]
  },
  {
   "attachments": {},
   "cell_type": "markdown",
   "metadata": {},
   "source": [
    "0 - Blackmail: This includes ransomware, sextortion, and scams where victims are threatened or deceived to pay a certain amount of cryptocurrency to specific addresses.\n",
    "1 - Cyber-Security Service: Providers offer services like payment gateways, VPNs, etc., and accept only cryptocurrency as payment.\n",
    "2 - Darknet Market: Markets on the darknet where illegal items and services are traded using cryptocurrencies.\n",
    "3 - Centralized Exchange: Intermediaries that allow cryptocurrency trading and swaps between cryptocurrency and fiat.\n",
    "4 - P2P Financial Infrastructure Service: P2P financial activities conducted solely by cryptocurrency.\n",
    "5 - P2P Financial Service: Services that reward users in cryptocurrency for completing specific tasks.\n",
    "6 - Gambling: Casino games where wagers are made using cryptocurrencies.\n",
    "7 - Government Criminal Blacklist: Addresses suspected or confirmed to be involved in criminal activities.\n",
    "8 - Money Laundering: Trading dirty cryptocurrency in complicated ways to make it hard to trace.\n",
    "9 - Ponzi Scheme: Schemes where early investors are paid using the investments of newer participants.\n",
    "10 - Mining Pool: Groups of miners who pool their computational resources to increase the chances of finding a new block and earning cryptocurrency rewards.\n",
    "11 - Tumbler: Services that increase the anonymity of cryptocurrency transactions.\n",
    "12 - Individual Wallet: Wallets owned by ordinary people for everyday transactions."
   ]
  },
  {
   "cell_type": "code",
   "execution_count": 5,
   "metadata": {},
   "outputs": [],
   "source": [
    "# Define the categories\n",
    "categories = [\n",
    "    0,\n",
    "    1,\n",
    "    2,\n",
    "    3,\n",
    "    4,\n",
    "    5,\n",
    "    6,\n",
    "    7,\n",
    "    8,\n",
    "    9,\n",
    "    10,\n",
    "    11,\n",
    "    12\n",
    "]\n",
    "\n",
    "# Define the fraud and scam labels\n",
    "fraud_and_scam_labels = [\n",
    "    0,\n",
    "    2,\n",
    "    7,\n",
    "    8,\n",
    "    9,\n",
    "    11\n",
    "]\n",
    "\n",
    "label_map = {category: 1 if category in fraud_and_scam_labels else 0 for category in categories}\n",
    "\n",
    "\n"
   ]
  },
  {
   "cell_type": "code",
   "execution_count": 10,
   "metadata": {},
   "outputs": [
    {
     "data": {
      "text/html": [
       "<div>\n",
       "<style scoped>\n",
       "    .dataframe tbody tr th:only-of-type {\n",
       "        vertical-align: middle;\n",
       "    }\n",
       "\n",
       "    .dataframe tbody tr th {\n",
       "        vertical-align: top;\n",
       "    }\n",
       "\n",
       "    .dataframe thead th {\n",
       "        text-align: right;\n",
       "    }\n",
       "</style>\n",
       "<table border=\"1\" class=\"dataframe\">\n",
       "  <thead>\n",
       "    <tr style=\"text-align: right;\">\n",
       "      <th></th>\n",
       "      <th>account</th>\n",
       "      <th>SW</th>\n",
       "      <th>PAIa11-1</th>\n",
       "      <th>PAIa11-2</th>\n",
       "      <th>PAIa12</th>\n",
       "      <th>PAIa13</th>\n",
       "      <th>PAIa14-1</th>\n",
       "      <th>PAIa14-2</th>\n",
       "      <th>PAIa14-3</th>\n",
       "      <th>PAIa14-4</th>\n",
       "      <th>...</th>\n",
       "      <th>S2-3</th>\n",
       "      <th>S3</th>\n",
       "      <th>S4</th>\n",
       "      <th>S5</th>\n",
       "      <th>S6</th>\n",
       "      <th>S7</th>\n",
       "      <th>S8</th>\n",
       "      <th>S9</th>\n",
       "      <th>label</th>\n",
       "      <th>bin_label</th>\n",
       "    </tr>\n",
       "  </thead>\n",
       "  <tbody>\n",
       "    <tr>\n",
       "      <th>0</th>\n",
       "      <td>13AM4VW2dhxYgXeQepoHkHSQuy6NgaEb94</td>\n",
       "      <td>SA</td>\n",
       "      <td>0.024182</td>\n",
       "      <td>0.000000</td>\n",
       "      <td>-0.024182</td>\n",
       "      <td>0.0</td>\n",
       "      <td>0.001000</td>\n",
       "      <td>0.021682</td>\n",
       "      <td>0.000000</td>\n",
       "      <td>0.000000</td>\n",
       "      <td>...</td>\n",
       "      <td>2725</td>\n",
       "      <td>-0.294983</td>\n",
       "      <td>0.00000</td>\n",
       "      <td>1.999223</td>\n",
       "      <td>3</td>\n",
       "      <td>0.000000</td>\n",
       "      <td>0.000247</td>\n",
       "      <td>0.000333</td>\n",
       "      <td>0</td>\n",
       "      <td>1</td>\n",
       "    </tr>\n",
       "    <tr>\n",
       "      <th>1</th>\n",
       "      <td>12t9YDPgwueZ9NyMgw519p7AA8isjr6SMw</td>\n",
       "      <td>SA</td>\n",
       "      <td>0.217012</td>\n",
       "      <td>0.000000</td>\n",
       "      <td>-0.217012</td>\n",
       "      <td>0.0</td>\n",
       "      <td>0.000005</td>\n",
       "      <td>0.037723</td>\n",
       "      <td>0.000000</td>\n",
       "      <td>0.000000</td>\n",
       "      <td>...</td>\n",
       "      <td>95</td>\n",
       "      <td>-0.161792</td>\n",
       "      <td>0.00000</td>\n",
       "      <td>1.442318</td>\n",
       "      <td>2</td>\n",
       "      <td>0.000000</td>\n",
       "      <td>0.022733</td>\n",
       "      <td>0.000333</td>\n",
       "      <td>0</td>\n",
       "      <td>1</td>\n",
       "    </tr>\n",
       "    <tr>\n",
       "      <th>2</th>\n",
       "      <td>115p7UMMngoj1pMvkpHijcRdfJNXj6LrLn</td>\n",
       "      <td>SA</td>\n",
       "      <td>0.067596</td>\n",
       "      <td>0.000000</td>\n",
       "      <td>-0.067596</td>\n",
       "      <td>0.0</td>\n",
       "      <td>0.000278</td>\n",
       "      <td>0.037200</td>\n",
       "      <td>0.000000</td>\n",
       "      <td>0.000000</td>\n",
       "      <td>...</td>\n",
       "      <td>1751</td>\n",
       "      <td>-0.211953</td>\n",
       "      <td>0.00000</td>\n",
       "      <td>2.000842</td>\n",
       "      <td>3</td>\n",
       "      <td>0.000000</td>\n",
       "      <td>0.000309</td>\n",
       "      <td>0.000341</td>\n",
       "      <td>0</td>\n",
       "      <td>1</td>\n",
       "    </tr>\n",
       "    <tr>\n",
       "      <th>3</th>\n",
       "      <td>1NXTgfGprVktuokv3ZLhGCPCjcKjXbswAM</td>\n",
       "      <td>SA</td>\n",
       "      <td>0.000095</td>\n",
       "      <td>0.000000</td>\n",
       "      <td>-0.000095</td>\n",
       "      <td>0.0</td>\n",
       "      <td>0.000041</td>\n",
       "      <td>0.000054</td>\n",
       "      <td>0.000000</td>\n",
       "      <td>0.000000</td>\n",
       "      <td>...</td>\n",
       "      <td>2</td>\n",
       "      <td>-0.081717</td>\n",
       "      <td>0.00000</td>\n",
       "      <td>2.000000</td>\n",
       "      <td>4</td>\n",
       "      <td>0.000000</td>\n",
       "      <td>0.174270</td>\n",
       "      <td>0.083333</td>\n",
       "      <td>0</td>\n",
       "      <td>1</td>\n",
       "    </tr>\n",
       "    <tr>\n",
       "      <th>4</th>\n",
       "      <td>15RLWdVnY5n1n7mTvU1zjg67wt86dhYqNj</td>\n",
       "      <td>SA</td>\n",
       "      <td>25.000993</td>\n",
       "      <td>25.000993</td>\n",
       "      <td>0.000000</td>\n",
       "      <td>1.0</td>\n",
       "      <td>25.000993</td>\n",
       "      <td>25.000993</td>\n",
       "      <td>25.000993</td>\n",
       "      <td>25.000993</td>\n",
       "      <td>...</td>\n",
       "      <td>11</td>\n",
       "      <td>-0.023318</td>\n",
       "      <td>0.06006</td>\n",
       "      <td>3.524528</td>\n",
       "      <td>8</td>\n",
       "      <td>0.307692</td>\n",
       "      <td>0.046156</td>\n",
       "      <td>0.027027</td>\n",
       "      <td>0</td>\n",
       "      <td>1</td>\n",
       "    </tr>\n",
       "  </tbody>\n",
       "</table>\n",
       "<p>5 rows × 152 columns</p>\n",
       "</div>"
      ],
      "text/plain": [
       "                              account  SW   PAIa11-1   PAIa11-2    PAIa12  \\\n",
       "0  13AM4VW2dhxYgXeQepoHkHSQuy6NgaEb94  SA   0.024182   0.000000 -0.024182   \n",
       "1  12t9YDPgwueZ9NyMgw519p7AA8isjr6SMw  SA   0.217012   0.000000 -0.217012   \n",
       "2  115p7UMMngoj1pMvkpHijcRdfJNXj6LrLn  SA   0.067596   0.000000 -0.067596   \n",
       "3  1NXTgfGprVktuokv3ZLhGCPCjcKjXbswAM  SA   0.000095   0.000000 -0.000095   \n",
       "4  15RLWdVnY5n1n7mTvU1zjg67wt86dhYqNj  SA  25.000993  25.000993  0.000000   \n",
       "\n",
       "   PAIa13   PAIa14-1   PAIa14-2   PAIa14-3   PAIa14-4  ...  S2-3        S3  \\\n",
       "0     0.0   0.001000   0.021682   0.000000   0.000000  ...  2725 -0.294983   \n",
       "1     0.0   0.000005   0.037723   0.000000   0.000000  ...    95 -0.161792   \n",
       "2     0.0   0.000278   0.037200   0.000000   0.000000  ...  1751 -0.211953   \n",
       "3     0.0   0.000041   0.000054   0.000000   0.000000  ...     2 -0.081717   \n",
       "4     1.0  25.000993  25.000993  25.000993  25.000993  ...    11 -0.023318   \n",
       "\n",
       "        S4        S5  S6        S7        S8        S9  label  bin_label  \n",
       "0  0.00000  1.999223   3  0.000000  0.000247  0.000333      0          1  \n",
       "1  0.00000  1.442318   2  0.000000  0.022733  0.000333      0          1  \n",
       "2  0.00000  2.000842   3  0.000000  0.000309  0.000341      0          1  \n",
       "3  0.00000  2.000000   4  0.000000  0.174270  0.083333      0          1  \n",
       "4  0.06006  3.524528   8  0.307692  0.046156  0.027027      0          1  \n",
       "\n",
       "[5 rows x 152 columns]"
      ]
     },
     "execution_count": 10,
     "metadata": {},
     "output_type": "execute_result"
    }
   ],
   "source": [
    "data.head()"
   ]
  },
  {
   "cell_type": "code",
   "execution_count": 6,
   "metadata": {},
   "outputs": [
    {
     "data": {
      "text/plain": [
       "{0: 1,\n",
       " 1: 0,\n",
       " 2: 1,\n",
       " 3: 0,\n",
       " 4: 0,\n",
       " 5: 0,\n",
       " 6: 0,\n",
       " 7: 1,\n",
       " 8: 1,\n",
       " 9: 1,\n",
       " 10: 0,\n",
       " 11: 1,\n",
       " 12: 0}"
      ]
     },
     "execution_count": 6,
     "metadata": {},
     "output_type": "execute_result"
    }
   ],
   "source": [
    "label_map"
   ]
  },
  {
   "cell_type": "code",
   "execution_count": 7,
   "metadata": {},
   "outputs": [],
   "source": [
    "data['bin_label'] = data['label'].map(label_map)"
   ]
  },
  {
   "cell_type": "code",
   "execution_count": 8,
   "metadata": {},
   "outputs": [
    {
     "data": {
      "text/plain": [
       "0    509445\n",
       "1     35017\n",
       "Name: bin_label, dtype: int64"
      ]
     },
     "execution_count": 8,
     "metadata": {},
     "output_type": "execute_result"
    }
   ],
   "source": [
    "data.bin_label.value_counts()"
   ]
  },
  {
   "cell_type": "code",
   "execution_count": 9,
   "metadata": {},
   "outputs": [],
   "source": [
    "data.to_csv('BABD-2.csv')"
   ]
  },
  {
   "cell_type": "code",
   "execution_count": 11,
   "metadata": {},
   "outputs": [],
   "source": [
    "anomaly_address = data[data.bin_label == 1]['account']\n",
    "non_anomaly_address = data[data.bin_label == 0]['account']"
   ]
  },
  {
   "cell_type": "code",
   "execution_count": 12,
   "metadata": {},
   "outputs": [],
   "source": [
    "anomaly_address.to_csv('anomaly_address.csv')\n",
    "non_anomaly_address.to_csv('non_anomaly_address.csv')"
   ]
  },
  {
   "cell_type": "code",
   "execution_count": 17,
   "metadata": {},
   "outputs": [
    {
     "data": {
      "text/plain": [
       "35017"
      ]
     },
     "execution_count": 17,
     "metadata": {},
     "output_type": "execute_result"
    }
   ],
   "source": [
    "len(anomaly_address)"
   ]
  },
  {
   "cell_type": "code",
   "execution_count": 18,
   "metadata": {},
   "outputs": [
    {
     "data": {
      "text/html": [
       "<div>\n",
       "<style scoped>\n",
       "    .dataframe tbody tr th:only-of-type {\n",
       "        vertical-align: middle;\n",
       "    }\n",
       "\n",
       "    .dataframe tbody tr th {\n",
       "        vertical-align: top;\n",
       "    }\n",
       "\n",
       "    .dataframe thead th {\n",
       "        text-align: right;\n",
       "    }\n",
       "</style>\n",
       "<table border=\"1\" class=\"dataframe\">\n",
       "  <thead>\n",
       "    <tr style=\"text-align: right;\">\n",
       "      <th></th>\n",
       "      <th>Unnamed: 0</th>\n",
       "      <th>account</th>\n",
       "    </tr>\n",
       "  </thead>\n",
       "  <tbody>\n",
       "    <tr>\n",
       "      <th>0</th>\n",
       "      <td>0</td>\n",
       "      <td>13AM4VW2dhxYgXeQepoHkHSQuy6NgaEb94</td>\n",
       "    </tr>\n",
       "    <tr>\n",
       "      <th>1</th>\n",
       "      <td>1</td>\n",
       "      <td>12t9YDPgwueZ9NyMgw519p7AA8isjr6SMw</td>\n",
       "    </tr>\n",
       "    <tr>\n",
       "      <th>2</th>\n",
       "      <td>2</td>\n",
       "      <td>115p7UMMngoj1pMvkpHijcRdfJNXj6LrLn</td>\n",
       "    </tr>\n",
       "    <tr>\n",
       "      <th>3</th>\n",
       "      <td>3</td>\n",
       "      <td>1NXTgfGprVktuokv3ZLhGCPCjcKjXbswAM</td>\n",
       "    </tr>\n",
       "    <tr>\n",
       "      <th>4</th>\n",
       "      <td>4</td>\n",
       "      <td>15RLWdVnY5n1n7mTvU1zjg67wt86dhYqNj</td>\n",
       "    </tr>\n",
       "  </tbody>\n",
       "</table>\n",
       "</div>"
      ],
      "text/plain": [
       "   Unnamed: 0                             account\n",
       "0           0  13AM4VW2dhxYgXeQepoHkHSQuy6NgaEb94\n",
       "1           1  12t9YDPgwueZ9NyMgw519p7AA8isjr6SMw\n",
       "2           2  115p7UMMngoj1pMvkpHijcRdfJNXj6LrLn\n",
       "3           3  1NXTgfGprVktuokv3ZLhGCPCjcKjXbswAM\n",
       "4           4  15RLWdVnY5n1n7mTvU1zjg67wt86dhYqNj"
      ]
     },
     "execution_count": 18,
     "metadata": {},
     "output_type": "execute_result"
    }
   ],
   "source": [
    "anomaly_address = pd.read_csv('anomaly_address.csv')\n",
    "anomaly_address.head()"
   ]
  },
  {
   "attachments": {},
   "cell_type": "markdown",
   "metadata": {},
   "source": [
    "I found an research there do analysis like below.\n",
    "\n",
    "Get the time unit values for all transaction of an address,  then create series by taking time difference between two consecutive transactions. Then using statistical method compare the these address time series. For the comparism, they compare label known address time difference series with label unknown time difference series. So how Do I try method like that? "
   ]
  },
  {
   "cell_type": "code",
   "execution_count": 2,
   "metadata": {},
   "outputs": [],
   "source": [
    "df = pd.read_csv('BABD-2.csv')"
   ]
  },
  {
   "cell_type": "code",
   "execution_count": 3,
   "metadata": {},
   "outputs": [],
   "source": [
    "import random"
   ]
  },
  {
   "cell_type": "code",
   "execution_count": 4,
   "metadata": {},
   "outputs": [],
   "source": [
    "random_label_1_records = df[df['label'] == 1].sample(frac=1, random_state=42).head(50)\n",
    "random_label_0_records = df[df['label'] == 0].sample(frac=1, random_state=42).head(50)"
   ]
  },
  {
   "cell_type": "code",
   "execution_count": null,
   "metadata": {},
   "outputs": [],
   "source": []
  },
  {
   "cell_type": "code",
   "execution_count": 5,
   "metadata": {},
   "outputs": [],
   "source": [
    "combined_df = pd.concat([random_label_1_records, random_label_0_records])\n",
    "\n",
    "# Save the combined DataFrame to a new CSV file\n",
    "combined_df.to_csv('combined_random_records.csv', index=False)"
   ]
  },
  {
   "cell_type": "code",
   "execution_count": 6,
   "metadata": {},
   "outputs": [],
   "source": [
    "unique_account_counts = combined_df['account'].value_counts()"
   ]
  },
  {
   "cell_type": "code",
   "execution_count": 7,
   "metadata": {},
   "outputs": [
    {
     "data": {
      "text/plain": [
       "3EbWSFrAP2Bfi36EB3sky72VaKFsaxJU5n    1\n",
       "1KoKBgZGhNKcw5G7JuGvwcW9Mgugp8k3fB    1\n",
       "12epiVBvAVzxXbnZ4z8L49WthWTRMJGciF    1\n",
       "1CRzBr2rNdwNKN3Zdr3YJjiQS7kAZas8nK    1\n",
       "1GNzmeLwfm8atxnmCtvDG44no6L5v5AWFZ    1\n",
       "                                     ..\n",
       "38fwVxmV5DLGNu1SsCm4ysMP6Fz9UsTmkY    1\n",
       "3Mudnvr1uJs2jdit73ujWJZt2wvoEDf1Qh    1\n",
       "35hue3x6Hj5Df3rRxtMobFNLoRZEnZMbc4    1\n",
       "3BJPEspFVfNZcKaitnvtt5qzwRGBgQPYWr    1\n",
       "1NeSCRrB6nXs5Sm6pYPktZjvkscpw5su6e    1\n",
       "Name: account, Length: 100, dtype: int64"
      ]
     },
     "execution_count": 7,
     "metadata": {},
     "output_type": "execute_result"
    }
   ],
   "source": [
    "unique_account_counts"
   ]
  }
 ],
 "metadata": {
  "kernelspec": {
   "display_name": "base",
   "language": "python",
   "name": "python3"
  },
  "language_info": {
   "codemirror_mode": {
    "name": "ipython",
    "version": 3
   },
   "file_extension": ".py",
   "mimetype": "text/x-python",
   "name": "python",
   "nbconvert_exporter": "python",
   "pygments_lexer": "ipython3",
   "version": "3.9.13 (main, Aug 25 2022, 23:26:10) \n[GCC 11.2.0]"
  },
  "orig_nbformat": 4,
  "vscode": {
   "interpreter": {
    "hash": "e09fc4c7730cd78788c38127abe4a8b2eeee42cf00e77e865aa2fb464ce24d99"
   }
  }
 },
 "nbformat": 4,
 "nbformat_minor": 2
}
