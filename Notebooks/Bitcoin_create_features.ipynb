{
  "nbformat": 4,
  "nbformat_minor": 0,
  "metadata": {
    "colab": {
      "provenance": [],
      "authorship_tag": "ABX9TyPXXJuI7HDzs1r0Eaht3LhZ",
      "include_colab_link": true
    },
    "kernelspec": {
      "name": "python3",
      "display_name": "Python 3"
    },
    "language_info": {
      "name": "python"
    }
  },
  "cells": [
    {
      "cell_type": "markdown",
      "metadata": {
        "id": "view-in-github",
        "colab_type": "text"
      },
      "source": [
        "<a href=\"https://colab.research.google.com/github/Blockchain-Framework/bitcoin-anomaly-analysis/blob/develop/Notebooks/Bitcoin_create_features.ipynb\" target=\"_parent\"><img src=\"https://colab.research.google.com/assets/colab-badge.svg\" alt=\"Open In Colab\"/></a>"
      ]
    },
    {
      "cell_type": "code",
      "source": [
        "import pandas as pd"
      ],
      "metadata": {
        "id": "oF9qqa3jc8Os"
      },
      "execution_count": null,
      "outputs": []
    },
    {
      "cell_type": "code",
      "source": [
        "from google.colab import drive\n",
        "drive.mount('/content/drive')"
      ],
      "metadata": {
        "colab": {
          "base_uri": "https://localhost:8080/"
        },
        "id": "fzP8FZN_c9H8",
        "outputId": "963131a9-e970-437b-852a-97069fd453cc"
      },
      "execution_count": null,
      "outputs": [
        {
          "output_type": "stream",
          "name": "stdout",
          "text": [
            "Drive already mounted at /content/drive; to attempt to forcibly remount, call drive.mount(\"/content/drive\", force_remount=True).\n"
          ]
        }
      ]
    },
    {
      "cell_type": "markdown",
      "source": [
        "# Inputs"
      ],
      "metadata": {
        "id": "xVFesd77Clcg"
      }
    },
    {
      "cell_type": "code",
      "source": [
        "df = pd.read_csv(\"/content/drive/MyDrive/bitcoin_address_info_inputs2.csv\")"
      ],
      "metadata": {
        "id": "vN_IxJiFdBQh"
      },
      "execution_count": null,
      "outputs": []
    },
    {
      "cell_type": "code",
      "source": [
        "df.head()"
      ],
      "metadata": {
        "colab": {
          "base_uri": "https://localhost:8080/"
        },
        "id": "XyK24l7CdlRg",
        "outputId": "52f9a602-00fc-4c72-a115-d29743df05ca"
      },
      "execution_count": null,
      "outputs": [
        {
          "output_type": "execute_result",
          "data": {
            "text/plain": [
              "                              account  \\\n",
              "0  3HRZjedwF2AJejNTtgznWnas4E6froNP5r   \n",
              "1  3HRZjedwF2AJejNTtgznWnas4E6froNP5r   \n",
              "2  32RQQ1ZVwvhoLhre727pH81g2BdQc77njA   \n",
              "3  175xKXTfcLiXgX7XqxLCaskBzW4Qs3nWAM   \n",
              "4  3HRZjedwF2AJejNTtgznWnas4E6froNP5r   \n",
              "\n",
              "                                                hash               time_x  \\\n",
              "0  1f4b0ee916d74b4658c555e22b1ba5a1b0a5bfe18a0db1...  2018-12-31 23:50:39   \n",
              "1  a11cc6ecd95c8ac79098af1875a987ae5417410e805240...  2018-12-31 23:50:39   \n",
              "2  1e9d790c147104ec63064d076f84ff72c0c619f1ccb7b7...  2018-12-31 21:23:24   \n",
              "3  d50e0bf3a4ca28f14c6b9539e8da85804b1425efecee2c...  2018-12-31 23:50:39   \n",
              "4  fad5d3798f5f4788bac3fd3ee0df649ef8914adcfa0cbc...  2019-01-01 00:03:10   \n",
              "\n",
              "       value   value_usd  spending_value_usd               time_y  \\\n",
              "0   36845206   1411.2009           1398.9056  2019-01-01 00:03:10   \n",
              "1  271339279  10392.5117          10301.9658  2019-01-01 00:03:10   \n",
              "2   38350000   1468.8357           1456.0383  2019-01-01 00:03:10   \n",
              "3  276291300  10582.1777          10489.9795  2019-01-01 00:03:10   \n",
              "4  270983892  10288.4727          10288.4727  2019-01-01 00:36:32   \n",
              "\n",
              "   is_coinbase  block_id                 time  \n",
              "0            0    556459  2019-01-01 00:03:10  \n",
              "1            0    556459  2019-01-01 00:03:10  \n",
              "2            0    556459  2019-01-01 00:03:10  \n",
              "3            0    556459  2019-01-01 00:03:10  \n",
              "4            0    556460  2019-01-01 00:36:32  "
            ],
            "text/html": [
              "\n",
              "  <div id=\"df-0cfad3cc-ac42-4cfd-9bbc-eff70542e527\" class=\"colab-df-container\">\n",
              "    <div>\n",
              "<style scoped>\n",
              "    .dataframe tbody tr th:only-of-type {\n",
              "        vertical-align: middle;\n",
              "    }\n",
              "\n",
              "    .dataframe tbody tr th {\n",
              "        vertical-align: top;\n",
              "    }\n",
              "\n",
              "    .dataframe thead th {\n",
              "        text-align: right;\n",
              "    }\n",
              "</style>\n",
              "<table border=\"1\" class=\"dataframe\">\n",
              "  <thead>\n",
              "    <tr style=\"text-align: right;\">\n",
              "      <th></th>\n",
              "      <th>account</th>\n",
              "      <th>hash</th>\n",
              "      <th>time_x</th>\n",
              "      <th>value</th>\n",
              "      <th>value_usd</th>\n",
              "      <th>spending_value_usd</th>\n",
              "      <th>time_y</th>\n",
              "      <th>is_coinbase</th>\n",
              "      <th>block_id</th>\n",
              "      <th>time</th>\n",
              "    </tr>\n",
              "  </thead>\n",
              "  <tbody>\n",
              "    <tr>\n",
              "      <th>0</th>\n",
              "      <td>3HRZjedwF2AJejNTtgznWnas4E6froNP5r</td>\n",
              "      <td>1f4b0ee916d74b4658c555e22b1ba5a1b0a5bfe18a0db1...</td>\n",
              "      <td>2018-12-31 23:50:39</td>\n",
              "      <td>36845206</td>\n",
              "      <td>1411.2009</td>\n",
              "      <td>1398.9056</td>\n",
              "      <td>2019-01-01 00:03:10</td>\n",
              "      <td>0</td>\n",
              "      <td>556459</td>\n",
              "      <td>2019-01-01 00:03:10</td>\n",
              "    </tr>\n",
              "    <tr>\n",
              "      <th>1</th>\n",
              "      <td>3HRZjedwF2AJejNTtgznWnas4E6froNP5r</td>\n",
              "      <td>a11cc6ecd95c8ac79098af1875a987ae5417410e805240...</td>\n",
              "      <td>2018-12-31 23:50:39</td>\n",
              "      <td>271339279</td>\n",
              "      <td>10392.5117</td>\n",
              "      <td>10301.9658</td>\n",
              "      <td>2019-01-01 00:03:10</td>\n",
              "      <td>0</td>\n",
              "      <td>556459</td>\n",
              "      <td>2019-01-01 00:03:10</td>\n",
              "    </tr>\n",
              "    <tr>\n",
              "      <th>2</th>\n",
              "      <td>32RQQ1ZVwvhoLhre727pH81g2BdQc77njA</td>\n",
              "      <td>1e9d790c147104ec63064d076f84ff72c0c619f1ccb7b7...</td>\n",
              "      <td>2018-12-31 21:23:24</td>\n",
              "      <td>38350000</td>\n",
              "      <td>1468.8357</td>\n",
              "      <td>1456.0383</td>\n",
              "      <td>2019-01-01 00:03:10</td>\n",
              "      <td>0</td>\n",
              "      <td>556459</td>\n",
              "      <td>2019-01-01 00:03:10</td>\n",
              "    </tr>\n",
              "    <tr>\n",
              "      <th>3</th>\n",
              "      <td>175xKXTfcLiXgX7XqxLCaskBzW4Qs3nWAM</td>\n",
              "      <td>d50e0bf3a4ca28f14c6b9539e8da85804b1425efecee2c...</td>\n",
              "      <td>2018-12-31 23:50:39</td>\n",
              "      <td>276291300</td>\n",
              "      <td>10582.1777</td>\n",
              "      <td>10489.9795</td>\n",
              "      <td>2019-01-01 00:03:10</td>\n",
              "      <td>0</td>\n",
              "      <td>556459</td>\n",
              "      <td>2019-01-01 00:03:10</td>\n",
              "    </tr>\n",
              "    <tr>\n",
              "      <th>4</th>\n",
              "      <td>3HRZjedwF2AJejNTtgznWnas4E6froNP5r</td>\n",
              "      <td>fad5d3798f5f4788bac3fd3ee0df649ef8914adcfa0cbc...</td>\n",
              "      <td>2019-01-01 00:03:10</td>\n",
              "      <td>270983892</td>\n",
              "      <td>10288.4727</td>\n",
              "      <td>10288.4727</td>\n",
              "      <td>2019-01-01 00:36:32</td>\n",
              "      <td>0</td>\n",
              "      <td>556460</td>\n",
              "      <td>2019-01-01 00:36:32</td>\n",
              "    </tr>\n",
              "  </tbody>\n",
              "</table>\n",
              "</div>\n",
              "    <div class=\"colab-df-buttons\">\n",
              "\n",
              "  <div class=\"colab-df-container\">\n",
              "    <button class=\"colab-df-convert\" onclick=\"convertToInteractive('df-0cfad3cc-ac42-4cfd-9bbc-eff70542e527')\"\n",
              "            title=\"Convert this dataframe to an interactive table.\"\n",
              "            style=\"display:none;\">\n",
              "\n",
              "  <svg xmlns=\"http://www.w3.org/2000/svg\" height=\"24px\" viewBox=\"0 -960 960 960\">\n",
              "    <path d=\"M120-120v-720h720v720H120Zm60-500h600v-160H180v160Zm220 220h160v-160H400v160Zm0 220h160v-160H400v160ZM180-400h160v-160H180v160Zm440 0h160v-160H620v160ZM180-180h160v-160H180v160Zm440 0h160v-160H620v160Z\"/>\n",
              "  </svg>\n",
              "    </button>\n",
              "\n",
              "  <style>\n",
              "    .colab-df-container {\n",
              "      display:flex;\n",
              "      gap: 12px;\n",
              "    }\n",
              "\n",
              "    .colab-df-convert {\n",
              "      background-color: #E8F0FE;\n",
              "      border: none;\n",
              "      border-radius: 50%;\n",
              "      cursor: pointer;\n",
              "      display: none;\n",
              "      fill: #1967D2;\n",
              "      height: 32px;\n",
              "      padding: 0 0 0 0;\n",
              "      width: 32px;\n",
              "    }\n",
              "\n",
              "    .colab-df-convert:hover {\n",
              "      background-color: #E2EBFA;\n",
              "      box-shadow: 0px 1px 2px rgba(60, 64, 67, 0.3), 0px 1px 3px 1px rgba(60, 64, 67, 0.15);\n",
              "      fill: #174EA6;\n",
              "    }\n",
              "\n",
              "    .colab-df-buttons div {\n",
              "      margin-bottom: 4px;\n",
              "    }\n",
              "\n",
              "    [theme=dark] .colab-df-convert {\n",
              "      background-color: #3B4455;\n",
              "      fill: #D2E3FC;\n",
              "    }\n",
              "\n",
              "    [theme=dark] .colab-df-convert:hover {\n",
              "      background-color: #434B5C;\n",
              "      box-shadow: 0px 1px 3px 1px rgba(0, 0, 0, 0.15);\n",
              "      filter: drop-shadow(0px 1px 2px rgba(0, 0, 0, 0.3));\n",
              "      fill: #FFFFFF;\n",
              "    }\n",
              "  </style>\n",
              "\n",
              "    <script>\n",
              "      const buttonEl =\n",
              "        document.querySelector('#df-0cfad3cc-ac42-4cfd-9bbc-eff70542e527 button.colab-df-convert');\n",
              "      buttonEl.style.display =\n",
              "        google.colab.kernel.accessAllowed ? 'block' : 'none';\n",
              "\n",
              "      async function convertToInteractive(key) {\n",
              "        const element = document.querySelector('#df-0cfad3cc-ac42-4cfd-9bbc-eff70542e527');\n",
              "        const dataTable =\n",
              "          await google.colab.kernel.invokeFunction('convertToInteractive',\n",
              "                                                    [key], {});\n",
              "        if (!dataTable) return;\n",
              "\n",
              "        const docLinkHtml = 'Like what you see? Visit the ' +\n",
              "          '<a target=\"_blank\" href=https://colab.research.google.com/notebooks/data_table.ipynb>data table notebook</a>'\n",
              "          + ' to learn more about interactive tables.';\n",
              "        element.innerHTML = '';\n",
              "        dataTable['output_type'] = 'display_data';\n",
              "        await google.colab.output.renderOutput(dataTable, element);\n",
              "        const docLink = document.createElement('div');\n",
              "        docLink.innerHTML = docLinkHtml;\n",
              "        element.appendChild(docLink);\n",
              "      }\n",
              "    </script>\n",
              "  </div>\n",
              "\n",
              "\n",
              "<div id=\"df-306e8583-d88c-45b9-afc2-861557537ac8\">\n",
              "  <button class=\"colab-df-quickchart\" onclick=\"quickchart('df-306e8583-d88c-45b9-afc2-861557537ac8')\"\n",
              "            title=\"Suggest charts\"\n",
              "            style=\"display:none;\">\n",
              "\n",
              "<svg xmlns=\"http://www.w3.org/2000/svg\" height=\"24px\"viewBox=\"0 0 24 24\"\n",
              "     width=\"24px\">\n",
              "    <g>\n",
              "        <path d=\"M19 3H5c-1.1 0-2 .9-2 2v14c0 1.1.9 2 2 2h14c1.1 0 2-.9 2-2V5c0-1.1-.9-2-2-2zM9 17H7v-7h2v7zm4 0h-2V7h2v10zm4 0h-2v-4h2v4z\"/>\n",
              "    </g>\n",
              "</svg>\n",
              "  </button>\n",
              "\n",
              "<style>\n",
              "  .colab-df-quickchart {\n",
              "      --bg-color: #E8F0FE;\n",
              "      --fill-color: #1967D2;\n",
              "      --hover-bg-color: #E2EBFA;\n",
              "      --hover-fill-color: #174EA6;\n",
              "      --disabled-fill-color: #AAA;\n",
              "      --disabled-bg-color: #DDD;\n",
              "  }\n",
              "\n",
              "  [theme=dark] .colab-df-quickchart {\n",
              "      --bg-color: #3B4455;\n",
              "      --fill-color: #D2E3FC;\n",
              "      --hover-bg-color: #434B5C;\n",
              "      --hover-fill-color: #FFFFFF;\n",
              "      --disabled-bg-color: #3B4455;\n",
              "      --disabled-fill-color: #666;\n",
              "  }\n",
              "\n",
              "  .colab-df-quickchart {\n",
              "    background-color: var(--bg-color);\n",
              "    border: none;\n",
              "    border-radius: 50%;\n",
              "    cursor: pointer;\n",
              "    display: none;\n",
              "    fill: var(--fill-color);\n",
              "    height: 32px;\n",
              "    padding: 0;\n",
              "    width: 32px;\n",
              "  }\n",
              "\n",
              "  .colab-df-quickchart:hover {\n",
              "    background-color: var(--hover-bg-color);\n",
              "    box-shadow: 0 1px 2px rgba(60, 64, 67, 0.3), 0 1px 3px 1px rgba(60, 64, 67, 0.15);\n",
              "    fill: var(--button-hover-fill-color);\n",
              "  }\n",
              "\n",
              "  .colab-df-quickchart-complete:disabled,\n",
              "  .colab-df-quickchart-complete:disabled:hover {\n",
              "    background-color: var(--disabled-bg-color);\n",
              "    fill: var(--disabled-fill-color);\n",
              "    box-shadow: none;\n",
              "  }\n",
              "\n",
              "  .colab-df-spinner {\n",
              "    border: 2px solid var(--fill-color);\n",
              "    border-color: transparent;\n",
              "    border-bottom-color: var(--fill-color);\n",
              "    animation:\n",
              "      spin 1s steps(1) infinite;\n",
              "  }\n",
              "\n",
              "  @keyframes spin {\n",
              "    0% {\n",
              "      border-color: transparent;\n",
              "      border-bottom-color: var(--fill-color);\n",
              "      border-left-color: var(--fill-color);\n",
              "    }\n",
              "    20% {\n",
              "      border-color: transparent;\n",
              "      border-left-color: var(--fill-color);\n",
              "      border-top-color: var(--fill-color);\n",
              "    }\n",
              "    30% {\n",
              "      border-color: transparent;\n",
              "      border-left-color: var(--fill-color);\n",
              "      border-top-color: var(--fill-color);\n",
              "      border-right-color: var(--fill-color);\n",
              "    }\n",
              "    40% {\n",
              "      border-color: transparent;\n",
              "      border-right-color: var(--fill-color);\n",
              "      border-top-color: var(--fill-color);\n",
              "    }\n",
              "    60% {\n",
              "      border-color: transparent;\n",
              "      border-right-color: var(--fill-color);\n",
              "    }\n",
              "    80% {\n",
              "      border-color: transparent;\n",
              "      border-right-color: var(--fill-color);\n",
              "      border-bottom-color: var(--fill-color);\n",
              "    }\n",
              "    90% {\n",
              "      border-color: transparent;\n",
              "      border-bottom-color: var(--fill-color);\n",
              "    }\n",
              "  }\n",
              "</style>\n",
              "\n",
              "  <script>\n",
              "    async function quickchart(key) {\n",
              "      const quickchartButtonEl =\n",
              "        document.querySelector('#' + key + ' button');\n",
              "      quickchartButtonEl.disabled = true;  // To prevent multiple clicks.\n",
              "      quickchartButtonEl.classList.add('colab-df-spinner');\n",
              "      try {\n",
              "        const charts = await google.colab.kernel.invokeFunction(\n",
              "            'suggestCharts', [key], {});\n",
              "      } catch (error) {\n",
              "        console.error('Error during call to suggestCharts:', error);\n",
              "      }\n",
              "      quickchartButtonEl.classList.remove('colab-df-spinner');\n",
              "      quickchartButtonEl.classList.add('colab-df-quickchart-complete');\n",
              "    }\n",
              "    (() => {\n",
              "      let quickchartButtonEl =\n",
              "        document.querySelector('#df-306e8583-d88c-45b9-afc2-861557537ac8 button');\n",
              "      quickchartButtonEl.style.display =\n",
              "        google.colab.kernel.accessAllowed ? 'block' : 'none';\n",
              "    })();\n",
              "  </script>\n",
              "</div>\n",
              "    </div>\n",
              "  </div>\n"
            ]
          },
          "metadata": {},
          "execution_count": 48
        }
      ]
    },
    {
      "cell_type": "code",
      "source": [
        "df.dtypes"
      ],
      "metadata": {
        "colab": {
          "base_uri": "https://localhost:8080/"
        },
        "id": "CeKkI4c3dnTy",
        "outputId": "5d8223e1-63c4-4159-d6e8-a2ef64fe6b1b"
      },
      "execution_count": null,
      "outputs": [
        {
          "output_type": "execute_result",
          "data": {
            "text/plain": [
              "account                object\n",
              "hash                   object\n",
              "time_x                 object\n",
              "value                   int64\n",
              "value_usd             float64\n",
              "spending_value_usd    float64\n",
              "time_y                 object\n",
              "is_coinbase             int64\n",
              "block_id                int64\n",
              "time                   object\n",
              "dtype: object"
            ]
          },
          "metadata": {},
          "execution_count": 49
        }
      ]
    },
    {
      "cell_type": "code",
      "source": [
        "df['account'] = df['account'].astype('category')\n",
        "df['hash'] = df['hash'].astype('category')\n",
        "df['value'] = df['value'].astype('int64')\n",
        "df['value_usd'] = df['value_usd'].astype('float64')\n",
        "df['spending_value_usd'] = df['spending_value_usd'].astype('float64')\n",
        "df['block_id'] = df['block_id'].astype('int64')\n",
        "df['time'] = pd.to_datetime(df['time'])"
      ],
      "metadata": {
        "id": "hbYlOGqUeQnD"
      },
      "execution_count": null,
      "outputs": []
    },
    {
      "cell_type": "code",
      "execution_count": null,
      "metadata": {
        "id": "OdRqwNSccmUH"
      },
      "outputs": [],
      "source": [
        "\n",
        "def compute_statistics(group, column):\n",
        "    return {\n",
        "        'mean': group[column].mean(),\n",
        "        'median': group[column].median(),\n",
        "        'variance': group[column].var(),\n",
        "        'maximum': group[column].max(),\n",
        "        'minimum': group[column].min(),\n",
        "        'skewness': group[column].skew(),\n",
        "        'kurtosis': group[column].kurt(),\n",
        "        '25th_percentile': group[column].quantile(0.25),\n",
        "        '75th_percentile': group[column].quantile(0.75),\n",
        "        'range': group[column].max() - group[column].min()\n",
        "    }\n",
        "\n",
        "# Preparing for the final DataFrame\n",
        "results = []\n",
        "\n",
        "# Computing statistics for each account\n",
        "for name, group in df.groupby('account'):\n",
        "    group = group.sort_values(by='time')\n",
        "    group['time_diff'] = group['time'].diff().dt.total_seconds().fillna(0)\n",
        "\n",
        "    stat_dict = {'account': name}\n",
        "    for column in ['value', 'value_usd', 'spending_value_usd', 'time_diff']:\n",
        "        stats = compute_statistics(group, column)\n",
        "        for key, value in stats.items():\n",
        "            stat_dict[f'{column}_{key}'] = value\n",
        "    stat_dict.update({\n",
        "            'transaction_count': len(group),\n",
        "        })\n",
        "\n",
        "    results.append(stat_dict)\n"
      ]
    },
    {
      "cell_type": "code",
      "source": [
        "# Creating the final DataFrame\n",
        "final_df = pd.DataFrame(results)\n"
      ],
      "metadata": {
        "id": "yQwR32LPdbM8"
      },
      "execution_count": null,
      "outputs": []
    },
    {
      "cell_type": "code",
      "source": [
        "final_df.head()"
      ],
      "metadata": {
        "colab": {
          "base_uri": "https://localhost:8080/"
        },
        "id": "wfrmTyFGdcgb",
        "outputId": "5a81248c-2cd5-4a0d-b317-eadcf146b47e"
      },
      "execution_count": null,
      "outputs": [
        {
          "output_type": "execute_result",
          "data": {
            "text/plain": [
              "                              account    value_mean  value_median  \\\n",
              "0  112aMbzaifSzz17dt4iieNBNRaNMPMsBhN  4.126654e+06     3775772.0   \n",
              "1  112uqsxthsgX3bBSJzTaZngaNQhPfHnoa6  6.914500e+06     6914500.0   \n",
              "2  1131uSp9Aq2vf5kfxUCaP68nFsBoSoKByk  3.880419e+06     1104075.0   \n",
              "3  1136NPxiQgXe7a4hXoUmD8XwuUyBrwBjni  3.068000e+06     3068000.0   \n",
              "4  113EN2Wep2eXUY7M7H4XNGGE9evGnVowR4  3.719556e+07    37195558.0   \n",
              "\n",
              "   value_variance  value_maximum  value_minimum  value_skewness  \\\n",
              "0    1.430222e+13       10000000         100000        0.960194   \n",
              "1    6.119498e+13       12446000        1383000             NaN   \n",
              "2    6.499291e+13       53137394            547        3.927683   \n",
              "3             NaN        3068000        3068000             NaN   \n",
              "4             NaN       37195558       37195558             NaN   \n",
              "\n",
              "   value_kurtosis  value_25th_percentile  value_75th_percentile  ...  \\\n",
              "0        1.074525              1757500.0              5000000.0  ...   \n",
              "1             NaN              4148750.0              9680250.0  ...   \n",
              "2       17.282748               483815.5              3048058.0  ...   \n",
              "3             NaN              3068000.0              3068000.0  ...   \n",
              "4             NaN             37195558.0             37195558.0  ...   \n",
              "\n",
              "   time_diff_median  time_diff_variance  time_diff_maximum  time_diff_minimum  \\\n",
              "0          899043.0        1.078162e+14         24258799.0                0.0   \n",
              "1               0.0        0.000000e+00                0.0                0.0   \n",
              "2               0.0        1.100215e+10           690650.0                0.0   \n",
              "3               0.0                 NaN                0.0                0.0   \n",
              "4               0.0                 NaN                0.0                0.0   \n",
              "\n",
              "   time_diff_skewness  time_diff_kurtosis  time_diff_25th_percentile  \\\n",
              "0            1.964865            3.866357                      789.0   \n",
              "1                 NaN                 NaN                        0.0   \n",
              "2            4.107071           19.098731                        0.0   \n",
              "3                 NaN                 NaN                        0.0   \n",
              "4                 NaN                 NaN                        0.0   \n",
              "\n",
              "   time_diff_75th_percentile  time_diff_range  transaction_count  \n",
              "0                  5781539.0       24258799.0                  5  \n",
              "1                        0.0              0.0                  2  \n",
              "2                     2847.0         690650.0                111  \n",
              "3                        0.0              0.0                  1  \n",
              "4                        0.0              0.0                  1  \n",
              "\n",
              "[5 rows x 42 columns]"
            ],
            "text/html": [
              "\n",
              "  <div id=\"df-abf03039-ef55-450a-944d-f156db066f34\" class=\"colab-df-container\">\n",
              "    <div>\n",
              "<style scoped>\n",
              "    .dataframe tbody tr th:only-of-type {\n",
              "        vertical-align: middle;\n",
              "    }\n",
              "\n",
              "    .dataframe tbody tr th {\n",
              "        vertical-align: top;\n",
              "    }\n",
              "\n",
              "    .dataframe thead th {\n",
              "        text-align: right;\n",
              "    }\n",
              "</style>\n",
              "<table border=\"1\" class=\"dataframe\">\n",
              "  <thead>\n",
              "    <tr style=\"text-align: right;\">\n",
              "      <th></th>\n",
              "      <th>account</th>\n",
              "      <th>value_mean</th>\n",
              "      <th>value_median</th>\n",
              "      <th>value_variance</th>\n",
              "      <th>value_maximum</th>\n",
              "      <th>value_minimum</th>\n",
              "      <th>value_skewness</th>\n",
              "      <th>value_kurtosis</th>\n",
              "      <th>value_25th_percentile</th>\n",
              "      <th>value_75th_percentile</th>\n",
              "      <th>...</th>\n",
              "      <th>time_diff_median</th>\n",
              "      <th>time_diff_variance</th>\n",
              "      <th>time_diff_maximum</th>\n",
              "      <th>time_diff_minimum</th>\n",
              "      <th>time_diff_skewness</th>\n",
              "      <th>time_diff_kurtosis</th>\n",
              "      <th>time_diff_25th_percentile</th>\n",
              "      <th>time_diff_75th_percentile</th>\n",
              "      <th>time_diff_range</th>\n",
              "      <th>transaction_count</th>\n",
              "    </tr>\n",
              "  </thead>\n",
              "  <tbody>\n",
              "    <tr>\n",
              "      <th>0</th>\n",
              "      <td>112aMbzaifSzz17dt4iieNBNRaNMPMsBhN</td>\n",
              "      <td>4.126654e+06</td>\n",
              "      <td>3775772.0</td>\n",
              "      <td>1.430222e+13</td>\n",
              "      <td>10000000</td>\n",
              "      <td>100000</td>\n",
              "      <td>0.960194</td>\n",
              "      <td>1.074525</td>\n",
              "      <td>1757500.0</td>\n",
              "      <td>5000000.0</td>\n",
              "      <td>...</td>\n",
              "      <td>899043.0</td>\n",
              "      <td>1.078162e+14</td>\n",
              "      <td>24258799.0</td>\n",
              "      <td>0.0</td>\n",
              "      <td>1.964865</td>\n",
              "      <td>3.866357</td>\n",
              "      <td>789.0</td>\n",
              "      <td>5781539.0</td>\n",
              "      <td>24258799.0</td>\n",
              "      <td>5</td>\n",
              "    </tr>\n",
              "    <tr>\n",
              "      <th>1</th>\n",
              "      <td>112uqsxthsgX3bBSJzTaZngaNQhPfHnoa6</td>\n",
              "      <td>6.914500e+06</td>\n",
              "      <td>6914500.0</td>\n",
              "      <td>6.119498e+13</td>\n",
              "      <td>12446000</td>\n",
              "      <td>1383000</td>\n",
              "      <td>NaN</td>\n",
              "      <td>NaN</td>\n",
              "      <td>4148750.0</td>\n",
              "      <td>9680250.0</td>\n",
              "      <td>...</td>\n",
              "      <td>0.0</td>\n",
              "      <td>0.000000e+00</td>\n",
              "      <td>0.0</td>\n",
              "      <td>0.0</td>\n",
              "      <td>NaN</td>\n",
              "      <td>NaN</td>\n",
              "      <td>0.0</td>\n",
              "      <td>0.0</td>\n",
              "      <td>0.0</td>\n",
              "      <td>2</td>\n",
              "    </tr>\n",
              "    <tr>\n",
              "      <th>2</th>\n",
              "      <td>1131uSp9Aq2vf5kfxUCaP68nFsBoSoKByk</td>\n",
              "      <td>3.880419e+06</td>\n",
              "      <td>1104075.0</td>\n",
              "      <td>6.499291e+13</td>\n",
              "      <td>53137394</td>\n",
              "      <td>547</td>\n",
              "      <td>3.927683</td>\n",
              "      <td>17.282748</td>\n",
              "      <td>483815.5</td>\n",
              "      <td>3048058.0</td>\n",
              "      <td>...</td>\n",
              "      <td>0.0</td>\n",
              "      <td>1.100215e+10</td>\n",
              "      <td>690650.0</td>\n",
              "      <td>0.0</td>\n",
              "      <td>4.107071</td>\n",
              "      <td>19.098731</td>\n",
              "      <td>0.0</td>\n",
              "      <td>2847.0</td>\n",
              "      <td>690650.0</td>\n",
              "      <td>111</td>\n",
              "    </tr>\n",
              "    <tr>\n",
              "      <th>3</th>\n",
              "      <td>1136NPxiQgXe7a4hXoUmD8XwuUyBrwBjni</td>\n",
              "      <td>3.068000e+06</td>\n",
              "      <td>3068000.0</td>\n",
              "      <td>NaN</td>\n",
              "      <td>3068000</td>\n",
              "      <td>3068000</td>\n",
              "      <td>NaN</td>\n",
              "      <td>NaN</td>\n",
              "      <td>3068000.0</td>\n",
              "      <td>3068000.0</td>\n",
              "      <td>...</td>\n",
              "      <td>0.0</td>\n",
              "      <td>NaN</td>\n",
              "      <td>0.0</td>\n",
              "      <td>0.0</td>\n",
              "      <td>NaN</td>\n",
              "      <td>NaN</td>\n",
              "      <td>0.0</td>\n",
              "      <td>0.0</td>\n",
              "      <td>0.0</td>\n",
              "      <td>1</td>\n",
              "    </tr>\n",
              "    <tr>\n",
              "      <th>4</th>\n",
              "      <td>113EN2Wep2eXUY7M7H4XNGGE9evGnVowR4</td>\n",
              "      <td>3.719556e+07</td>\n",
              "      <td>37195558.0</td>\n",
              "      <td>NaN</td>\n",
              "      <td>37195558</td>\n",
              "      <td>37195558</td>\n",
              "      <td>NaN</td>\n",
              "      <td>NaN</td>\n",
              "      <td>37195558.0</td>\n",
              "      <td>37195558.0</td>\n",
              "      <td>...</td>\n",
              "      <td>0.0</td>\n",
              "      <td>NaN</td>\n",
              "      <td>0.0</td>\n",
              "      <td>0.0</td>\n",
              "      <td>NaN</td>\n",
              "      <td>NaN</td>\n",
              "      <td>0.0</td>\n",
              "      <td>0.0</td>\n",
              "      <td>0.0</td>\n",
              "      <td>1</td>\n",
              "    </tr>\n",
              "  </tbody>\n",
              "</table>\n",
              "<p>5 rows × 42 columns</p>\n",
              "</div>\n",
              "    <div class=\"colab-df-buttons\">\n",
              "\n",
              "  <div class=\"colab-df-container\">\n",
              "    <button class=\"colab-df-convert\" onclick=\"convertToInteractive('df-abf03039-ef55-450a-944d-f156db066f34')\"\n",
              "            title=\"Convert this dataframe to an interactive table.\"\n",
              "            style=\"display:none;\">\n",
              "\n",
              "  <svg xmlns=\"http://www.w3.org/2000/svg\" height=\"24px\" viewBox=\"0 -960 960 960\">\n",
              "    <path d=\"M120-120v-720h720v720H120Zm60-500h600v-160H180v160Zm220 220h160v-160H400v160Zm0 220h160v-160H400v160ZM180-400h160v-160H180v160Zm440 0h160v-160H620v160ZM180-180h160v-160H180v160Zm440 0h160v-160H620v160Z\"/>\n",
              "  </svg>\n",
              "    </button>\n",
              "\n",
              "  <style>\n",
              "    .colab-df-container {\n",
              "      display:flex;\n",
              "      gap: 12px;\n",
              "    }\n",
              "\n",
              "    .colab-df-convert {\n",
              "      background-color: #E8F0FE;\n",
              "      border: none;\n",
              "      border-radius: 50%;\n",
              "      cursor: pointer;\n",
              "      display: none;\n",
              "      fill: #1967D2;\n",
              "      height: 32px;\n",
              "      padding: 0 0 0 0;\n",
              "      width: 32px;\n",
              "    }\n",
              "\n",
              "    .colab-df-convert:hover {\n",
              "      background-color: #E2EBFA;\n",
              "      box-shadow: 0px 1px 2px rgba(60, 64, 67, 0.3), 0px 1px 3px 1px rgba(60, 64, 67, 0.15);\n",
              "      fill: #174EA6;\n",
              "    }\n",
              "\n",
              "    .colab-df-buttons div {\n",
              "      margin-bottom: 4px;\n",
              "    }\n",
              "\n",
              "    [theme=dark] .colab-df-convert {\n",
              "      background-color: #3B4455;\n",
              "      fill: #D2E3FC;\n",
              "    }\n",
              "\n",
              "    [theme=dark] .colab-df-convert:hover {\n",
              "      background-color: #434B5C;\n",
              "      box-shadow: 0px 1px 3px 1px rgba(0, 0, 0, 0.15);\n",
              "      filter: drop-shadow(0px 1px 2px rgba(0, 0, 0, 0.3));\n",
              "      fill: #FFFFFF;\n",
              "    }\n",
              "  </style>\n",
              "\n",
              "    <script>\n",
              "      const buttonEl =\n",
              "        document.querySelector('#df-abf03039-ef55-450a-944d-f156db066f34 button.colab-df-convert');\n",
              "      buttonEl.style.display =\n",
              "        google.colab.kernel.accessAllowed ? 'block' : 'none';\n",
              "\n",
              "      async function convertToInteractive(key) {\n",
              "        const element = document.querySelector('#df-abf03039-ef55-450a-944d-f156db066f34');\n",
              "        const dataTable =\n",
              "          await google.colab.kernel.invokeFunction('convertToInteractive',\n",
              "                                                    [key], {});\n",
              "        if (!dataTable) return;\n",
              "\n",
              "        const docLinkHtml = 'Like what you see? Visit the ' +\n",
              "          '<a target=\"_blank\" href=https://colab.research.google.com/notebooks/data_table.ipynb>data table notebook</a>'\n",
              "          + ' to learn more about interactive tables.';\n",
              "        element.innerHTML = '';\n",
              "        dataTable['output_type'] = 'display_data';\n",
              "        await google.colab.output.renderOutput(dataTable, element);\n",
              "        const docLink = document.createElement('div');\n",
              "        docLink.innerHTML = docLinkHtml;\n",
              "        element.appendChild(docLink);\n",
              "      }\n",
              "    </script>\n",
              "  </div>\n",
              "\n",
              "\n",
              "<div id=\"df-b0714df8-4bac-477a-a60d-e53dbf298cb9\">\n",
              "  <button class=\"colab-df-quickchart\" onclick=\"quickchart('df-b0714df8-4bac-477a-a60d-e53dbf298cb9')\"\n",
              "            title=\"Suggest charts\"\n",
              "            style=\"display:none;\">\n",
              "\n",
              "<svg xmlns=\"http://www.w3.org/2000/svg\" height=\"24px\"viewBox=\"0 0 24 24\"\n",
              "     width=\"24px\">\n",
              "    <g>\n",
              "        <path d=\"M19 3H5c-1.1 0-2 .9-2 2v14c0 1.1.9 2 2 2h14c1.1 0 2-.9 2-2V5c0-1.1-.9-2-2-2zM9 17H7v-7h2v7zm4 0h-2V7h2v10zm4 0h-2v-4h2v4z\"/>\n",
              "    </g>\n",
              "</svg>\n",
              "  </button>\n",
              "\n",
              "<style>\n",
              "  .colab-df-quickchart {\n",
              "      --bg-color: #E8F0FE;\n",
              "      --fill-color: #1967D2;\n",
              "      --hover-bg-color: #E2EBFA;\n",
              "      --hover-fill-color: #174EA6;\n",
              "      --disabled-fill-color: #AAA;\n",
              "      --disabled-bg-color: #DDD;\n",
              "  }\n",
              "\n",
              "  [theme=dark] .colab-df-quickchart {\n",
              "      --bg-color: #3B4455;\n",
              "      --fill-color: #D2E3FC;\n",
              "      --hover-bg-color: #434B5C;\n",
              "      --hover-fill-color: #FFFFFF;\n",
              "      --disabled-bg-color: #3B4455;\n",
              "      --disabled-fill-color: #666;\n",
              "  }\n",
              "\n",
              "  .colab-df-quickchart {\n",
              "    background-color: var(--bg-color);\n",
              "    border: none;\n",
              "    border-radius: 50%;\n",
              "    cursor: pointer;\n",
              "    display: none;\n",
              "    fill: var(--fill-color);\n",
              "    height: 32px;\n",
              "    padding: 0;\n",
              "    width: 32px;\n",
              "  }\n",
              "\n",
              "  .colab-df-quickchart:hover {\n",
              "    background-color: var(--hover-bg-color);\n",
              "    box-shadow: 0 1px 2px rgba(60, 64, 67, 0.3), 0 1px 3px 1px rgba(60, 64, 67, 0.15);\n",
              "    fill: var(--button-hover-fill-color);\n",
              "  }\n",
              "\n",
              "  .colab-df-quickchart-complete:disabled,\n",
              "  .colab-df-quickchart-complete:disabled:hover {\n",
              "    background-color: var(--disabled-bg-color);\n",
              "    fill: var(--disabled-fill-color);\n",
              "    box-shadow: none;\n",
              "  }\n",
              "\n",
              "  .colab-df-spinner {\n",
              "    border: 2px solid var(--fill-color);\n",
              "    border-color: transparent;\n",
              "    border-bottom-color: var(--fill-color);\n",
              "    animation:\n",
              "      spin 1s steps(1) infinite;\n",
              "  }\n",
              "\n",
              "  @keyframes spin {\n",
              "    0% {\n",
              "      border-color: transparent;\n",
              "      border-bottom-color: var(--fill-color);\n",
              "      border-left-color: var(--fill-color);\n",
              "    }\n",
              "    20% {\n",
              "      border-color: transparent;\n",
              "      border-left-color: var(--fill-color);\n",
              "      border-top-color: var(--fill-color);\n",
              "    }\n",
              "    30% {\n",
              "      border-color: transparent;\n",
              "      border-left-color: var(--fill-color);\n",
              "      border-top-color: var(--fill-color);\n",
              "      border-right-color: var(--fill-color);\n",
              "    }\n",
              "    40% {\n",
              "      border-color: transparent;\n",
              "      border-right-color: var(--fill-color);\n",
              "      border-top-color: var(--fill-color);\n",
              "    }\n",
              "    60% {\n",
              "      border-color: transparent;\n",
              "      border-right-color: var(--fill-color);\n",
              "    }\n",
              "    80% {\n",
              "      border-color: transparent;\n",
              "      border-right-color: var(--fill-color);\n",
              "      border-bottom-color: var(--fill-color);\n",
              "    }\n",
              "    90% {\n",
              "      border-color: transparent;\n",
              "      border-bottom-color: var(--fill-color);\n",
              "    }\n",
              "  }\n",
              "</style>\n",
              "\n",
              "  <script>\n",
              "    async function quickchart(key) {\n",
              "      const quickchartButtonEl =\n",
              "        document.querySelector('#' + key + ' button');\n",
              "      quickchartButtonEl.disabled = true;  // To prevent multiple clicks.\n",
              "      quickchartButtonEl.classList.add('colab-df-spinner');\n",
              "      try {\n",
              "        const charts = await google.colab.kernel.invokeFunction(\n",
              "            'suggestCharts', [key], {});\n",
              "      } catch (error) {\n",
              "        console.error('Error during call to suggestCharts:', error);\n",
              "      }\n",
              "      quickchartButtonEl.classList.remove('colab-df-spinner');\n",
              "      quickchartButtonEl.classList.add('colab-df-quickchart-complete');\n",
              "    }\n",
              "    (() => {\n",
              "      let quickchartButtonEl =\n",
              "        document.querySelector('#df-b0714df8-4bac-477a-a60d-e53dbf298cb9 button');\n",
              "      quickchartButtonEl.style.display =\n",
              "        google.colab.kernel.accessAllowed ? 'block' : 'none';\n",
              "    })();\n",
              "  </script>\n",
              "</div>\n",
              "    </div>\n",
              "  </div>\n"
            ]
          },
          "metadata": {},
          "execution_count": 53
        }
      ]
    },
    {
      "cell_type": "code",
      "source": [
        "final_df.shape"
      ],
      "metadata": {
        "colab": {
          "base_uri": "https://localhost:8080/"
        },
        "id": "aJFUjge9AByv",
        "outputId": "a267bf9e-687c-4849-c48c-a8e352de15f4"
      },
      "execution_count": null,
      "outputs": [
        {
          "output_type": "execute_result",
          "data": {
            "text/plain": [
              "(44730, 42)"
            ]
          },
          "metadata": {},
          "execution_count": 54
        }
      ]
    },
    {
      "cell_type": "code",
      "source": [
        "final_df['account'].value_counts()"
      ],
      "metadata": {
        "colab": {
          "base_uri": "https://localhost:8080/"
        },
        "id": "YlBQG5pVA0a2",
        "outputId": "b0056942-3d46-40f6-fce6-b1db02537200"
      },
      "execution_count": null,
      "outputs": [
        {
          "output_type": "execute_result",
          "data": {
            "text/plain": [
              "112aMbzaifSzz17dt4iieNBNRaNMPMsBhN            1\n",
              "3CvS65zs3xdhXdMFm3kGWUV8fAbuY66xK4            1\n",
              "3Cv5N5qNsLuuAb3Ri5pNTJorsCqMi61Y9Z            1\n",
              "3Cv5reGPRwzKHLGhRg8xqHoNKnZA4BW3dn            1\n",
              "3Cv93NMVg8uC9yDA9dMi4RMf2ECufLRe2P            1\n",
              "                                             ..\n",
              "1Nqn1wjLqEVQg2X96XGoAySFLwQ2Rj8MWc            1\n",
              "1Nqt1CBWCfq126EYrs3nmzsiTysUbu7hEK            1\n",
              "1NqyHq7wD4iYuApEr29zpCuhDkCjkw7Eff            1\n",
              "1Nr1SWCbHpKjmfjSskwjbsY4Y1BntCeAcr            1\n",
              "bc1qzspr46dq4p6l56mj4g8zk6s0mtkmk4v8fr3gm4    1\n",
              "Name: account, Length: 44730, dtype: int64"
            ]
          },
          "metadata": {},
          "execution_count": 55
        }
      ]
    },
    {
      "cell_type": "code",
      "source": [
        "final_df.isnull().sum()"
      ],
      "metadata": {
        "colab": {
          "base_uri": "https://localhost:8080/"
        },
        "id": "19Z0jFSQA8P3",
        "outputId": "3358fc12-e31d-4563-e2bc-b14aae2b0aca"
      },
      "execution_count": null,
      "outputs": [
        {
          "output_type": "execute_result",
          "data": {
            "text/plain": [
              "account                                   0\n",
              "value_mean                                0\n",
              "value_median                              0\n",
              "value_variance                        28779\n",
              "value_maximum                             0\n",
              "value_minimum                             0\n",
              "value_skewness                        34183\n",
              "value_kurtosis                        36688\n",
              "value_25th_percentile                     0\n",
              "value_75th_percentile                     0\n",
              "value_range                               0\n",
              "value_usd_mean                            0\n",
              "value_usd_median                          0\n",
              "value_usd_variance                    28779\n",
              "value_usd_maximum                         0\n",
              "value_usd_minimum                         0\n",
              "value_usd_skewness                    34183\n",
              "value_usd_kurtosis                    36688\n",
              "value_usd_25th_percentile                 0\n",
              "value_usd_75th_percentile                 0\n",
              "value_usd_range                           0\n",
              "spending_value_usd_mean                   0\n",
              "spending_value_usd_median                 0\n",
              "spending_value_usd_variance           28779\n",
              "spending_value_usd_maximum                0\n",
              "spending_value_usd_minimum                0\n",
              "spending_value_usd_skewness           34183\n",
              "spending_value_usd_kurtosis           36688\n",
              "spending_value_usd_25th_percentile        0\n",
              "spending_value_usd_75th_percentile        0\n",
              "spending_value_usd_range                  0\n",
              "time_diff_mean                            0\n",
              "time_diff_median                          0\n",
              "time_diff_variance                    28779\n",
              "time_diff_maximum                         0\n",
              "time_diff_minimum                         0\n",
              "time_diff_skewness                    34183\n",
              "time_diff_kurtosis                    36688\n",
              "time_diff_25th_percentile                 0\n",
              "time_diff_75th_percentile                 0\n",
              "time_diff_range                           0\n",
              "transaction_count                         0\n",
              "dtype: int64"
            ]
          },
          "metadata": {},
          "execution_count": 56
        }
      ]
    },
    {
      "cell_type": "code",
      "source": [
        "df['account'].value_counts()"
      ],
      "metadata": {
        "colab": {
          "base_uri": "https://localhost:8080/"
        },
        "id": "XJGXIZcXBpfQ",
        "outputId": "82cc3915-4a9a-4051-b679-40eafd8498c2"
      },
      "execution_count": null,
      "outputs": [
        {
          "output_type": "execute_result",
          "data": {
            "text/plain": [
              "3HRZjedwF2AJejNTtgznWnas4E6froNP5r            356568\n",
              "32Mf4hkRXAxhrkY2EjrzVcX8diTPKVEfhA            261326\n",
              "3E5NsFYg9H64TSB9MroJCCZJG7dJ179Yge            212884\n",
              "3ABE4BZkwv2ubYYGhUtNxL57gMwenUEuNW            104715\n",
              "3Q3fELB57fJAd9kUJcUkMZfxm7ez55fN8p             76423\n",
              "                                               ...  \n",
              "35eGHHZu7t9NjcdZR5Se1bTd6NW1J7wjT5                 1\n",
              "35e4hsUQwJtRXhzBdFi9nWYN398xVTATZT                 1\n",
              "35dx5gSYpAJq9ScGj916ofEuwn81q9Hzzj                 1\n",
              "35duTEpvi6Sh3UxaAtg31ybwx3zRF8NUwH                 1\n",
              "bc1qzspr46dq4p6l56mj4g8zk6s0mtkmk4v8fr3gm4         1\n",
              "Name: account, Length: 44730, dtype: int64"
            ]
          },
          "metadata": {},
          "execution_count": 57
        }
      ]
    },
    {
      "cell_type": "code",
      "source": [
        "record_counts = df['account'].value_counts()\n",
        "\n",
        "threshold = 4\n",
        "accounts_with_few_records = record_counts[record_counts < threshold].index.tolist()\n",
        "len(accounts_with_few_records)"
      ],
      "metadata": {
        "id": "DrAeSh7xCL-m",
        "colab": {
          "base_uri": "https://localhost:8080/"
        },
        "outputId": "c18cd35d-eafa-422c-ac50-e7050cc54508"
      },
      "execution_count": null,
      "outputs": [
        {
          "output_type": "execute_result",
          "data": {
            "text/plain": [
              "36688"
            ]
          },
          "metadata": {},
          "execution_count": 58
        }
      ]
    },
    {
      "cell_type": "code",
      "source": [
        "final_df.to_csv('/content/drive/MyDrive/bitcoin_input_processed.csv', index=False)"
      ],
      "metadata": {
        "id": "gajftaxdxusD"
      },
      "execution_count": null,
      "outputs": []
    },
    {
      "cell_type": "markdown",
      "source": [
        "# Outputs"
      ],
      "metadata": {
        "id": "xaxbOmAwCpA3"
      }
    },
    {
      "cell_type": "code",
      "source": [
        "df1 = pd.read_csv(\"/content/drive/MyDrive/bitcoin_address_info_outputs2.csv\")"
      ],
      "metadata": {
        "id": "LPMv6qHhCsMq"
      },
      "execution_count": null,
      "outputs": []
    },
    {
      "cell_type": "code",
      "source": [
        "df1.dtypes"
      ],
      "metadata": {
        "colab": {
          "base_uri": "https://localhost:8080/"
        },
        "id": "clsWNHBPDSqI",
        "outputId": "6d325595-7981-415f-adb6-f37154b9bc7f"
      },
      "execution_count": null,
      "outputs": [
        {
          "output_type": "execute_result",
          "data": {
            "text/plain": [
              "account         object\n",
              "hash            object\n",
              "time_x          object\n",
              "value            int64\n",
              "value_usd      float64\n",
              "time_y          object\n",
              "is_coinbase      int64\n",
              "block_id         int64\n",
              "time            object\n",
              "dtype: object"
            ]
          },
          "metadata": {},
          "execution_count": 61
        }
      ]
    },
    {
      "cell_type": "code",
      "source": [
        "df1['account'] = df1['account'].astype('category')\n",
        "df1['hash'] = df1['hash'].astype('category')\n",
        "df1['value'] = df1['value'].astype('int64')\n",
        "df1['value_usd'] = df1['value_usd'].astype('float64')\n",
        "df1['block_id'] = df1['block_id'].astype('int64')\n",
        "df1['time'] = pd.to_datetime(df1['time'])"
      ],
      "metadata": {
        "id": "IWZW-szcCxDW"
      },
      "execution_count": null,
      "outputs": []
    },
    {
      "cell_type": "code",
      "source": [
        "\n",
        "def compute_statistics(group, column):\n",
        "    return {\n",
        "        'mean': group[column].mean(),\n",
        "        'median': group[column].median(),\n",
        "        'variance': group[column].var(),\n",
        "        'maximum': group[column].max(),\n",
        "        'minimum': group[column].min(),\n",
        "        'skewness': group[column].skew(),\n",
        "        'kurtosis': group[column].kurt(),\n",
        "        '25th_percentile': group[column].quantile(0.25),\n",
        "        '75th_percentile': group[column].quantile(0.75),\n",
        "        'range': group[column].max() - group[column].min()\n",
        "    }\n",
        "\n",
        "# Preparing for the final DataFrame\n",
        "results1 = []\n",
        "\n",
        "# Computing statistics for each account\n",
        "for name, group in df1.groupby('account'):\n",
        "    group = group.sort_values(by='time')\n",
        "    group['time_diff'] = group['time'].diff().dt.total_seconds().fillna(0)\n",
        "\n",
        "    stat_dict = {'account': name}\n",
        "    for column in ['value', 'value_usd', 'time_diff']:\n",
        "        stats = compute_statistics(group, column)\n",
        "        for key, value in stats.items():\n",
        "            stat_dict[f'{column}_{key}'] = value\n",
        "    stat_dict.update({\n",
        "            'transaction_count': len(group),\n",
        "        })\n",
        "\n",
        "    results1.append(stat_dict)\n"
      ],
      "metadata": {
        "id": "yH3Cu8PxC3vQ"
      },
      "execution_count": null,
      "outputs": []
    },
    {
      "cell_type": "code",
      "source": [
        "final_df1 = pd.DataFrame(results1)"
      ],
      "metadata": {
        "id": "yi627vV8DHST"
      },
      "execution_count": null,
      "outputs": []
    },
    {
      "cell_type": "code",
      "source": [
        "final_df1.head()"
      ],
      "metadata": {
        "colab": {
          "base_uri": "https://localhost:8080/",
          "height": 256
        },
        "id": "O-zJFBxrDMAJ",
        "outputId": "fc6b4d94-f02f-45b5-e445-90c15c1eef09"
      },
      "execution_count": null,
      "outputs": [
        {
          "output_type": "execute_result",
          "data": {
            "text/plain": [
              "                              account    value_mean  value_median  \\\n",
              "0  1122NYbAT2KkZDZ5TFvGy4D2Ut7eYfx4en  1.000000e+04       10000.0   \n",
              "1  112aMbzaifSzz17dt4iieNBNRaNMPMsBhN  4.126654e+06     3775772.0   \n",
              "2  112uqsxthsgX3bBSJzTaZngaNQhPfHnoa6  6.914500e+06     6914500.0   \n",
              "3  1131uSp9Aq2vf5kfxUCaP68nFsBoSoKByk  4.339443e+06     1167722.0   \n",
              "4  1136NPxiQgXe7a4hXoUmD8XwuUyBrwBjni  3.068000e+06     3068000.0   \n",
              "\n",
              "   value_variance  value_maximum  value_minimum  value_skewness  \\\n",
              "0             NaN          10000          10000             NaN   \n",
              "1    1.430222e+13       10000000         100000        0.960194   \n",
              "2    6.119498e+13       12446000        1383000             NaN   \n",
              "3    7.563074e+13       53137394            547        3.392790   \n",
              "4             NaN        3068000        3068000             NaN   \n",
              "\n",
              "   value_kurtosis  value_25th_percentile  value_75th_percentile  ...  \\\n",
              "0             NaN                10000.0                10000.0  ...   \n",
              "1        1.074525              1757500.0              5000000.0  ...   \n",
              "2             NaN              4148750.0              9680250.0  ...   \n",
              "3       12.405094               498441.0              3285207.0  ...   \n",
              "4             NaN              3068000.0              3068000.0  ...   \n",
              "\n",
              "   time_diff_median  time_diff_variance  time_diff_maximum  time_diff_minimum  \\\n",
              "0               0.0                 NaN                0.0                0.0   \n",
              "1           51199.0        3.195106e+14         40034756.0                0.0   \n",
              "2             532.0        5.660480e+05             1064.0                0.0   \n",
              "3           11521.0        3.419762e+09           451766.0                0.0   \n",
              "4               0.0                 NaN                0.0                0.0   \n",
              "\n",
              "   time_diff_skewness  time_diff_kurtosis  time_diff_25th_percentile  \\\n",
              "0                 NaN                 NaN                        0.0   \n",
              "1            2.235975            4.999665                    23241.0   \n",
              "2                 NaN                 NaN                      266.0   \n",
              "3            4.170106           24.283287                     2066.0   \n",
              "4                 NaN                 NaN                        0.0   \n",
              "\n",
              "   time_diff_75th_percentile  time_diff_range  transaction_count  \n",
              "0                        0.0              0.0                  1  \n",
              "1                   188317.0       40034756.0                  5  \n",
              "2                      798.0           1064.0                  2  \n",
              "3                    42373.0         451766.0                113  \n",
              "4                        0.0              0.0                  1  \n",
              "\n",
              "[5 rows x 32 columns]"
            ],
            "text/html": [
              "\n",
              "  <div id=\"df-58b3354f-b42c-475a-8078-183f215e3044\" class=\"colab-df-container\">\n",
              "    <div>\n",
              "<style scoped>\n",
              "    .dataframe tbody tr th:only-of-type {\n",
              "        vertical-align: middle;\n",
              "    }\n",
              "\n",
              "    .dataframe tbody tr th {\n",
              "        vertical-align: top;\n",
              "    }\n",
              "\n",
              "    .dataframe thead th {\n",
              "        text-align: right;\n",
              "    }\n",
              "</style>\n",
              "<table border=\"1\" class=\"dataframe\">\n",
              "  <thead>\n",
              "    <tr style=\"text-align: right;\">\n",
              "      <th></th>\n",
              "      <th>account</th>\n",
              "      <th>value_mean</th>\n",
              "      <th>value_median</th>\n",
              "      <th>value_variance</th>\n",
              "      <th>value_maximum</th>\n",
              "      <th>value_minimum</th>\n",
              "      <th>value_skewness</th>\n",
              "      <th>value_kurtosis</th>\n",
              "      <th>value_25th_percentile</th>\n",
              "      <th>value_75th_percentile</th>\n",
              "      <th>...</th>\n",
              "      <th>time_diff_median</th>\n",
              "      <th>time_diff_variance</th>\n",
              "      <th>time_diff_maximum</th>\n",
              "      <th>time_diff_minimum</th>\n",
              "      <th>time_diff_skewness</th>\n",
              "      <th>time_diff_kurtosis</th>\n",
              "      <th>time_diff_25th_percentile</th>\n",
              "      <th>time_diff_75th_percentile</th>\n",
              "      <th>time_diff_range</th>\n",
              "      <th>transaction_count</th>\n",
              "    </tr>\n",
              "  </thead>\n",
              "  <tbody>\n",
              "    <tr>\n",
              "      <th>0</th>\n",
              "      <td>1122NYbAT2KkZDZ5TFvGy4D2Ut7eYfx4en</td>\n",
              "      <td>1.000000e+04</td>\n",
              "      <td>10000.0</td>\n",
              "      <td>NaN</td>\n",
              "      <td>10000</td>\n",
              "      <td>10000</td>\n",
              "      <td>NaN</td>\n",
              "      <td>NaN</td>\n",
              "      <td>10000.0</td>\n",
              "      <td>10000.0</td>\n",
              "      <td>...</td>\n",
              "      <td>0.0</td>\n",
              "      <td>NaN</td>\n",
              "      <td>0.0</td>\n",
              "      <td>0.0</td>\n",
              "      <td>NaN</td>\n",
              "      <td>NaN</td>\n",
              "      <td>0.0</td>\n",
              "      <td>0.0</td>\n",
              "      <td>0.0</td>\n",
              "      <td>1</td>\n",
              "    </tr>\n",
              "    <tr>\n",
              "      <th>1</th>\n",
              "      <td>112aMbzaifSzz17dt4iieNBNRaNMPMsBhN</td>\n",
              "      <td>4.126654e+06</td>\n",
              "      <td>3775772.0</td>\n",
              "      <td>1.430222e+13</td>\n",
              "      <td>10000000</td>\n",
              "      <td>100000</td>\n",
              "      <td>0.960194</td>\n",
              "      <td>1.074525</td>\n",
              "      <td>1757500.0</td>\n",
              "      <td>5000000.0</td>\n",
              "      <td>...</td>\n",
              "      <td>51199.0</td>\n",
              "      <td>3.195106e+14</td>\n",
              "      <td>40034756.0</td>\n",
              "      <td>0.0</td>\n",
              "      <td>2.235975</td>\n",
              "      <td>4.999665</td>\n",
              "      <td>23241.0</td>\n",
              "      <td>188317.0</td>\n",
              "      <td>40034756.0</td>\n",
              "      <td>5</td>\n",
              "    </tr>\n",
              "    <tr>\n",
              "      <th>2</th>\n",
              "      <td>112uqsxthsgX3bBSJzTaZngaNQhPfHnoa6</td>\n",
              "      <td>6.914500e+06</td>\n",
              "      <td>6914500.0</td>\n",
              "      <td>6.119498e+13</td>\n",
              "      <td>12446000</td>\n",
              "      <td>1383000</td>\n",
              "      <td>NaN</td>\n",
              "      <td>NaN</td>\n",
              "      <td>4148750.0</td>\n",
              "      <td>9680250.0</td>\n",
              "      <td>...</td>\n",
              "      <td>532.0</td>\n",
              "      <td>5.660480e+05</td>\n",
              "      <td>1064.0</td>\n",
              "      <td>0.0</td>\n",
              "      <td>NaN</td>\n",
              "      <td>NaN</td>\n",
              "      <td>266.0</td>\n",
              "      <td>798.0</td>\n",
              "      <td>1064.0</td>\n",
              "      <td>2</td>\n",
              "    </tr>\n",
              "    <tr>\n",
              "      <th>3</th>\n",
              "      <td>1131uSp9Aq2vf5kfxUCaP68nFsBoSoKByk</td>\n",
              "      <td>4.339443e+06</td>\n",
              "      <td>1167722.0</td>\n",
              "      <td>7.563074e+13</td>\n",
              "      <td>53137394</td>\n",
              "      <td>547</td>\n",
              "      <td>3.392790</td>\n",
              "      <td>12.405094</td>\n",
              "      <td>498441.0</td>\n",
              "      <td>3285207.0</td>\n",
              "      <td>...</td>\n",
              "      <td>11521.0</td>\n",
              "      <td>3.419762e+09</td>\n",
              "      <td>451766.0</td>\n",
              "      <td>0.0</td>\n",
              "      <td>4.170106</td>\n",
              "      <td>24.283287</td>\n",
              "      <td>2066.0</td>\n",
              "      <td>42373.0</td>\n",
              "      <td>451766.0</td>\n",
              "      <td>113</td>\n",
              "    </tr>\n",
              "    <tr>\n",
              "      <th>4</th>\n",
              "      <td>1136NPxiQgXe7a4hXoUmD8XwuUyBrwBjni</td>\n",
              "      <td>3.068000e+06</td>\n",
              "      <td>3068000.0</td>\n",
              "      <td>NaN</td>\n",
              "      <td>3068000</td>\n",
              "      <td>3068000</td>\n",
              "      <td>NaN</td>\n",
              "      <td>NaN</td>\n",
              "      <td>3068000.0</td>\n",
              "      <td>3068000.0</td>\n",
              "      <td>...</td>\n",
              "      <td>0.0</td>\n",
              "      <td>NaN</td>\n",
              "      <td>0.0</td>\n",
              "      <td>0.0</td>\n",
              "      <td>NaN</td>\n",
              "      <td>NaN</td>\n",
              "      <td>0.0</td>\n",
              "      <td>0.0</td>\n",
              "      <td>0.0</td>\n",
              "      <td>1</td>\n",
              "    </tr>\n",
              "  </tbody>\n",
              "</table>\n",
              "<p>5 rows × 32 columns</p>\n",
              "</div>\n",
              "    <div class=\"colab-df-buttons\">\n",
              "\n",
              "  <div class=\"colab-df-container\">\n",
              "    <button class=\"colab-df-convert\" onclick=\"convertToInteractive('df-58b3354f-b42c-475a-8078-183f215e3044')\"\n",
              "            title=\"Convert this dataframe to an interactive table.\"\n",
              "            style=\"display:none;\">\n",
              "\n",
              "  <svg xmlns=\"http://www.w3.org/2000/svg\" height=\"24px\" viewBox=\"0 -960 960 960\">\n",
              "    <path d=\"M120-120v-720h720v720H120Zm60-500h600v-160H180v160Zm220 220h160v-160H400v160Zm0 220h160v-160H400v160ZM180-400h160v-160H180v160Zm440 0h160v-160H620v160ZM180-180h160v-160H180v160Zm440 0h160v-160H620v160Z\"/>\n",
              "  </svg>\n",
              "    </button>\n",
              "\n",
              "  <style>\n",
              "    .colab-df-container {\n",
              "      display:flex;\n",
              "      gap: 12px;\n",
              "    }\n",
              "\n",
              "    .colab-df-convert {\n",
              "      background-color: #E8F0FE;\n",
              "      border: none;\n",
              "      border-radius: 50%;\n",
              "      cursor: pointer;\n",
              "      display: none;\n",
              "      fill: #1967D2;\n",
              "      height: 32px;\n",
              "      padding: 0 0 0 0;\n",
              "      width: 32px;\n",
              "    }\n",
              "\n",
              "    .colab-df-convert:hover {\n",
              "      background-color: #E2EBFA;\n",
              "      box-shadow: 0px 1px 2px rgba(60, 64, 67, 0.3), 0px 1px 3px 1px rgba(60, 64, 67, 0.15);\n",
              "      fill: #174EA6;\n",
              "    }\n",
              "\n",
              "    .colab-df-buttons div {\n",
              "      margin-bottom: 4px;\n",
              "    }\n",
              "\n",
              "    [theme=dark] .colab-df-convert {\n",
              "      background-color: #3B4455;\n",
              "      fill: #D2E3FC;\n",
              "    }\n",
              "\n",
              "    [theme=dark] .colab-df-convert:hover {\n",
              "      background-color: #434B5C;\n",
              "      box-shadow: 0px 1px 3px 1px rgba(0, 0, 0, 0.15);\n",
              "      filter: drop-shadow(0px 1px 2px rgba(0, 0, 0, 0.3));\n",
              "      fill: #FFFFFF;\n",
              "    }\n",
              "  </style>\n",
              "\n",
              "    <script>\n",
              "      const buttonEl =\n",
              "        document.querySelector('#df-58b3354f-b42c-475a-8078-183f215e3044 button.colab-df-convert');\n",
              "      buttonEl.style.display =\n",
              "        google.colab.kernel.accessAllowed ? 'block' : 'none';\n",
              "\n",
              "      async function convertToInteractive(key) {\n",
              "        const element = document.querySelector('#df-58b3354f-b42c-475a-8078-183f215e3044');\n",
              "        const dataTable =\n",
              "          await google.colab.kernel.invokeFunction('convertToInteractive',\n",
              "                                                    [key], {});\n",
              "        if (!dataTable) return;\n",
              "\n",
              "        const docLinkHtml = 'Like what you see? Visit the ' +\n",
              "          '<a target=\"_blank\" href=https://colab.research.google.com/notebooks/data_table.ipynb>data table notebook</a>'\n",
              "          + ' to learn more about interactive tables.';\n",
              "        element.innerHTML = '';\n",
              "        dataTable['output_type'] = 'display_data';\n",
              "        await google.colab.output.renderOutput(dataTable, element);\n",
              "        const docLink = document.createElement('div');\n",
              "        docLink.innerHTML = docLinkHtml;\n",
              "        element.appendChild(docLink);\n",
              "      }\n",
              "    </script>\n",
              "  </div>\n",
              "\n",
              "\n",
              "<div id=\"df-de89556c-8dad-4edf-a20e-e342c08f903b\">\n",
              "  <button class=\"colab-df-quickchart\" onclick=\"quickchart('df-de89556c-8dad-4edf-a20e-e342c08f903b')\"\n",
              "            title=\"Suggest charts\"\n",
              "            style=\"display:none;\">\n",
              "\n",
              "<svg xmlns=\"http://www.w3.org/2000/svg\" height=\"24px\"viewBox=\"0 0 24 24\"\n",
              "     width=\"24px\">\n",
              "    <g>\n",
              "        <path d=\"M19 3H5c-1.1 0-2 .9-2 2v14c0 1.1.9 2 2 2h14c1.1 0 2-.9 2-2V5c0-1.1-.9-2-2-2zM9 17H7v-7h2v7zm4 0h-2V7h2v10zm4 0h-2v-4h2v4z\"/>\n",
              "    </g>\n",
              "</svg>\n",
              "  </button>\n",
              "\n",
              "<style>\n",
              "  .colab-df-quickchart {\n",
              "      --bg-color: #E8F0FE;\n",
              "      --fill-color: #1967D2;\n",
              "      --hover-bg-color: #E2EBFA;\n",
              "      --hover-fill-color: #174EA6;\n",
              "      --disabled-fill-color: #AAA;\n",
              "      --disabled-bg-color: #DDD;\n",
              "  }\n",
              "\n",
              "  [theme=dark] .colab-df-quickchart {\n",
              "      --bg-color: #3B4455;\n",
              "      --fill-color: #D2E3FC;\n",
              "      --hover-bg-color: #434B5C;\n",
              "      --hover-fill-color: #FFFFFF;\n",
              "      --disabled-bg-color: #3B4455;\n",
              "      --disabled-fill-color: #666;\n",
              "  }\n",
              "\n",
              "  .colab-df-quickchart {\n",
              "    background-color: var(--bg-color);\n",
              "    border: none;\n",
              "    border-radius: 50%;\n",
              "    cursor: pointer;\n",
              "    display: none;\n",
              "    fill: var(--fill-color);\n",
              "    height: 32px;\n",
              "    padding: 0;\n",
              "    width: 32px;\n",
              "  }\n",
              "\n",
              "  .colab-df-quickchart:hover {\n",
              "    background-color: var(--hover-bg-color);\n",
              "    box-shadow: 0 1px 2px rgba(60, 64, 67, 0.3), 0 1px 3px 1px rgba(60, 64, 67, 0.15);\n",
              "    fill: var(--button-hover-fill-color);\n",
              "  }\n",
              "\n",
              "  .colab-df-quickchart-complete:disabled,\n",
              "  .colab-df-quickchart-complete:disabled:hover {\n",
              "    background-color: var(--disabled-bg-color);\n",
              "    fill: var(--disabled-fill-color);\n",
              "    box-shadow: none;\n",
              "  }\n",
              "\n",
              "  .colab-df-spinner {\n",
              "    border: 2px solid var(--fill-color);\n",
              "    border-color: transparent;\n",
              "    border-bottom-color: var(--fill-color);\n",
              "    animation:\n",
              "      spin 1s steps(1) infinite;\n",
              "  }\n",
              "\n",
              "  @keyframes spin {\n",
              "    0% {\n",
              "      border-color: transparent;\n",
              "      border-bottom-color: var(--fill-color);\n",
              "      border-left-color: var(--fill-color);\n",
              "    }\n",
              "    20% {\n",
              "      border-color: transparent;\n",
              "      border-left-color: var(--fill-color);\n",
              "      border-top-color: var(--fill-color);\n",
              "    }\n",
              "    30% {\n",
              "      border-color: transparent;\n",
              "      border-left-color: var(--fill-color);\n",
              "      border-top-color: var(--fill-color);\n",
              "      border-right-color: var(--fill-color);\n",
              "    }\n",
              "    40% {\n",
              "      border-color: transparent;\n",
              "      border-right-color: var(--fill-color);\n",
              "      border-top-color: var(--fill-color);\n",
              "    }\n",
              "    60% {\n",
              "      border-color: transparent;\n",
              "      border-right-color: var(--fill-color);\n",
              "    }\n",
              "    80% {\n",
              "      border-color: transparent;\n",
              "      border-right-color: var(--fill-color);\n",
              "      border-bottom-color: var(--fill-color);\n",
              "    }\n",
              "    90% {\n",
              "      border-color: transparent;\n",
              "      border-bottom-color: var(--fill-color);\n",
              "    }\n",
              "  }\n",
              "</style>\n",
              "\n",
              "  <script>\n",
              "    async function quickchart(key) {\n",
              "      const quickchartButtonEl =\n",
              "        document.querySelector('#' + key + ' button');\n",
              "      quickchartButtonEl.disabled = true;  // To prevent multiple clicks.\n",
              "      quickchartButtonEl.classList.add('colab-df-spinner');\n",
              "      try {\n",
              "        const charts = await google.colab.kernel.invokeFunction(\n",
              "            'suggestCharts', [key], {});\n",
              "      } catch (error) {\n",
              "        console.error('Error during call to suggestCharts:', error);\n",
              "      }\n",
              "      quickchartButtonEl.classList.remove('colab-df-spinner');\n",
              "      quickchartButtonEl.classList.add('colab-df-quickchart-complete');\n",
              "    }\n",
              "    (() => {\n",
              "      let quickchartButtonEl =\n",
              "        document.querySelector('#df-de89556c-8dad-4edf-a20e-e342c08f903b button');\n",
              "      quickchartButtonEl.style.display =\n",
              "        google.colab.kernel.accessAllowed ? 'block' : 'none';\n",
              "    })();\n",
              "  </script>\n",
              "</div>\n",
              "    </div>\n",
              "  </div>\n"
            ]
          },
          "metadata": {},
          "execution_count": 65
        }
      ]
    },
    {
      "cell_type": "code",
      "source": [
        "final_df1.shape"
      ],
      "metadata": {
        "colab": {
          "base_uri": "https://localhost:8080/"
        },
        "id": "RVKrDpjEEt0h",
        "outputId": "e318aede-1c49-4964-c0e0-b4a443aa6d52"
      },
      "execution_count": null,
      "outputs": [
        {
          "output_type": "execute_result",
          "data": {
            "text/plain": [
              "(44875, 32)"
            ]
          },
          "metadata": {},
          "execution_count": 66
        }
      ]
    },
    {
      "cell_type": "code",
      "source": [
        "final_df1.isnull().sum()"
      ],
      "metadata": {
        "colab": {
          "base_uri": "https://localhost:8080/"
        },
        "id": "q4LBvqGwEv2z",
        "outputId": "7050e84f-f80f-4aba-8414-b1d5b0404182"
      },
      "execution_count": null,
      "outputs": [
        {
          "output_type": "execute_result",
          "data": {
            "text/plain": [
              "account                          0\n",
              "value_mean                       0\n",
              "value_median                     0\n",
              "value_variance               26861\n",
              "value_maximum                    0\n",
              "value_minimum                    0\n",
              "value_skewness               31765\n",
              "value_kurtosis               35679\n",
              "value_25th_percentile            0\n",
              "value_75th_percentile            0\n",
              "value_range                      0\n",
              "value_usd_mean                   0\n",
              "value_usd_median                 0\n",
              "value_usd_variance           26861\n",
              "value_usd_maximum                0\n",
              "value_usd_minimum                0\n",
              "value_usd_skewness           31765\n",
              "value_usd_kurtosis           35679\n",
              "value_usd_25th_percentile        0\n",
              "value_usd_75th_percentile        0\n",
              "value_usd_range                  0\n",
              "time_diff_mean                   0\n",
              "time_diff_median                 0\n",
              "time_diff_variance           26861\n",
              "time_diff_maximum                0\n",
              "time_diff_minimum                0\n",
              "time_diff_skewness           31765\n",
              "time_diff_kurtosis           35679\n",
              "time_diff_25th_percentile        0\n",
              "time_diff_75th_percentile        0\n",
              "time_diff_range                  0\n",
              "transaction_count                0\n",
              "dtype: int64"
            ]
          },
          "metadata": {},
          "execution_count": 67
        }
      ]
    },
    {
      "cell_type": "code",
      "source": [
        "record_counts = df1['account'].value_counts()\n",
        "\n",
        "threshold = 3\n",
        "accounts_with_few_records = record_counts[record_counts < threshold].index.tolist()\n",
        "len(accounts_with_few_records)"
      ],
      "metadata": {
        "colab": {
          "base_uri": "https://localhost:8080/"
        },
        "id": "BSdzR-kOEzuo",
        "outputId": "949a6061-ea26-4d15-dd79-9e4b3bdc8eb0"
      },
      "execution_count": null,
      "outputs": [
        {
          "output_type": "execute_result",
          "data": {
            "text/plain": [
              "31765"
            ]
          },
          "metadata": {},
          "execution_count": 68
        }
      ]
    },
    {
      "cell_type": "code",
      "source": [
        "record_counts = df1['account'].value_counts()\n",
        "\n",
        "threshold = 4\n",
        "accounts_with_few_records = record_counts[record_counts < threshold].index.tolist()\n",
        "len(accounts_with_few_records)"
      ],
      "metadata": {
        "colab": {
          "base_uri": "https://localhost:8080/"
        },
        "id": "OzL1-IA1E8DJ",
        "outputId": "75dcfd8e-f08d-4918-9e8d-c325d14d2662"
      },
      "execution_count": null,
      "outputs": [
        {
          "output_type": "execute_result",
          "data": {
            "text/plain": [
              "35679"
            ]
          },
          "metadata": {},
          "execution_count": 69
        }
      ]
    },
    {
      "cell_type": "code",
      "source": [
        "record_counts = df1['account'].value_counts()\n",
        "\n",
        "threshold = 2\n",
        "accounts_with_few_records = record_counts[record_counts < threshold].index.tolist()\n",
        "len(accounts_with_few_records)"
      ],
      "metadata": {
        "colab": {
          "base_uri": "https://localhost:8080/"
        },
        "id": "zQQM6wZ1tbw5",
        "outputId": "2af875fe-c341-4e76-e2ba-4c53af4150c6"
      },
      "execution_count": null,
      "outputs": [
        {
          "output_type": "execute_result",
          "data": {
            "text/plain": [
              "26861"
            ]
          },
          "metadata": {},
          "execution_count": 70
        }
      ]
    },
    {
      "cell_type": "code",
      "source": [
        "final_df1.to_csv('/content/drive/MyDrive/bitcoin_output_processed.csv', index=False)"
      ],
      "metadata": {
        "id": "jyEkP0wUxg_7"
      },
      "execution_count": null,
      "outputs": []
    },
    {
      "cell_type": "markdown",
      "source": [
        "# Combining Inputs & Outputs"
      ],
      "metadata": {
        "id": "ED9J5593xVGp"
      }
    },
    {
      "cell_type": "code",
      "source": [
        "final_df.columns"
      ],
      "metadata": {
        "colab": {
          "base_uri": "https://localhost:8080/"
        },
        "id": "cxQsZ-G-z9cf",
        "outputId": "b2b599db-5d64-4950-e34e-f2d419645506"
      },
      "execution_count": null,
      "outputs": [
        {
          "output_type": "execute_result",
          "data": {
            "text/plain": [
              "Index(['account', 'value_mean', 'value_median', 'value_variance',\n",
              "       'value_maximum', 'value_minimum', 'value_skewness', 'value_kurtosis',\n",
              "       'value_25th_percentile', 'value_75th_percentile', 'value_range',\n",
              "       'value_usd_mean', 'value_usd_median', 'value_usd_variance',\n",
              "       'value_usd_maximum', 'value_usd_minimum', 'value_usd_skewness',\n",
              "       'value_usd_kurtosis', 'value_usd_25th_percentile',\n",
              "       'value_usd_75th_percentile', 'value_usd_range',\n",
              "       'spending_value_usd_mean', 'spending_value_usd_median',\n",
              "       'spending_value_usd_variance', 'spending_value_usd_maximum',\n",
              "       'spending_value_usd_minimum', 'spending_value_usd_skewness',\n",
              "       'spending_value_usd_kurtosis', 'spending_value_usd_25th_percentile',\n",
              "       'spending_value_usd_75th_percentile', 'spending_value_usd_range',\n",
              "       'time_diff_mean', 'time_diff_median', 'time_diff_variance',\n",
              "       'time_diff_maximum', 'time_diff_minimum', 'time_diff_skewness',\n",
              "       'time_diff_kurtosis', 'time_diff_25th_percentile',\n",
              "       'time_diff_75th_percentile', 'time_diff_range', 'transaction_count'],\n",
              "      dtype='object')"
            ]
          },
          "metadata": {},
          "execution_count": 72
        }
      ]
    },
    {
      "cell_type": "code",
      "source": [
        "final_df1.columns"
      ],
      "metadata": {
        "colab": {
          "base_uri": "https://localhost:8080/"
        },
        "id": "lwXUdKJiz6fy",
        "outputId": "a203f239-fa42-451b-c61f-5f3b1d39b6da"
      },
      "execution_count": null,
      "outputs": [
        {
          "output_type": "execute_result",
          "data": {
            "text/plain": [
              "Index(['account', 'value_mean', 'value_median', 'value_variance',\n",
              "       'value_maximum', 'value_minimum', 'value_skewness', 'value_kurtosis',\n",
              "       'value_25th_percentile', 'value_75th_percentile', 'value_range',\n",
              "       'value_usd_mean', 'value_usd_median', 'value_usd_variance',\n",
              "       'value_usd_maximum', 'value_usd_minimum', 'value_usd_skewness',\n",
              "       'value_usd_kurtosis', 'value_usd_25th_percentile',\n",
              "       'value_usd_75th_percentile', 'value_usd_range', 'time_diff_mean',\n",
              "       'time_diff_median', 'time_diff_variance', 'time_diff_maximum',\n",
              "       'time_diff_minimum', 'time_diff_skewness', 'time_diff_kurtosis',\n",
              "       'time_diff_25th_percentile', 'time_diff_75th_percentile',\n",
              "       'time_diff_range', 'transaction_count'],\n",
              "      dtype='object')"
            ]
          },
          "metadata": {},
          "execution_count": 73
        }
      ]
    },
    {
      "cell_type": "code",
      "source": [
        "final_df = final_df.add_prefix('input_')\n",
        "final_df1 = final_df1.add_prefix('output_')\n",
        "\n",
        "# Rename 'key' columns back to original, as we want to merge on this column\n",
        "final_df = final_df.rename(columns={'input_account': 'account'})\n",
        "final_df1 = final_df1.rename(columns={'output_account': 'account'})"
      ],
      "metadata": {
        "id": "ON6pTD8H0YGD"
      },
      "execution_count": null,
      "outputs": []
    },
    {
      "cell_type": "code",
      "source": [
        "final_result = pd.merge(final_df, final_df1, on='account', how='outer')"
      ],
      "metadata": {
        "id": "nUXDfAVbxdjs"
      },
      "execution_count": null,
      "outputs": []
    },
    {
      "cell_type": "code",
      "source": [
        "final_result.head()"
      ],
      "metadata": {
        "colab": {
          "base_uri": "https://localhost:8080/",
          "height": 256
        },
        "id": "MDATv6T706ts",
        "outputId": "e29e3906-0ac6-441c-d2f3-6cd245f67eea"
      },
      "execution_count": null,
      "outputs": [
        {
          "output_type": "execute_result",
          "data": {
            "text/plain": [
              "                              account  input_value_mean  input_value_median  \\\n",
              "0  112aMbzaifSzz17dt4iieNBNRaNMPMsBhN      4.126654e+06           3775772.0   \n",
              "1  112uqsxthsgX3bBSJzTaZngaNQhPfHnoa6      6.914500e+06           6914500.0   \n",
              "2  1131uSp9Aq2vf5kfxUCaP68nFsBoSoKByk      3.880419e+06           1104075.0   \n",
              "3  1136NPxiQgXe7a4hXoUmD8XwuUyBrwBjni      3.068000e+06           3068000.0   \n",
              "4  113EN2Wep2eXUY7M7H4XNGGE9evGnVowR4      3.719556e+07          37195558.0   \n",
              "\n",
              "   input_value_variance  input_value_maximum  input_value_minimum  \\\n",
              "0          1.430222e+13           10000000.0             100000.0   \n",
              "1          6.119498e+13           12446000.0            1383000.0   \n",
              "2          6.499291e+13           53137394.0                547.0   \n",
              "3                   NaN            3068000.0            3068000.0   \n",
              "4                   NaN           37195558.0           37195558.0   \n",
              "\n",
              "   input_value_skewness  input_value_kurtosis  input_value_25th_percentile  \\\n",
              "0              0.960194              1.074525                    1757500.0   \n",
              "1                   NaN                   NaN                    4148750.0   \n",
              "2              3.927683             17.282748                     483815.5   \n",
              "3                   NaN                   NaN                    3068000.0   \n",
              "4                   NaN                   NaN                   37195558.0   \n",
              "\n",
              "   input_value_75th_percentile  ...  output_time_diff_median  \\\n",
              "0                    5000000.0  ...                  51199.0   \n",
              "1                    9680250.0  ...                    532.0   \n",
              "2                    3048058.0  ...                  11521.0   \n",
              "3                    3068000.0  ...                      0.0   \n",
              "4                   37195558.0  ...                      0.0   \n",
              "\n",
              "   output_time_diff_variance  output_time_diff_maximum  \\\n",
              "0               3.195106e+14                40034756.0   \n",
              "1               5.660480e+05                    1064.0   \n",
              "2               3.419762e+09                  451766.0   \n",
              "3                        NaN                       0.0   \n",
              "4                        NaN                       0.0   \n",
              "\n",
              "   output_time_diff_minimum  output_time_diff_skewness  \\\n",
              "0                       0.0                   2.235975   \n",
              "1                       0.0                        NaN   \n",
              "2                       0.0                   4.170106   \n",
              "3                       0.0                        NaN   \n",
              "4                       0.0                        NaN   \n",
              "\n",
              "   output_time_diff_kurtosis  output_time_diff_25th_percentile  \\\n",
              "0                   4.999665                           23241.0   \n",
              "1                        NaN                             266.0   \n",
              "2                  24.283287                            2066.0   \n",
              "3                        NaN                               0.0   \n",
              "4                        NaN                               0.0   \n",
              "\n",
              "   output_time_diff_75th_percentile  output_time_diff_range  \\\n",
              "0                          188317.0              40034756.0   \n",
              "1                             798.0                  1064.0   \n",
              "2                           42373.0                451766.0   \n",
              "3                               0.0                     0.0   \n",
              "4                               0.0                     0.0   \n",
              "\n",
              "   output_transaction_count  \n",
              "0                       5.0  \n",
              "1                       2.0  \n",
              "2                     113.0  \n",
              "3                       1.0  \n",
              "4                       1.0  \n",
              "\n",
              "[5 rows x 73 columns]"
            ],
            "text/html": [
              "\n",
              "  <div id=\"df-5fb924cd-ac89-4462-a9e6-54c48035c67a\" class=\"colab-df-container\">\n",
              "    <div>\n",
              "<style scoped>\n",
              "    .dataframe tbody tr th:only-of-type {\n",
              "        vertical-align: middle;\n",
              "    }\n",
              "\n",
              "    .dataframe tbody tr th {\n",
              "        vertical-align: top;\n",
              "    }\n",
              "\n",
              "    .dataframe thead th {\n",
              "        text-align: right;\n",
              "    }\n",
              "</style>\n",
              "<table border=\"1\" class=\"dataframe\">\n",
              "  <thead>\n",
              "    <tr style=\"text-align: right;\">\n",
              "      <th></th>\n",
              "      <th>account</th>\n",
              "      <th>input_value_mean</th>\n",
              "      <th>input_value_median</th>\n",
              "      <th>input_value_variance</th>\n",
              "      <th>input_value_maximum</th>\n",
              "      <th>input_value_minimum</th>\n",
              "      <th>input_value_skewness</th>\n",
              "      <th>input_value_kurtosis</th>\n",
              "      <th>input_value_25th_percentile</th>\n",
              "      <th>input_value_75th_percentile</th>\n",
              "      <th>...</th>\n",
              "      <th>output_time_diff_median</th>\n",
              "      <th>output_time_diff_variance</th>\n",
              "      <th>output_time_diff_maximum</th>\n",
              "      <th>output_time_diff_minimum</th>\n",
              "      <th>output_time_diff_skewness</th>\n",
              "      <th>output_time_diff_kurtosis</th>\n",
              "      <th>output_time_diff_25th_percentile</th>\n",
              "      <th>output_time_diff_75th_percentile</th>\n",
              "      <th>output_time_diff_range</th>\n",
              "      <th>output_transaction_count</th>\n",
              "    </tr>\n",
              "  </thead>\n",
              "  <tbody>\n",
              "    <tr>\n",
              "      <th>0</th>\n",
              "      <td>112aMbzaifSzz17dt4iieNBNRaNMPMsBhN</td>\n",
              "      <td>4.126654e+06</td>\n",
              "      <td>3775772.0</td>\n",
              "      <td>1.430222e+13</td>\n",
              "      <td>10000000.0</td>\n",
              "      <td>100000.0</td>\n",
              "      <td>0.960194</td>\n",
              "      <td>1.074525</td>\n",
              "      <td>1757500.0</td>\n",
              "      <td>5000000.0</td>\n",
              "      <td>...</td>\n",
              "      <td>51199.0</td>\n",
              "      <td>3.195106e+14</td>\n",
              "      <td>40034756.0</td>\n",
              "      <td>0.0</td>\n",
              "      <td>2.235975</td>\n",
              "      <td>4.999665</td>\n",
              "      <td>23241.0</td>\n",
              "      <td>188317.0</td>\n",
              "      <td>40034756.0</td>\n",
              "      <td>5.0</td>\n",
              "    </tr>\n",
              "    <tr>\n",
              "      <th>1</th>\n",
              "      <td>112uqsxthsgX3bBSJzTaZngaNQhPfHnoa6</td>\n",
              "      <td>6.914500e+06</td>\n",
              "      <td>6914500.0</td>\n",
              "      <td>6.119498e+13</td>\n",
              "      <td>12446000.0</td>\n",
              "      <td>1383000.0</td>\n",
              "      <td>NaN</td>\n",
              "      <td>NaN</td>\n",
              "      <td>4148750.0</td>\n",
              "      <td>9680250.0</td>\n",
              "      <td>...</td>\n",
              "      <td>532.0</td>\n",
              "      <td>5.660480e+05</td>\n",
              "      <td>1064.0</td>\n",
              "      <td>0.0</td>\n",
              "      <td>NaN</td>\n",
              "      <td>NaN</td>\n",
              "      <td>266.0</td>\n",
              "      <td>798.0</td>\n",
              "      <td>1064.0</td>\n",
              "      <td>2.0</td>\n",
              "    </tr>\n",
              "    <tr>\n",
              "      <th>2</th>\n",
              "      <td>1131uSp9Aq2vf5kfxUCaP68nFsBoSoKByk</td>\n",
              "      <td>3.880419e+06</td>\n",
              "      <td>1104075.0</td>\n",
              "      <td>6.499291e+13</td>\n",
              "      <td>53137394.0</td>\n",
              "      <td>547.0</td>\n",
              "      <td>3.927683</td>\n",
              "      <td>17.282748</td>\n",
              "      <td>483815.5</td>\n",
              "      <td>3048058.0</td>\n",
              "      <td>...</td>\n",
              "      <td>11521.0</td>\n",
              "      <td>3.419762e+09</td>\n",
              "      <td>451766.0</td>\n",
              "      <td>0.0</td>\n",
              "      <td>4.170106</td>\n",
              "      <td>24.283287</td>\n",
              "      <td>2066.0</td>\n",
              "      <td>42373.0</td>\n",
              "      <td>451766.0</td>\n",
              "      <td>113.0</td>\n",
              "    </tr>\n",
              "    <tr>\n",
              "      <th>3</th>\n",
              "      <td>1136NPxiQgXe7a4hXoUmD8XwuUyBrwBjni</td>\n",
              "      <td>3.068000e+06</td>\n",
              "      <td>3068000.0</td>\n",
              "      <td>NaN</td>\n",
              "      <td>3068000.0</td>\n",
              "      <td>3068000.0</td>\n",
              "      <td>NaN</td>\n",
              "      <td>NaN</td>\n",
              "      <td>3068000.0</td>\n",
              "      <td>3068000.0</td>\n",
              "      <td>...</td>\n",
              "      <td>0.0</td>\n",
              "      <td>NaN</td>\n",
              "      <td>0.0</td>\n",
              "      <td>0.0</td>\n",
              "      <td>NaN</td>\n",
              "      <td>NaN</td>\n",
              "      <td>0.0</td>\n",
              "      <td>0.0</td>\n",
              "      <td>0.0</td>\n",
              "      <td>1.0</td>\n",
              "    </tr>\n",
              "    <tr>\n",
              "      <th>4</th>\n",
              "      <td>113EN2Wep2eXUY7M7H4XNGGE9evGnVowR4</td>\n",
              "      <td>3.719556e+07</td>\n",
              "      <td>37195558.0</td>\n",
              "      <td>NaN</td>\n",
              "      <td>37195558.0</td>\n",
              "      <td>37195558.0</td>\n",
              "      <td>NaN</td>\n",
              "      <td>NaN</td>\n",
              "      <td>37195558.0</td>\n",
              "      <td>37195558.0</td>\n",
              "      <td>...</td>\n",
              "      <td>0.0</td>\n",
              "      <td>NaN</td>\n",
              "      <td>0.0</td>\n",
              "      <td>0.0</td>\n",
              "      <td>NaN</td>\n",
              "      <td>NaN</td>\n",
              "      <td>0.0</td>\n",
              "      <td>0.0</td>\n",
              "      <td>0.0</td>\n",
              "      <td>1.0</td>\n",
              "    </tr>\n",
              "  </tbody>\n",
              "</table>\n",
              "<p>5 rows × 73 columns</p>\n",
              "</div>\n",
              "    <div class=\"colab-df-buttons\">\n",
              "\n",
              "  <div class=\"colab-df-container\">\n",
              "    <button class=\"colab-df-convert\" onclick=\"convertToInteractive('df-5fb924cd-ac89-4462-a9e6-54c48035c67a')\"\n",
              "            title=\"Convert this dataframe to an interactive table.\"\n",
              "            style=\"display:none;\">\n",
              "\n",
              "  <svg xmlns=\"http://www.w3.org/2000/svg\" height=\"24px\" viewBox=\"0 -960 960 960\">\n",
              "    <path d=\"M120-120v-720h720v720H120Zm60-500h600v-160H180v160Zm220 220h160v-160H400v160Zm0 220h160v-160H400v160ZM180-400h160v-160H180v160Zm440 0h160v-160H620v160ZM180-180h160v-160H180v160Zm440 0h160v-160H620v160Z\"/>\n",
              "  </svg>\n",
              "    </button>\n",
              "\n",
              "  <style>\n",
              "    .colab-df-container {\n",
              "      display:flex;\n",
              "      gap: 12px;\n",
              "    }\n",
              "\n",
              "    .colab-df-convert {\n",
              "      background-color: #E8F0FE;\n",
              "      border: none;\n",
              "      border-radius: 50%;\n",
              "      cursor: pointer;\n",
              "      display: none;\n",
              "      fill: #1967D2;\n",
              "      height: 32px;\n",
              "      padding: 0 0 0 0;\n",
              "      width: 32px;\n",
              "    }\n",
              "\n",
              "    .colab-df-convert:hover {\n",
              "      background-color: #E2EBFA;\n",
              "      box-shadow: 0px 1px 2px rgba(60, 64, 67, 0.3), 0px 1px 3px 1px rgba(60, 64, 67, 0.15);\n",
              "      fill: #174EA6;\n",
              "    }\n",
              "\n",
              "    .colab-df-buttons div {\n",
              "      margin-bottom: 4px;\n",
              "    }\n",
              "\n",
              "    [theme=dark] .colab-df-convert {\n",
              "      background-color: #3B4455;\n",
              "      fill: #D2E3FC;\n",
              "    }\n",
              "\n",
              "    [theme=dark] .colab-df-convert:hover {\n",
              "      background-color: #434B5C;\n",
              "      box-shadow: 0px 1px 3px 1px rgba(0, 0, 0, 0.15);\n",
              "      filter: drop-shadow(0px 1px 2px rgba(0, 0, 0, 0.3));\n",
              "      fill: #FFFFFF;\n",
              "    }\n",
              "  </style>\n",
              "\n",
              "    <script>\n",
              "      const buttonEl =\n",
              "        document.querySelector('#df-5fb924cd-ac89-4462-a9e6-54c48035c67a button.colab-df-convert');\n",
              "      buttonEl.style.display =\n",
              "        google.colab.kernel.accessAllowed ? 'block' : 'none';\n",
              "\n",
              "      async function convertToInteractive(key) {\n",
              "        const element = document.querySelector('#df-5fb924cd-ac89-4462-a9e6-54c48035c67a');\n",
              "        const dataTable =\n",
              "          await google.colab.kernel.invokeFunction('convertToInteractive',\n",
              "                                                    [key], {});\n",
              "        if (!dataTable) return;\n",
              "\n",
              "        const docLinkHtml = 'Like what you see? Visit the ' +\n",
              "          '<a target=\"_blank\" href=https://colab.research.google.com/notebooks/data_table.ipynb>data table notebook</a>'\n",
              "          + ' to learn more about interactive tables.';\n",
              "        element.innerHTML = '';\n",
              "        dataTable['output_type'] = 'display_data';\n",
              "        await google.colab.output.renderOutput(dataTable, element);\n",
              "        const docLink = document.createElement('div');\n",
              "        docLink.innerHTML = docLinkHtml;\n",
              "        element.appendChild(docLink);\n",
              "      }\n",
              "    </script>\n",
              "  </div>\n",
              "\n",
              "\n",
              "<div id=\"df-3c87fa37-52c0-4d1f-8ca3-77e0a45ace75\">\n",
              "  <button class=\"colab-df-quickchart\" onclick=\"quickchart('df-3c87fa37-52c0-4d1f-8ca3-77e0a45ace75')\"\n",
              "            title=\"Suggest charts\"\n",
              "            style=\"display:none;\">\n",
              "\n",
              "<svg xmlns=\"http://www.w3.org/2000/svg\" height=\"24px\"viewBox=\"0 0 24 24\"\n",
              "     width=\"24px\">\n",
              "    <g>\n",
              "        <path d=\"M19 3H5c-1.1 0-2 .9-2 2v14c0 1.1.9 2 2 2h14c1.1 0 2-.9 2-2V5c0-1.1-.9-2-2-2zM9 17H7v-7h2v7zm4 0h-2V7h2v10zm4 0h-2v-4h2v4z\"/>\n",
              "    </g>\n",
              "</svg>\n",
              "  </button>\n",
              "\n",
              "<style>\n",
              "  .colab-df-quickchart {\n",
              "      --bg-color: #E8F0FE;\n",
              "      --fill-color: #1967D2;\n",
              "      --hover-bg-color: #E2EBFA;\n",
              "      --hover-fill-color: #174EA6;\n",
              "      --disabled-fill-color: #AAA;\n",
              "      --disabled-bg-color: #DDD;\n",
              "  }\n",
              "\n",
              "  [theme=dark] .colab-df-quickchart {\n",
              "      --bg-color: #3B4455;\n",
              "      --fill-color: #D2E3FC;\n",
              "      --hover-bg-color: #434B5C;\n",
              "      --hover-fill-color: #FFFFFF;\n",
              "      --disabled-bg-color: #3B4455;\n",
              "      --disabled-fill-color: #666;\n",
              "  }\n",
              "\n",
              "  .colab-df-quickchart {\n",
              "    background-color: var(--bg-color);\n",
              "    border: none;\n",
              "    border-radius: 50%;\n",
              "    cursor: pointer;\n",
              "    display: none;\n",
              "    fill: var(--fill-color);\n",
              "    height: 32px;\n",
              "    padding: 0;\n",
              "    width: 32px;\n",
              "  }\n",
              "\n",
              "  .colab-df-quickchart:hover {\n",
              "    background-color: var(--hover-bg-color);\n",
              "    box-shadow: 0 1px 2px rgba(60, 64, 67, 0.3), 0 1px 3px 1px rgba(60, 64, 67, 0.15);\n",
              "    fill: var(--button-hover-fill-color);\n",
              "  }\n",
              "\n",
              "  .colab-df-quickchart-complete:disabled,\n",
              "  .colab-df-quickchart-complete:disabled:hover {\n",
              "    background-color: var(--disabled-bg-color);\n",
              "    fill: var(--disabled-fill-color);\n",
              "    box-shadow: none;\n",
              "  }\n",
              "\n",
              "  .colab-df-spinner {\n",
              "    border: 2px solid var(--fill-color);\n",
              "    border-color: transparent;\n",
              "    border-bottom-color: var(--fill-color);\n",
              "    animation:\n",
              "      spin 1s steps(1) infinite;\n",
              "  }\n",
              "\n",
              "  @keyframes spin {\n",
              "    0% {\n",
              "      border-color: transparent;\n",
              "      border-bottom-color: var(--fill-color);\n",
              "      border-left-color: var(--fill-color);\n",
              "    }\n",
              "    20% {\n",
              "      border-color: transparent;\n",
              "      border-left-color: var(--fill-color);\n",
              "      border-top-color: var(--fill-color);\n",
              "    }\n",
              "    30% {\n",
              "      border-color: transparent;\n",
              "      border-left-color: var(--fill-color);\n",
              "      border-top-color: var(--fill-color);\n",
              "      border-right-color: var(--fill-color);\n",
              "    }\n",
              "    40% {\n",
              "      border-color: transparent;\n",
              "      border-right-color: var(--fill-color);\n",
              "      border-top-color: var(--fill-color);\n",
              "    }\n",
              "    60% {\n",
              "      border-color: transparent;\n",
              "      border-right-color: var(--fill-color);\n",
              "    }\n",
              "    80% {\n",
              "      border-color: transparent;\n",
              "      border-right-color: var(--fill-color);\n",
              "      border-bottom-color: var(--fill-color);\n",
              "    }\n",
              "    90% {\n",
              "      border-color: transparent;\n",
              "      border-bottom-color: var(--fill-color);\n",
              "    }\n",
              "  }\n",
              "</style>\n",
              "\n",
              "  <script>\n",
              "    async function quickchart(key) {\n",
              "      const quickchartButtonEl =\n",
              "        document.querySelector('#' + key + ' button');\n",
              "      quickchartButtonEl.disabled = true;  // To prevent multiple clicks.\n",
              "      quickchartButtonEl.classList.add('colab-df-spinner');\n",
              "      try {\n",
              "        const charts = await google.colab.kernel.invokeFunction(\n",
              "            'suggestCharts', [key], {});\n",
              "      } catch (error) {\n",
              "        console.error('Error during call to suggestCharts:', error);\n",
              "      }\n",
              "      quickchartButtonEl.classList.remove('colab-df-spinner');\n",
              "      quickchartButtonEl.classList.add('colab-df-quickchart-complete');\n",
              "    }\n",
              "    (() => {\n",
              "      let quickchartButtonEl =\n",
              "        document.querySelector('#df-3c87fa37-52c0-4d1f-8ca3-77e0a45ace75 button');\n",
              "      quickchartButtonEl.style.display =\n",
              "        google.colab.kernel.accessAllowed ? 'block' : 'none';\n",
              "    })();\n",
              "  </script>\n",
              "</div>\n",
              "    </div>\n",
              "  </div>\n"
            ]
          },
          "metadata": {},
          "execution_count": 76
        }
      ]
    },
    {
      "cell_type": "code",
      "source": [
        "final_result.columns"
      ],
      "metadata": {
        "colab": {
          "base_uri": "https://localhost:8080/"
        },
        "id": "jTDgpPtM0-F5",
        "outputId": "a0523c79-7437-49c6-9f33-ba02f2709ca8"
      },
      "execution_count": null,
      "outputs": [
        {
          "output_type": "execute_result",
          "data": {
            "text/plain": [
              "Index(['account', 'input_value_mean', 'input_value_median',\n",
              "       'input_value_variance', 'input_value_maximum', 'input_value_minimum',\n",
              "       'input_value_skewness', 'input_value_kurtosis',\n",
              "       'input_value_25th_percentile', 'input_value_75th_percentile',\n",
              "       'input_value_range', 'input_value_usd_mean', 'input_value_usd_median',\n",
              "       'input_value_usd_variance', 'input_value_usd_maximum',\n",
              "       'input_value_usd_minimum', 'input_value_usd_skewness',\n",
              "       'input_value_usd_kurtosis', 'input_value_usd_25th_percentile',\n",
              "       'input_value_usd_75th_percentile', 'input_value_usd_range',\n",
              "       'input_spending_value_usd_mean', 'input_spending_value_usd_median',\n",
              "       'input_spending_value_usd_variance', 'input_spending_value_usd_maximum',\n",
              "       'input_spending_value_usd_minimum', 'input_spending_value_usd_skewness',\n",
              "       'input_spending_value_usd_kurtosis',\n",
              "       'input_spending_value_usd_25th_percentile',\n",
              "       'input_spending_value_usd_75th_percentile',\n",
              "       'input_spending_value_usd_range', 'input_time_diff_mean',\n",
              "       'input_time_diff_median', 'input_time_diff_variance',\n",
              "       'input_time_diff_maximum', 'input_time_diff_minimum',\n",
              "       'input_time_diff_skewness', 'input_time_diff_kurtosis',\n",
              "       'input_time_diff_25th_percentile', 'input_time_diff_75th_percentile',\n",
              "       'input_time_diff_range', 'input_transaction_count', 'output_value_mean',\n",
              "       'output_value_median', 'output_value_variance', 'output_value_maximum',\n",
              "       'output_value_minimum', 'output_value_skewness',\n",
              "       'output_value_kurtosis', 'output_value_25th_percentile',\n",
              "       'output_value_75th_percentile', 'output_value_range',\n",
              "       'output_value_usd_mean', 'output_value_usd_median',\n",
              "       'output_value_usd_variance', 'output_value_usd_maximum',\n",
              "       'output_value_usd_minimum', 'output_value_usd_skewness',\n",
              "       'output_value_usd_kurtosis', 'output_value_usd_25th_percentile',\n",
              "       'output_value_usd_75th_percentile', 'output_value_usd_range',\n",
              "       'output_time_diff_mean', 'output_time_diff_median',\n",
              "       'output_time_diff_variance', 'output_time_diff_maximum',\n",
              "       'output_time_diff_minimum', 'output_time_diff_skewness',\n",
              "       'output_time_diff_kurtosis', 'output_time_diff_25th_percentile',\n",
              "       'output_time_diff_75th_percentile', 'output_time_diff_range',\n",
              "       'output_transaction_count'],\n",
              "      dtype='object')"
            ]
          },
          "metadata": {},
          "execution_count": 77
        }
      ]
    },
    {
      "cell_type": "code",
      "source": [
        "final_result.isnull().sum()"
      ],
      "metadata": {
        "colab": {
          "base_uri": "https://localhost:8080/"
        },
        "id": "T-OqPb_I1Bj3",
        "outputId": "5111521a-049b-482b-d335-b93b36443e3d"
      },
      "execution_count": null,
      "outputs": [
        {
          "output_type": "execute_result",
          "data": {
            "text/plain": [
              "account                                 0\n",
              "input_value_mean                      280\n",
              "input_value_median                    280\n",
              "input_value_variance                29059\n",
              "input_value_maximum                   280\n",
              "                                    ...  \n",
              "output_time_diff_kurtosis           35814\n",
              "output_time_diff_25th_percentile      135\n",
              "output_time_diff_75th_percentile      135\n",
              "output_time_diff_range                135\n",
              "output_transaction_count              135\n",
              "Length: 73, dtype: int64"
            ]
          },
          "metadata": {},
          "execution_count": 78
        }
      ]
    },
    {
      "cell_type": "code",
      "source": [
        "final_result[['input_transaction_count', 'output_transaction_count']].isnull().sum()"
      ],
      "metadata": {
        "colab": {
          "base_uri": "https://localhost:8080/"
        },
        "id": "cmTjQhbK1bv_",
        "outputId": "45551fb1-ae0b-444c-c46f-575e93ad4ee8"
      },
      "execution_count": null,
      "outputs": [
        {
          "output_type": "execute_result",
          "data": {
            "text/plain": [
              "input_transaction_count     280\n",
              "output_transaction_count    135\n",
              "dtype: int64"
            ]
          },
          "metadata": {},
          "execution_count": 79
        }
      ]
    },
    {
      "cell_type": "code",
      "source": [
        "null_counts = final_result[\n",
        "    final_result['input_transaction_count'].isnull() &\n",
        "    final_result['output_transaction_count'].isnull()\n",
        "].shape[0]\n",
        "\n",
        "print(null_counts)"
      ],
      "metadata": {
        "colab": {
          "base_uri": "https://localhost:8080/"
        },
        "id": "rw7ypKvn12cG",
        "outputId": "0785b998-ef17-4ec1-d372-5abfa8e1588a"
      },
      "execution_count": null,
      "outputs": [
        {
          "output_type": "stream",
          "name": "stdout",
          "text": [
            "0\n"
          ]
        }
      ]
    },
    {
      "cell_type": "code",
      "source": [
        "final_result.to_csv('/content/drive/MyDrive/bitcoin_final.csv', index=False)"
      ],
      "metadata": {
        "id": "jSRoWzJe24F7"
      },
      "execution_count": null,
      "outputs": []
    },
    {
      "cell_type": "code",
      "source": [
        "babd_sample = pd.read_csv(\"/content/drive/MyDrive/combined_babd_sample.csv\")"
      ],
      "metadata": {
        "id": "U4GW-Bwy_S_U"
      },
      "execution_count": null,
      "outputs": []
    },
    {
      "cell_type": "code",
      "source": [
        "final_result_label = pd.merge(final_result, babd_sample, on='account', how='left')"
      ],
      "metadata": {
        "id": "V41pYGts_cX2"
      },
      "execution_count": null,
      "outputs": []
    },
    {
      "cell_type": "code",
      "source": [
        "final_result.shape"
      ],
      "metadata": {
        "colab": {
          "base_uri": "https://localhost:8080/"
        },
        "id": "tLcNeNL0_lrE",
        "outputId": "4676aba2-6ae7-42c7-8abe-03f1085fbcad"
      },
      "execution_count": null,
      "outputs": [
        {
          "output_type": "execute_result",
          "data": {
            "text/plain": [
              "(45010, 73)"
            ]
          },
          "metadata": {},
          "execution_count": 84
        }
      ]
    },
    {
      "cell_type": "code",
      "source": [
        "final_result_label.shape"
      ],
      "metadata": {
        "colab": {
          "base_uri": "https://localhost:8080/"
        },
        "id": "F3l_Wpvb_oCL",
        "outputId": "8ad65a70-4bdf-429b-851c-01add0224765"
      },
      "execution_count": null,
      "outputs": [
        {
          "output_type": "execute_result",
          "data": {
            "text/plain": [
              "(46612, 74)"
            ]
          },
          "metadata": {},
          "execution_count": 85
        }
      ]
    },
    {
      "cell_type": "code",
      "source": [
        "babd_group = babd_sample.groupby('account')\n"
      ],
      "metadata": {
        "id": "w1PPkzWyAG7I"
      },
      "execution_count": null,
      "outputs": []
    },
    {
      "cell_type": "code",
      "source": [
        "group_count_with_diff_labels = sum(group['label'].nunique() > 1 for _, group in babd_group)\n",
        "\n",
        "group_count_with_diff_labels"
      ],
      "metadata": {
        "colab": {
          "base_uri": "https://localhost:8080/"
        },
        "id": "FVUyFaLZbDlr",
        "outputId": "0ccdad60-f453-4359-d358-ea5936370961"
      },
      "execution_count": null,
      "outputs": [
        {
          "output_type": "execute_result",
          "data": {
            "text/plain": [
              "1065"
            ]
          },
          "metadata": {},
          "execution_count": 87
        }
      ]
    },
    {
      "cell_type": "code",
      "source": [
        "\n",
        "non_unique_label_accounts = babd_group.filter(lambda x: x['label'].nunique() > 1)['account'].unique()\n",
        "\n",
        "non_unique_label_accounts"
      ],
      "metadata": {
        "colab": {
          "base_uri": "https://localhost:8080/"
        },
        "id": "uI9x_kC0bFxa",
        "outputId": "475efd36-27bc-42a7-fc94-348c99a5b17c"
      },
      "execution_count": null,
      "outputs": [
        {
          "output_type": "execute_result",
          "data": {
            "text/plain": [
              "array(['19krxcYxs9dyuyCxkFdmvB4bXfKC46PB5x',\n",
              "       '113ioG4RFd9pRVfJVKauCbg7QH3oUe6URa',\n",
              "       '114QyEQGVvamQTVDHBXB9DqDnNBSyVvvMD', ...,\n",
              "       '38vfecvCWN1o7yJrKjUXpX9iKWQuj992Rv',\n",
              "       '3JyL33QhbtxZMvw3T5qHXPPQtMxRbwWJk3',\n",
              "       'bc1qyep0rradh8z7ha3fhzauy3x2fh6teglkd7zkx7'], dtype=object)"
            ]
          },
          "metadata": {},
          "execution_count": 88
        }
      ]
    },
    {
      "cell_type": "code",
      "source": [
        "def select_label(group):\n",
        "    label_counts = group['label'].value_counts()\n",
        "    # If there's a most frequent label, use that, otherwise use the first one\n",
        "    return label_counts.idxmax() if label_counts.max() > 1 else group['label'].iloc[0]\n",
        "\n",
        "# Grouping by 'account' and applying the label selection function\n",
        "selected_labels = babd_sample.groupby('account').apply(select_label).reset_index(name='selected_label')\n",
        "\n",
        "# Merging the selected labels back with the original DataFrame and dropping duplicates\n",
        "filtered_babd_sample = pd.merge(babd_sample.drop('label', axis=1), selected_labels, on='account').drop_duplicates('account')\n"
      ],
      "metadata": {
        "id": "dD9O0P23Msi_"
      },
      "execution_count": null,
      "outputs": []
    },
    {
      "cell_type": "code",
      "source": [
        "babd_sample.shape"
      ],
      "metadata": {
        "colab": {
          "base_uri": "https://localhost:8080/"
        },
        "id": "AFqhQLojTnxl",
        "outputId": "cb1dcb8d-82f9-42f2-badf-6cb83381da91"
      },
      "execution_count": null,
      "outputs": [
        {
          "output_type": "execute_result",
          "data": {
            "text/plain": [
              "(46612, 2)"
            ]
          },
          "metadata": {},
          "execution_count": 92
        }
      ]
    },
    {
      "cell_type": "code",
      "source": [
        "filtered_babd_sample.shape"
      ],
      "metadata": {
        "colab": {
          "base_uri": "https://localhost:8080/"
        },
        "id": "bXcU0B4bQKTI",
        "outputId": "ffb1b552-aba4-4655-d3d8-a0e6cae12857"
      },
      "execution_count": null,
      "outputs": [
        {
          "output_type": "execute_result",
          "data": {
            "text/plain": [
              "(45010, 2)"
            ]
          },
          "metadata": {},
          "execution_count": 90
        }
      ]
    },
    {
      "cell_type": "code",
      "source": [
        "filtered_babd_sample.head()"
      ],
      "metadata": {
        "colab": {
          "base_uri": "https://localhost:8080/",
          "height": 206
        },
        "id": "QfSjkMgzTkKV",
        "outputId": "cf319632-9d17-4323-fd8d-c7ccfc20ef9b"
      },
      "execution_count": null,
      "outputs": [
        {
          "output_type": "execute_result",
          "data": {
            "text/plain": [
              "                              account  selected_label\n",
              "0  1MYVum5nsg9irQMrUsh4sxE8obfbSwTmBL              -1\n",
              "1  19DrAW7qQrashPBg7r6tWkTxD7sL1cA82B              -1\n",
              "2   1gpfEvpEZ2qfz8vbRoRtAQoqnpmYTFNWU              -1\n",
              "3  336eBgmKhxYNKCG44xXnAkhH5PVhpo7JsF              -1\n",
              "4  1N8k4iXndXpWNdYUKkF3dLybxQZ6pGwT69              -1"
            ],
            "text/html": [
              "\n",
              "  <div id=\"df-885a4c85-e8d8-44c5-9b8a-d85b4af8c7c6\" class=\"colab-df-container\">\n",
              "    <div>\n",
              "<style scoped>\n",
              "    .dataframe tbody tr th:only-of-type {\n",
              "        vertical-align: middle;\n",
              "    }\n",
              "\n",
              "    .dataframe tbody tr th {\n",
              "        vertical-align: top;\n",
              "    }\n",
              "\n",
              "    .dataframe thead th {\n",
              "        text-align: right;\n",
              "    }\n",
              "</style>\n",
              "<table border=\"1\" class=\"dataframe\">\n",
              "  <thead>\n",
              "    <tr style=\"text-align: right;\">\n",
              "      <th></th>\n",
              "      <th>account</th>\n",
              "      <th>selected_label</th>\n",
              "    </tr>\n",
              "  </thead>\n",
              "  <tbody>\n",
              "    <tr>\n",
              "      <th>0</th>\n",
              "      <td>1MYVum5nsg9irQMrUsh4sxE8obfbSwTmBL</td>\n",
              "      <td>-1</td>\n",
              "    </tr>\n",
              "    <tr>\n",
              "      <th>1</th>\n",
              "      <td>19DrAW7qQrashPBg7r6tWkTxD7sL1cA82B</td>\n",
              "      <td>-1</td>\n",
              "    </tr>\n",
              "    <tr>\n",
              "      <th>2</th>\n",
              "      <td>1gpfEvpEZ2qfz8vbRoRtAQoqnpmYTFNWU</td>\n",
              "      <td>-1</td>\n",
              "    </tr>\n",
              "    <tr>\n",
              "      <th>3</th>\n",
              "      <td>336eBgmKhxYNKCG44xXnAkhH5PVhpo7JsF</td>\n",
              "      <td>-1</td>\n",
              "    </tr>\n",
              "    <tr>\n",
              "      <th>4</th>\n",
              "      <td>1N8k4iXndXpWNdYUKkF3dLybxQZ6pGwT69</td>\n",
              "      <td>-1</td>\n",
              "    </tr>\n",
              "  </tbody>\n",
              "</table>\n",
              "</div>\n",
              "    <div class=\"colab-df-buttons\">\n",
              "\n",
              "  <div class=\"colab-df-container\">\n",
              "    <button class=\"colab-df-convert\" onclick=\"convertToInteractive('df-885a4c85-e8d8-44c5-9b8a-d85b4af8c7c6')\"\n",
              "            title=\"Convert this dataframe to an interactive table.\"\n",
              "            style=\"display:none;\">\n",
              "\n",
              "  <svg xmlns=\"http://www.w3.org/2000/svg\" height=\"24px\" viewBox=\"0 -960 960 960\">\n",
              "    <path d=\"M120-120v-720h720v720H120Zm60-500h600v-160H180v160Zm220 220h160v-160H400v160Zm0 220h160v-160H400v160ZM180-400h160v-160H180v160Zm440 0h160v-160H620v160ZM180-180h160v-160H180v160Zm440 0h160v-160H620v160Z\"/>\n",
              "  </svg>\n",
              "    </button>\n",
              "\n",
              "  <style>\n",
              "    .colab-df-container {\n",
              "      display:flex;\n",
              "      gap: 12px;\n",
              "    }\n",
              "\n",
              "    .colab-df-convert {\n",
              "      background-color: #E8F0FE;\n",
              "      border: none;\n",
              "      border-radius: 50%;\n",
              "      cursor: pointer;\n",
              "      display: none;\n",
              "      fill: #1967D2;\n",
              "      height: 32px;\n",
              "      padding: 0 0 0 0;\n",
              "      width: 32px;\n",
              "    }\n",
              "\n",
              "    .colab-df-convert:hover {\n",
              "      background-color: #E2EBFA;\n",
              "      box-shadow: 0px 1px 2px rgba(60, 64, 67, 0.3), 0px 1px 3px 1px rgba(60, 64, 67, 0.15);\n",
              "      fill: #174EA6;\n",
              "    }\n",
              "\n",
              "    .colab-df-buttons div {\n",
              "      margin-bottom: 4px;\n",
              "    }\n",
              "\n",
              "    [theme=dark] .colab-df-convert {\n",
              "      background-color: #3B4455;\n",
              "      fill: #D2E3FC;\n",
              "    }\n",
              "\n",
              "    [theme=dark] .colab-df-convert:hover {\n",
              "      background-color: #434B5C;\n",
              "      box-shadow: 0px 1px 3px 1px rgba(0, 0, 0, 0.15);\n",
              "      filter: drop-shadow(0px 1px 2px rgba(0, 0, 0, 0.3));\n",
              "      fill: #FFFFFF;\n",
              "    }\n",
              "  </style>\n",
              "\n",
              "    <script>\n",
              "      const buttonEl =\n",
              "        document.querySelector('#df-885a4c85-e8d8-44c5-9b8a-d85b4af8c7c6 button.colab-df-convert');\n",
              "      buttonEl.style.display =\n",
              "        google.colab.kernel.accessAllowed ? 'block' : 'none';\n",
              "\n",
              "      async function convertToInteractive(key) {\n",
              "        const element = document.querySelector('#df-885a4c85-e8d8-44c5-9b8a-d85b4af8c7c6');\n",
              "        const dataTable =\n",
              "          await google.colab.kernel.invokeFunction('convertToInteractive',\n",
              "                                                    [key], {});\n",
              "        if (!dataTable) return;\n",
              "\n",
              "        const docLinkHtml = 'Like what you see? Visit the ' +\n",
              "          '<a target=\"_blank\" href=https://colab.research.google.com/notebooks/data_table.ipynb>data table notebook</a>'\n",
              "          + ' to learn more about interactive tables.';\n",
              "        element.innerHTML = '';\n",
              "        dataTable['output_type'] = 'display_data';\n",
              "        await google.colab.output.renderOutput(dataTable, element);\n",
              "        const docLink = document.createElement('div');\n",
              "        docLink.innerHTML = docLinkHtml;\n",
              "        element.appendChild(docLink);\n",
              "      }\n",
              "    </script>\n",
              "  </div>\n",
              "\n",
              "\n",
              "<div id=\"df-472f990e-5266-4fd7-92d8-f1ea7bc5656b\">\n",
              "  <button class=\"colab-df-quickchart\" onclick=\"quickchart('df-472f990e-5266-4fd7-92d8-f1ea7bc5656b')\"\n",
              "            title=\"Suggest charts\"\n",
              "            style=\"display:none;\">\n",
              "\n",
              "<svg xmlns=\"http://www.w3.org/2000/svg\" height=\"24px\"viewBox=\"0 0 24 24\"\n",
              "     width=\"24px\">\n",
              "    <g>\n",
              "        <path d=\"M19 3H5c-1.1 0-2 .9-2 2v14c0 1.1.9 2 2 2h14c1.1 0 2-.9 2-2V5c0-1.1-.9-2-2-2zM9 17H7v-7h2v7zm4 0h-2V7h2v10zm4 0h-2v-4h2v4z\"/>\n",
              "    </g>\n",
              "</svg>\n",
              "  </button>\n",
              "\n",
              "<style>\n",
              "  .colab-df-quickchart {\n",
              "      --bg-color: #E8F0FE;\n",
              "      --fill-color: #1967D2;\n",
              "      --hover-bg-color: #E2EBFA;\n",
              "      --hover-fill-color: #174EA6;\n",
              "      --disabled-fill-color: #AAA;\n",
              "      --disabled-bg-color: #DDD;\n",
              "  }\n",
              "\n",
              "  [theme=dark] .colab-df-quickchart {\n",
              "      --bg-color: #3B4455;\n",
              "      --fill-color: #D2E3FC;\n",
              "      --hover-bg-color: #434B5C;\n",
              "      --hover-fill-color: #FFFFFF;\n",
              "      --disabled-bg-color: #3B4455;\n",
              "      --disabled-fill-color: #666;\n",
              "  }\n",
              "\n",
              "  .colab-df-quickchart {\n",
              "    background-color: var(--bg-color);\n",
              "    border: none;\n",
              "    border-radius: 50%;\n",
              "    cursor: pointer;\n",
              "    display: none;\n",
              "    fill: var(--fill-color);\n",
              "    height: 32px;\n",
              "    padding: 0;\n",
              "    width: 32px;\n",
              "  }\n",
              "\n",
              "  .colab-df-quickchart:hover {\n",
              "    background-color: var(--hover-bg-color);\n",
              "    box-shadow: 0 1px 2px rgba(60, 64, 67, 0.3), 0 1px 3px 1px rgba(60, 64, 67, 0.15);\n",
              "    fill: var(--button-hover-fill-color);\n",
              "  }\n",
              "\n",
              "  .colab-df-quickchart-complete:disabled,\n",
              "  .colab-df-quickchart-complete:disabled:hover {\n",
              "    background-color: var(--disabled-bg-color);\n",
              "    fill: var(--disabled-fill-color);\n",
              "    box-shadow: none;\n",
              "  }\n",
              "\n",
              "  .colab-df-spinner {\n",
              "    border: 2px solid var(--fill-color);\n",
              "    border-color: transparent;\n",
              "    border-bottom-color: var(--fill-color);\n",
              "    animation:\n",
              "      spin 1s steps(1) infinite;\n",
              "  }\n",
              "\n",
              "  @keyframes spin {\n",
              "    0% {\n",
              "      border-color: transparent;\n",
              "      border-bottom-color: var(--fill-color);\n",
              "      border-left-color: var(--fill-color);\n",
              "    }\n",
              "    20% {\n",
              "      border-color: transparent;\n",
              "      border-left-color: var(--fill-color);\n",
              "      border-top-color: var(--fill-color);\n",
              "    }\n",
              "    30% {\n",
              "      border-color: transparent;\n",
              "      border-left-color: var(--fill-color);\n",
              "      border-top-color: var(--fill-color);\n",
              "      border-right-color: var(--fill-color);\n",
              "    }\n",
              "    40% {\n",
              "      border-color: transparent;\n",
              "      border-right-color: var(--fill-color);\n",
              "      border-top-color: var(--fill-color);\n",
              "    }\n",
              "    60% {\n",
              "      border-color: transparent;\n",
              "      border-right-color: var(--fill-color);\n",
              "    }\n",
              "    80% {\n",
              "      border-color: transparent;\n",
              "      border-right-color: var(--fill-color);\n",
              "      border-bottom-color: var(--fill-color);\n",
              "    }\n",
              "    90% {\n",
              "      border-color: transparent;\n",
              "      border-bottom-color: var(--fill-color);\n",
              "    }\n",
              "  }\n",
              "</style>\n",
              "\n",
              "  <script>\n",
              "    async function quickchart(key) {\n",
              "      const quickchartButtonEl =\n",
              "        document.querySelector('#' + key + ' button');\n",
              "      quickchartButtonEl.disabled = true;  // To prevent multiple clicks.\n",
              "      quickchartButtonEl.classList.add('colab-df-spinner');\n",
              "      try {\n",
              "        const charts = await google.colab.kernel.invokeFunction(\n",
              "            'suggestCharts', [key], {});\n",
              "      } catch (error) {\n",
              "        console.error('Error during call to suggestCharts:', error);\n",
              "      }\n",
              "      quickchartButtonEl.classList.remove('colab-df-spinner');\n",
              "      quickchartButtonEl.classList.add('colab-df-quickchart-complete');\n",
              "    }\n",
              "    (() => {\n",
              "      let quickchartButtonEl =\n",
              "        document.querySelector('#df-472f990e-5266-4fd7-92d8-f1ea7bc5656b button');\n",
              "      quickchartButtonEl.style.display =\n",
              "        google.colab.kernel.accessAllowed ? 'block' : 'none';\n",
              "    })();\n",
              "  </script>\n",
              "</div>\n",
              "    </div>\n",
              "  </div>\n"
            ]
          },
          "metadata": {},
          "execution_count": 91
        }
      ]
    },
    {
      "cell_type": "code",
      "source": [
        "filtered_babd_sample['selected_label'].value_counts()"
      ],
      "metadata": {
        "colab": {
          "base_uri": "https://localhost:8080/"
        },
        "id": "LBYiD0wFTrcG",
        "outputId": "1f3993e7-36ff-4e96-ecfe-c440215d60cf"
      },
      "execution_count": null,
      "outputs": [
        {
          "output_type": "execute_result",
          "data": {
            "text/plain": [
              " 2     13861\n",
              "-1     11653\n",
              " 11    11348\n",
              " 0      8148\n",
              "Name: selected_label, dtype: int64"
            ]
          },
          "metadata": {},
          "execution_count": 94
        }
      ]
    },
    {
      "cell_type": "code",
      "source": [
        "filtered_babd_sample_gorup = filtered_babd_sample.groupby('account')"
      ],
      "metadata": {
        "id": "1nfB2r6YTzcH"
      },
      "execution_count": null,
      "outputs": []
    },
    {
      "cell_type": "code",
      "source": [
        "group_count_with_diff_labels = sum(group['selected_label'].nunique() > 1 for _, group in filtered_babd_sample_gorup)\n",
        "\n",
        "group_count_with_diff_labels"
      ],
      "metadata": {
        "colab": {
          "base_uri": "https://localhost:8080/"
        },
        "id": "9Bp5QcraT6Pg",
        "outputId": "b5f3889b-90f2-49b8-bff9-1d53074fbd5b"
      },
      "execution_count": null,
      "outputs": [
        {
          "output_type": "execute_result",
          "data": {
            "text/plain": [
              "0"
            ]
          },
          "metadata": {},
          "execution_count": 97
        }
      ]
    },
    {
      "cell_type": "code",
      "source": [
        "filtered_babd_sample = filtered_babd_sample.rename(columns={\"selected_label\": \"label\"})"
      ],
      "metadata": {
        "id": "Wl4JByOOUL8r"
      },
      "execution_count": null,
      "outputs": []
    },
    {
      "cell_type": "code",
      "source": [
        "final_df = pd.read_csv(\"/content/drive/MyDrive/bitcoin_final.csv\")"
      ],
      "metadata": {
        "id": "GkQelFwzUcJf"
      },
      "execution_count": null,
      "outputs": []
    },
    {
      "cell_type": "code",
      "source": [
        "final_df.columns"
      ],
      "metadata": {
        "colab": {
          "base_uri": "https://localhost:8080/"
        },
        "id": "j0xaRVJ6UwxF",
        "outputId": "6bedbb7a-c66f-4f68-86ab-d63657376e71"
      },
      "execution_count": null,
      "outputs": [
        {
          "output_type": "execute_result",
          "data": {
            "text/plain": [
              "Index(['account', 'input_value_mean', 'input_value_median',\n",
              "       'input_value_variance', 'input_value_maximum', 'input_value_minimum',\n",
              "       'input_value_skewness', 'input_value_kurtosis',\n",
              "       'input_value_25th_percentile', 'input_value_75th_percentile',\n",
              "       'input_value_range', 'input_value_usd_mean', 'input_value_usd_median',\n",
              "       'input_value_usd_variance', 'input_value_usd_maximum',\n",
              "       'input_value_usd_minimum', 'input_value_usd_skewness',\n",
              "       'input_value_usd_kurtosis', 'input_value_usd_25th_percentile',\n",
              "       'input_value_usd_75th_percentile', 'input_value_usd_range',\n",
              "       'input_spending_value_usd_mean', 'input_spending_value_usd_median',\n",
              "       'input_spending_value_usd_variance', 'input_spending_value_usd_maximum',\n",
              "       'input_spending_value_usd_minimum', 'input_spending_value_usd_skewness',\n",
              "       'input_spending_value_usd_kurtosis',\n",
              "       'input_spending_value_usd_25th_percentile',\n",
              "       'input_spending_value_usd_75th_percentile',\n",
              "       'input_spending_value_usd_range', 'input_time_diff_mean',\n",
              "       'input_time_diff_median', 'input_time_diff_variance',\n",
              "       'input_time_diff_maximum', 'input_time_diff_minimum',\n",
              "       'input_time_diff_skewness', 'input_time_diff_kurtosis',\n",
              "       'input_time_diff_25th_percentile', 'input_time_diff_75th_percentile',\n",
              "       'input_time_diff_range', 'input_transaction_count', 'output_value_mean',\n",
              "       'output_value_median', 'output_value_variance', 'output_value_maximum',\n",
              "       'output_value_minimum', 'output_value_skewness',\n",
              "       'output_value_kurtosis', 'output_value_25th_percentile',\n",
              "       'output_value_75th_percentile', 'output_value_range',\n",
              "       'output_value_usd_mean', 'output_value_usd_median',\n",
              "       'output_value_usd_variance', 'output_value_usd_maximum',\n",
              "       'output_value_usd_minimum', 'output_value_usd_skewness',\n",
              "       'output_value_usd_kurtosis', 'output_value_usd_25th_percentile',\n",
              "       'output_value_usd_75th_percentile', 'output_value_usd_range',\n",
              "       'output_time_diff_mean', 'output_time_diff_median',\n",
              "       'output_time_diff_variance', 'output_time_diff_maximum',\n",
              "       'output_time_diff_minimum', 'output_time_diff_skewness',\n",
              "       'output_time_diff_kurtosis', 'output_time_diff_25th_percentile',\n",
              "       'output_time_diff_75th_percentile', 'output_time_diff_range',\n",
              "       'output_transaction_count'],\n",
              "      dtype='object')"
            ]
          },
          "metadata": {},
          "execution_count": 100
        }
      ]
    },
    {
      "cell_type": "code",
      "source": [
        "final_df.shape"
      ],
      "metadata": {
        "colab": {
          "base_uri": "https://localhost:8080/"
        },
        "id": "O-VmP37RU1lQ",
        "outputId": "1868b455-f8d1-4713-d0a6-915d712fc6b2"
      },
      "execution_count": null,
      "outputs": [
        {
          "output_type": "execute_result",
          "data": {
            "text/plain": [
              "(45010, 73)"
            ]
          },
          "metadata": {},
          "execution_count": 101
        }
      ]
    },
    {
      "cell_type": "code",
      "source": [
        "final_result_label = pd.merge(final_df, filtered_babd_sample, on='account', how='left')"
      ],
      "metadata": {
        "id": "kiyXq7Y1Uruz"
      },
      "execution_count": null,
      "outputs": []
    },
    {
      "cell_type": "code",
      "source": [
        "final_result_label.shape"
      ],
      "metadata": {
        "colab": {
          "base_uri": "https://localhost:8080/"
        },
        "id": "WSEfMF6_U6zo",
        "outputId": "5d3e1ded-73c9-46c8-a319-61bf6cb28355"
      },
      "execution_count": null,
      "outputs": [
        {
          "output_type": "execute_result",
          "data": {
            "text/plain": [
              "(45010, 74)"
            ]
          },
          "metadata": {},
          "execution_count": 104
        }
      ]
    },
    {
      "cell_type": "code",
      "source": [
        "final_result_label.head()"
      ],
      "metadata": {
        "colab": {
          "base_uri": "https://localhost:8080/",
          "height": 256
        },
        "id": "LIWC9i7RU90K",
        "outputId": "44c6a6ae-7830-4992-c22e-29268b8868fd"
      },
      "execution_count": null,
      "outputs": [
        {
          "output_type": "execute_result",
          "data": {
            "text/plain": [
              "                              account  input_value_mean  input_value_median  \\\n",
              "0  112aMbzaifSzz17dt4iieNBNRaNMPMsBhN      4.126654e+06           3775772.0   \n",
              "1  112uqsxthsgX3bBSJzTaZngaNQhPfHnoa6      6.914500e+06           6914500.0   \n",
              "2  1131uSp9Aq2vf5kfxUCaP68nFsBoSoKByk      3.880419e+06           1104075.0   \n",
              "3  1136NPxiQgXe7a4hXoUmD8XwuUyBrwBjni      3.068000e+06           3068000.0   \n",
              "4  113EN2Wep2eXUY7M7H4XNGGE9evGnVowR4      3.719556e+07          37195558.0   \n",
              "\n",
              "   input_value_variance  input_value_maximum  input_value_minimum  \\\n",
              "0          1.430222e+13           10000000.0             100000.0   \n",
              "1          6.119498e+13           12446000.0            1383000.0   \n",
              "2          6.499291e+13           53137394.0                547.0   \n",
              "3                   NaN            3068000.0            3068000.0   \n",
              "4                   NaN           37195558.0           37195558.0   \n",
              "\n",
              "   input_value_skewness  input_value_kurtosis  input_value_25th_percentile  \\\n",
              "0              0.960194              1.074525                    1757500.0   \n",
              "1                   NaN                   NaN                    4148750.0   \n",
              "2              3.927683             17.282748                     483815.5   \n",
              "3                   NaN                   NaN                    3068000.0   \n",
              "4                   NaN                   NaN                   37195558.0   \n",
              "\n",
              "   input_value_75th_percentile  ...  output_time_diff_variance  \\\n",
              "0                    5000000.0  ...               3.195106e+14   \n",
              "1                    9680250.0  ...               5.660480e+05   \n",
              "2                    3048058.0  ...               3.419762e+09   \n",
              "3                    3068000.0  ...                        NaN   \n",
              "4                   37195558.0  ...                        NaN   \n",
              "\n",
              "   output_time_diff_maximum  output_time_diff_minimum  \\\n",
              "0                40034756.0                       0.0   \n",
              "1                    1064.0                       0.0   \n",
              "2                  451766.0                       0.0   \n",
              "3                       0.0                       0.0   \n",
              "4                       0.0                       0.0   \n",
              "\n",
              "   output_time_diff_skewness  output_time_diff_kurtosis  \\\n",
              "0                   2.235975                   4.999665   \n",
              "1                        NaN                        NaN   \n",
              "2                   4.170106                  24.283287   \n",
              "3                        NaN                        NaN   \n",
              "4                        NaN                        NaN   \n",
              "\n",
              "   output_time_diff_25th_percentile  output_time_diff_75th_percentile  \\\n",
              "0                           23241.0                          188317.0   \n",
              "1                             266.0                             798.0   \n",
              "2                            2066.0                           42373.0   \n",
              "3                               0.0                               0.0   \n",
              "4                               0.0                               0.0   \n",
              "\n",
              "   output_time_diff_range  output_transaction_count  label  \n",
              "0              40034756.0                       5.0     -1  \n",
              "1                  1064.0                       2.0      0  \n",
              "2                451766.0                     113.0      0  \n",
              "3                     0.0                       1.0      0  \n",
              "4                     0.0                       1.0      0  \n",
              "\n",
              "[5 rows x 74 columns]"
            ],
            "text/html": [
              "\n",
              "  <div id=\"df-7853603a-7961-43cd-ad6d-d1145317c863\" class=\"colab-df-container\">\n",
              "    <div>\n",
              "<style scoped>\n",
              "    .dataframe tbody tr th:only-of-type {\n",
              "        vertical-align: middle;\n",
              "    }\n",
              "\n",
              "    .dataframe tbody tr th {\n",
              "        vertical-align: top;\n",
              "    }\n",
              "\n",
              "    .dataframe thead th {\n",
              "        text-align: right;\n",
              "    }\n",
              "</style>\n",
              "<table border=\"1\" class=\"dataframe\">\n",
              "  <thead>\n",
              "    <tr style=\"text-align: right;\">\n",
              "      <th></th>\n",
              "      <th>account</th>\n",
              "      <th>input_value_mean</th>\n",
              "      <th>input_value_median</th>\n",
              "      <th>input_value_variance</th>\n",
              "      <th>input_value_maximum</th>\n",
              "      <th>input_value_minimum</th>\n",
              "      <th>input_value_skewness</th>\n",
              "      <th>input_value_kurtosis</th>\n",
              "      <th>input_value_25th_percentile</th>\n",
              "      <th>input_value_75th_percentile</th>\n",
              "      <th>...</th>\n",
              "      <th>output_time_diff_variance</th>\n",
              "      <th>output_time_diff_maximum</th>\n",
              "      <th>output_time_diff_minimum</th>\n",
              "      <th>output_time_diff_skewness</th>\n",
              "      <th>output_time_diff_kurtosis</th>\n",
              "      <th>output_time_diff_25th_percentile</th>\n",
              "      <th>output_time_diff_75th_percentile</th>\n",
              "      <th>output_time_diff_range</th>\n",
              "      <th>output_transaction_count</th>\n",
              "      <th>label</th>\n",
              "    </tr>\n",
              "  </thead>\n",
              "  <tbody>\n",
              "    <tr>\n",
              "      <th>0</th>\n",
              "      <td>112aMbzaifSzz17dt4iieNBNRaNMPMsBhN</td>\n",
              "      <td>4.126654e+06</td>\n",
              "      <td>3775772.0</td>\n",
              "      <td>1.430222e+13</td>\n",
              "      <td>10000000.0</td>\n",
              "      <td>100000.0</td>\n",
              "      <td>0.960194</td>\n",
              "      <td>1.074525</td>\n",
              "      <td>1757500.0</td>\n",
              "      <td>5000000.0</td>\n",
              "      <td>...</td>\n",
              "      <td>3.195106e+14</td>\n",
              "      <td>40034756.0</td>\n",
              "      <td>0.0</td>\n",
              "      <td>2.235975</td>\n",
              "      <td>4.999665</td>\n",
              "      <td>23241.0</td>\n",
              "      <td>188317.0</td>\n",
              "      <td>40034756.0</td>\n",
              "      <td>5.0</td>\n",
              "      <td>-1</td>\n",
              "    </tr>\n",
              "    <tr>\n",
              "      <th>1</th>\n",
              "      <td>112uqsxthsgX3bBSJzTaZngaNQhPfHnoa6</td>\n",
              "      <td>6.914500e+06</td>\n",
              "      <td>6914500.0</td>\n",
              "      <td>6.119498e+13</td>\n",
              "      <td>12446000.0</td>\n",
              "      <td>1383000.0</td>\n",
              "      <td>NaN</td>\n",
              "      <td>NaN</td>\n",
              "      <td>4148750.0</td>\n",
              "      <td>9680250.0</td>\n",
              "      <td>...</td>\n",
              "      <td>5.660480e+05</td>\n",
              "      <td>1064.0</td>\n",
              "      <td>0.0</td>\n",
              "      <td>NaN</td>\n",
              "      <td>NaN</td>\n",
              "      <td>266.0</td>\n",
              "      <td>798.0</td>\n",
              "      <td>1064.0</td>\n",
              "      <td>2.0</td>\n",
              "      <td>0</td>\n",
              "    </tr>\n",
              "    <tr>\n",
              "      <th>2</th>\n",
              "      <td>1131uSp9Aq2vf5kfxUCaP68nFsBoSoKByk</td>\n",
              "      <td>3.880419e+06</td>\n",
              "      <td>1104075.0</td>\n",
              "      <td>6.499291e+13</td>\n",
              "      <td>53137394.0</td>\n",
              "      <td>547.0</td>\n",
              "      <td>3.927683</td>\n",
              "      <td>17.282748</td>\n",
              "      <td>483815.5</td>\n",
              "      <td>3048058.0</td>\n",
              "      <td>...</td>\n",
              "      <td>3.419762e+09</td>\n",
              "      <td>451766.0</td>\n",
              "      <td>0.0</td>\n",
              "      <td>4.170106</td>\n",
              "      <td>24.283287</td>\n",
              "      <td>2066.0</td>\n",
              "      <td>42373.0</td>\n",
              "      <td>451766.0</td>\n",
              "      <td>113.0</td>\n",
              "      <td>0</td>\n",
              "    </tr>\n",
              "    <tr>\n",
              "      <th>3</th>\n",
              "      <td>1136NPxiQgXe7a4hXoUmD8XwuUyBrwBjni</td>\n",
              "      <td>3.068000e+06</td>\n",
              "      <td>3068000.0</td>\n",
              "      <td>NaN</td>\n",
              "      <td>3068000.0</td>\n",
              "      <td>3068000.0</td>\n",
              "      <td>NaN</td>\n",
              "      <td>NaN</td>\n",
              "      <td>3068000.0</td>\n",
              "      <td>3068000.0</td>\n",
              "      <td>...</td>\n",
              "      <td>NaN</td>\n",
              "      <td>0.0</td>\n",
              "      <td>0.0</td>\n",
              "      <td>NaN</td>\n",
              "      <td>NaN</td>\n",
              "      <td>0.0</td>\n",
              "      <td>0.0</td>\n",
              "      <td>0.0</td>\n",
              "      <td>1.0</td>\n",
              "      <td>0</td>\n",
              "    </tr>\n",
              "    <tr>\n",
              "      <th>4</th>\n",
              "      <td>113EN2Wep2eXUY7M7H4XNGGE9evGnVowR4</td>\n",
              "      <td>3.719556e+07</td>\n",
              "      <td>37195558.0</td>\n",
              "      <td>NaN</td>\n",
              "      <td>37195558.0</td>\n",
              "      <td>37195558.0</td>\n",
              "      <td>NaN</td>\n",
              "      <td>NaN</td>\n",
              "      <td>37195558.0</td>\n",
              "      <td>37195558.0</td>\n",
              "      <td>...</td>\n",
              "      <td>NaN</td>\n",
              "      <td>0.0</td>\n",
              "      <td>0.0</td>\n",
              "      <td>NaN</td>\n",
              "      <td>NaN</td>\n",
              "      <td>0.0</td>\n",
              "      <td>0.0</td>\n",
              "      <td>0.0</td>\n",
              "      <td>1.0</td>\n",
              "      <td>0</td>\n",
              "    </tr>\n",
              "  </tbody>\n",
              "</table>\n",
              "<p>5 rows × 74 columns</p>\n",
              "</div>\n",
              "    <div class=\"colab-df-buttons\">\n",
              "\n",
              "  <div class=\"colab-df-container\">\n",
              "    <button class=\"colab-df-convert\" onclick=\"convertToInteractive('df-7853603a-7961-43cd-ad6d-d1145317c863')\"\n",
              "            title=\"Convert this dataframe to an interactive table.\"\n",
              "            style=\"display:none;\">\n",
              "\n",
              "  <svg xmlns=\"http://www.w3.org/2000/svg\" height=\"24px\" viewBox=\"0 -960 960 960\">\n",
              "    <path d=\"M120-120v-720h720v720H120Zm60-500h600v-160H180v160Zm220 220h160v-160H400v160Zm0 220h160v-160H400v160ZM180-400h160v-160H180v160Zm440 0h160v-160H620v160ZM180-180h160v-160H180v160Zm440 0h160v-160H620v160Z\"/>\n",
              "  </svg>\n",
              "    </button>\n",
              "\n",
              "  <style>\n",
              "    .colab-df-container {\n",
              "      display:flex;\n",
              "      gap: 12px;\n",
              "    }\n",
              "\n",
              "    .colab-df-convert {\n",
              "      background-color: #E8F0FE;\n",
              "      border: none;\n",
              "      border-radius: 50%;\n",
              "      cursor: pointer;\n",
              "      display: none;\n",
              "      fill: #1967D2;\n",
              "      height: 32px;\n",
              "      padding: 0 0 0 0;\n",
              "      width: 32px;\n",
              "    }\n",
              "\n",
              "    .colab-df-convert:hover {\n",
              "      background-color: #E2EBFA;\n",
              "      box-shadow: 0px 1px 2px rgba(60, 64, 67, 0.3), 0px 1px 3px 1px rgba(60, 64, 67, 0.15);\n",
              "      fill: #174EA6;\n",
              "    }\n",
              "\n",
              "    .colab-df-buttons div {\n",
              "      margin-bottom: 4px;\n",
              "    }\n",
              "\n",
              "    [theme=dark] .colab-df-convert {\n",
              "      background-color: #3B4455;\n",
              "      fill: #D2E3FC;\n",
              "    }\n",
              "\n",
              "    [theme=dark] .colab-df-convert:hover {\n",
              "      background-color: #434B5C;\n",
              "      box-shadow: 0px 1px 3px 1px rgba(0, 0, 0, 0.15);\n",
              "      filter: drop-shadow(0px 1px 2px rgba(0, 0, 0, 0.3));\n",
              "      fill: #FFFFFF;\n",
              "    }\n",
              "  </style>\n",
              "\n",
              "    <script>\n",
              "      const buttonEl =\n",
              "        document.querySelector('#df-7853603a-7961-43cd-ad6d-d1145317c863 button.colab-df-convert');\n",
              "      buttonEl.style.display =\n",
              "        google.colab.kernel.accessAllowed ? 'block' : 'none';\n",
              "\n",
              "      async function convertToInteractive(key) {\n",
              "        const element = document.querySelector('#df-7853603a-7961-43cd-ad6d-d1145317c863');\n",
              "        const dataTable =\n",
              "          await google.colab.kernel.invokeFunction('convertToInteractive',\n",
              "                                                    [key], {});\n",
              "        if (!dataTable) return;\n",
              "\n",
              "        const docLinkHtml = 'Like what you see? Visit the ' +\n",
              "          '<a target=\"_blank\" href=https://colab.research.google.com/notebooks/data_table.ipynb>data table notebook</a>'\n",
              "          + ' to learn more about interactive tables.';\n",
              "        element.innerHTML = '';\n",
              "        dataTable['output_type'] = 'display_data';\n",
              "        await google.colab.output.renderOutput(dataTable, element);\n",
              "        const docLink = document.createElement('div');\n",
              "        docLink.innerHTML = docLinkHtml;\n",
              "        element.appendChild(docLink);\n",
              "      }\n",
              "    </script>\n",
              "  </div>\n",
              "\n",
              "\n",
              "<div id=\"df-be3aa26b-b74f-4141-a0ee-b33af3d4047c\">\n",
              "  <button class=\"colab-df-quickchart\" onclick=\"quickchart('df-be3aa26b-b74f-4141-a0ee-b33af3d4047c')\"\n",
              "            title=\"Suggest charts\"\n",
              "            style=\"display:none;\">\n",
              "\n",
              "<svg xmlns=\"http://www.w3.org/2000/svg\" height=\"24px\"viewBox=\"0 0 24 24\"\n",
              "     width=\"24px\">\n",
              "    <g>\n",
              "        <path d=\"M19 3H5c-1.1 0-2 .9-2 2v14c0 1.1.9 2 2 2h14c1.1 0 2-.9 2-2V5c0-1.1-.9-2-2-2zM9 17H7v-7h2v7zm4 0h-2V7h2v10zm4 0h-2v-4h2v4z\"/>\n",
              "    </g>\n",
              "</svg>\n",
              "  </button>\n",
              "\n",
              "<style>\n",
              "  .colab-df-quickchart {\n",
              "      --bg-color: #E8F0FE;\n",
              "      --fill-color: #1967D2;\n",
              "      --hover-bg-color: #E2EBFA;\n",
              "      --hover-fill-color: #174EA6;\n",
              "      --disabled-fill-color: #AAA;\n",
              "      --disabled-bg-color: #DDD;\n",
              "  }\n",
              "\n",
              "  [theme=dark] .colab-df-quickchart {\n",
              "      --bg-color: #3B4455;\n",
              "      --fill-color: #D2E3FC;\n",
              "      --hover-bg-color: #434B5C;\n",
              "      --hover-fill-color: #FFFFFF;\n",
              "      --disabled-bg-color: #3B4455;\n",
              "      --disabled-fill-color: #666;\n",
              "  }\n",
              "\n",
              "  .colab-df-quickchart {\n",
              "    background-color: var(--bg-color);\n",
              "    border: none;\n",
              "    border-radius: 50%;\n",
              "    cursor: pointer;\n",
              "    display: none;\n",
              "    fill: var(--fill-color);\n",
              "    height: 32px;\n",
              "    padding: 0;\n",
              "    width: 32px;\n",
              "  }\n",
              "\n",
              "  .colab-df-quickchart:hover {\n",
              "    background-color: var(--hover-bg-color);\n",
              "    box-shadow: 0 1px 2px rgba(60, 64, 67, 0.3), 0 1px 3px 1px rgba(60, 64, 67, 0.15);\n",
              "    fill: var(--button-hover-fill-color);\n",
              "  }\n",
              "\n",
              "  .colab-df-quickchart-complete:disabled,\n",
              "  .colab-df-quickchart-complete:disabled:hover {\n",
              "    background-color: var(--disabled-bg-color);\n",
              "    fill: var(--disabled-fill-color);\n",
              "    box-shadow: none;\n",
              "  }\n",
              "\n",
              "  .colab-df-spinner {\n",
              "    border: 2px solid var(--fill-color);\n",
              "    border-color: transparent;\n",
              "    border-bottom-color: var(--fill-color);\n",
              "    animation:\n",
              "      spin 1s steps(1) infinite;\n",
              "  }\n",
              "\n",
              "  @keyframes spin {\n",
              "    0% {\n",
              "      border-color: transparent;\n",
              "      border-bottom-color: var(--fill-color);\n",
              "      border-left-color: var(--fill-color);\n",
              "    }\n",
              "    20% {\n",
              "      border-color: transparent;\n",
              "      border-left-color: var(--fill-color);\n",
              "      border-top-color: var(--fill-color);\n",
              "    }\n",
              "    30% {\n",
              "      border-color: transparent;\n",
              "      border-left-color: var(--fill-color);\n",
              "      border-top-color: var(--fill-color);\n",
              "      border-right-color: var(--fill-color);\n",
              "    }\n",
              "    40% {\n",
              "      border-color: transparent;\n",
              "      border-right-color: var(--fill-color);\n",
              "      border-top-color: var(--fill-color);\n",
              "    }\n",
              "    60% {\n",
              "      border-color: transparent;\n",
              "      border-right-color: var(--fill-color);\n",
              "    }\n",
              "    80% {\n",
              "      border-color: transparent;\n",
              "      border-right-color: var(--fill-color);\n",
              "      border-bottom-color: var(--fill-color);\n",
              "    }\n",
              "    90% {\n",
              "      border-color: transparent;\n",
              "      border-bottom-color: var(--fill-color);\n",
              "    }\n",
              "  }\n",
              "</style>\n",
              "\n",
              "  <script>\n",
              "    async function quickchart(key) {\n",
              "      const quickchartButtonEl =\n",
              "        document.querySelector('#' + key + ' button');\n",
              "      quickchartButtonEl.disabled = true;  // To prevent multiple clicks.\n",
              "      quickchartButtonEl.classList.add('colab-df-spinner');\n",
              "      try {\n",
              "        const charts = await google.colab.kernel.invokeFunction(\n",
              "            'suggestCharts', [key], {});\n",
              "      } catch (error) {\n",
              "        console.error('Error during call to suggestCharts:', error);\n",
              "      }\n",
              "      quickchartButtonEl.classList.remove('colab-df-spinner');\n",
              "      quickchartButtonEl.classList.add('colab-df-quickchart-complete');\n",
              "    }\n",
              "    (() => {\n",
              "      let quickchartButtonEl =\n",
              "        document.querySelector('#df-be3aa26b-b74f-4141-a0ee-b33af3d4047c button');\n",
              "      quickchartButtonEl.style.display =\n",
              "        google.colab.kernel.accessAllowed ? 'block' : 'none';\n",
              "    })();\n",
              "  </script>\n",
              "</div>\n",
              "    </div>\n",
              "  </div>\n"
            ]
          },
          "metadata": {},
          "execution_count": 105
        }
      ]
    },
    {
      "cell_type": "code",
      "source": [
        "final_result_label['label'].value_counts()"
      ],
      "metadata": {
        "colab": {
          "base_uri": "https://localhost:8080/"
        },
        "id": "YAz9KYuzXyyT",
        "outputId": "565c0d95-049d-4eff-e406-c3227c8e3af1"
      },
      "execution_count": null,
      "outputs": [
        {
          "output_type": "execute_result",
          "data": {
            "text/plain": [
              " 2     13861\n",
              "-1     11653\n",
              " 11    11348\n",
              " 0      8148\n",
              "Name: label, dtype: int64"
            ]
          },
          "metadata": {},
          "execution_count": 107
        }
      ]
    },
    {
      "cell_type": "code",
      "source": [
        "# -1 - good\n",
        "# 0 - blackcmail\n",
        "# 2 - darknet\n",
        "# 11 - ponzi shceme"
      ],
      "metadata": {
        "id": "w6BASrGi4MoV"
      },
      "execution_count": null,
      "outputs": []
    },
    {
      "cell_type": "code",
      "source": [
        "label_mapping = {-1: 0, 0: 1, 2: 2, 11: 3}\n",
        "final_result_label['label'] = final_result_label['label'].map(label_mapping)"
      ],
      "metadata": {
        "id": "9Lirw5xdVBdo"
      },
      "execution_count": null,
      "outputs": []
    },
    {
      "cell_type": "code",
      "source": [
        "final_result_label['label'].value_counts()"
      ],
      "metadata": {
        "colab": {
          "base_uri": "https://localhost:8080/"
        },
        "id": "iwZ5Ba3WX4Lj",
        "outputId": "9ca2ade7-4d07-49ab-b82d-0dd54d0110b9"
      },
      "execution_count": null,
      "outputs": [
        {
          "output_type": "execute_result",
          "data": {
            "text/plain": [
              "2    13861\n",
              "0    11653\n",
              "3    11348\n",
              "1     8148\n",
              "Name: label, dtype: int64"
            ]
          },
          "metadata": {},
          "execution_count": 109
        }
      ]
    },
    {
      "cell_type": "code",
      "source": [
        "final_result_label.to_csv('/content/drive/MyDrive/bitcoin_final_label_dataset.csv', index=False)"
      ],
      "metadata": {
        "id": "2I2e7NMXYIwl"
      },
      "execution_count": null,
      "outputs": []
    }
  ]
}