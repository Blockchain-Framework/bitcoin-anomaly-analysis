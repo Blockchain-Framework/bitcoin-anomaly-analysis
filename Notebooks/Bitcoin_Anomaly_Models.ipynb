{
  "nbformat": 4,
  "nbformat_minor": 0,
  "metadata": {
    "colab": {
      "provenance": [],
      "authorship_tag": "ABX9TyNNyj2OTNtPN+5LPgFAsT7g",
      "include_colab_link": true
    },
    "kernelspec": {
      "name": "python3",
      "display_name": "Python 3"
    },
    "language_info": {
      "name": "python"
    }
  },
  "cells": [
    {
      "cell_type": "markdown",
      "metadata": {
        "id": "view-in-github",
        "colab_type": "text"
      },
      "source": [
        "<a href=\"https://colab.research.google.com/github/Blockchain-Framework/bitcoin-anomaly-analysis/blob/develop/Notebooks/Bitcoin_Anomaly_Models.ipynb\" target=\"_parent\"><img src=\"https://colab.research.google.com/assets/colab-badge.svg\" alt=\"Open In Colab\"/></a>"
      ]
    },
    {
      "cell_type": "code",
      "execution_count": 1,
      "metadata": {
        "colab": {
          "base_uri": "https://localhost:8080/"
        },
        "id": "xaqVoh5OirFh",
        "outputId": "e8296cf4-04b3-41c9-cd83-f4f4c30c9800"
      },
      "outputs": [
        {
          "output_type": "stream",
          "name": "stdout",
          "text": [
            "Requirement already satisfied: imbalanced-learn in /usr/local/lib/python3.10/dist-packages (0.10.1)\n",
            "Requirement already satisfied: numpy>=1.17.3 in /usr/local/lib/python3.10/dist-packages (from imbalanced-learn) (1.23.5)\n",
            "Requirement already satisfied: scipy>=1.3.2 in /usr/local/lib/python3.10/dist-packages (from imbalanced-learn) (1.11.4)\n",
            "Requirement already satisfied: scikit-learn>=1.0.2 in /usr/local/lib/python3.10/dist-packages (from imbalanced-learn) (1.2.2)\n",
            "Requirement already satisfied: joblib>=1.1.1 in /usr/local/lib/python3.10/dist-packages (from imbalanced-learn) (1.3.2)\n",
            "Requirement already satisfied: threadpoolctl>=2.0.0 in /usr/local/lib/python3.10/dist-packages (from imbalanced-learn) (3.2.0)\n"
          ]
        }
      ],
      "source": [
        "!pip install imbalanced-learn"
      ]
    },
    {
      "cell_type": "code",
      "source": [
        "from google.colab import drive\n",
        "drive.mount('/content/drive')"
      ],
      "metadata": {
        "colab": {
          "base_uri": "https://localhost:8080/"
        },
        "id": "oqUEKksFi1PX",
        "outputId": "6b588f46-1782-4444-b06f-05fe82b91a90"
      },
      "execution_count": 2,
      "outputs": [
        {
          "output_type": "stream",
          "name": "stdout",
          "text": [
            "Mounted at /content/drive\n"
          ]
        }
      ]
    },
    {
      "cell_type": "code",
      "source": [
        "import pandas as pd\n",
        "from sklearn.metrics import accuracy_score, f1_score, classification_report, confusion_matrix\n",
        "import matplotlib.pyplot as plt\n",
        "import seaborn as sns\n",
        "from sklearn.feature_selection import VarianceThreshold, RFECV\n",
        "from sklearn.ensemble import RandomForestClassifier\n",
        "import numpy as np"
      ],
      "metadata": {
        "id": "UXpwsPdKi5LA"
      },
      "execution_count": 3,
      "outputs": []
    },
    {
      "cell_type": "code",
      "source": [
        "original_feature_names = ['input_transaction_count', 'output_transaction_count',\n",
        "       'input_value_mean', 'input_value_median', 'input_value_maximum',\n",
        "       'input_value_minimum', 'input_value_25th_percentile',\n",
        "       'input_value_75th_percentile', 'input_value_range',\n",
        "       'input_spending_value_usd_mean', 'input_spending_value_usd_median',\n",
        "       'input_spending_value_usd_maximum', 'input_spending_value_usd_minimum',\n",
        "       'input_spending_value_usd_25th_percentile',\n",
        "       'input_spending_value_usd_75th_percentile',\n",
        "       'input_spending_value_usd_range', 'input_time_diff_mean',\n",
        "       'input_time_diff_median', 'input_time_diff_maximum',\n",
        "       'input_time_diff_minimum', 'input_time_diff_25th_percentile',\n",
        "       'input_time_diff_75th_percentile', 'input_time_diff_range',\n",
        "       'output_value_usd_mean', 'output_value_usd_median',\n",
        "       'output_value_usd_maximum', 'output_value_usd_minimum',\n",
        "       'output_value_usd_25th_percentile', 'output_value_usd_75th_percentile',\n",
        "       'output_value_usd_range', 'output_time_diff_mean',\n",
        "       'output_time_diff_median', 'output_time_diff_maximum',\n",
        "       'output_time_diff_minimum', 'output_time_diff_25th_percentile',\n",
        "       'output_time_diff_75th_percentile', 'output_time_diff_range',\n",
        "       'output_value_mean', 'output_value_median', 'output_value_maximum',\n",
        "       'output_value_minimum', 'output_value_25th_percentile',\n",
        "       'output_value_75th_percentile', 'output_value_range',\n",
        "       'input_output_mean_ratio', 'input_output_max_ratio',\n",
        "       'input_output_min_ratio', 'input_output_percentile_25_diff',\n",
        "       'input_output_percentile_75_diff', 'range_mean_ratio_input',\n",
        "       'range_mean_ratio_output', 'input_output_usd_mean_ratio',\n",
        "       'input_output_usd_max_ratio', 'input_output_usd_min_ratio',\n",
        "       'input_output_usd_percentile_25_diff',\n",
        "       'input_output_usd_percentile_75_diff', 'input_range_mean_ratio',\n",
        "       'output_range_mean_ratio', 'input_output_transaction_count_ratio',\n",
        "       'input_output_maximum_transaction_value_diff',\n",
        "       'input_output_minimum_transaction_value_diff',\n",
        "       'input_output_time_diff_max_min_diff']"
      ],
      "metadata": {
        "id": "ULKbJBq_i8DT"
      },
      "execution_count": 4,
      "outputs": []
    },
    {
      "cell_type": "code",
      "source": [
        "from sklearn.metrics import confusion_matrix, accuracy_score, f1_score, fbeta_score\n",
        "import seaborn as sns\n",
        "import matplotlib.pyplot as plt\n",
        "\n",
        "def showResult(y_test, y_pred_test):\n",
        "    # Confusion Matrix\n",
        "    conf_matrix = confusion_matrix(y_test, y_pred_test)\n",
        "    class_labels = [0, 1, 2, 3]\n",
        "    plt.figure(figsize=(8, 6))\n",
        "    sns.heatmap(conf_matrix, annot=True, fmt='g', cmap='Blues', xticklabels=class_labels, yticklabels=class_labels)\n",
        "    plt.xlabel('Predicted labels')\n",
        "    plt.ylabel('True labels')\n",
        "    plt.title('Confusion Matrix')\n",
        "    plt.show()\n",
        "\n",
        "    # Accuracy\n",
        "    accuracy = accuracy_score(y_test, y_pred_test)\n",
        "    print(f\"Accuracy: {accuracy:.4f}\")\n",
        "\n",
        "    # F1 Score\n",
        "    f1 = f1_score(y_test, y_pred_test, average='weighted') # Weighted average\n",
        "    print(f\"F1 Score (Weighted): {f1:.4f}\")\n",
        "    f1_unweighted = f1_score(y_test, y_pred_test, average='macro') # Unweighted average\n",
        "    print(f\"F1 Score (Unweighted): {f1_unweighted:.4f}\")\n",
        "\n",
        "    # F2 Score\n",
        "    f2 = fbeta_score(y_test, y_pred_test, beta=2, average='weighted') # F2 score with weighted average\n",
        "    print(f\"F2 Score (Weighted): {f2:.4f}\")\n",
        "    f2_unweighted = fbeta_score(y_test, y_pred_test, beta=2, average='macro') # F2 score with unweighted average\n",
        "    print(f\"F2 Score (Unweighted): {f2_unweighted:.4f}\")\n",
        "\n",
        "# Call this function with your y_test and y_pred_test values\n"
      ],
      "metadata": {
        "id": "0dIkFREMjAHR"
      },
      "execution_count": 5,
      "outputs": []
    },
    {
      "cell_type": "code",
      "source": [
        "train = pd.read_csv('/content/drive/MyDrive/bitcoin_imbalance_train_set.csv')\n",
        "test = pd.read_csv(\"/content/drive/MyDrive/bitcoin_imbalance_test.csv\")"
      ],
      "metadata": {
        "id": "wVCsDxB_jPfY"
      },
      "execution_count": 6,
      "outputs": []
    },
    {
      "cell_type": "code",
      "source": [
        "X_train = train[original_feature_names]"
      ],
      "metadata": {
        "id": "3BKIzF7hjKuz"
      },
      "execution_count": 7,
      "outputs": []
    },
    {
      "cell_type": "code",
      "source": [
        "X = X_train.copy()"
      ],
      "metadata": {
        "id": "fanmrenMnQTH"
      },
      "execution_count": 8,
      "outputs": []
    },
    {
      "cell_type": "code",
      "source": [
        "selector = VarianceThreshold()\n",
        "X_var = selector.fit_transform(X)\n",
        "\n",
        "# Calculate correlation matrix\n",
        "corr_matrix = pd.DataFrame(X_var, columns=X.columns[selector.get_support()]).corr().abs()\n",
        "upper = corr_matrix.where(np.triu(np.ones(corr_matrix.shape), k=1).astype(np.bool))\n",
        "to_drop = [column for column in upper.columns if any(upper[column] > 0.95)]\n",
        "\n",
        "# Drop highly correlated features\n",
        "X_uncorr = pd.DataFrame(X_var, columns=X.columns[selector.get_support()]).drop(to_drop, axis=1)"
      ],
      "metadata": {
        "colab": {
          "base_uri": "https://localhost:8080/"
        },
        "id": "ID7d31M9jZqo",
        "outputId": "01b97409-237f-46f4-ce78-ba335e3716e4"
      },
      "execution_count": 9,
      "outputs": [
        {
          "output_type": "stream",
          "name": "stderr",
          "text": [
            "<ipython-input-9-358bdbe75210>:6: DeprecationWarning: `np.bool` is a deprecated alias for the builtin `bool`. To silence this warning, use `bool` by itself. Doing this will not modify any behavior and is safe. If you specifically wanted the numpy scalar type, use `np.bool_` here.\n",
            "Deprecated in NumPy 1.20; for more details and guidance: https://numpy.org/devdocs/release/1.20.0-notes.html#deprecations\n",
            "  upper = corr_matrix.where(np.triu(np.ones(corr_matrix.shape), k=1).astype(np.bool))\n"
          ]
        }
      ]
    },
    {
      "cell_type": "code",
      "source": [
        "selected_cols = list(X_uncorr.columns)"
      ],
      "metadata": {
        "id": "KIZzCCZMjamj"
      },
      "execution_count": 10,
      "outputs": []
    },
    {
      "cell_type": "code",
      "source": [
        "import pandas as pd\n",
        "from sklearn.preprocessing import RobustScaler\n",
        "\n",
        "df_train = pd.read_csv('/content/drive/MyDrive/bitcoin_imbalance_train_set.csv')\n",
        "df_test = pd.read_csv(\"/content/drive/MyDrive/bitcoin_imbalance_test.csv\")\n",
        "\n",
        "df_train['input_output_transaction_count'] = df_train['input_transaction_count'] + df_train['output_transaction_count']\n",
        "df_test['input_output_transaction_count'] = df_test['input_transaction_count'] + df_test['output_transaction_count']\n",
        "original_feature_names.append('input_output_transaction_count')\n",
        "\n",
        "selected_cols.append('input_output_transaction_count')\n",
        "selected_cols.append('input_transaction_count')\n",
        "selected_cols.append('output_transaction_count')\n",
        "\n",
        "\n",
        "selected_cols = list(set(selected_cols))\n",
        "\n",
        "# scaler = MinMaxScaler()\n",
        "\n",
        "# scaler.fit(df_train[original_feature_names])\n",
        "\n",
        "# scaler = RobustScaler()\n",
        "\n",
        "# # Scale the entire training dataset\n",
        "# x_train_scaled = scaler.fit_transform(df_train[original_feature_names])\n",
        "# df_train[original_feature_names] = pd.DataFrame(x_train_scaled, columns=original_feature_names)\n",
        "\n",
        "# # Scale the entire test dataset using the same scaler\n",
        "# x_test_scaled = scaler.transform(df_test[original_feature_names])\n",
        "# df_test[original_feature_names] = pd.DataFrame(x_test_scaled, columns=original_feature_names)\n",
        "\n",
        "classes = df_train['label'].unique()\n",
        "\n",
        "datasets = {}\n",
        "\n",
        "for class_value in classes:\n",
        "    # Filter the train and test sets for each class\n",
        "    datasets[f'x_train_class_{class_value}'] = df_train[df_train['label'] == class_value][selected_cols]\n",
        "    datasets[f'y_train_class_{class_value}'] = df_train[df_train['label'] == class_value]['label']\n",
        "\n",
        "    datasets[f'x_test_class_{class_value}'] = df_test[df_test['label'] == class_value][selected_cols]\n",
        "    datasets[f'y_test_class_{class_value}'] = df_test[df_test['label'] == class_value]['label']\n",
        "\n",
        "\n",
        "# x_train_class_0 = datasets['x_train_class_0']\n",
        "# y_train_class_0 = datasets['y_train_class_0']\n",
        "# x_test_class_0 = datasets['x_test_class_0']\n",
        "# y_test_class_0 = datasets['y_test_class_0']\n"
      ],
      "metadata": {
        "id": "j0be0Lcgjo0i"
      },
      "execution_count": 11,
      "outputs": []
    },
    {
      "cell_type": "code",
      "source": [
        "import pandas as pd\n",
        "\n",
        "def concatenate_class_datasets(datasets, classes_to_include, type='train'):\n",
        "    \"\"\"\n",
        "    Concatenates class-wise datasets into combined X and y for either training or testing sets.\n",
        "\n",
        "    :param datasets: Dictionary containing class-wise datasets.\n",
        "    :param classes_to_include: List of classes to include in the concatenation.\n",
        "    :param type: String, either 'train' or 'test' to specify which datasets to concatenate.\n",
        "    :return: Concatenated X and y datasets.\n",
        "    \"\"\"\n",
        "    X_frames = []\n",
        "    y_frames = []\n",
        "\n",
        "    for class_value in classes_to_include:\n",
        "        if type == 'train':\n",
        "            X_frames.append(datasets[f'x_train_class_{class_value}'])\n",
        "            y_frames.append(datasets[f'y_train_class_{class_value}'])\n",
        "        elif type == 'test':\n",
        "            X_frames.append(datasets[f'x_test_class_{class_value}'])\n",
        "            y_frames.append(datasets[f'y_test_class_{class_value}'])\n",
        "\n",
        "    X = pd.concat(X_frames, axis=0).reset_index(drop=True)\n",
        "    y = pd.concat(y_frames, axis=0).reset_index(drop=True)\n",
        "\n",
        "    return X, y\n",
        "\n",
        "# Usage example:\n",
        "# classes_to_include = [0, 1]  # replace with your class values\n",
        "# X_train, y_train = concatenate_class_datasets(datasets, classes_to_include, type='train')\n",
        "\n"
      ],
      "metadata": {
        "id": "my6UNz49kKk_"
      },
      "execution_count": 12,
      "outputs": []
    },
    {
      "cell_type": "code",
      "source": [
        "X_train, y_train = concatenate_class_datasets(datasets, [1,2,3], type='train')"
      ],
      "metadata": {
        "id": "4RtUemsXn6el"
      },
      "execution_count": null,
      "outputs": []
    },
    {
      "cell_type": "code",
      "source": [
        "from sklearn.cluster import DBSCAN\n",
        "from sklearn.metrics import confusion_matrix, classification_report\n",
        "import pandas as pd\n",
        "import numpy as np\n",
        "\n",
        "# Assuming X_train and y_train are already defined as per your previous code\n",
        "\n",
        "# Step 3: Apply DBSCAN Clustering\n",
        "# Adjust eps and min_samples as per your dataset characteristics\n",
        "dbscan = DBSCAN(eps=0.5, min_samples=5)\n",
        "clusters = dbscan.fit_predict(X_train)\n",
        "\n",
        "# Since DBSCAN may produce noise points (labelled as -1), we'll handle them separately\n",
        "# For evaluation, we'll only consider non-noise points\n",
        "non_noise_indices = clusters != -1\n",
        "\n",
        "# Step 4: Evaluate Clustering\n",
        "# Adjusting the labels for comparison might be tricky since DBSCAN does not directly assign class labels.\n",
        "# One approach is to create a contingency table or confusion matrix to see cluster-label alignment\n",
        "\n",
        "# Filter out noise points for evaluation\n",
        "filtered_clusters = clusters[non_noise_indices]\n",
        "filtered_labels = y_train[non_noise_indices]\n",
        "\n",
        "# Create a confusion matrix to evaluate clustering\n",
        "conf_matrix = confusion_matrix(filtered_labels, filtered_clusters)\n",
        "\n",
        "# Simple evaluation to see cluster distribution\n",
        "print(\"Confusion Matrix:\\n\", conf_matrix)\n"
      ],
      "metadata": {
        "colab": {
          "base_uri": "https://localhost:8080/"
        },
        "id": "Wqczc7mxoD7K",
        "outputId": "1bce9ff3-dda3-4c50-f7c5-64887ad35e1c"
      },
      "execution_count": null,
      "outputs": [
        {
          "output_type": "stream",
          "name": "stdout",
          "text": [
            "Confusion Matrix:\n",
            " [[  11    5 2302 ...    3    5    3]\n",
            " [   3    0    2 ...    5    0    1]\n",
            " [   0    0    0 ...    0    0    1]\n",
            " ...\n",
            " [   0    0    0 ...    0    0    0]\n",
            " [   0    0    0 ...    0    0    0]\n",
            " [   0    0    0 ...    0    0    0]]\n"
          ]
        }
      ]
    },
    {
      "cell_type": "code",
      "source": [
        "import numpy as np\n",
        "\n",
        "# Assuming `clusters` is the array of cluster labels from DBSCAN\n",
        "\n",
        "# Count unique labels, excluding noise (label = -1)\n",
        "unique_clusters = np.unique(clusters)\n",
        "total_clusters = len(unique_clusters[unique_clusters != -1])  # Exclude noise label\n",
        "\n",
        "print(\"Total number of clusters (excluding noise):\", total_clusters)\n"
      ],
      "metadata": {
        "colab": {
          "base_uri": "https://localhost:8080/"
        },
        "id": "-qwMG4Maulkd",
        "outputId": "f551113b-3545-4dc5-867d-0d3772419845"
      },
      "execution_count": null,
      "outputs": [
        {
          "output_type": "stream",
          "name": "stdout",
          "text": [
            "Total number of clusters (excluding noise): 105\n"
          ]
        }
      ]
    },
    {
      "cell_type": "code",
      "source": [
        "import matplotlib.pyplot as plt\n",
        "import pandas as pd\n",
        "\n",
        "# Assuming `clusters` is the array of cluster labels from DBSCAN,\n",
        "# and `y_train` contains the original class labels\n",
        "\n",
        "# Step 1: Select a Cluster for Analysis\n",
        "selected_cluster = 0  # Change this to the cluster you want to analyze\n",
        "\n",
        "# Step 2: Filter Data Points in the Selected Cluster\n",
        "# Note: Adjust this if you want to include/exclude noise points\n",
        "indices_in_cluster = (clusters == selected_cluster)\n",
        "original_labels_in_cluster = y_train[indices_in_cluster]\n",
        "\n",
        "# Step 3: Count the Number of Data Points for Each Original Class\n",
        "label_counts = pd.Series(original_labels_in_cluster).value_counts()\n",
        "\n",
        "# Step 4: Plot the Bar Chart\n",
        "plt.figure(figsize=(10, 6))\n",
        "label_counts.plot(kind='bar')\n",
        "plt.title(f'Distribution of Original Class Labels in Cluster {selected_cluster}')\n",
        "plt.xlabel('Original Class Label')\n",
        "plt.ylabel('Count')\n",
        "plt.xticks(rotation=0)  # Keep the class labels upright for clarity\n",
        "plt.show()\n"
      ],
      "metadata": {
        "colab": {
          "base_uri": "https://localhost:8080/",
          "height": 564
        },
        "id": "WWOrgjLcuFDe",
        "outputId": "60e3635e-a656-46b0-b9dc-22225e398d2c"
      },
      "execution_count": null,
      "outputs": [
        {
          "output_type": "display_data",
          "data": {
            "text/plain": [
              "<Figure size 1000x600 with 1 Axes>"
            ],
            "image/png": "[encoded data removed]"
          },
          "metadata": {}
        }
      ]
    },
    {
      "cell_type": "code",
      "source": [
        "import matplotlib.pyplot as plt\n",
        "import pandas as pd\n",
        "import numpy as np\n",
        "\n",
        "# Assuming `clusters` is the array of cluster labels from DBSCAN,\n",
        "# and `y_train` contains the original class labels\n",
        "\n",
        "# Get unique clusters, including noise\n",
        "unique_clusters = np.unique(clusters)\n",
        "\n",
        "# Set up the plot\n",
        "fig, axs = plt.subplots(len(unique_clusters), 1, figsize=(10, 6 * len(unique_clusters)))\n",
        "\n",
        "if len(unique_clusters) == 1:  # If there's only one cluster, axs is not an array\n",
        "    axs = [axs]\n",
        "\n",
        "for idx, cluster in enumerate(unique_clusters):\n",
        "    # Filter Data Points in the Current Cluster\n",
        "    indices_in_cluster = (clusters == cluster)\n",
        "    original_labels_in_cluster = y_train[indices_in_cluster]\n",
        "\n",
        "    # Count the Number of Data Points for Each Original Class\n",
        "    label_counts = pd.Series(original_labels_in_cluster).value_counts().sort_index()\n",
        "\n",
        "    # Plot the Bar Chart for the Current Cluster\n",
        "    axs[idx].bar(label_counts.index, label_counts.values)\n",
        "    axs[idx].set_title(f'Cluster {cluster} Distribution')\n",
        "    axs[idx].set_xlabel('Original Class Label')\n",
        "    axs[idx].set_ylabel('Count')\n",
        "    axs[idx].set_xticks(label_counts.index)  # Ensure all class labels are shown\n",
        "\n",
        "plt.tight_layout()\n",
        "plt.show()\n",
        "\n",
        "# Calculate and print the proportion of normal vs abnormal data in each cluster\n",
        "for cluster in unique_clusters:\n",
        "    indices_in_cluster = clusters == cluster\n",
        "    labels_in_cluster = y_train[indices_in_cluster]\n",
        "    total_count = len(labels_in_cluster)\n",
        "    normal_count = (labels_in_cluster == 0).sum()\n",
        "    abnormal_count = total_count - normal_count\n",
        "    print(f\"Cluster {cluster}: Normal data proportion: {normal_count / total_count:.2f}, Abnormal data proportion: {abnormal_count / total_count:.2f}\")\n"
      ],
      "metadata": {
        "id": "bfj8zl_BRojt"
      },
      "execution_count": null,
      "outputs": []
    },
    {
      "cell_type": "code",
      "source": [
        "X_train, y_train = concatenate_class_datasets(datasets, [1,2,3], type='train')"
      ],
      "metadata": {
        "id": "IhagsnKaShKw"
      },
      "execution_count": null,
      "outputs": []
    },
    {
      "cell_type": "code",
      "source": [
        "scaler = MinMaxScaler()\n",
        "X_train_scaled = scaler.fit_transform(X_train)"
      ],
      "metadata": {
        "id": "XrGlldhMM42Q"
      },
      "execution_count": null,
      "outputs": []
    },
    {
      "cell_type": "code",
      "source": [
        "import numpy as np\n",
        "from sklearn.model_selection import train_test_split\n",
        "from sklearn.preprocessing import MinMaxScaler\n",
        "from keras.models import Model\n",
        "from keras.layers import Input, Dense\n",
        "from keras.optimizers import Adam\n",
        "\n",
        "# Data Preparation (replace with your actual data loading)\n",
        "# X, y = load_your_data()  # Load your dataset here\n",
        "\n",
        "# Normalize your data\n",
        "X_scaled_1 = scaler.fit_transform(datasets['x_train_class_1'])\n",
        "X_scaled_test_1 = scaler.transform(datasets['x_test_class_1'])\n",
        "\n",
        "\n",
        "\n",
        "def build_stacked_autoencoder(input_dim, encoding_dim):\n",
        "    input_layer = Input(shape=(input_dim,))\n",
        "    encoded = Dense(encoding_dim, activation='relu')(input_layer)\n",
        "    encoded = Dense(encoding_dim // 2, activation='relu')(encoded)\n",
        "    decoded = Dense(encoding_dim // 2, activation='relu')(encoded)\n",
        "    decoded = Dense(input_dim, activation='sigmoid')(decoded)\n",
        "    autoencoder = Model(input_layer, decoded)\n",
        "    autoencoder.compile(optimizer='adam', loss='binary_crossentropy')\n",
        "    return autoencoder\n",
        "\n",
        "# Model Training\n",
        "input_dim = X_scaled_1.shape[1]\n",
        "encoding_dim = 15\n",
        "\n",
        "autoencoder_1 = build_stacked_autoencoder(input_dim, encoding_dim)\n",
        "autoencoder_1.fit(X_scaled_1, X_scaled_1, epochs=50, batch_size=256, shuffle=True)\n"
      ],
      "metadata": {
        "colab": {
          "base_uri": "https://localhost:8080/"
        },
        "id": "le-MHqXlIHgm",
        "outputId": "d58d376e-3d24-418f-93c0-237ef055c11b"
      },
      "execution_count": null,
      "outputs": [
        {
          "output_type": "stream",
          "name": "stdout",
          "text": [
            "Epoch 1/50\n",
            "31/31 [==============================] - 2s 3ms/step - loss: 0.6825\n",
            "Epoch 2/50\n",
            "31/31 [==============================] - 0s 3ms/step - loss: 0.6385\n",
            "Epoch 3/50\n",
            "31/31 [==============================] - 0s 3ms/step - loss: 0.5410\n",
            "Epoch 4/50\n",
            "31/31 [==============================] - 0s 3ms/step - loss: 0.3796\n",
            "Epoch 5/50\n",
            "31/31 [==============================] - 0s 3ms/step - loss: 0.2169\n",
            "Epoch 6/50\n",
            "31/31 [==============================] - 0s 4ms/step - loss: 0.1334\n",
            "Epoch 7/50\n",
            "31/31 [==============================] - 0s 3ms/step - loss: 0.1069\n",
            "Epoch 8/50\n",
            "31/31 [==============================] - 0s 3ms/step - loss: 0.0988\n",
            "Epoch 9/50\n",
            "31/31 [==============================] - 0s 3ms/step - loss: 0.0951\n",
            "Epoch 10/50\n",
            "31/31 [==============================] - 0s 3ms/step - loss: 0.0926\n",
            "Epoch 11/50\n",
            "31/31 [==============================] - 0s 3ms/step - loss: 0.0908\n",
            "Epoch 12/50\n",
            "31/31 [==============================] - 0s 3ms/step - loss: 0.0892\n",
            "Epoch 13/50\n",
            "31/31 [==============================] - 0s 3ms/step - loss: 0.0881\n",
            "Epoch 14/50\n",
            "31/31 [==============================] - 0s 4ms/step - loss: 0.0875\n",
            "Epoch 15/50\n",
            "31/31 [==============================] - 0s 3ms/step - loss: 0.0871\n",
            "Epoch 16/50\n",
            "31/31 [==============================] - 0s 4ms/step - loss: 0.0868\n",
            "Epoch 17/50\n",
            "31/31 [==============================] - 0s 4ms/step - loss: 0.0866\n",
            "Epoch 18/50\n",
            "31/31 [==============================] - 0s 3ms/step - loss: 0.0864\n",
            "Epoch 19/50\n",
            "31/31 [==============================] - 0s 4ms/step - loss: 0.0862\n",
            "Epoch 20/50\n",
            "31/31 [==============================] - 0s 3ms/step - loss: 0.0860\n",
            "Epoch 21/50\n",
            "31/31 [==============================] - 0s 4ms/step - loss: 0.0859\n",
            "Epoch 22/50\n",
            "31/31 [==============================] - 0s 4ms/step - loss: 0.0858\n",
            "Epoch 23/50\n",
            "31/31 [==============================] - 0s 3ms/step - loss: 0.0857\n",
            "Epoch 24/50\n",
            "31/31 [==============================] - 0s 3ms/step - loss: 0.0855\n",
            "Epoch 25/50\n",
            "31/31 [==============================] - 0s 4ms/step - loss: 0.0854\n",
            "Epoch 26/50\n",
            "31/31 [==============================] - 0s 4ms/step - loss: 0.0853\n",
            "Epoch 27/50\n",
            "31/31 [==============================] - 0s 2ms/step - loss: 0.0853\n",
            "Epoch 28/50\n",
            "31/31 [==============================] - 0s 2ms/step - loss: 0.0852\n",
            "Epoch 29/50\n",
            "31/31 [==============================] - 0s 2ms/step - loss: 0.0851\n",
            "Epoch 30/50\n",
            "31/31 [==============================] - 0s 2ms/step - loss: 0.0850\n",
            "Epoch 31/50\n",
            "31/31 [==============================] - 0s 2ms/step - loss: 0.0850\n",
            "Epoch 32/50\n",
            "31/31 [==============================] - 0s 2ms/step - loss: 0.0849\n",
            "Epoch 33/50\n",
            "31/31 [==============================] - 0s 2ms/step - loss: 0.0848\n",
            "Epoch 34/50\n",
            "31/31 [==============================] - 0s 2ms/step - loss: 0.0848\n",
            "Epoch 35/50\n",
            "31/31 [==============================] - 0s 2ms/step - loss: 0.0847\n",
            "Epoch 36/50\n",
            "31/31 [==============================] - 0s 2ms/step - loss: 0.0846\n",
            "Epoch 37/50\n",
            "31/31 [==============================] - 0s 2ms/step - loss: 0.0846\n",
            "Epoch 38/50\n",
            "31/31 [==============================] - 0s 2ms/step - loss: 0.0845\n",
            "Epoch 39/50\n",
            "31/31 [==============================] - 0s 2ms/step - loss: 0.0844\n",
            "Epoch 40/50\n",
            "31/31 [==============================] - 0s 2ms/step - loss: 0.0844\n",
            "Epoch 41/50\n",
            "31/31 [==============================] - 0s 2ms/step - loss: 0.0843\n",
            "Epoch 42/50\n",
            "31/31 [==============================] - 0s 2ms/step - loss: 0.0843\n",
            "Epoch 43/50\n",
            "31/31 [==============================] - 0s 2ms/step - loss: 0.0842\n",
            "Epoch 44/50\n",
            "31/31 [==============================] - 0s 2ms/step - loss: 0.0841\n",
            "Epoch 45/50\n",
            "31/31 [==============================] - 0s 2ms/step - loss: 0.0841\n",
            "Epoch 46/50\n",
            "31/31 [==============================] - 0s 2ms/step - loss: 0.0840\n",
            "Epoch 47/50\n",
            "31/31 [==============================] - 0s 3ms/step - loss: 0.0840\n",
            "Epoch 48/50\n",
            "31/31 [==============================] - 0s 2ms/step - loss: 0.0839\n",
            "Epoch 49/50\n",
            "31/31 [==============================] - 0s 2ms/step - loss: 0.0838\n",
            "Epoch 50/50\n",
            "31/31 [==============================] - 0s 2ms/step - loss: 0.0838\n"
          ]
        },
        {
          "output_type": "execute_result",
          "data": {
            "text/plain": [
              "<keras.src.callbacks.History at 0x7bb2f9b4f520>"
            ]
          },
          "metadata": {},
          "execution_count": 30
        }
      ]
    },
    {
      "cell_type": "code",
      "source": [
        "# After training the autoencoder\n",
        "reconstructed_train = autoencoder_1.predict(X_scaled_1)\n",
        "train_mse = np.mean(np.power(X_scaled_1 - reconstructed_train, 2), axis=1)\n",
        "\n",
        "# Setting the threshold as the average reconstruction error on the training data\n",
        "threshold_1 = np.mean(train_mse)\n",
        "print(\"Threshold:\", threshold_1)\n",
        "\n",
        "# Then use this threshold to detect anomalies in new data\n",
        "test_mse = np.mean(np.power(X_scaled_test_1 - autoencoder_1.predict(X_scaled_test_1), 2), axis=1)\n",
        "anomalies = test_mse > threshold_1\n",
        "print(\"Anomaly Detected:\", np.sum(anomalies))\n"
      ],
      "metadata": {
        "colab": {
          "base_uri": "https://localhost:8080/"
        },
        "id": "kQxyo-FNJKLH",
        "outputId": "34db1e32-bb18-442f-b7f9-a93686016e79"
      },
      "execution_count": null,
      "outputs": [
        {
          "output_type": "stream",
          "name": "stdout",
          "text": [
            "245/245 [==============================] - 0s 1ms/step\n",
            "Threshold: 0.0005696708742668283\n",
            "4/4 [==============================] - 0s 3ms/step\n",
            "Anomaly Detected: 11\n"
          ]
        }
      ]
    },
    {
      "cell_type": "code",
      "source": [
        "import numpy as np\n",
        "from sklearn.model_selection import train_test_split\n",
        "from sklearn.preprocessing import MinMaxScaler\n",
        "from keras.models import Model\n",
        "from keras.layers import Input, Dense\n",
        "from keras.optimizers import Adam\n",
        "\n",
        "# Data Preparation (replace with your actual data loading)\n",
        "# X, y = load_your_data()  # Load your dataset here\n",
        "\n",
        "# Normalize your data\n",
        "X_scaled_2 = scaler.transform(datasets['x_train_class_2'])\n",
        "X_scaled_test_2 = scaler.transform(datasets['x_test_class_2'])\n",
        "\n",
        "\n",
        "\n",
        "def build_stacked_autoencoder(input_dim, encoding_dim):\n",
        "    input_layer = Input(shape=(input_dim,))\n",
        "    encoded = Dense(encoding_dim, activation='relu')(input_layer)\n",
        "    encoded = Dense(encoding_dim // 2, activation='relu')(encoded)\n",
        "    decoded = Dense(encoding_dim // 2, activation='relu')(encoded)\n",
        "    decoded = Dense(input_dim, activation='sigmoid')(decoded)\n",
        "    autoencoder = Model(input_layer, decoded)\n",
        "    autoencoder.compile(optimizer='adam', loss='binary_crossentropy')\n",
        "    return autoencoder\n",
        "\n",
        "# Model Training\n",
        "input_dim = X_scaled_2.shape[1]\n",
        "encoding_dim = 15\n",
        "\n",
        "autoencoder_2 = build_stacked_autoencoder(input_dim, encoding_dim)\n",
        "autoencoder_2.fit(X_scaled_2, X_scaled_2, epochs=50, batch_size=256, shuffle=True)\n"
      ],
      "metadata": {
        "colab": {
          "base_uri": "https://localhost:8080/"
        },
        "id": "XM-oSAmgMNxX",
        "outputId": "03b80949-2a7e-45ec-c1e8-456fb22089a6"
      },
      "execution_count": null,
      "outputs": [
        {
          "output_type": "stream",
          "name": "stdout",
          "text": [
            "Epoch 1/50\n",
            "54/54 [==============================] - 1s 2ms/step - loss: 0.6726\n",
            "Epoch 2/50\n",
            "54/54 [==============================] - 0s 2ms/step - loss: 0.5486\n",
            "Epoch 3/50\n",
            "54/54 [==============================] - 0s 2ms/step - loss: 0.2711\n",
            "Epoch 4/50\n",
            "54/54 [==============================] - 0s 2ms/step - loss: 0.1169\n",
            "Epoch 5/50\n",
            "54/54 [==============================] - 0s 2ms/step - loss: 0.0826\n",
            "Epoch 6/50\n",
            "54/54 [==============================] - 0s 2ms/step - loss: 0.0757\n",
            "Epoch 7/50\n",
            "54/54 [==============================] - 0s 2ms/step - loss: 0.0735\n",
            "Epoch 8/50\n",
            "54/54 [==============================] - 0s 2ms/step - loss: 0.0721\n",
            "Epoch 9/50\n",
            "54/54 [==============================] - 0s 2ms/step - loss: 0.0708\n",
            "Epoch 10/50\n",
            "54/54 [==============================] - 0s 2ms/step - loss: 0.0702\n",
            "Epoch 11/50\n",
            "54/54 [==============================] - 0s 2ms/step - loss: 0.0700\n",
            "Epoch 12/50\n",
            "54/54 [==============================] - 0s 2ms/step - loss: 0.0698\n",
            "Epoch 13/50\n",
            "54/54 [==============================] - 0s 2ms/step - loss: 0.0698\n",
            "Epoch 14/50\n",
            "54/54 [==============================] - 0s 2ms/step - loss: 0.0697\n",
            "Epoch 15/50\n",
            "54/54 [==============================] - 0s 2ms/step - loss: 0.0697\n",
            "Epoch 16/50\n",
            "54/54 [==============================] - 0s 2ms/step - loss: 0.0697\n",
            "Epoch 17/50\n",
            "54/54 [==============================] - 0s 2ms/step - loss: 0.0696\n",
            "Epoch 18/50\n",
            "54/54 [==============================] - 0s 3ms/step - loss: 0.0696\n",
            "Epoch 19/50\n",
            "54/54 [==============================] - 0s 2ms/step - loss: 0.0696\n",
            "Epoch 20/50\n",
            "54/54 [==============================] - 0s 2ms/step - loss: 0.0696\n",
            "Epoch 21/50\n",
            "54/54 [==============================] - 0s 2ms/step - loss: 0.0696\n",
            "Epoch 22/50\n",
            "54/54 [==============================] - 0s 2ms/step - loss: 0.0696\n",
            "Epoch 23/50\n",
            "54/54 [==============================] - 0s 2ms/step - loss: 0.0696\n",
            "Epoch 24/50\n",
            "54/54 [==============================] - 0s 2ms/step - loss: 0.0696\n",
            "Epoch 25/50\n",
            "54/54 [==============================] - 0s 2ms/step - loss: 0.0696\n",
            "Epoch 26/50\n",
            "54/54 [==============================] - 0s 2ms/step - loss: 0.0695\n",
            "Epoch 27/50\n",
            "54/54 [==============================] - 0s 2ms/step - loss: 0.0695\n",
            "Epoch 28/50\n",
            "54/54 [==============================] - 0s 2ms/step - loss: 0.0695\n",
            "Epoch 29/50\n",
            "54/54 [==============================] - 0s 2ms/step - loss: 0.0695\n",
            "Epoch 30/50\n",
            "54/54 [==============================] - 0s 2ms/step - loss: 0.0694\n",
            "Epoch 31/50\n",
            "54/54 [==============================] - 0s 2ms/step - loss: 0.0694\n",
            "Epoch 32/50\n",
            "54/54 [==============================] - 0s 2ms/step - loss: 0.0694\n",
            "Epoch 33/50\n",
            "54/54 [==============================] - 0s 2ms/step - loss: 0.0694\n",
            "Epoch 34/50\n",
            "54/54 [==============================] - 0s 2ms/step - loss: 0.0694\n",
            "Epoch 35/50\n",
            "54/54 [==============================] - 0s 2ms/step - loss: 0.0694\n",
            "Epoch 36/50\n",
            "54/54 [==============================] - 0s 2ms/step - loss: 0.0693\n",
            "Epoch 37/50\n",
            "54/54 [==============================] - 0s 2ms/step - loss: 0.0693\n",
            "Epoch 38/50\n",
            "54/54 [==============================] - 0s 2ms/step - loss: 0.0693\n",
            "Epoch 39/50\n",
            "54/54 [==============================] - 0s 2ms/step - loss: 0.0693\n",
            "Epoch 40/50\n",
            "54/54 [==============================] - 0s 2ms/step - loss: 0.0693\n",
            "Epoch 41/50\n",
            "54/54 [==============================] - 0s 2ms/step - loss: 0.0693\n",
            "Epoch 42/50\n",
            "54/54 [==============================] - 0s 2ms/step - loss: 0.0693\n",
            "Epoch 43/50\n",
            "54/54 [==============================] - 0s 2ms/step - loss: 0.0692\n",
            "Epoch 44/50\n",
            "54/54 [==============================] - 0s 2ms/step - loss: 0.0692\n",
            "Epoch 45/50\n",
            "54/54 [==============================] - 0s 2ms/step - loss: 0.0692\n",
            "Epoch 46/50\n",
            "54/54 [==============================] - 0s 2ms/step - loss: 0.0692\n",
            "Epoch 47/50\n",
            "54/54 [==============================] - 0s 2ms/step - loss: 0.0692\n",
            "Epoch 48/50\n",
            "54/54 [==============================] - 0s 2ms/step - loss: 0.0692\n",
            "Epoch 49/50\n",
            "54/54 [==============================] - 0s 2ms/step - loss: 0.0692\n",
            "Epoch 50/50\n",
            "54/54 [==============================] - 0s 2ms/step - loss: 0.0692\n"
          ]
        },
        {
          "output_type": "execute_result",
          "data": {
            "text/plain": [
              "<keras.src.callbacks.History at 0x7bb2f99a9c90>"
            ]
          },
          "metadata": {},
          "execution_count": 32
        }
      ]
    },
    {
      "cell_type": "code",
      "source": [
        "reconstructed_train = autoencoder_2.predict(X_scaled_2)\n",
        "train_mse = np.mean(np.power(X_scaled_2 - reconstructed_train, 2), axis=1)\n",
        "\n",
        "# Setting the threshold as the average reconstruction error on the training data\n",
        "threshold_2 = np.mean(train_mse)\n",
        "print(\"Threshold:\", threshold_2)\n",
        "\n",
        "# Then use this threshold to detect anomalies in new data\n",
        "test_mse = np.mean(np.power(X_scaled_test_2 - autoencoder_2.predict(X_scaled_test_2), 2), axis=1)\n",
        "anomalies = test_mse > threshold_2\n",
        "print(\"Anomaly Detected:\", np.sum(anomalies))"
      ],
      "metadata": {
        "colab": {
          "base_uri": "https://localhost:8080/"
        },
        "id": "ejGFsvHYNmlN",
        "outputId": "0e35f9cc-a96c-430e-d36c-11f28e26f1f7"
      },
      "execution_count": null,
      "outputs": [
        {
          "output_type": "stream",
          "name": "stdout",
          "text": [
            "430/430 [==============================] - 1s 1ms/step\n",
            "Threshold: 2.7436168818761192e-05\n",
            "4/4 [==============================] - 0s 3ms/step\n",
            "Anomaly Detected: 10\n"
          ]
        }
      ]
    },
    {
      "cell_type": "code",
      "source": [
        "import numpy as np\n",
        "from sklearn.model_selection import train_test_split\n",
        "from sklearn.preprocessing import MinMaxScaler\n",
        "from keras.models import Model\n",
        "from keras.layers import Input, Dense\n",
        "from keras.optimizers import Adam\n",
        "\n",
        "# Data Preparation (replace with your actual data loading)\n",
        "# X, y = load_your_data()  # Load your dataset here\n",
        "\n",
        "# Normalize your data\n",
        "X_scaled_3 = scaler.transform(datasets['x_train_class_3'])\n",
        "X_scaled_test_3 = scaler.transform(datasets['x_test_class_3'])\n",
        "\n",
        "\n",
        "\n",
        "def build_stacked_autoencoder(input_dim, encoding_dim):\n",
        "    input_layer = Input(shape=(input_dim,))\n",
        "    encoded = Dense(encoding_dim, activation='relu')(input_layer)\n",
        "    encoded = Dense(encoding_dim // 2, activation='relu')(encoded)\n",
        "    decoded = Dense(encoding_dim // 2, activation='relu')(encoded)\n",
        "    decoded = Dense(input_dim, activation='sigmoid')(decoded)\n",
        "    autoencoder = Model(input_layer, decoded)\n",
        "    autoencoder.compile(optimizer='adam', loss='binary_crossentropy')\n",
        "    return autoencoder\n",
        "\n",
        "# Model Training\n",
        "input_dim = X_scaled_3.shape[1]\n",
        "encoding_dim = 15\n",
        "\n",
        "autoencoder_3 = build_stacked_autoencoder(input_dim, encoding_dim)\n",
        "autoencoder_3.fit(X_scaled_3, X_scaled_3, epochs=50, batch_size=256, shuffle=True)\n"
      ],
      "metadata": {
        "colab": {
          "base_uri": "https://localhost:8080/"
        },
        "id": "Nl_C9VcYNwhf",
        "outputId": "a36bede9-f05d-480b-a1f1-e60a9cc64df1"
      },
      "execution_count": null,
      "outputs": [
        {
          "output_type": "stream",
          "name": "stdout",
          "text": [
            "Epoch 1/50\n",
            "44/44 [==============================] - 1s 2ms/step - loss: 0.6722\n",
            "Epoch 2/50\n",
            "44/44 [==============================] - 0s 2ms/step - loss: 0.5985\n",
            "Epoch 3/50\n",
            "44/44 [==============================] - 0s 2ms/step - loss: 0.4516\n",
            "Epoch 4/50\n",
            "44/44 [==============================] - 0s 2ms/step - loss: 0.2899\n",
            "Epoch 5/50\n",
            "44/44 [==============================] - 0s 2ms/step - loss: 0.1924\n",
            "Epoch 6/50\n",
            "44/44 [==============================] - 0s 2ms/step - loss: 0.1479\n",
            "Epoch 7/50\n",
            "44/44 [==============================] - 0s 2ms/step - loss: 0.1283\n",
            "Epoch 8/50\n",
            "44/44 [==============================] - 0s 2ms/step - loss: 0.1189\n",
            "Epoch 9/50\n",
            "44/44 [==============================] - 0s 2ms/step - loss: 0.1136\n",
            "Epoch 10/50\n",
            "44/44 [==============================] - 0s 2ms/step - loss: 0.1103\n",
            "Epoch 11/50\n",
            "44/44 [==============================] - 0s 2ms/step - loss: 0.1080\n",
            "Epoch 12/50\n",
            "44/44 [==============================] - 0s 2ms/step - loss: 0.1063\n",
            "Epoch 13/50\n",
            "44/44 [==============================] - 0s 2ms/step - loss: 0.1049\n",
            "Epoch 14/50\n",
            "44/44 [==============================] - 0s 2ms/step - loss: 0.1037\n",
            "Epoch 15/50\n",
            "44/44 [==============================] - 0s 2ms/step - loss: 0.1027\n",
            "Epoch 16/50\n",
            "44/44 [==============================] - 0s 2ms/step - loss: 0.1017\n",
            "Epoch 17/50\n",
            "44/44 [==============================] - 0s 2ms/step - loss: 0.1009\n",
            "Epoch 18/50\n",
            "44/44 [==============================] - 0s 2ms/step - loss: 0.1001\n",
            "Epoch 19/50\n",
            "44/44 [==============================] - 0s 2ms/step - loss: 0.0995\n",
            "Epoch 20/50\n",
            "44/44 [==============================] - 0s 2ms/step - loss: 0.0990\n",
            "Epoch 21/50\n",
            "44/44 [==============================] - 0s 2ms/step - loss: 0.0986\n",
            "Epoch 22/50\n",
            "44/44 [==============================] - 0s 2ms/step - loss: 0.0982\n",
            "Epoch 23/50\n",
            "44/44 [==============================] - 0s 2ms/step - loss: 0.0980\n",
            "Epoch 24/50\n",
            "44/44 [==============================] - 0s 2ms/step - loss: 0.0978\n",
            "Epoch 25/50\n",
            "44/44 [==============================] - 0s 2ms/step - loss: 0.0976\n",
            "Epoch 26/50\n",
            "44/44 [==============================] - 0s 2ms/step - loss: 0.0975\n",
            "Epoch 27/50\n",
            "44/44 [==============================] - 0s 2ms/step - loss: 0.0973\n",
            "Epoch 28/50\n",
            "44/44 [==============================] - 0s 2ms/step - loss: 0.0972\n",
            "Epoch 29/50\n",
            "44/44 [==============================] - 0s 2ms/step - loss: 0.0971\n",
            "Epoch 30/50\n",
            "44/44 [==============================] - 0s 2ms/step - loss: 0.0971\n",
            "Epoch 31/50\n",
            "44/44 [==============================] - 0s 2ms/step - loss: 0.0970\n",
            "Epoch 32/50\n",
            "44/44 [==============================] - 0s 2ms/step - loss: 0.0969\n",
            "Epoch 33/50\n",
            "44/44 [==============================] - 0s 2ms/step - loss: 0.0968\n",
            "Epoch 34/50\n",
            "44/44 [==============================] - 0s 2ms/step - loss: 0.0968\n",
            "Epoch 35/50\n",
            "44/44 [==============================] - 0s 2ms/step - loss: 0.0967\n",
            "Epoch 36/50\n",
            "44/44 [==============================] - 0s 2ms/step - loss: 0.0966\n",
            "Epoch 37/50\n",
            "44/44 [==============================] - 0s 2ms/step - loss: 0.0966\n",
            "Epoch 38/50\n",
            "44/44 [==============================] - 0s 2ms/step - loss: 0.0965\n",
            "Epoch 39/50\n",
            "44/44 [==============================] - 0s 2ms/step - loss: 0.0965\n",
            "Epoch 40/50\n",
            "44/44 [==============================] - 0s 2ms/step - loss: 0.0964\n",
            "Epoch 41/50\n",
            "44/44 [==============================] - 0s 2ms/step - loss: 0.0964\n",
            "Epoch 42/50\n",
            "44/44 [==============================] - 0s 2ms/step - loss: 0.0963\n",
            "Epoch 43/50\n",
            "44/44 [==============================] - 0s 2ms/step - loss: 0.0963\n",
            "Epoch 44/50\n",
            "44/44 [==============================] - 0s 2ms/step - loss: 0.0962\n",
            "Epoch 45/50\n",
            "44/44 [==============================] - 0s 2ms/step - loss: 0.0962\n",
            "Epoch 46/50\n",
            "44/44 [==============================] - 0s 2ms/step - loss: 0.0961\n",
            "Epoch 47/50\n",
            "44/44 [==============================] - 0s 2ms/step - loss: 0.0961\n",
            "Epoch 48/50\n",
            "44/44 [==============================] - 0s 2ms/step - loss: 0.0960\n",
            "Epoch 49/50\n",
            "44/44 [==============================] - 0s 2ms/step - loss: 0.0960\n",
            "Epoch 50/50\n",
            "44/44 [==============================] - 0s 2ms/step - loss: 0.0960\n"
          ]
        },
        {
          "output_type": "execute_result",
          "data": {
            "text/plain": [
              "<keras.src.callbacks.History at 0x7bb29c544a90>"
            ]
          },
          "metadata": {},
          "execution_count": 34
        }
      ]
    },
    {
      "cell_type": "code",
      "source": [
        "reconstructed_train = autoencoder_3.predict(X_scaled_3)\n",
        "train_mse = np.mean(np.power(X_scaled_3 - reconstructed_train, 2), axis=1)\n",
        "\n",
        "# Setting the threshold as the average reconstruction error on the training data\n",
        "threshold_3 = np.mean(train_mse)\n",
        "print(\"Threshold:\", threshold_3)\n",
        "\n",
        "# Then use this threshold to detect anomalies in new data\n",
        "test_mse = np.mean(np.power(X_scaled_test_3 - autoencoder_3.predict(X_scaled_test_3), 2), axis=1)\n",
        "anomalies = test_mse > threshold_3\n",
        "print(\"Anomaly Detected:\", np.sum(anomalies))"
      ],
      "metadata": {
        "colab": {
          "base_uri": "https://localhost:8080/"
        },
        "id": "_tabUPQyN7Nu",
        "outputId": "51c76968-0ad8-4cfb-8d8f-af16a1716de0"
      },
      "execution_count": null,
      "outputs": [
        {
          "output_type": "stream",
          "name": "stdout",
          "text": [
            "351/351 [==============================] - 1s 1ms/step\n",
            "Threshold: 0.00029952251026669975\n",
            "4/4 [==============================] - 0s 3ms/step\n",
            "Anomaly Detected: 19\n"
          ]
        }
      ]
    },
    {
      "cell_type": "code",
      "source": [
        "X_test, y_test = concatenate_class_datasets(datasets, [1,2,3], type='test')"
      ],
      "metadata": {
        "id": "TQo049TLOmZh"
      },
      "execution_count": 13,
      "outputs": []
    },
    {
      "cell_type": "code",
      "source": [
        "X_scaled_test = scaler.transform(X_test)"
      ],
      "metadata": {
        "id": "cjU9PdVlRRXV"
      },
      "execution_count": null,
      "outputs": []
    },
    {
      "cell_type": "code",
      "source": [
        "test_mse_1 = np.mean(np.power(X_scaled_test - autoencoder_1.predict(X_scaled_test), 2), axis=1)\n",
        "# test_mse_1 -= threshold_1"
      ],
      "metadata": {
        "colab": {
          "base_uri": "https://localhost:8080/"
        },
        "id": "fzWUs4egRZTS",
        "outputId": "db889b75-0f96-42b4-9d99-f40d672de1c8"
      },
      "execution_count": null,
      "outputs": [
        {
          "output_type": "stream",
          "name": "stdout",
          "text": [
            "10/10 [==============================] - 0s 3ms/step\n"
          ]
        }
      ]
    },
    {
      "cell_type": "code",
      "source": [
        "test_mse_1"
      ],
      "metadata": {
        "colab": {
          "base_uri": "https://localhost:8080/"
        },
        "id": "KKhAGimUS2is",
        "outputId": "4a7a86d8-6809-4086-cb72-681c15c02e77"
      },
      "execution_count": null,
      "outputs": [
        {
          "output_type": "execute_result",
          "data": {
            "text/plain": [
              "array([1.67291583e-04, 1.90146906e-04, 7.09922533e-04, 1.55220929e-05,\n",
              "       1.59231688e-05, 1.63343742e-05, 1.57085824e-05, 2.38743649e-05,\n",
              "       3.34053999e-04, 1.61414770e-05, 1.51107667e-04, 1.62950862e-05,\n",
              "       1.64934779e-04, 1.39653233e-05, 1.63387034e-05, 1.63393147e-05,\n",
              "       2.13916569e-01, 1.32488187e-05, 1.63390297e-05, 1.69807316e-02,\n",
              "       1.63390210e-05, 8.06240101e-05, 1.63452381e-05, 1.61404588e-05,\n",
              "       1.63388857e-05, 1.50974866e-05, 3.43316280e-04, 1.63195254e-05,\n",
              "       1.08034293e-03, 9.60961059e-06, 2.18835927e-05, 1.59480426e-05,\n",
              "       5.13740847e-05, 1.66112122e-05, 1.20078984e-05, 1.10797181e-05,\n",
              "       5.04407111e-06, 1.55337264e-05, 1.63393290e-05, 1.63386956e-05,\n",
              "       1.50051860e-05, 1.32132466e-05, 1.48094898e-05, 2.32100117e-05,\n",
              "       1.47201410e-05, 2.33892875e-04, 1.99485615e-04, 1.74448542e-03,\n",
              "       1.20445495e-04, 2.18429788e-05, 1.63390959e-05, 1.13147272e-03,\n",
              "       9.36901068e-05, 1.19244791e-05, 1.78892806e-02, 1.63394051e-05,\n",
              "       1.63393556e-05, 1.60086341e-05, 7.10265372e-04, 7.10534307e-04,\n",
              "       1.29481155e-05, 1.63272271e-05, 1.58274046e-05, 1.63391266e-05,\n",
              "       1.63393291e-05, 1.60660975e-05, 1.50394792e-05, 7.75657548e-06,\n",
              "       1.63183750e-05, 9.16683433e-04, 9.57634778e-05, 1.73544780e-04,\n",
              "       1.61537769e-05, 1.74935545e-05, 1.63339697e-05, 1.63306145e-05,\n",
              "       7.88060245e-05, 1.61387447e-05, 1.22846915e-05, 1.63393142e-05,\n",
              "       1.62795692e-05, 3.37133507e-04, 1.63397909e-05, 2.34804985e-05,\n",
              "       1.63269507e-05, 1.63393397e-05, 1.63406848e-05, 1.51907838e-05,\n",
              "       1.63387439e-05, 1.29477341e-05, 1.62568088e-05, 7.47488041e-06,\n",
              "       1.50948152e-05, 4.95793092e-04, 9.87452145e-06, 1.51287881e-04,\n",
              "       1.48389836e-05, 8.88747289e-06, 3.77378323e-04, 2.57407489e-03,\n",
              "       7.10264372e-04, 1.63614011e-05, 1.63402315e-05, 1.63362726e-05,\n",
              "       1.63384496e-05, 8.18398829e-05, 1.63387129e-05, 1.63426107e-05,\n",
              "       7.10267794e-04, 1.63389879e-05, 7.10260741e-04, 1.63336234e-05,\n",
              "       1.63393183e-05, 1.63398408e-05, 1.63452568e-05, 1.63377195e-05,\n",
              "       1.63391187e-05, 1.63380889e-05, 1.63389567e-05, 1.63391691e-05,\n",
              "       1.63385311e-05, 1.63393287e-05, 1.63388943e-05, 1.63380099e-05,\n",
              "       1.63391402e-05, 1.63360101e-05, 1.63388512e-05, 1.63391741e-05,\n",
              "       1.63389847e-05, 1.26172779e-05, 1.63389449e-05, 1.61118561e-05,\n",
              "       1.63400562e-05, 1.63386874e-05, 1.63393757e-05, 1.63389619e-05,\n",
              "       1.63285611e-05, 1.63392698e-05, 1.63392027e-05, 1.63389983e-05,\n",
              "       1.59918408e-05, 1.63390336e-05, 1.63391213e-05, 1.63393149e-05,\n",
              "       1.63401513e-05, 7.10273845e-04, 7.10261057e-04, 1.63390216e-05,\n",
              "       1.63392505e-05, 1.63392369e-05, 1.63379164e-05, 1.63384088e-05,\n",
              "       1.63386227e-05, 1.63392699e-05, 1.78844215e-04, 1.63516500e-05,\n",
              "       1.63345771e-05, 1.63390302e-05, 1.63357241e-05, 1.63389180e-05,\n",
              "       1.63394325e-05, 7.10261059e-04, 1.63369981e-05, 1.63355672e-05,\n",
              "       1.63391027e-05, 1.63370205e-05, 1.63367108e-05, 1.63391693e-05,\n",
              "       1.63388763e-05, 1.63388486e-05, 1.63388737e-05, 1.63378680e-05,\n",
              "       1.63340883e-05, 1.63387127e-05, 1.63369907e-05, 1.63386311e-05,\n",
              "       1.63390906e-05, 1.63388033e-05, 1.63393464e-05, 1.63374208e-05,\n",
              "       1.61493014e-05, 1.63370146e-05, 1.63398725e-05, 1.63401510e-05,\n",
              "       1.63377728e-05, 7.10260743e-04, 1.63348103e-05, 1.63512020e-05,\n",
              "       1.63325019e-05, 1.63352275e-05, 1.63385176e-05, 1.63379757e-05,\n",
              "       1.63385901e-05, 1.63393146e-05, 1.63326057e-05, 1.63389699e-05,\n",
              "       1.63393141e-05, 1.63392665e-05, 7.10274656e-04, 1.63389055e-05,\n",
              "       1.64537413e-05, 1.63393283e-05, 1.63392386e-05, 1.63393141e-05,\n",
              "       1.15404872e-03, 1.63305898e-05, 1.63389878e-05, 1.63513109e-05,\n",
              "       7.20775353e-04, 4.80480315e-03, 1.63389265e-05, 1.63393629e-05,\n",
              "       1.63388898e-05, 1.97489592e-03, 1.63329817e-05, 1.63390837e-05,\n",
              "       1.63382408e-05, 1.63363565e-05, 8.00067920e-04, 1.63389847e-05,\n",
              "       1.63179594e-05, 1.63387131e-05, 1.63212483e-05, 5.50768645e-04,\n",
              "       1.08393522e-04, 1.31493081e-02, 1.63362765e-05, 1.63390920e-05,\n",
              "       1.26756103e-03, 1.63392420e-05, 1.63398219e-05, 9.32460248e-04,\n",
              "       1.63389339e-05, 7.10263292e-04, 1.63391210e-05, 2.73283285e-04,\n",
              "       1.63393183e-05, 7.62444251e-03, 1.62067979e-05, 1.72485819e-03,\n",
              "       1.63385191e-05, 1.15433765e-03, 7.10263313e-04, 7.05777835e-04,\n",
              "       1.63332648e-05, 7.10280253e-04, 1.63390233e-05, 1.00692005e-03,\n",
              "       3.73821235e-04, 1.63390842e-05, 1.63362197e-05, 1.63388106e-05,\n",
              "       1.63384381e-05, 1.31538420e-01, 1.91647742e-03, 1.63301750e-05,\n",
              "       7.10263142e-04, 1.61136171e-03, 1.14041391e-04, 1.63418455e-05,\n",
              "       1.64318453e-05, 1.40781373e-05, 1.63389881e-05, 1.63350394e-05,\n",
              "       6.31624176e-04, 3.15111243e-03, 1.63389785e-05, 1.62814818e-05,\n",
              "       7.86276509e-06, 1.63363896e-05, 3.82694672e-04, 1.63385321e-05,\n",
              "       2.61720082e-03, 1.41262592e-03, 6.81907355e-04, 4.53158639e-04,\n",
              "       6.56366343e-04, 1.63390300e-05, 1.63391168e-05, 8.79328161e-04,\n",
              "       2.08878115e-04, 1.63374841e-05, 1.63086010e-05, 1.63344541e-05,\n",
              "       2.24972382e-03, 1.63370208e-05, 1.63374229e-05, 5.83537601e-04,\n",
              "       5.29993920e-03, 1.63388044e-05, 1.63375681e-05, 1.63382098e-05,\n",
              "       1.63341557e-05, 1.44324534e-05, 1.15826402e-04, 1.63390811e-05,\n",
              "       1.63342385e-05, 1.63390842e-05, 1.63389453e-05, 1.63392096e-05])"
            ]
          },
          "metadata": {},
          "execution_count": 77
        }
      ]
    },
    {
      "cell_type": "code",
      "source": [
        "test_mse_2 = np.mean(np.power(X_scaled_test - autoencoder_2.predict(X_scaled_test), 2), axis=1)\n",
        "# test_mse_2 -= threshold_2"
      ],
      "metadata": {
        "colab": {
          "base_uri": "https://localhost:8080/"
        },
        "id": "YGCWpKINR7oP",
        "outputId": "3713fe42-6827-4ca9-a052-fcfe2584f529"
      },
      "execution_count": null,
      "outputs": [
        {
          "output_type": "stream",
          "name": "stdout",
          "text": [
            "10/10 [==============================] - 0s 2ms/step\n"
          ]
        }
      ]
    },
    {
      "cell_type": "code",
      "source": [
        "test_mse_2"
      ],
      "metadata": {
        "colab": {
          "base_uri": "https://localhost:8080/"
        },
        "id": "_CPb2eQmS9xF",
        "outputId": "62011bf9-fedd-497f-a7ec-0637557a22cd"
      },
      "execution_count": null,
      "outputs": [
        {
          "output_type": "execute_result",
          "data": {
            "text/plain": [
              "array([4.15331790e-04, 2.47835062e-05, 1.61528851e-04, 2.25207831e-06,\n",
              "       2.25171012e-06, 8.49565427e-07, 3.06007929e-06, 1.67932469e-04,\n",
              "       6.23042813e-05, 8.62434557e-07, 6.36606138e-04, 8.71217850e-07,\n",
              "       7.69197407e-04, 3.10332316e-06, 8.50283430e-07, 8.50401370e-07,\n",
              "       2.09703909e-01, 4.85025301e-06, 8.50328662e-07, 2.06167803e-02,\n",
              "       8.50297502e-07, 4.69908292e-04, 8.49890486e-07, 2.24151050e-06,\n",
              "       8.50271159e-07, 1.64027469e-06, 6.72713100e-04, 8.46146688e-07,\n",
              "       1.48573293e-02, 1.39111694e-05, 2.14403082e-04, 2.99860192e-06,\n",
              "       3.24257458e-04, 1.08852707e-04, 3.36734324e-05, 3.60434355e-05,\n",
              "       2.03494514e-05, 2.03904568e-06, 8.50368250e-07, 8.50283348e-07,\n",
              "       1.98219897e-06, 2.61800336e-05, 3.05709048e-06, 2.52365653e-04,\n",
              "       2.58813538e-06, 7.45174527e-04, 1.28726274e-03, 2.01978368e-02,\n",
              "       7.92050111e-04, 1.12092804e-04, 8.50353875e-07, 2.26580602e-02,\n",
              "       6.18219799e-04, 7.19863302e-06, 2.17573098e-02, 8.50376937e-07,\n",
              "       8.50391132e-07, 1.29490138e-06, 1.66069740e-04, 1.66123671e-04,\n",
              "       1.02929424e-04, 8.50154922e-07, 1.24881020e-06, 8.50380618e-07,\n",
              "       8.50373435e-07, 1.58451784e-06, 2.50154127e-06, 3.37029558e-05,\n",
              "       8.49393138e-07, 1.68844127e-03, 2.63258441e-04, 6.49548253e-04,\n",
              "       2.26291891e-06, 1.19809524e-05, 8.50085868e-07, 8.48918785e-07,\n",
              "       2.33079447e-04, 2.00684946e-06, 9.53963039e-06, 8.50375865e-07,\n",
              "       8.67332473e-07, 2.14404298e-03, 8.50229914e-07, 2.16330198e-04,\n",
              "       8.49702435e-07, 8.50410140e-07, 8.49985730e-07, 1.75704612e-06,\n",
              "       8.50283342e-07, 5.94154769e-05, 8.42433783e-07, 7.08245525e-05,\n",
              "       3.52583249e-06, 9.83976953e-05, 1.34923347e-05, 1.78322719e-05,\n",
              "       2.20635842e-06, 9.68599625e-05, 7.50736024e-05, 2.14425547e-02,\n",
              "       1.66069902e-04, 8.50699382e-07, 8.50394821e-07, 8.50339492e-07,\n",
              "       8.50230511e-07, 2.91394880e-04, 8.50283349e-07, 8.49671458e-07,\n",
              "       1.66070424e-04, 8.50320739e-07, 1.66069017e-04, 8.49391793e-07,\n",
              "       8.50396035e-07, 8.50339428e-07, 8.50322944e-07, 8.49691936e-07,\n",
              "       8.50368453e-07, 8.50173435e-07, 8.50326578e-07, 8.50376124e-07,\n",
              "       8.50317559e-07, 8.50368246e-07, 8.50333699e-07, 8.50196777e-07,\n",
              "       8.50310718e-07, 8.49838261e-07, 8.50305646e-07, 8.50404035e-07,\n",
              "       8.50297502e-07, 1.62255571e-05, 8.50320741e-07, 1.51428729e-06,\n",
              "       8.50393822e-07, 8.50179321e-07, 8.50338913e-07, 8.50334555e-07,\n",
              "       8.48615991e-07, 8.50360581e-07, 8.50368871e-07, 8.50367124e-07,\n",
              "       1.69190360e-06, 8.50351815e-07, 8.50348121e-07, 8.50396032e-07,\n",
              "       8.50360125e-07, 1.66071879e-04, 1.66069285e-04, 8.50351336e-07,\n",
              "       8.50360581e-07, 8.50401617e-07, 8.50067533e-07, 8.50210450e-07,\n",
              "       8.50255579e-07, 8.50360582e-07, 4.49007116e-04, 8.50191459e-07,\n",
              "       8.49609211e-07, 8.50348631e-07, 8.49823323e-07, 8.50328405e-07,\n",
              "       8.50358842e-07, 1.66069285e-04, 8.50006494e-07, 8.49727192e-07,\n",
              "       8.50381255e-07, 8.49978382e-07, 8.49911570e-07, 8.50388797e-07,\n",
              "       8.50292861e-07, 8.50340141e-07, 8.50283460e-07, 8.50238730e-07,\n",
              "       8.49409393e-07, 8.50342953e-07, 8.50004274e-07, 8.50334266e-07,\n",
              "       8.50356376e-07, 8.50224627e-07, 8.50346979e-07, 8.50054962e-07,\n",
              "       1.44474407e-06, 8.49978412e-07, 8.50381497e-07, 8.50315598e-07,\n",
              "       8.50119373e-07, 1.66069017e-04, 8.49627479e-07, 8.50553282e-07,\n",
              "       8.49266320e-07, 8.50271241e-07, 8.50137235e-07, 8.50163876e-07,\n",
              "       8.50271138e-07, 8.50401369e-07, 8.49733212e-07, 8.50352483e-07,\n",
              "       8.50375862e-07, 8.50320783e-07, 1.66072022e-04, 8.50351464e-07,\n",
              "       8.55952996e-07, 8.50396043e-07, 8.50371986e-07, 8.50375862e-07,\n",
              "       2.20892480e-03, 8.48952142e-07, 8.50320739e-07, 8.50088403e-07,\n",
              "       1.87228507e-03, 1.89848470e-02, 8.50305540e-07, 8.50357961e-07,\n",
              "       8.50320998e-07, 1.38779719e-02, 8.49325833e-07, 8.50352887e-07,\n",
              "       8.50218769e-07, 8.49888872e-07, 6.09594328e-04, 8.50297502e-07,\n",
              "       8.47024834e-07, 8.50283346e-07, 8.47512397e-07, 2.89884124e-04,\n",
              "       7.23584442e-04, 1.33440214e-02, 8.50280120e-07, 8.50357185e-07,\n",
              "       2.61389517e-03, 8.50372969e-07, 8.50367603e-07, 1.08768614e-02,\n",
              "       8.50321630e-07, 1.66069608e-04, 8.50312705e-07, 1.10993438e-03,\n",
              "       8.50396035e-07, 1.72731584e-02, 8.44255193e-07, 2.12071916e-02,\n",
              "       8.50235630e-07, 2.37408996e-03, 1.66069608e-04, 1.91747594e-03,\n",
              "       8.49373073e-07, 1.66072878e-04, 8.50346116e-07, 4.70915515e-03,\n",
              "       1.36576132e-03, 8.50348631e-07, 8.49833534e-07, 8.50272549e-07,\n",
              "       8.50256387e-07, 1.20727758e-01, 7.95451796e-03, 8.48897010e-07,\n",
              "       1.66069353e-04, 1.08658870e-02, 7.21774289e-04, 8.50323250e-07,\n",
              "       8.56422154e-07, 2.39603204e-06, 8.50320739e-07, 8.49665636e-07,\n",
              "       4.22675187e-04, 2.17166357e-02, 8.50362561e-07, 8.43102219e-07,\n",
              "       6.07924309e-05, 8.49896800e-07, 1.38284115e-03, 8.50218749e-07,\n",
              "       1.58065755e-02, 1.24805318e-02, 1.88557329e-03, 1.52354347e-03,\n",
              "       1.84529317e-03, 8.50356342e-07, 8.50322693e-07, 9.60255950e-04,\n",
              "       9.19289834e-04, 8.50064378e-07, 8.45926886e-07, 8.49565235e-07,\n",
              "       1.99188163e-02, 8.49978360e-07, 8.50031699e-07, 3.50509164e-04,\n",
              "       2.47677510e-02, 8.50275172e-07, 8.50076922e-07, 8.50268777e-07,\n",
              "       8.49517347e-07, 3.43257811e-06, 8.45069025e-04, 8.50356613e-07,\n",
              "       8.49500053e-07, 8.50350799e-07, 8.50320740e-07, 8.50310867e-07])"
            ]
          },
          "metadata": {},
          "execution_count": 79
        }
      ]
    },
    {
      "cell_type": "code",
      "source": [
        "test_mse_3 = np.mean(np.power(X_scaled_test - autoencoder_3.predict(X_scaled_test), 2), axis=1)\n",
        "# test_mse_3 -= threshold_3"
      ],
      "metadata": {
        "colab": {
          "base_uri": "https://localhost:8080/"
        },
        "id": "dg3-SJhtR8Y7",
        "outputId": "533ba40c-75a8-47ba-8af7-78a1fad88e6d"
      },
      "execution_count": null,
      "outputs": [
        {
          "output_type": "stream",
          "name": "stdout",
          "text": [
            "10/10 [==============================] - 0s 3ms/step\n"
          ]
        }
      ]
    },
    {
      "cell_type": "code",
      "source": [
        "test_mse_3"
      ],
      "metadata": {
        "colab": {
          "base_uri": "https://localhost:8080/"
        },
        "id": "fX-AL6DmTeHI",
        "outputId": "12a71c41-5d28-4037-aee1-5a5a2fbfc378"
      },
      "execution_count": null,
      "outputs": [
        {
          "output_type": "execute_result",
          "data": {
            "text/plain": [
              "array([2.25510300e-04, 2.05843374e-04, 7.77580082e-04, 4.95793692e-06,\n",
              "       5.10643147e-06, 4.90291584e-06, 5.14633653e-06, 4.01791557e-05,\n",
              "       3.66911737e-04, 4.92921887e-06, 2.56007948e-04, 4.89366105e-06,\n",
              "       8.35988329e-05, 5.04950702e-06, 4.90340354e-06, 4.90347045e-06,\n",
              "       2.87747317e-01, 4.84350737e-06, 4.90349455e-06, 3.01630975e-03,\n",
              "       4.90343720e-06, 1.28820384e-04, 4.90595665e-06, 5.12962997e-06,\n",
              "       4.90346169e-06, 4.67125108e-06, 4.22273608e-04, 4.90363630e-06,\n",
              "       1.93227014e-03, 5.36174051e-06, 5.32809990e-05, 5.23378447e-06,\n",
              "       6.12989193e-05, 2.61029584e-05, 1.49782518e-05, 1.79049424e-05,\n",
              "       5.60457786e-06, 4.82595089e-06, 4.90344460e-06, 4.90339160e-06,\n",
              "       4.69631873e-06, 9.50261353e-06, 4.79183876e-06, 5.81210198e-05,\n",
              "       4.70456312e-06, 3.37132932e-04, 1.17845478e-04, 9.26960722e-04,\n",
              "       1.90439553e-04, 3.12610091e-05, 4.90339820e-06, 1.09458144e-03,\n",
              "       1.30377671e-04, 4.82418831e-06, 1.43231241e-03, 4.90351526e-06,\n",
              "       4.90347284e-06, 4.88230591e-06, 7.77346871e-04, 7.77395654e-04,\n",
              "       2.14008414e-05, 4.90014821e-06, 4.80006528e-06, 4.90340848e-06,\n",
              "       4.90344473e-06, 4.94325255e-06, 4.89584442e-06, 8.61964361e-06,\n",
              "       4.89836384e-06, 1.00149426e-03, 1.32517078e-04, 2.55452893e-04,\n",
              "       5.14228449e-06, 8.35714134e-06, 4.90218253e-06, 4.90255727e-06,\n",
              "       1.19584352e-04, 5.08848246e-06, 5.58204212e-06, 4.90346995e-06,\n",
              "       4.88548625e-06, 2.00183180e-04, 4.90378229e-06, 5.37962840e-05,\n",
              "       4.90052812e-06, 4.90347139e-06, 4.90440048e-06, 4.66922902e-06,\n",
              "       4.90340522e-06, 2.14960127e-05, 4.89447222e-06, 1.97419539e-05,\n",
              "       4.95740785e-06, 5.47151623e-04, 5.65299932e-06, 1.64503458e-04,\n",
              "       4.70516459e-06, 2.30055677e-05, 4.17053308e-04, 2.08428982e-03,\n",
              "       7.77347770e-04, 4.91025507e-06, 4.90376550e-06, 4.90262391e-06,\n",
              "       4.90336030e-06, 9.83498397e-05, 4.90339190e-06, 4.90538400e-06,\n",
              "       7.77347535e-04, 4.90343653e-06, 7.77346229e-04, 4.90287643e-06,\n",
              "       4.90347069e-06, 4.90364768e-06, 4.90541922e-06, 4.90379106e-06,\n",
              "       4.90344182e-06, 4.90333901e-06, 4.90342240e-06, 4.90349389e-06,\n",
              "       4.90331708e-06, 4.90346943e-06, 4.90340718e-06, 4.90326958e-06,\n",
              "       4.90350747e-06, 4.90309857e-06, 4.90342097e-06, 4.90346802e-06,\n",
              "       4.90342418e-06, 8.74738289e-06, 4.90343595e-06, 4.95070733e-06,\n",
              "       4.90367845e-06, 4.90348802e-06, 4.90351074e-06, 4.90343430e-06,\n",
              "       4.90234347e-06, 4.90346935e-06, 4.90341333e-06, 4.90339491e-06,\n",
              "       4.96106844e-06, 4.90343787e-06, 4.90344030e-06, 4.90347072e-06,\n",
              "       4.90372034e-06, 7.77348525e-04, 7.77346216e-04, 4.90343740e-06,\n",
              "       4.90346924e-06, 4.90346924e-06, 4.90341540e-06, 4.90339769e-06,\n",
              "       4.90340118e-06, 4.90346941e-06, 1.94852231e-04, 4.90768208e-06,\n",
              "       4.90294543e-06, 4.90342567e-06, 4.90302736e-06, 4.90342200e-06,\n",
              "       4.90354182e-06, 7.77346400e-04, 4.90321291e-06, 4.90305116e-06,\n",
              "       4.90344030e-06, 4.90319947e-06, 4.90316815e-06, 4.90346908e-06,\n",
              "       4.90341978e-06, 4.90339231e-06, 4.90343472e-06, 4.90320940e-06,\n",
              "       4.90298313e-06, 4.90328106e-06, 4.90316845e-06, 4.90330694e-06,\n",
              "       4.90344101e-06, 4.90350244e-06, 4.90351381e-06, 4.90324645e-06,\n",
              "       4.94819908e-06, 4.90319946e-06, 4.90364638e-06, 4.90375960e-06,\n",
              "       4.90329284e-06, 7.77346240e-04, 4.90297346e-06, 4.90701447e-06,\n",
              "       4.90272847e-06, 4.90234228e-06, 4.90349671e-06, 4.90331052e-06,\n",
              "       4.90340002e-06, 4.90347032e-06, 4.90220736e-06, 4.90339582e-06,\n",
              "       4.90346961e-06, 4.90350992e-06, 7.77348500e-04, 4.90336771e-06,\n",
              "       4.94269946e-06, 4.90347050e-06, 4.90347132e-06, 4.90346957e-06,\n",
              "       3.79219021e-04, 4.90252711e-06, 4.90343650e-06, 4.90761554e-06,\n",
              "       1.18302448e-04, 1.62331432e-03, 4.90342177e-06, 4.90351490e-06,\n",
              "       4.90342187e-06, 2.61404717e-04, 4.90277311e-06, 4.90343810e-06,\n",
              "       4.90335626e-06, 4.90314735e-06, 6.45402577e-04, 4.90342414e-06,\n",
              "       4.90139505e-06, 4.90339167e-06, 4.90163373e-06, 4.79261137e-04,\n",
              "       1.26880710e-04, 1.75059979e-03, 4.90263720e-06, 4.90344011e-06,\n",
              "       4.93849499e-04, 4.90346893e-06, 4.90364457e-06, 9.68599432e-04,\n",
              "       4.90342255e-06, 7.77346546e-04, 4.90344149e-06, 6.77808581e-05,\n",
              "       4.90347096e-06, 3.55496156e-04, 4.90575391e-06, 9.30027113e-05,\n",
              "       4.90339894e-06, 3.61039716e-04, 7.77346546e-04, 9.68950627e-05,\n",
              "       4.90279610e-06, 7.77349486e-04, 4.90343789e-06, 2.25638238e-04,\n",
              "       6.80048787e-05, 4.90342593e-06, 4.90314466e-06, 4.90340795e-06,\n",
              "       4.90336043e-06, 5.92918550e-03, 5.18979238e-04, 4.90248508e-06,\n",
              "       7.77346372e-04, 2.54168779e-04, 1.42562615e-04, 4.90430242e-06,\n",
              "       4.93462941e-06, 4.63744683e-06, 4.90343653e-06, 4.90299175e-06,\n",
              "       4.73703203e-04, 1.49949652e-04, 4.90339298e-06, 4.89962525e-06,\n",
              "       1.70068690e-05, 4.90313752e-06, 7.09656446e-05, 4.90338573e-06,\n",
              "       4.54625775e-04, 1.37801521e-04, 8.88013179e-05, 6.96042054e-05,\n",
              "       8.40322951e-05, 4.90342545e-06, 4.90344136e-06, 2.41513032e-04,\n",
              "       6.24392980e-05, 4.90326144e-06, 4.90048349e-06, 4.90291603e-06,\n",
              "       9.89535694e-05, 4.90318714e-06, 4.90324784e-06, 4.77673399e-04,\n",
              "       6.71180544e-03, 4.90340717e-06, 4.90328892e-06, 4.90327175e-06,\n",
              "       4.90291230e-06, 4.76985961e-06, 8.69103706e-05, 4.90342569e-06,\n",
              "       4.90291892e-06, 4.90343939e-06, 4.90343601e-06, 4.90350856e-06])"
            ]
          },
          "metadata": {},
          "execution_count": 81
        }
      ]
    },
    {
      "cell_type": "code",
      "source": [
        "error_matrix = np.vstack((test_mse_1, test_mse_2, test_mse_3))\n",
        "\n",
        "# Get the index of the AE with the lowest error for each sample\n",
        "predictions = np.argmin(error_matrix, axis=0) + 1  # Adding 1 to get 1-based indexing"
      ],
      "metadata": {
        "id": "rgdsNh-DSD0v"
      },
      "execution_count": null,
      "outputs": []
    },
    {
      "cell_type": "code",
      "source": [
        "showResult(y_test, predictions)"
      ],
      "metadata": {
        "colab": {
          "base_uri": "https://localhost:8080/",
          "height": 651
        },
        "id": "eJq_2DBhSOM_",
        "outputId": "c1851842-c1cc-4a20-a01e-59d995813784"
      },
      "execution_count": null,
      "outputs": [
        {
          "output_type": "display_data",
          "data": {
            "text/plain": [
              "<Figure size 800x600 with 2 Axes>"
            ],
            "image/png": "[encoded data removed]"
          },
          "metadata": {}
        },
        {
          "output_type": "stream",
          "name": "stdout",
          "text": [
            "Accuracy: 0.5033\n",
            "F1 Score (Weighted): 0.4604\n",
            "F1 Score (Unweighted): 0.4604\n",
            "F2 Score (Weighted): 0.4648\n",
            "F2 Score (Unweighted): 0.4648\n"
          ]
        }
      ]
    },
    {
      "cell_type": "code",
      "source": [
        "from sklearn.ensemble import IsolationForest\n",
        "import numpy as np\n",
        "\n",
        "\n",
        "\n",
        "# Training Isolation Forests for each anomaly type\n",
        "iso_forest_type1 = IsolationForest(n_estimators=100, contamination='auto').fit(scaler.transform(datasets['x_train_class_1']))\n",
        "iso_forest_type2 = IsolationForest(n_estimators=100, contamination='auto').fit(scaler.transform(datasets['x_train_class_2']))\n",
        "iso_forest_type3 = IsolationForest(n_estimators=100, contamination='auto').fit(scaler.transform(datasets['x_train_class_3']))"
      ],
      "metadata": {
        "id": "HdSIYL_2UP73"
      },
      "execution_count": null,
      "outputs": []
    },
    {
      "cell_type": "code",
      "source": [
        "# Function to predict the anomaly type\n",
        "def predict_anomaly_type(X_test):\n",
        "    scores_type1 = iso_forest_type1.decision_function(X_test)\n",
        "    scores_type2 = iso_forest_type2.decision_function(X_test)\n",
        "    scores_type3 = iso_forest_type3.decision_function(X_test)\n",
        "\n",
        "    print(scores_type1, scores_type2, scores_type3)\n",
        "\n",
        "    scores = np.column_stack((scores_type1, scores_type2, scores_type3))\n",
        "    predicted_type = np.argmax(scores, axis=1) + 1  # +1 to match the type numbering\n",
        "\n",
        "    return predicted_type"
      ],
      "metadata": {
        "id": "a2F3xBALUysO"
      },
      "execution_count": null,
      "outputs": []
    },
    {
      "cell_type": "code",
      "source": [
        "anomaly_class_predict = predict_anomaly_type(X_scaled_test)"
      ],
      "metadata": {
        "colab": {
          "base_uri": "https://localhost:8080/"
        },
        "id": "iqSgNhFxU6VJ",
        "outputId": "6110a674-c432-4e3f-d617-40787551f82c"
      },
      "execution_count": null,
      "outputs": [
        {
          "output_type": "stream",
          "name": "stdout",
          "text": [
            "[ 0.16839188  0.15998651  0.15691219  0.19851254  0.19805275  0.19909514\n",
            "  0.19700375  0.14079347  0.10793349  0.08335287  0.13500313  0.1992121\n",
            "  0.17438954  0.19873933  0.20012391  0.19956053 -0.11537594  0.19631486\n",
            "  0.20012391 -0.09707318  0.20012391  0.17846919  0.19976821  0.19800938\n",
            "  0.20012391  0.19946012  0.14803717  0.18448882  0.08613713  0.19780392\n",
            "  0.19103303  0.19566788  0.186337    0.129656    0.19451944  0.17608896\n",
            "  0.03498011  0.199704    0.19956053  0.20012391  0.19874727  0.19680821\n",
            "  0.19869832  0.19056879  0.1925717   0.11665117  0.15595737  0.0355946\n",
            "  0.1146908   0.18788196  0.19956053 -0.16361192  0.18495428  0.19302999\n",
            " -0.14105508  0.20012391  0.19956053  0.18372562  0.17853325  0.16063979\n",
            "  0.19569332  0.20012391  0.1960086   0.19956053  0.19956053  0.199704\n",
            "  0.19781624  0.19343755  0.19976821 -0.11263472  0.18559157  0.17354198\n",
            "  0.19708329  0.170633    0.20012391  0.19694746  0.02226962  0.18232001\n",
            "  0.19498882  0.19956053  0.19924263  0.14386933  0.20012391  0.18968082\n",
            "  0.19976821  0.19956053  0.19976821  0.19869551  0.20012391  0.19485134\n",
            "  0.16842116  0.19461562  0.19892783  0.16952086  0.19684006  0.19028725\n",
            "  0.19950246  0.17777355  0.18163205  0.01892341  0.17853325  0.20012391\n",
            "  0.20012391  0.20012391  0.20012391  0.17682665  0.20012391  0.19909514\n",
            "  0.17890423  0.20012391  0.17875068  0.19909514  0.19956053  0.20012391\n",
            "  0.20012391  0.19976821  0.20012391  0.20012391  0.20012391  0.20012391\n",
            "  0.20012391  0.19956053  0.20012391  0.20012391  0.20012391  0.19976821\n",
            "  0.20012391  0.20012391  0.20012391  0.19387569  0.20012391  0.19866089\n",
            "  0.19956053  0.20012391  0.19956053  0.20012391  0.19429537  0.19956053\n",
            "  0.19956053  0.19956053  0.19922595  0.20012391  0.20012391  0.19956053\n",
            "  0.20012391  0.17890423  0.17896796  0.20012391  0.19956053  0.20012391\n",
            "  0.20034076  0.20012391  0.20012391  0.19956053  0.16382966  0.19976821\n",
            "  0.19976821  0.20012391  0.19976821  0.20012391  0.20012391  0.17896796\n",
            "  0.20034076  0.19976821  0.20012391  0.20034076  0.20027005  0.20012391\n",
            "  0.20012391  0.20012391  0.20012391  0.20012391  0.19909514  0.19956053\n",
            "  0.20034076  0.20012391  0.20012391  0.20012391  0.20012391  0.20034076\n",
            "  0.19890051  0.20034076  0.19956053  0.20012391  0.20012391  0.17875068\n",
            "  0.19976821  0.20012391  0.19909514  0.20012391  0.20012391  0.20012391\n",
            "  0.20012391  0.19956053  0.19976821  0.19956053  0.19956053  0.20012391\n",
            "  0.17913643  0.19956053  0.18961188  0.19956053  0.20012391  0.19956053\n",
            "  0.07171002  0.19694746  0.20012391  0.19976821  0.12653846 -0.05671501\n",
            "  0.20012391  0.20012391  0.20012391  0.09126906  0.19909514  0.20012391\n",
            "  0.20012391  0.19908083  0.08879158  0.20012391  0.19026419  0.20012391\n",
            "  0.19106827  0.12826427  0.18143872 -0.1333569   0.20012391  0.20012391\n",
            "  0.11284333  0.19956053  0.20012391  0.02053863  0.20012391  0.17853325\n",
            "  0.20012391  0.15771156  0.19956053 -0.07061204  0.12770512  0.04908264\n",
            "  0.20012391  0.10428529  0.17853325  0.1247713   0.19909514  0.17913643\n",
            "  0.20012391  0.10212021  0.1453708   0.20012391  0.19976821  0.20012391\n",
            "  0.20012391 -0.18450441  0.07574804  0.19533167  0.17853325  0.09037113\n",
            "  0.18487484  0.20012391  0.19623646  0.18847571  0.20012391  0.19976821\n",
            "  0.04432005  0.02738815  0.19956053  0.17335572  0.19529941  0.19908083\n",
            "  0.15097635  0.20012391  0.05227053  0.09558586  0.11410913  0.14763505\n",
            "  0.10664884  0.20012391  0.20012391  0.09911792  0.12154817  0.20034076\n",
            "  0.18448882  0.19909514  0.04432602  0.20034076  0.20034076  0.05520816\n",
            "  0.0267818   0.20012391  0.20034076  0.20012391  0.19909514  0.19758464\n",
            "  0.18303432  0.20012391  0.19909514  0.20012391  0.20012391  0.20012391] [-2.28889546e-01 -2.72275252e-01 -1.65105416e-01 -2.11167079e-01\n",
            " -1.20558259e-01  1.00714977e-01 -2.32716906e-01 -2.69985516e-01\n",
            " -2.64962718e-01 -1.03934841e-01 -2.96637307e-01  3.24928148e-02\n",
            " -2.24082635e-01 -1.09465820e-01  1.93488598e-01  1.83992833e-01\n",
            " -2.77485636e-01 -1.75719796e-01  1.92374030e-01 -2.88436780e-01\n",
            "  1.92112164e-01 -2.64784701e-01  9.87353482e-02 -2.07610875e-01\n",
            "  1.93488598e-01 -1.11387776e-01 -2.47504941e-01 -1.14250514e-01\n",
            " -3.03515634e-01 -1.87298123e-01 -2.60356069e-01 -2.42036848e-01\n",
            " -2.03749872e-01 -2.85242594e-01 -1.96128498e-01 -2.10318988e-01\n",
            " -3.08055375e-01 -1.44037414e-01  1.91509956e-01  1.93488598e-01\n",
            " -1.53087443e-01 -2.48968250e-01 -1.30244418e-01 -2.35036028e-01\n",
            " -1.89867249e-01 -2.75389924e-01 -3.03335201e-01 -2.89144990e-01\n",
            " -3.07508841e-01 -1.70365855e-01  1.82834842e-01 -3.29100078e-01\n",
            " -2.17261946e-01 -2.72672282e-01 -2.67631958e-01  1.90976347e-01\n",
            "  1.76617434e-01 -1.83545521e-01  8.05331448e-02 -1.52521870e-01\n",
            " -1.67460281e-01  1.69065414e-01 -9.22125485e-02  1.73262603e-01\n",
            "  1.91509956e-01 -1.23057721e-01  1.04567425e-03 -1.91097405e-01\n",
            "  7.86009953e-02 -3.23509435e-01 -2.49343842e-01 -2.75855132e-01\n",
            " -2.07932345e-01 -2.39367221e-01  1.67958888e-01 -6.13218846e-03\n",
            " -2.89661112e-01 -2.46210530e-01 -2.64150990e-01  1.87409820e-01\n",
            "  2.49569205e-04 -3.06962676e-01  1.85603327e-01 -2.53011390e-01\n",
            "  1.19838553e-01  1.84141744e-01  1.38207327e-01 -2.02844040e-01\n",
            "  1.93840935e-01 -1.82898992e-01 -1.13600537e-01 -2.32553653e-01\n",
            " -1.88443942e-01 -2.51993820e-01 -1.94210494e-01 -1.55879082e-01\n",
            " -8.35672213e-02 -2.79047605e-01 -2.14598380e-01 -2.57587961e-01\n",
            "  7.94371971e-02  1.29212618e-01  1.86207260e-01  1.81945006e-01\n",
            "  1.88725734e-01 -1.71578201e-01  1.93488598e-01  7.63693652e-02\n",
            "  7.11516344e-02  1.93514985e-01  8.86184757e-02  6.49568169e-02\n",
            "  1.84141744e-01  1.90388871e-01  1.74884483e-01  1.02302192e-01\n",
            "  1.93179678e-01  1.83146248e-01  1.92416219e-01  1.92871747e-01\n",
            "  1.89651814e-01  1.91509956e-01  1.92416219e-01  1.84292304e-01\n",
            "  1.91388346e-01  1.38201105e-01  1.94735693e-01  1.92304455e-01\n",
            "  1.92013216e-01 -1.45655896e-01  1.94772600e-01  7.26868083e-02\n",
            "  1.89476756e-01  1.84674557e-01  1.86641486e-01  1.92673801e-01\n",
            " -4.25503399e-02  1.91339785e-01  1.90201774e-01  1.90051280e-01\n",
            "  5.92222820e-02  1.92112164e-01  1.93219645e-01  1.84141744e-01\n",
            "  1.91483330e-01  5.08469397e-02  9.30597674e-02  1.92112164e-01\n",
            "  1.91883050e-01  1.92304455e-01  1.61619276e-01  1.88016558e-01\n",
            "  1.90137547e-01  1.91339785e-01 -1.71637549e-01  1.11991230e-01\n",
            "  1.03687481e-01  1.90889883e-01  1.37131165e-01  1.94772600e-01\n",
            "  1.89185764e-01  9.39747662e-02  1.53721801e-01  1.28919702e-01\n",
            "  1.92922521e-01  1.55121396e-01  1.44087177e-01  1.92304455e-01\n",
            "  1.94735693e-01  1.94269349e-01  1.93488598e-01  1.88275785e-01\n",
            "  6.49568169e-02  1.79072453e-01  1.55290404e-01  1.89795051e-01\n",
            "  1.91798480e-01  1.88016558e-01  1.89754429e-01  1.62151614e-01\n",
            "  7.48142562e-02  1.55121396e-01  1.89313540e-01  1.90629791e-01\n",
            "  1.76227895e-01  8.75339707e-02  1.07652164e-01  1.68419152e-01\n",
            "  4.59344480e-02  1.78588316e-01  1.75320880e-01  1.79418837e-01\n",
            "  1.90137547e-01  1.83992833e-01  1.23654609e-01  1.89626863e-01\n",
            "  1.87409820e-01  1.91148016e-01  4.73183872e-02  1.89626863e-01\n",
            " -1.44554860e-01  1.81577455e-01  1.92871747e-01  1.87409820e-01\n",
            " -3.05758384e-01 -3.40005234e-03  1.93514985e-01  1.04544942e-01\n",
            " -3.05871455e-01 -3.20173160e-01  1.94772600e-01  1.92922521e-01\n",
            "  1.94735693e-01 -2.37659778e-01  4.90458303e-02  1.91148016e-01\n",
            "  1.84774556e-01  1.44781527e-01 -1.58791878e-01  1.92013216e-01\n",
            " -9.94767517e-02  1.93488598e-01 -9.90712911e-02 -2.73249006e-01\n",
            " -2.79420159e-01 -3.06497823e-01  1.83508541e-01  1.90889883e-01\n",
            " -2.82589129e-01  1.91339785e-01  1.90913474e-01 -3.35858972e-01\n",
            "  1.94772600e-01  8.70205872e-02  1.91148016e-01 -2.48905293e-01\n",
            "  1.84141744e-01 -3.21283747e-01 -1.03934841e-01 -3.21839604e-01\n",
            "  1.90331696e-01 -2.96735413e-01  8.70205872e-02 -2.36869037e-01\n",
            "  5.95545513e-02  2.07254827e-02  1.92112164e-01 -3.12440987e-01\n",
            " -2.64789672e-01  1.90889883e-01  1.45431435e-01  1.94735693e-01\n",
            "  1.87278119e-01 -2.83281079e-01 -3.17956489e-01 -8.65003290e-03\n",
            "  8.77806058e-02 -2.97034865e-01 -2.47080212e-01  1.88332484e-01\n",
            " -1.11125415e-01 -2.20600673e-01  1.91388346e-01  1.15008691e-01\n",
            " -3.15194073e-01 -3.37557288e-01  1.82685314e-01 -1.03934841e-01\n",
            " -2.43656842e-01  1.44218146e-01 -2.20935271e-01  1.89419108e-01\n",
            " -3.26859281e-01 -2.86338111e-01 -2.65891069e-01 -2.25931413e-01\n",
            " -2.86479877e-01  1.90889883e-01  1.91148016e-01 -3.20728266e-01\n",
            " -2.84354269e-01  1.71293733e-01 -1.03934841e-01  1.00714977e-01\n",
            " -3.31346949e-01  1.55193794e-01  1.67052553e-01 -3.16297918e-01\n",
            " -3.12810999e-01  1.94735693e-01  1.71895372e-01  1.92674458e-01\n",
            "  9.77382514e-02 -1.45364154e-01 -2.50521134e-01  1.90889883e-01\n",
            "  9.28269300e-02  1.91148016e-01  1.93514985e-01  1.91756444e-01] [ 0.08801016 -0.14070605  0.03965708  0.09986326  0.08426159  0.18454121\n",
            " -0.04286156 -0.14789588 -0.07725628 -0.05560373 -0.172682    0.15955736\n",
            "  0.13548266  0.12191647  0.18801623  0.188985   -0.2579933   0.0575412\n",
            "  0.18782399 -0.02516088  0.18930598 -0.07834719  0.17014056  0.05861103\n",
            "  0.18801623  0.11853777  0.03787023  0.08843355 -0.15743617  0.1211256\n",
            "  0.1294883   0.04645461  0.14663497 -0.19443111  0.05464532 -0.14320218\n",
            " -0.25748062  0.09546408  0.188985    0.18801623  0.08104563  0.10659937\n",
            "  0.12649385 -0.01608384  0.11327839 -0.17988139 -0.00705277  0.04418326\n",
            " -0.08245064  0.11263931  0.188985   -0.22239322  0.13067164  0.06326931\n",
            " -0.03882593  0.188985    0.18696395  0.04913256  0.1207348   0.01822721\n",
            "  0.14211455  0.18262063 -0.03612462  0.18650881  0.188985    0.1406886\n",
            "  0.15292315  0.13222867  0.17646321 -0.30860228  0.03799123 -0.07834343\n",
            "  0.0201239  -0.1666365   0.18441434  0.17790144 -0.18744645  0.05486038\n",
            " -0.08752806  0.188985    0.15609105 -0.05221579  0.17964322  0.1028205\n",
            "  0.18347991  0.188985    0.17675503  0.12672363  0.18801623  0.11901496\n",
            "  0.03046412 -0.03404818  0.11762383 -0.102281    0.09030817  0.09281185\n",
            "  0.14538179 -0.09535611 -0.05692068  0.07770548  0.12060044  0.16051605\n",
            "  0.17949489  0.18650881  0.18879794  0.12107215  0.18801623  0.1710724\n",
            "  0.11722797  0.18930598  0.11558626  0.18454121  0.188985    0.18662411\n",
            "  0.169756    0.17850932  0.188985    0.18879794  0.188985    0.188985\n",
            "  0.18930598  0.188985    0.188985    0.18879794  0.18930598  0.18590012\n",
            "  0.18933312  0.188985    0.18930598  0.10443969  0.18930598  0.15739662\n",
            "  0.18496926  0.18782399  0.18696395  0.188985    0.17398146  0.188985\n",
            "  0.188985    0.188985    0.15162888  0.18930598  0.188985    0.188985\n",
            "  0.18365471  0.11335222  0.11662521  0.18930598  0.188985    0.188985\n",
            "  0.1863569   0.18879794  0.18879794  0.188985    0.11668585  0.16617871\n",
            "  0.18454121  0.18930598  0.18545536  0.18930598  0.188985    0.11843737\n",
            "  0.1863569   0.18621753  0.188985    0.1863569   0.1863569   0.188985\n",
            "  0.18933312  0.18930598  0.18801623  0.1875283   0.18311458  0.18650881\n",
            "  0.1858627   0.188985    0.188985    0.18782399  0.188985    0.1863569\n",
            "  0.15839721  0.1863569   0.18426187  0.18223114  0.18805962  0.11532609\n",
            "  0.18519717  0.17016056  0.18351745  0.18695243  0.185367    0.18805962\n",
            "  0.18879794  0.188985    0.18417209  0.188985    0.188985    0.18930598\n",
            "  0.11185332  0.188985    0.12169188  0.188985    0.188985    0.188985\n",
            "  0.00066459  0.18061163  0.18930598  0.17064695  0.13011695  0.00329456\n",
            "  0.18933312  0.188985    0.18933312  0.13112942  0.18454121  0.18930598\n",
            "  0.18879794  0.1861428   0.05439908  0.18930598  0.12552425  0.18801623\n",
            "  0.14000296  0.06224226  0.13068545 -0.05107646  0.18930598  0.18930598\n",
            "  0.14306665  0.188985    0.18630037 -0.07108032  0.18933312  0.12249931\n",
            "  0.18930598  0.15242093  0.188985   -0.01158077 -0.02985377  0.06072443\n",
            "  0.18879794  0.03678594  0.12198814  0.14531253  0.18454121  0.10770376\n",
            "  0.18930598  0.08390926  0.14721869  0.18930598  0.1861428   0.18905215\n",
            "  0.18879794 -0.14016894  0.07343503  0.17790144  0.12412861  0.13326596\n",
            "  0.13537351  0.17848637  0.11526177  0.10231557  0.18930598  0.18364752\n",
            " -0.05805975  0.00225542  0.188985    0.0556427   0.11159436  0.1861428\n",
            "  0.15052045  0.18879794  0.05245923  0.13213283  0.13543865  0.14841524\n",
            "  0.09400777  0.18930598  0.18930598  0.03540076 -0.01534307  0.18759097\n",
            "  0.09598555  0.18454121 -0.04527112  0.1863569   0.18759097 -0.0398164\n",
            " -0.07976671  0.18801623  0.18805962  0.18765578  0.18454121  0.11994336\n",
            "  0.13873139  0.18930598  0.18454121  0.18930598  0.18930598  0.18930598]\n"
          ]
        }
      ]
    },
    {
      "cell_type": "code",
      "source": [
        "import numpy as np\n",
        "\n",
        "# Assuming anomaly_class_predict is a numpy array\n",
        "unique, counts = np.unique(anomaly_class_predict, return_counts=True)\n",
        "value_counts = dict(zip(unique, counts))\n",
        "\n",
        "print(value_counts)"
      ],
      "metadata": {
        "colab": {
          "base_uri": "https://localhost:8080/"
        },
        "id": "nUbUFsEsU-wR",
        "outputId": "276d7bce-39f4-4230-ddfa-200c8a635425"
      },
      "execution_count": null,
      "outputs": [
        {
          "output_type": "stream",
          "name": "stdout",
          "text": [
            "{1: 281, 3: 19}\n"
          ]
        }
      ]
    },
    {
      "cell_type": "code",
      "source": [
        "X_train_1, y_train_1 = concatenate_class_datasets(datasets, [0,1], type='train')\n",
        "X_test_1, y_test_1 = concatenate_class_datasets(datasets, [0,1], type='test')\n",
        "y_train_1 = y_train_1.apply(lambda x: 1 if x in [1, 2, 3] else 0)\n",
        "y_test_1 = y_test_1.apply(lambda x: 1 if x in [1, 2, 3] else 0)"
      ],
      "metadata": {
        "id": "zYNlLfQzlrmc"
      },
      "execution_count": 14,
      "outputs": []
    },
    {
      "cell_type": "code",
      "source": [
        "X_train_2, y_train_2 = concatenate_class_datasets(datasets, [0,2], type='train')\n",
        "X_test_2, y_test_2 = concatenate_class_datasets(datasets, [0,2], type='test')\n",
        "y_train_2 = y_train_2.apply(lambda x: 1 if x in [1, 2, 3] else 0)\n",
        "y_test_2 = y_test_2.apply(lambda x: 1 if x in [1, 2, 3] else 0)"
      ],
      "metadata": {
        "id": "Wv6lFzJan3HX"
      },
      "execution_count": 15,
      "outputs": []
    },
    {
      "cell_type": "code",
      "source": [
        "X_train_3, y_train_3 = concatenate_class_datasets(datasets, [0,3], type='train')\n",
        "X_test_3, y_test_3 = concatenate_class_datasets(datasets, [0,3], type='test')\n",
        "y_train_3 = y_train_3.apply(lambda x: 1 if x in [1, 2, 3] else 0)\n",
        "y_test_3 = y_test_3.apply(lambda x: 1 if x in [1, 2, 3] else 0)"
      ],
      "metadata": {
        "id": "cbDyBXww-6wp"
      },
      "execution_count": 16,
      "outputs": []
    },
    {
      "cell_type": "code",
      "source": [
        "y_train.value_counts()"
      ],
      "metadata": {
        "colab": {
          "base_uri": "https://localhost:8080/"
        },
        "id": "5sQFYTj3lzOl",
        "outputId": "cc45c543-70a2-4986-d446-0ce41be6a9fe"
      },
      "execution_count": null,
      "outputs": [
        {
          "output_type": "execute_result",
          "data": {
            "text/plain": [
              "2    13757\n",
              "3    11228\n",
              "1     7823\n",
              "Name: label, dtype: int64"
            ]
          },
          "metadata": {},
          "execution_count": 94
        }
      ]
    },
    {
      "cell_type": "code",
      "source": [
        "X_train, y_train = concatenate_class_datasets(datasets, [1,2,3], type='train')\n",
        "X_test, y_test = concatenate_class_datasets(datasets, [1,2,3], type='test')"
      ],
      "metadata": {
        "id": "rbjInsPwdvSj"
      },
      "execution_count": 17,
      "outputs": []
    },
    {
      "cell_type": "code",
      "source": [
        "from sklearn.model_selection import RandomizedSearchCV\n",
        "from scipy.stats import randint\n",
        "from sklearn.ensemble import RandomForestClassifier\n",
        "import xgboost as xgb\n",
        "from imblearn.over_sampling import RandomOverSampler\n",
        "from imblearn.pipeline import make_pipeline as make_pipeline_imb\n",
        "from sklearn.preprocessing import StandardScaler\n",
        "from sklearn.preprocessing import MinMaxScaler\n",
        "\n",
        "pipeline_rf_up = make_pipeline_imb(\n",
        "    MinMaxScaler(),\n",
        "    RandomForestClassifier(random_state=42)\n",
        ")\n",
        "\n",
        "\n",
        "# Define the parameter grid\n",
        "param_grid_rf = {\n",
        "    'randomforestclassifier__n_estimators': [100, 200, 300, 500],\n",
        "    'randomforestclassifier__max_features': ['auto', 'sqrt', 'log2'],\n",
        "    'randomforestclassifier__max_depth': [10, 13, 20, 30],\n",
        "    'randomforestclassifier__min_samples_split': [2, 5, 10],\n",
        "    'randomforestclassifier__min_samples_leaf': [1, 2, 4],\n",
        "    'randomforestclassifier__bootstrap': [True, False],\n",
        "    'randomforestclassifier__criterion': ['gini', 'entropy']\n",
        "}\n",
        "\n",
        "# Initialize RandomizedSearchCV\n",
        "random_search_rf = RandomizedSearchCV(\n",
        "    pipeline_rf_up,\n",
        "    param_distributions=param_grid_rf,\n",
        "    n_iter=100,  # Number of parameter settings sampled. Increase or decrease based on computational resource.\n",
        "    cv=5,\n",
        "    scoring='average_precision',\n",
        "    verbose=2,\n",
        "    random_state=42,\n",
        "    n_jobs=-1  # Use parallel computation. Set to -1 to use all available cores.\n",
        ")\n",
        "\n",
        "# Fit RandomizedSearchCV to the training data\n",
        "random_search_rf.fit(X_train, y_train)\n",
        "\n",
        "# Print the best parameters\n",
        "print(\"Best parameters found: \", random_search_rf.best_params_)\n"
      ],
      "metadata": {
        "colab": {
          "base_uri": "https://localhost:8080/"
        },
        "id": "FVNExZ18l2jC",
        "outputId": "f9280c79-48c8-4b89-8a86-797567d88eba"
      },
      "execution_count": 18,
      "outputs": [
        {
          "output_type": "stream",
          "name": "stdout",
          "text": [
            "Fitting 5 folds for each of 100 candidates, totalling 500 fits\n"
          ]
        },
        {
          "output_type": "stream",
          "name": "stderr",
          "text": [
            "/usr/local/lib/python3.10/dist-packages/sklearn/model_selection/_search.py:952: UserWarning: One or more of the test scores are non-finite: [nan nan nan nan nan nan nan nan nan nan nan nan nan nan nan nan nan nan\n",
            " nan nan nan nan nan nan nan nan nan nan nan nan nan nan nan nan nan nan\n",
            " nan nan nan nan nan nan nan nan nan nan nan nan nan nan nan nan nan nan\n",
            " nan nan nan nan nan nan nan nan nan nan nan nan nan nan nan nan nan nan\n",
            " nan nan nan nan nan nan nan nan nan nan nan nan nan nan nan nan nan nan\n",
            " nan nan nan nan nan nan nan nan nan nan]\n",
            "  warnings.warn(\n"
          ]
        },
        {
          "output_type": "stream",
          "name": "stdout",
          "text": [
            "Best parameters found:  {'randomforestclassifier__n_estimators': 500, 'randomforestclassifier__min_samples_split': 10, 'randomforestclassifier__min_samples_leaf': 2, 'randomforestclassifier__max_features': 'sqrt', 'randomforestclassifier__max_depth': 13, 'randomforestclassifier__criterion': 'entropy', 'randomforestclassifier__bootstrap': True}\n"
          ]
        }
      ]
    },
    {
      "cell_type": "code",
      "source": [
        "y_train_xgb = y_train.map({1: 0, 2: 1, 3: 2}).fillna(y_train)"
      ],
      "metadata": {
        "id": "ugmbN_GN39NR"
      },
      "execution_count": 20,
      "outputs": []
    },
    {
      "cell_type": "code",
      "source": [
        "import numpy as np\n",
        "from xgboost import XGBClassifier\n",
        "from sklearn.model_selection import RandomizedSearchCV, train_test_split\n",
        "from sklearn.datasets import load_digits\n",
        "from sklearn.metrics import accuracy_score\n",
        "\n",
        "# Define the parameter grid\n",
        "param_grid = {\n",
        "    'n_estimators': np.arange(50, 400, 50),\n",
        "    'learning_rate': [0.01, 0.05, 0.1, 0.2, 0.3],\n",
        "    'max_depth': np.arange(3, 10),\n",
        "    'min_child_weight': [1, 2, 5, 10],\n",
        "    'gamma': [0, 0.1, 0.2, 0.3, 0.4],\n",
        "    'subsample': [0.6, 0.7, 0.8, 0.9, 1.0],\n",
        "    'colsample_bytree': [0.6, 0.7, 0.8, 0.9, 1.0],\n",
        "    'reg_alpha': [0, 0.1, 0.5, 1],\n",
        "    'reg_lambda': [1, 0.1, 0.5, 0.01]\n",
        "}\n",
        "\n",
        "# Initialize the XGBClassifier\n",
        "xgb_clf = XGBClassifier(use_label_encoder=False, eval_metric='mlogloss')\n",
        "\n",
        "# Initialize RandomizedSearchCV\n",
        "random_search = RandomizedSearchCV(\n",
        "    estimator=xgb_clf,\n",
        "    param_distributions=param_grid,\n",
        "    n_iter=100,  # Number of parameter settings sampled\n",
        "    scoring='accuracy',\n",
        "    cv=5,\n",
        "    verbose=2,\n",
        "    random_state=42,\n",
        "    n_jobs=-1  # Use all available cores\n",
        ")\n",
        "\n",
        "# Fit RandomizedSearchCV to the training data\n",
        "random_search.fit(X_train, y_train_xgb)\n",
        "\n",
        "# Print the best parameters and the best score\n",
        "print(\"Best parameters found: \", random_search.best_params_)\n",
        "print(\"Best accuracy found: \", random_search.best_score_)\n",
        "\n",
        "# Predict using the best found parameters\n",
        "best_estimator = random_search.best_estimator_\n",
        "predictions = best_estimator.predict(X_test)\n",
        "accuracy = accuracy_score(y_test, predictions)\n",
        "\n",
        "print(\"Accuracy on test set: \", accuracy)\n"
      ],
      "metadata": {
        "id": "pyxmppvI_rK8",
        "colab": {
          "base_uri": "https://localhost:8080/"
        },
        "outputId": "7eedc8a6-b0f9-46d8-b461-3f300a75ac83"
      },
      "execution_count": 21,
      "outputs": [
        {
          "output_type": "stream",
          "name": "stdout",
          "text": [
            "Fitting 5 folds for each of 100 candidates, totalling 500 fits\n",
            "Best parameters found:  {'subsample': 0.8, 'reg_lambda': 0.1, 'reg_alpha': 0.1, 'n_estimators': 350, 'min_child_weight': 1, 'max_depth': 4, 'learning_rate': 0.1, 'gamma': 0.1, 'colsample_bytree': 0.9}\n",
            "Best accuracy found:  0.7419840884604338\n",
            "Accuracy on test set:  0.12\n"
          ]
        }
      ]
    },
    {
      "cell_type": "code",
      "source": [
        "\n",
        "rf_params = {'randomforestclassifier__n_estimators': 500, 'randomforestclassifier__min_samples_split': 10, 'randomforestclassifier__min_samples_leaf': 2, 'randomforestclassifier__max_features': 'sqrt', 'randomforestclassifier__max_depth': 13, 'randomforestclassifier__criterion': 'entropy', 'randomforestclassifier__bootstrap': True}"
      ],
      "metadata": {
        "id": "JXNqF9Ev-Q8G"
      },
      "execution_count": null,
      "outputs": []
    },
    {
      "cell_type": "code",
      "source": [
        "from sklearn.model_selection import RandomizedSearchCV\n",
        "from scipy.stats import randint\n",
        "import xgboost as xgb\n",
        "from imblearn.over_sampling import RandomOverSampler\n",
        "from imblearn.pipeline import make_pipeline as make_pipeline_imb\n",
        "from sklearn.preprocessing import StandardScaler\n",
        "\n",
        "pipeline_xgb_up = make_pipeline_imb(\n",
        "    MinMaxScaler(),\n",
        "    xgb.XGBClassifier(random_state=42)\n",
        ")\n",
        "\n",
        "# Define the parameter grid\n",
        "param_grid_xgb = {\n",
        "    'xgbclassifier__n_estimators': [100, 200, 300, 500],\n",
        "    'xgbclassifier__learning_rate': [0.01, 0.05, 0.1, 0.2],\n",
        "    'xgbclassifier__max_depth': [3, 4, 5, 6, 7, 8],\n",
        "    'xgbclassifier__min_child_weight': [1, 2, 5, 10],\n",
        "    'xgbclassifier__gamma': [0, 0.1, 0.2, 0.3, 0.4],\n",
        "    'xgbclassifier__subsample': [0.6, 0.7, 0.8, 0.9, 1.0],\n",
        "    'xgbclassifier__colsample_bytree': [0.6, 0.7, 0.8, 0.9, 1.0],\n",
        "    'xgbclassifier__reg_alpha': [0, 0.1, 0.5, 1],\n",
        "    'xgbclassifier__reg_lambda': [1, 0.1, 0.5, 0.01]\n",
        "}\n",
        "\n",
        "\n",
        "\n",
        "# Initialize RandomizedSearchCV\n",
        "random_search_rf = RandomizedSearchCV(\n",
        "    pipeline_xgb_up,\n",
        "    param_distributions=param_grid_xgb,\n",
        "    n_iter=100,  # Number of parameter settings sampled. Increase or decrease based on computational resource.\n",
        "    cv=5,\n",
        "    scoring='accuracy',\n",
        "    verbose=2,\n",
        "    random_state=42,\n",
        "    n_jobs=-1  # Use parallel computation. Set to -1 to use all available cores.\n",
        ")\n",
        "\n",
        "# Fit RandomizedSearchCV to the training data\n",
        "random_search_rf.fit(X_train, y_train)\n",
        "\n",
        "# Print the best parameters\n",
        "print(\"Best parameters found: \", random_search_rf.best_params_)"
      ],
      "metadata": {
        "colab": {
          "base_uri": "https://localhost:8080/",
          "height": 703
        },
        "id": "XL8c4hKOm05J",
        "outputId": "ccfffffa-e78b-455e-f400-c092a13bb12f"
      },
      "execution_count": null,
      "outputs": [
        {
          "output_type": "stream",
          "name": "stdout",
          "text": [
            "Fitting 5 folds for each of 100 candidates, totalling 500 fits\n"
          ]
        },
        {
          "output_type": "error",
          "ename": "ValueError",
          "evalue": "\nAll the 500 fits failed.\nIt is very likely that your model is misconfigured.\nYou can try to debug the error by setting error_score='raise'.\n\nBelow are more details about the failures:\n--------------------------------------------------------------------------------\n500 fits failed with the following error:\nTraceback (most recent call last):\n  File \"/usr/local/lib/python3.10/dist-packages/sklearn/model_selection/_validation.py\", line 686, in _fit_and_score\n    estimator.fit(X_train, y_train, **fit_params)\n  File \"/usr/local/lib/python3.10/dist-packages/imblearn/pipeline.py\", line 297, in fit\n    self._final_estimator.fit(Xt, yt, **fit_params_last_step)\n  File \"/usr/local/lib/python3.10/dist-packages/xgboost/core.py\", line 730, in inner_f\n    return func(**kwargs)\n  File \"/usr/local/lib/python3.10/dist-packages/xgboost/sklearn.py\", line 1471, in fit\n    raise ValueError(\nValueError: Invalid classes inferred from unique values of `y`.  Expected: [0 1 2], got [1 2 3]\n",
          "traceback": [
            "\u001b[0;31m---------------------------------------------------------------------------\u001b[0m",
            "\u001b[0;31mValueError\u001b[0m                                Traceback (most recent call last)",
            "\u001b[0;32m<ipython-input-99-bbbeacbd991b>\u001b[0m in \u001b[0;36m<cell line: 41>\u001b[0;34m()\u001b[0m\n\u001b[1;32m     39\u001b[0m \u001b[0;34m\u001b[0m\u001b[0m\n\u001b[1;32m     40\u001b[0m \u001b[0;31m# Fit RandomizedSearchCV to the training data\u001b[0m\u001b[0;34m\u001b[0m\u001b[0;34m\u001b[0m\u001b[0m\n\u001b[0;32m---> 41\u001b[0;31m \u001b[0mrandom_search_rf\u001b[0m\u001b[0;34m.\u001b[0m\u001b[0mfit\u001b[0m\u001b[0;34m(\u001b[0m\u001b[0mX_train\u001b[0m\u001b[0;34m,\u001b[0m \u001b[0my_train\u001b[0m\u001b[0;34m)\u001b[0m\u001b[0;34m\u001b[0m\u001b[0;34m\u001b[0m\u001b[0m\n\u001b[0m\u001b[1;32m     42\u001b[0m \u001b[0;34m\u001b[0m\u001b[0m\n\u001b[1;32m     43\u001b[0m \u001b[0;31m# Print the best parameters\u001b[0m\u001b[0;34m\u001b[0m\u001b[0;34m\u001b[0m\u001b[0m\n",
            "\u001b[0;32m/usr/local/lib/python3.10/dist-packages/sklearn/model_selection/_search.py\u001b[0m in \u001b[0;36mfit\u001b[0;34m(self, X, y, groups, **fit_params)\u001b[0m\n\u001b[1;32m    872\u001b[0m                 \u001b[0;32mreturn\u001b[0m \u001b[0mresults\u001b[0m\u001b[0;34m\u001b[0m\u001b[0;34m\u001b[0m\u001b[0m\n\u001b[1;32m    873\u001b[0m \u001b[0;34m\u001b[0m\u001b[0m\n\u001b[0;32m--> 874\u001b[0;31m             \u001b[0mself\u001b[0m\u001b[0;34m.\u001b[0m\u001b[0m_run_search\u001b[0m\u001b[0;34m(\u001b[0m\u001b[0mevaluate_candidates\u001b[0m\u001b[0;34m)\u001b[0m\u001b[0;34m\u001b[0m\u001b[0;34m\u001b[0m\u001b[0m\n\u001b[0m\u001b[1;32m    875\u001b[0m \u001b[0;34m\u001b[0m\u001b[0m\n\u001b[1;32m    876\u001b[0m             \u001b[0;31m# multimetric is determined here because in the case of a callable\u001b[0m\u001b[0;34m\u001b[0m\u001b[0;34m\u001b[0m\u001b[0m\n",
            "\u001b[0;32m/usr/local/lib/python3.10/dist-packages/sklearn/model_selection/_search.py\u001b[0m in \u001b[0;36m_run_search\u001b[0;34m(self, evaluate_candidates)\u001b[0m\n\u001b[1;32m   1766\u001b[0m     \u001b[0;32mdef\u001b[0m \u001b[0m_run_search\u001b[0m\u001b[0;34m(\u001b[0m\u001b[0mself\u001b[0m\u001b[0;34m,\u001b[0m \u001b[0mevaluate_candidates\u001b[0m\u001b[0;34m)\u001b[0m\u001b[0;34m:\u001b[0m\u001b[0;34m\u001b[0m\u001b[0;34m\u001b[0m\u001b[0m\n\u001b[1;32m   1767\u001b[0m         \u001b[0;34m\"\"\"Search n_iter candidates from param_distributions\"\"\"\u001b[0m\u001b[0;34m\u001b[0m\u001b[0;34m\u001b[0m\u001b[0m\n\u001b[0;32m-> 1768\u001b[0;31m         evaluate_candidates(\n\u001b[0m\u001b[1;32m   1769\u001b[0m             ParameterSampler(\n\u001b[1;32m   1770\u001b[0m                 \u001b[0mself\u001b[0m\u001b[0;34m.\u001b[0m\u001b[0mparam_distributions\u001b[0m\u001b[0;34m,\u001b[0m \u001b[0mself\u001b[0m\u001b[0;34m.\u001b[0m\u001b[0mn_iter\u001b[0m\u001b[0;34m,\u001b[0m \u001b[0mrandom_state\u001b[0m\u001b[0;34m=\u001b[0m\u001b[0mself\u001b[0m\u001b[0;34m.\u001b[0m\u001b[0mrandom_state\u001b[0m\u001b[0;34m\u001b[0m\u001b[0;34m\u001b[0m\u001b[0m\n",
            "\u001b[0;32m/usr/local/lib/python3.10/dist-packages/sklearn/model_selection/_search.py\u001b[0m in \u001b[0;36mevaluate_candidates\u001b[0;34m(candidate_params, cv, more_results)\u001b[0m\n\u001b[1;32m    849\u001b[0m                     )\n\u001b[1;32m    850\u001b[0m \u001b[0;34m\u001b[0m\u001b[0m\n\u001b[0;32m--> 851\u001b[0;31m                 \u001b[0m_warn_or_raise_about_fit_failures\u001b[0m\u001b[0;34m(\u001b[0m\u001b[0mout\u001b[0m\u001b[0;34m,\u001b[0m \u001b[0mself\u001b[0m\u001b[0;34m.\u001b[0m\u001b[0merror_score\u001b[0m\u001b[0;34m)\u001b[0m\u001b[0;34m\u001b[0m\u001b[0;34m\u001b[0m\u001b[0m\n\u001b[0m\u001b[1;32m    852\u001b[0m \u001b[0;34m\u001b[0m\u001b[0m\n\u001b[1;32m    853\u001b[0m                 \u001b[0;31m# For callable self.scoring, the return type is only know after\u001b[0m\u001b[0;34m\u001b[0m\u001b[0;34m\u001b[0m\u001b[0m\n",
            "\u001b[0;32m/usr/local/lib/python3.10/dist-packages/sklearn/model_selection/_validation.py\u001b[0m in \u001b[0;36m_warn_or_raise_about_fit_failures\u001b[0;34m(results, error_score)\u001b[0m\n\u001b[1;32m    365\u001b[0m                 \u001b[0;34mf\"Below are more details about the failures:\\n{fit_errors_summary}\"\u001b[0m\u001b[0;34m\u001b[0m\u001b[0;34m\u001b[0m\u001b[0m\n\u001b[1;32m    366\u001b[0m             )\n\u001b[0;32m--> 367\u001b[0;31m             \u001b[0;32mraise\u001b[0m \u001b[0mValueError\u001b[0m\u001b[0;34m(\u001b[0m\u001b[0mall_fits_failed_message\u001b[0m\u001b[0;34m)\u001b[0m\u001b[0;34m\u001b[0m\u001b[0;34m\u001b[0m\u001b[0m\n\u001b[0m\u001b[1;32m    368\u001b[0m \u001b[0;34m\u001b[0m\u001b[0m\n\u001b[1;32m    369\u001b[0m         \u001b[0;32melse\u001b[0m\u001b[0;34m:\u001b[0m\u001b[0;34m\u001b[0m\u001b[0;34m\u001b[0m\u001b[0m\n",
            "\u001b[0;31mValueError\u001b[0m: \nAll the 500 fits failed.\nIt is very likely that your model is misconfigured.\nYou can try to debug the error by setting error_score='raise'.\n\nBelow are more details about the failures:\n--------------------------------------------------------------------------------\n500 fits failed with the following error:\nTraceback (most recent call last):\n  File \"/usr/local/lib/python3.10/dist-packages/sklearn/model_selection/_validation.py\", line 686, in _fit_and_score\n    estimator.fit(X_train, y_train, **fit_params)\n  File \"/usr/local/lib/python3.10/dist-packages/imblearn/pipeline.py\", line 297, in fit\n    self._final_estimator.fit(Xt, yt, **fit_params_last_step)\n  File \"/usr/local/lib/python3.10/dist-packages/xgboost/core.py\", line 730, in inner_f\n    return func(**kwargs)\n  File \"/usr/local/lib/python3.10/dist-packages/xgboost/sklearn.py\", line 1471, in fit\n    raise ValueError(\nValueError: Invalid classes inferred from unique values of `y`.  Expected: [0 1 2], got [1 2 3]\n"
          ]
        }
      ]
    },
    {
      "cell_type": "code",
      "source": [
        "from sklearn.model_selection import RandomizedSearchCV\n",
        "from scipy.stats import randint\n",
        "from sklearn.neighbors import KNeighborsClassifier\n",
        "from imblearn.over_sampling import RandomOverSampler\n",
        "from imblearn.pipeline import make_pipeline as make_pipeline_imb\n",
        "from sklearn.preprocessing import StandardScaler\n",
        "\n",
        "pipeline_knn_up = make_pipeline_imb(\n",
        "    MinMaxScaler(),\n",
        "    RandomOverSampler(),\n",
        "    KNeighborsClassifier()\n",
        ")\n",
        "\n",
        "# Define the parameter grid\n",
        "param_grid_knn = {\n",
        "    'kneighborsclassifier__n_neighbors': [3, 5, 7],\n",
        "    'kneighborsclassifier__weights': ['uniform', 'distance'],\n",
        "    'kneighborsclassifier__algorithm': ['auto', 'ball_tree', 'kd_tree', 'brute'],\n",
        "    'kneighborsclassifier__leaf_size': [10, 30, 50, 70],\n",
        "    'kneighborsclassifier__p': [1, 2]  # 1 for Manhattan distance, 2 for Euclidean distance\n",
        "}\n",
        "\n",
        "\n",
        "\n",
        "\n",
        "# Initialize RandomizedSearchCV\n",
        "random_search_rf = RandomizedSearchCV(\n",
        "    pipeline_knn_up,\n",
        "    param_distributions=param_grid_knn,\n",
        "    n_iter=100,  # Number of parameter settings sampled. Increase or decrease based on computational resource.\n",
        "    cv=5,\n",
        "    scoring='average_precision',\n",
        "    verbose=2,\n",
        "    random_state=42,\n",
        "    n_jobs=-1  # Use parallel computation. Set to -1 to use all available cores.\n",
        ")\n",
        "\n",
        "# Fit RandomizedSearchCV to the training data\n",
        "random_search_rf.fit(X_train_1, y_train_1)\n",
        "\n",
        "# Print the best parameters\n",
        "print(\"Best parameters found: \", random_search_rf.best_params_)"
      ],
      "metadata": {
        "colab": {
          "base_uri": "https://localhost:8080/"
        },
        "id": "Q-9LCcO3m36B",
        "outputId": "b9275047-d37b-48df-ba43-726cae63efed"
      },
      "execution_count": null,
      "outputs": [
        {
          "output_type": "stream",
          "name": "stdout",
          "text": [
            "Fitting 5 folds for each of 100 candidates, totalling 500 fits\n",
            "Best parameters found:  {'kneighborsclassifier__weights': 'distance', 'kneighborsclassifier__p': 1, 'kneighborsclassifier__n_neighbors': 7, 'kneighborsclassifier__leaf_size': 70, 'kneighborsclassifier__algorithm': 'brute'}\n"
          ]
        }
      ]
    },
    {
      "cell_type": "code",
      "source": [
        "from sklearn.model_selection import RandomizedSearchCV\n",
        "from scipy.stats import randint\n",
        "from sklearn.neighbors import KNeighborsClassifier\n",
        "from imblearn.over_sampling import RandomOverSampler\n",
        "from imblearn.pipeline import make_pipeline as make_pipeline_imb\n",
        "from sklearn.preprocessing import StandardScaler\n",
        "\n",
        "pipeline_knn_up = make_pipeline_imb(\n",
        "    MinMaxScaler(),\n",
        "    RandomOverSampler(),\n",
        "    KNeighborsClassifier()\n",
        ")\n",
        "\n",
        "# Define the parameter grid\n",
        "param_grid_knn = {\n",
        "    'kneighborsclassifier__n_neighbors': [3, 5, 7],\n",
        "    'kneighborsclassifier__weights': ['uniform', 'distance'],\n",
        "    'kneighborsclassifier__algorithm': ['auto', 'ball_tree', 'kd_tree', 'brute'],\n",
        "    'kneighborsclassifier__leaf_size': [10, 30, 50, 70],\n",
        "    'kneighborsclassifier__p': [1, 2]  # 1 for Manhattan distance, 2 for Euclidean distance\n",
        "}\n",
        "\n",
        "\n",
        "\n",
        "\n",
        "# Initialize RandomizedSearchCV\n",
        "random_search_rf = RandomizedSearchCV(\n",
        "    pipeline_knn_up,\n",
        "    param_distributions=param_grid_knn,\n",
        "    n_iter=100,  # Number of parameter settings sampled. Increase or decrease based on computational resource.\n",
        "    cv=5,\n",
        "    scoring='average_precision',\n",
        "    verbose=2,\n",
        "    random_state=42,\n",
        "    n_jobs=-1  # Use parallel computation. Set to -1 to use all available cores.\n",
        ")\n",
        "\n",
        "# Fit RandomizedSearchCV to the training data\n",
        "random_search_rf.fit(X_train_2, y_train_2)\n",
        "\n",
        "# Print the best parameters\n",
        "print(\"Best parameters found: \", random_search_rf.best_params_)"
      ],
      "metadata": {
        "colab": {
          "base_uri": "https://localhost:8080/"
        },
        "id": "Zf8hgfe3_2PB",
        "outputId": "78942839-4b36-4a70-b53b-dac3cd742819"
      },
      "execution_count": null,
      "outputs": [
        {
          "output_type": "stream",
          "name": "stdout",
          "text": [
            "Fitting 5 folds for each of 100 candidates, totalling 500 fits\n",
            "Best parameters found:  {'kneighborsclassifier__weights': 'distance', 'kneighborsclassifier__p': 1, 'kneighborsclassifier__n_neighbors': 7, 'kneighborsclassifier__leaf_size': 10, 'kneighborsclassifier__algorithm': 'brute'}\n"
          ]
        }
      ]
    },
    {
      "cell_type": "code",
      "source": [
        "from sklearn.model_selection import RandomizedSearchCV\n",
        "from scipy.stats import randint\n",
        "from sklearn.neighbors import KNeighborsClassifier\n",
        "from imblearn.over_sampling import RandomOverSampler\n",
        "from imblearn.pipeline import make_pipeline as make_pipeline_imb\n",
        "from sklearn.preprocessing import StandardScaler\n",
        "\n",
        "pipeline_knn_up = make_pipeline_imb(\n",
        "    MinMaxScaler(),\n",
        "    RandomOverSampler(),\n",
        "    KNeighborsClassifier()\n",
        ")\n",
        "\n",
        "# Define the parameter grid\n",
        "param_grid_knn = {\n",
        "    'kneighborsclassifier__n_neighbors': [3, 5, 7],\n",
        "    'kneighborsclassifier__weights': ['uniform', 'distance'],\n",
        "    'kneighborsclassifier__algorithm': ['auto', 'ball_tree', 'kd_tree', 'brute'],\n",
        "    'kneighborsclassifier__leaf_size': [10, 30, 50, 70],\n",
        "    'kneighborsclassifier__p': [1, 2]  # 1 for Manhattan distance, 2 for Euclidean distance\n",
        "}\n",
        "\n",
        "\n",
        "\n",
        "\n",
        "# Initialize RandomizedSearchCV\n",
        "random_search_rf = RandomizedSearchCV(\n",
        "    pipeline_knn_up,\n",
        "    param_distributions=param_grid_knn,\n",
        "    n_iter=100,  # Number of parameter settings sampled. Increase or decrease based on computational resource.\n",
        "    cv=5,\n",
        "    scoring='average_precision',\n",
        "    verbose=2,\n",
        "    random_state=42,\n",
        "    n_jobs=-1  # Use parallel computation. Set to -1 to use all available cores.\n",
        ")\n",
        "\n",
        "# Fit RandomizedSearchCV to the training data\n",
        "random_search_rf.fit(X_train_3, y_train_3)\n",
        "\n",
        "# Print the best parameters\n",
        "print(\"Best parameters found: \", random_search_rf.best_params_)"
      ],
      "metadata": {
        "colab": {
          "base_uri": "https://localhost:8080/"
        },
        "id": "ldteNIJe_3lM",
        "outputId": "32e2125e-b2f8-4a8a-e7b4-50dde3426252"
      },
      "execution_count": null,
      "outputs": [
        {
          "output_type": "stream",
          "name": "stdout",
          "text": [
            "Fitting 5 folds for each of 100 candidates, totalling 500 fits\n",
            "Best parameters found:  {'kneighborsclassifier__weights': 'distance', 'kneighborsclassifier__p': 1, 'kneighborsclassifier__n_neighbors': 7, 'kneighborsclassifier__leaf_size': 50, 'kneighborsclassifier__algorithm': 'brute'}\n"
          ]
        }
      ]
    },
    {
      "cell_type": "code",
      "source": [
        "from sklearn.model_selection import RandomizedSearchCV\n",
        "from scipy.stats import randint\n",
        "from sklearn.ensemble import RandomForestClassifier\n",
        "import xgboost as xgb\n",
        "from imblearn.over_sampling import RandomOverSampler\n",
        "from imblearn.pipeline import make_pipeline as make_pipeline_imb\n",
        "from sklearn.preprocessing import StandardScaler\n",
        "from sklearn.preprocessing import MinMaxScaler\n",
        "\n",
        "pipeline_rf_up = make_pipeline_imb(\n",
        "    MinMaxScaler(),\n",
        "    RandomOverSampler(),\n",
        "    RandomForestClassifier(random_state=42)\n",
        ")\n",
        "\n",
        "\n",
        "# Define the parameter grid\n",
        "param_grid_rf = {\n",
        "    'randomforestclassifier__n_estimators': [100, 200, 300, 500],\n",
        "    'randomforestclassifier__max_features': ['auto', 'sqrt', 'log2'],\n",
        "    'randomforestclassifier__max_depth': [10, 13, 20, 30],\n",
        "    'randomforestclassifier__min_samples_split': [2, 5, 10],\n",
        "    'randomforestclassifier__min_samples_leaf': [1, 2, 4],\n",
        "    'randomforestclassifier__bootstrap': [True, False],\n",
        "    'randomforestclassifier__criterion': ['gini', 'entropy']\n",
        "}\n",
        "\n",
        "# Initialize RandomizedSearchCV\n",
        "random_search_rf = RandomizedSearchCV(\n",
        "    pipeline_rf_up,\n",
        "    param_distributions=param_grid_rf,\n",
        "    n_iter=100,  # Number of parameter settings sampled. Increase or decrease based on computational resource.\n",
        "    cv=5,\n",
        "    scoring='average_precision',\n",
        "    verbose=2,\n",
        "    random_state=42,\n",
        "    n_jobs=-1  # Use parallel computation. Set to -1 to use all available cores.\n",
        ")\n",
        "\n",
        "# Fit RandomizedSearchCV to the training data\n",
        "random_search_rf.fit(X_train_1, y_train_1)\n",
        "\n",
        "# Print the best parameters\n",
        "print(\"Best parameters found: \", random_search_rf.best_params_)\n"
      ],
      "metadata": {
        "colab": {
          "base_uri": "https://localhost:8080/",
          "height": 245
        },
        "id": "niW8yYqFQaAz",
        "outputId": "35cb833f-8d65-4e86-b73c-253c336dcdc9"
      },
      "execution_count": null,
      "outputs": [
        {
          "output_type": "error",
          "ename": "NameError",
          "evalue": "name 'X_train_1' is not defined",
          "traceback": [
            "\u001b[0;31m---------------------------------------------------------------------------\u001b[0m",
            "\u001b[0;31mNameError\u001b[0m                                 Traceback (most recent call last)",
            "\u001b[0;32m<ipython-input-1-15f8cf23f234>\u001b[0m in \u001b[0;36m<cell line: 41>\u001b[0;34m()\u001b[0m\n\u001b[1;32m     39\u001b[0m \u001b[0;34m\u001b[0m\u001b[0m\n\u001b[1;32m     40\u001b[0m \u001b[0;31m# Fit RandomizedSearchCV to the training data\u001b[0m\u001b[0;34m\u001b[0m\u001b[0;34m\u001b[0m\u001b[0m\n\u001b[0;32m---> 41\u001b[0;31m \u001b[0mrandom_search_rf\u001b[0m\u001b[0;34m.\u001b[0m\u001b[0mfit\u001b[0m\u001b[0;34m(\u001b[0m\u001b[0mX_train_1\u001b[0m\u001b[0;34m,\u001b[0m \u001b[0my_train_1\u001b[0m\u001b[0;34m)\u001b[0m\u001b[0;34m\u001b[0m\u001b[0;34m\u001b[0m\u001b[0m\n\u001b[0m\u001b[1;32m     42\u001b[0m \u001b[0;34m\u001b[0m\u001b[0m\n\u001b[1;32m     43\u001b[0m \u001b[0;31m# Print the best parameters\u001b[0m\u001b[0;34m\u001b[0m\u001b[0;34m\u001b[0m\u001b[0m\n",
            "\u001b[0;31mNameError\u001b[0m: name 'X_train_1' is not defined"
          ]
        }
      ]
    },
    {
      "cell_type": "code",
      "source": [
        "from sklearn.model_selection import RandomizedSearchCV\n",
        "from scipy.stats import randint\n",
        "from sklearn.ensemble import RandomForestClassifier\n",
        "import xgboost as xgb\n",
        "from imblearn.over_sampling import RandomOverSampler\n",
        "from imblearn.pipeline import make_pipeline as make_pipeline_imb\n",
        "from sklearn.preprocessing import StandardScaler\n",
        "from sklearn.preprocessing import MinMaxScaler\n",
        "\n",
        "pipeline_rf_up = make_pipeline_imb(\n",
        "    MinMaxScaler(),\n",
        "    RandomOverSampler(),\n",
        "    RandomForestClassifier(random_state=42)\n",
        ")\n",
        "\n",
        "\n",
        "# Define the parameter grid\n",
        "param_grid_rf = {\n",
        "    'randomforestclassifier__n_estimators': [100, 200, 300, 500],\n",
        "    'randomforestclassifier__max_features': ['auto', 'sqrt', 'log2'],\n",
        "    'randomforestclassifier__max_depth': [10, 13, 20, 30],\n",
        "    'randomforestclassifier__min_samples_split': [2, 5, 10],\n",
        "    'randomforestclassifier__min_samples_leaf': [1, 2, 4],\n",
        "    'randomforestclassifier__bootstrap': [True, False],\n",
        "    'randomforestclassifier__criterion': ['gini', 'entropy']\n",
        "}\n",
        "\n",
        "# Initialize RandomizedSearchCV\n",
        "random_search_rf = RandomizedSearchCV(\n",
        "    pipeline_rf_up,\n",
        "    param_distributions=param_grid_rf,\n",
        "    n_iter=100,  # Number of parameter settings sampled. Increase or decrease based on computational resource.\n",
        "    cv=5,\n",
        "    scoring='average_precision',\n",
        "    verbose=2,\n",
        "    random_state=42,\n",
        "    n_jobs=-1  # Use parallel computation. Set to -1 to use all available cores.\n",
        ")\n",
        "\n",
        "# Fit RandomizedSearchCV to the training data\n",
        "random_search_rf.fit(X_train_2, y_train_2)\n",
        "\n",
        "# Print the best parameters\n",
        "print(\"Best parameters found: \", random_search_rf.best_params_)\n"
      ],
      "metadata": {
        "id": "2JCLHSp8Qgoh"
      },
      "execution_count": null,
      "outputs": []
    },
    {
      "cell_type": "code",
      "source": [
        "from sklearn.model_selection import RandomizedSearchCV\n",
        "from scipy.stats import randint\n",
        "from sklearn.ensemble import RandomForestClassifier\n",
        "import xgboost as xgb\n",
        "from imblearn.over_sampling import RandomOverSampler\n",
        "from imblearn.pipeline import make_pipeline as make_pipeline_imb\n",
        "from sklearn.preprocessing import StandardScaler\n",
        "from sklearn.preprocessing import MinMaxScaler\n",
        "\n",
        "pipeline_rf_up = make_pipeline_imb(\n",
        "    MinMaxScaler(),\n",
        "    RandomOverSampler(),\n",
        "    RandomForestClassifier(random_state=42)\n",
        ")\n",
        "\n",
        "\n",
        "# Define the parameter grid\n",
        "param_grid_rf = {\n",
        "    'randomforestclassifier__n_estimators': [100, 200, 300, 500],\n",
        "    'randomforestclassifier__max_features': ['auto', 'sqrt', 'log2'],\n",
        "    'randomforestclassifier__max_depth': [10, 13, 20, 30],\n",
        "    'randomforestclassifier__min_samples_split': [2, 5, 10],\n",
        "    'randomforestclassifier__min_samples_leaf': [1, 2, 4],\n",
        "    'randomforestclassifier__bootstrap': [True, False],\n",
        "    'randomforestclassifier__criterion': ['gini', 'entropy']\n",
        "}\n",
        "\n",
        "# Initialize RandomizedSearchCV\n",
        "random_search_rf = RandomizedSearchCV(\n",
        "    pipeline_rf_up,\n",
        "    param_distributions=param_grid_rf,\n",
        "    n_iter=100,  # Number of parameter settings sampled. Increase or decrease based on computational resource.\n",
        "    cv=5,\n",
        "    scoring='average_precision',\n",
        "    verbose=2,\n",
        "    random_state=42,\n",
        "    n_jobs=-1  # Use parallel computation. Set to -1 to use all available cores.\n",
        ")\n",
        "\n",
        "# Fit RandomizedSearchCV to the training data\n",
        "random_search_rf.fit(X_train_3, y_train_3)\n",
        "\n",
        "# Print the best parameters\n",
        "print(\"Best parameters found: \", random_search_rf.best_params_)\n"
      ],
      "metadata": {
        "id": "dhjQWXhTQjsY"
      },
      "execution_count": null,
      "outputs": []
    },
    {
      "cell_type": "code",
      "source": [
        "from sklearn.ensemble import RandomForestClassifier\n",
        "from imblearn.over_sampling import RandomOverSampler\n",
        "from imblearn.pipeline import make_pipeline as make_pipeline_imb\n",
        "from sklearn.preprocessing import MinMaxScaler\n",
        "\n",
        "# Define the random forest classifier with the specified parameters\n",
        "rf_params = {\n",
        "    'n_estimators': 500,\n",
        "    'min_samples_split': 10,\n",
        "    'min_samples_leaf': 2,\n",
        "    'max_features': 'sqrt',\n",
        "    'max_depth': 13,\n",
        "    'criterion': 'entropy',\n",
        "    'bootstrap': True\n",
        "}\n",
        "\n",
        "rf_model_anomaly = RandomForestClassifier(**rf_params)\n",
        "\n",
        "pipeline_rf_up = make_pipeline_imb(\n",
        "    MinMaxScaler(),\n",
        "    rf_model_anomaly\n",
        ")"
      ],
      "metadata": {
        "id": "UWY0nzN-KS4g"
      },
      "execution_count": 22,
      "outputs": []
    },
    {
      "cell_type": "code",
      "source": [
        "X_train, y_train = concatenate_class_datasets(datasets, [1,2,3], type='train')\n",
        "X_test, y_test = concatenate_class_datasets(datasets, [1,2,3], type='test')\n",
        "# y_train = y_train.map({1: 0, 2: 1, 3: 2}).fillna(y_train)\n",
        "# y_test = y_test.map({1: 0, 2: 1, 3: 2}).fillna(y_test)\n"
      ],
      "metadata": {
        "id": "eNVjAIGkO1hD"
      },
      "execution_count": 30,
      "outputs": []
    },
    {
      "cell_type": "code",
      "source": [
        "pipeline_rf_up.fit(X_train, y_train)\n",
        "\n",
        "# Make predictions\n",
        "rf_predictions = pipeline_rf_up.predict(X_test)\n",
        "\n",
        "# Show results\n",
        "showResult(y_test, rf_predictions)"
      ],
      "metadata": {
        "colab": {
          "base_uri": "https://localhost:8080/",
          "height": 651
        },
        "id": "nqu1PzrePsX3",
        "outputId": "03bf1e38-654e-415d-dd08-13950df1085f"
      },
      "execution_count": 31,
      "outputs": [
        {
          "output_type": "display_data",
          "data": {
            "text/plain": [
              "<Figure size 800x600 with 2 Axes>"
            ],
            "image/png": "[encoded data removed]"
          },
          "metadata": {}
        },
        {
          "output_type": "stream",
          "name": "stdout",
          "text": [
            "Accuracy: 0.7000\n",
            "F1 Score (Weighted): 0.6899\n",
            "F1 Score (Unweighted): 0.6899\n",
            "F2 Score (Weighted): 0.6849\n",
            "F2 Score (Unweighted): 0.6849\n"
          ]
        }
      ]
    },
    {
      "cell_type": "code",
      "source": [
        "\n",
        "# Make predictions\n",
        "rf_predictions = pipeline_rf_up.predict(X_train)\n",
        "\n",
        "# Show results\n",
        "showResult(y_train, rf_predictions)"
      ],
      "metadata": {
        "colab": {
          "base_uri": "https://localhost:8080/",
          "height": 651
        },
        "id": "RIjYEPfPDIHF",
        "outputId": "ee7722c9-5b68-46c0-f2ee-4bada19b3fb1"
      },
      "execution_count": 32,
      "outputs": [
        {
          "output_type": "display_data",
          "data": {
            "text/plain": [
              "<Figure size 800x600 with 2 Axes>"
            ],
            "image/png": "[encoded data removed]"
          },
          "metadata": {}
        },
        {
          "output_type": "stream",
          "name": "stdout",
          "text": [
            "Accuracy: 0.7275\n",
            "F1 Score (Weighted): 0.7139\n",
            "F1 Score (Unweighted): 0.7164\n",
            "F2 Score (Weighted): 0.7122\n",
            "F2 Score (Unweighted): 0.6996\n"
          ]
        }
      ]
    },
    {
      "cell_type": "code",
      "source": [
        "X_train, y_train = concatenate_class_datasets(datasets, [1,2,3], type='train')\n",
        "X_test, y_test = concatenate_class_datasets(datasets, [1,2,3], type='test')\n",
        "y_train = y_train.map({1: 0, 2: 1, 3: 2}).fillna(y_train)\n",
        "y_test = y_test.map({1: 0, 2: 1, 3: 2}).fillna(y_test)"
      ],
      "metadata": {
        "id": "3epWw6zKCnZq"
      },
      "execution_count": 27,
      "outputs": []
    },
    {
      "cell_type": "code",
      "source": [
        "from sklearn.ensemble import RandomForestClassifier\n",
        "from imblearn.over_sampling import RandomOverSampler\n",
        "from imblearn.pipeline import make_pipeline as make_pipeline_imb\n",
        "from sklearn.preprocessing import MinMaxScaler\n",
        "\n",
        "# Define the random forest classifier with the specified parameters\n",
        "xgb_params = {'subsample': 0.8, 'reg_lambda': 0.1, 'reg_alpha': 0.1, 'n_estimators': 350, 'min_child_weight': 1, 'max_depth': 4, 'learning_rate': 0.1, 'gamma': 0.1, 'colsample_bytree': 0.9, 'use_label_encoder':False}\n",
        "\n",
        "xgb_clf_anomaly = XGBClassifier(**xgb_params)\n",
        "\n",
        "pipeline_xgb_up = make_pipeline_imb(\n",
        "    MinMaxScaler(),\n",
        "    xgb_clf_anomaly\n",
        ")\n",
        "\n",
        "pipeline_xgb_up.fit(X_train, y_train)\n",
        "\n",
        "# Make predictions\n",
        "xgb_predictions = pipeline_xgb_up.predict(X_test)\n",
        "\n",
        "# Show results\n",
        "showResult(y_test, xgb_predictions)"
      ],
      "metadata": {
        "colab": {
          "base_uri": "https://localhost:8080/",
          "height": 651
        },
        "id": "gXjuassQBvqy",
        "outputId": "8d4ee93d-93c2-4fdc-c042-de3f3f569154"
      },
      "execution_count": 28,
      "outputs": [
        {
          "output_type": "display_data",
          "data": {
            "text/plain": [
              "<Figure size 800x600 with 2 Axes>"
            ],
            "image/png": "[encoded data removed]"
          },
          "metadata": {}
        },
        {
          "output_type": "stream",
          "name": "stdout",
          "text": [
            "Accuracy: 0.7567\n",
            "F1 Score (Weighted): 0.7584\n",
            "F1 Score (Unweighted): 0.7584\n",
            "F2 Score (Weighted): 0.7548\n",
            "F2 Score (Unweighted): 0.7548\n"
          ]
        }
      ]
    },
    {
      "cell_type": "code",
      "source": [
        "xgb_predictions = pipeline_xgb_up.predict(X_train)\n",
        "\n",
        "# Show results\n",
        "showResult(y_train, xgb_predictions)"
      ],
      "metadata": {
        "colab": {
          "base_uri": "https://localhost:8080/",
          "height": 651
        },
        "id": "Zn4BxvUxC7DC",
        "outputId": "8d5c0142-7a47-4a6b-dea6-616be96a8b2b"
      },
      "execution_count": 29,
      "outputs": [
        {
          "output_type": "display_data",
          "data": {
            "text/plain": [
              "<Figure size 800x600 with 2 Axes>"
            ],
            "image/png": "[encoded data removed]"
          },
          "metadata": {}
        },
        {
          "output_type": "stream",
          "name": "stdout",
          "text": [
            "Accuracy: 0.7680\n",
            "F1 Score (Weighted): 0.7671\n",
            "F1 Score (Unweighted): 0.7686\n",
            "F2 Score (Weighted): 0.7659\n",
            "F2 Score (Unweighted): 0.7581\n"
          ]
        }
      ]
    },
    {
      "cell_type": "code",
      "source": [
        "X_train, y_train = concatenate_class_datasets(datasets, [1,2,3], type='train')\n",
        "X_test, y_test = concatenate_class_datasets(datasets, [1,2,3], type='test')\n",
        "y_train = y_train.map({1: 0, 2: 1, 3: 2}).fillna(y_train)\n",
        "y_test = y_test.map({1: 0, 2: 1, 3: 2}).fillna(y_test)"
      ],
      "metadata": {
        "id": "Avmw5_3sEMNK"
      },
      "execution_count": 37,
      "outputs": []
    },
    {
      "cell_type": "code",
      "source": [
        "from sklearn.ensemble import VotingClassifier\n",
        "from sklearn.svm import SVC\n",
        "\n",
        "xgb_params = {'subsample': 0.8, 'reg_lambda': 0.1, 'reg_alpha': 0.1, 'n_estimators': 350, 'min_child_weight': 1, 'max_depth': 4, 'learning_rate': 0.1, 'gamma': 0.1, 'colsample_bytree': 0.9, 'use_label_encoder':False}\n",
        "\n",
        "xgb_clf_anomaly = XGBClassifier(**xgb_params)\n",
        "\n",
        "pipeline_xgb_up = make_pipeline_imb(\n",
        "    MinMaxScaler(),\n",
        "    xgb_clf_anomaly\n",
        ")\n",
        "\n",
        "rf_params = {\n",
        "    'n_estimators': 500,\n",
        "    'min_samples_split': 10,\n",
        "    'min_samples_leaf': 2,\n",
        "    'max_features': 'sqrt',\n",
        "    'max_depth': 13,\n",
        "    'criterion': 'entropy',\n",
        "    'bootstrap': True\n",
        "}\n",
        "\n",
        "rf_model_anomaly = RandomForestClassifier(**rf_params)\n",
        "\n",
        "pipeline_rf_up = make_pipeline_imb(\n",
        "    MinMaxScaler(),\n",
        "    rf_model_anomaly\n",
        ")\n",
        "\n",
        "\n",
        "\n",
        "ensemble_model = VotingClassifier(\n",
        "    estimators=[\n",
        "        ('rf_up', pipeline_rf_up),\n",
        "        ('xgb_up', pipeline_xgb_up),\n",
        "    ],\n",
        "    voting='soft'\n",
        ")\n",
        "\n",
        "# Fit the ensemble model\n",
        "ensemble_model.fit(X_train, y_train)\n",
        "\n",
        "# Make predictions\n",
        "ensemble_predictions = ensemble_model.predict(X_test)\n",
        "\n",
        "# Show results\n",
        "showResult(y_test, ensemble_predictions)"
      ],
      "metadata": {
        "colab": {
          "base_uri": "https://localhost:8080/",
          "height": 651
        },
        "id": "rG2MvBfqD7bn",
        "outputId": "8fcd1ad3-dc03-44eb-9788-3f0a92305936"
      },
      "execution_count": 39,
      "outputs": [
        {
          "output_type": "display_data",
          "data": {
            "text/plain": [
              "<Figure size 800x600 with 2 Axes>"
            ],
            "image/png": "[encoded data removed]"
          },
          "metadata": {}
        },
        {
          "output_type": "stream",
          "name": "stdout",
          "text": [
            "Accuracy: 0.7267\n",
            "F1 Score (Weighted): 0.7237\n",
            "F1 Score (Unweighted): 0.7237\n",
            "F2 Score (Weighted): 0.7167\n",
            "F2 Score (Unweighted): 0.7167\n"
          ]
        }
      ]
    },
    {
      "cell_type": "code",
      "source": [
        "from sklearn.neighbors import KNeighborsClassifier\n",
        "\n",
        "# Set the parameters\n",
        "k_neighbors = 7\n",
        "weights = 'distance'\n",
        "p = 1\n",
        "leaf_size = 70\n",
        "algorithm = 'brute'\n",
        "\n",
        "# Create the KNN model with the specified parameters\n",
        "knn_model_1 = KNeighborsClassifier(\n",
        "    n_neighbors=k_neighbors,\n",
        "    weights=weights,\n",
        "    p=p,\n",
        "    leaf_size=leaf_size,\n",
        "    algorithm=algorithm\n",
        ")\n",
        "\n",
        "# Now, you can fit this model to your training data and use it for predictions.\n",
        "# Example:\n",
        "knn_model_1.fit(X_train_1, y_train_1)\n",
        "y_pred = knn_model_1.predict(X_test_1)\n",
        "showResult(y_test_1, y_pred)\n"
      ],
      "metadata": {
        "colab": {
          "base_uri": "https://localhost:8080/",
          "height": 651
        },
        "id": "AgTQzMX9Qwkn",
        "outputId": "58f67c9d-8f8b-4c06-8038-8c02daf3d4a7"
      },
      "execution_count": null,
      "outputs": [
        {
          "output_type": "display_data",
          "data": {
            "text/plain": [
              "<Figure size 800x600 with 2 Axes>"
            ],
            "image/png": "[encoded data removed]"
          },
          "metadata": {}
        },
        {
          "output_type": "stream",
          "name": "stdout",
          "text": [
            "Accuracy: 0.9326\n",
            "F1 Score (Weighted): 0.9599\n",
            "F1 Score (Unweighted): 0.5149\n",
            "F2 Score (Weighted): 0.9425\n",
            "F2 Score (Unweighted): 0.5390\n"
          ]
        }
      ]
    },
    {
      "cell_type": "code",
      "source": [
        "from sklearn.neighbors import KNeighborsClassifier\n",
        "\n",
        "# Set the parameters\n",
        "k_neighbors = 7\n",
        "weights = 'distance'\n",
        "p = 1\n",
        "leaf_size = 10\n",
        "algorithm = 'brute'\n",
        "\n",
        "# Create the KNN model with the specified parameters\n",
        "knn_model_2 = KNeighborsClassifier(\n",
        "    n_neighbors=k_neighbors,\n",
        "    weights=weights,\n",
        "    p=p,\n",
        "    leaf_size=leaf_size,\n",
        "    algorithm=algorithm\n",
        ")\n",
        "\n",
        "# Now, you can fit this model to your training data and use it for predictions.\n",
        "# Example:\n",
        "knn_model_2.fit(X_train_2, y_train_2)\n",
        "y_pred = knn_model_2.predict(X_test_2)\n",
        "showResult(y_test_2, y_pred)\n"
      ],
      "metadata": {
        "colab": {
          "base_uri": "https://localhost:8080/",
          "height": 651
        },
        "id": "jHZTYBWhQ6_x",
        "outputId": "53ac4c5e-fd11-4e61-9ca7-eb9f864fe44f"
      },
      "execution_count": null,
      "outputs": [
        {
          "output_type": "display_data",
          "data": {
            "text/plain": [
              "<Figure size 800x600 with 2 Axes>"
            ],
            "image/png": "[encoded data removed]"
          },
          "metadata": {}
        },
        {
          "output_type": "stream",
          "name": "stdout",
          "text": [
            "Accuracy: 0.8499\n",
            "F1 Score (Weighted): 0.9136\n",
            "F1 Score (Unweighted): 0.4747\n",
            "F2 Score (Weighted): 0.8731\n",
            "F2 Score (Unweighted): 0.4735\n"
          ]
        }
      ]
    },
    {
      "cell_type": "code",
      "source": [
        "from sklearn.neighbors import KNeighborsClassifier\n",
        "\n",
        "# Set the parameters\n",
        "k_neighbors = 7\n",
        "weights = 'distance'\n",
        "p = 1\n",
        "leaf_size = 50\n",
        "algorithm = 'brute'\n",
        "\n",
        "# Create the KNN model with the specified parameters\n",
        "knn_model_3 = KNeighborsClassifier(\n",
        "    n_neighbors=k_neighbors,\n",
        "    weights=weights,\n",
        "    p=p,\n",
        "    leaf_size=leaf_size,\n",
        "    algorithm=algorithm\n",
        ")\n",
        "\n",
        "# Now, you can fit this model to your training data and use it for predictions.\n",
        "# Example:\n",
        "knn_model_3.fit(X_train_3, y_train_3)\n",
        "y_pred = knn_model_3.predict(X_test_3)\n",
        "showResult(y_test_3, y_pred)\n"
      ],
      "metadata": {
        "colab": {
          "base_uri": "https://localhost:8080/",
          "height": 651
        },
        "id": "7hYBCNAoQ7q3",
        "outputId": "7ee77a1e-db32-404e-fdd8-ecaaccd8e3a6"
      },
      "execution_count": null,
      "outputs": [
        {
          "output_type": "display_data",
          "data": {
            "text/plain": [
              "<Figure size 800x600 with 2 Axes>"
            ],
            "image/png": "[encoded data removed]"
          },
          "metadata": {}
        },
        {
          "output_type": "stream",
          "name": "stdout",
          "text": [
            "Accuracy: 0.8795\n",
            "F1 Score (Weighted): 0.9306\n",
            "F1 Score (Unweighted): 0.4861\n",
            "F2 Score (Weighted): 0.8982\n",
            "F2 Score (Unweighted): 0.4915\n"
          ]
        }
      ]
    },
    {
      "cell_type": "code",
      "source": [
        "from sklearn.ensemble import RandomForestClassifier\n",
        "\n",
        "# Define the random forest classifier with the specified parameters\n",
        "rf_params = {\n",
        "    'n_estimators': 300,\n",
        "    'min_samples_split': 2,\n",
        "    'min_samples_leaf': 4,\n",
        "    'max_features': 'sqrt',\n",
        "    'max_depth': 13,\n",
        "    'criterion': 'entropy',\n",
        "    'bootstrap': True\n",
        "}\n",
        "\n",
        "rf_model = RandomForestClassifier(**rf_params)\n",
        "\n",
        "rf_model = RandomForestClassifier(**rf_params)\n",
        "\n",
        "pipeline_rf_up_1 = make_pipeline_imb(\n",
        "    RandomOverSampler(random_state=42),\n",
        "    rf_model\n",
        ")\n",
        "\n",
        "pipeline_rf_up_1.fit(X_train_1, y_train_1)\n",
        "\n",
        "# Make predictions\n",
        "rf_predictions = pipeline_rf_up_1.predict(X_test_1)\n",
        "\n",
        "# Show results\n",
        "showResult(y_test_1, rf_predictions)\n"
      ],
      "metadata": {
        "colab": {
          "base_uri": "https://localhost:8080/",
          "height": 651
        },
        "id": "j3btqLsyRgk7",
        "outputId": "56649479-21c3-410d-99c7-115f49ed9fb3"
      },
      "execution_count": 33,
      "outputs": [
        {
          "output_type": "display_data",
          "data": {
            "text/plain": [
              "<Figure size 800x600 with 2 Axes>"
            ],
            "image/png": "[encoded data removed]"
          },
          "metadata": {}
        },
        {
          "output_type": "stream",
          "name": "stdout",
          "text": [
            "Accuracy: 0.8288\n",
            "F1 Score (Weighted): 0.9011\n",
            "F1 Score (Unweighted): 0.4746\n",
            "F2 Score (Weighted): 0.8543\n",
            "F2 Score (Unweighted): 0.4786\n"
          ]
        }
      ]
    },
    {
      "cell_type": "code",
      "source": [
        "from sklearn.ensemble import RandomForestClassifier\n",
        "\n",
        "# Define the random forest classifier with the specified parameters\n",
        "rf_params = {\n",
        "    'n_estimators': 300,\n",
        "    'min_samples_split': 2,\n",
        "    'min_samples_leaf': 4,\n",
        "    'max_features': 'sqrt',\n",
        "    'max_depth': 13,\n",
        "    'criterion': 'entropy',\n",
        "    'bootstrap': True\n",
        "}\n",
        "\n",
        "rf_model = RandomForestClassifier(**rf_params)\n",
        "\n",
        "rf_model = RandomForestClassifier(**rf_params)\n",
        "\n",
        "pipeline_rf_up_2 = make_pipeline_imb(\n",
        "    RandomOverSampler(random_state=42),\n",
        "    rf_model\n",
        ")\n",
        "\n",
        "pipeline_rf_up_2.fit(X_train_2, y_train_2)\n",
        "\n",
        "# Make predictions\n",
        "rf_predictions = pipeline_rf_up_2.predict(X_test_2)\n",
        "\n",
        "# Show results\n",
        "showResult(y_test_2, rf_predictions)\n"
      ],
      "metadata": {
        "colab": {
          "base_uri": "https://localhost:8080/",
          "height": 651
        },
        "id": "jIzuSEH3V7Au",
        "outputId": "1688415e-b2f7-44d7-efe2-d10b849836a2"
      },
      "execution_count": 34,
      "outputs": [
        {
          "output_type": "display_data",
          "data": {
            "text/plain": [
              "<Figure size 800x600 with 2 Axes>"
            ],
            "image/png": "[encoded data removed]"
          },
          "metadata": {}
        },
        {
          "output_type": "stream",
          "name": "stdout",
          "text": [
            "Accuracy: 0.7294\n",
            "F1 Score (Weighted): 0.8380\n",
            "F1 Score (Unweighted): 0.4401\n",
            "F2 Score (Weighted): 0.7662\n",
            "F2 Score (Unweighted): 0.4293\n"
          ]
        }
      ]
    },
    {
      "cell_type": "code",
      "source": [
        "from sklearn.ensemble import RandomForestClassifier\n",
        "\n",
        "# Define the random forest classifier with the specified parameters\n",
        "rf_params = {\n",
        "    'n_estimators': 300,\n",
        "    'min_samples_split': 2,\n",
        "    'min_samples_leaf': 4,\n",
        "    'max_features': 'sqrt',\n",
        "    'max_depth': 13,\n",
        "    'criterion': 'entropy',\n",
        "    'bootstrap': True\n",
        "}\n",
        "\n",
        "rf_model = RandomForestClassifier(**rf_params)\n",
        "\n",
        "rf_model = RandomForestClassifier(**rf_params)\n",
        "\n",
        "pipeline_rf_up_3 = make_pipeline_imb(\n",
        "    RandomOverSampler(random_state=42),\n",
        "    rf_model\n",
        ")\n",
        "\n",
        "pipeline_rf_up_3.fit(X_train_3, y_train_3)\n",
        "\n",
        "# Make predictions\n",
        "rf_predictions = pipeline_rf_up_3.predict(X_test_3)\n",
        "\n",
        "# Show results\n",
        "showResult(y_test_3, rf_predictions)\n"
      ],
      "metadata": {
        "colab": {
          "base_uri": "https://localhost:8080/",
          "height": 651
        },
        "id": "2e_uCxDzWEFl",
        "outputId": "c9554a41-8249-47fd-f376-30d068e2d9df"
      },
      "execution_count": 35,
      "outputs": [
        {
          "output_type": "display_data",
          "data": {
            "text/plain": [
              "<Figure size 800x600 with 2 Axes>"
            ],
            "image/png": "[encoded data removed]"
          },
          "metadata": {}
        },
        {
          "output_type": "stream",
          "name": "stdout",
          "text": [
            "Accuracy: 0.8146\n",
            "F1 Score (Weighted): 0.8925\n",
            "F1 Score (Unweighted): 0.4734\n",
            "F2 Score (Weighted): 0.8415\n",
            "F2 Score (Unweighted): 0.4797\n"
          ]
        }
      ]
    },
    {
      "cell_type": "code",
      "source": [
        "X_test, y_test = concatenate_class_datasets(datasets, [1], type='test')"
      ],
      "metadata": {
        "id": "jEwhQ7u_agdo"
      },
      "execution_count": null,
      "outputs": []
    },
    {
      "cell_type": "code",
      "source": [
        "final_predictions = []\n",
        "\n",
        "# Iterate through each test sample\n",
        "for index, row in X_test.iterrows():\n",
        "    class_predictions = []\n",
        "\n",
        "    # Make predictions for each model\n",
        "    pred1 = pipeline_rf_up_1.predict(row.values.reshape(1, -1))[0]\n",
        "    pred2 = pipeline_rf_up_2.predict(row.values.reshape(1, -1))[0]\n",
        "    pred3 = pipeline_rf_up_3.predict(row.values.reshape(1, -1))[0]\n",
        "\n",
        "    # Convert model 2's prediction from 1 to 2\n",
        "    if pred2 == 1:\n",
        "        pred2 = 2\n",
        "\n",
        "    # Convert model 3's prediction from 1 to 3\n",
        "    if pred3 == 1:\n",
        "        pred3 = 3\n",
        "\n",
        "    # Store predictions from all models\n",
        "    class_predictions.extend([pred1, pred2, pred3])\n",
        "\n",
        "    # Count how many models predict class 0\n",
        "    count_class_0 = class_predictions.count(0)\n",
        "\n",
        "    # If at least two models predict class 0, set final prediction to 0\n",
        "    if count_class_0 >= 2:\n",
        "        final_prediction = 0\n",
        "    else:\n",
        "        # If not, choose the class with the highest probability\n",
        "        model_probabilities = [\n",
        "            pipeline_rf_up_1.predict_proba(row.values.reshape(1, -1)),\n",
        "            pipeline_rf_up_2.predict_proba(row.values.reshape(1, -1)),\n",
        "            pipeline_rf_up_3.predict_proba(row.values.reshape(1, -1))\n",
        "        ]\n",
        "\n",
        "        print(model_probabilities)\n",
        "        final_prediction = np.argmax([prob[0][1] for prob in model_probabilities]) + 1\n",
        "\n",
        "    final_predictions.append(final_prediction)\n",
        "\n",
        "    break\n",
        "\n",
        "print(\"Final Predictions:\", final_predictions)\n"
      ],
      "metadata": {
        "colab": {
          "base_uri": "https://localhost:8080/"
        },
        "id": "vHekvNl7ZvEg",
        "outputId": "cb3186cd-f826-4562-ef98-493a59acd0de"
      },
      "execution_count": null,
      "outputs": [
        {
          "output_type": "stream",
          "name": "stdout",
          "text": [
            "Final Predictions: [0]\n"
          ]
        },
        {
          "output_type": "stream",
          "name": "stderr",
          "text": [
            "/usr/local/lib/python3.10/dist-packages/sklearn/base.py:439: UserWarning: X does not have valid feature names, but RandomForestClassifier was fitted with feature names\n",
            "  warnings.warn(\n",
            "/usr/local/lib/python3.10/dist-packages/sklearn/base.py:439: UserWarning: X does not have valid feature names, but RandomForestClassifier was fitted with feature names\n",
            "  warnings.warn(\n",
            "/usr/local/lib/python3.10/dist-packages/sklearn/base.py:439: UserWarning: X does not have valid feature names, but RandomForestClassifier was fitted with feature names\n",
            "  warnings.warn(\n"
          ]
        }
      ]
    },
    {
      "cell_type": "markdown",
      "source": [
        "# Final Evaluation"
      ],
      "metadata": {
        "id": "6V56wrJzFPdc"
      }
    },
    {
      "cell_type": "code",
      "source": [
        "X_train, y_train = concatenate_class_datasets(datasets, [0,1,2,3], type='train')\n",
        "X_test, y_test = concatenate_class_datasets(datasets, [0,1,2,3], type='test')\n",
        "y_train = y_train.apply(lambda x: 1 if x in [1, 2, 3] else 0)\n",
        "y_test = y_test.apply(lambda x: 1 if x in [1, 2, 3] else 0)"
      ],
      "metadata": {
        "id": "1fNEmU6pfuoU"
      },
      "execution_count": 66,
      "outputs": []
    },
    {
      "cell_type": "code",
      "source": [
        "params_rf = {\n",
        "    'n_estimators': 200,\n",
        "    'min_samples_split': 2,\n",
        "    'min_samples_leaf': 2,\n",
        "    'max_features': 'log2',\n",
        "    'max_depth': 20,\n",
        "    'criterion': 'entropy',\n",
        "    'bootstrap': False\n",
        "}\n",
        "\n",
        "# Create the model\n",
        "rf_model_binary = RandomForestClassifier(**params_rf)\n",
        "\n",
        "pipeline_rf_binary = make_pipeline_imb(\n",
        "    # MinMaxScaler(),\n",
        "    rf_model_binary\n",
        ")\n",
        "\n",
        "pipeline_rf_binary.fit(X_train, y_train)"
      ],
      "metadata": {
        "colab": {
          "base_uri": "https://localhost:8080/",
          "height": 92
        },
        "id": "eYaPHy4LgmSw",
        "outputId": "97d22729-c938-49d0-91f0-c9f07ca45dc3"
      },
      "execution_count": 71,
      "outputs": [
        {
          "output_type": "execute_result",
          "data": {
            "text/plain": [
              "Pipeline(steps=[('randomforestclassifier',\n",
              "                 RandomForestClassifier(bootstrap=False, criterion='entropy',\n",
              "                                        max_depth=20, max_features='log2',\n",
              "                                        min_samples_leaf=2,\n",
              "                                        n_estimators=200))])"
            ],
            "text/html": [
              "<style>#sk-container-id-8 {color: black;background-color: white;}#sk-container-id-8 pre{padding: 0;}#sk-container-id-8 div.sk-toggleable {background-color: white;}#sk-container-id-8 label.sk-toggleable__label {cursor: pointer;display: block;width: 100%;margin-bottom: 0;padding: 0.3em;box-sizing: border-box;text-align: center;}#sk-container-id-8 label.sk-toggleable__label-arrow:before {content: \"▸\";float: left;margin-right: 0.25em;color: #696969;}#sk-container-id-8 label.sk-toggleable__label-arrow:hover:before {color: black;}#sk-container-id-8 div.sk-estimator:hover label.sk-toggleable__label-arrow:before {color: black;}#sk-container-id-8 div.sk-toggleable__content {max-height: 0;max-width: 0;overflow: hidden;text-align: left;background-color: #f0f8ff;}#sk-container-id-8 div.sk-toggleable__content pre {margin: 0.2em;color: black;border-radius: 0.25em;background-color: #f0f8ff;}#sk-container-id-8 input.sk-toggleable__control:checked~div.sk-toggleable__content {max-height: 200px;max-width: 100%;overflow: auto;}#sk-container-id-8 input.sk-toggleable__control:checked~label.sk-toggleable__label-arrow:before {content: \"▾\";}#sk-container-id-8 div.sk-estimator input.sk-toggleable__control:checked~label.sk-toggleable__label {background-color: #d4ebff;}#sk-container-id-8 div.sk-label input.sk-toggleable__control:checked~label.sk-toggleable__label {background-color: #d4ebff;}#sk-container-id-8 input.sk-hidden--visually {border: 0;clip: rect(1px 1px 1px 1px);clip: rect(1px, 1px, 1px, 1px);height: 1px;margin: -1px;overflow: hidden;padding: 0;position: absolute;width: 1px;}#sk-container-id-8 div.sk-estimator {font-family: monospace;background-color: #f0f8ff;border: 1px dotted black;border-radius: 0.25em;box-sizing: border-box;margin-bottom: 0.5em;}#sk-container-id-8 div.sk-estimator:hover {background-color: #d4ebff;}#sk-container-id-8 div.sk-parallel-item::after {content: \"\";width: 100%;border-bottom: 1px solid gray;flex-grow: 1;}#sk-container-id-8 div.sk-label:hover label.sk-toggleable__label {background-color: #d4ebff;}#sk-container-id-8 div.sk-serial::before {content: \"\";position: absolute;border-left: 1px solid gray;box-sizing: border-box;top: 0;bottom: 0;left: 50%;z-index: 0;}#sk-container-id-8 div.sk-serial {display: flex;flex-direction: column;align-items: center;background-color: white;padding-right: 0.2em;padding-left: 0.2em;position: relative;}#sk-container-id-8 div.sk-item {position: relative;z-index: 1;}#sk-container-id-8 div.sk-parallel {display: flex;align-items: stretch;justify-content: center;background-color: white;position: relative;}#sk-container-id-8 div.sk-item::before, #sk-container-id-8 div.sk-parallel-item::before {content: \"\";position: absolute;border-left: 1px solid gray;box-sizing: border-box;top: 0;bottom: 0;left: 50%;z-index: -1;}#sk-container-id-8 div.sk-parallel-item {display: flex;flex-direction: column;z-index: 1;position: relative;background-color: white;}#sk-container-id-8 div.sk-parallel-item:first-child::after {align-self: flex-end;width: 50%;}#sk-container-id-8 div.sk-parallel-item:last-child::after {align-self: flex-start;width: 50%;}#sk-container-id-8 div.sk-parallel-item:only-child::after {width: 0;}#sk-container-id-8 div.sk-dashed-wrapped {border: 1px dashed gray;margin: 0 0.4em 0.5em 0.4em;box-sizing: border-box;padding-bottom: 0.4em;background-color: white;}#sk-container-id-8 div.sk-label label {font-family: monospace;font-weight: bold;display: inline-block;line-height: 1.2em;}#sk-container-id-8 div.sk-label-container {text-align: center;}#sk-container-id-8 div.sk-container {/* jupyter's `normalize.less` sets `[hidden] { display: none; }` but bootstrap.min.css set `[hidden] { display: none !important; }` so we also need the `!important` here to be able to override the default hidden behavior on the sphinx rendered scikit-learn.org. See: https://github.com/scikit-learn/scikit-learn/issues/21755 */display: inline-block !important;position: relative;}#sk-container-id-8 div.sk-text-repr-fallback {display: none;}</style><div id=\"sk-container-id-8\" class=\"sk-top-container\"><div class=\"sk-text-repr-fallback\"><pre>Pipeline(steps=[(&#x27;randomforestclassifier&#x27;,\n",
              "                 RandomForestClassifier(bootstrap=False, criterion=&#x27;entropy&#x27;,\n",
              "                                        max_depth=20, max_features=&#x27;log2&#x27;,\n",
              "                                        min_samples_leaf=2,\n",
              "                                        n_estimators=200))])</pre><b>In a Jupyter environment, please rerun this cell to show the HTML representation or trust the notebook. <br />On GitHub, the HTML representation is unable to render, please try loading this page with nbviewer.org.</b></div><div class=\"sk-container\" hidden><div class=\"sk-item sk-dashed-wrapped\"><div class=\"sk-label-container\"><div class=\"sk-label sk-toggleable\"><input class=\"sk-toggleable__control sk-hidden--visually\" id=\"sk-estimator-id-21\" type=\"checkbox\" ><label for=\"sk-estimator-id-21\" class=\"sk-toggleable__label sk-toggleable__label-arrow\">Pipeline</label><div class=\"sk-toggleable__content\"><pre>Pipeline(steps=[(&#x27;randomforestclassifier&#x27;,\n",
              "                 RandomForestClassifier(bootstrap=False, criterion=&#x27;entropy&#x27;,\n",
              "                                        max_depth=20, max_features=&#x27;log2&#x27;,\n",
              "                                        min_samples_leaf=2,\n",
              "                                        n_estimators=200))])</pre></div></div></div><div class=\"sk-serial\"><div class=\"sk-item\"><div class=\"sk-estimator sk-toggleable\"><input class=\"sk-toggleable__control sk-hidden--visually\" id=\"sk-estimator-id-22\" type=\"checkbox\" ><label for=\"sk-estimator-id-22\" class=\"sk-toggleable__label sk-toggleable__label-arrow\">RandomForestClassifier</label><div class=\"sk-toggleable__content\"><pre>RandomForestClassifier(bootstrap=False, criterion=&#x27;entropy&#x27;, max_depth=20,\n",
              "                       max_features=&#x27;log2&#x27;, min_samples_leaf=2,\n",
              "                       n_estimators=200)</pre></div></div></div></div></div></div></div>"
            ]
          },
          "metadata": {},
          "execution_count": 71
        }
      ]
    },
    {
      "cell_type": "code",
      "source": [
        "rf_predictions = pipeline_rf_binary.predict(X_test)\n",
        "showResult(y_test, rf_predictions)"
      ],
      "metadata": {
        "colab": {
          "base_uri": "https://localhost:8080/",
          "height": 651
        },
        "id": "H2nVNxDU3SH2",
        "outputId": "c0226096-b3e8-463a-e92b-92b022e7cd48"
      },
      "execution_count": 72,
      "outputs": [
        {
          "output_type": "display_data",
          "data": {
            "text/plain": [
              "<Figure size 800x600 with 2 Axes>"
            ],
            "image/png": "[encoded data removed]"
          },
          "metadata": {}
        },
        {
          "output_type": "stream",
          "name": "stdout",
          "text": [
            "Accuracy: 0.7437\n",
            "F1 Score (Weighted): 0.8379\n",
            "F1 Score (Unweighted): 0.4734\n",
            "F2 Score (Weighted): 0.7725\n",
            "F2 Score (Unweighted): 0.4933\n"
          ]
        }
      ]
    },
    {
      "cell_type": "markdown",
      "source": [
        "Anomaly Model"
      ],
      "metadata": {
        "id": "j8Jdg0w4E7T6"
      }
    },
    {
      "cell_type": "code",
      "source": [
        "X_train_anomaly, y_train_anomaly = concatenate_class_datasets(datasets, [1,2,3], type='train')\n",
        "# X_test, y_test = concatenate_class_datasets(datasets, [1,2,3], type='test')\n",
        "y_train_anomaly = y_train_anomaly.map({1: 0, 2: 1, 3: 2}).fillna(y_train_anomaly)\n",
        "# y_test = y_test.map({1: 0, 2: 1, 3: 2}).fillna(y_test)"
      ],
      "metadata": {
        "id": "kaLcKP1PFNNO"
      },
      "execution_count": 42,
      "outputs": []
    },
    {
      "cell_type": "code",
      "source": [
        "from sklearn.ensemble import RandomForestClassifier\n",
        "from imblearn.over_sampling import RandomOverSampler\n",
        "from imblearn.pipeline import make_pipeline as make_pipeline_imb\n",
        "from sklearn.preprocessing import MinMaxScaler\n",
        "\n",
        "# Define the random forest classifier with the specified parameters\n",
        "xgb_params = {'subsample': 0.8, 'reg_lambda': 0.1, 'reg_alpha': 0.1, 'n_estimators': 350, 'min_child_weight': 1, 'max_depth': 4, 'learning_rate': 0.1, 'gamma': 0.1, 'colsample_bytree': 0.9, 'use_label_encoder':False}\n",
        "\n",
        "xgb_clf_anomaly = XGBClassifier(**xgb_params)\n",
        "\n",
        "pipeline_xgb_anomaly = make_pipeline_imb(\n",
        "    MinMaxScaler(),\n",
        "    xgb_clf_anomaly\n",
        ")\n",
        "\n",
        "pipeline_xgb_anomaly.fit(X_train_anomaly, y_train_anomaly)\n"
      ],
      "metadata": {
        "colab": {
          "base_uri": "https://localhost:8080/",
          "height": 126
        },
        "id": "MRkBlbWHE5i9",
        "outputId": "03e74487-1647-46b0-d99f-980c7f86cb4b"
      },
      "execution_count": 43,
      "outputs": [
        {
          "output_type": "execute_result",
          "data": {
            "text/plain": [
              "Pipeline(steps=[('minmaxscaler', MinMaxScaler()),\n",
              "                ('xgbclassifier',\n",
              "                 XGBClassifier(base_score=None, booster=None, callbacks=None,\n",
              "                               colsample_bylevel=None, colsample_bynode=None,\n",
              "                               colsample_bytree=0.9, device=None,\n",
              "                               early_stopping_rounds=None,\n",
              "                               enable_categorical=False, eval_metric=None,\n",
              "                               feature_types=None, gamma=0.1, grow_policy=None,\n",
              "                               importance_type=None,\n",
              "                               interaction_constraints=None, learning_rate=0.1,\n",
              "                               max_bin=None, max_cat_threshold=None,\n",
              "                               max_cat_to_onehot=None, max_delta_step=None,\n",
              "                               max_depth=4, max_leaves=None, min_child_weight=1,\n",
              "                               missing=nan, monotone_constraints=None,\n",
              "                               multi_strategy=None, n_estimators=350,\n",
              "                               n_jobs=None, num_parallel_tree=None,\n",
              "                               objective='multi:softprob', ...))])"
            ],
            "text/html": [
              "<style>#sk-container-id-1 {color: black;background-color: white;}#sk-container-id-1 pre{padding: 0;}#sk-container-id-1 div.sk-toggleable {background-color: white;}#sk-container-id-1 label.sk-toggleable__label {cursor: pointer;display: block;width: 100%;margin-bottom: 0;padding: 0.3em;box-sizing: border-box;text-align: center;}#sk-container-id-1 label.sk-toggleable__label-arrow:before {content: \"▸\";float: left;margin-right: 0.25em;color: #696969;}#sk-container-id-1 label.sk-toggleable__label-arrow:hover:before {color: black;}#sk-container-id-1 div.sk-estimator:hover label.sk-toggleable__label-arrow:before {color: black;}#sk-container-id-1 div.sk-toggleable__content {max-height: 0;max-width: 0;overflow: hidden;text-align: left;background-color: #f0f8ff;}#sk-container-id-1 div.sk-toggleable__content pre {margin: 0.2em;color: black;border-radius: 0.25em;background-color: #f0f8ff;}#sk-container-id-1 input.sk-toggleable__control:checked~div.sk-toggleable__content {max-height: 200px;max-width: 100%;overflow: auto;}#sk-container-id-1 input.sk-toggleable__control:checked~label.sk-toggleable__label-arrow:before {content: \"▾\";}#sk-container-id-1 div.sk-estimator input.sk-toggleable__control:checked~label.sk-toggleable__label {background-color: #d4ebff;}#sk-container-id-1 div.sk-label input.sk-toggleable__control:checked~label.sk-toggleable__label {background-color: #d4ebff;}#sk-container-id-1 input.sk-hidden--visually {border: 0;clip: rect(1px 1px 1px 1px);clip: rect(1px, 1px, 1px, 1px);height: 1px;margin: -1px;overflow: hidden;padding: 0;position: absolute;width: 1px;}#sk-container-id-1 div.sk-estimator {font-family: monospace;background-color: #f0f8ff;border: 1px dotted black;border-radius: 0.25em;box-sizing: border-box;margin-bottom: 0.5em;}#sk-container-id-1 div.sk-estimator:hover {background-color: #d4ebff;}#sk-container-id-1 div.sk-parallel-item::after {content: \"\";width: 100%;border-bottom: 1px solid gray;flex-grow: 1;}#sk-container-id-1 div.sk-label:hover label.sk-toggleable__label {background-color: #d4ebff;}#sk-container-id-1 div.sk-serial::before {content: \"\";position: absolute;border-left: 1px solid gray;box-sizing: border-box;top: 0;bottom: 0;left: 50%;z-index: 0;}#sk-container-id-1 div.sk-serial {display: flex;flex-direction: column;align-items: center;background-color: white;padding-right: 0.2em;padding-left: 0.2em;position: relative;}#sk-container-id-1 div.sk-item {position: relative;z-index: 1;}#sk-container-id-1 div.sk-parallel {display: flex;align-items: stretch;justify-content: center;background-color: white;position: relative;}#sk-container-id-1 div.sk-item::before, #sk-container-id-1 div.sk-parallel-item::before {content: \"\";position: absolute;border-left: 1px solid gray;box-sizing: border-box;top: 0;bottom: 0;left: 50%;z-index: -1;}#sk-container-id-1 div.sk-parallel-item {display: flex;flex-direction: column;z-index: 1;position: relative;background-color: white;}#sk-container-id-1 div.sk-parallel-item:first-child::after {align-self: flex-end;width: 50%;}#sk-container-id-1 div.sk-parallel-item:last-child::after {align-self: flex-start;width: 50%;}#sk-container-id-1 div.sk-parallel-item:only-child::after {width: 0;}#sk-container-id-1 div.sk-dashed-wrapped {border: 1px dashed gray;margin: 0 0.4em 0.5em 0.4em;box-sizing: border-box;padding-bottom: 0.4em;background-color: white;}#sk-container-id-1 div.sk-label label {font-family: monospace;font-weight: bold;display: inline-block;line-height: 1.2em;}#sk-container-id-1 div.sk-label-container {text-align: center;}#sk-container-id-1 div.sk-container {/* jupyter's `normalize.less` sets `[hidden] { display: none; }` but bootstrap.min.css set `[hidden] { display: none !important; }` so we also need the `!important` here to be able to override the default hidden behavior on the sphinx rendered scikit-learn.org. See: https://github.com/scikit-learn/scikit-learn/issues/21755 */display: inline-block !important;position: relative;}#sk-container-id-1 div.sk-text-repr-fallback {display: none;}</style><div id=\"sk-container-id-1\" class=\"sk-top-container\"><div class=\"sk-text-repr-fallback\"><pre>Pipeline(steps=[(&#x27;minmaxscaler&#x27;, MinMaxScaler()),\n",
              "                (&#x27;xgbclassifier&#x27;,\n",
              "                 XGBClassifier(base_score=None, booster=None, callbacks=None,\n",
              "                               colsample_bylevel=None, colsample_bynode=None,\n",
              "                               colsample_bytree=0.9, device=None,\n",
              "                               early_stopping_rounds=None,\n",
              "                               enable_categorical=False, eval_metric=None,\n",
              "                               feature_types=None, gamma=0.1, grow_policy=None,\n",
              "                               importance_type=None,\n",
              "                               interaction_constraints=None, learning_rate=0.1,\n",
              "                               max_bin=None, max_cat_threshold=None,\n",
              "                               max_cat_to_onehot=None, max_delta_step=None,\n",
              "                               max_depth=4, max_leaves=None, min_child_weight=1,\n",
              "                               missing=nan, monotone_constraints=None,\n",
              "                               multi_strategy=None, n_estimators=350,\n",
              "                               n_jobs=None, num_parallel_tree=None,\n",
              "                               objective=&#x27;multi:softprob&#x27;, ...))])</pre><b>In a Jupyter environment, please rerun this cell to show the HTML representation or trust the notebook. <br />On GitHub, the HTML representation is unable to render, please try loading this page with nbviewer.org.</b></div><div class=\"sk-container\" hidden><div class=\"sk-item sk-dashed-wrapped\"><div class=\"sk-label-container\"><div class=\"sk-label sk-toggleable\"><input class=\"sk-toggleable__control sk-hidden--visually\" id=\"sk-estimator-id-1\" type=\"checkbox\" ><label for=\"sk-estimator-id-1\" class=\"sk-toggleable__label sk-toggleable__label-arrow\">Pipeline</label><div class=\"sk-toggleable__content\"><pre>Pipeline(steps=[(&#x27;minmaxscaler&#x27;, MinMaxScaler()),\n",
              "                (&#x27;xgbclassifier&#x27;,\n",
              "                 XGBClassifier(base_score=None, booster=None, callbacks=None,\n",
              "                               colsample_bylevel=None, colsample_bynode=None,\n",
              "                               colsample_bytree=0.9, device=None,\n",
              "                               early_stopping_rounds=None,\n",
              "                               enable_categorical=False, eval_metric=None,\n",
              "                               feature_types=None, gamma=0.1, grow_policy=None,\n",
              "                               importance_type=None,\n",
              "                               interaction_constraints=None, learning_rate=0.1,\n",
              "                               max_bin=None, max_cat_threshold=None,\n",
              "                               max_cat_to_onehot=None, max_delta_step=None,\n",
              "                               max_depth=4, max_leaves=None, min_child_weight=1,\n",
              "                               missing=nan, monotone_constraints=None,\n",
              "                               multi_strategy=None, n_estimators=350,\n",
              "                               n_jobs=None, num_parallel_tree=None,\n",
              "                               objective=&#x27;multi:softprob&#x27;, ...))])</pre></div></div></div><div class=\"sk-serial\"><div class=\"sk-item\"><div class=\"sk-estimator sk-toggleable\"><input class=\"sk-toggleable__control sk-hidden--visually\" id=\"sk-estimator-id-2\" type=\"checkbox\" ><label for=\"sk-estimator-id-2\" class=\"sk-toggleable__label sk-toggleable__label-arrow\">MinMaxScaler</label><div class=\"sk-toggleable__content\"><pre>MinMaxScaler()</pre></div></div></div><div class=\"sk-item\"><div class=\"sk-estimator sk-toggleable\"><input class=\"sk-toggleable__control sk-hidden--visually\" id=\"sk-estimator-id-3\" type=\"checkbox\" ><label for=\"sk-estimator-id-3\" class=\"sk-toggleable__label sk-toggleable__label-arrow\">XGBClassifier</label><div class=\"sk-toggleable__content\"><pre>XGBClassifier(base_score=None, booster=None, callbacks=None,\n",
              "              colsample_bylevel=None, colsample_bynode=None,\n",
              "              colsample_bytree=0.9, device=None, early_stopping_rounds=None,\n",
              "              enable_categorical=False, eval_metric=None, feature_types=None,\n",
              "              gamma=0.1, grow_policy=None, importance_type=None,\n",
              "              interaction_constraints=None, learning_rate=0.1, max_bin=None,\n",
              "              max_cat_threshold=None, max_cat_to_onehot=None,\n",
              "              max_delta_step=None, max_depth=4, max_leaves=None,\n",
              "              min_child_weight=1, missing=nan, monotone_constraints=None,\n",
              "              multi_strategy=None, n_estimators=350, n_jobs=None,\n",
              "              num_parallel_tree=None, objective=&#x27;multi:softprob&#x27;, ...)</pre></div></div></div></div></div></div></div>"
            ]
          },
          "metadata": {},
          "execution_count": 43
        }
      ]
    },
    {
      "cell_type": "markdown",
      "source": [
        "Normal vs Class 1"
      ],
      "metadata": {
        "id": "FSG1Cdo2E_ak"
      }
    },
    {
      "cell_type": "code",
      "source": [
        "X_train_1, y_train_1 = concatenate_class_datasets(datasets, [0,1], type='train')\n",
        "# X_test_1, y_test_1 = concatenate_class_datasets(datasets, [0,1], type='test')\n",
        "y_train_1 = y_train_1.apply(lambda x: 1 if x in [1, 2, 3] else 0)\n",
        "# y_test_1 = y_test_1.apply(lambda x: 1 if x in [1, 2, 3] else 0)"
      ],
      "metadata": {
        "id": "LWRUhlMaFNk5"
      },
      "execution_count": 44,
      "outputs": []
    },
    {
      "cell_type": "code",
      "source": [
        "from sklearn.ensemble import RandomForestClassifier\n",
        "\n",
        "# Define the random forest classifier with the specified parameters\n",
        "rf_params = {\n",
        "    'n_estimators': 300,\n",
        "    'min_samples_split': 2,\n",
        "    'min_samples_leaf': 4,\n",
        "    'max_features': 'sqrt',\n",
        "    'max_depth': 13,\n",
        "    'criterion': 'entropy',\n",
        "    'bootstrap': True\n",
        "}\n",
        "\n",
        "rf_model = RandomForestClassifier(**rf_params)\n",
        "\n",
        "pipeline_rf_1 = make_pipeline_imb(\n",
        "    RandomOverSampler(random_state=42),\n",
        "    rf_model\n",
        ")\n",
        "\n",
        "pipeline_rf_1.fit(X_train_1, y_train_1)\n",
        "\n",
        "# # Make predictions\n",
        "# rf_predictions = pipeline_rf_up_1.predict(X_test_1)\n",
        "\n",
        "# # Show results\n",
        "# showResult(y_test_1, rf_predictions)\n"
      ],
      "metadata": {
        "colab": {
          "base_uri": "https://localhost:8080/",
          "height": 126
        },
        "id": "REvuzQeYFDjV",
        "outputId": "6f32449e-6a47-450d-b371-a08f795b5f12"
      },
      "execution_count": 45,
      "outputs": [
        {
          "output_type": "execute_result",
          "data": {
            "text/plain": [
              "Pipeline(steps=[('randomoversampler', RandomOverSampler(random_state=42)),\n",
              "                ('randomforestclassifier',\n",
              "                 RandomForestClassifier(criterion='entropy', max_depth=13,\n",
              "                                        min_samples_leaf=4,\n",
              "                                        n_estimators=300))])"
            ],
            "text/html": [
              "<style>#sk-container-id-2 {color: black;background-color: white;}#sk-container-id-2 pre{padding: 0;}#sk-container-id-2 div.sk-toggleable {background-color: white;}#sk-container-id-2 label.sk-toggleable__label {cursor: pointer;display: block;width: 100%;margin-bottom: 0;padding: 0.3em;box-sizing: border-box;text-align: center;}#sk-container-id-2 label.sk-toggleable__label-arrow:before {content: \"▸\";float: left;margin-right: 0.25em;color: #696969;}#sk-container-id-2 label.sk-toggleable__label-arrow:hover:before {color: black;}#sk-container-id-2 div.sk-estimator:hover label.sk-toggleable__label-arrow:before {color: black;}#sk-container-id-2 div.sk-toggleable__content {max-height: 0;max-width: 0;overflow: hidden;text-align: left;background-color: #f0f8ff;}#sk-container-id-2 div.sk-toggleable__content pre {margin: 0.2em;color: black;border-radius: 0.25em;background-color: #f0f8ff;}#sk-container-id-2 input.sk-toggleable__control:checked~div.sk-toggleable__content {max-height: 200px;max-width: 100%;overflow: auto;}#sk-container-id-2 input.sk-toggleable__control:checked~label.sk-toggleable__label-arrow:before {content: \"▾\";}#sk-container-id-2 div.sk-estimator input.sk-toggleable__control:checked~label.sk-toggleable__label {background-color: #d4ebff;}#sk-container-id-2 div.sk-label input.sk-toggleable__control:checked~label.sk-toggleable__label {background-color: #d4ebff;}#sk-container-id-2 input.sk-hidden--visually {border: 0;clip: rect(1px 1px 1px 1px);clip: rect(1px, 1px, 1px, 1px);height: 1px;margin: -1px;overflow: hidden;padding: 0;position: absolute;width: 1px;}#sk-container-id-2 div.sk-estimator {font-family: monospace;background-color: #f0f8ff;border: 1px dotted black;border-radius: 0.25em;box-sizing: border-box;margin-bottom: 0.5em;}#sk-container-id-2 div.sk-estimator:hover {background-color: #d4ebff;}#sk-container-id-2 div.sk-parallel-item::after {content: \"\";width: 100%;border-bottom: 1px solid gray;flex-grow: 1;}#sk-container-id-2 div.sk-label:hover label.sk-toggleable__label {background-color: #d4ebff;}#sk-container-id-2 div.sk-serial::before {content: \"\";position: absolute;border-left: 1px solid gray;box-sizing: border-box;top: 0;bottom: 0;left: 50%;z-index: 0;}#sk-container-id-2 div.sk-serial {display: flex;flex-direction: column;align-items: center;background-color: white;padding-right: 0.2em;padding-left: 0.2em;position: relative;}#sk-container-id-2 div.sk-item {position: relative;z-index: 1;}#sk-container-id-2 div.sk-parallel {display: flex;align-items: stretch;justify-content: center;background-color: white;position: relative;}#sk-container-id-2 div.sk-item::before, #sk-container-id-2 div.sk-parallel-item::before {content: \"\";position: absolute;border-left: 1px solid gray;box-sizing: border-box;top: 0;bottom: 0;left: 50%;z-index: -1;}#sk-container-id-2 div.sk-parallel-item {display: flex;flex-direction: column;z-index: 1;position: relative;background-color: white;}#sk-container-id-2 div.sk-parallel-item:first-child::after {align-self: flex-end;width: 50%;}#sk-container-id-2 div.sk-parallel-item:last-child::after {align-self: flex-start;width: 50%;}#sk-container-id-2 div.sk-parallel-item:only-child::after {width: 0;}#sk-container-id-2 div.sk-dashed-wrapped {border: 1px dashed gray;margin: 0 0.4em 0.5em 0.4em;box-sizing: border-box;padding-bottom: 0.4em;background-color: white;}#sk-container-id-2 div.sk-label label {font-family: monospace;font-weight: bold;display: inline-block;line-height: 1.2em;}#sk-container-id-2 div.sk-label-container {text-align: center;}#sk-container-id-2 div.sk-container {/* jupyter's `normalize.less` sets `[hidden] { display: none; }` but bootstrap.min.css set `[hidden] { display: none !important; }` so we also need the `!important` here to be able to override the default hidden behavior on the sphinx rendered scikit-learn.org. See: https://github.com/scikit-learn/scikit-learn/issues/21755 */display: inline-block !important;position: relative;}#sk-container-id-2 div.sk-text-repr-fallback {display: none;}</style><div id=\"sk-container-id-2\" class=\"sk-top-container\"><div class=\"sk-text-repr-fallback\"><pre>Pipeline(steps=[(&#x27;randomoversampler&#x27;, RandomOverSampler(random_state=42)),\n",
              "                (&#x27;randomforestclassifier&#x27;,\n",
              "                 RandomForestClassifier(criterion=&#x27;entropy&#x27;, max_depth=13,\n",
              "                                        min_samples_leaf=4,\n",
              "                                        n_estimators=300))])</pre><b>In a Jupyter environment, please rerun this cell to show the HTML representation or trust the notebook. <br />On GitHub, the HTML representation is unable to render, please try loading this page with nbviewer.org.</b></div><div class=\"sk-container\" hidden><div class=\"sk-item sk-dashed-wrapped\"><div class=\"sk-label-container\"><div class=\"sk-label sk-toggleable\"><input class=\"sk-toggleable__control sk-hidden--visually\" id=\"sk-estimator-id-4\" type=\"checkbox\" ><label for=\"sk-estimator-id-4\" class=\"sk-toggleable__label sk-toggleable__label-arrow\">Pipeline</label><div class=\"sk-toggleable__content\"><pre>Pipeline(steps=[(&#x27;randomoversampler&#x27;, RandomOverSampler(random_state=42)),\n",
              "                (&#x27;randomforestclassifier&#x27;,\n",
              "                 RandomForestClassifier(criterion=&#x27;entropy&#x27;, max_depth=13,\n",
              "                                        min_samples_leaf=4,\n",
              "                                        n_estimators=300))])</pre></div></div></div><div class=\"sk-serial\"><div class=\"sk-item\"><div class=\"sk-estimator sk-toggleable\"><input class=\"sk-toggleable__control sk-hidden--visually\" id=\"sk-estimator-id-5\" type=\"checkbox\" ><label for=\"sk-estimator-id-5\" class=\"sk-toggleable__label sk-toggleable__label-arrow\">RandomOverSampler</label><div class=\"sk-toggleable__content\"><pre>RandomOverSampler(random_state=42)</pre></div></div></div><div class=\"sk-item\"><div class=\"sk-estimator sk-toggleable\"><input class=\"sk-toggleable__control sk-hidden--visually\" id=\"sk-estimator-id-6\" type=\"checkbox\" ><label for=\"sk-estimator-id-6\" class=\"sk-toggleable__label sk-toggleable__label-arrow\">RandomForestClassifier</label><div class=\"sk-toggleable__content\"><pre>RandomForestClassifier(criterion=&#x27;entropy&#x27;, max_depth=13, min_samples_leaf=4,\n",
              "                       n_estimators=300)</pre></div></div></div></div></div></div></div>"
            ]
          },
          "metadata": {},
          "execution_count": 45
        }
      ]
    },
    {
      "cell_type": "markdown",
      "source": [
        "Normal vs Class 2"
      ],
      "metadata": {
        "id": "28RYOd6zFB6c"
      }
    },
    {
      "cell_type": "code",
      "source": [
        "X_train_2, y_train_2 = concatenate_class_datasets(datasets, [0,2], type='train')\n",
        "# X_test_2, y_test_2 = concatenate_class_datasets(datasets, [0,2], type='test')\n",
        "y_train_2 = y_train_2.apply(lambda x: 1 if x in [1, 2, 3] else 0)\n",
        "# y_test_2 = y_test_2.apply(lambda x: 1 if x in [1, 2, 3] else 0)"
      ],
      "metadata": {
        "id": "m6gvdx4bFN_u"
      },
      "execution_count": 46,
      "outputs": []
    },
    {
      "cell_type": "code",
      "source": [
        "from sklearn.ensemble import RandomForestClassifier\n",
        "\n",
        "# Define the random forest classifier with the specified parameters\n",
        "rf_params = {\n",
        "    'n_estimators': 300,\n",
        "    'min_samples_split': 2,\n",
        "    'min_samples_leaf': 4,\n",
        "    'max_features': 'sqrt',\n",
        "    'max_depth': 13,\n",
        "    'criterion': 'entropy',\n",
        "    'bootstrap': True\n",
        "}\n",
        "\n",
        "rf_model = RandomForestClassifier(**rf_params)\n",
        "\n",
        "pipeline_rf_2 = make_pipeline_imb(\n",
        "    RandomOverSampler(random_state=42),\n",
        "    rf_model\n",
        ")\n",
        "\n",
        "pipeline_rf_2.fit(X_train_2, y_train_2)\n",
        "\n",
        "# # Make predictions\n",
        "# rf_predictions = pipeline_rf_up_2.predict(X_test_2)\n",
        "\n",
        "# # Show results\n",
        "# showResult(y_test_2, rf_predictions)\n"
      ],
      "metadata": {
        "colab": {
          "base_uri": "https://localhost:8080/",
          "height": 126
        },
        "id": "EOAIDUsoFEBB",
        "outputId": "d55d0698-aadb-47b9-cfd6-9425a1ac7d71"
      },
      "execution_count": 47,
      "outputs": [
        {
          "output_type": "execute_result",
          "data": {
            "text/plain": [
              "Pipeline(steps=[('randomoversampler', RandomOverSampler(random_state=42)),\n",
              "                ('randomforestclassifier',\n",
              "                 RandomForestClassifier(criterion='entropy', max_depth=13,\n",
              "                                        min_samples_leaf=4,\n",
              "                                        n_estimators=300))])"
            ],
            "text/html": [
              "<style>#sk-container-id-3 {color: black;background-color: white;}#sk-container-id-3 pre{padding: 0;}#sk-container-id-3 div.sk-toggleable {background-color: white;}#sk-container-id-3 label.sk-toggleable__label {cursor: pointer;display: block;width: 100%;margin-bottom: 0;padding: 0.3em;box-sizing: border-box;text-align: center;}#sk-container-id-3 label.sk-toggleable__label-arrow:before {content: \"▸\";float: left;margin-right: 0.25em;color: #696969;}#sk-container-id-3 label.sk-toggleable__label-arrow:hover:before {color: black;}#sk-container-id-3 div.sk-estimator:hover label.sk-toggleable__label-arrow:before {color: black;}#sk-container-id-3 div.sk-toggleable__content {max-height: 0;max-width: 0;overflow: hidden;text-align: left;background-color: #f0f8ff;}#sk-container-id-3 div.sk-toggleable__content pre {margin: 0.2em;color: black;border-radius: 0.25em;background-color: #f0f8ff;}#sk-container-id-3 input.sk-toggleable__control:checked~div.sk-toggleable__content {max-height: 200px;max-width: 100%;overflow: auto;}#sk-container-id-3 input.sk-toggleable__control:checked~label.sk-toggleable__label-arrow:before {content: \"▾\";}#sk-container-id-3 div.sk-estimator input.sk-toggleable__control:checked~label.sk-toggleable__label {background-color: #d4ebff;}#sk-container-id-3 div.sk-label input.sk-toggleable__control:checked~label.sk-toggleable__label {background-color: #d4ebff;}#sk-container-id-3 input.sk-hidden--visually {border: 0;clip: rect(1px 1px 1px 1px);clip: rect(1px, 1px, 1px, 1px);height: 1px;margin: -1px;overflow: hidden;padding: 0;position: absolute;width: 1px;}#sk-container-id-3 div.sk-estimator {font-family: monospace;background-color: #f0f8ff;border: 1px dotted black;border-radius: 0.25em;box-sizing: border-box;margin-bottom: 0.5em;}#sk-container-id-3 div.sk-estimator:hover {background-color: #d4ebff;}#sk-container-id-3 div.sk-parallel-item::after {content: \"\";width: 100%;border-bottom: 1px solid gray;flex-grow: 1;}#sk-container-id-3 div.sk-label:hover label.sk-toggleable__label {background-color: #d4ebff;}#sk-container-id-3 div.sk-serial::before {content: \"\";position: absolute;border-left: 1px solid gray;box-sizing: border-box;top: 0;bottom: 0;left: 50%;z-index: 0;}#sk-container-id-3 div.sk-serial {display: flex;flex-direction: column;align-items: center;background-color: white;padding-right: 0.2em;padding-left: 0.2em;position: relative;}#sk-container-id-3 div.sk-item {position: relative;z-index: 1;}#sk-container-id-3 div.sk-parallel {display: flex;align-items: stretch;justify-content: center;background-color: white;position: relative;}#sk-container-id-3 div.sk-item::before, #sk-container-id-3 div.sk-parallel-item::before {content: \"\";position: absolute;border-left: 1px solid gray;box-sizing: border-box;top: 0;bottom: 0;left: 50%;z-index: -1;}#sk-container-id-3 div.sk-parallel-item {display: flex;flex-direction: column;z-index: 1;position: relative;background-color: white;}#sk-container-id-3 div.sk-parallel-item:first-child::after {align-self: flex-end;width: 50%;}#sk-container-id-3 div.sk-parallel-item:last-child::after {align-self: flex-start;width: 50%;}#sk-container-id-3 div.sk-parallel-item:only-child::after {width: 0;}#sk-container-id-3 div.sk-dashed-wrapped {border: 1px dashed gray;margin: 0 0.4em 0.5em 0.4em;box-sizing: border-box;padding-bottom: 0.4em;background-color: white;}#sk-container-id-3 div.sk-label label {font-family: monospace;font-weight: bold;display: inline-block;line-height: 1.2em;}#sk-container-id-3 div.sk-label-container {text-align: center;}#sk-container-id-3 div.sk-container {/* jupyter's `normalize.less` sets `[hidden] { display: none; }` but bootstrap.min.css set `[hidden] { display: none !important; }` so we also need the `!important` here to be able to override the default hidden behavior on the sphinx rendered scikit-learn.org. See: https://github.com/scikit-learn/scikit-learn/issues/21755 */display: inline-block !important;position: relative;}#sk-container-id-3 div.sk-text-repr-fallback {display: none;}</style><div id=\"sk-container-id-3\" class=\"sk-top-container\"><div class=\"sk-text-repr-fallback\"><pre>Pipeline(steps=[(&#x27;randomoversampler&#x27;, RandomOverSampler(random_state=42)),\n",
              "                (&#x27;randomforestclassifier&#x27;,\n",
              "                 RandomForestClassifier(criterion=&#x27;entropy&#x27;, max_depth=13,\n",
              "                                        min_samples_leaf=4,\n",
              "                                        n_estimators=300))])</pre><b>In a Jupyter environment, please rerun this cell to show the HTML representation or trust the notebook. <br />On GitHub, the HTML representation is unable to render, please try loading this page with nbviewer.org.</b></div><div class=\"sk-container\" hidden><div class=\"sk-item sk-dashed-wrapped\"><div class=\"sk-label-container\"><div class=\"sk-label sk-toggleable\"><input class=\"sk-toggleable__control sk-hidden--visually\" id=\"sk-estimator-id-7\" type=\"checkbox\" ><label for=\"sk-estimator-id-7\" class=\"sk-toggleable__label sk-toggleable__label-arrow\">Pipeline</label><div class=\"sk-toggleable__content\"><pre>Pipeline(steps=[(&#x27;randomoversampler&#x27;, RandomOverSampler(random_state=42)),\n",
              "                (&#x27;randomforestclassifier&#x27;,\n",
              "                 RandomForestClassifier(criterion=&#x27;entropy&#x27;, max_depth=13,\n",
              "                                        min_samples_leaf=4,\n",
              "                                        n_estimators=300))])</pre></div></div></div><div class=\"sk-serial\"><div class=\"sk-item\"><div class=\"sk-estimator sk-toggleable\"><input class=\"sk-toggleable__control sk-hidden--visually\" id=\"sk-estimator-id-8\" type=\"checkbox\" ><label for=\"sk-estimator-id-8\" class=\"sk-toggleable__label sk-toggleable__label-arrow\">RandomOverSampler</label><div class=\"sk-toggleable__content\"><pre>RandomOverSampler(random_state=42)</pre></div></div></div><div class=\"sk-item\"><div class=\"sk-estimator sk-toggleable\"><input class=\"sk-toggleable__control sk-hidden--visually\" id=\"sk-estimator-id-9\" type=\"checkbox\" ><label for=\"sk-estimator-id-9\" class=\"sk-toggleable__label sk-toggleable__label-arrow\">RandomForestClassifier</label><div class=\"sk-toggleable__content\"><pre>RandomForestClassifier(criterion=&#x27;entropy&#x27;, max_depth=13, min_samples_leaf=4,\n",
              "                       n_estimators=300)</pre></div></div></div></div></div></div></div>"
            ]
          },
          "metadata": {},
          "execution_count": 47
        }
      ]
    },
    {
      "cell_type": "markdown",
      "source": [
        "Normal vs Class 3"
      ],
      "metadata": {
        "id": "yVUsRaRcFCh_"
      }
    },
    {
      "cell_type": "code",
      "source": [
        "X_train_3, y_train_3 = concatenate_class_datasets(datasets, [0,3], type='train')\n",
        "# X_test_3, y_test_3 = concatenate_class_datasets(datasets, [0,3], type='test')\n",
        "y_train_3 = y_train_3.apply(lambda x: 1 if x in [1, 2, 3] else 0)\n",
        "# y_test_3 = y_test_3.apply(lambda x: 1 if x in [1, 2, 3] else 0)"
      ],
      "metadata": {
        "id": "MRAtb8b4FOcF"
      },
      "execution_count": 48,
      "outputs": []
    },
    {
      "cell_type": "code",
      "source": [
        "from sklearn.ensemble import RandomForestClassifier\n",
        "\n",
        "# Define the random forest classifier with the specified parameters\n",
        "rf_params = {\n",
        "    'n_estimators': 300,\n",
        "    'min_samples_split': 2,\n",
        "    'min_samples_leaf': 4,\n",
        "    'max_features': 'sqrt',\n",
        "    'max_depth': 13,\n",
        "    'criterion': 'entropy',\n",
        "    'bootstrap': True\n",
        "}\n",
        "\n",
        "rf_model = RandomForestClassifier(**rf_params)\n",
        "\n",
        "pipeline_rf_3 = make_pipeline_imb(\n",
        "    RandomOverSampler(random_state=42),\n",
        "    rf_model\n",
        ")\n",
        "\n",
        "pipeline_rf_3.fit(X_train_3, y_train_3)\n",
        "\n",
        "# # Make predictions\n",
        "# rf_predictions = pipeline_rf_up_3.predict(X_test_3)\n",
        "\n",
        "# # Show results\n",
        "# showResult(y_test_3, rf_predictions)\n"
      ],
      "metadata": {
        "colab": {
          "base_uri": "https://localhost:8080/",
          "height": 126
        },
        "id": "a7xp18NuFElT",
        "outputId": "97f060f3-9996-47a5-c337-8ffbdccb999f"
      },
      "execution_count": 49,
      "outputs": [
        {
          "output_type": "execute_result",
          "data": {
            "text/plain": [
              "Pipeline(steps=[('randomoversampler', RandomOverSampler(random_state=42)),\n",
              "                ('randomforestclassifier',\n",
              "                 RandomForestClassifier(criterion='entropy', max_depth=13,\n",
              "                                        min_samples_leaf=4,\n",
              "                                        n_estimators=300))])"
            ],
            "text/html": [
              "<style>#sk-container-id-4 {color: black;background-color: white;}#sk-container-id-4 pre{padding: 0;}#sk-container-id-4 div.sk-toggleable {background-color: white;}#sk-container-id-4 label.sk-toggleable__label {cursor: pointer;display: block;width: 100%;margin-bottom: 0;padding: 0.3em;box-sizing: border-box;text-align: center;}#sk-container-id-4 label.sk-toggleable__label-arrow:before {content: \"▸\";float: left;margin-right: 0.25em;color: #696969;}#sk-container-id-4 label.sk-toggleable__label-arrow:hover:before {color: black;}#sk-container-id-4 div.sk-estimator:hover label.sk-toggleable__label-arrow:before {color: black;}#sk-container-id-4 div.sk-toggleable__content {max-height: 0;max-width: 0;overflow: hidden;text-align: left;background-color: #f0f8ff;}#sk-container-id-4 div.sk-toggleable__content pre {margin: 0.2em;color: black;border-radius: 0.25em;background-color: #f0f8ff;}#sk-container-id-4 input.sk-toggleable__control:checked~div.sk-toggleable__content {max-height: 200px;max-width: 100%;overflow: auto;}#sk-container-id-4 input.sk-toggleable__control:checked~label.sk-toggleable__label-arrow:before {content: \"▾\";}#sk-container-id-4 div.sk-estimator input.sk-toggleable__control:checked~label.sk-toggleable__label {background-color: #d4ebff;}#sk-container-id-4 div.sk-label input.sk-toggleable__control:checked~label.sk-toggleable__label {background-color: #d4ebff;}#sk-container-id-4 input.sk-hidden--visually {border: 0;clip: rect(1px 1px 1px 1px);clip: rect(1px, 1px, 1px, 1px);height: 1px;margin: -1px;overflow: hidden;padding: 0;position: absolute;width: 1px;}#sk-container-id-4 div.sk-estimator {font-family: monospace;background-color: #f0f8ff;border: 1px dotted black;border-radius: 0.25em;box-sizing: border-box;margin-bottom: 0.5em;}#sk-container-id-4 div.sk-estimator:hover {background-color: #d4ebff;}#sk-container-id-4 div.sk-parallel-item::after {content: \"\";width: 100%;border-bottom: 1px solid gray;flex-grow: 1;}#sk-container-id-4 div.sk-label:hover label.sk-toggleable__label {background-color: #d4ebff;}#sk-container-id-4 div.sk-serial::before {content: \"\";position: absolute;border-left: 1px solid gray;box-sizing: border-box;top: 0;bottom: 0;left: 50%;z-index: 0;}#sk-container-id-4 div.sk-serial {display: flex;flex-direction: column;align-items: center;background-color: white;padding-right: 0.2em;padding-left: 0.2em;position: relative;}#sk-container-id-4 div.sk-item {position: relative;z-index: 1;}#sk-container-id-4 div.sk-parallel {display: flex;align-items: stretch;justify-content: center;background-color: white;position: relative;}#sk-container-id-4 div.sk-item::before, #sk-container-id-4 div.sk-parallel-item::before {content: \"\";position: absolute;border-left: 1px solid gray;box-sizing: border-box;top: 0;bottom: 0;left: 50%;z-index: -1;}#sk-container-id-4 div.sk-parallel-item {display: flex;flex-direction: column;z-index: 1;position: relative;background-color: white;}#sk-container-id-4 div.sk-parallel-item:first-child::after {align-self: flex-end;width: 50%;}#sk-container-id-4 div.sk-parallel-item:last-child::after {align-self: flex-start;width: 50%;}#sk-container-id-4 div.sk-parallel-item:only-child::after {width: 0;}#sk-container-id-4 div.sk-dashed-wrapped {border: 1px dashed gray;margin: 0 0.4em 0.5em 0.4em;box-sizing: border-box;padding-bottom: 0.4em;background-color: white;}#sk-container-id-4 div.sk-label label {font-family: monospace;font-weight: bold;display: inline-block;line-height: 1.2em;}#sk-container-id-4 div.sk-label-container {text-align: center;}#sk-container-id-4 div.sk-container {/* jupyter's `normalize.less` sets `[hidden] { display: none; }` but bootstrap.min.css set `[hidden] { display: none !important; }` so we also need the `!important` here to be able to override the default hidden behavior on the sphinx rendered scikit-learn.org. See: https://github.com/scikit-learn/scikit-learn/issues/21755 */display: inline-block !important;position: relative;}#sk-container-id-4 div.sk-text-repr-fallback {display: none;}</style><div id=\"sk-container-id-4\" class=\"sk-top-container\"><div class=\"sk-text-repr-fallback\"><pre>Pipeline(steps=[(&#x27;randomoversampler&#x27;, RandomOverSampler(random_state=42)),\n",
              "                (&#x27;randomforestclassifier&#x27;,\n",
              "                 RandomForestClassifier(criterion=&#x27;entropy&#x27;, max_depth=13,\n",
              "                                        min_samples_leaf=4,\n",
              "                                        n_estimators=300))])</pre><b>In a Jupyter environment, please rerun this cell to show the HTML representation or trust the notebook. <br />On GitHub, the HTML representation is unable to render, please try loading this page with nbviewer.org.</b></div><div class=\"sk-container\" hidden><div class=\"sk-item sk-dashed-wrapped\"><div class=\"sk-label-container\"><div class=\"sk-label sk-toggleable\"><input class=\"sk-toggleable__control sk-hidden--visually\" id=\"sk-estimator-id-10\" type=\"checkbox\" ><label for=\"sk-estimator-id-10\" class=\"sk-toggleable__label sk-toggleable__label-arrow\">Pipeline</label><div class=\"sk-toggleable__content\"><pre>Pipeline(steps=[(&#x27;randomoversampler&#x27;, RandomOverSampler(random_state=42)),\n",
              "                (&#x27;randomforestclassifier&#x27;,\n",
              "                 RandomForestClassifier(criterion=&#x27;entropy&#x27;, max_depth=13,\n",
              "                                        min_samples_leaf=4,\n",
              "                                        n_estimators=300))])</pre></div></div></div><div class=\"sk-serial\"><div class=\"sk-item\"><div class=\"sk-estimator sk-toggleable\"><input class=\"sk-toggleable__control sk-hidden--visually\" id=\"sk-estimator-id-11\" type=\"checkbox\" ><label for=\"sk-estimator-id-11\" class=\"sk-toggleable__label sk-toggleable__label-arrow\">RandomOverSampler</label><div class=\"sk-toggleable__content\"><pre>RandomOverSampler(random_state=42)</pre></div></div></div><div class=\"sk-item\"><div class=\"sk-estimator sk-toggleable\"><input class=\"sk-toggleable__control sk-hidden--visually\" id=\"sk-estimator-id-12\" type=\"checkbox\" ><label for=\"sk-estimator-id-12\" class=\"sk-toggleable__label sk-toggleable__label-arrow\">RandomForestClassifier</label><div class=\"sk-toggleable__content\"><pre>RandomForestClassifier(criterion=&#x27;entropy&#x27;, max_depth=13, min_samples_leaf=4,\n",
              "                       n_estimators=300)</pre></div></div></div></div></div></div></div>"
            ]
          },
          "metadata": {},
          "execution_count": 49
        }
      ]
    },
    {
      "cell_type": "markdown",
      "source": [
        "Test"
      ],
      "metadata": {
        "id": "4UjIIGBEFFBE"
      }
    },
    {
      "cell_type": "code",
      "source": [
        "X_test, y_test = concatenate_class_datasets(datasets, [0,1,2,3], type='test')"
      ],
      "metadata": {
        "id": "9HXdx_Sogx85"
      },
      "execution_count": 73,
      "outputs": []
    },
    {
      "cell_type": "code",
      "source": [
        "import numpy as np\n",
        "from sklearn.ensemble import RandomForestClassifier\n",
        "from joblib import load\n",
        "\n",
        "# Assuming you have loaded your test dataset as X_test\n",
        "# X_test = ...\n",
        "\n",
        "# Load your trained models\n",
        "# binary_classifier = load('binary_classifier.joblib')\n",
        "# abnormal_class_type_classifier = load('abnormal_class_type_classifier.joblib')\n",
        "# normal_vs_abnormal_type1_classifier = load('normal_vs_abnormal_type1_classifier.joblib')\n",
        "# normal_vs_abnormal_type2_classifier = load('normal_vs_abnormal_type2_classifier.joblib')\n",
        "# normal_vs_abnormal_type3_classifier = load('normal_vs_abnormal_type3_classifier.joblib')\n",
        "\n",
        "binary_classifier = pipeline_rf_binary\n",
        "abnormal_class_type_classifier = pipeline_xgb_anomaly\n",
        "normal_vs_abnormal_type1_classifier = pipeline_rf_1\n",
        "normal_vs_abnormal_type2_classifier = pipeline_rf_2\n",
        "normal_vs_abnormal_type3_classifier = pipeline_rf_3\n",
        "\n",
        "# Step 1: Binary Classification\n",
        "binary_predictions = binary_classifier.predict(X_test)\n",
        "\n",
        "# Identify indices for further analysis\n",
        "indices_for_further_analysis = np.where(binary_predictions == 1)[0]\n",
        "\n",
        "# Step 2: Abnormal Class Type Classification\n",
        "abnormal_class_predictions = np.empty_like(binary_predictions)\n",
        "# Only predict for those identified as abnormal in step 1\n",
        "abnormal_class_predictions[indices_for_further_analysis] = abnormal_class_type_classifier.predict(X_test.iloc[indices_for_further_analysis])\n",
        "\n",
        "# Step 3: Refinement with Specific Binary Classifiers\n",
        "# Create a final predictions array\n",
        "final_predictions = binary_predictions.copy()\n",
        "\n",
        "# For each abnormal class, check with the specific binary classifier and adjust final predictions\n",
        "# for idx in indices_for_further_analysis:\n",
        "#     # Correctly select a single row as a DataFrame slice for prediction\n",
        "#     sample = X_test.iloc[[idx]]\n",
        "\n",
        "#     # Predict and compare the result correctly\n",
        "#     if abnormal_class_predictions[idx] == 0:\n",
        "#         prediction = normal_vs_abnormal_type1_classifier.predict(sample)\n",
        "#         # Ensure comparison is made against the first element of the prediction array\n",
        "#         final_predictions[idx] = 1 if prediction[0] == 1 else 0\n",
        "#     elif abnormal_class_predictions[idx] == 1:\n",
        "#         prediction = normal_vs_abnormal_type2_classifier.predict(sample)\n",
        "#         final_predictions[idx] = 2 if prediction[0] == 1 else 0\n",
        "#     elif abnormal_class_predictions[idx] == 2:\n",
        "#         prediction = normal_vs_abnormal_type3_classifier.predict(sample)\n",
        "#         final_predictions[idx] = 3 if prediction[0] == 1 else 0\n",
        "\n",
        "# for idx in indices_for_further_analysis:\n",
        "#     # Correctly select a single row as a DataFrame slice for prediction\n",
        "#     sample = X_test.iloc[[idx]]\n",
        "\n",
        "#     # Predict and compare the result correctly\n",
        "#     if abnormal_class_predictions[idx] == 0:\n",
        "#         # prediction = normal_vs_abnormal_type1_classifier.predict(sample)\n",
        "#         # Ensure comparison is made against the first element of the prediction array\n",
        "#         final_predictions[idx] = 1\n",
        "#     elif abnormal_class_predictions[idx] == 1:\n",
        "#         final_predictions[idx] = 2\n",
        "#     elif abnormal_class_predictions[idx] == 2:\n",
        "#         final_predictions[idx] = 3\n",
        "\n",
        "# Threshold for considering a prediction confident\n",
        "confidence_threshold = 0.5  # Adjust this threshold based on your specific needs\n",
        "\n",
        "for idx in indices_for_further_analysis:\n",
        "    sample = X_test.iloc[[idx]]\n",
        "\n",
        "    # Get prediction probabilities for the sample\n",
        "    if abnormal_class_predictions[idx] == 0:\n",
        "        probabilities = normal_vs_abnormal_type1_classifier.predict_proba(sample)\n",
        "        # Check if the probability of being abnormal (class 1) meets the confidence threshold\n",
        "        final_predictions[idx] = 1 if probabilities[0][1] >= confidence_threshold else 0\n",
        "    elif abnormal_class_predictions[idx] == 1:\n",
        "        probabilities = normal_vs_abnormal_type2_classifier.predict_proba(sample)\n",
        "        final_predictions[idx] = 2 if probabilities[0][1] >= confidence_threshold else 0\n",
        "    elif abnormal_class_predictions[idx] == 2:\n",
        "        probabilities = normal_vs_abnormal_type3_classifier.predict_proba(sample)\n",
        "        final_predictions[idx] = 3 if probabilities[0][1] >= confidence_threshold else 0\n",
        "\n",
        "\n",
        "# final_predictions now holds the final classification for each instance in the test set\n"
      ],
      "metadata": {
        "id": "oBZXLpGHghgR"
      },
      "execution_count": 64,
      "outputs": []
    },
    {
      "cell_type": "code",
      "source": [
        "final_predictions"
      ],
      "metadata": {
        "colab": {
          "base_uri": "https://localhost:8080/"
        },
        "id": "t6FCvC9QuPTZ",
        "outputId": "b9bc1ecb-37cc-48cd-96f7-b75d4d13b5f6"
      },
      "execution_count": 58,
      "outputs": [
        {
          "output_type": "execute_result",
          "data": {
            "text/plain": [
              "array([0, 0, 0, ..., 3, 2, 2])"
            ]
          },
          "metadata": {},
          "execution_count": 58
        }
      ]
    },
    {
      "cell_type": "code",
      "source": [
        "showResult(y_test, final_predictions)"
      ],
      "metadata": {
        "colab": {
          "base_uri": "https://localhost:8080/",
          "height": 651
        },
        "id": "lPCJ03GC1tky",
        "outputId": "8e628d30-1f9a-4927-ecb0-e1ad769db44c"
      },
      "execution_count": 65,
      "outputs": [
        {
          "output_type": "display_data",
          "data": {
            "text/plain": [
              "<Figure size 800x600 with 2 Axes>"
            ],
            "image/png": "[encoded data removed]"
          },
          "metadata": {}
        },
        {
          "output_type": "stream",
          "name": "stdout",
          "text": [
            "Accuracy: 0.7443\n",
            "F1 Score (Weighted): 0.8407\n",
            "F1 Score (Unweighted): 0.2864\n",
            "F2 Score (Weighted): 0.7759\n",
            "F2 Score (Unweighted): 0.3341\n"
          ]
        }
      ]
    },
    {
      "cell_type": "code",
      "source": [
        "showResult(y_test, final_predictions)"
      ],
      "metadata": {
        "colab": {
          "base_uri": "https://localhost:8080/",
          "height": 651
        },
        "id": "05Hh0FqQuUii",
        "outputId": "12482eab-691c-4cd5-d283-2e9a81d69b06"
      },
      "execution_count": 63,
      "outputs": [
        {
          "output_type": "display_data",
          "data": {
            "text/plain": [
              "<Figure size 800x600 with 2 Axes>"
            ],
            "image/png": "[encoded data removed]"
          },
          "metadata": {}
        },
        {
          "output_type": "stream",
          "name": "stdout",
          "text": [
            "Accuracy: 0.7414\n",
            "F1 Score (Weighted): 0.8387\n",
            "F1 Score (Unweighted): 0.2846\n",
            "F2 Score (Weighted): 0.7733\n",
            "F2 Score (Unweighted): 0.3318\n"
          ]
        }
      ]
    },
    {
      "cell_type": "code",
      "source": [
        "import numpy as np\n",
        "\n",
        "# Assuming X_test is your test dataset\n",
        "# Initialize an array to hold the final predictions\n",
        "final_predictions = np.zeros(X_test.shape[0])\n",
        "# Initialize a matrix to hold the probabilities of being abnormal for each type\n",
        "probabilities_matrix = np.zeros((X_test.shape[0], 3))\n",
        "\n",
        "# Predict with each specific classifier and store probabilities\n",
        "probabilities_matrix[:, 0] = normal_vs_abnormal_type1_classifier.predict_proba(X_test)[:, 1]  # Probabilities for Type 1\n",
        "probabilities_matrix[:, 1] = normal_vs_abnormal_type2_classifier.predict_proba(X_test)[:, 1]  # Probabilities for Type 2\n",
        "probabilities_matrix[:, 2] = normal_vs_abnormal_type3_classifier.predict_proba(X_test)[:, 1]  # Probabilities for Type 3\n",
        "\n",
        "# Determine the final predictions based on the strategy described\n",
        "for idx in range(X_test.shape[0]):\n",
        "    # Check if all classifiers predict normal with high confidence\n",
        "    if np.all(probabilities_matrix[idx, :] < 0.5):  # Using 0.5 as the threshold for deciding normal vs abnormal\n",
        "        final_predictions[idx] = 0  # All classifiers agree on normal\n",
        "    else:\n",
        "        # Pick the abnormal class with the highest confidence\n",
        "        final_predictions[idx] = np.argmax(probabilities_matrix[idx, :]) + 1  # +1 to adjust for the class label (1, 2, 3 for abnormal types)\n",
        "\n",
        "# final_predictions now holds the final classification for each instance in the test set\n"
      ],
      "metadata": {
        "id": "XU4mGYL27SJe"
      },
      "execution_count": 74,
      "outputs": []
    },
    {
      "cell_type": "code",
      "source": [
        "showResult(y_test, final_predictions)"
      ],
      "metadata": {
        "colab": {
          "base_uri": "https://localhost:8080/",
          "height": 651
        },
        "id": "gJ2Eo02Q7kjb",
        "outputId": "25cab629-9ce4-48af-ccd4-aa3e2f98c630"
      },
      "execution_count": 75,
      "outputs": [
        {
          "output_type": "display_data",
          "data": {
            "text/plain": [
              "<Figure size 800x600 with 2 Axes>"
            ],
            "image/png": "[encoded data removed]"
          },
          "metadata": {}
        },
        {
          "output_type": "stream",
          "name": "stdout",
          "text": [
            "Accuracy: 0.5967\n",
            "F1 Score (Weighted): 0.7343\n",
            "F1 Score (Unweighted): 0.2310\n",
            "F2 Score (Weighted): 0.6389\n",
            "F2 Score (Unweighted): 0.2589\n"
          ]
        }
      ]
    },
    {
      "cell_type": "code",
      "source": [
        "import numpy as np\n",
        "\n",
        "# Assuming X_test is your test dataset\n",
        "# Initialize an array to hold the final predictions\n",
        "final_predictions = np.zeros(X_test.shape[0])\n",
        "# Initialize two matrices to hold the probabilities and binary predictions\n",
        "probabilities_matrix = np.zeros((X_test.shape[0], 3))\n",
        "binary_predictions_matrix = np.zeros((X_test.shape[0], 3))\n",
        "\n",
        "# Predict with each specific classifier, store probabilities for being abnormal, and binary predictions\n",
        "probabilities_matrix[:, 0] = normal_vs_abnormal_type1_classifier.predict_proba(X_test)[:, 1]  # Probabilities for Type 1\n",
        "binary_predictions_matrix[:, 0] = normal_vs_abnormal_type1_classifier.predict(X_test)  # Predictions for Type 1\n",
        "\n",
        "probabilities_matrix[:, 1] = normal_vs_abnormal_type2_classifier.predict_proba(X_test)[:, 1]  # Probabilities for Type 2\n",
        "binary_predictions_matrix[:, 1] = normal_vs_abnormal_type2_classifier.predict(X_test)  # Predictions for Type 2\n",
        "\n",
        "probabilities_matrix[:, 2] = normal_vs_abnormal_type3_classifier.predict_proba(X_test)[:, 1]  # Probabilities for Type 3\n",
        "binary_predictions_matrix[:, 2] = normal_vs_abnormal_type3_classifier.predict(X_test)  # Predictions for Type 3\n",
        "\n",
        "# Determine the final predictions based on the updated strategy\n",
        "for idx in range(X_test.shape[0]):\n",
        "    # Count how many models predict as normal\n",
        "    normal_predictions_count = np.sum(binary_predictions_matrix[idx, :] == 0)\n",
        "\n",
        "    # If two or more classifiers predict the sample as normal, classify it as normal\n",
        "    if normal_predictions_count >= 2:\n",
        "        final_predictions[idx] = 0  # Classify as normal\n",
        "    else:\n",
        "        # If not, find the index of the abnormal class with the highest confidence\n",
        "        # Ignoring normal predictions by setting their probabilities to -1\n",
        "        abnormal_probabilities = np.where(binary_predictions_matrix[idx, :] == 0, -1, probabilities_matrix[idx, :])\n",
        "        final_predictions[idx] = np.argmax(abnormal_probabilities) + 1  # +1 to adjust for the class label (1, 2, 3 for abnormal types)\n",
        "\n",
        "# final_predictions now holds the final classification for each instance in the test set\n"
      ],
      "metadata": {
        "id": "Ra6ID3pB9QOn"
      },
      "execution_count": 76,
      "outputs": []
    },
    {
      "cell_type": "code",
      "source": [
        "showResult(y_test, final_predictions)"
      ],
      "metadata": {
        "colab": {
          "base_uri": "https://localhost:8080/",
          "height": 651
        },
        "id": "APV-0k4Z9S04",
        "outputId": "d6b721dd-369a-4d76-b2a4-e0789c92df5b"
      },
      "execution_count": 77,
      "outputs": [
        {
          "output_type": "display_data",
          "data": {
            "text/plain": [
              "<Figure size 800x600 with 2 Axes>"
            ],
            "image/png": "[encoded data removed]"
          },
          "metadata": {}
        },
        {
          "output_type": "stream",
          "name": "stdout",
          "text": [
            "Accuracy: 0.8143\n",
            "F1 Score (Weighted): 0.8843\n",
            "F1 Score (Unweighted): 0.2609\n",
            "F2 Score (Weighted): 0.8392\n",
            "F2 Score (Unweighted): 0.2769\n"
          ]
        }
      ]
    }
  ]
}