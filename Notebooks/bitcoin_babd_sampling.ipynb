{
 "cells": [
  {
   "cell_type": "code",
   "execution_count": 14,
   "metadata": {},
   "outputs": [],
   "source": [
    "import pandas as pd"
   ]
  },
  {
   "cell_type": "code",
   "execution_count": 40,
   "metadata": {},
   "outputs": [],
   "source": [
    "babd = pd.read_csv('BABD-13.csv')"
   ]
  },
  {
   "cell_type": "code",
   "execution_count": null,
   "metadata": {},
   "outputs": [],
   "source": []
  },
  {
   "cell_type": "code",
   "execution_count": 3,
   "metadata": {},
   "outputs": [
    {
     "data": {
      "text/plain": [
       "12YfqqLP4qAeENmnuW7sB8oC8T6TFLawE5    4\n",
       "1K8DQbAupiGg95FdU9YVPoM3ANSHZ9EGgT    4\n",
       "1DKeRSqnY24m6qEBLshJtshhcMjhMmfYot    4\n",
       "14F5H6zgQq39njYJWPLWznsEpJSTtUWAHk    4\n",
       "158r99HsERpiBqWg3w2FCPHbUfkXG8Zxsd    4\n",
       "                                     ..\n",
       "19Dub1gxozcQzB77k9esdnWx1mKaKqXz3D    1\n",
       "1Pa9UuH1cMMexkK1keHg3Fc8PujSRb96eg    1\n",
       "19UL9vbF213Qv8PKYLMc3YnWgwWmnb5DiD    1\n",
       "1GioQYjSqocjHCj7ZZZy9bv6wY3LSZ6Srm    1\n",
       "1EWpR5As2qn4A2zfJg3HNQXrbgTVuVHYd9    1\n",
       "Name: account, Length: 542368, dtype: int64"
      ]
     },
     "execution_count": 3,
     "metadata": {},
     "output_type": "execute_result"
    }
   ],
   "source": [
    "babd['account'].value_counts()"
   ]
  },
  {
   "cell_type": "code",
   "execution_count": 5,
   "metadata": {},
   "outputs": [
    {
     "data": {
      "text/plain": [
       "3     300000\n",
       "6     105257\n",
       "1      91617\n",
       "2      13861\n",
       "11     12412\n",
       "5       9309\n",
       "0       8686\n",
       "10      1580\n",
       "12      1502\n",
       "4        180\n",
       "7         27\n",
       "8         16\n",
       "9         15\n",
       "Name: label, dtype: int64"
      ]
     },
     "execution_count": 5,
     "metadata": {},
     "output_type": "execute_result"
    }
   ],
   "source": [
    "babd['label'].value_counts()"
   ]
  },
  {
   "cell_type": "code",
   "execution_count": 4,
   "metadata": {},
   "outputs": [
    {
     "data": {
      "text/plain": [
       "542368"
      ]
     },
     "execution_count": 4,
     "metadata": {},
     "output_type": "execute_result"
    }
   ],
   "source": [
    "len(set(babd['account']))"
   ]
  },
  {
   "cell_type": "code",
   "execution_count": 16,
   "metadata": {},
   "outputs": [],
   "source": [
    "babd_anomaly = babd[babd['label'].isin([0,2,11])]"
   ]
  },
  {
   "cell_type": "code",
   "execution_count": 17,
   "metadata": {},
   "outputs": [],
   "source": [
    "babd_good = babd[babd['label'].isin([1,3,4,5,6])]"
   ]
  },
  {
   "cell_type": "code",
   "execution_count": 18,
   "metadata": {},
   "outputs": [
    {
     "data": {
      "text/plain": [
       "2     13861\n",
       "11    12412\n",
       "0      8686\n",
       "Name: label, dtype: int64"
      ]
     },
     "execution_count": 18,
     "metadata": {},
     "output_type": "execute_result"
    }
   ],
   "source": [
    "babd_anomaly['label'].value_counts()"
   ]
  },
  {
   "cell_type": "code",
   "execution_count": 19,
   "metadata": {},
   "outputs": [
    {
     "data": {
      "text/plain": [
       "3    300000\n",
       "6    105257\n",
       "1     91617\n",
       "5      9309\n",
       "4       180\n",
       "Name: label, dtype: int64"
      ]
     },
     "execution_count": 19,
     "metadata": {},
     "output_type": "execute_result"
    }
   ],
   "source": [
    "babd_good['label'].value_counts()"
   ]
  },
  {
   "cell_type": "code",
   "execution_count": 20,
   "metadata": {},
   "outputs": [
    {
     "data": {
      "text/plain": [
       "((34959, 151), (506363, 151))"
      ]
     },
     "execution_count": 20,
     "metadata": {},
     "output_type": "execute_result"
    }
   ],
   "source": [
    "babd_anomaly.shape, babd_good.shape"
   ]
  },
  {
   "cell_type": "code",
   "execution_count": 22,
   "metadata": {},
   "outputs": [],
   "source": [
    "babd_good.to_csv('babd-13-good.csv', index=False)"
   ]
  },
  {
   "cell_type": "code",
   "execution_count": 23,
   "metadata": {},
   "outputs": [],
   "source": [
    "babd_anomaly.to_csv('babd-13-anomaly.csv', index=False)"
   ]
  },
  {
   "cell_type": "code",
   "execution_count": 24,
   "metadata": {},
   "outputs": [],
   "source": [
    "size_df1 = babd_anomaly.shape[0]  # Replace this with len(df1) if you have the dataframe df1 loaded\n",
    "\n",
    "# Calculating the required size from df2\n",
    "required_size = size_df1 // 3\n",
    "\n",
    "# Randomly selecting rows from df2\n",
    "babd_good_sample = babd_good.sample(n=required_size)"
   ]
  },
  {
   "cell_type": "code",
   "execution_count": 25,
   "metadata": {},
   "outputs": [
    {
     "data": {
      "text/plain": [
       "(11653, 151)"
      ]
     },
     "execution_count": 25,
     "metadata": {},
     "output_type": "execute_result"
    }
   ],
   "source": [
    "babd_good_sample.shape"
   ]
  },
  {
   "cell_type": "code",
   "execution_count": 26,
   "metadata": {},
   "outputs": [],
   "source": [
    "babd_good_sample.to_csv('babd_good_sample.csv', index=False)"
   ]
  },
  {
   "cell_type": "code",
   "execution_count": 28,
   "metadata": {},
   "outputs": [],
   "source": [
    "babd_good_sample['label'] = -1"
   ]
  },
  {
   "cell_type": "code",
   "execution_count": 29,
   "metadata": {},
   "outputs": [
    {
     "data": {
      "text/plain": [
       "-1    11653\n",
       "Name: label, dtype: int64"
      ]
     },
     "execution_count": 29,
     "metadata": {},
     "output_type": "execute_result"
    }
   ],
   "source": [
    "babd_good_sample['label'].value_counts()"
   ]
  },
  {
   "cell_type": "code",
   "execution_count": 30,
   "metadata": {},
   "outputs": [],
   "source": [
    "combined_babd_sample = pd.concat([babd_good_sample, babd_anomaly])"
   ]
  },
  {
   "cell_type": "code",
   "execution_count": 31,
   "metadata": {},
   "outputs": [
    {
     "data": {
      "text/plain": [
       " 2     13861\n",
       " 11    12412\n",
       "-1     11653\n",
       " 0      8686\n",
       "Name: label, dtype: int64"
      ]
     },
     "execution_count": 31,
     "metadata": {},
     "output_type": "execute_result"
    }
   ],
   "source": [
    "combined_babd_sample['label'].value_counts()"
   ]
  },
  {
   "cell_type": "code",
   "execution_count": 32,
   "metadata": {},
   "outputs": [],
   "source": [
    "combined_babd_sample = combined_babd_sample[['account', 'label']]"
   ]
  },
  {
   "cell_type": "code",
   "execution_count": 33,
   "metadata": {},
   "outputs": [
    {
     "data": {
      "text/html": [
       "<div>\n",
       "<style scoped>\n",
       "    .dataframe tbody tr th:only-of-type {\n",
       "        vertical-align: middle;\n",
       "    }\n",
       "\n",
       "    .dataframe tbody tr th {\n",
       "        vertical-align: top;\n",
       "    }\n",
       "\n",
       "    .dataframe thead th {\n",
       "        text-align: right;\n",
       "    }\n",
       "</style>\n",
       "<table border=\"1\" class=\"dataframe\">\n",
       "  <thead>\n",
       "    <tr style=\"text-align: right;\">\n",
       "      <th></th>\n",
       "      <th>account</th>\n",
       "      <th>label</th>\n",
       "    </tr>\n",
       "  </thead>\n",
       "  <tbody>\n",
       "    <tr>\n",
       "      <th>351752</th>\n",
       "      <td>1MYVum5nsg9irQMrUsh4sxE8obfbSwTmBL</td>\n",
       "      <td>-1</td>\n",
       "    </tr>\n",
       "    <tr>\n",
       "      <th>153750</th>\n",
       "      <td>19DrAW7qQrashPBg7r6tWkTxD7sL1cA82B</td>\n",
       "      <td>-1</td>\n",
       "    </tr>\n",
       "    <tr>\n",
       "      <th>300405</th>\n",
       "      <td>1gpfEvpEZ2qfz8vbRoRtAQoqnpmYTFNWU</td>\n",
       "      <td>-1</td>\n",
       "    </tr>\n",
       "    <tr>\n",
       "      <th>36093</th>\n",
       "      <td>336eBgmKhxYNKCG44xXnAkhH5PVhpo7JsF</td>\n",
       "      <td>-1</td>\n",
       "    </tr>\n",
       "    <tr>\n",
       "      <th>359732</th>\n",
       "      <td>1N8k4iXndXpWNdYUKkF3dLybxQZ6pGwT69</td>\n",
       "      <td>-1</td>\n",
       "    </tr>\n",
       "  </tbody>\n",
       "</table>\n",
       "</div>"
      ],
      "text/plain": [
       "                                   account  label\n",
       "351752  1MYVum5nsg9irQMrUsh4sxE8obfbSwTmBL     -1\n",
       "153750  19DrAW7qQrashPBg7r6tWkTxD7sL1cA82B     -1\n",
       "300405   1gpfEvpEZ2qfz8vbRoRtAQoqnpmYTFNWU     -1\n",
       "36093   336eBgmKhxYNKCG44xXnAkhH5PVhpo7JsF     -1\n",
       "359732  1N8k4iXndXpWNdYUKkF3dLybxQZ6pGwT69     -1"
      ]
     },
     "execution_count": 33,
     "metadata": {},
     "output_type": "execute_result"
    }
   ],
   "source": [
    "combined_babd_sample.head()"
   ]
  },
  {
   "cell_type": "code",
   "execution_count": 36,
   "metadata": {},
   "outputs": [
    {
     "data": {
      "text/plain": [
       "(46612, 2)"
      ]
     },
     "execution_count": 36,
     "metadata": {},
     "output_type": "execute_result"
    }
   ],
   "source": [
    "combined_babd_sample.shape"
   ]
  },
  {
   "cell_type": "code",
   "execution_count": 37,
   "metadata": {},
   "outputs": [
    {
     "data": {
      "text/plain": [
       "45010"
      ]
     },
     "execution_count": 37,
     "metadata": {},
     "output_type": "execute_result"
    }
   ],
   "source": [
    "len(set(combined_babd_sample['account']))"
   ]
  },
  {
   "cell_type": "code",
   "execution_count": 34,
   "metadata": {},
   "outputs": [],
   "source": [
    "combined_babd_sample.to_csv('combined_babd_sample.csv', index=False)"
   ]
  },
  {
   "cell_type": "code",
   "execution_count": 41,
   "metadata": {},
   "outputs": [],
   "source": [
    "duplicate_rows = babd[babd.duplicated()]"
   ]
  },
  {
   "cell_type": "code",
   "execution_count": 42,
   "metadata": {},
   "outputs": [
    {
     "name": "stdout",
     "output_type": "stream",
     "text": [
      "                                         account  SW   PAIa11-1   PAIa11-2  \\\n",
      "2997          123kGfxP2NCsreWX457kuVq8vPZoDaK5hw  WA   0.065644   0.065644   \n",
      "3001          125iYH3kh9y4EoEs1YNcAywY3aeAqqvUuo  WA   0.545334   0.545334   \n",
      "3014          129ycGA6Kh5ZSf93J8gPDfKCu6QwWAB8zH  WA   0.350422   0.350422   \n",
      "3018          12anKoz6Nw3wa2xgWobmohFy44rLi8w3Ri  WA  25.113992  25.113992   \n",
      "3046          12EMaHiZG75ztkjUjuPZhQDcyW89qRJVuR  WA   0.555361   0.555361   \n",
      "...                                          ...  ..        ...        ...   \n",
      "8649  bc1qthpafv96dxqhm80vxdwd0t0453j9rlms2w3797  WA   0.270000   0.270000   \n",
      "8661  bc1qvuu0mhq4tune4h8hnedu50pm9aucmlv2ghytna  WA   1.602926   1.602926   \n",
      "8664  bc1qwjkwsz0q6ksejvpvjrnp2e203hfxl9pqrtq62y  WA   1.248097   1.248097   \n",
      "8669  bc1qxeaal7uq92xcclx9yfeadyz0t9x7h7yuq7wh2d  WA  14.554628  14.554607   \n",
      "8685  bc1qzrhcjdmc0de897cw4hjmu0dk652hdedl7c8k60  WA  28.288775  28.288775   \n",
      "\n",
      "            PAIa12    PAIa13  PAIa14-1  PAIa14-2  PAIa14-3  PAIa14-4  ...  \\\n",
      "2997  0.000000e+00  1.000000  0.020140  0.023460  0.020140  0.023460  ...   \n",
      "3001  0.000000e+00  1.000000  0.140962  0.214714  0.140962  0.214714  ...   \n",
      "3014  5.551115e-17  1.000000  0.065333  0.072073  0.065333  0.072073  ...   \n",
      "3018  0.000000e+00  1.000000  0.000106  0.940836  0.000106  0.940836  ...   \n",
      "3046  0.000000e+00  1.000000  0.003909  0.129725  0.003909  0.129725  ...   \n",
      "...            ...       ...       ...       ...       ...       ...  ...   \n",
      "8649  0.000000e+00  1.000000  0.040000  0.100000  0.040000  0.100000  ...   \n",
      "8661  0.000000e+00  1.000000  0.007332  0.799629  0.007332  0.799629  ...   \n",
      "8664  0.000000e+00  1.000000  1.248097  1.248097  1.248097  1.248097  ...   \n",
      "8669 -2.022000e-05  0.999999  0.000020  1.408240  0.000538  1.408240  ...   \n",
      "8685 -7.105427e-15  1.000000  0.000091  3.991731  0.000091  3.991731  ...   \n",
      "\n",
      "      S2-2  S2-3        S3        S4        S5  S6        S7        S8  \\\n",
      "2997   358  1153 -0.227400  0.000008  2.018483   5  0.454545  0.000269   \n",
      "3001  1108  2336 -0.169393  0.001394  2.284256   8  0.357143  0.000709   \n",
      "3014  2841  3402 -0.314343  0.000009  1.999696   5  0.538462  0.001033   \n",
      "3018   233   583 -0.079928  0.041094  3.002402   4  0.661134  0.055471   \n",
      "3046  2886  2887 -0.316867  0.000065  2.755299   6  0.475000  0.002194   \n",
      "...    ...   ...       ...       ...       ...  ..       ...       ...   \n",
      "8649   607  1286 -0.137809  0.001074  2.304092   7  0.260174  0.001159   \n",
      "8661   415  1049 -0.168709  0.005088  2.769307   7  0.293360  0.000572   \n",
      "8664     1     2 -0.127544  0.016913  3.525597   8  0.347826  0.023356   \n",
      "8669    48   166 -0.304315  0.024116  2.541063   3  0.506608  0.020797   \n",
      "8685   610   617 -0.151891  0.005018  3.802718   6  0.422535  0.117948   \n",
      "\n",
      "            S9  label  \n",
      "2997  0.000333      0  \n",
      "3001  0.000458      0  \n",
      "3014  0.000395      0  \n",
      "3018  0.000335      0  \n",
      "3046  0.000333      0  \n",
      "...        ...    ...  \n",
      "8649  0.000333      0  \n",
      "8661  0.000334      0  \n",
      "8664  0.022222      0  \n",
      "8669  0.000334      0  \n",
      "8685  0.000334      0  \n",
      "\n",
      "[528 rows x 151 columns]\n"
     ]
    }
   ],
   "source": [
    "print(duplicate_rows)"
   ]
  },
  {
   "cell_type": "code",
   "execution_count": 43,
   "metadata": {},
   "outputs": [],
   "source": [
    "babd_part = babd[['account', 'label']]"
   ]
  },
  {
   "cell_type": "code",
   "execution_count": 44,
   "metadata": {},
   "outputs": [
    {
     "data": {
      "text/html": [
       "<div>\n",
       "<style scoped>\n",
       "    .dataframe tbody tr th:only-of-type {\n",
       "        vertical-align: middle;\n",
       "    }\n",
       "\n",
       "    .dataframe tbody tr th {\n",
       "        vertical-align: top;\n",
       "    }\n",
       "\n",
       "    .dataframe thead th {\n",
       "        text-align: right;\n",
       "    }\n",
       "</style>\n",
       "<table border=\"1\" class=\"dataframe\">\n",
       "  <thead>\n",
       "    <tr style=\"text-align: right;\">\n",
       "      <th></th>\n",
       "      <th>account</th>\n",
       "      <th>label</th>\n",
       "    </tr>\n",
       "  </thead>\n",
       "  <tbody>\n",
       "    <tr>\n",
       "      <th>0</th>\n",
       "      <td>13AM4VW2dhxYgXeQepoHkHSQuy6NgaEb94</td>\n",
       "      <td>0</td>\n",
       "    </tr>\n",
       "    <tr>\n",
       "      <th>1</th>\n",
       "      <td>12t9YDPgwueZ9NyMgw519p7AA8isjr6SMw</td>\n",
       "      <td>0</td>\n",
       "    </tr>\n",
       "    <tr>\n",
       "      <th>2</th>\n",
       "      <td>115p7UMMngoj1pMvkpHijcRdfJNXj6LrLn</td>\n",
       "      <td>0</td>\n",
       "    </tr>\n",
       "    <tr>\n",
       "      <th>3</th>\n",
       "      <td>1NXTgfGprVktuokv3ZLhGCPCjcKjXbswAM</td>\n",
       "      <td>0</td>\n",
       "    </tr>\n",
       "    <tr>\n",
       "      <th>4</th>\n",
       "      <td>15RLWdVnY5n1n7mTvU1zjg67wt86dhYqNj</td>\n",
       "      <td>0</td>\n",
       "    </tr>\n",
       "  </tbody>\n",
       "</table>\n",
       "</div>"
      ],
      "text/plain": [
       "                              account  label\n",
       "0  13AM4VW2dhxYgXeQepoHkHSQuy6NgaEb94      0\n",
       "1  12t9YDPgwueZ9NyMgw519p7AA8isjr6SMw      0\n",
       "2  115p7UMMngoj1pMvkpHijcRdfJNXj6LrLn      0\n",
       "3  1NXTgfGprVktuokv3ZLhGCPCjcKjXbswAM      0\n",
       "4  15RLWdVnY5n1n7mTvU1zjg67wt86dhYqNj      0"
      ]
     },
     "execution_count": 44,
     "metadata": {},
     "output_type": "execute_result"
    }
   ],
   "source": [
    "babd_part.head()"
   ]
  },
  {
   "cell_type": "code",
   "execution_count": 45,
   "metadata": {},
   "outputs": [
    {
     "name": "stdout",
     "output_type": "stream",
     "text": [
      "                                         account  label\n",
      "13            115p7UMMngoj1pMvkpHijcRdfJNXj6LrLn      0\n",
      "241           149w62rY42aZBox8fGcmqNsXUzSStKeq8C      0\n",
      "378           15RLWdVnY5n1n7mTvU1zjg67wt86dhYqNj      0\n",
      "2997          123kGfxP2NCsreWX457kuVq8vPZoDaK5hw      0\n",
      "3001          125iYH3kh9y4EoEs1YNcAywY3aeAqqvUuo      0\n",
      "...                                          ...    ...\n",
      "8649  bc1qthpafv96dxqhm80vxdwd0t0453j9rlms2w3797      0\n",
      "8661  bc1qvuu0mhq4tune4h8hnedu50pm9aucmlv2ghytna      0\n",
      "8664  bc1qwjkwsz0q6ksejvpvjrnp2e203hfxl9pqrtq62y      0\n",
      "8669  bc1qxeaal7uq92xcclx9yfeadyz0t9x7h7yuq7wh2d      0\n",
      "8685  bc1qzrhcjdmc0de897cw4hjmu0dk652hdedl7c8k60      0\n",
      "\n",
      "[537 rows x 2 columns]\n"
     ]
    }
   ],
   "source": [
    "duplicate_rows = babd_part[babd_part.duplicated()]\n",
    "print(duplicate_rows)"
   ]
  },
  {
   "cell_type": "code",
   "execution_count": 46,
   "metadata": {},
   "outputs": [
    {
     "name": "stdout",
     "output_type": "stream",
     "text": [
      "                                           account  label\n",
      "13              115p7UMMngoj1pMvkpHijcRdfJNXj6LrLn      0\n",
      "241             149w62rY42aZBox8fGcmqNsXUzSStKeq8C      0\n",
      "378             15RLWdVnY5n1n7mTvU1zjg67wt86dhYqNj      0\n",
      "2997            123kGfxP2NCsreWX457kuVq8vPZoDaK5hw      0\n",
      "3001            125iYH3kh9y4EoEs1YNcAywY3aeAqqvUuo      0\n",
      "...                                            ...    ...\n",
      "544455  bc1qvq53pjvx0gp3c5znercq6xvksps7vza5lh6ham     12\n",
      "544457  bc1qy5cxaffch0un0kf82jz0cgg93jsesneczj2d64     12\n",
      "544458  bc1qzhe5drq4lxcf7e76llp8s0fg0ka7fvfnfy79au     12\n",
      "544459  bc1qzj8lfrsjkj0nkznppfyam6fnrl8sve0g0896lz     12\n",
      "544460  bc1qzrhcjdmc0de897cw4hjmu0dk652hdedl7c8k60     12\n",
      "\n",
      "[2094 rows x 2 columns]\n"
     ]
    }
   ],
   "source": [
    "duplicate_rows = babd_part[babd_part.duplicated('account')]\n",
    "print(duplicate_rows)"
   ]
  },
  {
   "cell_type": "code",
   "execution_count": 47,
   "metadata": {},
   "outputs": [],
   "source": [
    "babd_group = babd_part.groupby('account')"
   ]
  },
  {
   "cell_type": "code",
   "execution_count": 53,
   "metadata": {},
   "outputs": [
    {
     "data": {
      "text/html": [
       "<div>\n",
       "<style scoped>\n",
       "    .dataframe tbody tr th:only-of-type {\n",
       "        vertical-align: middle;\n",
       "    }\n",
       "\n",
       "    .dataframe tbody tr th {\n",
       "        vertical-align: top;\n",
       "    }\n",
       "\n",
       "    .dataframe thead th {\n",
       "        text-align: right;\n",
       "    }\n",
       "</style>\n",
       "<table border=\"1\" class=\"dataframe\">\n",
       "  <thead>\n",
       "    <tr style=\"text-align: right;\">\n",
       "      <th></th>\n",
       "      <th>account</th>\n",
       "      <th>label</th>\n",
       "    </tr>\n",
       "  </thead>\n",
       "  <tbody>\n",
       "    <tr>\n",
       "      <th>5</th>\n",
       "      <td>149w62rY42aZBox8fGcmqNsXUzSStKeq8C</td>\n",
       "      <td>0</td>\n",
       "    </tr>\n",
       "    <tr>\n",
       "      <th>241</th>\n",
       "      <td>149w62rY42aZBox8fGcmqNsXUzSStKeq8C</td>\n",
       "      <td>0</td>\n",
       "    </tr>\n",
       "    <tr>\n",
       "      <th>528951</th>\n",
       "      <td>149w62rY42aZBox8fGcmqNsXUzSStKeq8C</td>\n",
       "      <td>8</td>\n",
       "    </tr>\n",
       "  </tbody>\n",
       "</table>\n",
       "</div>"
      ],
      "text/plain": [
       "                                   account  label\n",
       "5       149w62rY42aZBox8fGcmqNsXUzSStKeq8C      0\n",
       "241     149w62rY42aZBox8fGcmqNsXUzSStKeq8C      0\n",
       "528951  149w62rY42aZBox8fGcmqNsXUzSStKeq8C      8"
      ]
     },
     "execution_count": 53,
     "metadata": {},
     "output_type": "execute_result"
    }
   ],
   "source": [
    "babd_group.get_group('149w62rY42aZBox8fGcmqNsXUzSStKeq8C')"
   ]
  },
  {
   "cell_type": "code",
   "execution_count": 51,
   "metadata": {},
   "outputs": [
    {
     "data": {
      "text/plain": [
       "1414"
      ]
     },
     "execution_count": 51,
     "metadata": {},
     "output_type": "execute_result"
    }
   ],
   "source": [
    "group_count_with_diff_labels = sum(group['label'].nunique() > 1 for _, group in babd_group)\n",
    "\n",
    "group_count_with_diff_labels"
   ]
  },
  {
   "cell_type": "code",
   "execution_count": 52,
   "metadata": {},
   "outputs": [
    {
     "data": {
      "text/plain": [
       "array(['149w62rY42aZBox8fGcmqNsXUzSStKeq8C',\n",
       "       '1AjZPMsnmpdK2Rv9KQNfMurTXinscVro9V',\n",
       "       '113ioG4RFd9pRVfJVKauCbg7QH3oUe6URa', ...,\n",
       "       '1xPr18gM8YKsaiUkGz9MgpjtwcBQcME2i',\n",
       "       '37K4AbCLjSb4NYPty3FueGdnEog6Y1zGYT',\n",
       "       '3Jhu89HVMHkK2zUDqfUeuVCogMUuLuoSF9'], dtype=object)"
      ]
     },
     "execution_count": 52,
     "metadata": {},
     "output_type": "execute_result"
    }
   ],
   "source": [
    "\n",
    "non_unique_label_accounts = babd_group.filter(lambda x: x['label'].nunique() > 1)['account'].unique()\n",
    "\n",
    "non_unique_label_accounts"
   ]
  },
  {
   "cell_type": "code",
   "execution_count": null,
   "metadata": {},
   "outputs": [],
   "source": []
  }
 ],
 "metadata": {
  "kernelspec": {
   "display_name": "base",
   "language": "python",
   "name": "python3"
  },
  "language_info": {
   "codemirror_mode": {
    "name": "ipython",
    "version": 3
   },
   "file_extension": ".py",
   "mimetype": "text/x-python",
   "name": "python",
   "nbconvert_exporter": "python",
   "pygments_lexer": "ipython3",
   "version": "3.8.8"
  }
 },
 "nbformat": 4,
 "nbformat_minor": 2
}
