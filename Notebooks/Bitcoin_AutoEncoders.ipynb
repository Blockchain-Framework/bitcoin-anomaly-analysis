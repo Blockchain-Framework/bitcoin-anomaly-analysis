{
  "nbformat": 4,
  "nbformat_minor": 0,
  "metadata": {
    "colab": {
      "provenance": [],
      "authorship_tag": "ABX9TyMCk5dKXSHvdCYmAEDVRBoG",
      "include_colab_link": true
    },
    "kernelspec": {
      "name": "python3",
      "display_name": "Python 3"
    },
    "language_info": {
      "name": "python"
    }
  },
  "cells": [
    {
      "cell_type": "markdown",
      "metadata": {
        "id": "view-in-github",
        "colab_type": "text"
      },
      "source": [
        "<a href=\"https://colab.research.google.com/github/Blockchain-Framework/bitcoin-anomaly-analysis/blob/develop/Notebooks/Bitcoin_AutoEncoders.ipynb\" target=\"_parent\"><img src=\"https://colab.research.google.com/assets/colab-badge.svg\" alt=\"Open In Colab\"/></a>"
      ]
    },
    {
      "cell_type": "code",
      "execution_count": 1,
      "metadata": {
        "colab": {
          "base_uri": "https://localhost:8080/"
        },
        "id": "ri81okLHeHCw",
        "outputId": "ba394ab9-1aa0-4a64-b572-552490374eb5"
      },
      "outputs": [
        {
          "output_type": "stream",
          "name": "stdout",
          "text": [
            "Mounted at /content/drive\n"
          ]
        }
      ],
      "source": [
        "from google.colab import drive\n",
        "drive.mount('/content/drive')"
      ]
    },
    {
      "cell_type": "code",
      "source": [
        "import pandas as pd\n",
        "from sklearn.metrics import accuracy_score, f1_score, classification_report, confusion_matrix\n",
        "import matplotlib.pyplot as plt\n",
        "import seaborn as sns\n",
        "from sklearn.feature_selection import VarianceThreshold, RFECV\n",
        "from sklearn.ensemble import RandomForestClassifier\n",
        "import numpy as np"
      ],
      "metadata": {
        "id": "IQMJlbXGfhCb"
      },
      "execution_count": 2,
      "outputs": []
    },
    {
      "cell_type": "code",
      "source": [
        "train = pd.read_csv('/content/drive/MyDrive/bitcoin_imbalance_train_set.csv')\n",
        "test = pd.read_csv(\"/content/drive/MyDrive/bitcoin_imbalance_test.csv\")"
      ],
      "metadata": {
        "id": "Yau_lJrlfjMq"
      },
      "execution_count": 68,
      "outputs": []
    },
    {
      "cell_type": "code",
      "source": [
        "original_feature_names = ['input_transaction_count', 'output_transaction_count',\n",
        "       'input_value_mean', 'input_value_median', 'input_value_maximum',\n",
        "       'input_value_minimum', 'input_value_25th_percentile',\n",
        "       'input_value_75th_percentile', 'input_value_range',\n",
        "       'input_spending_value_usd_mean', 'input_spending_value_usd_median',\n",
        "       'input_spending_value_usd_maximum', 'input_spending_value_usd_minimum',\n",
        "       'input_spending_value_usd_25th_percentile',\n",
        "       'input_spending_value_usd_75th_percentile',\n",
        "       'input_spending_value_usd_range', 'input_time_diff_mean',\n",
        "       'input_time_diff_median', 'input_time_diff_maximum',\n",
        "       'input_time_diff_minimum', 'input_time_diff_25th_percentile',\n",
        "       'input_time_diff_75th_percentile', 'input_time_diff_range',\n",
        "       'output_value_usd_mean', 'output_value_usd_median',\n",
        "       'output_value_usd_maximum', 'output_value_usd_minimum',\n",
        "       'output_value_usd_25th_percentile', 'output_value_usd_75th_percentile',\n",
        "       'output_value_usd_range', 'output_time_diff_mean',\n",
        "       'output_time_diff_median', 'output_time_diff_maximum',\n",
        "       'output_time_diff_minimum', 'output_time_diff_25th_percentile',\n",
        "       'output_time_diff_75th_percentile', 'output_time_diff_range',\n",
        "       'output_value_mean', 'output_value_median', 'output_value_maximum',\n",
        "       'output_value_minimum', 'output_value_25th_percentile',\n",
        "       'output_value_75th_percentile', 'output_value_range',\n",
        "       'input_output_mean_ratio', 'input_output_max_ratio',\n",
        "       'input_output_min_ratio', 'input_output_percentile_25_diff',\n",
        "       'input_output_percentile_75_diff', 'range_mean_ratio_input',\n",
        "       'range_mean_ratio_output', 'input_output_usd_mean_ratio',\n",
        "       'input_output_usd_max_ratio', 'input_output_usd_min_ratio',\n",
        "       'input_output_usd_percentile_25_diff',\n",
        "       'input_output_usd_percentile_75_diff', 'input_range_mean_ratio',\n",
        "       'output_range_mean_ratio', 'input_output_transaction_count_ratio',\n",
        "       'input_output_maximum_transaction_value_diff',\n",
        "       'input_output_minimum_transaction_value_diff',\n",
        "       'input_output_time_diff_max_min_diff']"
      ],
      "metadata": {
        "id": "__KdUa7Cfl6Y"
      },
      "execution_count": 69,
      "outputs": []
    },
    {
      "cell_type": "code",
      "source": [
        "X_train = train[original_feature_names]\n",
        "y_train = train['label']"
      ],
      "metadata": {
        "id": "_v-sUNUafoGa"
      },
      "execution_count": 70,
      "outputs": []
    },
    {
      "cell_type": "code",
      "source": [
        "y_train = y_train.apply(lambda x: 1 if x in [1, 2, 3] else 0)"
      ],
      "metadata": {
        "id": "bVXRl_eJfp1d"
      },
      "execution_count": 71,
      "outputs": []
    },
    {
      "cell_type": "code",
      "source": [
        "X_test = test[original_feature_names]\n",
        "y_test = test['label']"
      ],
      "metadata": {
        "id": "ToFLHA8xfrPv"
      },
      "execution_count": 72,
      "outputs": []
    },
    {
      "cell_type": "code",
      "source": [
        "y_test = y_test.apply(lambda x: 1 if x in [1, 2, 3] else 0)"
      ],
      "metadata": {
        "id": "GKF5jkv4ftFM"
      },
      "execution_count": 73,
      "outputs": []
    },
    {
      "cell_type": "code",
      "source": [
        "X = X_train.copy()\n",
        "\n",
        "selector = VarianceThreshold()\n",
        "X_var = selector.fit_transform(X)\n",
        "\n",
        "# Calculate correlation matrix\n",
        "corr_matrix = pd.DataFrame(X_var, columns=X.columns[selector.get_support()]).corr().abs()\n",
        "upper = corr_matrix.where(np.triu(np.ones(corr_matrix.shape), k=1).astype(np.bool))\n",
        "to_drop = [column for column in upper.columns if any(upper[column] > 0.95)]\n",
        "\n",
        "# Drop highly correlated features\n",
        "X_uncorr = pd.DataFrame(X_var, columns=X.columns[selector.get_support()]).drop(to_drop, axis=1)"
      ],
      "metadata": {
        "colab": {
          "base_uri": "https://localhost:8080/"
        },
        "id": "Aws-uq4vfvLN",
        "outputId": "9fcdba9d-0d51-4900-b3ed-a15e9a466850"
      },
      "execution_count": 9,
      "outputs": [
        {
          "output_type": "stream",
          "name": "stderr",
          "text": [
            "<ipython-input-9-fe668c7d19a9>:8: DeprecationWarning: `np.bool` is a deprecated alias for the builtin `bool`. To silence this warning, use `bool` by itself. Doing this will not modify any behavior and is safe. If you specifically wanted the numpy scalar type, use `np.bool_` here.\n",
            "Deprecated in NumPy 1.20; for more details and guidance: https://numpy.org/devdocs/release/1.20.0-notes.html#deprecations\n",
            "  upper = corr_matrix.where(np.triu(np.ones(corr_matrix.shape), k=1).astype(np.bool))\n"
          ]
        }
      ]
    },
    {
      "cell_type": "code",
      "source": [
        "X_train = X_train[X_uncorr.columns]\n",
        "X_test = X_test[X_uncorr.columns]"
      ],
      "metadata": {
        "id": "COsDJzjefx1k"
      },
      "execution_count": 10,
      "outputs": []
    },
    {
      "cell_type": "code",
      "source": [
        "!pip install tensorflow"
      ],
      "metadata": {
        "colab": {
          "base_uri": "https://localhost:8080/"
        },
        "id": "M1cBSkK9lUMb",
        "outputId": "ce1f3530-6350-4344-8997-27760d668b49"
      },
      "execution_count": 11,
      "outputs": [
        {
          "output_type": "stream",
          "name": "stdout",
          "text": [
            "Requirement already satisfied: tensorflow in /usr/local/lib/python3.10/dist-packages (2.15.0)\n",
            "Requirement already satisfied: absl-py>=1.0.0 in /usr/local/lib/python3.10/dist-packages (from tensorflow) (1.4.0)\n",
            "Requirement already satisfied: astunparse>=1.6.0 in /usr/local/lib/python3.10/dist-packages (from tensorflow) (1.6.3)\n",
            "Requirement already satisfied: flatbuffers>=23.5.26 in /usr/local/lib/python3.10/dist-packages (from tensorflow) (23.5.26)\n",
            "Requirement already satisfied: gast!=0.5.0,!=0.5.1,!=0.5.2,>=0.2.1 in /usr/local/lib/python3.10/dist-packages (from tensorflow) (0.5.4)\n",
            "Requirement already satisfied: google-pasta>=0.1.1 in /usr/local/lib/python3.10/dist-packages (from tensorflow) (0.2.0)\n",
            "Requirement already satisfied: h5py>=2.9.0 in /usr/local/lib/python3.10/dist-packages (from tensorflow) (3.9.0)\n",
            "Requirement already satisfied: libclang>=13.0.0 in /usr/local/lib/python3.10/dist-packages (from tensorflow) (16.0.6)\n",
            "Requirement already satisfied: ml-dtypes~=0.2.0 in /usr/local/lib/python3.10/dist-packages (from tensorflow) (0.2.0)\n",
            "Requirement already satisfied: numpy<2.0.0,>=1.23.5 in /usr/local/lib/python3.10/dist-packages (from tensorflow) (1.23.5)\n",
            "Requirement already satisfied: opt-einsum>=2.3.2 in /usr/local/lib/python3.10/dist-packages (from tensorflow) (3.3.0)\n",
            "Requirement already satisfied: packaging in /usr/local/lib/python3.10/dist-packages (from tensorflow) (23.2)\n",
            "Requirement already satisfied: protobuf!=4.21.0,!=4.21.1,!=4.21.2,!=4.21.3,!=4.21.4,!=4.21.5,<5.0.0dev,>=3.20.3 in /usr/local/lib/python3.10/dist-packages (from tensorflow) (3.20.3)\n",
            "Requirement already satisfied: setuptools in /usr/local/lib/python3.10/dist-packages (from tensorflow) (67.7.2)\n",
            "Requirement already satisfied: six>=1.12.0 in /usr/local/lib/python3.10/dist-packages (from tensorflow) (1.16.0)\n",
            "Requirement already satisfied: termcolor>=1.1.0 in /usr/local/lib/python3.10/dist-packages (from tensorflow) (2.4.0)\n",
            "Requirement already satisfied: typing-extensions>=3.6.6 in /usr/local/lib/python3.10/dist-packages (from tensorflow) (4.5.0)\n",
            "Requirement already satisfied: wrapt<1.15,>=1.11.0 in /usr/local/lib/python3.10/dist-packages (from tensorflow) (1.14.1)\n",
            "Requirement already satisfied: tensorflow-io-gcs-filesystem>=0.23.1 in /usr/local/lib/python3.10/dist-packages (from tensorflow) (0.35.0)\n",
            "Requirement already satisfied: grpcio<2.0,>=1.24.3 in /usr/local/lib/python3.10/dist-packages (from tensorflow) (1.60.0)\n",
            "Requirement already satisfied: tensorboard<2.16,>=2.15 in /usr/local/lib/python3.10/dist-packages (from tensorflow) (2.15.1)\n",
            "Requirement already satisfied: tensorflow-estimator<2.16,>=2.15.0 in /usr/local/lib/python3.10/dist-packages (from tensorflow) (2.15.0)\n",
            "Requirement already satisfied: keras<2.16,>=2.15.0 in /usr/local/lib/python3.10/dist-packages (from tensorflow) (2.15.0)\n",
            "Requirement already satisfied: wheel<1.0,>=0.23.0 in /usr/local/lib/python3.10/dist-packages (from astunparse>=1.6.0->tensorflow) (0.42.0)\n",
            "Requirement already satisfied: google-auth<3,>=1.6.3 in /usr/local/lib/python3.10/dist-packages (from tensorboard<2.16,>=2.15->tensorflow) (2.17.3)\n",
            "Requirement already satisfied: google-auth-oauthlib<2,>=0.5 in /usr/local/lib/python3.10/dist-packages (from tensorboard<2.16,>=2.15->tensorflow) (1.2.0)\n",
            "Requirement already satisfied: markdown>=2.6.8 in /usr/local/lib/python3.10/dist-packages (from tensorboard<2.16,>=2.15->tensorflow) (3.5.2)\n",
            "Requirement already satisfied: requests<3,>=2.21.0 in /usr/local/lib/python3.10/dist-packages (from tensorboard<2.16,>=2.15->tensorflow) (2.31.0)\n",
            "Requirement already satisfied: tensorboard-data-server<0.8.0,>=0.7.0 in /usr/local/lib/python3.10/dist-packages (from tensorboard<2.16,>=2.15->tensorflow) (0.7.2)\n",
            "Requirement already satisfied: werkzeug>=1.0.1 in /usr/local/lib/python3.10/dist-packages (from tensorboard<2.16,>=2.15->tensorflow) (3.0.1)\n",
            "Requirement already satisfied: cachetools<6.0,>=2.0.0 in /usr/local/lib/python3.10/dist-packages (from google-auth<3,>=1.6.3->tensorboard<2.16,>=2.15->tensorflow) (5.3.2)\n",
            "Requirement already satisfied: pyasn1-modules>=0.2.1 in /usr/local/lib/python3.10/dist-packages (from google-auth<3,>=1.6.3->tensorboard<2.16,>=2.15->tensorflow) (0.3.0)\n",
            "Requirement already satisfied: rsa<5,>=3.1.4 in /usr/local/lib/python3.10/dist-packages (from google-auth<3,>=1.6.3->tensorboard<2.16,>=2.15->tensorflow) (4.9)\n",
            "Requirement already satisfied: requests-oauthlib>=0.7.0 in /usr/local/lib/python3.10/dist-packages (from google-auth-oauthlib<2,>=0.5->tensorboard<2.16,>=2.15->tensorflow) (1.3.1)\n",
            "Requirement already satisfied: charset-normalizer<4,>=2 in /usr/local/lib/python3.10/dist-packages (from requests<3,>=2.21.0->tensorboard<2.16,>=2.15->tensorflow) (3.3.2)\n",
            "Requirement already satisfied: idna<4,>=2.5 in /usr/local/lib/python3.10/dist-packages (from requests<3,>=2.21.0->tensorboard<2.16,>=2.15->tensorflow) (3.6)\n",
            "Requirement already satisfied: urllib3<3,>=1.21.1 in /usr/local/lib/python3.10/dist-packages (from requests<3,>=2.21.0->tensorboard<2.16,>=2.15->tensorflow) (2.0.7)\n",
            "Requirement already satisfied: certifi>=2017.4.17 in /usr/local/lib/python3.10/dist-packages (from requests<3,>=2.21.0->tensorboard<2.16,>=2.15->tensorflow) (2023.11.17)\n",
            "Requirement already satisfied: MarkupSafe>=2.1.1 in /usr/local/lib/python3.10/dist-packages (from werkzeug>=1.0.1->tensorboard<2.16,>=2.15->tensorflow) (2.1.3)\n",
            "Requirement already satisfied: pyasn1<0.6.0,>=0.4.6 in /usr/local/lib/python3.10/dist-packages (from pyasn1-modules>=0.2.1->google-auth<3,>=1.6.3->tensorboard<2.16,>=2.15->tensorflow) (0.5.1)\n",
            "Requirement already satisfied: oauthlib>=3.0.0 in /usr/local/lib/python3.10/dist-packages (from requests-oauthlib>=0.7.0->google-auth-oauthlib<2,>=0.5->tensorboard<2.16,>=2.15->tensorflow) (3.2.2)\n"
          ]
        }
      ]
    },
    {
      "cell_type": "code",
      "source": [
        "import numpy as np\n",
        "import tensorflow as tf\n",
        "from tensorflow.keras.layers import Input, Dense, Lambda, BatchNormalization, Dropout\n",
        "from tensorflow.keras.models import Model\n",
        "from tensorflow.keras.optimizers import Adam\n",
        "from tensorflow.keras.callbacks import EarlyStopping, ModelCheckpoint, TensorBoard\n",
        "\n",
        "class Autoencoder():\n",
        "    def __init__(self, input_dim, intermediate_dim=64, latent_dim=32, dropout_rate=0.2):\n",
        "        self.input_dim = input_dim\n",
        "        self.intermediate_dim = intermediate_dim\n",
        "        self.latent_dim = latent_dim\n",
        "        self.dropout_rate = dropout_rate\n",
        "        self.input = Input(shape=(self.input_dim,))\n",
        "\n",
        "    def build_encoder(self):\n",
        "        x = self.input\n",
        "        x = Dense(self.intermediate_dim, activation='relu')(x)\n",
        "        x = BatchNormalization()(x)\n",
        "        x = Dropout(self.dropout_rate)(x)\n",
        "        encoded_output = Dense(self.latent_dim, activation='relu')(x)\n",
        "        return Model(self.input, encoded_output)\n",
        "\n",
        "    def build_decoder(self):\n",
        "        encoded_input = Input(shape=(self.latent_dim,))\n",
        "        x = Dense(self.intermediate_dim, activation='relu')(encoded_input)\n",
        "        x = BatchNormalization()(x)\n",
        "        x = Dropout(self.dropout_rate)(x)\n",
        "        decoder_output = Dense(self.input_dim, activation='sigmoid')(x)\n",
        "        return Model(encoded_input, decoder_output)\n",
        "\n",
        "    def build_model(self):\n",
        "        encoder = self.build_encoder()\n",
        "        decoder = self.build_decoder()\n",
        "        autoencoder_output = decoder(encoder(self.input))\n",
        "        return Model(self.input, autoencoder_output)\n",
        "\n",
        "class ADAE(object):\n",
        "    def __init__(self, input_dim, latent_dim=32, learning_rate=0.001):\n",
        "        self.input_dim = input_dim\n",
        "        self.latent_dim = latent_dim\n",
        "\n",
        "        self.input = Input(shape=(input_dim,))\n",
        "        self.generator = Autoencoder(input_dim=input_dim, latent_dim=latent_dim).build_model()\n",
        "        self.discriminator = Autoencoder(input_dim=input_dim, latent_dim=latent_dim).build_model()\n",
        "\n",
        "        self.gx = self.generator(self.input)\n",
        "        self.dx = self.discriminator(self.input)\n",
        "        self.dgx = self.discriminator(self.gx)\n",
        "\n",
        "        self.d_loss = Lambda(lambda x: tf.reduce_mean(tf.abs(x[0] - x[1])) - tf.reduce_mean(tf.abs(x[2] - x[3])), name='d_loss')([self.input, self.dx, self.gx, self.dgx])\n",
        "        self.g_loss = Lambda(lambda x: tf.reduce_mean(tf.abs(x[0] - x[1])) + tf.reduce_mean(tf.abs(x[1] - x[2])), name='g_loss')([self.input, self.gx, self.dgx])\n",
        "\n",
        "        self.model = Model(inputs=[self.input], outputs=[self.g_loss, self.d_loss])\n",
        "        self.model.compile(optimizer=Adam(learning_rate=learning_rate), loss={'g_loss': 'mean_absolute_error', 'd_loss': 'mean_absolute_error'})\n",
        "\n",
        "    def train(self, x_train, epochs=50, batch_size=32, validation_data=None):\n",
        "        early_stopping = EarlyStopping(monitor='val_loss', patience=10, restore_best_weights=True)\n",
        "        model_checkpoint = ModelCheckpoint('adae_best_model.h5', monitor='val_loss', save_best_only=True)\n",
        "        tensorboard_callback = TensorBoard(log_dir='./logs')\n",
        "\n",
        "        for epoch in range(epochs):\n",
        "            print(f'Epoch {epoch+1}/{epochs}')\n",
        "            # Train generator\n",
        "            self.generator.trainable = True\n",
        "            self.discriminator.trainable = False\n",
        "            self.model.fit(x_train, batch_size=batch_size, epochs=1, validation_data=validation_data, callbacks=[early_stopping, model_checkpoint, tensorboard_callback])\n",
        "\n",
        "            # Train discriminator\n",
        "            self.generator.trainable = False\n",
        "            self.discriminator.trainable = True\n",
        "            self.model.fit(x_train, batch_size=batch_size, epochs=1, validation_data=validation_data, callbacks=[early_stopping, model_checkpoint, tensorboard_callback])\n",
        "\n",
        "# Example usage\n",
        "# adae = ADAE(input_dim=23)\n",
        "# adae.train(x_train, epochs=200, batch_size=64, validation_data=(x_val, y_val))\n"
      ],
      "metadata": {
        "id": "hosxopRgf0zn"
      },
      "execution_count": 15,
      "outputs": []
    },
    {
      "cell_type": "code",
      "source": [
        "X_train.shape"
      ],
      "metadata": {
        "colab": {
          "base_uri": "https://localhost:8080/"
        },
        "id": "gG2xa5kymHxk",
        "outputId": "61cb28c9-68d2-4733-864c-151ffbbc1900"
      },
      "execution_count": 74,
      "outputs": [
        {
          "output_type": "execute_result",
          "data": {
            "text/plain": [
              "(72809, 62)"
            ]
          },
          "metadata": {},
          "execution_count": 74
        }
      ]
    },
    {
      "cell_type": "code",
      "source": [
        "input_dim = 23  # As per your dataset\n",
        "class_weight = {0: 1, 1: 40001/32808}  # Adjust class weights for the slight imbalance\n",
        "\n",
        "adae = ADAE(input_dim=input_dim)\n",
        "adae.train(X_train, y_train, epochs=200, batch_size=64, class_weight=class_weight)"
      ],
      "metadata": {
        "colab": {
          "base_uri": "https://localhost:8080/"
        },
        "id": "Vj_uuI9SgDqB",
        "outputId": "8ddaa62f-3601-4a10-ea90-a42e372093d9"
      },
      "execution_count": 16,
      "outputs": [
        {
          "output_type": "stream",
          "name": "stderr",
          "text": [
            "WARNING:absl:`lr` is deprecated in Keras optimizer, please use `learning_rate` or use the legacy optimizer, e.g.,tf.keras.optimizers.legacy.Adam.\n"
          ]
        },
        {
          "output_type": "stream",
          "name": "stdout",
          "text": [
            "Epoch 1/200\n",
            "1138/1138 [==============================] - 11s 6ms/step - loss: 30949464.0000 - g_loss_loss: 15474732.0000 - d_loss_loss: 15474732.0000\n",
            "1138/1138 [==============================] - 5s 4ms/step - loss: 30924952.0000 - g_loss_loss: 15462476.0000 - d_loss_loss: 15462476.0000\n",
            "Epoch 2/200\n",
            "1138/1138 [==============================] - 7s 6ms/step - loss: 30934428.0000 - g_loss_loss: 15467214.0000 - d_loss_loss: 15467214.0000\n",
            "1138/1138 [==============================] - 5s 4ms/step - loss: 30924210.0000 - g_loss_loss: 15462105.0000 - d_loss_loss: 15462105.0000\n",
            "Epoch 3/200\n",
            "1138/1138 [==============================] - 7s 6ms/step - loss: 31083998.0000 - g_loss_loss: 15541999.0000 - d_loss_loss: 15541999.0000\n",
            "1138/1138 [==============================] - 5s 4ms/step - loss: 31043612.0000 - g_loss_loss: 15521806.0000 - d_loss_loss: 15521806.0000\n",
            "Epoch 4/200\n",
            "1138/1138 [==============================] - 7s 6ms/step - loss: 30944916.0000 - g_loss_loss: 15472458.0000 - d_loss_loss: 15472458.0000\n",
            "1138/1138 [==============================] - 5s 4ms/step - loss: 30890072.0000 - g_loss_loss: 15445036.0000 - d_loss_loss: 15445036.0000\n",
            "Epoch 5/200\n",
            "1138/1138 [==============================] - 6s 5ms/step - loss: 31012226.0000 - g_loss_loss: 15506113.0000 - d_loss_loss: 15506113.0000\n",
            "1138/1138 [==============================] - 6s 5ms/step - loss: 31135120.0000 - g_loss_loss: 15567560.0000 - d_loss_loss: 15567560.0000\n",
            "Epoch 6/200\n",
            "1138/1138 [==============================] - 5s 4ms/step - loss: 31116334.0000 - g_loss_loss: 15558167.0000 - d_loss_loss: 15558167.0000\n",
            "1138/1138 [==============================] - 7s 6ms/step - loss: 31068476.0000 - g_loss_loss: 15534238.0000 - d_loss_loss: 15534238.0000\n",
            "Epoch 7/200\n",
            "1138/1138 [==============================] - 5s 4ms/step - loss: 31019344.0000 - g_loss_loss: 15509672.0000 - d_loss_loss: 15509672.0000\n",
            "1138/1138 [==============================] - 7s 6ms/step - loss: 31059220.0000 - g_loss_loss: 15529610.0000 - d_loss_loss: 15529610.0000\n",
            "Epoch 8/200\n",
            "1138/1138 [==============================] - 5s 4ms/step - loss: 31115210.0000 - g_loss_loss: 15557605.0000 - d_loss_loss: 15557605.0000\n",
            "1138/1138 [==============================] - 7s 6ms/step - loss: 30995572.0000 - g_loss_loss: 15497786.0000 - d_loss_loss: 15497786.0000\n",
            "Epoch 9/200\n",
            "1138/1138 [==============================] - 5s 4ms/step - loss: 30873204.0000 - g_loss_loss: 15436602.0000 - d_loss_loss: 15436602.0000\n",
            "1138/1138 [==============================] - 6s 5ms/step - loss: 31034542.0000 - g_loss_loss: 15517271.0000 - d_loss_loss: 15517271.0000\n",
            "Epoch 10/200\n",
            "1138/1138 [==============================] - 6s 6ms/step - loss: 30956718.0000 - g_loss_loss: 15478359.0000 - d_loss_loss: 15478359.0000\n",
            "1138/1138 [==============================] - 5s 4ms/step - loss: 30955124.0000 - g_loss_loss: 15477562.0000 - d_loss_loss: 15477562.0000\n",
            "Epoch 11/200\n",
            "1138/1138 [==============================] - 7s 6ms/step - loss: 31094872.0000 - g_loss_loss: 15547436.0000 - d_loss_loss: 15547436.0000\n",
            "1138/1138 [==============================] - 5s 4ms/step - loss: 31132262.0000 - g_loss_loss: 15566131.0000 - d_loss_loss: 15566131.0000\n",
            "Epoch 12/200\n",
            "1138/1138 [==============================] - 7s 6ms/step - loss: 30836810.0000 - g_loss_loss: 15418405.0000 - d_loss_loss: 15418405.0000\n",
            "1138/1138 [==============================] - 5s 4ms/step - loss: 31035256.0000 - g_loss_loss: 15517628.0000 - d_loss_loss: 15517628.0000\n",
            "Epoch 13/200\n",
            "1138/1138 [==============================] - 5s 4ms/step - loss: 30979294.0000 - g_loss_loss: 15489647.0000 - d_loss_loss: 15489647.0000\n",
            "1138/1138 [==============================] - 7s 6ms/step - loss: 31011396.0000 - g_loss_loss: 15505698.0000 - d_loss_loss: 15505698.0000\n",
            "Epoch 14/200\n",
            "1138/1138 [==============================] - 5s 4ms/step - loss: 30956140.0000 - g_loss_loss: 15478070.0000 - d_loss_loss: 15478070.0000\n",
            "1138/1138 [==============================] - 6s 5ms/step - loss: 30841692.0000 - g_loss_loss: 15420846.0000 - d_loss_loss: 15420846.0000\n",
            "Epoch 15/200\n",
            "1138/1138 [==============================] - 6s 5ms/step - loss: 31035004.0000 - g_loss_loss: 15517502.0000 - d_loss_loss: 15517502.0000\n",
            "1138/1138 [==============================] - 5s 4ms/step - loss: 31083914.0000 - g_loss_loss: 15541957.0000 - d_loss_loss: 15541957.0000\n",
            "Epoch 16/200\n",
            "1138/1138 [==============================] - 7s 6ms/step - loss: 30959440.0000 - g_loss_loss: 15479720.0000 - d_loss_loss: 15479720.0000\n",
            "1138/1138 [==============================] - 5s 4ms/step - loss: 30899086.0000 - g_loss_loss: 15449543.0000 - d_loss_loss: 15449543.0000\n",
            "Epoch 17/200\n",
            "1138/1138 [==============================] - 7s 6ms/step - loss: 30964906.0000 - g_loss_loss: 15482453.0000 - d_loss_loss: 15482455.0000\n",
            "1138/1138 [==============================] - 5s 4ms/step - loss: 30996670.0000 - g_loss_loss: 15498335.0000 - d_loss_loss: 15498335.0000\n",
            "Epoch 18/200\n",
            "1138/1138 [==============================] - 5s 4ms/step - loss: 30908114.0000 - g_loss_loss: 15454057.0000 - d_loss_loss: 15454057.0000\n",
            "1138/1138 [==============================] - 6s 6ms/step - loss: 30900382.0000 - g_loss_loss: 15450191.0000 - d_loss_loss: 15450191.0000\n",
            "Epoch 19/200\n",
            "1138/1138 [==============================] - 5s 4ms/step - loss: 31092480.0000 - g_loss_loss: 15546240.0000 - d_loss_loss: 15546240.0000\n",
            "1138/1138 [==============================] - 6s 5ms/step - loss: 30990628.0000 - g_loss_loss: 15495314.0000 - d_loss_loss: 15495314.0000\n",
            "Epoch 20/200\n",
            "1138/1138 [==============================] - 5s 5ms/step - loss: 30985990.0000 - g_loss_loss: 15492995.0000 - d_loss_loss: 15492995.0000\n",
            "1138/1138 [==============================] - 5s 4ms/step - loss: 30931488.0000 - g_loss_loss: 15465744.0000 - d_loss_loss: 15465744.0000\n",
            "Epoch 21/200\n",
            "1138/1138 [==============================] - 7s 6ms/step - loss: 31005562.0000 - g_loss_loss: 15502781.0000 - d_loss_loss: 15502781.0000\n",
            "1138/1138 [==============================] - 5s 4ms/step - loss: 30873606.0000 - g_loss_loss: 15436803.0000 - d_loss_loss: 15436803.0000\n",
            "Epoch 22/200\n",
            "1138/1138 [==============================] - 7s 6ms/step - loss: 30768030.0000 - g_loss_loss: 15384015.0000 - d_loss_loss: 15384015.0000\n",
            "1138/1138 [==============================] - 5s 4ms/step - loss: 30946446.0000 - g_loss_loss: 15473223.0000 - d_loss_loss: 15473223.0000\n",
            "Epoch 23/200\n",
            "1138/1138 [==============================] - 6s 5ms/step - loss: 30904974.0000 - g_loss_loss: 15452487.0000 - d_loss_loss: 15452487.0000\n",
            "1138/1138 [==============================] - 5s 4ms/step - loss: 31108276.0000 - g_loss_loss: 15554138.0000 - d_loss_loss: 15554138.0000\n",
            "Epoch 24/200\n",
            "1138/1138 [==============================] - 6s 6ms/step - loss: 30884108.0000 - g_loss_loss: 15442054.0000 - d_loss_loss: 15442054.0000\n",
            "1138/1138 [==============================] - 5s 4ms/step - loss: 31055986.0000 - g_loss_loss: 15527993.0000 - d_loss_loss: 15527993.0000\n",
            "Epoch 25/200\n",
            "1138/1138 [==============================] - 5s 4ms/step - loss: 30862968.0000 - g_loss_loss: 15431484.0000 - d_loss_loss: 15431484.0000\n",
            "1138/1138 [==============================] - 7s 6ms/step - loss: 31175920.0000 - g_loss_loss: 15587960.0000 - d_loss_loss: 15587960.0000\n",
            "Epoch 26/200\n",
            "1138/1138 [==============================] - 5s 4ms/step - loss: 30923738.0000 - g_loss_loss: 15461869.0000 - d_loss_loss: 15461869.0000\n",
            "1138/1138 [==============================] - 7s 6ms/step - loss: 30990908.0000 - g_loss_loss: 15495454.0000 - d_loss_loss: 15495454.0000\n",
            "Epoch 27/200\n",
            "1138/1138 [==============================] - 5s 4ms/step - loss: 30787800.0000 - g_loss_loss: 15393900.0000 - d_loss_loss: 15393900.0000\n",
            "1138/1138 [==============================] - 5s 5ms/step - loss: 31071674.0000 - g_loss_loss: 15535837.0000 - d_loss_loss: 15535837.0000\n",
            "Epoch 28/200\n",
            "1138/1138 [==============================] - 6s 5ms/step - loss: 31017448.0000 - g_loss_loss: 15508724.0000 - d_loss_loss: 15508724.0000\n",
            "1138/1138 [==============================] - 6s 5ms/step - loss: 31104034.0000 - g_loss_loss: 15552017.0000 - d_loss_loss: 15552017.0000\n",
            "Epoch 29/200\n",
            "1138/1138 [==============================] - 5s 4ms/step - loss: 31044404.0000 - g_loss_loss: 15522202.0000 - d_loss_loss: 15522202.0000\n",
            "1138/1138 [==============================] - 7s 6ms/step - loss: 30779592.0000 - g_loss_loss: 15389796.0000 - d_loss_loss: 15389796.0000\n",
            "Epoch 30/200\n",
            "1138/1138 [==============================] - 5s 4ms/step - loss: 31048400.0000 - g_loss_loss: 15524200.0000 - d_loss_loss: 15524200.0000\n",
            "1138/1138 [==============================] - 7s 6ms/step - loss: 31016914.0000 - g_loss_loss: 15508457.0000 - d_loss_loss: 15508457.0000\n",
            "Epoch 31/200\n",
            "1138/1138 [==============================] - 5s 4ms/step - loss: 30920660.0000 - g_loss_loss: 15460330.0000 - d_loss_loss: 15460330.0000\n",
            "1138/1138 [==============================] - 7s 6ms/step - loss: 30921542.0000 - g_loss_loss: 15460771.0000 - d_loss_loss: 15460771.0000\n",
            "Epoch 32/200\n",
            "1138/1138 [==============================] - 5s 4ms/step - loss: 30990088.0000 - g_loss_loss: 15495044.0000 - d_loss_loss: 15495044.0000\n",
            "1138/1138 [==============================] - 7s 6ms/step - loss: 30827446.0000 - g_loss_loss: 15413723.0000 - d_loss_loss: 15413723.0000\n",
            "Epoch 33/200\n",
            "1138/1138 [==============================] - 5s 4ms/step - loss: 30859580.0000 - g_loss_loss: 15429790.0000 - d_loss_loss: 15429790.0000\n",
            "1138/1138 [==============================] - 5s 5ms/step - loss: 30990948.0000 - g_loss_loss: 15495474.0000 - d_loss_loss: 15495474.0000\n",
            "Epoch 34/200\n",
            "1138/1138 [==============================] - 5s 4ms/step - loss: 31006538.0000 - g_loss_loss: 15503269.0000 - d_loss_loss: 15503269.0000\n",
            "1138/1138 [==============================] - 6s 6ms/step - loss: 30977806.0000 - g_loss_loss: 15488903.0000 - d_loss_loss: 15488903.0000\n",
            "Epoch 35/200\n",
            "1138/1138 [==============================] - 5s 5ms/step - loss: 31178906.0000 - g_loss_loss: 15589453.0000 - d_loss_loss: 15589453.0000\n",
            "1138/1138 [==============================] - 7s 6ms/step - loss: 31133320.0000 - g_loss_loss: 15566660.0000 - d_loss_loss: 15566660.0000\n",
            "Epoch 36/200\n",
            "1138/1138 [==============================] - 5s 4ms/step - loss: 30813716.0000 - g_loss_loss: 15406858.0000 - d_loss_loss: 15406858.0000\n",
            "1138/1138 [==============================] - 7s 6ms/step - loss: 31043472.0000 - g_loss_loss: 15521736.0000 - d_loss_loss: 15521736.0000\n",
            "Epoch 37/200\n",
            "1138/1138 [==============================] - 5s 4ms/step - loss: 30973616.0000 - g_loss_loss: 15486808.0000 - d_loss_loss: 15486808.0000\n",
            "1138/1138 [==============================] - 7s 6ms/step - loss: 30928390.0000 - g_loss_loss: 15464195.0000 - d_loss_loss: 15464195.0000\n",
            "Epoch 38/200\n",
            "1138/1138 [==============================] - 5s 4ms/step - loss: 30860176.0000 - g_loss_loss: 15430088.0000 - d_loss_loss: 15430088.0000\n",
            "1138/1138 [==============================] - 7s 6ms/step - loss: 30978012.0000 - g_loss_loss: 15489006.0000 - d_loss_loss: 15489006.0000\n",
            "Epoch 39/200\n",
            "1138/1138 [==============================] - 5s 4ms/step - loss: 31167412.0000 - g_loss_loss: 15583706.0000 - d_loss_loss: 15583706.0000\n",
            "1138/1138 [==============================] - 5s 5ms/step - loss: 30960392.0000 - g_loss_loss: 15480196.0000 - d_loss_loss: 15480196.0000\n",
            "Epoch 40/200\n",
            "1138/1138 [==============================] - 5s 4ms/step - loss: 30988428.0000 - g_loss_loss: 15494214.0000 - d_loss_loss: 15494214.0000\n",
            "1138/1138 [==============================] - 6s 5ms/step - loss: 30969064.0000 - g_loss_loss: 15484532.0000 - d_loss_loss: 15484532.0000\n",
            "Epoch 41/200\n",
            "1138/1138 [==============================] - 5s 5ms/step - loss: 31121126.0000 - g_loss_loss: 15560563.0000 - d_loss_loss: 15560563.0000\n",
            "1138/1138 [==============================] - 7s 6ms/step - loss: 30923156.0000 - g_loss_loss: 15461578.0000 - d_loss_loss: 15461578.0000\n",
            "Epoch 42/200\n",
            "1138/1138 [==============================] - 5s 4ms/step - loss: 30960114.0000 - g_loss_loss: 15480057.0000 - d_loss_loss: 15480057.0000\n",
            "1138/1138 [==============================] - 7s 6ms/step - loss: 30975852.0000 - g_loss_loss: 15487926.0000 - d_loss_loss: 15487926.0000\n",
            "Epoch 43/200\n",
            "1138/1138 [==============================] - 5s 4ms/step - loss: 30786508.0000 - g_loss_loss: 15393254.0000 - d_loss_loss: 15393254.0000\n",
            "1138/1138 [==============================] - 5s 5ms/step - loss: 30859418.0000 - g_loss_loss: 15429709.0000 - d_loss_loss: 15429709.0000\n",
            "Epoch 44/200\n",
            "1138/1138 [==============================] - 6s 5ms/step - loss: 31039240.0000 - g_loss_loss: 15519620.0000 - d_loss_loss: 15519620.0000\n",
            "1138/1138 [==============================] - 5s 4ms/step - loss: 31045812.0000 - g_loss_loss: 15522906.0000 - d_loss_loss: 15522906.0000\n",
            "Epoch 45/200\n",
            "1138/1138 [==============================] - 6s 6ms/step - loss: 30795150.0000 - g_loss_loss: 15397575.0000 - d_loss_loss: 15397575.0000\n",
            "1138/1138 [==============================] - 5s 4ms/step - loss: 31083152.0000 - g_loss_loss: 15541576.0000 - d_loss_loss: 15541576.0000\n",
            "Epoch 46/200\n",
            "1138/1138 [==============================] - 7s 6ms/step - loss: 31006908.0000 - g_loss_loss: 15503454.0000 - d_loss_loss: 15503454.0000\n",
            "1138/1138 [==============================] - 5s 4ms/step - loss: 31058240.0000 - g_loss_loss: 15529120.0000 - d_loss_loss: 15529120.0000\n",
            "Epoch 47/200\n",
            "1138/1138 [==============================] - 7s 6ms/step - loss: 31018006.0000 - g_loss_loss: 15509003.0000 - d_loss_loss: 15509003.0000\n",
            "1138/1138 [==============================] - 5s 4ms/step - loss: 30906302.0000 - g_loss_loss: 15453151.0000 - d_loss_loss: 15453151.0000\n",
            "Epoch 48/200\n",
            "1138/1138 [==============================] - 5s 4ms/step - loss: 31001880.0000 - g_loss_loss: 15500940.0000 - d_loss_loss: 15500940.0000\n",
            "1138/1138 [==============================] - 7s 6ms/step - loss: 30816418.0000 - g_loss_loss: 15408209.0000 - d_loss_loss: 15408209.0000\n",
            "Epoch 49/200\n",
            "1138/1138 [==============================] - 5s 4ms/step - loss: 31161260.0000 - g_loss_loss: 15580630.0000 - d_loss_loss: 15580630.0000\n",
            "1138/1138 [==============================] - 7s 6ms/step - loss: 30891082.0000 - g_loss_loss: 15445541.0000 - d_loss_loss: 15445541.0000\n",
            "Epoch 50/200\n",
            "1138/1138 [==============================] - 5s 4ms/step - loss: 30977298.0000 - g_loss_loss: 15488649.0000 - d_loss_loss: 15488649.0000\n",
            "1138/1138 [==============================] - 7s 6ms/step - loss: 30952070.0000 - g_loss_loss: 15476035.0000 - d_loss_loss: 15476035.0000\n",
            "Epoch 51/200\n",
            "1138/1138 [==============================] - 5s 5ms/step - loss: 31075048.0000 - g_loss_loss: 15537524.0000 - d_loss_loss: 15537524.0000\n",
            "1138/1138 [==============================] - 5s 4ms/step - loss: 31037844.0000 - g_loss_loss: 15518922.0000 - d_loss_loss: 15518922.0000\n",
            "Epoch 52/200\n",
            "1138/1138 [==============================] - 7s 6ms/step - loss: 30929630.0000 - g_loss_loss: 15464815.0000 - d_loss_loss: 15464815.0000\n",
            "1138/1138 [==============================] - 5s 4ms/step - loss: 31252260.0000 - g_loss_loss: 15626130.0000 - d_loss_loss: 15626130.0000\n",
            "Epoch 53/200\n",
            "1138/1138 [==============================] - 7s 6ms/step - loss: 30929200.0000 - g_loss_loss: 15464600.0000 - d_loss_loss: 15464600.0000\n",
            "1138/1138 [==============================] - 5s 4ms/step - loss: 30941522.0000 - g_loss_loss: 15470761.0000 - d_loss_loss: 15470761.0000\n",
            "Epoch 54/200\n",
            "1138/1138 [==============================] - 7s 6ms/step - loss: 30985158.0000 - g_loss_loss: 15492579.0000 - d_loss_loss: 15492579.0000\n",
            "1138/1138 [==============================] - 5s 4ms/step - loss: 31134468.0000 - g_loss_loss: 15567234.0000 - d_loss_loss: 15567234.0000\n",
            "Epoch 55/200\n",
            "1138/1138 [==============================] - 6s 5ms/step - loss: 30847118.0000 - g_loss_loss: 15423559.0000 - d_loss_loss: 15423559.0000\n",
            "1138/1138 [==============================] - 5s 4ms/step - loss: 31014898.0000 - g_loss_loss: 15507449.0000 - d_loss_loss: 15507449.0000\n",
            "Epoch 56/200\n",
            "1138/1138 [==============================] - 6s 5ms/step - loss: 31151876.0000 - g_loss_loss: 15575938.0000 - d_loss_loss: 15575938.0000\n",
            "1138/1138 [==============================] - 5s 5ms/step - loss: 30945608.0000 - g_loss_loss: 15472804.0000 - d_loss_loss: 15472804.0000\n",
            "Epoch 57/200\n",
            "1138/1138 [==============================] - 7s 6ms/step - loss: 30890766.0000 - g_loss_loss: 15445383.0000 - d_loss_loss: 15445383.0000\n",
            "1138/1138 [==============================] - 5s 4ms/step - loss: 31021416.0000 - g_loss_loss: 15510708.0000 - d_loss_loss: 15510708.0000\n",
            "Epoch 58/200\n",
            "1138/1138 [==============================] - 5s 5ms/step - loss: 31152846.0000 - g_loss_loss: 15576423.0000 - d_loss_loss: 15576423.0000\n",
            "1138/1138 [==============================] - 5s 4ms/step - loss: 31063334.0000 - g_loss_loss: 15531667.0000 - d_loss_loss: 15531667.0000\n",
            "Epoch 59/200\n",
            "1138/1138 [==============================] - 6s 6ms/step - loss: 30960186.0000 - g_loss_loss: 15480093.0000 - d_loss_loss: 15480093.0000\n",
            "1138/1138 [==============================] - 5s 4ms/step - loss: 30930242.0000 - g_loss_loss: 15465121.0000 - d_loss_loss: 15465121.0000\n",
            "Epoch 60/200\n",
            "1138/1138 [==============================] - 7s 6ms/step - loss: 31004330.0000 - g_loss_loss: 15502165.0000 - d_loss_loss: 15502165.0000\n",
            "1138/1138 [==============================] - 5s 4ms/step - loss: 30933082.0000 - g_loss_loss: 15466541.0000 - d_loss_loss: 15466541.0000\n",
            "Epoch 61/200\n",
            "1138/1138 [==============================] - 5s 4ms/step - loss: 30874920.0000 - g_loss_loss: 15437460.0000 - d_loss_loss: 15437460.0000\n",
            "1138/1138 [==============================] - 7s 6ms/step - loss: 31174800.0000 - g_loss_loss: 15587400.0000 - d_loss_loss: 15587400.0000\n",
            "Epoch 62/200\n",
            "1138/1138 [==============================] - 5s 4ms/step - loss: 30986688.0000 - g_loss_loss: 15493344.0000 - d_loss_loss: 15493344.0000\n",
            "1138/1138 [==============================] - 6s 5ms/step - loss: 31022084.0000 - g_loss_loss: 15511042.0000 - d_loss_loss: 15511042.0000\n",
            "Epoch 63/200\n",
            "1138/1138 [==============================] - 5s 4ms/step - loss: 30888686.0000 - g_loss_loss: 15444343.0000 - d_loss_loss: 15444343.0000\n",
            "1138/1138 [==============================] - 7s 6ms/step - loss: 30853130.0000 - g_loss_loss: 15426565.0000 - d_loss_loss: 15426565.0000\n",
            "Epoch 64/200\n",
            "1138/1138 [==============================] - 5s 4ms/step - loss: 30887144.0000 - g_loss_loss: 15443572.0000 - d_loss_loss: 15443572.0000\n",
            "1138/1138 [==============================] - 5s 4ms/step - loss: 30797684.0000 - g_loss_loss: 15398842.0000 - d_loss_loss: 15398842.0000\n",
            "Epoch 65/200\n",
            "1138/1138 [==============================] - 7s 6ms/step - loss: 31013048.0000 - g_loss_loss: 15506524.0000 - d_loss_loss: 15506524.0000\n",
            "1138/1138 [==============================] - 5s 4ms/step - loss: 30905344.0000 - g_loss_loss: 15452672.0000 - d_loss_loss: 15452672.0000\n",
            "Epoch 66/200\n",
            "1138/1138 [==============================] - 7s 6ms/step - loss: 30968326.0000 - g_loss_loss: 15484163.0000 - d_loss_loss: 15484163.0000\n",
            "1138/1138 [==============================] - 5s 5ms/step - loss: 31042770.0000 - g_loss_loss: 15521385.0000 - d_loss_loss: 15521385.0000\n",
            "Epoch 67/200\n",
            "1138/1138 [==============================] - 6s 6ms/step - loss: 31065154.0000 - g_loss_loss: 15532577.0000 - d_loss_loss: 15532577.0000\n",
            "1138/1138 [==============================] - 5s 4ms/step - loss: 31135884.0000 - g_loss_loss: 15567942.0000 - d_loss_loss: 15567942.0000\n",
            "Epoch 68/200\n",
            "1138/1138 [==============================] - 7s 6ms/step - loss: 30966576.0000 - g_loss_loss: 15483288.0000 - d_loss_loss: 15483288.0000\n",
            "1138/1138 [==============================] - 5s 5ms/step - loss: 31001710.0000 - g_loss_loss: 15500855.0000 - d_loss_loss: 15500855.0000\n",
            "Epoch 69/200\n",
            "1138/1138 [==============================] - 7s 6ms/step - loss: 30962346.0000 - g_loss_loss: 15481173.0000 - d_loss_loss: 15481173.0000\n",
            "1138/1138 [==============================] - 5s 4ms/step - loss: 30970012.0000 - g_loss_loss: 15485006.0000 - d_loss_loss: 15485006.0000\n",
            "Epoch 70/200\n",
            "1138/1138 [==============================] - 7s 6ms/step - loss: 30963474.0000 - g_loss_loss: 15481737.0000 - d_loss_loss: 15481737.0000\n",
            "1138/1138 [==============================] - 5s 4ms/step - loss: 30978808.0000 - g_loss_loss: 15489404.0000 - d_loss_loss: 15489404.0000\n",
            "Epoch 71/200\n",
            "1138/1138 [==============================] - 7s 6ms/step - loss: 31068668.0000 - g_loss_loss: 15534334.0000 - d_loss_loss: 15534334.0000\n",
            "1138/1138 [==============================] - 5s 4ms/step - loss: 30968558.0000 - g_loss_loss: 15484279.0000 - d_loss_loss: 15484279.0000\n",
            "Epoch 72/200\n",
            "1138/1138 [==============================] - 7s 6ms/step - loss: 31070770.0000 - g_loss_loss: 15535385.0000 - d_loss_loss: 15535385.0000\n",
            "1138/1138 [==============================] - 5s 4ms/step - loss: 31084080.0000 - g_loss_loss: 15542040.0000 - d_loss_loss: 15542040.0000\n",
            "Epoch 73/200\n",
            "1138/1138 [==============================] - 7s 6ms/step - loss: 31117544.0000 - g_loss_loss: 15558772.0000 - d_loss_loss: 15558772.0000\n",
            "1138/1138 [==============================] - 5s 4ms/step - loss: 31156288.0000 - g_loss_loss: 15578144.0000 - d_loss_loss: 15578144.0000\n",
            "Epoch 74/200\n",
            "1138/1138 [==============================] - 7s 6ms/step - loss: 31283282.0000 - g_loss_loss: 15641641.0000 - d_loss_loss: 15641641.0000\n",
            "1138/1138 [==============================] - 5s 4ms/step - loss: 30815884.0000 - g_loss_loss: 15407942.0000 - d_loss_loss: 15407942.0000\n",
            "Epoch 75/200\n",
            "1138/1138 [==============================] - 6s 5ms/step - loss: 31073704.0000 - g_loss_loss: 15536852.0000 - d_loss_loss: 15536852.0000\n",
            "1138/1138 [==============================] - 5s 4ms/step - loss: 31179014.0000 - g_loss_loss: 15589507.0000 - d_loss_loss: 15589507.0000\n",
            "Epoch 76/200\n",
            "1138/1138 [==============================] - 7s 6ms/step - loss: 31170202.0000 - g_loss_loss: 15585101.0000 - d_loss_loss: 15585101.0000\n",
            "1138/1138 [==============================] - 5s 5ms/step - loss: 30963294.0000 - g_loss_loss: 15481647.0000 - d_loss_loss: 15481647.0000\n",
            "Epoch 77/200\n",
            "1138/1138 [==============================] - 5s 4ms/step - loss: 31125418.0000 - g_loss_loss: 15562709.0000 - d_loss_loss: 15562709.0000\n",
            "1138/1138 [==============================] - 7s 6ms/step - loss: 31156798.0000 - g_loss_loss: 15578399.0000 - d_loss_loss: 15578399.0000\n",
            "Epoch 78/200\n",
            "1138/1138 [==============================] - 5s 4ms/step - loss: 30953212.0000 - g_loss_loss: 15476606.0000 - d_loss_loss: 15476606.0000\n",
            "1138/1138 [==============================] - 6s 5ms/step - loss: 30993000.0000 - g_loss_loss: 15496500.0000 - d_loss_loss: 15496500.0000\n",
            "Epoch 79/200\n",
            "1138/1138 [==============================] - 5s 4ms/step - loss: 31008274.0000 - g_loss_loss: 15504137.0000 - d_loss_loss: 15504137.0000\n",
            "1138/1138 [==============================] - 7s 6ms/step - loss: 30946138.0000 - g_loss_loss: 15473069.0000 - d_loss_loss: 15473069.0000\n",
            "Epoch 80/200\n",
            "1138/1138 [==============================] - 5s 4ms/step - loss: 31171176.0000 - g_loss_loss: 15585588.0000 - d_loss_loss: 15585588.0000\n",
            "1138/1138 [==============================] - 7s 6ms/step - loss: 31116438.0000 - g_loss_loss: 15558219.0000 - d_loss_loss: 15558219.0000\n",
            "Epoch 81/200\n",
            "1138/1138 [==============================] - 5s 4ms/step - loss: 31015378.0000 - g_loss_loss: 15507689.0000 - d_loss_loss: 15507689.0000\n",
            "1138/1138 [==============================] - 7s 6ms/step - loss: 30890248.0000 - g_loss_loss: 15445124.0000 - d_loss_loss: 15445124.0000\n",
            "Epoch 82/200\n",
            "1138/1138 [==============================] - 5s 4ms/step - loss: 31183946.0000 - g_loss_loss: 15591973.0000 - d_loss_loss: 15591973.0000\n",
            "1138/1138 [==============================] - 7s 6ms/step - loss: 30957994.0000 - g_loss_loss: 15478997.0000 - d_loss_loss: 15478997.0000\n",
            "Epoch 83/200\n",
            "1138/1138 [==============================] - 5s 4ms/step - loss: 30968198.0000 - g_loss_loss: 15484099.0000 - d_loss_loss: 15484099.0000\n",
            "1138/1138 [==============================] - 7s 6ms/step - loss: 31053218.0000 - g_loss_loss: 15526609.0000 - d_loss_loss: 15526609.0000\n",
            "Epoch 84/200\n",
            "1138/1138 [==============================] - 5s 4ms/step - loss: 30960694.0000 - g_loss_loss: 15480347.0000 - d_loss_loss: 15480347.0000\n",
            "1138/1138 [==============================] - 5s 5ms/step - loss: 30992238.0000 - g_loss_loss: 15496119.0000 - d_loss_loss: 15496119.0000\n",
            "Epoch 85/200\n",
            "1138/1138 [==============================] - 7s 6ms/step - loss: 31009322.0000 - g_loss_loss: 15504661.0000 - d_loss_loss: 15504661.0000\n",
            "1138/1138 [==============================] - 5s 5ms/step - loss: 31049120.0000 - g_loss_loss: 15524560.0000 - d_loss_loss: 15524560.0000\n",
            "Epoch 86/200\n",
            "1138/1138 [==============================] - 6s 6ms/step - loss: 30881578.0000 - g_loss_loss: 15440789.0000 - d_loss_loss: 15440789.0000\n",
            "1138/1138 [==============================] - 6s 5ms/step - loss: 31034394.0000 - g_loss_loss: 15517197.0000 - d_loss_loss: 15517197.0000\n",
            "Epoch 87/200\n",
            "1138/1138 [==============================] - 5s 4ms/step - loss: 30965100.0000 - g_loss_loss: 15482550.0000 - d_loss_loss: 15482550.0000\n",
            "1138/1138 [==============================] - 7s 6ms/step - loss: 31122972.0000 - g_loss_loss: 15561486.0000 - d_loss_loss: 15561486.0000\n",
            "Epoch 88/200\n",
            "1138/1138 [==============================] - 5s 4ms/step - loss: 30888358.0000 - g_loss_loss: 15444179.0000 - d_loss_loss: 15444179.0000\n",
            "1138/1138 [==============================] - 7s 6ms/step - loss: 31092924.0000 - g_loss_loss: 15546462.0000 - d_loss_loss: 15546462.0000\n",
            "Epoch 89/200\n",
            "1138/1138 [==============================] - 5s 4ms/step - loss: 31036422.0000 - g_loss_loss: 15518211.0000 - d_loss_loss: 15518211.0000\n",
            "1138/1138 [==============================] - 7s 6ms/step - loss: 31107552.0000 - g_loss_loss: 15553776.0000 - d_loss_loss: 15553776.0000\n",
            "Epoch 90/200\n",
            "1138/1138 [==============================] - 5s 4ms/step - loss: 31169994.0000 - g_loss_loss: 15584997.0000 - d_loss_loss: 15584997.0000\n",
            "1138/1138 [==============================] - 7s 6ms/step - loss: 30891418.0000 - g_loss_loss: 15445709.0000 - d_loss_loss: 15445709.0000\n",
            "Epoch 91/200\n",
            "1138/1138 [==============================] - 5s 4ms/step - loss: 31159156.0000 - g_loss_loss: 15579578.0000 - d_loss_loss: 15579578.0000\n",
            "1138/1138 [==============================] - 7s 6ms/step - loss: 30905280.0000 - g_loss_loss: 15452640.0000 - d_loss_loss: 15452640.0000\n",
            "Epoch 92/200\n",
            "1138/1138 [==============================] - 5s 4ms/step - loss: 30908704.0000 - g_loss_loss: 15454352.0000 - d_loss_loss: 15454352.0000\n",
            "1138/1138 [==============================] - 7s 6ms/step - loss: 30941128.0000 - g_loss_loss: 15470564.0000 - d_loss_loss: 15470564.0000\n",
            "Epoch 93/200\n",
            "1138/1138 [==============================] - 5s 4ms/step - loss: 31042150.0000 - g_loss_loss: 15521075.0000 - d_loss_loss: 15521075.0000\n",
            "1138/1138 [==============================] - 5s 4ms/step - loss: 30903306.0000 - g_loss_loss: 15451653.0000 - d_loss_loss: 15451653.0000\n",
            "Epoch 94/200\n",
            "1138/1138 [==============================] - 7s 6ms/step - loss: 31102040.0000 - g_loss_loss: 15551020.0000 - d_loss_loss: 15551020.0000\n",
            "1138/1138 [==============================] - 5s 5ms/step - loss: 31192892.0000 - g_loss_loss: 15596446.0000 - d_loss_loss: 15596446.0000\n",
            "Epoch 95/200\n",
            "1138/1138 [==============================] - 5s 4ms/step - loss: 30817580.0000 - g_loss_loss: 15408790.0000 - d_loss_loss: 15408790.0000\n",
            "1138/1138 [==============================] - 6s 6ms/step - loss: 30748660.0000 - g_loss_loss: 15374330.0000 - d_loss_loss: 15374330.0000\n",
            "Epoch 96/200\n",
            "1138/1138 [==============================] - 5s 4ms/step - loss: 31145850.0000 - g_loss_loss: 15572925.0000 - d_loss_loss: 15572923.0000\n",
            "1138/1138 [==============================] - 7s 6ms/step - loss: 30892300.0000 - g_loss_loss: 15446150.0000 - d_loss_loss: 15446150.0000\n",
            "Epoch 97/200\n",
            "1138/1138 [==============================] - 5s 4ms/step - loss: 31123628.0000 - g_loss_loss: 15561814.0000 - d_loss_loss: 15561814.0000\n",
            "1138/1138 [==============================] - 7s 6ms/step - loss: 30918598.0000 - g_loss_loss: 15459299.0000 - d_loss_loss: 15459299.0000\n",
            "Epoch 98/200\n",
            "1138/1138 [==============================] - 5s 4ms/step - loss: 30869516.0000 - g_loss_loss: 15434758.0000 - d_loss_loss: 15434758.0000\n",
            "1138/1138 [==============================] - 5s 5ms/step - loss: 30971330.0000 - g_loss_loss: 15485665.0000 - d_loss_loss: 15485665.0000\n",
            "Epoch 99/200\n",
            "1138/1138 [==============================] - 5s 4ms/step - loss: 30853202.0000 - g_loss_loss: 15426601.0000 - d_loss_loss: 15426601.0000\n",
            "1138/1138 [==============================] - 6s 5ms/step - loss: 31112520.0000 - g_loss_loss: 15556260.0000 - d_loss_loss: 15556260.0000\n",
            "Epoch 100/200\n",
            "1138/1138 [==============================] - 5s 4ms/step - loss: 30999870.0000 - g_loss_loss: 15499935.0000 - d_loss_loss: 15499935.0000\n",
            "1138/1138 [==============================] - 7s 6ms/step - loss: 30972852.0000 - g_loss_loss: 15486426.0000 - d_loss_loss: 15486426.0000\n",
            "Epoch 101/200\n",
            "1138/1138 [==============================] - 5s 4ms/step - loss: 30695514.0000 - g_loss_loss: 15347757.0000 - d_loss_loss: 15347757.0000\n",
            "1138/1138 [==============================] - 7s 6ms/step - loss: 30908978.0000 - g_loss_loss: 15454489.0000 - d_loss_loss: 15454489.0000\n",
            "Epoch 102/200\n",
            "1138/1138 [==============================] - 5s 4ms/step - loss: 31143834.0000 - g_loss_loss: 15571917.0000 - d_loss_loss: 15571917.0000\n",
            "1138/1138 [==============================] - 5s 4ms/step - loss: 30934500.0000 - g_loss_loss: 15467250.0000 - d_loss_loss: 15467250.0000\n",
            "Epoch 103/200\n",
            "1138/1138 [==============================] - 7s 6ms/step - loss: 31014362.0000 - g_loss_loss: 15507181.0000 - d_loss_loss: 15507181.0000\n",
            "1138/1138 [==============================] - 5s 4ms/step - loss: 30893380.0000 - g_loss_loss: 15446690.0000 - d_loss_loss: 15446690.0000\n",
            "Epoch 104/200\n",
            "1138/1138 [==============================] - 7s 6ms/step - loss: 30960610.0000 - g_loss_loss: 15480305.0000 - d_loss_loss: 15480305.0000\n",
            "1138/1138 [==============================] - 5s 4ms/step - loss: 31095908.0000 - g_loss_loss: 15547954.0000 - d_loss_loss: 15547954.0000\n",
            "Epoch 105/200\n",
            "1138/1138 [==============================] - 7s 6ms/step - loss: 30969010.0000 - g_loss_loss: 15484505.0000 - d_loss_loss: 15484505.0000\n",
            "1138/1138 [==============================] - 6s 5ms/step - loss: 30841688.0000 - g_loss_loss: 15420844.0000 - d_loss_loss: 15420844.0000\n",
            "Epoch 106/200\n",
            "1138/1138 [==============================] - 6s 5ms/step - loss: 31026600.0000 - g_loss_loss: 15513300.0000 - d_loss_loss: 15513300.0000\n",
            "1138/1138 [==============================] - 5s 4ms/step - loss: 31013876.0000 - g_loss_loss: 15506938.0000 - d_loss_loss: 15506938.0000\n",
            "Epoch 107/200\n",
            "1138/1138 [==============================] - 7s 6ms/step - loss: 31067752.0000 - g_loss_loss: 15533876.0000 - d_loss_loss: 15533876.0000\n",
            "1138/1138 [==============================] - 5s 4ms/step - loss: 30884418.0000 - g_loss_loss: 15442209.0000 - d_loss_loss: 15442209.0000\n",
            "Epoch 108/200\n",
            "1138/1138 [==============================] - 5s 5ms/step - loss: 30875148.0000 - g_loss_loss: 15437574.0000 - d_loss_loss: 15437574.0000\n",
            "1138/1138 [==============================] - 7s 6ms/step - loss: 31057030.0000 - g_loss_loss: 15528515.0000 - d_loss_loss: 15528515.0000\n",
            "Epoch 109/200\n",
            "1138/1138 [==============================] - 5s 5ms/step - loss: 30946044.0000 - g_loss_loss: 15473022.0000 - d_loss_loss: 15473022.0000\n",
            "1138/1138 [==============================] - 7s 6ms/step - loss: 31049200.0000 - g_loss_loss: 15524600.0000 - d_loss_loss: 15524600.0000\n",
            "Epoch 110/200\n",
            "1138/1138 [==============================] - 5s 4ms/step - loss: 30994566.0000 - g_loss_loss: 15497283.0000 - d_loss_loss: 15497283.0000\n",
            "1138/1138 [==============================] - 6s 6ms/step - loss: 30961490.0000 - g_loss_loss: 15480745.0000 - d_loss_loss: 15480745.0000\n",
            "Epoch 111/200\n",
            "1138/1138 [==============================] - 6s 5ms/step - loss: 31251498.0000 - g_loss_loss: 15625749.0000 - d_loss_loss: 15625749.0000\n",
            "1138/1138 [==============================] - 7s 6ms/step - loss: 30959372.0000 - g_loss_loss: 15479686.0000 - d_loss_loss: 15479686.0000\n",
            "Epoch 112/200\n",
            "1138/1138 [==============================] - 5s 4ms/step - loss: 31036822.0000 - g_loss_loss: 15518411.0000 - d_loss_loss: 15518411.0000\n",
            "1138/1138 [==============================] - 7s 6ms/step - loss: 31088534.0000 - g_loss_loss: 15544267.0000 - d_loss_loss: 15544267.0000\n",
            "Epoch 113/200\n",
            "1138/1138 [==============================] - 5s 4ms/step - loss: 30997030.0000 - g_loss_loss: 15498515.0000 - d_loss_loss: 15498515.0000\n",
            "1138/1138 [==============================] - 5s 4ms/step - loss: 30823118.0000 - g_loss_loss: 15411559.0000 - d_loss_loss: 15411559.0000\n",
            "Epoch 114/200\n",
            "1138/1138 [==============================] - 5s 4ms/step - loss: 30784362.0000 - g_loss_loss: 15392181.0000 - d_loss_loss: 15392181.0000\n",
            "1138/1138 [==============================] - 7s 6ms/step - loss: 31009526.0000 - g_loss_loss: 15504763.0000 - d_loss_loss: 15504763.0000\n",
            "Epoch 115/200\n",
            "1138/1138 [==============================] - 5s 5ms/step - loss: 30861818.0000 - g_loss_loss: 15430909.0000 - d_loss_loss: 15430909.0000\n",
            "1138/1138 [==============================] - 7s 6ms/step - loss: 30900848.0000 - g_loss_loss: 15450424.0000 - d_loss_loss: 15450424.0000\n",
            "Epoch 116/200\n",
            "1138/1138 [==============================] - 5s 4ms/step - loss: 31059086.0000 - g_loss_loss: 15529543.0000 - d_loss_loss: 15529543.0000\n",
            "1138/1138 [==============================] - 6s 5ms/step - loss: 31084620.0000 - g_loss_loss: 15542310.0000 - d_loss_loss: 15542310.0000\n",
            "Epoch 117/200\n",
            "1138/1138 [==============================] - 5s 4ms/step - loss: 30985572.0000 - g_loss_loss: 15492786.0000 - d_loss_loss: 15492786.0000\n",
            "1138/1138 [==============================] - 7s 6ms/step - loss: 31083260.0000 - g_loss_loss: 15541630.0000 - d_loss_loss: 15541630.0000\n",
            "Epoch 118/200\n",
            "1138/1138 [==============================] - 5s 5ms/step - loss: 30969872.0000 - g_loss_loss: 15484936.0000 - d_loss_loss: 15484936.0000\n",
            "1138/1138 [==============================] - 5s 4ms/step - loss: 31226272.0000 - g_loss_loss: 15613136.0000 - d_loss_loss: 15613136.0000\n",
            "Epoch 119/200\n",
            "1138/1138 [==============================] - 7s 6ms/step - loss: 31009508.0000 - g_loss_loss: 15504754.0000 - d_loss_loss: 15504754.0000\n",
            "1138/1138 [==============================] - 5s 4ms/step - loss: 30901964.0000 - g_loss_loss: 15450982.0000 - d_loss_loss: 15450982.0000\n",
            "Epoch 120/200\n",
            "1138/1138 [==============================] - 7s 6ms/step - loss: 31137900.0000 - g_loss_loss: 15568950.0000 - d_loss_loss: 15568950.0000\n",
            "1138/1138 [==============================] - 5s 4ms/step - loss: 31093196.0000 - g_loss_loss: 15546598.0000 - d_loss_loss: 15546598.0000\n",
            "Epoch 121/200\n",
            "1138/1138 [==============================] - 6s 5ms/step - loss: 30939472.0000 - g_loss_loss: 15469736.0000 - d_loss_loss: 15469736.0000\n",
            "1138/1138 [==============================] - 5s 4ms/step - loss: 30967336.0000 - g_loss_loss: 15483668.0000 - d_loss_loss: 15483668.0000\n",
            "Epoch 122/200\n",
            "1138/1138 [==============================] - 7s 6ms/step - loss: 30881008.0000 - g_loss_loss: 15440504.0000 - d_loss_loss: 15440504.0000\n",
            "1138/1138 [==============================] - 5s 5ms/step - loss: 31046542.0000 - g_loss_loss: 15523271.0000 - d_loss_loss: 15523271.0000\n",
            "Epoch 123/200\n",
            "1138/1138 [==============================] - 7s 6ms/step - loss: 31041420.0000 - g_loss_loss: 15520710.0000 - d_loss_loss: 15520710.0000\n",
            "1138/1138 [==============================] - 5s 4ms/step - loss: 30970880.0000 - g_loss_loss: 15485440.0000 - d_loss_loss: 15485440.0000\n",
            "Epoch 124/200\n",
            "1138/1138 [==============================] - 7s 6ms/step - loss: 30962462.0000 - g_loss_loss: 15481231.0000 - d_loss_loss: 15481231.0000\n",
            "1138/1138 [==============================] - 5s 4ms/step - loss: 31075302.0000 - g_loss_loss: 15537651.0000 - d_loss_loss: 15537651.0000\n",
            "Epoch 125/200\n",
            "1138/1138 [==============================] - 7s 6ms/step - loss: 30980730.0000 - g_loss_loss: 15490365.0000 - d_loss_loss: 15490365.0000\n",
            "1138/1138 [==============================] - 5s 5ms/step - loss: 30978574.0000 - g_loss_loss: 15489287.0000 - d_loss_loss: 15489287.0000\n",
            "Epoch 126/200\n",
            "1138/1138 [==============================] - 7s 6ms/step - loss: 30973450.0000 - g_loss_loss: 15486725.0000 - d_loss_loss: 15486725.0000\n",
            "1138/1138 [==============================] - 5s 4ms/step - loss: 31147678.0000 - g_loss_loss: 15573839.0000 - d_loss_loss: 15573839.0000\n",
            "Epoch 127/200\n",
            "1138/1138 [==============================] - 6s 6ms/step - loss: 31078420.0000 - g_loss_loss: 15539210.0000 - d_loss_loss: 15539210.0000\n",
            "1138/1138 [==============================] - 6s 5ms/step - loss: 30984634.0000 - g_loss_loss: 15492317.0000 - d_loss_loss: 15492317.0000\n",
            "Epoch 128/200\n",
            "1138/1138 [==============================] - 7s 6ms/step - loss: 31018024.0000 - g_loss_loss: 15509012.0000 - d_loss_loss: 15509012.0000\n",
            "1138/1138 [==============================] - 5s 4ms/step - loss: 31017724.0000 - g_loss_loss: 15508862.0000 - d_loss_loss: 15508862.0000\n",
            "Epoch 129/200\n",
            "1138/1138 [==============================] - 5s 4ms/step - loss: 31128502.0000 - g_loss_loss: 15564251.0000 - d_loss_loss: 15564251.0000\n",
            "1138/1138 [==============================] - 7s 6ms/step - loss: 31047068.0000 - g_loss_loss: 15523534.0000 - d_loss_loss: 15523534.0000\n",
            "Epoch 130/200\n",
            "1138/1138 [==============================] - 5s 4ms/step - loss: 31056606.0000 - g_loss_loss: 15528303.0000 - d_loss_loss: 15528303.0000\n",
            "1138/1138 [==============================] - 6s 5ms/step - loss: 30955870.0000 - g_loss_loss: 15477935.0000 - d_loss_loss: 15477935.0000\n",
            "Epoch 131/200\n",
            "1138/1138 [==============================] - 6s 6ms/step - loss: 30919376.0000 - g_loss_loss: 15459688.0000 - d_loss_loss: 15459688.0000\n",
            "1138/1138 [==============================] - 5s 4ms/step - loss: 31013422.0000 - g_loss_loss: 15506711.0000 - d_loss_loss: 15506711.0000\n",
            "Epoch 132/200\n",
            "1138/1138 [==============================] - 7s 6ms/step - loss: 31063896.0000 - g_loss_loss: 15531948.0000 - d_loss_loss: 15531948.0000\n",
            "1138/1138 [==============================] - 5s 4ms/step - loss: 31031150.0000 - g_loss_loss: 15515575.0000 - d_loss_loss: 15515575.0000\n",
            "Epoch 133/200\n",
            "1138/1138 [==============================] - 5s 4ms/step - loss: 31062756.0000 - g_loss_loss: 15531378.0000 - d_loss_loss: 15531378.0000\n",
            "1138/1138 [==============================] - 7s 6ms/step - loss: 30968216.0000 - g_loss_loss: 15484108.0000 - d_loss_loss: 15484108.0000\n",
            "Epoch 134/200\n",
            "1138/1138 [==============================] - 5s 4ms/step - loss: 31047698.0000 - g_loss_loss: 15523849.0000 - d_loss_loss: 15523849.0000\n",
            "1138/1138 [==============================] - 7s 6ms/step - loss: 30932478.0000 - g_loss_loss: 15466239.0000 - d_loss_loss: 15466239.0000\n",
            "Epoch 135/200\n",
            "1138/1138 [==============================] - 5s 4ms/step - loss: 30892328.0000 - g_loss_loss: 15446164.0000 - d_loss_loss: 15446164.0000\n",
            "1138/1138 [==============================] - 6s 5ms/step - loss: 31041902.0000 - g_loss_loss: 15520951.0000 - d_loss_loss: 15520951.0000\n",
            "Epoch 136/200\n",
            "1138/1138 [==============================] - 6s 6ms/step - loss: 31067170.0000 - g_loss_loss: 15533585.0000 - d_loss_loss: 15533585.0000\n",
            "1138/1138 [==============================] - 5s 4ms/step - loss: 30848814.0000 - g_loss_loss: 15424407.0000 - d_loss_loss: 15424407.0000\n",
            "Epoch 137/200\n",
            "1138/1138 [==============================] - 7s 6ms/step - loss: 30959574.0000 - g_loss_loss: 15479787.0000 - d_loss_loss: 15479787.0000\n",
            "1138/1138 [==============================] - 5s 5ms/step - loss: 30838678.0000 - g_loss_loss: 15419339.0000 - d_loss_loss: 15419339.0000\n",
            "Epoch 138/200\n",
            "1138/1138 [==============================] - 7s 6ms/step - loss: 31029758.0000 - g_loss_loss: 15514879.0000 - d_loss_loss: 15514879.0000\n",
            "1138/1138 [==============================] - 5s 5ms/step - loss: 31116460.0000 - g_loss_loss: 15558230.0000 - d_loss_loss: 15558230.0000\n",
            "Epoch 139/200\n",
            "1138/1138 [==============================] - 5s 4ms/step - loss: 31158236.0000 - g_loss_loss: 15579118.0000 - d_loss_loss: 15579118.0000\n",
            "1138/1138 [==============================] - 7s 6ms/step - loss: 30925468.0000 - g_loss_loss: 15462734.0000 - d_loss_loss: 15462734.0000\n",
            "Epoch 140/200\n",
            "1138/1138 [==============================] - 5s 4ms/step - loss: 30951552.0000 - g_loss_loss: 15475776.0000 - d_loss_loss: 15475776.0000\n",
            "1138/1138 [==============================] - 6s 6ms/step - loss: 31158858.0000 - g_loss_loss: 15579429.0000 - d_loss_loss: 15579429.0000\n",
            "Epoch 141/200\n",
            "1138/1138 [==============================] - 5s 5ms/step - loss: 30946662.0000 - g_loss_loss: 15473331.0000 - d_loss_loss: 15473331.0000\n",
            "1138/1138 [==============================] - 7s 6ms/step - loss: 31024932.0000 - g_loss_loss: 15512466.0000 - d_loss_loss: 15512466.0000\n",
            "Epoch 142/200\n",
            "1138/1138 [==============================] - 6s 5ms/step - loss: 31091526.0000 - g_loss_loss: 15545763.0000 - d_loss_loss: 15545763.0000\n",
            "1138/1138 [==============================] - 7s 7ms/step - loss: 31067100.0000 - g_loss_loss: 15533550.0000 - d_loss_loss: 15533550.0000\n",
            "Epoch 143/200\n",
            "1138/1138 [==============================] - 5s 4ms/step - loss: 30920430.0000 - g_loss_loss: 15460215.0000 - d_loss_loss: 15460215.0000\n",
            "1138/1138 [==============================] - 7s 6ms/step - loss: 31097082.0000 - g_loss_loss: 15548541.0000 - d_loss_loss: 15548541.0000\n",
            "Epoch 144/200\n",
            "1138/1138 [==============================] - 5s 4ms/step - loss: 31014258.0000 - g_loss_loss: 15507129.0000 - d_loss_loss: 15507129.0000\n",
            "1138/1138 [==============================] - 5s 4ms/step - loss: 30911122.0000 - g_loss_loss: 15455561.0000 - d_loss_loss: 15455561.0000\n",
            "Epoch 145/200\n",
            "1138/1138 [==============================] - 5s 5ms/step - loss: 30962408.0000 - g_loss_loss: 15481204.0000 - d_loss_loss: 15481204.0000\n",
            "1138/1138 [==============================] - 5s 4ms/step - loss: 30981980.0000 - g_loss_loss: 15490990.0000 - d_loss_loss: 15490990.0000\n",
            "Epoch 146/200\n",
            "1138/1138 [==============================] - 7s 6ms/step - loss: 31135494.0000 - g_loss_loss: 15567747.0000 - d_loss_loss: 15567747.0000\n",
            "1138/1138 [==============================] - 6s 5ms/step - loss: 30974844.0000 - g_loss_loss: 15487422.0000 - d_loss_loss: 15487422.0000\n",
            "Epoch 147/200\n",
            "1138/1138 [==============================] - 5s 4ms/step - loss: 31148586.0000 - g_loss_loss: 15574293.0000 - d_loss_loss: 15574293.0000\n",
            "1138/1138 [==============================] - 7s 6ms/step - loss: 30833886.0000 - g_loss_loss: 15416943.0000 - d_loss_loss: 15416943.0000\n",
            "Epoch 148/200\n",
            "1138/1138 [==============================] - 5s 4ms/step - loss: 30852284.0000 - g_loss_loss: 15426142.0000 - d_loss_loss: 15426142.0000\n",
            "1138/1138 [==============================] - 6s 5ms/step - loss: 30800338.0000 - g_loss_loss: 15400169.0000 - d_loss_loss: 15400169.0000\n",
            "Epoch 149/200\n",
            "1138/1138 [==============================] - 5s 4ms/step - loss: 31174330.0000 - g_loss_loss: 15587165.0000 - d_loss_loss: 15587165.0000\n",
            "1138/1138 [==============================] - 6s 6ms/step - loss: 31222776.0000 - g_loss_loss: 15611388.0000 - d_loss_loss: 15611388.0000\n",
            "Epoch 150/200\n",
            "1138/1138 [==============================] - 5s 4ms/step - loss: 30991046.0000 - g_loss_loss: 15495523.0000 - d_loss_loss: 15495523.0000\n",
            "1138/1138 [==============================] - 7s 6ms/step - loss: 31157310.0000 - g_loss_loss: 15578655.0000 - d_loss_loss: 15578655.0000\n",
            "Epoch 151/200\n",
            "1138/1138 [==============================] - 5s 4ms/step - loss: 31016054.0000 - g_loss_loss: 15508027.0000 - d_loss_loss: 15508027.0000\n",
            "1138/1138 [==============================] - 7s 6ms/step - loss: 31103556.0000 - g_loss_loss: 15551778.0000 - d_loss_loss: 15551778.0000\n",
            "Epoch 152/200\n",
            "1138/1138 [==============================] - 5s 5ms/step - loss: 31033912.0000 - g_loss_loss: 15516956.0000 - d_loss_loss: 15516956.0000\n",
            "1138/1138 [==============================] - 7s 6ms/step - loss: 31062036.0000 - g_loss_loss: 15531018.0000 - d_loss_loss: 15531018.0000\n",
            "Epoch 153/200\n",
            "1138/1138 [==============================] - 5s 4ms/step - loss: 30938068.0000 - g_loss_loss: 15469034.0000 - d_loss_loss: 15469034.0000\n",
            "1138/1138 [==============================] - 7s 6ms/step - loss: 31035148.0000 - g_loss_loss: 15517574.0000 - d_loss_loss: 15517574.0000\n",
            "Epoch 154/200\n",
            "1138/1138 [==============================] - 5s 4ms/step - loss: 30928816.0000 - g_loss_loss: 15464408.0000 - d_loss_loss: 15464408.0000\n",
            "1138/1138 [==============================] - 7s 6ms/step - loss: 30998570.0000 - g_loss_loss: 15499285.0000 - d_loss_loss: 15499285.0000\n",
            "Epoch 155/200\n",
            "1138/1138 [==============================] - 5s 4ms/step - loss: 30822128.0000 - g_loss_loss: 15411064.0000 - d_loss_loss: 15411064.0000\n",
            "1138/1138 [==============================] - 7s 6ms/step - loss: 30850948.0000 - g_loss_loss: 15425474.0000 - d_loss_loss: 15425474.0000\n",
            "Epoch 156/200\n",
            "1138/1138 [==============================] - 5s 5ms/step - loss: 30897352.0000 - g_loss_loss: 15448676.0000 - d_loss_loss: 15448676.0000\n",
            "1138/1138 [==============================] - 5s 4ms/step - loss: 30994776.0000 - g_loss_loss: 15497388.0000 - d_loss_loss: 15497388.0000\n",
            "Epoch 157/200\n",
            "1138/1138 [==============================] - 7s 6ms/step - loss: 31087508.0000 - g_loss_loss: 15543754.0000 - d_loss_loss: 15543754.0000\n",
            "1138/1138 [==============================] - 5s 4ms/step - loss: 31075278.0000 - g_loss_loss: 15537639.0000 - d_loss_loss: 15537639.0000\n",
            "Epoch 158/200\n",
            "1138/1138 [==============================] - 6s 5ms/step - loss: 31006606.0000 - g_loss_loss: 15503303.0000 - d_loss_loss: 15503303.0000\n",
            "1138/1138 [==============================] - 6s 5ms/step - loss: 30951152.0000 - g_loss_loss: 15475576.0000 - d_loss_loss: 15475576.0000\n",
            "Epoch 159/200\n",
            "1138/1138 [==============================] - 5s 4ms/step - loss: 31005876.0000 - g_loss_loss: 15502938.0000 - d_loss_loss: 15502938.0000\n",
            "1138/1138 [==============================] - 7s 6ms/step - loss: 31054600.0000 - g_loss_loss: 15527300.0000 - d_loss_loss: 15527300.0000\n",
            "Epoch 160/200\n",
            "1138/1138 [==============================] - 5s 5ms/step - loss: 31038236.0000 - g_loss_loss: 15519118.0000 - d_loss_loss: 15519118.0000\n",
            "1138/1138 [==============================] - 5s 4ms/step - loss: 30912380.0000 - g_loss_loss: 15456190.0000 - d_loss_loss: 15456190.0000\n",
            "Epoch 161/200\n",
            "1138/1138 [==============================] - 7s 6ms/step - loss: 31075284.0000 - g_loss_loss: 15537642.0000 - d_loss_loss: 15537642.0000\n",
            "1138/1138 [==============================] - 5s 4ms/step - loss: 31059626.0000 - g_loss_loss: 15529813.0000 - d_loss_loss: 15529813.0000\n",
            "Epoch 162/200\n",
            "1138/1138 [==============================] - 7s 6ms/step - loss: 31089888.0000 - g_loss_loss: 15544944.0000 - d_loss_loss: 15544944.0000\n",
            "1138/1138 [==============================] - 5s 4ms/step - loss: 31092524.0000 - g_loss_loss: 15546262.0000 - d_loss_loss: 15546262.0000\n",
            "Epoch 163/200\n",
            "1138/1138 [==============================] - 6s 5ms/step - loss: 30933824.0000 - g_loss_loss: 15466912.0000 - d_loss_loss: 15466912.0000\n",
            "1138/1138 [==============================] - 6s 5ms/step - loss: 31058002.0000 - g_loss_loss: 15529001.0000 - d_loss_loss: 15529001.0000\n",
            "Epoch 164/200\n",
            "1138/1138 [==============================] - 5s 4ms/step - loss: 31081932.0000 - g_loss_loss: 15540966.0000 - d_loss_loss: 15540966.0000\n",
            "1138/1138 [==============================] - 7s 6ms/step - loss: 31185436.0000 - g_loss_loss: 15592718.0000 - d_loss_loss: 15592718.0000\n",
            "Epoch 165/200\n",
            "1138/1138 [==============================] - 5s 4ms/step - loss: 30814772.0000 - g_loss_loss: 15407386.0000 - d_loss_loss: 15407386.0000\n",
            "1138/1138 [==============================] - 7s 6ms/step - loss: 31276668.0000 - g_loss_loss: 15638334.0000 - d_loss_loss: 15638334.0000\n",
            "Epoch 166/200\n",
            "1138/1138 [==============================] - 5s 4ms/step - loss: 30890856.0000 - g_loss_loss: 15445428.0000 - d_loss_loss: 15445428.0000\n",
            "1138/1138 [==============================] - 5s 4ms/step - loss: 31002026.0000 - g_loss_loss: 15501013.0000 - d_loss_loss: 15501013.0000\n",
            "Epoch 167/200\n",
            "1138/1138 [==============================] - 5s 5ms/step - loss: 30864122.0000 - g_loss_loss: 15432061.0000 - d_loss_loss: 15432061.0000\n",
            "1138/1138 [==============================] - 7s 6ms/step - loss: 30974984.0000 - g_loss_loss: 15487492.0000 - d_loss_loss: 15487492.0000\n",
            "Epoch 168/200\n",
            "1138/1138 [==============================] - 5s 5ms/step - loss: 30982002.0000 - g_loss_loss: 15491001.0000 - d_loss_loss: 15491001.0000\n",
            "1138/1138 [==============================] - 6s 5ms/step - loss: 31082276.0000 - g_loss_loss: 15541138.0000 - d_loss_loss: 15541138.0000\n",
            "Epoch 169/200\n",
            "1138/1138 [==============================] - 7s 6ms/step - loss: 31222248.0000 - g_loss_loss: 15611124.0000 - d_loss_loss: 15611124.0000\n",
            "1138/1138 [==============================] - 5s 4ms/step - loss: 30843270.0000 - g_loss_loss: 15421635.0000 - d_loss_loss: 15421635.0000\n",
            "Epoch 170/200\n",
            "1138/1138 [==============================] - 5s 5ms/step - loss: 31023272.0000 - g_loss_loss: 15511636.0000 - d_loss_loss: 15511636.0000\n",
            "1138/1138 [==============================] - 5s 4ms/step - loss: 30838730.0000 - g_loss_loss: 15419365.0000 - d_loss_loss: 15419365.0000\n",
            "Epoch 171/200\n",
            "1138/1138 [==============================] - 7s 6ms/step - loss: 30943566.0000 - g_loss_loss: 15471783.0000 - d_loss_loss: 15471783.0000\n",
            "1138/1138 [==============================] - 6s 5ms/step - loss: 30892998.0000 - g_loss_loss: 15446499.0000 - d_loss_loss: 15446499.0000\n",
            "Epoch 172/200\n",
            "1138/1138 [==============================] - 7s 6ms/step - loss: 30993576.0000 - g_loss_loss: 15496788.0000 - d_loss_loss: 15496788.0000\n",
            "1138/1138 [==============================] - 5s 4ms/step - loss: 31112952.0000 - g_loss_loss: 15556476.0000 - d_loss_loss: 15556476.0000\n",
            "Epoch 173/200\n",
            "1138/1138 [==============================] - 7s 6ms/step - loss: 30980792.0000 - g_loss_loss: 15490396.0000 - d_loss_loss: 15490396.0000\n",
            "1138/1138 [==============================] - 5s 4ms/step - loss: 30920042.0000 - g_loss_loss: 15460021.0000 - d_loss_loss: 15460021.0000\n",
            "Epoch 174/200\n",
            "1138/1138 [==============================] - 7s 6ms/step - loss: 30932286.0000 - g_loss_loss: 15466143.0000 - d_loss_loss: 15466143.0000\n",
            "1138/1138 [==============================] - 5s 4ms/step - loss: 30935790.0000 - g_loss_loss: 15467895.0000 - d_loss_loss: 15467895.0000\n",
            "Epoch 175/200\n",
            "1138/1138 [==============================] - 7s 6ms/step - loss: 31073538.0000 - g_loss_loss: 15536769.0000 - d_loss_loss: 15536769.0000\n",
            "1138/1138 [==============================] - 5s 5ms/step - loss: 31068628.0000 - g_loss_loss: 15534314.0000 - d_loss_loss: 15534314.0000\n",
            "Epoch 176/200\n",
            "1138/1138 [==============================] - 7s 6ms/step - loss: 30882928.0000 - g_loss_loss: 15441464.0000 - d_loss_loss: 15441464.0000\n",
            "1138/1138 [==============================] - 5s 4ms/step - loss: 31107368.0000 - g_loss_loss: 15553684.0000 - d_loss_loss: 15553684.0000\n",
            "Epoch 177/200\n",
            "1138/1138 [==============================] - 6s 5ms/step - loss: 30954746.0000 - g_loss_loss: 15477373.0000 - d_loss_loss: 15477373.0000\n",
            "1138/1138 [==============================] - 6s 6ms/step - loss: 30892904.0000 - g_loss_loss: 15446452.0000 - d_loss_loss: 15446452.0000\n",
            "Epoch 178/200\n",
            "1138/1138 [==============================] - 6s 5ms/step - loss: 31031334.0000 - g_loss_loss: 15515667.0000 - d_loss_loss: 15515667.0000\n",
            "1138/1138 [==============================] - 6s 6ms/step - loss: 31023064.0000 - g_loss_loss: 15511532.0000 - d_loss_loss: 15511532.0000\n",
            "Epoch 179/200\n",
            "1138/1138 [==============================] - 5s 4ms/step - loss: 31106378.0000 - g_loss_loss: 15553189.0000 - d_loss_loss: 15553189.0000\n",
            "1138/1138 [==============================] - 7s 6ms/step - loss: 31057426.0000 - g_loss_loss: 15528713.0000 - d_loss_loss: 15528713.0000\n",
            "Epoch 180/200\n",
            "1138/1138 [==============================] - 6s 5ms/step - loss: 30966742.0000 - g_loss_loss: 15483371.0000 - d_loss_loss: 15483371.0000\n",
            "1138/1138 [==============================] - 7s 6ms/step - loss: 31020476.0000 - g_loss_loss: 15510238.0000 - d_loss_loss: 15510238.0000\n",
            "Epoch 181/200\n",
            "1138/1138 [==============================] - 5s 4ms/step - loss: 30901298.0000 - g_loss_loss: 15450649.0000 - d_loss_loss: 15450649.0000\n",
            "1138/1138 [==============================] - 7s 7ms/step - loss: 30912956.0000 - g_loss_loss: 15456478.0000 - d_loss_loss: 15456478.0000\n",
            "Epoch 182/200\n",
            "1138/1138 [==============================] - 5s 5ms/step - loss: 30997090.0000 - g_loss_loss: 15498545.0000 - d_loss_loss: 15498545.0000\n",
            "1138/1138 [==============================] - 5s 5ms/step - loss: 31056238.0000 - g_loss_loss: 15528119.0000 - d_loss_loss: 15528119.0000\n",
            "Epoch 183/200\n",
            "1138/1138 [==============================] - 6s 5ms/step - loss: 31098770.0000 - g_loss_loss: 15549385.0000 - d_loss_loss: 15549385.0000\n",
            "1138/1138 [==============================] - 7s 6ms/step - loss: 31030784.0000 - g_loss_loss: 15515392.0000 - d_loss_loss: 15515392.0000\n",
            "Epoch 184/200\n",
            "1138/1138 [==============================] - 6s 5ms/step - loss: 30953280.0000 - g_loss_loss: 15476640.0000 - d_loss_loss: 15476640.0000\n",
            "1138/1138 [==============================] - 5s 5ms/step - loss: 31136550.0000 - g_loss_loss: 15568275.0000 - d_loss_loss: 15568275.0000\n",
            "Epoch 185/200\n",
            "1138/1138 [==============================] - 5s 5ms/step - loss: 30943606.0000 - g_loss_loss: 15471803.0000 - d_loss_loss: 15471803.0000\n",
            "1138/1138 [==============================] - 5s 5ms/step - loss: 31004890.0000 - g_loss_loss: 15502445.0000 - d_loss_loss: 15502445.0000\n",
            "Epoch 186/200\n",
            "1138/1138 [==============================] - 7s 6ms/step - loss: 30938138.0000 - g_loss_loss: 15469069.0000 - d_loss_loss: 15469069.0000\n",
            "1138/1138 [==============================] - 5s 5ms/step - loss: 30937586.0000 - g_loss_loss: 15468793.0000 - d_loss_loss: 15468793.0000\n",
            "Epoch 187/200\n",
            "1138/1138 [==============================] - 5s 5ms/step - loss: 31138772.0000 - g_loss_loss: 15569386.0000 - d_loss_loss: 15569386.0000\n",
            "1138/1138 [==============================] - 7s 6ms/step - loss: 30950634.0000 - g_loss_loss: 15475317.0000 - d_loss_loss: 15475317.0000\n",
            "Epoch 188/200\n",
            "1138/1138 [==============================] - 6s 5ms/step - loss: 31064480.0000 - g_loss_loss: 15532240.0000 - d_loss_loss: 15532240.0000\n",
            "1138/1138 [==============================] - 6s 5ms/step - loss: 31065974.0000 - g_loss_loss: 15532987.0000 - d_loss_loss: 15532987.0000\n",
            "Epoch 189/200\n",
            "1138/1138 [==============================] - 5s 5ms/step - loss: 30984010.0000 - g_loss_loss: 15492005.0000 - d_loss_loss: 15492005.0000\n",
            "1138/1138 [==============================] - 5s 5ms/step - loss: 31212220.0000 - g_loss_loss: 15606110.0000 - d_loss_loss: 15606110.0000\n",
            "Epoch 190/200\n",
            "1138/1138 [==============================] - 6s 5ms/step - loss: 30898788.0000 - g_loss_loss: 15449392.0000 - d_loss_loss: 15449394.0000\n",
            "1138/1138 [==============================] - 5s 5ms/step - loss: 31011550.0000 - g_loss_loss: 15505775.0000 - d_loss_loss: 15505775.0000\n",
            "Epoch 191/200\n",
            "1138/1138 [==============================] - 5s 5ms/step - loss: 30986092.0000 - g_loss_loss: 15493046.0000 - d_loss_loss: 15493046.0000\n",
            "1138/1138 [==============================] - 6s 5ms/step - loss: 31043126.0000 - g_loss_loss: 15521563.0000 - d_loss_loss: 15521563.0000\n",
            "Epoch 192/200\n",
            "1138/1138 [==============================] - 7s 7ms/step - loss: 31027226.0000 - g_loss_loss: 15513613.0000 - d_loss_loss: 15513613.0000\n",
            "1138/1138 [==============================] - 5s 5ms/step - loss: 30978274.0000 - g_loss_loss: 15489137.0000 - d_loss_loss: 15489137.0000\n",
            "Epoch 193/200\n",
            "1138/1138 [==============================] - 7s 7ms/step - loss: 31075900.0000 - g_loss_loss: 15537950.0000 - d_loss_loss: 15537950.0000\n",
            "1138/1138 [==============================] - 5s 4ms/step - loss: 30974494.0000 - g_loss_loss: 15487247.0000 - d_loss_loss: 15487247.0000\n",
            "Epoch 194/200\n",
            "1138/1138 [==============================] - 7s 6ms/step - loss: 30955344.0000 - g_loss_loss: 15477672.0000 - d_loss_loss: 15477672.0000\n",
            "1138/1138 [==============================] - 5s 5ms/step - loss: 31099252.0000 - g_loss_loss: 15549626.0000 - d_loss_loss: 15549626.0000\n",
            "Epoch 195/200\n",
            "1138/1138 [==============================] - 7s 6ms/step - loss: 31129090.0000 - g_loss_loss: 15564545.0000 - d_loss_loss: 15564545.0000\n",
            "1138/1138 [==============================] - 5s 5ms/step - loss: 31242308.0000 - g_loss_loss: 15621154.0000 - d_loss_loss: 15621154.0000\n",
            "Epoch 196/200\n",
            "1138/1138 [==============================] - 7s 7ms/step - loss: 31070604.0000 - g_loss_loss: 15535302.0000 - d_loss_loss: 15535302.0000\n",
            "1138/1138 [==============================] - 5s 5ms/step - loss: 31043500.0000 - g_loss_loss: 15521750.0000 - d_loss_loss: 15521750.0000\n",
            "Epoch 197/200\n",
            "1138/1138 [==============================] - 5s 4ms/step - loss: 31067028.0000 - g_loss_loss: 15533514.0000 - d_loss_loss: 15533514.0000\n",
            "1138/1138 [==============================] - 6s 6ms/step - loss: 31042088.0000 - g_loss_loss: 15521044.0000 - d_loss_loss: 15521044.0000\n",
            "Epoch 198/200\n",
            "1138/1138 [==============================] - 6s 6ms/step - loss: 30984410.0000 - g_loss_loss: 15492205.0000 - d_loss_loss: 15492205.0000\n",
            "1138/1138 [==============================] - 5s 4ms/step - loss: 31009072.0000 - g_loss_loss: 15504536.0000 - d_loss_loss: 15504536.0000\n",
            "Epoch 199/200\n",
            "1138/1138 [==============================] - 5s 5ms/step - loss: 31040530.0000 - g_loss_loss: 15520265.0000 - d_loss_loss: 15520265.0000\n",
            "1138/1138 [==============================] - 8s 7ms/step - loss: 30833238.0000 - g_loss_loss: 15416619.0000 - d_loss_loss: 15416619.0000\n",
            "Epoch 200/200\n",
            "1138/1138 [==============================] - 5s 5ms/step - loss: 30891158.0000 - g_loss_loss: 15445579.0000 - d_loss_loss: 15445579.0000\n",
            "1138/1138 [==============================] - 7s 7ms/step - loss: 30978200.0000 - g_loss_loss: 15489100.0000 - d_loss_loss: 15489100.0000\n"
          ]
        }
      ]
    },
    {
      "cell_type": "markdown",
      "source": [
        "## Auto Encoder"
      ],
      "metadata": {
        "id": "IrVPcg51DYuC"
      }
    },
    {
      "cell_type": "code",
      "source": [
        "X_train.head()"
      ],
      "metadata": {
        "colab": {
          "base_uri": "https://localhost:8080/",
          "height": 256
        },
        "id": "7Phqsi7bDXS3",
        "outputId": "adbacd6b-5867-4605-edce-8be3296f889e"
      },
      "execution_count": 81,
      "outputs": [
        {
          "output_type": "execute_result",
          "data": {
            "text/plain": [
              "   input_transaction_count  output_transaction_count  input_value_mean  \\\n",
              "0                      5.0                       5.0         4126654.4   \n",
              "1                      1.0                       1.0          139863.0   \n",
              "2                      1.0                       1.0         4600000.0   \n",
              "3                      1.0                       1.0         2538940.0   \n",
              "4                      1.0                       1.0          739047.0   \n",
              "\n",
              "   input_value_median  input_value_maximum  input_value_minimum  \\\n",
              "0           3775772.0           10000000.0             100000.0   \n",
              "1            139863.0             139863.0             139863.0   \n",
              "2           4600000.0            4600000.0            4600000.0   \n",
              "3           2538940.0            2538940.0            2538940.0   \n",
              "4            739047.0             739047.0             739047.0   \n",
              "\n",
              "   input_value_25th_percentile  input_value_75th_percentile  \\\n",
              "0                    1757500.0                    5000000.0   \n",
              "1                     139863.0                     139863.0   \n",
              "2                    4600000.0                    4600000.0   \n",
              "3                    2538940.0                    2538940.0   \n",
              "4                     739047.0                     739047.0   \n",
              "\n",
              "   input_value_range  input_spending_value_usd_mean  ...  \\\n",
              "0          9900000.0                       876.2368  ...   \n",
              "1                0.0                        14.7539  ...   \n",
              "2                0.0                       441.1833  ...   \n",
              "3                0.0                       244.3648  ...   \n",
              "4                0.0                        78.9625  ...   \n",
              "\n",
              "   input_output_usd_max_ratio  input_output_usd_min_ratio  \\\n",
              "0                    0.915961                    0.970265   \n",
              "1                    0.987312                    0.987312   \n",
              "2                    0.911570                    0.911570   \n",
              "3                    1.395747                    1.395747   \n",
              "4                    1.044800                    1.044800   \n",
              "\n",
              "   input_output_usd_percentile_25_diff  input_output_usd_percentile_75_diff  \\\n",
              "0                             165.8845                             664.1546   \n",
              "1                              -0.1896                              -0.1896   \n",
              "2                             -42.7983                             -42.7983   \n",
              "3                              69.2866                              69.2866   \n",
              "4                               3.3858                               3.3858   \n",
              "\n",
              "   input_range_mean_ratio  output_range_mean_ratio  \\\n",
              "0                1.932576                 2.705312   \n",
              "1                0.000000                 0.000000   \n",
              "2                0.000000                 0.000000   \n",
              "3                0.000000                 0.000000   \n",
              "4                0.000000                 0.000000   \n",
              "\n",
              "   input_output_transaction_count_ratio  \\\n",
              "0                                   1.0   \n",
              "1                                   1.0   \n",
              "2                                   1.0   \n",
              "3                                   1.0   \n",
              "4                                   1.0   \n",
              "\n",
              "   input_output_maximum_transaction_value_diff  \\\n",
              "0                                          0.0   \n",
              "1                                          0.0   \n",
              "2                                          0.0   \n",
              "3                                          0.0   \n",
              "4                                          0.0   \n",
              "\n",
              "   input_output_minimum_transaction_value_diff  \\\n",
              "0                                          0.0   \n",
              "1                                          0.0   \n",
              "2                                          0.0   \n",
              "3                                          0.0   \n",
              "4                                          0.0   \n",
              "\n",
              "   input_output_time_diff_max_min_diff  \n",
              "0                          -15775957.0  \n",
              "1                                  0.0  \n",
              "2                                  0.0  \n",
              "3                                  0.0  \n",
              "4                                  0.0  \n",
              "\n",
              "[5 rows x 62 columns]"
            ],
            "text/html": [
              "\n",
              "  <div id=\"df-6e40d2f6-1314-4f34-8d86-e30cb98a9af5\" class=\"colab-df-container\">\n",
              "    <div>\n",
              "<style scoped>\n",
              "    .dataframe tbody tr th:only-of-type {\n",
              "        vertical-align: middle;\n",
              "    }\n",
              "\n",
              "    .dataframe tbody tr th {\n",
              "        vertical-align: top;\n",
              "    }\n",
              "\n",
              "    .dataframe thead th {\n",
              "        text-align: right;\n",
              "    }\n",
              "</style>\n",
              "<table border=\"1\" class=\"dataframe\">\n",
              "  <thead>\n",
              "    <tr style=\"text-align: right;\">\n",
              "      <th></th>\n",
              "      <th>input_transaction_count</th>\n",
              "      <th>output_transaction_count</th>\n",
              "      <th>input_value_mean</th>\n",
              "      <th>input_value_median</th>\n",
              "      <th>input_value_maximum</th>\n",
              "      <th>input_value_minimum</th>\n",
              "      <th>input_value_25th_percentile</th>\n",
              "      <th>input_value_75th_percentile</th>\n",
              "      <th>input_value_range</th>\n",
              "      <th>input_spending_value_usd_mean</th>\n",
              "      <th>...</th>\n",
              "      <th>input_output_usd_max_ratio</th>\n",
              "      <th>input_output_usd_min_ratio</th>\n",
              "      <th>input_output_usd_percentile_25_diff</th>\n",
              "      <th>input_output_usd_percentile_75_diff</th>\n",
              "      <th>input_range_mean_ratio</th>\n",
              "      <th>output_range_mean_ratio</th>\n",
              "      <th>input_output_transaction_count_ratio</th>\n",
              "      <th>input_output_maximum_transaction_value_diff</th>\n",
              "      <th>input_output_minimum_transaction_value_diff</th>\n",
              "      <th>input_output_time_diff_max_min_diff</th>\n",
              "    </tr>\n",
              "  </thead>\n",
              "  <tbody>\n",
              "    <tr>\n",
              "      <th>0</th>\n",
              "      <td>5.0</td>\n",
              "      <td>5.0</td>\n",
              "      <td>4126654.4</td>\n",
              "      <td>3775772.0</td>\n",
              "      <td>10000000.0</td>\n",
              "      <td>100000.0</td>\n",
              "      <td>1757500.0</td>\n",
              "      <td>5000000.0</td>\n",
              "      <td>9900000.0</td>\n",
              "      <td>876.2368</td>\n",
              "      <td>...</td>\n",
              "      <td>0.915961</td>\n",
              "      <td>0.970265</td>\n",
              "      <td>165.8845</td>\n",
              "      <td>664.1546</td>\n",
              "      <td>1.932576</td>\n",
              "      <td>2.705312</td>\n",
              "      <td>1.0</td>\n",
              "      <td>0.0</td>\n",
              "      <td>0.0</td>\n",
              "      <td>-15775957.0</td>\n",
              "    </tr>\n",
              "    <tr>\n",
              "      <th>1</th>\n",
              "      <td>1.0</td>\n",
              "      <td>1.0</td>\n",
              "      <td>139863.0</td>\n",
              "      <td>139863.0</td>\n",
              "      <td>139863.0</td>\n",
              "      <td>139863.0</td>\n",
              "      <td>139863.0</td>\n",
              "      <td>139863.0</td>\n",
              "      <td>0.0</td>\n",
              "      <td>14.7539</td>\n",
              "      <td>...</td>\n",
              "      <td>0.987312</td>\n",
              "      <td>0.987312</td>\n",
              "      <td>-0.1896</td>\n",
              "      <td>-0.1896</td>\n",
              "      <td>0.000000</td>\n",
              "      <td>0.000000</td>\n",
              "      <td>1.0</td>\n",
              "      <td>0.0</td>\n",
              "      <td>0.0</td>\n",
              "      <td>0.0</td>\n",
              "    </tr>\n",
              "    <tr>\n",
              "      <th>2</th>\n",
              "      <td>1.0</td>\n",
              "      <td>1.0</td>\n",
              "      <td>4600000.0</td>\n",
              "      <td>4600000.0</td>\n",
              "      <td>4600000.0</td>\n",
              "      <td>4600000.0</td>\n",
              "      <td>4600000.0</td>\n",
              "      <td>4600000.0</td>\n",
              "      <td>0.0</td>\n",
              "      <td>441.1833</td>\n",
              "      <td>...</td>\n",
              "      <td>0.911570</td>\n",
              "      <td>0.911570</td>\n",
              "      <td>-42.7983</td>\n",
              "      <td>-42.7983</td>\n",
              "      <td>0.000000</td>\n",
              "      <td>0.000000</td>\n",
              "      <td>1.0</td>\n",
              "      <td>0.0</td>\n",
              "      <td>0.0</td>\n",
              "      <td>0.0</td>\n",
              "    </tr>\n",
              "    <tr>\n",
              "      <th>3</th>\n",
              "      <td>1.0</td>\n",
              "      <td>1.0</td>\n",
              "      <td>2538940.0</td>\n",
              "      <td>2538940.0</td>\n",
              "      <td>2538940.0</td>\n",
              "      <td>2538940.0</td>\n",
              "      <td>2538940.0</td>\n",
              "      <td>2538940.0</td>\n",
              "      <td>0.0</td>\n",
              "      <td>244.3648</td>\n",
              "      <td>...</td>\n",
              "      <td>1.395747</td>\n",
              "      <td>1.395747</td>\n",
              "      <td>69.2866</td>\n",
              "      <td>69.2866</td>\n",
              "      <td>0.000000</td>\n",
              "      <td>0.000000</td>\n",
              "      <td>1.0</td>\n",
              "      <td>0.0</td>\n",
              "      <td>0.0</td>\n",
              "      <td>0.0</td>\n",
              "    </tr>\n",
              "    <tr>\n",
              "      <th>4</th>\n",
              "      <td>1.0</td>\n",
              "      <td>1.0</td>\n",
              "      <td>739047.0</td>\n",
              "      <td>739047.0</td>\n",
              "      <td>739047.0</td>\n",
              "      <td>739047.0</td>\n",
              "      <td>739047.0</td>\n",
              "      <td>739047.0</td>\n",
              "      <td>0.0</td>\n",
              "      <td>78.9625</td>\n",
              "      <td>...</td>\n",
              "      <td>1.044800</td>\n",
              "      <td>1.044800</td>\n",
              "      <td>3.3858</td>\n",
              "      <td>3.3858</td>\n",
              "      <td>0.000000</td>\n",
              "      <td>0.000000</td>\n",
              "      <td>1.0</td>\n",
              "      <td>0.0</td>\n",
              "      <td>0.0</td>\n",
              "      <td>0.0</td>\n",
              "    </tr>\n",
              "  </tbody>\n",
              "</table>\n",
              "<p>5 rows × 62 columns</p>\n",
              "</div>\n",
              "    <div class=\"colab-df-buttons\">\n",
              "\n",
              "  <div class=\"colab-df-container\">\n",
              "    <button class=\"colab-df-convert\" onclick=\"convertToInteractive('df-6e40d2f6-1314-4f34-8d86-e30cb98a9af5')\"\n",
              "            title=\"Convert this dataframe to an interactive table.\"\n",
              "            style=\"display:none;\">\n",
              "\n",
              "  <svg xmlns=\"http://www.w3.org/2000/svg\" height=\"24px\" viewBox=\"0 -960 960 960\">\n",
              "    <path d=\"M120-120v-720h720v720H120Zm60-500h600v-160H180v160Zm220 220h160v-160H400v160Zm0 220h160v-160H400v160ZM180-400h160v-160H180v160Zm440 0h160v-160H620v160ZM180-180h160v-160H180v160Zm440 0h160v-160H620v160Z\"/>\n",
              "  </svg>\n",
              "    </button>\n",
              "\n",
              "  <style>\n",
              "    .colab-df-container {\n",
              "      display:flex;\n",
              "      gap: 12px;\n",
              "    }\n",
              "\n",
              "    .colab-df-convert {\n",
              "      background-color: #E8F0FE;\n",
              "      border: none;\n",
              "      border-radius: 50%;\n",
              "      cursor: pointer;\n",
              "      display: none;\n",
              "      fill: #1967D2;\n",
              "      height: 32px;\n",
              "      padding: 0 0 0 0;\n",
              "      width: 32px;\n",
              "    }\n",
              "\n",
              "    .colab-df-convert:hover {\n",
              "      background-color: #E2EBFA;\n",
              "      box-shadow: 0px 1px 2px rgba(60, 64, 67, 0.3), 0px 1px 3px 1px rgba(60, 64, 67, 0.15);\n",
              "      fill: #174EA6;\n",
              "    }\n",
              "\n",
              "    .colab-df-buttons div {\n",
              "      margin-bottom: 4px;\n",
              "    }\n",
              "\n",
              "    [theme=dark] .colab-df-convert {\n",
              "      background-color: #3B4455;\n",
              "      fill: #D2E3FC;\n",
              "    }\n",
              "\n",
              "    [theme=dark] .colab-df-convert:hover {\n",
              "      background-color: #434B5C;\n",
              "      box-shadow: 0px 1px 3px 1px rgba(0, 0, 0, 0.15);\n",
              "      filter: drop-shadow(0px 1px 2px rgba(0, 0, 0, 0.3));\n",
              "      fill: #FFFFFF;\n",
              "    }\n",
              "  </style>\n",
              "\n",
              "    <script>\n",
              "      const buttonEl =\n",
              "        document.querySelector('#df-6e40d2f6-1314-4f34-8d86-e30cb98a9af5 button.colab-df-convert');\n",
              "      buttonEl.style.display =\n",
              "        google.colab.kernel.accessAllowed ? 'block' : 'none';\n",
              "\n",
              "      async function convertToInteractive(key) {\n",
              "        const element = document.querySelector('#df-6e40d2f6-1314-4f34-8d86-e30cb98a9af5');\n",
              "        const dataTable =\n",
              "          await google.colab.kernel.invokeFunction('convertToInteractive',\n",
              "                                                    [key], {});\n",
              "        if (!dataTable) return;\n",
              "\n",
              "        const docLinkHtml = 'Like what you see? Visit the ' +\n",
              "          '<a target=\"_blank\" href=https://colab.research.google.com/notebooks/data_table.ipynb>data table notebook</a>'\n",
              "          + ' to learn more about interactive tables.';\n",
              "        element.innerHTML = '';\n",
              "        dataTable['output_type'] = 'display_data';\n",
              "        await google.colab.output.renderOutput(dataTable, element);\n",
              "        const docLink = document.createElement('div');\n",
              "        docLink.innerHTML = docLinkHtml;\n",
              "        element.appendChild(docLink);\n",
              "      }\n",
              "    </script>\n",
              "  </div>\n",
              "\n",
              "\n",
              "<div id=\"df-e7c0f6ba-af84-420e-958f-6f9ca0b5b875\">\n",
              "  <button class=\"colab-df-quickchart\" onclick=\"quickchart('df-e7c0f6ba-af84-420e-958f-6f9ca0b5b875')\"\n",
              "            title=\"Suggest charts\"\n",
              "            style=\"display:none;\">\n",
              "\n",
              "<svg xmlns=\"http://www.w3.org/2000/svg\" height=\"24px\"viewBox=\"0 0 24 24\"\n",
              "     width=\"24px\">\n",
              "    <g>\n",
              "        <path d=\"M19 3H5c-1.1 0-2 .9-2 2v14c0 1.1.9 2 2 2h14c1.1 0 2-.9 2-2V5c0-1.1-.9-2-2-2zM9 17H7v-7h2v7zm4 0h-2V7h2v10zm4 0h-2v-4h2v4z\"/>\n",
              "    </g>\n",
              "</svg>\n",
              "  </button>\n",
              "\n",
              "<style>\n",
              "  .colab-df-quickchart {\n",
              "      --bg-color: #E8F0FE;\n",
              "      --fill-color: #1967D2;\n",
              "      --hover-bg-color: #E2EBFA;\n",
              "      --hover-fill-color: #174EA6;\n",
              "      --disabled-fill-color: #AAA;\n",
              "      --disabled-bg-color: #DDD;\n",
              "  }\n",
              "\n",
              "  [theme=dark] .colab-df-quickchart {\n",
              "      --bg-color: #3B4455;\n",
              "      --fill-color: #D2E3FC;\n",
              "      --hover-bg-color: #434B5C;\n",
              "      --hover-fill-color: #FFFFFF;\n",
              "      --disabled-bg-color: #3B4455;\n",
              "      --disabled-fill-color: #666;\n",
              "  }\n",
              "\n",
              "  .colab-df-quickchart {\n",
              "    background-color: var(--bg-color);\n",
              "    border: none;\n",
              "    border-radius: 50%;\n",
              "    cursor: pointer;\n",
              "    display: none;\n",
              "    fill: var(--fill-color);\n",
              "    height: 32px;\n",
              "    padding: 0;\n",
              "    width: 32px;\n",
              "  }\n",
              "\n",
              "  .colab-df-quickchart:hover {\n",
              "    background-color: var(--hover-bg-color);\n",
              "    box-shadow: 0 1px 2px rgba(60, 64, 67, 0.3), 0 1px 3px 1px rgba(60, 64, 67, 0.15);\n",
              "    fill: var(--button-hover-fill-color);\n",
              "  }\n",
              "\n",
              "  .colab-df-quickchart-complete:disabled,\n",
              "  .colab-df-quickchart-complete:disabled:hover {\n",
              "    background-color: var(--disabled-bg-color);\n",
              "    fill: var(--disabled-fill-color);\n",
              "    box-shadow: none;\n",
              "  }\n",
              "\n",
              "  .colab-df-spinner {\n",
              "    border: 2px solid var(--fill-color);\n",
              "    border-color: transparent;\n",
              "    border-bottom-color: var(--fill-color);\n",
              "    animation:\n",
              "      spin 1s steps(1) infinite;\n",
              "  }\n",
              "\n",
              "  @keyframes spin {\n",
              "    0% {\n",
              "      border-color: transparent;\n",
              "      border-bottom-color: var(--fill-color);\n",
              "      border-left-color: var(--fill-color);\n",
              "    }\n",
              "    20% {\n",
              "      border-color: transparent;\n",
              "      border-left-color: var(--fill-color);\n",
              "      border-top-color: var(--fill-color);\n",
              "    }\n",
              "    30% {\n",
              "      border-color: transparent;\n",
              "      border-left-color: var(--fill-color);\n",
              "      border-top-color: var(--fill-color);\n",
              "      border-right-color: var(--fill-color);\n",
              "    }\n",
              "    40% {\n",
              "      border-color: transparent;\n",
              "      border-right-color: var(--fill-color);\n",
              "      border-top-color: var(--fill-color);\n",
              "    }\n",
              "    60% {\n",
              "      border-color: transparent;\n",
              "      border-right-color: var(--fill-color);\n",
              "    }\n",
              "    80% {\n",
              "      border-color: transparent;\n",
              "      border-right-color: var(--fill-color);\n",
              "      border-bottom-color: var(--fill-color);\n",
              "    }\n",
              "    90% {\n",
              "      border-color: transparent;\n",
              "      border-bottom-color: var(--fill-color);\n",
              "    }\n",
              "  }\n",
              "</style>\n",
              "\n",
              "  <script>\n",
              "    async function quickchart(key) {\n",
              "      const quickchartButtonEl =\n",
              "        document.querySelector('#' + key + ' button');\n",
              "      quickchartButtonEl.disabled = true;  // To prevent multiple clicks.\n",
              "      quickchartButtonEl.classList.add('colab-df-spinner');\n",
              "      try {\n",
              "        const charts = await google.colab.kernel.invokeFunction(\n",
              "            'suggestCharts', [key], {});\n",
              "      } catch (error) {\n",
              "        console.error('Error during call to suggestCharts:', error);\n",
              "      }\n",
              "      quickchartButtonEl.classList.remove('colab-df-spinner');\n",
              "      quickchartButtonEl.classList.add('colab-df-quickchart-complete');\n",
              "    }\n",
              "    (() => {\n",
              "      let quickchartButtonEl =\n",
              "        document.querySelector('#df-e7c0f6ba-af84-420e-958f-6f9ca0b5b875 button');\n",
              "      quickchartButtonEl.style.display =\n",
              "        google.colab.kernel.accessAllowed ? 'block' : 'none';\n",
              "    })();\n",
              "  </script>\n",
              "</div>\n",
              "    </div>\n",
              "  </div>\n"
            ]
          },
          "metadata": {},
          "execution_count": 81
        }
      ]
    },
    {
      "cell_type": "code",
      "source": [
        "X_train.describe()"
      ],
      "metadata": {
        "colab": {
          "base_uri": "https://localhost:8080/",
          "height": 350
        },
        "id": "ut3HXhkaEx6x",
        "outputId": "1c5f2cf4-1621-48a5-a4bb-60718584d822"
      },
      "execution_count": 13,
      "outputs": [
        {
          "output_type": "execute_result",
          "data": {
            "text/plain": [
              "       input_transaction_count  input_value_mean  input_value_median  \\\n",
              "count             72809.000000      7.280900e+04        7.280900e+04   \n",
              "mean                 26.879067      5.650357e+07        4.252036e+07   \n",
              "std                1493.824322      5.278444e+09        4.817996e+09   \n",
              "min                   1.000000      5.460000e+02        5.460000e+02   \n",
              "25%                   1.000000      3.317813e+05        2.817175e+05   \n",
              "50%                   1.000000      1.436571e+06        1.235596e+06   \n",
              "75%                   3.000000      6.708028e+06        5.582050e+06   \n",
              "max              261326.000000      1.197964e+12        1.197964e+12   \n",
              "\n",
              "       input_value_maximum  input_value_range  input_time_diff_mean  \\\n",
              "count         7.280900e+04       7.280900e+04          7.280900e+04   \n",
              "mean          1.175935e+08       8.674475e+07          9.898908e+05   \n",
              "std           8.489542e+09       7.130977e+09          2.797530e+06   \n",
              "min           5.460000e+02       0.000000e+00          0.000000e+00   \n",
              "25%           3.947460e+05       0.000000e+00          0.000000e+00   \n",
              "50%           1.836390e+06       0.000000e+00          0.000000e+00   \n",
              "75%           1.006000e+07       1.309200e+06          4.961290e+05   \n",
              "max           1.307060e+12       1.307060e+12          4.377716e+07   \n",
              "\n",
              "       input_time_diff_median  input_time_diff_maximum  output_time_diff_mean  \\\n",
              "count            7.280900e+04             7.280900e+04           7.280900e+04   \n",
              "mean             6.454594e+05             3.246408e+06           8.607707e+05   \n",
              "std              2.373526e+06             8.195608e+06           2.595094e+06   \n",
              "min              0.000000e+00             0.000000e+00           0.000000e+00   \n",
              "25%              0.000000e+00             0.000000e+00           0.000000e+00   \n",
              "50%              0.000000e+00             0.000000e+00           0.000000e+00   \n",
              "75%              9.073500e+04             2.061597e+06           3.848993e+05   \n",
              "max              4.377716e+07             9.039358e+07           3.609437e+07   \n",
              "\n",
              "       output_time_diff_median  ...  input_output_min_ratio  \\\n",
              "count             7.280900e+04  ...            7.280900e+04   \n",
              "mean              5.327643e+05  ...            2.307282e+02   \n",
              "std               2.140244e+06  ...            2.532811e+04   \n",
              "min               0.000000e+00  ...            1.884838e-06   \n",
              "25%               0.000000e+00  ...            1.000000e+00   \n",
              "50%               0.000000e+00  ...            1.000000e+00   \n",
              "75%               8.408600e+04  ...            1.000000e+00   \n",
              "max               3.609437e+07  ...            4.178587e+06   \n",
              "\n",
              "       input_output_percentile_25_diff  input_output_percentile_75_diff  \\\n",
              "count                     7.280900e+04                     7.280900e+04   \n",
              "mean                      2.133891e+05                     9.410914e+06   \n",
              "std                       1.533787e+07                     2.422476e+09   \n",
              "min                      -1.125000e+09                    -7.500000e+09   \n",
              "25%                       0.000000e+00                     0.000000e+00   \n",
              "50%                       0.000000e+00                     0.000000e+00   \n",
              "75%                       0.000000e+00                     0.000000e+00   \n",
              "max                       2.285687e+09                     6.535291e+11   \n",
              "\n",
              "       range_mean_ratio_input  input_output_usd_min_ratio  \\\n",
              "count            72809.000000                7.280900e+04   \n",
              "mean                 1.086191                3.658884e+02   \n",
              "std                  6.845113                4.615341e+04   \n",
              "min                  0.000000                2.376534e-06   \n",
              "25%                  0.000000                1.000000e+00   \n",
              "50%                  0.000000                1.000000e+00   \n",
              "75%                  1.169302                1.018149e+00   \n",
              "max               1196.172753                8.782255e+06   \n",
              "\n",
              "       input_output_usd_percentile_25_diff  \\\n",
              "count                         7.280900e+04   \n",
              "mean                          1.495875e+02   \n",
              "std                           1.278280e+04   \n",
              "min                          -3.353101e+05   \n",
              "25%                          -3.122500e-02   \n",
              "50%                           0.000000e+00   \n",
              "75%                           6.246000e-01   \n",
              "max                           3.168024e+06   \n",
              "\n",
              "       input_output_transaction_count_ratio  \\\n",
              "count                          72809.000000   \n",
              "mean                               0.944744   \n",
              "std                                0.224074   \n",
              "min                                0.018182   \n",
              "25%                                1.000000   \n",
              "50%                                1.000000   \n",
              "75%                                1.000000   \n",
              "max                               22.750000   \n",
              "\n",
              "       input_output_maximum_transaction_value_diff  \\\n",
              "count                                 7.280900e+04   \n",
              "mean                                  1.073170e+05   \n",
              "std                                   1.398224e+07   \n",
              "min                                  -2.000000e+08   \n",
              "25%                                   0.000000e+00   \n",
              "50%                                   0.000000e+00   \n",
              "75%                                   0.000000e+00   \n",
              "max                                   2.285687e+09   \n",
              "\n",
              "       input_output_minimum_transaction_value_diff  \\\n",
              "count                                 7.280900e+04   \n",
              "mean                                  1.389575e+05   \n",
              "std                                   1.511482e+07   \n",
              "min                                  -1.500000e+09   \n",
              "25%                                   0.000000e+00   \n",
              "50%                                   0.000000e+00   \n",
              "75%                                   0.000000e+00   \n",
              "max                                   2.285687e+09   \n",
              "\n",
              "       input_output_time_diff_max_min_diff  \n",
              "count                         7.280900e+04  \n",
              "mean                          3.623017e+05  \n",
              "std                           4.121675e+06  \n",
              "min                          -7.695281e+07  \n",
              "25%                           0.000000e+00  \n",
              "50%                           0.000000e+00  \n",
              "75%                           0.000000e+00  \n",
              "max                           7.906209e+07  \n",
              "\n",
              "[8 rows x 23 columns]"
            ],
            "text/html": [
              "\n",
              "  <div id=\"df-bfcf9eda-4fc4-4272-8246-4b05cc8ae9ee\" class=\"colab-df-container\">\n",
              "    <div>\n",
              "<style scoped>\n",
              "    .dataframe tbody tr th:only-of-type {\n",
              "        vertical-align: middle;\n",
              "    }\n",
              "\n",
              "    .dataframe tbody tr th {\n",
              "        vertical-align: top;\n",
              "    }\n",
              "\n",
              "    .dataframe thead th {\n",
              "        text-align: right;\n",
              "    }\n",
              "</style>\n",
              "<table border=\"1\" class=\"dataframe\">\n",
              "  <thead>\n",
              "    <tr style=\"text-align: right;\">\n",
              "      <th></th>\n",
              "      <th>input_transaction_count</th>\n",
              "      <th>input_value_mean</th>\n",
              "      <th>input_value_median</th>\n",
              "      <th>input_value_maximum</th>\n",
              "      <th>input_value_range</th>\n",
              "      <th>input_time_diff_mean</th>\n",
              "      <th>input_time_diff_median</th>\n",
              "      <th>input_time_diff_maximum</th>\n",
              "      <th>output_time_diff_mean</th>\n",
              "      <th>output_time_diff_median</th>\n",
              "      <th>...</th>\n",
              "      <th>input_output_min_ratio</th>\n",
              "      <th>input_output_percentile_25_diff</th>\n",
              "      <th>input_output_percentile_75_diff</th>\n",
              "      <th>range_mean_ratio_input</th>\n",
              "      <th>input_output_usd_min_ratio</th>\n",
              "      <th>input_output_usd_percentile_25_diff</th>\n",
              "      <th>input_output_transaction_count_ratio</th>\n",
              "      <th>input_output_maximum_transaction_value_diff</th>\n",
              "      <th>input_output_minimum_transaction_value_diff</th>\n",
              "      <th>input_output_time_diff_max_min_diff</th>\n",
              "    </tr>\n",
              "  </thead>\n",
              "  <tbody>\n",
              "    <tr>\n",
              "      <th>count</th>\n",
              "      <td>72809.000000</td>\n",
              "      <td>7.280900e+04</td>\n",
              "      <td>7.280900e+04</td>\n",
              "      <td>7.280900e+04</td>\n",
              "      <td>7.280900e+04</td>\n",
              "      <td>7.280900e+04</td>\n",
              "      <td>7.280900e+04</td>\n",
              "      <td>7.280900e+04</td>\n",
              "      <td>7.280900e+04</td>\n",
              "      <td>7.280900e+04</td>\n",
              "      <td>...</td>\n",
              "      <td>7.280900e+04</td>\n",
              "      <td>7.280900e+04</td>\n",
              "      <td>7.280900e+04</td>\n",
              "      <td>72809.000000</td>\n",
              "      <td>7.280900e+04</td>\n",
              "      <td>7.280900e+04</td>\n",
              "      <td>72809.000000</td>\n",
              "      <td>7.280900e+04</td>\n",
              "      <td>7.280900e+04</td>\n",
              "      <td>7.280900e+04</td>\n",
              "    </tr>\n",
              "    <tr>\n",
              "      <th>mean</th>\n",
              "      <td>26.879067</td>\n",
              "      <td>5.650357e+07</td>\n",
              "      <td>4.252036e+07</td>\n",
              "      <td>1.175935e+08</td>\n",
              "      <td>8.674475e+07</td>\n",
              "      <td>9.898908e+05</td>\n",
              "      <td>6.454594e+05</td>\n",
              "      <td>3.246408e+06</td>\n",
              "      <td>8.607707e+05</td>\n",
              "      <td>5.327643e+05</td>\n",
              "      <td>...</td>\n",
              "      <td>2.307282e+02</td>\n",
              "      <td>2.133891e+05</td>\n",
              "      <td>9.410914e+06</td>\n",
              "      <td>1.086191</td>\n",
              "      <td>3.658884e+02</td>\n",
              "      <td>1.495875e+02</td>\n",
              "      <td>0.944744</td>\n",
              "      <td>1.073170e+05</td>\n",
              "      <td>1.389575e+05</td>\n",
              "      <td>3.623017e+05</td>\n",
              "    </tr>\n",
              "    <tr>\n",
              "      <th>std</th>\n",
              "      <td>1493.824322</td>\n",
              "      <td>5.278444e+09</td>\n",
              "      <td>4.817996e+09</td>\n",
              "      <td>8.489542e+09</td>\n",
              "      <td>7.130977e+09</td>\n",
              "      <td>2.797530e+06</td>\n",
              "      <td>2.373526e+06</td>\n",
              "      <td>8.195608e+06</td>\n",
              "      <td>2.595094e+06</td>\n",
              "      <td>2.140244e+06</td>\n",
              "      <td>...</td>\n",
              "      <td>2.532811e+04</td>\n",
              "      <td>1.533787e+07</td>\n",
              "      <td>2.422476e+09</td>\n",
              "      <td>6.845113</td>\n",
              "      <td>4.615341e+04</td>\n",
              "      <td>1.278280e+04</td>\n",
              "      <td>0.224074</td>\n",
              "      <td>1.398224e+07</td>\n",
              "      <td>1.511482e+07</td>\n",
              "      <td>4.121675e+06</td>\n",
              "    </tr>\n",
              "    <tr>\n",
              "      <th>min</th>\n",
              "      <td>1.000000</td>\n",
              "      <td>5.460000e+02</td>\n",
              "      <td>5.460000e+02</td>\n",
              "      <td>5.460000e+02</td>\n",
              "      <td>0.000000e+00</td>\n",
              "      <td>0.000000e+00</td>\n",
              "      <td>0.000000e+00</td>\n",
              "      <td>0.000000e+00</td>\n",
              "      <td>0.000000e+00</td>\n",
              "      <td>0.000000e+00</td>\n",
              "      <td>...</td>\n",
              "      <td>1.884838e-06</td>\n",
              "      <td>-1.125000e+09</td>\n",
              "      <td>-7.500000e+09</td>\n",
              "      <td>0.000000</td>\n",
              "      <td>2.376534e-06</td>\n",
              "      <td>-3.353101e+05</td>\n",
              "      <td>0.018182</td>\n",
              "      <td>-2.000000e+08</td>\n",
              "      <td>-1.500000e+09</td>\n",
              "      <td>-7.695281e+07</td>\n",
              "    </tr>\n",
              "    <tr>\n",
              "      <th>25%</th>\n",
              "      <td>1.000000</td>\n",
              "      <td>3.317813e+05</td>\n",
              "      <td>2.817175e+05</td>\n",
              "      <td>3.947460e+05</td>\n",
              "      <td>0.000000e+00</td>\n",
              "      <td>0.000000e+00</td>\n",
              "      <td>0.000000e+00</td>\n",
              "      <td>0.000000e+00</td>\n",
              "      <td>0.000000e+00</td>\n",
              "      <td>0.000000e+00</td>\n",
              "      <td>...</td>\n",
              "      <td>1.000000e+00</td>\n",
              "      <td>0.000000e+00</td>\n",
              "      <td>0.000000e+00</td>\n",
              "      <td>0.000000</td>\n",
              "      <td>1.000000e+00</td>\n",
              "      <td>-3.122500e-02</td>\n",
              "      <td>1.000000</td>\n",
              "      <td>0.000000e+00</td>\n",
              "      <td>0.000000e+00</td>\n",
              "      <td>0.000000e+00</td>\n",
              "    </tr>\n",
              "    <tr>\n",
              "      <th>50%</th>\n",
              "      <td>1.000000</td>\n",
              "      <td>1.436571e+06</td>\n",
              "      <td>1.235596e+06</td>\n",
              "      <td>1.836390e+06</td>\n",
              "      <td>0.000000e+00</td>\n",
              "      <td>0.000000e+00</td>\n",
              "      <td>0.000000e+00</td>\n",
              "      <td>0.000000e+00</td>\n",
              "      <td>0.000000e+00</td>\n",
              "      <td>0.000000e+00</td>\n",
              "      <td>...</td>\n",
              "      <td>1.000000e+00</td>\n",
              "      <td>0.000000e+00</td>\n",
              "      <td>0.000000e+00</td>\n",
              "      <td>0.000000</td>\n",
              "      <td>1.000000e+00</td>\n",
              "      <td>0.000000e+00</td>\n",
              "      <td>1.000000</td>\n",
              "      <td>0.000000e+00</td>\n",
              "      <td>0.000000e+00</td>\n",
              "      <td>0.000000e+00</td>\n",
              "    </tr>\n",
              "    <tr>\n",
              "      <th>75%</th>\n",
              "      <td>3.000000</td>\n",
              "      <td>6.708028e+06</td>\n",
              "      <td>5.582050e+06</td>\n",
              "      <td>1.006000e+07</td>\n",
              "      <td>1.309200e+06</td>\n",
              "      <td>4.961290e+05</td>\n",
              "      <td>9.073500e+04</td>\n",
              "      <td>2.061597e+06</td>\n",
              "      <td>3.848993e+05</td>\n",
              "      <td>8.408600e+04</td>\n",
              "      <td>...</td>\n",
              "      <td>1.000000e+00</td>\n",
              "      <td>0.000000e+00</td>\n",
              "      <td>0.000000e+00</td>\n",
              "      <td>1.169302</td>\n",
              "      <td>1.018149e+00</td>\n",
              "      <td>6.246000e-01</td>\n",
              "      <td>1.000000</td>\n",
              "      <td>0.000000e+00</td>\n",
              "      <td>0.000000e+00</td>\n",
              "      <td>0.000000e+00</td>\n",
              "    </tr>\n",
              "    <tr>\n",
              "      <th>max</th>\n",
              "      <td>261326.000000</td>\n",
              "      <td>1.197964e+12</td>\n",
              "      <td>1.197964e+12</td>\n",
              "      <td>1.307060e+12</td>\n",
              "      <td>1.307060e+12</td>\n",
              "      <td>4.377716e+07</td>\n",
              "      <td>4.377716e+07</td>\n",
              "      <td>9.039358e+07</td>\n",
              "      <td>3.609437e+07</td>\n",
              "      <td>3.609437e+07</td>\n",
              "      <td>...</td>\n",
              "      <td>4.178587e+06</td>\n",
              "      <td>2.285687e+09</td>\n",
              "      <td>6.535291e+11</td>\n",
              "      <td>1196.172753</td>\n",
              "      <td>8.782255e+06</td>\n",
              "      <td>3.168024e+06</td>\n",
              "      <td>22.750000</td>\n",
              "      <td>2.285687e+09</td>\n",
              "      <td>2.285687e+09</td>\n",
              "      <td>7.906209e+07</td>\n",
              "    </tr>\n",
              "  </tbody>\n",
              "</table>\n",
              "<p>8 rows × 23 columns</p>\n",
              "</div>\n",
              "    <div class=\"colab-df-buttons\">\n",
              "\n",
              "  <div class=\"colab-df-container\">\n",
              "    <button class=\"colab-df-convert\" onclick=\"convertToInteractive('df-bfcf9eda-4fc4-4272-8246-4b05cc8ae9ee')\"\n",
              "            title=\"Convert this dataframe to an interactive table.\"\n",
              "            style=\"display:none;\">\n",
              "\n",
              "  <svg xmlns=\"http://www.w3.org/2000/svg\" height=\"24px\" viewBox=\"0 -960 960 960\">\n",
              "    <path d=\"M120-120v-720h720v720H120Zm60-500h600v-160H180v160Zm220 220h160v-160H400v160Zm0 220h160v-160H400v160ZM180-400h160v-160H180v160Zm440 0h160v-160H620v160ZM180-180h160v-160H180v160Zm440 0h160v-160H620v160Z\"/>\n",
              "  </svg>\n",
              "    </button>\n",
              "\n",
              "  <style>\n",
              "    .colab-df-container {\n",
              "      display:flex;\n",
              "      gap: 12px;\n",
              "    }\n",
              "\n",
              "    .colab-df-convert {\n",
              "      background-color: #E8F0FE;\n",
              "      border: none;\n",
              "      border-radius: 50%;\n",
              "      cursor: pointer;\n",
              "      display: none;\n",
              "      fill: #1967D2;\n",
              "      height: 32px;\n",
              "      padding: 0 0 0 0;\n",
              "      width: 32px;\n",
              "    }\n",
              "\n",
              "    .colab-df-convert:hover {\n",
              "      background-color: #E2EBFA;\n",
              "      box-shadow: 0px 1px 2px rgba(60, 64, 67, 0.3), 0px 1px 3px 1px rgba(60, 64, 67, 0.15);\n",
              "      fill: #174EA6;\n",
              "    }\n",
              "\n",
              "    .colab-df-buttons div {\n",
              "      margin-bottom: 4px;\n",
              "    }\n",
              "\n",
              "    [theme=dark] .colab-df-convert {\n",
              "      background-color: #3B4455;\n",
              "      fill: #D2E3FC;\n",
              "    }\n",
              "\n",
              "    [theme=dark] .colab-df-convert:hover {\n",
              "      background-color: #434B5C;\n",
              "      box-shadow: 0px 1px 3px 1px rgba(0, 0, 0, 0.15);\n",
              "      filter: drop-shadow(0px 1px 2px rgba(0, 0, 0, 0.3));\n",
              "      fill: #FFFFFF;\n",
              "    }\n",
              "  </style>\n",
              "\n",
              "    <script>\n",
              "      const buttonEl =\n",
              "        document.querySelector('#df-bfcf9eda-4fc4-4272-8246-4b05cc8ae9ee button.colab-df-convert');\n",
              "      buttonEl.style.display =\n",
              "        google.colab.kernel.accessAllowed ? 'block' : 'none';\n",
              "\n",
              "      async function convertToInteractive(key) {\n",
              "        const element = document.querySelector('#df-bfcf9eda-4fc4-4272-8246-4b05cc8ae9ee');\n",
              "        const dataTable =\n",
              "          await google.colab.kernel.invokeFunction('convertToInteractive',\n",
              "                                                    [key], {});\n",
              "        if (!dataTable) return;\n",
              "\n",
              "        const docLinkHtml = 'Like what you see? Visit the ' +\n",
              "          '<a target=\"_blank\" href=https://colab.research.google.com/notebooks/data_table.ipynb>data table notebook</a>'\n",
              "          + ' to learn more about interactive tables.';\n",
              "        element.innerHTML = '';\n",
              "        dataTable['output_type'] = 'display_data';\n",
              "        await google.colab.output.renderOutput(dataTable, element);\n",
              "        const docLink = document.createElement('div');\n",
              "        docLink.innerHTML = docLinkHtml;\n",
              "        element.appendChild(docLink);\n",
              "      }\n",
              "    </script>\n",
              "  </div>\n",
              "\n",
              "\n",
              "<div id=\"df-bf475d79-d7e6-4a57-9411-d0be0f0ef6c6\">\n",
              "  <button class=\"colab-df-quickchart\" onclick=\"quickchart('df-bf475d79-d7e6-4a57-9411-d0be0f0ef6c6')\"\n",
              "            title=\"Suggest charts\"\n",
              "            style=\"display:none;\">\n",
              "\n",
              "<svg xmlns=\"http://www.w3.org/2000/svg\" height=\"24px\"viewBox=\"0 0 24 24\"\n",
              "     width=\"24px\">\n",
              "    <g>\n",
              "        <path d=\"M19 3H5c-1.1 0-2 .9-2 2v14c0 1.1.9 2 2 2h14c1.1 0 2-.9 2-2V5c0-1.1-.9-2-2-2zM9 17H7v-7h2v7zm4 0h-2V7h2v10zm4 0h-2v-4h2v4z\"/>\n",
              "    </g>\n",
              "</svg>\n",
              "  </button>\n",
              "\n",
              "<style>\n",
              "  .colab-df-quickchart {\n",
              "      --bg-color: #E8F0FE;\n",
              "      --fill-color: #1967D2;\n",
              "      --hover-bg-color: #E2EBFA;\n",
              "      --hover-fill-color: #174EA6;\n",
              "      --disabled-fill-color: #AAA;\n",
              "      --disabled-bg-color: #DDD;\n",
              "  }\n",
              "\n",
              "  [theme=dark] .colab-df-quickchart {\n",
              "      --bg-color: #3B4455;\n",
              "      --fill-color: #D2E3FC;\n",
              "      --hover-bg-color: #434B5C;\n",
              "      --hover-fill-color: #FFFFFF;\n",
              "      --disabled-bg-color: #3B4455;\n",
              "      --disabled-fill-color: #666;\n",
              "  }\n",
              "\n",
              "  .colab-df-quickchart {\n",
              "    background-color: var(--bg-color);\n",
              "    border: none;\n",
              "    border-radius: 50%;\n",
              "    cursor: pointer;\n",
              "    display: none;\n",
              "    fill: var(--fill-color);\n",
              "    height: 32px;\n",
              "    padding: 0;\n",
              "    width: 32px;\n",
              "  }\n",
              "\n",
              "  .colab-df-quickchart:hover {\n",
              "    background-color: var(--hover-bg-color);\n",
              "    box-shadow: 0 1px 2px rgba(60, 64, 67, 0.3), 0 1px 3px 1px rgba(60, 64, 67, 0.15);\n",
              "    fill: var(--button-hover-fill-color);\n",
              "  }\n",
              "\n",
              "  .colab-df-quickchart-complete:disabled,\n",
              "  .colab-df-quickchart-complete:disabled:hover {\n",
              "    background-color: var(--disabled-bg-color);\n",
              "    fill: var(--disabled-fill-color);\n",
              "    box-shadow: none;\n",
              "  }\n",
              "\n",
              "  .colab-df-spinner {\n",
              "    border: 2px solid var(--fill-color);\n",
              "    border-color: transparent;\n",
              "    border-bottom-color: var(--fill-color);\n",
              "    animation:\n",
              "      spin 1s steps(1) infinite;\n",
              "  }\n",
              "\n",
              "  @keyframes spin {\n",
              "    0% {\n",
              "      border-color: transparent;\n",
              "      border-bottom-color: var(--fill-color);\n",
              "      border-left-color: var(--fill-color);\n",
              "    }\n",
              "    20% {\n",
              "      border-color: transparent;\n",
              "      border-left-color: var(--fill-color);\n",
              "      border-top-color: var(--fill-color);\n",
              "    }\n",
              "    30% {\n",
              "      border-color: transparent;\n",
              "      border-left-color: var(--fill-color);\n",
              "      border-top-color: var(--fill-color);\n",
              "      border-right-color: var(--fill-color);\n",
              "    }\n",
              "    40% {\n",
              "      border-color: transparent;\n",
              "      border-right-color: var(--fill-color);\n",
              "      border-top-color: var(--fill-color);\n",
              "    }\n",
              "    60% {\n",
              "      border-color: transparent;\n",
              "      border-right-color: var(--fill-color);\n",
              "    }\n",
              "    80% {\n",
              "      border-color: transparent;\n",
              "      border-right-color: var(--fill-color);\n",
              "      border-bottom-color: var(--fill-color);\n",
              "    }\n",
              "    90% {\n",
              "      border-color: transparent;\n",
              "      border-bottom-color: var(--fill-color);\n",
              "    }\n",
              "  }\n",
              "</style>\n",
              "\n",
              "  <script>\n",
              "    async function quickchart(key) {\n",
              "      const quickchartButtonEl =\n",
              "        document.querySelector('#' + key + ' button');\n",
              "      quickchartButtonEl.disabled = true;  // To prevent multiple clicks.\n",
              "      quickchartButtonEl.classList.add('colab-df-spinner');\n",
              "      try {\n",
              "        const charts = await google.colab.kernel.invokeFunction(\n",
              "            'suggestCharts', [key], {});\n",
              "      } catch (error) {\n",
              "        console.error('Error during call to suggestCharts:', error);\n",
              "      }\n",
              "      quickchartButtonEl.classList.remove('colab-df-spinner');\n",
              "      quickchartButtonEl.classList.add('colab-df-quickchart-complete');\n",
              "    }\n",
              "    (() => {\n",
              "      let quickchartButtonEl =\n",
              "        document.querySelector('#df-bf475d79-d7e6-4a57-9411-d0be0f0ef6c6 button');\n",
              "      quickchartButtonEl.style.display =\n",
              "        google.colab.kernel.accessAllowed ? 'block' : 'none';\n",
              "    })();\n",
              "  </script>\n",
              "</div>\n",
              "    </div>\n",
              "  </div>\n"
            ]
          },
          "metadata": {},
          "execution_count": 13
        }
      ]
    },
    {
      "cell_type": "code",
      "source": [
        "X_train = X_train.abs()\n",
        "X_test = X_test.abs()"
      ],
      "metadata": {
        "id": "0NoLKVigFOdp"
      },
      "execution_count": 12,
      "outputs": []
    },
    {
      "cell_type": "code",
      "source": [
        "!pip install umap"
      ],
      "metadata": {
        "colab": {
          "base_uri": "https://localhost:8080/"
        },
        "id": "Cv-G_vBRGBLT",
        "outputId": "33709399-05a6-4a62-cc7b-bd0be977de25"
      },
      "execution_count": 16,
      "outputs": [
        {
          "output_type": "stream",
          "name": "stdout",
          "text": [
            "Collecting umap\n",
            "  Downloading umap-0.1.1.tar.gz (3.2 kB)\n",
            "  Preparing metadata (setup.py) ... \u001b[?25l\u001b[?25hdone\n",
            "Building wheels for collected packages: umap\n",
            "  Building wheel for umap (setup.py) ... \u001b[?25l\u001b[?25hdone\n",
            "  Created wheel for umap: filename=umap-0.1.1-py3-none-any.whl size=3543 sha256=39cd9be3b7bc8149c187db9d4a03e28ed341f5abe42eee73e1b4a36686aeb863\n",
            "  Stored in directory: /root/.cache/pip/wheels/15/f1/28/53dcf7a309118ed35d810a5f9cb995217800f3f269ab5771cb\n",
            "Successfully built umap\n",
            "Installing collected packages: umap\n",
            "Successfully installed umap-0.1.1\n"
          ]
        }
      ]
    },
    {
      "cell_type": "code",
      "source": [
        "!pip install umap-learn[plot]"
      ],
      "metadata": {
        "colab": {
          "base_uri": "https://localhost:8080/"
        },
        "id": "TqfXPoDLGSR2",
        "outputId": "b9c34ae0-0f0d-43ff-e2f1-4f61962b63bd"
      },
      "execution_count": 15,
      "outputs": [
        {
          "output_type": "stream",
          "name": "stdout",
          "text": [
            "Collecting umap-learn[plot]\n",
            "  Downloading umap-learn-0.5.5.tar.gz (90 kB)\n",
            "\u001b[2K     \u001b[90m━━━━━━━━━━━━━━━━━━━━━━━━━━━━━━━━━━━━━━━━\u001b[0m \u001b[32m90.9/90.9 kB\u001b[0m \u001b[31m1.9 MB/s\u001b[0m eta \u001b[36m0:00:00\u001b[0m\n",
            "\u001b[?25h  Preparing metadata (setup.py) ... \u001b[?25l\u001b[?25hdone\n",
            "Requirement already satisfied: numpy>=1.17 in /usr/local/lib/python3.10/dist-packages (from umap-learn[plot]) (1.23.5)\n",
            "Requirement already satisfied: scipy>=1.3.1 in /usr/local/lib/python3.10/dist-packages (from umap-learn[plot]) (1.11.4)\n",
            "Requirement already satisfied: scikit-learn>=0.22 in /usr/local/lib/python3.10/dist-packages (from umap-learn[plot]) (1.2.2)\n",
            "Requirement already satisfied: numba>=0.51.2 in /usr/local/lib/python3.10/dist-packages (from umap-learn[plot]) (0.58.1)\n",
            "Collecting pynndescent>=0.5 (from umap-learn[plot])\n",
            "  Downloading pynndescent-0.5.11-py3-none-any.whl (55 kB)\n",
            "\u001b[2K     \u001b[90m━━━━━━━━━━━━━━━━━━━━━━━━━━━━━━━━━━━━━━━━\u001b[0m \u001b[32m55.8/55.8 kB\u001b[0m \u001b[31m6.1 MB/s\u001b[0m eta \u001b[36m0:00:00\u001b[0m\n",
            "\u001b[?25hRequirement already satisfied: tqdm in /usr/local/lib/python3.10/dist-packages (from umap-learn[plot]) (4.66.1)\n",
            "Requirement already satisfied: pandas in /usr/local/lib/python3.10/dist-packages (from umap-learn[plot]) (1.5.3)\n",
            "Requirement already satisfied: matplotlib in /usr/local/lib/python3.10/dist-packages (from umap-learn[plot]) (3.7.1)\n",
            "Collecting datashader (from umap-learn[plot])\n",
            "  Downloading datashader-0.16.0-py2.py3-none-any.whl (18.3 MB)\n",
            "\u001b[2K     \u001b[90m━━━━━━━━━━━━━━━━━━━━━━━━━━━━━━━━━━━━━━━━\u001b[0m \u001b[32m18.3/18.3 MB\u001b[0m \u001b[31m39.7 MB/s\u001b[0m eta \u001b[36m0:00:00\u001b[0m\n",
            "\u001b[?25hRequirement already satisfied: bokeh in /usr/local/lib/python3.10/dist-packages (from umap-learn[plot]) (3.3.3)\n",
            "Requirement already satisfied: holoviews in /usr/local/lib/python3.10/dist-packages (from umap-learn[plot]) (1.17.1)\n",
            "Requirement already satisfied: colorcet in /usr/local/lib/python3.10/dist-packages (from umap-learn[plot]) (3.0.1)\n",
            "Requirement already satisfied: seaborn in /usr/local/lib/python3.10/dist-packages (from umap-learn[plot]) (0.13.1)\n",
            "Requirement already satisfied: scikit-image in /usr/local/lib/python3.10/dist-packages (from umap-learn[plot]) (0.19.3)\n",
            "Requirement already satisfied: llvmlite<0.42,>=0.41.0dev0 in /usr/local/lib/python3.10/dist-packages (from numba>=0.51.2->umap-learn[plot]) (0.41.1)\n",
            "Requirement already satisfied: joblib>=0.11 in /usr/local/lib/python3.10/dist-packages (from pynndescent>=0.5->umap-learn[plot]) (1.3.2)\n",
            "Requirement already satisfied: threadpoolctl>=2.0.0 in /usr/local/lib/python3.10/dist-packages (from scikit-learn>=0.22->umap-learn[plot]) (3.2.0)\n",
            "Requirement already satisfied: Jinja2>=2.9 in /usr/local/lib/python3.10/dist-packages (from bokeh->umap-learn[plot]) (3.1.3)\n",
            "Requirement already satisfied: contourpy>=1 in /usr/local/lib/python3.10/dist-packages (from bokeh->umap-learn[plot]) (1.2.0)\n",
            "Requirement already satisfied: packaging>=16.8 in /usr/local/lib/python3.10/dist-packages (from bokeh->umap-learn[plot]) (23.2)\n",
            "Requirement already satisfied: pillow>=7.1.0 in /usr/local/lib/python3.10/dist-packages (from bokeh->umap-learn[plot]) (9.4.0)\n",
            "Requirement already satisfied: PyYAML>=3.10 in /usr/local/lib/python3.10/dist-packages (from bokeh->umap-learn[plot]) (6.0.1)\n",
            "Requirement already satisfied: tornado>=5.1 in /usr/local/lib/python3.10/dist-packages (from bokeh->umap-learn[plot]) (6.3.2)\n",
            "Requirement already satisfied: xyzservices>=2021.09.1 in /usr/local/lib/python3.10/dist-packages (from bokeh->umap-learn[plot]) (2023.10.1)\n",
            "Requirement already satisfied: python-dateutil>=2.8.1 in /usr/local/lib/python3.10/dist-packages (from pandas->umap-learn[plot]) (2.8.2)\n",
            "Requirement already satisfied: pytz>=2020.1 in /usr/local/lib/python3.10/dist-packages (from pandas->umap-learn[plot]) (2023.3.post1)\n",
            "Requirement already satisfied: pyct>=0.4.4 in /usr/local/lib/python3.10/dist-packages (from colorcet->umap-learn[plot]) (0.5.0)\n",
            "Requirement already satisfied: dask in /usr/local/lib/python3.10/dist-packages (from datashader->umap-learn[plot]) (2023.8.1)\n",
            "Requirement already satisfied: multipledispatch in /usr/local/lib/python3.10/dist-packages (from datashader->umap-learn[plot]) (1.0.0)\n",
            "Requirement already satisfied: param in /usr/local/lib/python3.10/dist-packages (from datashader->umap-learn[plot]) (2.0.2)\n",
            "Requirement already satisfied: requests in /usr/local/lib/python3.10/dist-packages (from datashader->umap-learn[plot]) (2.31.0)\n",
            "Requirement already satisfied: toolz in /usr/local/lib/python3.10/dist-packages (from datashader->umap-learn[plot]) (0.12.0)\n",
            "Requirement already satisfied: xarray in /usr/local/lib/python3.10/dist-packages (from datashader->umap-learn[plot]) (2023.7.0)\n",
            "Requirement already satisfied: pyviz-comms>=0.7.4 in /usr/local/lib/python3.10/dist-packages (from holoviews->umap-learn[plot]) (3.0.1)\n",
            "Requirement already satisfied: panel>=0.13.1 in /usr/local/lib/python3.10/dist-packages (from holoviews->umap-learn[plot]) (1.3.6)\n",
            "Requirement already satisfied: cycler>=0.10 in /usr/local/lib/python3.10/dist-packages (from matplotlib->umap-learn[plot]) (0.12.1)\n",
            "Requirement already satisfied: fonttools>=4.22.0 in /usr/local/lib/python3.10/dist-packages (from matplotlib->umap-learn[plot]) (4.47.2)\n",
            "Requirement already satisfied: kiwisolver>=1.0.1 in /usr/local/lib/python3.10/dist-packages (from matplotlib->umap-learn[plot]) (1.4.5)\n",
            "Requirement already satisfied: pyparsing>=2.3.1 in /usr/local/lib/python3.10/dist-packages (from matplotlib->umap-learn[plot]) (3.1.1)\n",
            "Requirement already satisfied: networkx>=2.2 in /usr/local/lib/python3.10/dist-packages (from scikit-image->umap-learn[plot]) (3.2.1)\n",
            "Requirement already satisfied: imageio>=2.4.1 in /usr/local/lib/python3.10/dist-packages (from scikit-image->umap-learn[plot]) (2.31.6)\n",
            "Requirement already satisfied: tifffile>=2019.7.26 in /usr/local/lib/python3.10/dist-packages (from scikit-image->umap-learn[plot]) (2023.12.9)\n",
            "Requirement already satisfied: PyWavelets>=1.1.1 in /usr/local/lib/python3.10/dist-packages (from scikit-image->umap-learn[plot]) (1.5.0)\n",
            "Requirement already satisfied: MarkupSafe>=2.0 in /usr/local/lib/python3.10/dist-packages (from Jinja2>=2.9->bokeh->umap-learn[plot]) (2.1.3)\n",
            "Requirement already satisfied: markdown in /usr/local/lib/python3.10/dist-packages (from panel>=0.13.1->holoviews->umap-learn[plot]) (3.5.2)\n",
            "Requirement already satisfied: markdown-it-py in /usr/local/lib/python3.10/dist-packages (from panel>=0.13.1->holoviews->umap-learn[plot]) (3.0.0)\n",
            "Requirement already satisfied: linkify-it-py in /usr/local/lib/python3.10/dist-packages (from panel>=0.13.1->holoviews->umap-learn[plot]) (2.0.2)\n",
            "Requirement already satisfied: mdit-py-plugins in /usr/local/lib/python3.10/dist-packages (from panel>=0.13.1->holoviews->umap-learn[plot]) (0.4.0)\n",
            "Requirement already satisfied: bleach in /usr/local/lib/python3.10/dist-packages (from panel>=0.13.1->holoviews->umap-learn[plot]) (6.1.0)\n",
            "Requirement already satisfied: typing-extensions in /usr/local/lib/python3.10/dist-packages (from panel>=0.13.1->holoviews->umap-learn[plot]) (4.5.0)\n",
            "Requirement already satisfied: six>=1.5 in /usr/local/lib/python3.10/dist-packages (from python-dateutil>=2.8.1->pandas->umap-learn[plot]) (1.16.0)\n",
            "Requirement already satisfied: click>=8.0 in /usr/local/lib/python3.10/dist-packages (from dask->datashader->umap-learn[plot]) (8.1.7)\n",
            "Requirement already satisfied: cloudpickle>=1.5.0 in /usr/local/lib/python3.10/dist-packages (from dask->datashader->umap-learn[plot]) (2.2.1)\n",
            "Requirement already satisfied: fsspec>=2021.09.0 in /usr/local/lib/python3.10/dist-packages (from dask->datashader->umap-learn[plot]) (2023.6.0)\n",
            "Requirement already satisfied: partd>=1.2.0 in /usr/local/lib/python3.10/dist-packages (from dask->datashader->umap-learn[plot]) (1.4.1)\n",
            "Requirement already satisfied: importlib-metadata>=4.13.0 in /usr/local/lib/python3.10/dist-packages (from dask->datashader->umap-learn[plot]) (7.0.1)\n",
            "Requirement already satisfied: charset-normalizer<4,>=2 in /usr/local/lib/python3.10/dist-packages (from requests->datashader->umap-learn[plot]) (3.3.2)\n",
            "Requirement already satisfied: idna<4,>=2.5 in /usr/local/lib/python3.10/dist-packages (from requests->datashader->umap-learn[plot]) (3.6)\n",
            "Requirement already satisfied: urllib3<3,>=1.21.1 in /usr/local/lib/python3.10/dist-packages (from requests->datashader->umap-learn[plot]) (2.0.7)\n",
            "Requirement already satisfied: certifi>=2017.4.17 in /usr/local/lib/python3.10/dist-packages (from requests->datashader->umap-learn[plot]) (2023.11.17)\n",
            "Requirement already satisfied: zipp>=0.5 in /usr/local/lib/python3.10/dist-packages (from importlib-metadata>=4.13.0->dask->datashader->umap-learn[plot]) (3.17.0)\n",
            "Requirement already satisfied: locket in /usr/local/lib/python3.10/dist-packages (from partd>=1.2.0->dask->datashader->umap-learn[plot]) (1.0.0)\n",
            "Requirement already satisfied: webencodings in /usr/local/lib/python3.10/dist-packages (from bleach->panel>=0.13.1->holoviews->umap-learn[plot]) (0.5.1)\n",
            "Requirement already satisfied: uc-micro-py in /usr/local/lib/python3.10/dist-packages (from linkify-it-py->panel>=0.13.1->holoviews->umap-learn[plot]) (1.0.2)\n",
            "Requirement already satisfied: mdurl~=0.1 in /usr/local/lib/python3.10/dist-packages (from markdown-it-py->panel>=0.13.1->holoviews->umap-learn[plot]) (0.1.2)\n",
            "Building wheels for collected packages: umap-learn\n",
            "  Building wheel for umap-learn (setup.py) ... \u001b[?25l\u001b[?25hdone\n",
            "  Created wheel for umap-learn: filename=umap_learn-0.5.5-py3-none-any.whl size=86832 sha256=2f17f9212458e4de5c330d83bfbb262bd4375fe301d8db2e131fc239d6e59d43\n",
            "  Stored in directory: /root/.cache/pip/wheels/3a/70/07/428d2b58660a1a3b431db59b806a10da736612ebbc66c1bcc5\n",
            "Successfully built umap-learn\n",
            "Installing collected packages: pynndescent, umap-learn, datashader\n",
            "Successfully installed datashader-0.16.0 pynndescent-0.5.11 umap-learn-0.5.5\n"
          ]
        }
      ]
    },
    {
      "cell_type": "code",
      "source": [
        "import matplotlib.pyplot as plt\n",
        "import numpy as np\n",
        "import pandas as pd\n",
        "import tensorflow as tf\n",
        "import seaborn as sns\n",
        "\n",
        "from sklearn.metrics import accuracy_score, precision_score, recall_score, roc_auc_score\n",
        "from sklearn.metrics import f1_score, confusion_matrix, precision_recall_curve, roc_curve\n",
        "from sklearn.metrics import ConfusionMatrixDisplay\n",
        "\n",
        "from sklearn.model_selection import train_test_split\n",
        "from tensorflow.keras import layers, losses\n",
        "from tensorflow.keras.datasets import fashion_mnist\n",
        "from tensorflow.keras.models import Model\n",
        "\n",
        "import umap\n",
        "import umap.plot\n",
        "\n",
        "from plotly.subplots import make_subplots\n",
        "import plotly.graph_objects as go"
      ],
      "metadata": {
        "colab": {
          "base_uri": "https://localhost:8080/",
          "height": 383
        },
        "id": "L764Bu1BF7Ew",
        "outputId": "c6f02765-dbea-47ee-9bbc-44a4ce72fe0b"
      },
      "execution_count": 15,
      "outputs": [
        {
          "output_type": "error",
          "ename": "ModuleNotFoundError",
          "evalue": "No module named 'umap'",
          "traceback": [
            "\u001b[0;31m---------------------------------------------------------------------------\u001b[0m",
            "\u001b[0;31mModuleNotFoundError\u001b[0m                       Traceback (most recent call last)",
            "\u001b[0;32m<ipython-input-15-0c211f7273e9>\u001b[0m in \u001b[0;36m<cell line: 16>\u001b[0;34m()\u001b[0m\n\u001b[1;32m     14\u001b[0m \u001b[0;32mfrom\u001b[0m \u001b[0mtensorflow\u001b[0m\u001b[0;34m.\u001b[0m\u001b[0mkeras\u001b[0m\u001b[0;34m.\u001b[0m\u001b[0mmodels\u001b[0m \u001b[0;32mimport\u001b[0m \u001b[0mModel\u001b[0m\u001b[0;34m\u001b[0m\u001b[0;34m\u001b[0m\u001b[0m\n\u001b[1;32m     15\u001b[0m \u001b[0;34m\u001b[0m\u001b[0m\n\u001b[0;32m---> 16\u001b[0;31m \u001b[0;32mimport\u001b[0m \u001b[0mumap\u001b[0m\u001b[0;34m\u001b[0m\u001b[0;34m\u001b[0m\u001b[0m\n\u001b[0m\u001b[1;32m     17\u001b[0m \u001b[0;32mimport\u001b[0m \u001b[0mumap\u001b[0m\u001b[0;34m.\u001b[0m\u001b[0mplot\u001b[0m\u001b[0;34m\u001b[0m\u001b[0;34m\u001b[0m\u001b[0m\n\u001b[1;32m     18\u001b[0m \u001b[0;34m\u001b[0m\u001b[0m\n",
            "\u001b[0;31mModuleNotFoundError\u001b[0m: No module named 'umap'",
            "",
            "\u001b[0;31m---------------------------------------------------------------------------\u001b[0;32m\nNOTE: If your import is failing due to a missing package, you can\nmanually install dependencies using either !pip or !apt.\n\nTo view examples of installing some common dependencies, click the\n\"Open Examples\" button below.\n\u001b[0;31m---------------------------------------------------------------------------\u001b[0m\n"
          ],
          "errorDetails": {
            "actions": [
              {
                "action": "open_url",
                "actionText": "Open Examples",
                "url": "/notebooks/snippets/importing_libraries.ipynb"
              }
            ]
          }
        }
      ]
    },
    {
      "cell_type": "code",
      "source": [
        "colors = ['gold', 'mediumturquoise']\n",
        "labels = ['Normal','Abnormal']\n",
        "values = y_train.value_counts()/y_train.shape[0]\n",
        "\n",
        "fig = go.Figure(data=[go.Pie(labels=labels, values=values, hole=.3)])\n",
        "fig.update_traces(hoverinfo='label+percent', textinfo='percent', textfont_size=20,\n",
        "                  marker=dict(colors=colors, line=dict(color='white', width=0.1)))\n",
        "fig.update_layout(\n",
        "    title_text=\"Bitcoin dataset\",\n",
        "    title_font_color=\"white\",\n",
        "    legend_title_font_color=\"yellow\",\n",
        "    paper_bgcolor=\"black\",\n",
        "    plot_bgcolor='black',\n",
        "    font_color=\"white\",\n",
        ")\n",
        "fig.show()"
      ],
      "metadata": {
        "colab": {
          "base_uri": "https://localhost:8080/",
          "height": 542
        },
        "id": "2n4TZs-KFWHv",
        "outputId": "06590f88-8f73-47b7-ca65-223d7ac77f73"
      },
      "execution_count": 17,
      "outputs": [
        {
          "output_type": "display_data",
          "data": {
            "text/html": [
              "<html>\n",
              "<head><meta charset=\"utf-8\" /></head>\n",
              "<body>\n",
              "    <div>            <script src=\"https://cdnjs.cloudflare.com/ajax/libs/mathjax/2.7.5/MathJax.js?config=TeX-AMS-MML_SVG\"></script><script type=\"text/javascript\">if (window.MathJax && window.MathJax.Hub && window.MathJax.Hub.Config) {window.MathJax.Hub.Config({SVG: {font: \"STIX-Web\"}});}</script>                <script type=\"text/javascript\">window.PlotlyConfig = {MathJaxConfig: 'local'};</script>\n",
              "        <script charset=\"utf-8\" src=\"https://cdn.plot.ly/plotly-2.24.1.min.js\"></script>                <div id=\"4847f5ea-9c29-4eef-b552-9e9e58719acc\" class=\"plotly-graph-div\" style=\"height:525px; width:100%;\"></div>            <script type=\"text/javascript\">                                    window.PLOTLYENV=window.PLOTLYENV || {};                                    if (document.getElementById(\"4847f5ea-9c29-4eef-b552-9e9e58719acc\")) {                    Plotly.newPlot(                        \"4847f5ea-9c29-4eef-b552-9e9e58719acc\",                        [{\"hole\":0.3,\"labels\":[\"Normal\",\"Abnormal\"],\"values\":[0.5493963658338942,0.4506036341661058],\"type\":\"pie\",\"textfont\":{\"size\":20},\"marker\":{\"line\":{\"color\":\"white\",\"width\":0.1},\"colors\":[\"gold\",\"mediumturquoise\"]},\"hoverinfo\":\"label+percent\",\"textinfo\":\"percent\"}],                        {\"template\":{\"data\":{\"histogram2dcontour\":[{\"type\":\"histogram2dcontour\",\"colorbar\":{\"outlinewidth\":0,\"ticks\":\"\"},\"colorscale\":[[0.0,\"#0d0887\"],[0.1111111111111111,\"#46039f\"],[0.2222222222222222,\"#7201a8\"],[0.3333333333333333,\"#9c179e\"],[0.4444444444444444,\"#bd3786\"],[0.5555555555555556,\"#d8576b\"],[0.6666666666666666,\"#ed7953\"],[0.7777777777777778,\"#fb9f3a\"],[0.8888888888888888,\"#fdca26\"],[1.0,\"#f0f921\"]]}],\"choropleth\":[{\"type\":\"choropleth\",\"colorbar\":{\"outlinewidth\":0,\"ticks\":\"\"}}],\"histogram2d\":[{\"type\":\"histogram2d\",\"colorbar\":{\"outlinewidth\":0,\"ticks\":\"\"},\"colorscale\":[[0.0,\"#0d0887\"],[0.1111111111111111,\"#46039f\"],[0.2222222222222222,\"#7201a8\"],[0.3333333333333333,\"#9c179e\"],[0.4444444444444444,\"#bd3786\"],[0.5555555555555556,\"#d8576b\"],[0.6666666666666666,\"#ed7953\"],[0.7777777777777778,\"#fb9f3a\"],[0.8888888888888888,\"#fdca26\"],[1.0,\"#f0f921\"]]}],\"heatmap\":[{\"type\":\"heatmap\",\"colorbar\":{\"outlinewidth\":0,\"ticks\":\"\"},\"colorscale\":[[0.0,\"#0d0887\"],[0.1111111111111111,\"#46039f\"],[0.2222222222222222,\"#7201a8\"],[0.3333333333333333,\"#9c179e\"],[0.4444444444444444,\"#bd3786\"],[0.5555555555555556,\"#d8576b\"],[0.6666666666666666,\"#ed7953\"],[0.7777777777777778,\"#fb9f3a\"],[0.8888888888888888,\"#fdca26\"],[1.0,\"#f0f921\"]]}],\"heatmapgl\":[{\"type\":\"heatmapgl\",\"colorbar\":{\"outlinewidth\":0,\"ticks\":\"\"},\"colorscale\":[[0.0,\"#0d0887\"],[0.1111111111111111,\"#46039f\"],[0.2222222222222222,\"#7201a8\"],[0.3333333333333333,\"#9c179e\"],[0.4444444444444444,\"#bd3786\"],[0.5555555555555556,\"#d8576b\"],[0.6666666666666666,\"#ed7953\"],[0.7777777777777778,\"#fb9f3a\"],[0.8888888888888888,\"#fdca26\"],[1.0,\"#f0f921\"]]}],\"contourcarpet\":[{\"type\":\"contourcarpet\",\"colorbar\":{\"outlinewidth\":0,\"ticks\":\"\"}}],\"contour\":[{\"type\":\"contour\",\"colorbar\":{\"outlinewidth\":0,\"ticks\":\"\"},\"colorscale\":[[0.0,\"#0d0887\"],[0.1111111111111111,\"#46039f\"],[0.2222222222222222,\"#7201a8\"],[0.3333333333333333,\"#9c179e\"],[0.4444444444444444,\"#bd3786\"],[0.5555555555555556,\"#d8576b\"],[0.6666666666666666,\"#ed7953\"],[0.7777777777777778,\"#fb9f3a\"],[0.8888888888888888,\"#fdca26\"],[1.0,\"#f0f921\"]]}],\"surface\":[{\"type\":\"surface\",\"colorbar\":{\"outlinewidth\":0,\"ticks\":\"\"},\"colorscale\":[[0.0,\"#0d0887\"],[0.1111111111111111,\"#46039f\"],[0.2222222222222222,\"#7201a8\"],[0.3333333333333333,\"#9c179e\"],[0.4444444444444444,\"#bd3786\"],[0.5555555555555556,\"#d8576b\"],[0.6666666666666666,\"#ed7953\"],[0.7777777777777778,\"#fb9f3a\"],[0.8888888888888888,\"#fdca26\"],[1.0,\"#f0f921\"]]}],\"mesh3d\":[{\"type\":\"mesh3d\",\"colorbar\":{\"outlinewidth\":0,\"ticks\":\"\"}}],\"scatter\":[{\"fillpattern\":{\"fillmode\":\"overlay\",\"size\":10,\"solidity\":0.2},\"type\":\"scatter\"}],\"parcoords\":[{\"type\":\"parcoords\",\"line\":{\"colorbar\":{\"outlinewidth\":0,\"ticks\":\"\"}}}],\"scatterpolargl\":[{\"type\":\"scatterpolargl\",\"marker\":{\"colorbar\":{\"outlinewidth\":0,\"ticks\":\"\"}}}],\"bar\":[{\"error_x\":{\"color\":\"#2a3f5f\"},\"error_y\":{\"color\":\"#2a3f5f\"},\"marker\":{\"line\":{\"color\":\"#E5ECF6\",\"width\":0.5},\"pattern\":{\"fillmode\":\"overlay\",\"size\":10,\"solidity\":0.2}},\"type\":\"bar\"}],\"scattergeo\":[{\"type\":\"scattergeo\",\"marker\":{\"colorbar\":{\"outlinewidth\":0,\"ticks\":\"\"}}}],\"scatterpolar\":[{\"type\":\"scatterpolar\",\"marker\":{\"colorbar\":{\"outlinewidth\":0,\"ticks\":\"\"}}}],\"histogram\":[{\"marker\":{\"pattern\":{\"fillmode\":\"overlay\",\"size\":10,\"solidity\":0.2}},\"type\":\"histogram\"}],\"scattergl\":[{\"type\":\"scattergl\",\"marker\":{\"colorbar\":{\"outlinewidth\":0,\"ticks\":\"\"}}}],\"scatter3d\":[{\"type\":\"scatter3d\",\"line\":{\"colorbar\":{\"outlinewidth\":0,\"ticks\":\"\"}},\"marker\":{\"colorbar\":{\"outlinewidth\":0,\"ticks\":\"\"}}}],\"scattermapbox\":[{\"type\":\"scattermapbox\",\"marker\":{\"colorbar\":{\"outlinewidth\":0,\"ticks\":\"\"}}}],\"scatterternary\":[{\"type\":\"scatterternary\",\"marker\":{\"colorbar\":{\"outlinewidth\":0,\"ticks\":\"\"}}}],\"scattercarpet\":[{\"type\":\"scattercarpet\",\"marker\":{\"colorbar\":{\"outlinewidth\":0,\"ticks\":\"\"}}}],\"carpet\":[{\"aaxis\":{\"endlinecolor\":\"#2a3f5f\",\"gridcolor\":\"white\",\"linecolor\":\"white\",\"minorgridcolor\":\"white\",\"startlinecolor\":\"#2a3f5f\"},\"baxis\":{\"endlinecolor\":\"#2a3f5f\",\"gridcolor\":\"white\",\"linecolor\":\"white\",\"minorgridcolor\":\"white\",\"startlinecolor\":\"#2a3f5f\"},\"type\":\"carpet\"}],\"table\":[{\"cells\":{\"fill\":{\"color\":\"#EBF0F8\"},\"line\":{\"color\":\"white\"}},\"header\":{\"fill\":{\"color\":\"#C8D4E3\"},\"line\":{\"color\":\"white\"}},\"type\":\"table\"}],\"barpolar\":[{\"marker\":{\"line\":{\"color\":\"#E5ECF6\",\"width\":0.5},\"pattern\":{\"fillmode\":\"overlay\",\"size\":10,\"solidity\":0.2}},\"type\":\"barpolar\"}],\"pie\":[{\"automargin\":true,\"type\":\"pie\"}]},\"layout\":{\"autotypenumbers\":\"strict\",\"colorway\":[\"#636efa\",\"#EF553B\",\"#00cc96\",\"#ab63fa\",\"#FFA15A\",\"#19d3f3\",\"#FF6692\",\"#B6E880\",\"#FF97FF\",\"#FECB52\"],\"font\":{\"color\":\"#2a3f5f\"},\"hovermode\":\"closest\",\"hoverlabel\":{\"align\":\"left\"},\"paper_bgcolor\":\"white\",\"plot_bgcolor\":\"#E5ECF6\",\"polar\":{\"bgcolor\":\"#E5ECF6\",\"angularaxis\":{\"gridcolor\":\"white\",\"linecolor\":\"white\",\"ticks\":\"\"},\"radialaxis\":{\"gridcolor\":\"white\",\"linecolor\":\"white\",\"ticks\":\"\"}},\"ternary\":{\"bgcolor\":\"#E5ECF6\",\"aaxis\":{\"gridcolor\":\"white\",\"linecolor\":\"white\",\"ticks\":\"\"},\"baxis\":{\"gridcolor\":\"white\",\"linecolor\":\"white\",\"ticks\":\"\"},\"caxis\":{\"gridcolor\":\"white\",\"linecolor\":\"white\",\"ticks\":\"\"}},\"coloraxis\":{\"colorbar\":{\"outlinewidth\":0,\"ticks\":\"\"}},\"colorscale\":{\"sequential\":[[0.0,\"#0d0887\"],[0.1111111111111111,\"#46039f\"],[0.2222222222222222,\"#7201a8\"],[0.3333333333333333,\"#9c179e\"],[0.4444444444444444,\"#bd3786\"],[0.5555555555555556,\"#d8576b\"],[0.6666666666666666,\"#ed7953\"],[0.7777777777777778,\"#fb9f3a\"],[0.8888888888888888,\"#fdca26\"],[1.0,\"#f0f921\"]],\"sequentialminus\":[[0.0,\"#0d0887\"],[0.1111111111111111,\"#46039f\"],[0.2222222222222222,\"#7201a8\"],[0.3333333333333333,\"#9c179e\"],[0.4444444444444444,\"#bd3786\"],[0.5555555555555556,\"#d8576b\"],[0.6666666666666666,\"#ed7953\"],[0.7777777777777778,\"#fb9f3a\"],[0.8888888888888888,\"#fdca26\"],[1.0,\"#f0f921\"]],\"diverging\":[[0,\"#8e0152\"],[0.1,\"#c51b7d\"],[0.2,\"#de77ae\"],[0.3,\"#f1b6da\"],[0.4,\"#fde0ef\"],[0.5,\"#f7f7f7\"],[0.6,\"#e6f5d0\"],[0.7,\"#b8e186\"],[0.8,\"#7fbc41\"],[0.9,\"#4d9221\"],[1,\"#276419\"]]},\"xaxis\":{\"gridcolor\":\"white\",\"linecolor\":\"white\",\"ticks\":\"\",\"title\":{\"standoff\":15},\"zerolinecolor\":\"white\",\"automargin\":true,\"zerolinewidth\":2},\"yaxis\":{\"gridcolor\":\"white\",\"linecolor\":\"white\",\"ticks\":\"\",\"title\":{\"standoff\":15},\"zerolinecolor\":\"white\",\"automargin\":true,\"zerolinewidth\":2},\"scene\":{\"xaxis\":{\"backgroundcolor\":\"#E5ECF6\",\"gridcolor\":\"white\",\"linecolor\":\"white\",\"showbackground\":true,\"ticks\":\"\",\"zerolinecolor\":\"white\",\"gridwidth\":2},\"yaxis\":{\"backgroundcolor\":\"#E5ECF6\",\"gridcolor\":\"white\",\"linecolor\":\"white\",\"showbackground\":true,\"ticks\":\"\",\"zerolinecolor\":\"white\",\"gridwidth\":2},\"zaxis\":{\"backgroundcolor\":\"#E5ECF6\",\"gridcolor\":\"white\",\"linecolor\":\"white\",\"showbackground\":true,\"ticks\":\"\",\"zerolinecolor\":\"white\",\"gridwidth\":2}},\"shapedefaults\":{\"line\":{\"color\":\"#2a3f5f\"}},\"annotationdefaults\":{\"arrowcolor\":\"#2a3f5f\",\"arrowhead\":0,\"arrowwidth\":1},\"geo\":{\"bgcolor\":\"white\",\"landcolor\":\"#E5ECF6\",\"subunitcolor\":\"white\",\"showland\":true,\"showlakes\":true,\"lakecolor\":\"white\"},\"title\":{\"x\":0.05},\"mapbox\":{\"style\":\"light\"}}},\"title\":{\"font\":{\"color\":\"white\"},\"text\":\"Bitcoin dataset\"},\"legend\":{\"title\":{\"font\":{\"color\":\"yellow\"}}},\"font\":{\"color\":\"white\"},\"paper_bgcolor\":\"black\",\"plot_bgcolor\":\"black\"},                        {\"responsive\": true}                    ).then(function(){\n",
              "                            \n",
              "var gd = document.getElementById('4847f5ea-9c29-4eef-b552-9e9e58719acc');\n",
              "var x = new MutationObserver(function (mutations, observer) {{\n",
              "        var display = window.getComputedStyle(gd).display;\n",
              "        if (!display || display === 'none') {{\n",
              "            console.log([gd, 'removed!']);\n",
              "            Plotly.purge(gd);\n",
              "            observer.disconnect();\n",
              "        }}\n",
              "}});\n",
              "\n",
              "// Listen for the removal of the full notebook cells\n",
              "var notebookContainer = gd.closest('#notebook-container');\n",
              "if (notebookContainer) {{\n",
              "    x.observe(notebookContainer, {childList: true});\n",
              "}}\n",
              "\n",
              "// Listen for the clearing of the current output cell\n",
              "var outputEl = gd.closest('.output');\n",
              "if (outputEl) {{\n",
              "    x.observe(outputEl, {childList: true});\n",
              "}}\n",
              "\n",
              "                        })                };                            </script>        </div>\n",
              "</body>\n",
              "</html>"
            ]
          },
          "metadata": {}
        }
      ]
    },
    {
      "cell_type": "code",
      "source": [
        "def get_clf_eval(y_test, pred=None, pred_proba=None):\n",
        "    confusion = confusion_matrix( y_test, pred)\n",
        "    accuracy = accuracy_score(y_test , pred)\n",
        "    precision = precision_score(y_test , pred)\n",
        "    recall = recall_score(y_test , pred)\n",
        "    f1 = f1_score(y_test,pred)\n",
        "\n",
        "    roc_auc = roc_auc_score(y_test, pred_proba)\n",
        "    print('confusion matrix')\n",
        "    print(confusion)\n",
        "\n",
        "    # ROC-AUC print\n",
        "    print('accuracy: {0:.4f}, precision: {1:.4f}, recall: {2:.4f},\\\n",
        "    F1: {3:.4f}, AUC:{4:.4f}'.format(accuracy, precision, recall, f1, roc_auc))\n",
        "    return confusion"
      ],
      "metadata": {
        "id": "TfhxUskOGkVP"
      },
      "execution_count": 13,
      "outputs": []
    },
    {
      "cell_type": "code",
      "source": [
        "train_data, val_data, train_labels, val_labels = train_test_split(\n",
        "    X_train, y_train, test_size=0.2, random_state=42\n",
        ")"
      ],
      "metadata": {
        "id": "zz5X2IbdGxDD"
      },
      "execution_count": 75,
      "outputs": []
    },
    {
      "cell_type": "code",
      "source": [
        "from sklearn.preprocessing import StandardScaler\n",
        "\n",
        "# Create a StandardScaler instance\n",
        "scaler = StandardScaler()\n",
        "\n",
        "# Fit the scaler to the training data and transform the training data\n",
        "X_train_normalized = scaler.fit_transform(train_data)\n",
        "\n",
        "X_val_normalized = scaler.transform(val_data)\n",
        "X_test_normalized = scaler.transform(X_test)\n"
      ],
      "metadata": {
        "id": "CBlXRBPQM-i0"
      },
      "execution_count": 76,
      "outputs": []
    },
    {
      "cell_type": "code",
      "source": [
        "train_labels = train_labels.astype(bool)\n",
        "val_labels = val_labels.astype(bool)\n",
        "y_test = y_test.astype(bool)"
      ],
      "metadata": {
        "id": "traP-mHIRkhz"
      },
      "execution_count": 21,
      "outputs": []
    },
    {
      "cell_type": "code",
      "source": [
        "\n",
        "normal_class_indices = y_train == 0\n",
        "X_train_nromal = X_train[normal_class_indices]\n"
      ],
      "metadata": {
        "id": "icIOFYzLSuyk"
      },
      "execution_count": 37,
      "outputs": []
    },
    {
      "cell_type": "code",
      "source": [
        "abnormal_class_indices = y_train == 1\n",
        "\n",
        "# Select only the rows from X_train corresponding to the positive class\n",
        "X_train_abnromal = X_train[abnormal_class_indices]"
      ],
      "metadata": {
        "id": "Lmzp59tTTGmt"
      },
      "execution_count": 38,
      "outputs": []
    },
    {
      "cell_type": "code",
      "source": [
        "X_train.columns"
      ],
      "metadata": {
        "colab": {
          "base_uri": "https://localhost:8080/"
        },
        "id": "5yxsmItrUqRX",
        "outputId": "ced34549-62ef-45e4-891b-51d8b32388bf"
      },
      "execution_count": 33,
      "outputs": [
        {
          "output_type": "execute_result",
          "data": {
            "text/plain": [
              "Index(['input_transaction_count', 'input_value_mean', 'input_value_median',\n",
              "       'input_value_maximum', 'input_value_range', 'input_time_diff_mean',\n",
              "       'input_time_diff_median', 'input_time_diff_maximum',\n",
              "       'output_time_diff_mean', 'output_time_diff_median',\n",
              "       'output_time_diff_maximum', 'input_output_mean_ratio',\n",
              "       'input_output_max_ratio', 'input_output_min_ratio',\n",
              "       'input_output_percentile_25_diff', 'input_output_percentile_75_diff',\n",
              "       'range_mean_ratio_input', 'input_output_usd_min_ratio',\n",
              "       'input_output_usd_percentile_25_diff',\n",
              "       'input_output_transaction_count_ratio',\n",
              "       'input_output_maximum_transaction_value_diff',\n",
              "       'input_output_minimum_transaction_value_diff',\n",
              "       'input_output_time_diff_max_min_diff'],\n",
              "      dtype='object')"
            ]
          },
          "metadata": {},
          "execution_count": 33
        }
      ]
    },
    {
      "cell_type": "code",
      "source": [
        "plt.figure(figsize=(10,8))\n",
        "sns.set(font_scale = 2)\n",
        "sns.set_style(\"white\")\n",
        "plt.grid()\n",
        "plt.plot(np.arange(23), X_train_nromal[0],color='black',linewidth=3.0)\n",
        "plt.title(\"A Normal Address\")"
      ],
      "metadata": {
        "colab": {
          "base_uri": "https://localhost:8080/",
          "height": 746
        },
        "id": "gydex-iwR21R",
        "outputId": "09c297e0-7ba4-4908-f0a5-f3f3b4195069"
      },
      "execution_count": 29,
      "outputs": [
        {
          "output_type": "execute_result",
          "data": {
            "text/plain": [
              "Text(0.5, 1.0, 'A Normal Address')"
            ]
          },
          "metadata": {},
          "execution_count": 29
        },
        {
          "output_type": "display_data",
          "data": {
            "text/plain": [
              "<Figure size 1000x800 with 1 Axes>"
            ],
            "image/png": "[encoded data removed]"
          },
          "metadata": {}
        }
      ]
    },
    {
      "cell_type": "code",
      "source": [
        "plt.figure(figsize=(10,8))\n",
        "sns.set(font_scale = 2)\n",
        "sns.set_style(\"white\")\n",
        "plt.grid()\n",
        "plt.plot(np.arange(23), X_train_nromal[1],color='black',linewidth=3.0)\n",
        "plt.title(\"A Normal Address\")"
      ],
      "metadata": {
        "colab": {
          "base_uri": "https://localhost:8080/",
          "height": 746
        },
        "id": "SBi8s0hAU2p8",
        "outputId": "347a10ac-315d-42ca-bab8-f4800c184d78"
      },
      "execution_count": 34,
      "outputs": [
        {
          "output_type": "execute_result",
          "data": {
            "text/plain": [
              "Text(0.5, 1.0, 'A Normal Address')"
            ]
          },
          "metadata": {},
          "execution_count": 34
        },
        {
          "output_type": "display_data",
          "data": {
            "text/plain": [
              "<Figure size 1000x800 with 1 Axes>"
            ],
            "image/png": "[encoded data removed]"
          },
          "metadata": {}
        }
      ]
    },
    {
      "cell_type": "code",
      "source": [
        "X_train_nromal['input_value_mean'].describe()"
      ],
      "metadata": {
        "colab": {
          "base_uri": "https://localhost:8080/"
        },
        "id": "K8IbB7nnXR5s",
        "outputId": "2f5a9e17-0c31-460b-8c09-1da53133de9c"
      },
      "execution_count": 42,
      "outputs": [
        {
          "output_type": "execute_result",
          "data": {
            "text/plain": [
              "count    4.000100e+04\n",
              "mean     1.714920e+07\n",
              "std      1.375254e+08\n",
              "min      5.460000e+02\n",
              "25%      1.000000e+05\n",
              "50%      9.078462e+05\n",
              "75%      4.726379e+06\n",
              "max      1.009997e+10\n",
              "Name: input_value_mean, dtype: float64"
            ]
          },
          "metadata": {},
          "execution_count": 42
        }
      ]
    },
    {
      "cell_type": "code",
      "source": [
        "import matplotlib.pyplot as plt\n",
        "import seaborn as sns\n",
        "\n",
        "# Assuming 'column_data' is your numeric column\n",
        "sns.histplot(X_train_nromal['input_value_mean'], bins=5, kde=True)\n",
        "plt.xlabel('Value')\n",
        "plt.ylabel('Frequency')\n",
        "plt.title('Histogram of Column Data')\n",
        "plt.show()"
      ],
      "metadata": {
        "colab": {
          "base_uri": "https://localhost:8080/",
          "height": 548
        },
        "id": "upzwZyn6V2Nx",
        "outputId": "433832e9-7126-472f-a757-1686770c19eb"
      },
      "execution_count": 41,
      "outputs": [
        {
          "output_type": "display_data",
          "data": {
            "text/plain": [
              "<Figure size 640x480 with 1 Axes>"
            ],
            "image/png": "[encoded data removed]"
          },
          "metadata": {}
        }
      ]
    },
    {
      "cell_type": "code",
      "source": [
        "# Assuming 'column_data1' and 'column_data2' are your numeric columns\n",
        "plt.scatter(X_train_nromal[0], X_train_abnromal[0])\n",
        "plt.xlabel('Column Data 1')\n",
        "plt.ylabel('Column Data 2')\n",
        "plt.title('Scatter Plot of Column Data')\n",
        "plt.show()\n"
      ],
      "metadata": {
        "colab": {
          "base_uri": "https://localhost:8080/",
          "height": 521
        },
        "id": "XPOvtbWuWFEK",
        "outputId": "dc641132-233b-4656-dc0d-b3e91e52bf03"
      },
      "execution_count": 36,
      "outputs": [
        {
          "output_type": "display_data",
          "data": {
            "text/plain": [
              "<Figure size 640x480 with 1 Axes>"
            ],
            "image/png": "[encoded data removed]"
          },
          "metadata": {}
        }
      ]
    },
    {
      "cell_type": "code",
      "source": [
        "import matplotlib.pyplot as plt\n",
        "import seaborn as sns\n",
        "\n",
        "# Assuming 'data' is your DataFrame\n",
        "sns.scatterplot(x='input_value_mean', y='output_time_diff_mean', data=X_train_nromal)\n",
        "sns.scatterplot(x='input_value_mean', y='output_time_diff_mean', data=X_train_abnromal)\n",
        "\n",
        "plt.xlabel('Input Value Mean')\n",
        "plt.ylabel('Output Time Difference Mean')\n",
        "plt.title('Input Value Mean vs. Output Time Difference Mean')\n",
        "plt.show()\n"
      ],
      "metadata": {
        "colab": {
          "base_uri": "https://localhost:8080/",
          "height": 548
        },
        "id": "9A6tfbCLhfx8",
        "outputId": "af031bc9-e09f-412b-8a6d-1d3e5494bf9f"
      },
      "execution_count": 44,
      "outputs": [
        {
          "output_type": "display_data",
          "data": {
            "text/plain": [
              "<Figure size 640x480 with 1 Axes>"
            ],
            "image/png": "[encoded data removed]"
          },
          "metadata": {}
        }
      ]
    },
    {
      "cell_type": "code",
      "source": [
        "X_train_normal = X_train_nromal\n",
        "X_train_abnormal = X_train_abnormal"
      ],
      "metadata": {
        "id": "vZuIx4wQsvIJ"
      },
      "execution_count": null,
      "outputs": []
    },
    {
      "cell_type": "code",
      "source": [
        "import matplotlib.pyplot as plt\n",
        "import seaborn as sns\n",
        "import numpy as np\n",
        "\n",
        "# Apply a log transformation to the data if it spans several orders of magnitude\n",
        "# Use np.log1p for log(1+x) to avoid issues with log(0)\n",
        "X_train_normal['input_value_mean_log'] = np.log1p(X_train_normal['input_value_mean'])\n",
        "X_train_abnormal['input_value_mean_log'] = np.log1p(X_train_abnormal['input_value_mean'])\n",
        "X_train_normal['output_time_diff_mean_log'] = np.log1p(X_train_normal['output_time_diff_mean'])\n",
        "X_train_abnormal['output_time_diff_mean_log'] = np.log1p(X_train_abnormal['output_time_diff_mean'])\n",
        "\n",
        "# Plotting with log-transformed data and alpha blending for overlap\n",
        "sns.scatterplot(x='input_value_mean_log', y='output_time_diff_mean_log', data=X_train_normal, alpha=0.5, label='Normal')\n",
        "sns.scatterplot(x='input_value_mean_log', y='output_time_diff_mean_log', data=X_train_abnormal, alpha=0.5, label='Abnormal')\n",
        "\n",
        "plt.xlabel('Log of Input Value Mean')\n",
        "plt.ylabel('Log of Output Time Difference Mean')\n",
        "plt.title('Log of Input Value Mean vs. Log of Output Time Difference Mean')\n",
        "plt.legend()\n",
        "plt.show()\n"
      ],
      "metadata": {
        "colab": {
          "base_uri": "https://localhost:8080/",
          "height": 245
        },
        "id": "cX9SWUkHmx1H",
        "outputId": "3eed44ad-a2c7-4a2d-e62c-dd31508c2aec"
      },
      "execution_count": 45,
      "outputs": [
        {
          "output_type": "error",
          "ename": "NameError",
          "evalue": "name 'X_train_normal' is not defined",
          "traceback": [
            "\u001b[0;31m---------------------------------------------------------------------------\u001b[0m",
            "\u001b[0;31mNameError\u001b[0m                                 Traceback (most recent call last)",
            "\u001b[0;32m<ipython-input-45-7d1b6b943cb0>\u001b[0m in \u001b[0;36m<cell line: 7>\u001b[0;34m()\u001b[0m\n\u001b[1;32m      5\u001b[0m \u001b[0;31m# Apply a log transformation to the data if it spans several orders of magnitude\u001b[0m\u001b[0;34m\u001b[0m\u001b[0;34m\u001b[0m\u001b[0m\n\u001b[1;32m      6\u001b[0m \u001b[0;31m# Use np.log1p for log(1+x) to avoid issues with log(0)\u001b[0m\u001b[0;34m\u001b[0m\u001b[0;34m\u001b[0m\u001b[0m\n\u001b[0;32m----> 7\u001b[0;31m \u001b[0mX_train_normal\u001b[0m\u001b[0;34m[\u001b[0m\u001b[0;34m'input_value_mean_log'\u001b[0m\u001b[0;34m]\u001b[0m \u001b[0;34m=\u001b[0m \u001b[0mnp\u001b[0m\u001b[0;34m.\u001b[0m\u001b[0mlog1p\u001b[0m\u001b[0;34m(\u001b[0m\u001b[0mX_train_normal\u001b[0m\u001b[0;34m[\u001b[0m\u001b[0;34m'input_value_mean'\u001b[0m\u001b[0;34m]\u001b[0m\u001b[0;34m)\u001b[0m\u001b[0;34m\u001b[0m\u001b[0;34m\u001b[0m\u001b[0m\n\u001b[0m\u001b[1;32m      8\u001b[0m \u001b[0mX_train_abnormal\u001b[0m\u001b[0;34m[\u001b[0m\u001b[0;34m'input_value_mean_log'\u001b[0m\u001b[0;34m]\u001b[0m \u001b[0;34m=\u001b[0m \u001b[0mnp\u001b[0m\u001b[0;34m.\u001b[0m\u001b[0mlog1p\u001b[0m\u001b[0;34m(\u001b[0m\u001b[0mX_train_abnormal\u001b[0m\u001b[0;34m[\u001b[0m\u001b[0;34m'input_value_mean'\u001b[0m\u001b[0;34m]\u001b[0m\u001b[0;34m)\u001b[0m\u001b[0;34m\u001b[0m\u001b[0;34m\u001b[0m\u001b[0m\n\u001b[1;32m      9\u001b[0m \u001b[0mX_train_normal\u001b[0m\u001b[0;34m[\u001b[0m\u001b[0;34m'output_time_diff_mean_log'\u001b[0m\u001b[0;34m]\u001b[0m \u001b[0;34m=\u001b[0m \u001b[0mnp\u001b[0m\u001b[0;34m.\u001b[0m\u001b[0mlog1p\u001b[0m\u001b[0;34m(\u001b[0m\u001b[0mX_train_normal\u001b[0m\u001b[0;34m[\u001b[0m\u001b[0;34m'output_time_diff_mean'\u001b[0m\u001b[0;34m]\u001b[0m\u001b[0;34m)\u001b[0m\u001b[0;34m\u001b[0m\u001b[0;34m\u001b[0m\u001b[0m\n",
            "\u001b[0;31mNameError\u001b[0m: name 'X_train_normal' is not defined"
          ]
        }
      ]
    },
    {
      "cell_type": "code",
      "source": [
        "import matplotlib.pyplot as plt\n",
        "import seaborn as sns\n",
        "\n",
        "# Assuming normal_data and abnormal_data are your datasets with two columns each\n",
        "# Replace 'feature1' and 'feature2' with your actual feature/column names\n",
        "sns.scatterplot(x='feature1', y='feature2', data=normal_data, label='Normal', color='blue')\n",
        "sns.scatterplot(x='feature1', y='feature2', data=abnormal_data, label='Abnormal', color='red')\n",
        "\n",
        "plt.xlabel('Feature 1')\n",
        "plt.ylabel('Feature 2')\n",
        "plt.title('Comparison of Normal and Abnormal Classes')\n",
        "plt.legend()\n",
        "plt.show()\n"
      ],
      "metadata": {
        "id": "QQVVdvoPWxnd"
      },
      "execution_count": null,
      "outputs": []
    },
    {
      "cell_type": "code",
      "source": [
        "plt.figure(figsize=(10,8))\n",
        "sns.set(font_scale = 2)\n",
        "sns.set_style(\"white\")\n",
        "plt.grid()\n",
        "plt.plot(np.arange(23), X_train_abnromal[0],color='red',linewidth=3.0)\n",
        "plt.title(\"An Anomalous ECG\")\n",
        "plt.show()"
      ],
      "metadata": {
        "colab": {
          "base_uri": "https://localhost:8080/",
          "height": 729
        },
        "id": "QihW5NtjSPtK",
        "outputId": "f92963b3-f506-4c0e-d399-7abef3d62c3f"
      },
      "execution_count": 30,
      "outputs": [
        {
          "output_type": "display_data",
          "data": {
            "text/plain": [
              "<Figure size 1000x800 with 1 Axes>"
            ],
            "image/png": "[encoded data removed]"
          },
          "metadata": {}
        }
      ]
    },
    {
      "cell_type": "code",
      "source": [
        "# This assumes that the positive class is labeled '1' and the negative class is '0'\n",
        "positive_indices = train_labels == 1\n",
        "negative_indices = train_labels == 0\n",
        "\n",
        "# Now use these indices to separate out the positive and negative classes\n",
        "X_positive_train = X_train_normalized[positive_indices]\n",
        "y_positive_train = train_labels[positive_indices]\n",
        "\n",
        "X_negative_train = X_train_normalized[negative_indices]\n",
        "y_negative_train = train_labels[negative_indices]\n"
      ],
      "metadata": {
        "id": "YopKdyNwvjLm"
      },
      "execution_count": 77,
      "outputs": []
    },
    {
      "cell_type": "code",
      "source": [
        "from tensorflow.keras import layers, models, regularizers\n",
        "\n",
        "class AnomalyDetector(models.Model):\n",
        "  def __init__(self):\n",
        "    super(AnomalyDetector, self).__init__()\n",
        "    self.encoder = tf.keras.Sequential([\n",
        "      layers.Dense(32, activation=\"relu\", activity_regularizer=regularizers.l1(10e-5)),\n",
        "      layers.BatchNormalization(),\n",
        "      layers.Dropout(0.1),\n",
        "      layers.Dense(16, activation=\"relu\"),\n",
        "      layers.Dense(8, activation=\"relu\")])\n",
        "\n",
        "    self.decoder = tf.keras.Sequential([\n",
        "      layers.Dense(16, activation=\"relu\"),\n",
        "      layers.Dropout(0.1),\n",
        "      layers.Dense(32, activation=\"relu\"),\n",
        "      layers.Dense(62, activation=\"sigmoid\")])\n",
        "\n",
        "  def call(self, x):\n",
        "    encoded = self.encoder(x)\n",
        "    decoded = self.decoder(encoded)\n",
        "    return decoded\n"
      ],
      "metadata": {
        "id": "JmXlE6qis1gm"
      },
      "execution_count": 82,
      "outputs": []
    },
    {
      "cell_type": "code",
      "source": [
        "autoencoder = AnomalyDetector()"
      ],
      "metadata": {
        "id": "8TvgSzY4s75J"
      },
      "execution_count": 83,
      "outputs": []
    },
    {
      "cell_type": "code",
      "source": [
        "autoencoder.compile(optimizer='adam', loss='mae')"
      ],
      "metadata": {
        "id": "Opj_JrhCs9te"
      },
      "execution_count": 84,
      "outputs": []
    },
    {
      "cell_type": "code",
      "source": [
        "history = autoencoder.fit(X_negative_train, X_negative_train,\n",
        "          epochs=20,\n",
        "          batch_size=512,\n",
        "          validation_data=(X_val_normalized, X_val_normalized),\n",
        "          shuffle=True)"
      ],
      "metadata": {
        "colab": {
          "base_uri": "https://localhost:8080/"
        },
        "id": "5sK5Q685tAFl",
        "outputId": "0306acc5-c99f-4b9d-855d-911e932ed4b8"
      },
      "execution_count": 85,
      "outputs": [
        {
          "output_type": "stream",
          "name": "stdout",
          "text": [
            "Epoch 1/20\n",
            "63/63 [==============================] - 3s 15ms/step - loss: 0.4612 - val_loss: 0.2501\n",
            "Epoch 2/20\n",
            "63/63 [==============================] - 1s 11ms/step - loss: 0.1557 - val_loss: 0.1300\n",
            "Epoch 3/20\n",
            "63/63 [==============================] - 0s 8ms/step - loss: 0.1442 - val_loss: 0.1246\n",
            "Epoch 4/20\n",
            "63/63 [==============================] - 1s 9ms/step - loss: 0.1407 - val_loss: 0.1203\n",
            "Epoch 5/20\n",
            "63/63 [==============================] - 0s 7ms/step - loss: 0.1362 - val_loss: 0.1175\n",
            "Epoch 6/20\n",
            "63/63 [==============================] - 0s 6ms/step - loss: 0.1330 - val_loss: 0.1144\n",
            "Epoch 7/20\n",
            "63/63 [==============================] - 0s 6ms/step - loss: 0.1306 - val_loss: 0.1139\n",
            "Epoch 8/20\n",
            "63/63 [==============================] - 0s 7ms/step - loss: 0.1301 - val_loss: 0.1136\n",
            "Epoch 9/20\n",
            "63/63 [==============================] - 1s 8ms/step - loss: 0.1292 - val_loss: 0.1125\n",
            "Epoch 10/20\n",
            "63/63 [==============================] - 0s 7ms/step - loss: 0.1283 - val_loss: 0.1122\n",
            "Epoch 11/20\n",
            "63/63 [==============================] - 0s 6ms/step - loss: 0.1279 - val_loss: 0.1121\n",
            "Epoch 12/20\n",
            "63/63 [==============================] - 0s 6ms/step - loss: 0.1276 - val_loss: 0.1117\n",
            "Epoch 13/20\n",
            "63/63 [==============================] - 0s 7ms/step - loss: 0.1270 - val_loss: 0.1109\n",
            "Epoch 14/20\n",
            "63/63 [==============================] - 0s 6ms/step - loss: 0.1260 - val_loss: 0.1101\n",
            "Epoch 15/20\n",
            "63/63 [==============================] - 0s 6ms/step - loss: 0.1250 - val_loss: 0.1084\n",
            "Epoch 16/20\n",
            "63/63 [==============================] - 0s 6ms/step - loss: 0.1227 - val_loss: 0.1063\n",
            "Epoch 17/20\n",
            "63/63 [==============================] - 0s 6ms/step - loss: 0.1217 - val_loss: 0.1056\n",
            "Epoch 18/20\n",
            "63/63 [==============================] - 0s 6ms/step - loss: 0.1210 - val_loss: 0.1048\n",
            "Epoch 19/20\n",
            "63/63 [==============================] - 0s 7ms/step - loss: 0.1205 - val_loss: 0.1043\n",
            "Epoch 20/20\n",
            "63/63 [==============================] - 0s 7ms/step - loss: 0.1201 - val_loss: 0.1038\n"
          ]
        }
      ]
    },
    {
      "cell_type": "code",
      "source": [
        "plt.figure(figsize=(10,8))\n",
        "sns.set(font_scale = 2)\n",
        "sns.set_style(\"white\")\n",
        "plt.plot(history.history[\"loss\"], label=\"Training Loss\",linewidth=3.0)\n",
        "plt.plot(history.history[\"val_loss\"], label=\"Validation Loss\",linewidth=3.0)\n",
        "plt.legend()"
      ],
      "metadata": {
        "colab": {
          "base_uri": "https://localhost:8080/",
          "height": 712
        },
        "id": "ZQfwwkSCtMMA",
        "outputId": "1b3c98b2-4ac7-452b-a184-0568983904b2"
      },
      "execution_count": 86,
      "outputs": [
        {
          "output_type": "execute_result",
          "data": {
            "text/plain": [
              "<matplotlib.legend.Legend at 0x7e424adce3e0>"
            ]
          },
          "metadata": {},
          "execution_count": 86
        },
        {
          "output_type": "display_data",
          "data": {
            "text/plain": [
              "<Figure size 1000x800 with 1 Axes>"
            ],
            "image/png": "[encoded data removed]"
          },
          "metadata": {}
        }
      ]
    },
    {
      "cell_type": "code",
      "source": [
        "def predict(model, data, threshold):\n",
        "  reconstructions = model(data)\n",
        "  loss = tf.keras.losses.mae(reconstructions, data)\n",
        "  return tf.math.less(loss, threshold)\n",
        "\n",
        "def print_stats(predictions, labels):\n",
        "  print(\"Accuracy = {}\".format(accuracy_score(labels, preds)))\n",
        "  print(\"Precision = {}\".format(precision_score(labels, preds)))\n",
        "  print(\"Recall = {}\".format(recall_score(labels, preds)))"
      ],
      "metadata": {
        "id": "lO-HaI7z7EEN"
      },
      "execution_count": 90,
      "outputs": []
    },
    {
      "cell_type": "code",
      "source": [
        "reconstructions = autoencoder.predict(X_negative_train)\n",
        "train_loss = tf.keras.losses.mae(reconstructions, X_negative_train)"
      ],
      "metadata": {
        "colab": {
          "base_uri": "https://localhost:8080/"
        },
        "id": "u876BxKd7zLx",
        "outputId": "47581c80-3ae8-4c15-e241-b7abbf8295dc"
      },
      "execution_count": 87,
      "outputs": [
        {
          "output_type": "stream",
          "name": "stdout",
          "text": [
            "1001/1001 [==============================] - 2s 2ms/step\n"
          ]
        }
      ]
    },
    {
      "cell_type": "code",
      "source": [
        "threshold = np.mean(train_loss) + np.std(train_loss)\n",
        "print(\"Threshold: \", threshold)"
      ],
      "metadata": {
        "colab": {
          "base_uri": "https://localhost:8080/"
        },
        "id": "xLfIp0hH7uCA",
        "outputId": "62935a78-e4aa-4a4e-b63a-368e0b2deac5"
      },
      "execution_count": 88,
      "outputs": [
        {
          "output_type": "stream",
          "name": "stdout",
          "text": [
            "Threshold:  0.27922303406050186\n"
          ]
        }
      ]
    },
    {
      "cell_type": "code",
      "source": [
        "X_test_normalized.shape"
      ],
      "metadata": {
        "colab": {
          "base_uri": "https://localhost:8080/"
        },
        "id": "mlGHod6M8eaO",
        "outputId": "77433ed6-f4bb-4c29-ebce-7c38af8f8f15"
      },
      "execution_count": 43,
      "outputs": [
        {
          "output_type": "execute_result",
          "data": {
            "text/plain": [
              "(17800, 23)"
            ]
          },
          "metadata": {},
          "execution_count": 43
        }
      ]
    },
    {
      "cell_type": "code",
      "source": [
        "preds"
      ],
      "metadata": {
        "colab": {
          "base_uri": "https://localhost:8080/"
        },
        "id": "B9vbmaXy8gyl",
        "outputId": "6cf71ac1-ca36-493e-f9cd-a39d8a355ad6"
      },
      "execution_count": 44,
      "outputs": [
        {
          "output_type": "execute_result",
          "data": {
            "text/plain": [
              "<tf.Tensor: shape=(17800,), dtype=bool, numpy=array([ True,  True,  True, ...,  True,  True,  True])>"
            ]
          },
          "metadata": {},
          "execution_count": 44
        }
      ]
    },
    {
      "cell_type": "code",
      "source": [
        "preds = predict(autoencoder, X_test_normalized, threshold)\n",
        "print_stats(preds, y_test)"
      ],
      "metadata": {
        "colab": {
          "base_uri": "https://localhost:8080/"
        },
        "id": "0cyXMMhx7Qzz",
        "outputId": "723f0bab-9714-4785-f384-b466a5db341e"
      },
      "execution_count": 91,
      "outputs": [
        {
          "output_type": "stream",
          "name": "stdout",
          "text": [
            "Accuracy = 0.07842696629213483\n",
            "Precision = 0.01755542240862792\n",
            "Recall = 0.9766666666666667\n"
          ]
        }
      ]
    },
    {
      "cell_type": "code",
      "source": [
        "from tensorflow.keras import layers, models, regularizers, callbacks\n",
        "\n",
        "class AnomalyDetector(models.Model):\n",
        "    def __init__(self):\n",
        "        super(AnomalyDetector, self).__init__()\n",
        "        self.encoder = tf.keras.Sequential([\n",
        "            layers.Dense(32, activation=\"relu\", activity_regularizer=regularizers.l1(10e-5)),\n",
        "            layers.BatchNormalization(),\n",
        "            layers.Dropout(0.1),\n",
        "            layers.Dense(16, activation=\"relu\"),\n",
        "            layers.Dense(8, activation=\"relu\")])\n",
        "\n",
        "        self.decoder = tf.keras.Sequential([\n",
        "            layers.Dense(16, activation=\"relu\"),\n",
        "            layers.Dropout(0.1),\n",
        "            layers.Dense(32, activation=\"relu\"),\n",
        "            layers.Dense(62, activation=\"sigmoid\")])\n",
        "\n",
        "    def call(self, x):\n",
        "        encoded = self.encoder(x)\n",
        "        decoded = self.decoder(encoded)\n",
        "        return decoded\n",
        "\n",
        "autoencoder = AnomalyDetector()\n",
        "autoencoder.compile(optimizer='adam', loss='mae')\n",
        "\n",
        "# Early Stopping Callback\n",
        "early_stopping = callbacks.EarlyStopping(monitor='val_loss', patience=5, mode='min')\n",
        "\n",
        "# Learning Rate Scheduler\n",
        "lr_scheduler = callbacks.LearningRateScheduler(lambda epoch: 1e-3 * 10 ** (-epoch / 20))\n",
        "\n",
        "history = autoencoder.fit(\n",
        "    X_negative_train, X_negative_train,\n",
        "    epochs=50,\n",
        "    batch_size=64,\n",
        "    validation_data=(X_val_normalized, X_val_normalized),\n",
        "    shuffle=True,\n",
        "    callbacks=[early_stopping, lr_scheduler]\n",
        ")\n"
      ],
      "metadata": {
        "colab": {
          "base_uri": "https://localhost:8080/"
        },
        "id": "Uhpo7w2FDCrf",
        "outputId": "fdc08312-94de-4de2-a30a-ea733ca9f262"
      },
      "execution_count": 92,
      "outputs": [
        {
          "output_type": "stream",
          "name": "stdout",
          "text": [
            "Epoch 1/50\n",
            "501/501 [==============================] - 6s 6ms/step - loss: 0.1922 - val_loss: 0.1239 - lr: 0.0010\n",
            "Epoch 2/50\n",
            "501/501 [==============================] - 3s 5ms/step - loss: 0.1361 - val_loss: 0.1110 - lr: 8.9125e-04\n",
            "Epoch 3/50\n",
            "501/501 [==============================] - 3s 6ms/step - loss: 0.1259 - val_loss: 0.1093 - lr: 7.9433e-04\n",
            "Epoch 4/50\n",
            "501/501 [==============================] - 3s 5ms/step - loss: 0.1248 - val_loss: 0.1083 - lr: 7.0795e-04\n",
            "Epoch 5/50\n",
            "501/501 [==============================] - 3s 5ms/step - loss: 0.1239 - val_loss: 0.1072 - lr: 6.3096e-04\n",
            "Epoch 6/50\n",
            "501/501 [==============================] - 3s 6ms/step - loss: 0.1234 - val_loss: 0.1069 - lr: 5.6234e-04\n",
            "Epoch 7/50\n",
            "501/501 [==============================] - 2s 4ms/step - loss: 0.1229 - val_loss: 0.1066 - lr: 5.0119e-04\n",
            "Epoch 8/50\n",
            "501/501 [==============================] - 2s 4ms/step - loss: 0.1227 - val_loss: 0.1066 - lr: 4.4668e-04\n",
            "Epoch 9/50\n",
            "501/501 [==============================] - 2s 4ms/step - loss: 0.1223 - val_loss: 0.1058 - lr: 3.9811e-04\n",
            "Epoch 10/50\n",
            "501/501 [==============================] - 2s 4ms/step - loss: 0.1220 - val_loss: 0.1058 - lr: 3.5481e-04\n",
            "Epoch 11/50\n",
            "501/501 [==============================] - 4s 7ms/step - loss: 0.1218 - val_loss: 0.1057 - lr: 3.1623e-04\n",
            "Epoch 12/50\n",
            "501/501 [==============================] - 4s 9ms/step - loss: 0.1217 - val_loss: 0.1055 - lr: 2.8184e-04\n",
            "Epoch 13/50\n",
            "501/501 [==============================] - 2s 4ms/step - loss: 0.1215 - val_loss: 0.1052 - lr: 2.5119e-04\n",
            "Epoch 14/50\n",
            "501/501 [==============================] - 2s 4ms/step - loss: 0.1214 - val_loss: 0.1053 - lr: 2.2387e-04\n",
            "Epoch 15/50\n",
            "501/501 [==============================] - 2s 4ms/step - loss: 0.1212 - val_loss: 0.1052 - lr: 1.9953e-04\n",
            "Epoch 16/50\n",
            "501/501 [==============================] - 2s 5ms/step - loss: 0.1211 - val_loss: 0.1052 - lr: 1.7783e-04\n",
            "Epoch 17/50\n",
            "501/501 [==============================] - 3s 6ms/step - loss: 0.1210 - val_loss: 0.1051 - lr: 1.5849e-04\n",
            "Epoch 18/50\n",
            "501/501 [==============================] - 2s 4ms/step - loss: 0.1209 - val_loss: 0.1050 - lr: 1.4125e-04\n",
            "Epoch 19/50\n",
            "501/501 [==============================] - 2s 5ms/step - loss: 0.1209 - val_loss: 0.1049 - lr: 1.2589e-04\n",
            "Epoch 20/50\n",
            "501/501 [==============================] - 2s 4ms/step - loss: 0.1208 - val_loss: 0.1049 - lr: 1.1220e-04\n",
            "Epoch 21/50\n",
            "501/501 [==============================] - 2s 4ms/step - loss: 0.1208 - val_loss: 0.1048 - lr: 1.0000e-04\n",
            "Epoch 22/50\n",
            "501/501 [==============================] - 2s 5ms/step - loss: 0.1207 - val_loss: 0.1047 - lr: 8.9125e-05\n",
            "Epoch 23/50\n",
            "501/501 [==============================] - 3s 5ms/step - loss: 0.1207 - val_loss: 0.1047 - lr: 7.9433e-05\n",
            "Epoch 24/50\n",
            "501/501 [==============================] - 2s 4ms/step - loss: 0.1206 - val_loss: 0.1047 - lr: 7.0795e-05\n",
            "Epoch 25/50\n",
            "501/501 [==============================] - 2s 4ms/step - loss: 0.1205 - val_loss: 0.1047 - lr: 6.3096e-05\n",
            "Epoch 26/50\n",
            "501/501 [==============================] - 2s 4ms/step - loss: 0.1205 - val_loss: 0.1046 - lr: 5.6234e-05\n",
            "Epoch 27/50\n",
            "501/501 [==============================] - 2s 4ms/step - loss: 0.1205 - val_loss: 0.1046 - lr: 5.0119e-05\n",
            "Epoch 28/50\n",
            "501/501 [==============================] - 2s 5ms/step - loss: 0.1204 - val_loss: 0.1046 - lr: 4.4668e-05\n",
            "Epoch 29/50\n",
            "501/501 [==============================] - 3s 6ms/step - loss: 0.1204 - val_loss: 0.1046 - lr: 3.9811e-05\n",
            "Epoch 30/50\n",
            "501/501 [==============================] - 2s 4ms/step - loss: 0.1204 - val_loss: 0.1046 - lr: 3.5481e-05\n",
            "Epoch 31/50\n",
            "501/501 [==============================] - 2s 4ms/step - loss: 0.1204 - val_loss: 0.1046 - lr: 3.1623e-05\n",
            "Epoch 32/50\n",
            "501/501 [==============================] - 2s 4ms/step - loss: 0.1204 - val_loss: 0.1045 - lr: 2.8184e-05\n",
            "Epoch 33/50\n",
            "501/501 [==============================] - 2s 4ms/step - loss: 0.1204 - val_loss: 0.1046 - lr: 2.5119e-05\n",
            "Epoch 34/50\n",
            "501/501 [==============================] - 3s 6ms/step - loss: 0.1203 - val_loss: 0.1045 - lr: 2.2387e-05\n",
            "Epoch 35/50\n",
            "501/501 [==============================] - 3s 5ms/step - loss: 0.1203 - val_loss: 0.1045 - lr: 1.9953e-05\n",
            "Epoch 36/50\n",
            "501/501 [==============================] - 2s 5ms/step - loss: 0.1203 - val_loss: 0.1045 - lr: 1.7783e-05\n",
            "Epoch 37/50\n",
            "501/501 [==============================] - 3s 5ms/step - loss: 0.1204 - val_loss: 0.1044 - lr: 1.5849e-05\n",
            "Epoch 38/50\n",
            "501/501 [==============================] - 3s 5ms/step - loss: 0.1203 - val_loss: 0.1045 - lr: 1.4125e-05\n",
            "Epoch 39/50\n",
            "501/501 [==============================] - 3s 6ms/step - loss: 0.1203 - val_loss: 0.1045 - lr: 1.2589e-05\n",
            "Epoch 40/50\n",
            "501/501 [==============================] - 3s 5ms/step - loss: 0.1203 - val_loss: 0.1045 - lr: 1.1220e-05\n",
            "Epoch 41/50\n",
            "501/501 [==============================] - 2s 4ms/step - loss: 0.1203 - val_loss: 0.1044 - lr: 1.0000e-05\n",
            "Epoch 42/50\n",
            "501/501 [==============================] - 2s 5ms/step - loss: 0.1203 - val_loss: 0.1045 - lr: 8.9125e-06\n",
            "Epoch 43/50\n",
            "501/501 [==============================] - 2s 4ms/step - loss: 0.1202 - val_loss: 0.1044 - lr: 7.9433e-06\n",
            "Epoch 44/50\n",
            "501/501 [==============================] - 3s 5ms/step - loss: 0.1203 - val_loss: 0.1044 - lr: 7.0795e-06\n",
            "Epoch 45/50\n",
            "501/501 [==============================] - 3s 6ms/step - loss: 0.1202 - val_loss: 0.1044 - lr: 6.3096e-06\n",
            "Epoch 46/50\n",
            "501/501 [==============================] - 2s 4ms/step - loss: 0.1203 - val_loss: 0.1044 - lr: 5.6234e-06\n",
            "Epoch 47/50\n",
            "501/501 [==============================] - 2s 4ms/step - loss: 0.1202 - val_loss: 0.1044 - lr: 5.0119e-06\n",
            "Epoch 48/50\n",
            "501/501 [==============================] - 2s 4ms/step - loss: 0.1202 - val_loss: 0.1044 - lr: 4.4668e-06\n",
            "Epoch 49/50\n",
            "501/501 [==============================] - 2s 4ms/step - loss: 0.1202 - val_loss: 0.1044 - lr: 3.9811e-06\n",
            "Epoch 50/50\n",
            "501/501 [==============================] - 2s 4ms/step - loss: 0.1202 - val_loss: 0.1044 - lr: 3.5481e-06\n"
          ]
        }
      ]
    },
    {
      "cell_type": "code",
      "source": [
        "preds = predict(autoencoder, X_test_normalized, threshold)\n",
        "print_stats(preds, y_test)"
      ],
      "metadata": {
        "colab": {
          "base_uri": "https://localhost:8080/"
        },
        "id": "PcDiU8-zDO4W",
        "outputId": "7d162eac-bf4c-4e17-e51d-b0ac29b4a550"
      },
      "execution_count": 93,
      "outputs": [
        {
          "output_type": "stream",
          "name": "stdout",
          "text": [
            "Accuracy = 0.07926966292134831\n",
            "Precision = 0.01751334492892701\n",
            "Recall = 0.9733333333333334\n"
          ]
        }
      ]
    },
    {
      "cell_type": "code",
      "source": [
        "import tensorflow as tf\n",
        "from tensorflow.keras import layers, models, Model\n",
        "\n",
        "class AutoEncoder(Model):\n",
        "    def __init__(self, input_dim, latent_dim):\n",
        "        super(AutoEncoder, self).__init__()\n",
        "        self.input_dim = input_dim\n",
        "        self.latent_dim = latent_dim\n",
        "\n",
        "        # Encoder\n",
        "        self.encoder = tf.keras.Sequential([\n",
        "            layers.Input(shape=(input_dim, 1)),  # Ensure input is 3D\n",
        "            layers.Conv1D(128, 3, strides=1, activation='relu', padding=\"same\"),\n",
        "            layers.BatchNormalization(),\n",
        "            layers.MaxPooling1D(2, padding=\"same\"),\n",
        "            layers.Conv1D(128, 3, strides=1, activation='relu', padding=\"same\"),\n",
        "            layers.BatchNormalization(),\n",
        "            layers.MaxPooling1D(2, padding=\"same\"),\n",
        "            layers.Conv1D(latent_dim, 3, strides=1, activation='relu', padding=\"same\"),\n",
        "            layers.BatchNormalization(),\n",
        "            layers.MaxPooling1D(2, padding=\"same\"),\n",
        "        ])\n",
        "\n",
        "        # Decoder\n",
        "        self.decoder = tf.keras.Sequential([\n",
        "            layers.Conv1DTranspose(latent_dim, 3, strides=2, activation='relu', padding=\"same\"),\n",
        "            layers.BatchNormalization(),\n",
        "            layers.Conv1DTranspose(128, 3, strides=2, activation='relu', padding=\"same\"),\n",
        "            layers.BatchNormalization(),\n",
        "            layers.Conv1DTranspose(128, 3, strides=2, activation='relu', padding=\"same\"),\n",
        "            layers.BatchNormalization(),\n",
        "            layers.Flatten(),\n",
        "            layers.Dense(input_dim)\n",
        "        ])\n",
        "\n",
        "    def call(self, X):\n",
        "        encoded = self.encoder(X)\n",
        "        decoded = self.decoder(encoded)\n",
        "        return decoded\n",
        "\n",
        "\n",
        "# Set input_dim to the number of features in your dataset\n",
        "input_dim = X_train.shape[-1]\n",
        "latent_dim = 32\n",
        "\n",
        "model = AutoEncoder(input_dim, latent_dim)\n",
        "model.build((None, input_dim, 1))  # Additional 1 for the 3D input requirement\n",
        "model.compile(optimizer=tf.keras.optimizers.Adam(learning_rate=0.01), loss=\"mae\")\n",
        "model.summary()\n"
      ],
      "metadata": {
        "colab": {
          "base_uri": "https://localhost:8080/"
        },
        "id": "D2F0BfFJE71F",
        "outputId": "f5aa719e-20fe-4b22-b25c-981c4813ce8e"
      },
      "execution_count": 94,
      "outputs": [
        {
          "output_type": "stream",
          "name": "stdout",
          "text": [
            "Model: \"auto_encoder_1\"\n",
            "_________________________________________________________________\n",
            " Layer (type)                Output Shape              Param #   \n",
            "=================================================================\n",
            " sequential_18 (Sequential)  (None, 8, 32)             63264     \n",
            "                                                                 \n",
            " sequential_19 (Sequential)  (None, 62)                573918    \n",
            "                                                                 \n",
            "=================================================================\n",
            "Total params: 637182 (2.43 MB)\n",
            "Trainable params: 636030 (2.43 MB)\n",
            "Non-trainable params: 1152 (4.50 KB)\n",
            "_________________________________________________________________\n"
          ]
        }
      ]
    },
    {
      "cell_type": "code",
      "source": [
        "from tensorflow.keras.callbacks import EarlyStopping"
      ],
      "metadata": {
        "id": "oZY8QfB-KsJ5"
      },
      "execution_count": 51,
      "outputs": []
    },
    {
      "cell_type": "code",
      "source": [
        "epochs = 100\n",
        "batch_size = 128\n",
        "early_stopping = EarlyStopping(patience=10, min_delta=1e-3, monitor=\"val_loss\", restore_best_weights=True)\n",
        "\n",
        "\n",
        "history = model.fit(X_negative_train, X_negative_train, epochs=epochs, batch_size=batch_size,\n",
        "                    validation_split=0.1, callbacks=[early_stopping])"
      ],
      "metadata": {
        "colab": {
          "base_uri": "https://localhost:8080/"
        },
        "id": "Enun_h5PJX-I",
        "outputId": "3287c42a-a8e5-4910-8248-1b872c627278"
      },
      "execution_count": 95,
      "outputs": [
        {
          "output_type": "stream",
          "name": "stdout",
          "text": [
            "Epoch 1/100\n",
            "226/226 [==============================] - 39s 154ms/step - loss: 0.6697 - val_loss: 0.1360\n",
            "Epoch 2/100\n",
            "226/226 [==============================] - 35s 154ms/step - loss: 0.1301 - val_loss: 0.0784\n",
            "Epoch 3/100\n",
            "226/226 [==============================] - 36s 157ms/step - loss: 0.0465 - val_loss: 0.0348\n",
            "Epoch 4/100\n",
            "226/226 [==============================] - 35s 157ms/step - loss: 0.0324 - val_loss: 0.0309\n",
            "Epoch 5/100\n",
            "226/226 [==============================] - 34s 151ms/step - loss: 0.0299 - val_loss: 0.0299\n",
            "Epoch 6/100\n",
            "226/226 [==============================] - 37s 163ms/step - loss: 0.0281 - val_loss: 0.0233\n",
            "Epoch 7/100\n",
            "226/226 [==============================] - 35s 154ms/step - loss: 0.0256 - val_loss: 0.0282\n",
            "Epoch 8/100\n",
            "226/226 [==============================] - 35s 156ms/step - loss: 0.0268 - val_loss: 0.0232\n",
            "Epoch 9/100\n",
            "226/226 [==============================] - 34s 149ms/step - loss: 0.0259 - val_loss: 0.0248\n",
            "Epoch 10/100\n",
            "226/226 [==============================] - 36s 159ms/step - loss: 0.0240 - val_loss: 0.0261\n",
            "Epoch 11/100\n",
            "226/226 [==============================] - 34s 151ms/step - loss: 0.0277 - val_loss: 0.0251\n",
            "Epoch 12/100\n",
            "226/226 [==============================] - 36s 159ms/step - loss: 0.0299 - val_loss: 0.0386\n",
            "Epoch 13/100\n",
            "226/226 [==============================] - 35s 154ms/step - loss: 0.0296 - val_loss: 0.0341\n",
            "Epoch 14/100\n",
            "226/226 [==============================] - 36s 157ms/step - loss: 0.0271 - val_loss: 0.0255\n",
            "Epoch 15/100\n",
            "226/226 [==============================] - 34s 152ms/step - loss: 0.0299 - val_loss: 0.0474\n",
            "Epoch 16/100\n",
            "226/226 [==============================] - 35s 154ms/step - loss: 0.0298 - val_loss: 0.0298\n"
          ]
        }
      ]
    },
    {
      "cell_type": "code",
      "source": [
        "plt.plot(history.history['loss'], label=\"Training loss\")\n",
        "plt.plot(history.history['val_loss'], label=\"Validation loss\", ls=\"--\")\n",
        "plt.legend(shadow=True, frameon=True, facecolor=\"inherit\", loc=\"best\", fontsize=9)\n",
        "plt.title(\"Training loss\")\n",
        "plt.ylabel(\"Loss\")\n",
        "plt.xlabel(\"Epoch\")\n",
        "plt.show()"
      ],
      "metadata": {
        "colab": {
          "base_uri": "https://localhost:8080/",
          "height": 521
        },
        "id": "i8100oiqK4Di",
        "outputId": "3f2ee390-df4c-4b94-9bca-c8dc9ecaad6f"
      },
      "execution_count": 96,
      "outputs": [
        {
          "output_type": "display_data",
          "data": {
            "text/plain": [
              "<Figure size 640x480 with 1 Axes>"
            ],
            "image/png": "[encoded data removed]"
          },
          "metadata": {}
        }
      ]
    },
    {
      "cell_type": "code",
      "source": [
        "# positive_indices = train_labels == 1\n",
        "negative_indices = y_test == 0\n",
        "\n",
        "# Now use these indices to separate out the positive and negative classes\n",
        "# X_positive_test = X_train_normalized[positive_indices]\n",
        "# y_positive_train = train_labels[positive_indices]\n",
        "\n",
        "X_negative_test = X_test_normalized[negative_indices]\n",
        "y_negative_test = y_test[negative_indices]"
      ],
      "metadata": {
        "id": "OZOFFlvcLeTj"
      },
      "execution_count": 97,
      "outputs": []
    },
    {
      "cell_type": "code",
      "source": [
        "X_negative_test"
      ],
      "metadata": {
        "colab": {
          "base_uri": "https://localhost:8080/"
        },
        "id": "u8fDfzX8L3vf",
        "outputId": "20860aa3-1adc-4093-a2b4-f049ef80fbb3"
      },
      "execution_count": 54,
      "outputs": [
        {
          "output_type": "execute_result",
          "data": {
            "text/plain": [
              "array([[-0.01304634, -0.01124826, -0.00918968, ..., -0.01014746,\n",
              "        -0.01396284,  0.14402113],\n",
              "       [-0.01553762, -0.01124826, -0.00918968, ..., -0.01014746,\n",
              "        -0.01396284,  1.77226091],\n",
              "       [-0.01678326, -0.01124784, -0.00918921, ..., -0.01014746,\n",
              "        -0.01396284, -0.21590069],\n",
              "       ...,\n",
              "       [-0.01366916, -0.00839824, -0.00556951, ..., -0.01014746,\n",
              "        -0.01396284, -0.21270235],\n",
              "       [-0.0149148 , -0.01105981, -0.0090039 , ..., -0.01014746,\n",
              "        -0.01396284,  2.8114723 ],\n",
              "       [-0.01678326, -0.00955339, -0.00733283, ..., -0.01014746,\n",
              "        -0.01396284, -0.21590069]])"
            ]
          },
          "metadata": {},
          "execution_count": 54
        }
      ]
    },
    {
      "cell_type": "code",
      "source": [
        "train_mae = model.evaluate(X_negative_train, X_negative_train, verbose=0)\n",
        "test_mae = model.evaluate(X_negative_test, X_negative_test, verbose=0)\n",
        "anomaly_mae = model.evaluate(X_positive_train, X_positive_train, verbose=0)\n",
        "\n",
        "print(\"Training dataset error: \", train_mae)\n",
        "print(\"Testing dataset error: \", test_mae)\n",
        "print(\"Anormaly dataset error: \", anomaly_mae)"
      ],
      "metadata": {
        "colab": {
          "base_uri": "https://localhost:8080/"
        },
        "id": "B3cONvNyK73a",
        "outputId": "0e6755c5-2a22-4674-e1c2-31add8a09420"
      },
      "execution_count": 98,
      "outputs": [
        {
          "output_type": "stream",
          "name": "stdout",
          "text": [
            "Training dataset error:  0.02171267196536064\n",
            "Testing dataset error:  0.0222566369920969\n",
            "Anormaly dataset error:  0.025723345577716827\n"
          ]
        }
      ]
    },
    {
      "cell_type": "code",
      "source": [
        "from tensorflow.keras.metrics import mae"
      ],
      "metadata": {
        "id": "EsH_KbOKO1Nn"
      },
      "execution_count": 56,
      "outputs": []
    },
    {
      "cell_type": "code",
      "source": [
        "def predict(model, X):\n",
        "    pred = model.predict(X, verbose=False)\n",
        "    loss = mae(pred, X)\n",
        "    return pred, loss\n",
        "\n",
        "_, train_loss = predict(model, X_negative_train)\n",
        "_, test_loss = predict(model, X_negative_test)\n",
        "_, anomaly_loss = predict(model, X_positive_train)\n",
        "threshold = np.mean(train_loss) + np.std(train_loss)"
      ],
      "metadata": {
        "id": "GG8yT464OsEM"
      },
      "execution_count": 99,
      "outputs": []
    },
    {
      "cell_type": "code",
      "source": [
        "def prepare_labels(model, train, test, anomaly, threshold):\n",
        "    ytrue = np.concatenate((np.zeros(len(train) + len(test), dtype=int),\n",
        "                            np.ones(len(anomaly), dtype=int)))\n",
        "\n",
        "    _, train_loss = predict(model, train)\n",
        "    _, test_loss = predict(model, test)\n",
        "    _, anomaly_loss = predict(model, anomaly)\n",
        "\n",
        "    # Ensure that the lengths of predictions match the expected lengths\n",
        "    assert len(train_loss) == len(train), \"Length mismatch in train predictions\"\n",
        "    assert len(test_loss) == len(test), \"Length mismatch in test predictions\"\n",
        "    assert len(anomaly_loss) == len(anomaly), \"Length mismatch in anomaly predictions\"\n",
        "\n",
        "    train_pred = (train_loss <= threshold).numpy().astype(int)\n",
        "    test_pred = (test_loss <= threshold).numpy().astype(int)\n",
        "    anomaly_pred = (anomaly_loss < threshold).numpy().astype(int)\n",
        "\n",
        "    ypred = np.concatenate((train_pred, test_pred, anomaly_pred))\n",
        "\n",
        "    return ytrue, ypred"
      ],
      "metadata": {
        "id": "I5B8aaApPJ8C"
      },
      "execution_count": 100,
      "outputs": []
    },
    {
      "cell_type": "code",
      "source": [
        "def plot_confusion_matrix(model, train, test, anomaly, threshold=threshold):\n",
        "    ytrue, ypred = prepare_labels(model, train, test, anomaly, threshold=threshold)\n",
        "    accuracy = accuracy_score(ytrue, ypred)\n",
        "    precision = precision_score(ytrue, ypred)\n",
        "    recall = recall_score(ytrue, ypred)\n",
        "    f1 = f1_score(ytrue, ypred)\n",
        "    print(f\"\"\"\\\n",
        "        Accuracy: {accuracy:.2%}\n",
        "        Precision: {precision:.2%}\n",
        "        Recall: {recall:.2%}\n",
        "        f1: {f1:.2%}\\n\n",
        "        \"\"\")\n",
        "\n",
        "    cm = confusion_matrix(ytrue, ypred)\n",
        "    cm_norm = confusion_matrix(ytrue, ypred, normalize=\"true\")\n",
        "    data = np.array([f\"{count}\\n({pct:.2%})\" for count, pct in zip(cm.ravel(), cm_norm.ravel())]).reshape(cm.shape)\n",
        "    labels = [\"Anomaly\", \"Normal\"]\n",
        "\n",
        "    plt.figure(figsize=(5, 4))\n",
        "    sns.heatmap(cm, annot=data, fmt=\"\", xticklabels=labels, yticklabels=labels)\n",
        "    plt.ylabel(\"Actual\")\n",
        "    plt.xlabel(\"Predicted\")\n",
        "    plt.title(\"Confusion Matrix\", weight=\"bold\")\n",
        "    plt.tight_layout()"
      ],
      "metadata": {
        "id": "GY-6HP3EPNP2"
      },
      "execution_count": 101,
      "outputs": []
    },
    {
      "cell_type": "code",
      "source": [
        "plot_confusion_matrix(model, X_negative_train, X_negative_test, X_positive_train, threshold=threshold)"
      ],
      "metadata": {
        "colab": {
          "base_uri": "https://localhost:8080/",
          "height": 469
        },
        "id": "CZHd7rErPSJS",
        "outputId": "2e33c39e-b784-496b-add8-634caf646294"
      },
      "execution_count": 102,
      "outputs": [
        {
          "output_type": "stream",
          "name": "stdout",
          "text": [
            "        Accuracy: 37.96%\n",
            "        Precision: 35.67%\n",
            "        Recall: 98.48%\n",
            "        f1: 52.37%\n",
            "\n",
            "        \n"
          ]
        },
        {
          "output_type": "display_data",
          "data": {
            "text/plain": [
              "<Figure size 500x400 with 2 Axes>"
            ],
            "image/png": "[encoded data removed]"
          },
          "metadata": {}
        }
      ]
    },
    {
      "cell_type": "code",
      "source": [
        "CLASS_NAMES = [\"Normal\", \"Anomaly\"]"
      ],
      "metadata": {
        "id": "5phul9RuP-9K"
      },
      "execution_count": 103,
      "outputs": []
    },
    {
      "cell_type": "code",
      "source": [
        "ytrue, ypred = prepare_labels(model, X_negative_train, X_negative_test, X_positive_train, threshold=threshold)\n",
        "print(classification_report(ytrue, ypred, target_names=CLASS_NAMES))"
      ],
      "metadata": {
        "colab": {
          "base_uri": "https://localhost:8080/"
        },
        "id": "CzmFRkiBPkCQ",
        "outputId": "48b68efb-9644-4f76-a587-c696c01e9a14"
      },
      "execution_count": 104,
      "outputs": [
        {
          "output_type": "stream",
          "name": "stdout",
          "text": [
            "              precision    recall  f1-score   support\n",
            "\n",
            "      Normal       0.88      0.06      0.11     49512\n",
            "     Anomaly       0.36      0.98      0.52     26235\n",
            "\n",
            "    accuracy                           0.38     75747\n",
            "   macro avg       0.62      0.52      0.32     75747\n",
            "weighted avg       0.70      0.38      0.25     75747\n",
            "\n"
          ]
        }
      ]
    }
  ]
}