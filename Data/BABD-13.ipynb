{
 "cells": [
  {
   "cell_type": "code",
   "execution_count": 1,
   "metadata": {},
   "outputs": [
    {
     "name": "stderr",
     "output_type": "stream",
     "text": [
      "/home/dilusha/anaconda3/lib/python3.9/site-packages/xgboost/compat.py:36: FutureWarning: pandas.Int64Index is deprecated and will be removed from pandas in a future version. Use pandas.Index with the appropriate dtype instead.\n",
      "  from pandas import MultiIndex, Int64Index\n"
     ]
    }
   ],
   "source": [
    "import pandas as pd\n",
    "import numpy as np\n",
    "import seaborn as sn\n",
    "import matplotlib.pyplot as plt\n",
    "from sklearn.preprocessing import LabelEncoder\n",
    "from sklearn.decomposition import PCA\n",
    "from sklearn.preprocessing import StandardScaler\n",
    "import matplotlib.pyplot as plt\n",
    "\n",
    "\n",
    "from sklearn.model_selection import train_test_split\n",
    "from sklearn.preprocessing import StandardScaler\n",
    "from sklearn.neighbors import KNeighborsClassifier\n",
    "from sklearn.tree import DecisionTreeClassifier\n",
    "from sklearn.ensemble import RandomForestClassifier\n",
    "from sklearn.neural_network import MLPClassifier\n",
    "from xgboost import XGBClassifier\n",
    "from sklearn.metrics import accuracy_score"
   ]
  },
  {
   "cell_type": "code",
   "execution_count": 28,
   "metadata": {},
   "outputs": [],
   "source": [
    "df = pd.read_csv('BABD-13.csv')"
   ]
  },
  {
   "cell_type": "code",
   "execution_count": 5,
   "metadata": {},
   "outputs": [],
   "source": [
    "y = df.label\n",
    "X = df.drop('label', axis=1).drop('account', axis=1).drop('SW', axis=1)\n",
    "\n",
    "X_PAI = X.iloc[:, 0:38]       # PAI\n",
    "X_PDI = X.iloc[:, 38:52]      # PDI\n",
    "X_PTI = X.iloc[:, 52:65]      # PTI\n",
    "X_CI = X.iloc[:, 65:132]      # CI\n",
    "X_SI = X.iloc[:, 0:132]         # SI\n",
    "X_LSI = X.iloc[:, 132:148]      # LSI\n",
    "\n",
    "X_KNN = X.iloc[:, np.r_[1:8, 9:11, 13, 15, 26, 38:45, 48:52, 53, 57, 66:68, 72, 132:148]]\n",
    "X_RF = X.iloc[:, np.r_[1:10, 20:25, 40, 54, 60:62, 91, 96, 105:107, 132:148]]\n",
    "X_XGB = X.iloc[:, np.r_[1:10, 20:25, 40, 54, 60:62, 91, 96, 105:107, 132:148]]"
   ]
  },
  {
   "cell_type": "code",
   "execution_count": 6,
   "metadata": {},
   "outputs": [
    {
     "data": {
      "text/html": [
       "<div>\n",
       "<style scoped>\n",
       "    .dataframe tbody tr th:only-of-type {\n",
       "        vertical-align: middle;\n",
       "    }\n",
       "\n",
       "    .dataframe tbody tr th {\n",
       "        vertical-align: top;\n",
       "    }\n",
       "\n",
       "    .dataframe thead th {\n",
       "        text-align: right;\n",
       "    }\n",
       "</style>\n",
       "<table border=\"1\" class=\"dataframe\">\n",
       "  <thead>\n",
       "    <tr style=\"text-align: right;\">\n",
       "      <th></th>\n",
       "      <th>PAIa11-1</th>\n",
       "      <th>PAIa11-2</th>\n",
       "      <th>PAIa12</th>\n",
       "      <th>PAIa13</th>\n",
       "      <th>PAIa14-1</th>\n",
       "      <th>PAIa14-2</th>\n",
       "      <th>PAIa14-3</th>\n",
       "      <th>PAIa14-4</th>\n",
       "      <th>PAIa14-R1</th>\n",
       "      <th>PAIa14-R2</th>\n",
       "      <th>...</th>\n",
       "      <th>PAIa21-3</th>\n",
       "      <th>PAIa21-4</th>\n",
       "      <th>PAIa21-R1</th>\n",
       "      <th>PAIa21-R2</th>\n",
       "      <th>PAIa21-R3</th>\n",
       "      <th>PAIa21-R4</th>\n",
       "      <th>PAIa22-1</th>\n",
       "      <th>PAIa22-2</th>\n",
       "      <th>PAIa22-R1</th>\n",
       "      <th>PAIa22-R2</th>\n",
       "    </tr>\n",
       "  </thead>\n",
       "  <tbody>\n",
       "    <tr>\n",
       "      <th>0</th>\n",
       "      <td>0.024182</td>\n",
       "      <td>0.000000</td>\n",
       "      <td>-0.024182</td>\n",
       "      <td>0.0</td>\n",
       "      <td>0.001000</td>\n",
       "      <td>0.021682</td>\n",
       "      <td>0.000000</td>\n",
       "      <td>0.000000</td>\n",
       "      <td>0.001000</td>\n",
       "      <td>0.021682</td>\n",
       "      <td>...</td>\n",
       "      <td>0.0</td>\n",
       "      <td>0.0</td>\n",
       "      <td>0.04135</td>\n",
       "      <td>0.89662</td>\n",
       "      <td>0.0</td>\n",
       "      <td>0.0</td>\n",
       "      <td>0.398393</td>\n",
       "      <td>0.0</td>\n",
       "      <td>0.398393</td>\n",
       "      <td>0.0</td>\n",
       "    </tr>\n",
       "    <tr>\n",
       "      <th>1</th>\n",
       "      <td>0.217012</td>\n",
       "      <td>0.000000</td>\n",
       "      <td>-0.217012</td>\n",
       "      <td>0.0</td>\n",
       "      <td>0.000005</td>\n",
       "      <td>0.037723</td>\n",
       "      <td>0.000000</td>\n",
       "      <td>0.000000</td>\n",
       "      <td>0.000005</td>\n",
       "      <td>0.037723</td>\n",
       "      <td>...</td>\n",
       "      <td>0.0</td>\n",
       "      <td>0.0</td>\n",
       "      <td>0.00003</td>\n",
       "      <td>0.17383</td>\n",
       "      <td>0.0</td>\n",
       "      <td>0.0</td>\n",
       "      <td>0.034496</td>\n",
       "      <td>0.0</td>\n",
       "      <td>0.034496</td>\n",
       "      <td>0.0</td>\n",
       "    </tr>\n",
       "    <tr>\n",
       "      <th>2</th>\n",
       "      <td>0.067596</td>\n",
       "      <td>0.000000</td>\n",
       "      <td>-0.067596</td>\n",
       "      <td>0.0</td>\n",
       "      <td>0.000278</td>\n",
       "      <td>0.037200</td>\n",
       "      <td>0.000000</td>\n",
       "      <td>0.000000</td>\n",
       "      <td>0.000278</td>\n",
       "      <td>0.037200</td>\n",
       "      <td>...</td>\n",
       "      <td>0.0</td>\n",
       "      <td>0.0</td>\n",
       "      <td>0.00412</td>\n",
       "      <td>0.55033</td>\n",
       "      <td>0.0</td>\n",
       "      <td>0.0</td>\n",
       "      <td>0.236688</td>\n",
       "      <td>0.0</td>\n",
       "      <td>0.236688</td>\n",
       "      <td>0.0</td>\n",
       "    </tr>\n",
       "    <tr>\n",
       "      <th>3</th>\n",
       "      <td>0.000095</td>\n",
       "      <td>0.000000</td>\n",
       "      <td>-0.000095</td>\n",
       "      <td>0.0</td>\n",
       "      <td>0.000041</td>\n",
       "      <td>0.000054</td>\n",
       "      <td>0.000000</td>\n",
       "      <td>0.000000</td>\n",
       "      <td>0.000041</td>\n",
       "      <td>0.000054</td>\n",
       "      <td>...</td>\n",
       "      <td>0.0</td>\n",
       "      <td>0.0</td>\n",
       "      <td>0.43372</td>\n",
       "      <td>0.56628</td>\n",
       "      <td>0.0</td>\n",
       "      <td>0.0</td>\n",
       "      <td>0.066280</td>\n",
       "      <td>0.0</td>\n",
       "      <td>0.066280</td>\n",
       "      <td>0.0</td>\n",
       "    </tr>\n",
       "    <tr>\n",
       "      <th>4</th>\n",
       "      <td>25.000993</td>\n",
       "      <td>25.000993</td>\n",
       "      <td>0.000000</td>\n",
       "      <td>1.0</td>\n",
       "      <td>25.000993</td>\n",
       "      <td>25.000993</td>\n",
       "      <td>25.000993</td>\n",
       "      <td>25.000993</td>\n",
       "      <td>25.000993</td>\n",
       "      <td>25.000993</td>\n",
       "      <td>...</td>\n",
       "      <td>1.0</td>\n",
       "      <td>1.0</td>\n",
       "      <td>1.00000</td>\n",
       "      <td>1.00000</td>\n",
       "      <td>1.0</td>\n",
       "      <td>1.0</td>\n",
       "      <td>0.000000</td>\n",
       "      <td>0.0</td>\n",
       "      <td>0.000000</td>\n",
       "      <td>0.0</td>\n",
       "    </tr>\n",
       "  </tbody>\n",
       "</table>\n",
       "<p>5 rows × 38 columns</p>\n",
       "</div>"
      ],
      "text/plain": [
       "    PAIa11-1   PAIa11-2    PAIa12  PAIa13   PAIa14-1   PAIa14-2   PAIa14-3  \\\n",
       "0   0.024182   0.000000 -0.024182     0.0   0.001000   0.021682   0.000000   \n",
       "1   0.217012   0.000000 -0.217012     0.0   0.000005   0.037723   0.000000   \n",
       "2   0.067596   0.000000 -0.067596     0.0   0.000278   0.037200   0.000000   \n",
       "3   0.000095   0.000000 -0.000095     0.0   0.000041   0.000054   0.000000   \n",
       "4  25.000993  25.000993  0.000000     1.0  25.000993  25.000993  25.000993   \n",
       "\n",
       "    PAIa14-4  PAIa14-R1  PAIa14-R2  ...  PAIa21-3  PAIa21-4  PAIa21-R1  \\\n",
       "0   0.000000   0.001000   0.021682  ...       0.0       0.0    0.04135   \n",
       "1   0.000000   0.000005   0.037723  ...       0.0       0.0    0.00003   \n",
       "2   0.000000   0.000278   0.037200  ...       0.0       0.0    0.00412   \n",
       "3   0.000000   0.000041   0.000054  ...       0.0       0.0    0.43372   \n",
       "4  25.000993  25.000993  25.000993  ...       1.0       1.0    1.00000   \n",
       "\n",
       "   PAIa21-R2  PAIa21-R3  PAIa21-R4  PAIa22-1  PAIa22-2  PAIa22-R1  PAIa22-R2  \n",
       "0    0.89662        0.0        0.0  0.398393       0.0   0.398393        0.0  \n",
       "1    0.17383        0.0        0.0  0.034496       0.0   0.034496        0.0  \n",
       "2    0.55033        0.0        0.0  0.236688       0.0   0.236688        0.0  \n",
       "3    0.56628        0.0        0.0  0.066280       0.0   0.066280        0.0  \n",
       "4    1.00000        1.0        1.0  0.000000       0.0   0.000000        0.0  \n",
       "\n",
       "[5 rows x 38 columns]"
      ]
     },
     "execution_count": 6,
     "metadata": {},
     "output_type": "execute_result"
    }
   ],
   "source": [
    "X_PAI.head()"
   ]
  },
  {
   "cell_type": "code",
   "execution_count": 7,
   "metadata": {},
   "outputs": [
    {
     "data": {
      "text/html": [
       "<div>\n",
       "<style scoped>\n",
       "    .dataframe tbody tr th:only-of-type {\n",
       "        vertical-align: middle;\n",
       "    }\n",
       "\n",
       "    .dataframe tbody tr th {\n",
       "        vertical-align: top;\n",
       "    }\n",
       "\n",
       "    .dataframe thead th {\n",
       "        text-align: right;\n",
       "    }\n",
       "</style>\n",
       "<table border=\"1\" class=\"dataframe\">\n",
       "  <thead>\n",
       "    <tr style=\"text-align: right;\">\n",
       "      <th></th>\n",
       "      <th>S1-1</th>\n",
       "      <th>S1-2</th>\n",
       "      <th>S1-3</th>\n",
       "      <th>S1-4</th>\n",
       "      <th>S1-5</th>\n",
       "      <th>S1-6</th>\n",
       "      <th>S2-1</th>\n",
       "      <th>S2-2</th>\n",
       "      <th>S2-3</th>\n",
       "      <th>S3</th>\n",
       "      <th>S4</th>\n",
       "      <th>S5</th>\n",
       "      <th>S6</th>\n",
       "      <th>S7</th>\n",
       "      <th>S8</th>\n",
       "      <th>S9</th>\n",
       "    </tr>\n",
       "  </thead>\n",
       "  <tbody>\n",
       "    <tr>\n",
       "      <th>0</th>\n",
       "      <td>1.999334</td>\n",
       "      <td>0.908074</td>\n",
       "      <td>0.999667</td>\n",
       "      <td>0.418790</td>\n",
       "      <td>0.999667</td>\n",
       "      <td>0.489582</td>\n",
       "      <td>1256</td>\n",
       "      <td>1469</td>\n",
       "      <td>2725</td>\n",
       "      <td>-0.294983</td>\n",
       "      <td>0.00000</td>\n",
       "      <td>1.999223</td>\n",
       "      <td>3</td>\n",
       "      <td>0.000000</td>\n",
       "      <td>0.000247</td>\n",
       "      <td>0.000333</td>\n",
       "    </tr>\n",
       "    <tr>\n",
       "      <th>1</th>\n",
       "      <td>2.000000</td>\n",
       "      <td>0.335985</td>\n",
       "      <td>1.000000</td>\n",
       "      <td>0.031528</td>\n",
       "      <td>1.000000</td>\n",
       "      <td>0.334707</td>\n",
       "      <td>95</td>\n",
       "      <td>1</td>\n",
       "      <td>95</td>\n",
       "      <td>-0.161792</td>\n",
       "      <td>0.00000</td>\n",
       "      <td>1.442318</td>\n",
       "      <td>2</td>\n",
       "      <td>0.000000</td>\n",
       "      <td>0.022733</td>\n",
       "      <td>0.000333</td>\n",
       "    </tr>\n",
       "    <tr>\n",
       "      <th>2</th>\n",
       "      <td>2.047302</td>\n",
       "      <td>0.617632</td>\n",
       "      <td>1.023651</td>\n",
       "      <td>0.351308</td>\n",
       "      <td>1.023651</td>\n",
       "      <td>0.271846</td>\n",
       "      <td>986</td>\n",
       "      <td>765</td>\n",
       "      <td>1751</td>\n",
       "      <td>-0.211953</td>\n",
       "      <td>0.00000</td>\n",
       "      <td>2.000842</td>\n",
       "      <td>3</td>\n",
       "      <td>0.000000</td>\n",
       "      <td>0.000309</td>\n",
       "      <td>0.000341</td>\n",
       "    </tr>\n",
       "    <tr>\n",
       "      <th>3</th>\n",
       "      <td>1.833333</td>\n",
       "      <td>0.230740</td>\n",
       "      <td>0.916667</td>\n",
       "      <td>0.142319</td>\n",
       "      <td>0.916667</td>\n",
       "      <td>0.219163</td>\n",
       "      <td>2</td>\n",
       "      <td>1</td>\n",
       "      <td>2</td>\n",
       "      <td>-0.081717</td>\n",
       "      <td>0.00000</td>\n",
       "      <td>2.000000</td>\n",
       "      <td>4</td>\n",
       "      <td>0.000000</td>\n",
       "      <td>0.174270</td>\n",
       "      <td>0.083333</td>\n",
       "    </tr>\n",
       "    <tr>\n",
       "      <th>4</th>\n",
       "      <td>2.000000</td>\n",
       "      <td>0.288275</td>\n",
       "      <td>1.000000</td>\n",
       "      <td>0.166436</td>\n",
       "      <td>1.000000</td>\n",
       "      <td>0.166436</td>\n",
       "      <td>6</td>\n",
       "      <td>5</td>\n",
       "      <td>11</td>\n",
       "      <td>-0.023318</td>\n",
       "      <td>0.06006</td>\n",
       "      <td>3.524528</td>\n",
       "      <td>8</td>\n",
       "      <td>0.307692</td>\n",
       "      <td>0.046156</td>\n",
       "      <td>0.027027</td>\n",
       "    </tr>\n",
       "  </tbody>\n",
       "</table>\n",
       "</div>"
      ],
      "text/plain": [
       "       S1-1      S1-2      S1-3      S1-4      S1-5      S1-6  S2-1  S2-2  \\\n",
       "0  1.999334  0.908074  0.999667  0.418790  0.999667  0.489582  1256  1469   \n",
       "1  2.000000  0.335985  1.000000  0.031528  1.000000  0.334707    95     1   \n",
       "2  2.047302  0.617632  1.023651  0.351308  1.023651  0.271846   986   765   \n",
       "3  1.833333  0.230740  0.916667  0.142319  0.916667  0.219163     2     1   \n",
       "4  2.000000  0.288275  1.000000  0.166436  1.000000  0.166436     6     5   \n",
       "\n",
       "   S2-3        S3       S4        S5  S6        S7        S8        S9  \n",
       "0  2725 -0.294983  0.00000  1.999223   3  0.000000  0.000247  0.000333  \n",
       "1    95 -0.161792  0.00000  1.442318   2  0.000000  0.022733  0.000333  \n",
       "2  1751 -0.211953  0.00000  2.000842   3  0.000000  0.000309  0.000341  \n",
       "3     2 -0.081717  0.00000  2.000000   4  0.000000  0.174270  0.083333  \n",
       "4    11 -0.023318  0.06006  3.524528   8  0.307692  0.046156  0.027027  "
      ]
     },
     "execution_count": 7,
     "metadata": {},
     "output_type": "execute_result"
    }
   ],
   "source": [
    "X_LSI.head()"
   ]
  },
  {
   "cell_type": "code",
   "execution_count": 8,
   "metadata": {},
   "outputs": [
    {
     "data": {
      "text/html": [
       "<div>\n",
       "<style scoped>\n",
       "    .dataframe tbody tr th:only-of-type {\n",
       "        vertical-align: middle;\n",
       "    }\n",
       "\n",
       "    .dataframe tbody tr th {\n",
       "        vertical-align: top;\n",
       "    }\n",
       "\n",
       "    .dataframe thead th {\n",
       "        text-align: right;\n",
       "    }\n",
       "</style>\n",
       "<table border=\"1\" class=\"dataframe\">\n",
       "  <thead>\n",
       "    <tr style=\"text-align: right;\">\n",
       "      <th></th>\n",
       "      <th>PAIa11-2</th>\n",
       "      <th>PAIa12</th>\n",
       "      <th>PAIa13</th>\n",
       "      <th>PAIa14-1</th>\n",
       "      <th>PAIa14-2</th>\n",
       "      <th>PAIa14-3</th>\n",
       "      <th>PAIa14-4</th>\n",
       "      <th>PAIa14-R1</th>\n",
       "      <th>PAIa14-R2</th>\n",
       "      <th>PAIa17-1</th>\n",
       "      <th>...</th>\n",
       "      <th>S2-1</th>\n",
       "      <th>S2-2</th>\n",
       "      <th>S2-3</th>\n",
       "      <th>S3</th>\n",
       "      <th>S4</th>\n",
       "      <th>S5</th>\n",
       "      <th>S6</th>\n",
       "      <th>S7</th>\n",
       "      <th>S8</th>\n",
       "      <th>S9</th>\n",
       "    </tr>\n",
       "  </thead>\n",
       "  <tbody>\n",
       "    <tr>\n",
       "      <th>0</th>\n",
       "      <td>0.000000</td>\n",
       "      <td>-0.024182</td>\n",
       "      <td>0.0</td>\n",
       "      <td>0.001000</td>\n",
       "      <td>0.021682</td>\n",
       "      <td>0.000000</td>\n",
       "      <td>0.000000</td>\n",
       "      <td>0.001000</td>\n",
       "      <td>0.021682</td>\n",
       "      <td>0.009634</td>\n",
       "      <td>...</td>\n",
       "      <td>1256</td>\n",
       "      <td>1469</td>\n",
       "      <td>2725</td>\n",
       "      <td>-0.294983</td>\n",
       "      <td>0.00000</td>\n",
       "      <td>1.999223</td>\n",
       "      <td>3</td>\n",
       "      <td>0.000000</td>\n",
       "      <td>0.000247</td>\n",
       "      <td>0.000333</td>\n",
       "    </tr>\n",
       "    <tr>\n",
       "      <th>1</th>\n",
       "      <td>0.000000</td>\n",
       "      <td>-0.217012</td>\n",
       "      <td>0.0</td>\n",
       "      <td>0.000005</td>\n",
       "      <td>0.037723</td>\n",
       "      <td>0.000000</td>\n",
       "      <td>0.000000</td>\n",
       "      <td>0.000005</td>\n",
       "      <td>0.037723</td>\n",
       "      <td>0.007486</td>\n",
       "      <td>...</td>\n",
       "      <td>95</td>\n",
       "      <td>1</td>\n",
       "      <td>95</td>\n",
       "      <td>-0.161792</td>\n",
       "      <td>0.00000</td>\n",
       "      <td>1.442318</td>\n",
       "      <td>2</td>\n",
       "      <td>0.000000</td>\n",
       "      <td>0.022733</td>\n",
       "      <td>0.000333</td>\n",
       "    </tr>\n",
       "    <tr>\n",
       "      <th>2</th>\n",
       "      <td>0.000000</td>\n",
       "      <td>-0.067596</td>\n",
       "      <td>0.0</td>\n",
       "      <td>0.000278</td>\n",
       "      <td>0.037200</td>\n",
       "      <td>0.000000</td>\n",
       "      <td>0.000000</td>\n",
       "      <td>0.000278</td>\n",
       "      <td>0.037200</td>\n",
       "      <td>0.015999</td>\n",
       "      <td>...</td>\n",
       "      <td>986</td>\n",
       "      <td>765</td>\n",
       "      <td>1751</td>\n",
       "      <td>-0.211953</td>\n",
       "      <td>0.00000</td>\n",
       "      <td>2.000842</td>\n",
       "      <td>3</td>\n",
       "      <td>0.000000</td>\n",
       "      <td>0.000309</td>\n",
       "      <td>0.000341</td>\n",
       "    </tr>\n",
       "    <tr>\n",
       "      <th>3</th>\n",
       "      <td>0.000000</td>\n",
       "      <td>-0.000095</td>\n",
       "      <td>0.0</td>\n",
       "      <td>0.000041</td>\n",
       "      <td>0.000054</td>\n",
       "      <td>0.000000</td>\n",
       "      <td>0.000000</td>\n",
       "      <td>0.000041</td>\n",
       "      <td>0.000054</td>\n",
       "      <td>0.000006</td>\n",
       "      <td>...</td>\n",
       "      <td>2</td>\n",
       "      <td>1</td>\n",
       "      <td>2</td>\n",
       "      <td>-0.081717</td>\n",
       "      <td>0.00000</td>\n",
       "      <td>2.000000</td>\n",
       "      <td>4</td>\n",
       "      <td>0.000000</td>\n",
       "      <td>0.174270</td>\n",
       "      <td>0.083333</td>\n",
       "    </tr>\n",
       "    <tr>\n",
       "      <th>4</th>\n",
       "      <td>25.000993</td>\n",
       "      <td>0.000000</td>\n",
       "      <td>1.0</td>\n",
       "      <td>25.000993</td>\n",
       "      <td>25.000993</td>\n",
       "      <td>25.000993</td>\n",
       "      <td>25.000993</td>\n",
       "      <td>25.000993</td>\n",
       "      <td>25.000993</td>\n",
       "      <td>0.000000</td>\n",
       "      <td>...</td>\n",
       "      <td>6</td>\n",
       "      <td>5</td>\n",
       "      <td>11</td>\n",
       "      <td>-0.023318</td>\n",
       "      <td>0.06006</td>\n",
       "      <td>3.524528</td>\n",
       "      <td>8</td>\n",
       "      <td>0.307692</td>\n",
       "      <td>0.046156</td>\n",
       "      <td>0.027027</td>\n",
       "    </tr>\n",
       "  </tbody>\n",
       "</table>\n",
       "<p>5 rows × 38 columns</p>\n",
       "</div>"
      ],
      "text/plain": [
       "    PAIa11-2    PAIa12  PAIa13   PAIa14-1   PAIa14-2   PAIa14-3   PAIa14-4  \\\n",
       "0   0.000000 -0.024182     0.0   0.001000   0.021682   0.000000   0.000000   \n",
       "1   0.000000 -0.217012     0.0   0.000005   0.037723   0.000000   0.000000   \n",
       "2   0.000000 -0.067596     0.0   0.000278   0.037200   0.000000   0.000000   \n",
       "3   0.000000 -0.000095     0.0   0.000041   0.000054   0.000000   0.000000   \n",
       "4  25.000993  0.000000     1.0  25.000993  25.000993  25.000993  25.000993   \n",
       "\n",
       "   PAIa14-R1  PAIa14-R2  PAIa17-1  ...  S2-1  S2-2  S2-3        S3       S4  \\\n",
       "0   0.001000   0.021682  0.009634  ...  1256  1469  2725 -0.294983  0.00000   \n",
       "1   0.000005   0.037723  0.007486  ...    95     1    95 -0.161792  0.00000   \n",
       "2   0.000278   0.037200  0.015999  ...   986   765  1751 -0.211953  0.00000   \n",
       "3   0.000041   0.000054  0.000006  ...     2     1     2 -0.081717  0.00000   \n",
       "4  25.000993  25.000993  0.000000  ...     6     5    11 -0.023318  0.06006   \n",
       "\n",
       "         S5  S6        S7        S8        S9  \n",
       "0  1.999223   3  0.000000  0.000247  0.000333  \n",
       "1  1.442318   2  0.000000  0.022733  0.000333  \n",
       "2  2.000842   3  0.000000  0.000309  0.000341  \n",
       "3  2.000000   4  0.000000  0.174270  0.083333  \n",
       "4  3.524528   8  0.307692  0.046156  0.027027  \n",
       "\n",
       "[5 rows x 38 columns]"
      ]
     },
     "execution_count": 8,
     "metadata": {},
     "output_type": "execute_result"
    }
   ],
   "source": [
    "X_RF.head()"
   ]
  },
  {
   "cell_type": "code",
   "execution_count": null,
   "metadata": {},
   "outputs": [],
   "source": [
    "# R1- totall minimum\n",
    "# R2- totall maximum"
   ]
  },
  {
   "cell_type": "code",
   "execution_count": 9,
   "metadata": {},
   "outputs": [
    {
     "data": {
      "text/plain": [
       "Index(['PAIa11-2', 'PAIa12', 'PAIa13', 'PAIa14-1', 'PAIa14-2', 'PAIa14-3',\n",
       "       'PAIa14-4', 'PAIa14-R1', 'PAIa14-R2', 'PAIa17-1', 'PAIa17-2',\n",
       "       'PAIa17-3', 'PAIa17-R1', 'PAIa17-R2', 'PDIa1-3', 'PTIa21', 'PTIa41-1',\n",
       "       'PTIa41-2', 'CI3a11-2', 'CI3a21-1', 'CI3a23-1', 'CI3a23-2', 'S1-1',\n",
       "       'S1-2', 'S1-3', 'S1-4', 'S1-5', 'S1-6', 'S2-1', 'S2-2', 'S2-3', 'S3',\n",
       "       'S4', 'S5', 'S6', 'S7', 'S8', 'S9'],\n",
       "      dtype='object')"
      ]
     },
     "execution_count": 9,
     "metadata": {},
     "output_type": "execute_result"
    }
   ],
   "source": [
    "X_RF.columns"
   ]
  },
  {
   "cell_type": "code",
   "execution_count": 29,
   "metadata": {},
   "outputs": [],
   "source": [
    "data = df.drop('account', axis=1).drop('SW', axis=1)"
   ]
  },
  {
   "cell_type": "code",
   "execution_count": 4,
   "metadata": {},
   "outputs": [
    {
     "data": {
      "text/html": [
       "<div>\n",
       "<style scoped>\n",
       "    .dataframe tbody tr th:only-of-type {\n",
       "        vertical-align: middle;\n",
       "    }\n",
       "\n",
       "    .dataframe tbody tr th {\n",
       "        vertical-align: top;\n",
       "    }\n",
       "\n",
       "    .dataframe thead th {\n",
       "        text-align: right;\n",
       "    }\n",
       "</style>\n",
       "<table border=\"1\" class=\"dataframe\">\n",
       "  <thead>\n",
       "    <tr style=\"text-align: right;\">\n",
       "      <th></th>\n",
       "      <th>PAIa11-1</th>\n",
       "      <th>PAIa11-2</th>\n",
       "      <th>PAIa12</th>\n",
       "      <th>PAIa13</th>\n",
       "      <th>PAIa14-1</th>\n",
       "      <th>PAIa14-2</th>\n",
       "      <th>PAIa14-3</th>\n",
       "      <th>PAIa14-4</th>\n",
       "      <th>PAIa14-R1</th>\n",
       "      <th>PAIa14-R2</th>\n",
       "      <th>...</th>\n",
       "      <th>S2-2</th>\n",
       "      <th>S2-3</th>\n",
       "      <th>S3</th>\n",
       "      <th>S4</th>\n",
       "      <th>S5</th>\n",
       "      <th>S6</th>\n",
       "      <th>S7</th>\n",
       "      <th>S8</th>\n",
       "      <th>S9</th>\n",
       "      <th>label</th>\n",
       "    </tr>\n",
       "  </thead>\n",
       "  <tbody>\n",
       "    <tr>\n",
       "      <th>0</th>\n",
       "      <td>0.024182</td>\n",
       "      <td>0.000000</td>\n",
       "      <td>-0.024182</td>\n",
       "      <td>0.0</td>\n",
       "      <td>0.001000</td>\n",
       "      <td>0.021682</td>\n",
       "      <td>0.000000</td>\n",
       "      <td>0.000000</td>\n",
       "      <td>0.001000</td>\n",
       "      <td>0.021682</td>\n",
       "      <td>...</td>\n",
       "      <td>1469</td>\n",
       "      <td>2725</td>\n",
       "      <td>-0.294983</td>\n",
       "      <td>0.00000</td>\n",
       "      <td>1.999223</td>\n",
       "      <td>3</td>\n",
       "      <td>0.000000</td>\n",
       "      <td>0.000247</td>\n",
       "      <td>0.000333</td>\n",
       "      <td>0</td>\n",
       "    </tr>\n",
       "    <tr>\n",
       "      <th>1</th>\n",
       "      <td>0.217012</td>\n",
       "      <td>0.000000</td>\n",
       "      <td>-0.217012</td>\n",
       "      <td>0.0</td>\n",
       "      <td>0.000005</td>\n",
       "      <td>0.037723</td>\n",
       "      <td>0.000000</td>\n",
       "      <td>0.000000</td>\n",
       "      <td>0.000005</td>\n",
       "      <td>0.037723</td>\n",
       "      <td>...</td>\n",
       "      <td>1</td>\n",
       "      <td>95</td>\n",
       "      <td>-0.161792</td>\n",
       "      <td>0.00000</td>\n",
       "      <td>1.442318</td>\n",
       "      <td>2</td>\n",
       "      <td>0.000000</td>\n",
       "      <td>0.022733</td>\n",
       "      <td>0.000333</td>\n",
       "      <td>0</td>\n",
       "    </tr>\n",
       "    <tr>\n",
       "      <th>2</th>\n",
       "      <td>0.067596</td>\n",
       "      <td>0.000000</td>\n",
       "      <td>-0.067596</td>\n",
       "      <td>0.0</td>\n",
       "      <td>0.000278</td>\n",
       "      <td>0.037200</td>\n",
       "      <td>0.000000</td>\n",
       "      <td>0.000000</td>\n",
       "      <td>0.000278</td>\n",
       "      <td>0.037200</td>\n",
       "      <td>...</td>\n",
       "      <td>765</td>\n",
       "      <td>1751</td>\n",
       "      <td>-0.211953</td>\n",
       "      <td>0.00000</td>\n",
       "      <td>2.000842</td>\n",
       "      <td>3</td>\n",
       "      <td>0.000000</td>\n",
       "      <td>0.000309</td>\n",
       "      <td>0.000341</td>\n",
       "      <td>0</td>\n",
       "    </tr>\n",
       "    <tr>\n",
       "      <th>3</th>\n",
       "      <td>0.000095</td>\n",
       "      <td>0.000000</td>\n",
       "      <td>-0.000095</td>\n",
       "      <td>0.0</td>\n",
       "      <td>0.000041</td>\n",
       "      <td>0.000054</td>\n",
       "      <td>0.000000</td>\n",
       "      <td>0.000000</td>\n",
       "      <td>0.000041</td>\n",
       "      <td>0.000054</td>\n",
       "      <td>...</td>\n",
       "      <td>1</td>\n",
       "      <td>2</td>\n",
       "      <td>-0.081717</td>\n",
       "      <td>0.00000</td>\n",
       "      <td>2.000000</td>\n",
       "      <td>4</td>\n",
       "      <td>0.000000</td>\n",
       "      <td>0.174270</td>\n",
       "      <td>0.083333</td>\n",
       "      <td>0</td>\n",
       "    </tr>\n",
       "    <tr>\n",
       "      <th>4</th>\n",
       "      <td>25.000993</td>\n",
       "      <td>25.000993</td>\n",
       "      <td>0.000000</td>\n",
       "      <td>1.0</td>\n",
       "      <td>25.000993</td>\n",
       "      <td>25.000993</td>\n",
       "      <td>25.000993</td>\n",
       "      <td>25.000993</td>\n",
       "      <td>25.000993</td>\n",
       "      <td>25.000993</td>\n",
       "      <td>...</td>\n",
       "      <td>5</td>\n",
       "      <td>11</td>\n",
       "      <td>-0.023318</td>\n",
       "      <td>0.06006</td>\n",
       "      <td>3.524528</td>\n",
       "      <td>8</td>\n",
       "      <td>0.307692</td>\n",
       "      <td>0.046156</td>\n",
       "      <td>0.027027</td>\n",
       "      <td>0</td>\n",
       "    </tr>\n",
       "  </tbody>\n",
       "</table>\n",
       "<p>5 rows × 149 columns</p>\n",
       "</div>"
      ],
      "text/plain": [
       "    PAIa11-1   PAIa11-2    PAIa12  PAIa13   PAIa14-1   PAIa14-2   PAIa14-3  \\\n",
       "0   0.024182   0.000000 -0.024182     0.0   0.001000   0.021682   0.000000   \n",
       "1   0.217012   0.000000 -0.217012     0.0   0.000005   0.037723   0.000000   \n",
       "2   0.067596   0.000000 -0.067596     0.0   0.000278   0.037200   0.000000   \n",
       "3   0.000095   0.000000 -0.000095     0.0   0.000041   0.000054   0.000000   \n",
       "4  25.000993  25.000993  0.000000     1.0  25.000993  25.000993  25.000993   \n",
       "\n",
       "    PAIa14-4  PAIa14-R1  PAIa14-R2  ...  S2-2  S2-3        S3       S4  \\\n",
       "0   0.000000   0.001000   0.021682  ...  1469  2725 -0.294983  0.00000   \n",
       "1   0.000000   0.000005   0.037723  ...     1    95 -0.161792  0.00000   \n",
       "2   0.000000   0.000278   0.037200  ...   765  1751 -0.211953  0.00000   \n",
       "3   0.000000   0.000041   0.000054  ...     1     2 -0.081717  0.00000   \n",
       "4  25.000993  25.000993  25.000993  ...     5    11 -0.023318  0.06006   \n",
       "\n",
       "         S5  S6        S7        S8        S9  label  \n",
       "0  1.999223   3  0.000000  0.000247  0.000333      0  \n",
       "1  1.442318   2  0.000000  0.022733  0.000333      0  \n",
       "2  2.000842   3  0.000000  0.000309  0.000341      0  \n",
       "3  2.000000   4  0.000000  0.174270  0.083333      0  \n",
       "4  3.524528   8  0.307692  0.046156  0.027027      0  \n",
       "\n",
       "[5 rows x 149 columns]"
      ]
     },
     "execution_count": 4,
     "metadata": {},
     "output_type": "execute_result"
    }
   ],
   "source": [
    "data.head()"
   ]
  },
  {
   "cell_type": "code",
   "execution_count": 5,
   "metadata": {},
   "outputs": [
    {
     "data": {
      "text/plain": [
       "(544462, 149)"
      ]
     },
     "execution_count": 5,
     "metadata": {},
     "output_type": "execute_result"
    }
   ],
   "source": [
    "data.shape"
   ]
  },
  {
   "cell_type": "code",
   "execution_count": 32,
   "metadata": {},
   "outputs": [
    {
     "data": {
      "text/plain": [
       "0          0\n",
       "1          0\n",
       "2          0\n",
       "3          0\n",
       "4          0\n",
       "          ..\n",
       "544457    12\n",
       "544458    12\n",
       "544459    12\n",
       "544460    12\n",
       "544461    12\n",
       "Name: label, Length: 544462, dtype: int64"
      ]
     },
     "execution_count": 32,
     "metadata": {},
     "output_type": "execute_result"
    }
   ],
   "source": [
    "data.label"
   ]
  },
  {
   "cell_type": "code",
   "execution_count": 33,
   "metadata": {},
   "outputs": [],
   "source": [
    "df_label = pd.DataFrame(data = data.label, columns = ['label'], index = data.index)"
   ]
  },
  {
   "cell_type": "code",
   "execution_count": 35,
   "metadata": {},
   "outputs": [
    {
     "data": {
      "text/plain": [
       "3     300000\n",
       "6     105257\n",
       "1      91617\n",
       "2      13861\n",
       "11     12412\n",
       "5       9309\n",
       "0       8686\n",
       "10      1580\n",
       "12      1502\n",
       "4        180\n",
       "7         27\n",
       "8         16\n",
       "9         15\n",
       "Name: label, dtype: int64"
      ]
     },
     "execution_count": 35,
     "metadata": {},
     "output_type": "execute_result"
    }
   ],
   "source": [
    "df_label.label.value_counts()"
   ]
  },
  {
   "cell_type": "code",
   "execution_count": 23,
   "metadata": {},
   "outputs": [],
   "source": [
    "X = data.drop('label', axis=1)"
   ]
  },
  {
   "cell_type": "code",
   "execution_count": 8,
   "metadata": {},
   "outputs": [],
   "source": [
    "\n",
    "\n",
    "# Scaling the features is generally a good idea for KMeans\n",
    "scaler = StandardScaler()\n",
    "X_scaled = scaler.fit_transform(X)"
   ]
  },
  {
   "cell_type": "code",
   "execution_count": 9,
   "metadata": {},
   "outputs": [],
   "source": [
    "from sklearn.cluster import KMeans"
   ]
  },
  {
   "cell_type": "code",
   "execution_count": 10,
   "metadata": {},
   "outputs": [],
   "source": [
    "n_clusters = 4\n",
    "\n",
    "kmeans = KMeans(n_clusters=n_clusters)\n",
    "data['cluster'] = kmeans.fit_predict(X_scaled)"
   ]
  },
  {
   "cell_type": "code",
   "execution_count": 11,
   "metadata": {},
   "outputs": [],
   "source": [
    "from sklearn.decomposition import PCA"
   ]
  },
  {
   "cell_type": "code",
   "execution_count": 12,
   "metadata": {},
   "outputs": [],
   "source": [
    "pca = PCA(n_components=2)\n",
    "principal_components = pca.fit_transform(X_scaled)"
   ]
  },
  {
   "cell_type": "code",
   "execution_count": 13,
   "metadata": {},
   "outputs": [
    {
     "data": {
      "image/png": "[encoded data removed]",
      "text/plain": [
       "<Figure size 640x480 with 1 Axes>"
      ]
     },
     "metadata": {},
     "output_type": "display_data"
    }
   ],
   "source": [
    "plt.scatter(principal_components[:, 0], principal_components[:, 1], c=data['cluster'], cmap='rainbow')\n",
    "plt.show()"
   ]
  },
  {
   "cell_type": "code",
   "execution_count": 37,
   "metadata": {},
   "outputs": [],
   "source": [
    "X1 = data.drop('label', axis=1)"
   ]
  },
  {
   "cell_type": "code",
   "execution_count": 43,
   "metadata": {},
   "outputs": [],
   "source": [
    "scaler = StandardScaler()\n",
    "X_scaled = scaler.fit_transform(X1)"
   ]
  },
  {
   "cell_type": "code",
   "execution_count": null,
   "metadata": {},
   "outputs": [],
   "source": []
  },
  {
   "cell_type": "code",
   "execution_count": 44,
   "metadata": {},
   "outputs": [],
   "source": [
    "n_clusters = 7\n",
    "\n",
    "kmeans = KMeans(n_clusters=n_clusters)\n",
    "df_label['cluster'] = kmeans.fit_predict(X_scaled)"
   ]
  },
  {
   "cell_type": "code",
   "execution_count": 45,
   "metadata": {},
   "outputs": [
    {
     "data": {
      "image/png": "[encoded data removed]",
      "text/plain": [
       "<Figure size 1000x600 with 1 Axes>"
      ]
     },
     "metadata": {},
     "output_type": "display_data"
    }
   ],
   "source": [
    "import seaborn as sns\n",
    "\n",
    "# Melt dataframe to long format for seaborn\n",
    "df_melted = pd.melt(df_label)\n",
    "\n",
    "plt.figure(figsize=(10,6))\n",
    "sns.countplot(data=df_melted, x='value', hue='variable')\n",
    "plt.title('Counts of Two Categorical Columns')\n",
    "plt.xlabel('Categories')\n",
    "plt.ylabel('Count')\n",
    "plt.legend(title='Columns')\n",
    "\n",
    "plt.show()\n"
   ]
  },
  {
   "cell_type": "code",
   "execution_count": 46,
   "metadata": {},
   "outputs": [
    {
     "data": {
      "text/plain": [
       "2    250717\n",
       "0    161947\n",
       "4    131786\n",
       "6         7\n",
       "5         3\n",
       "1         1\n",
       "3         1\n",
       "Name: cluster, dtype: int64"
      ]
     },
     "execution_count": 46,
     "metadata": {},
     "output_type": "execute_result"
    }
   ],
   "source": [
    "df_label.cluster.value_counts()"
   ]
  },
  {
   "cell_type": "code",
   "execution_count": 51,
   "metadata": {},
   "outputs": [
    {
     "data": {
      "text/plain": [
       "6     82688\n",
       "3     79267\n",
       "1     68927\n",
       "11     8081\n",
       "5      6246\n",
       "0      3404\n",
       "10     1444\n",
       "12      494\n",
       "4        90\n",
       "2        49\n",
       "8        13\n",
       "7        11\n",
       "9         3\n",
       "Name: label, dtype: int64"
      ]
     },
     "execution_count": 51,
     "metadata": {},
     "output_type": "execute_result"
    }
   ],
   "source": [
    "df_label[df_label.cluster == 2].label.value_counts()"
   ]
  },
  {
   "cell_type": "code",
   "execution_count": 52,
   "metadata": {},
   "outputs": [
    {
     "data": {
      "text/plain": [
       "3     107984\n",
       "6      21869\n",
       "1      18856\n",
       "0       4608\n",
       "11      4064\n",
       "5       2682\n",
       "12       910\n",
       "2        734\n",
       "10       133\n",
       "4         80\n",
       "7         13\n",
       "9         11\n",
       "8          3\n",
       "Name: label, dtype: int64"
      ]
     },
     "execution_count": 52,
     "metadata": {},
     "output_type": "execute_result"
    }
   ],
   "source": [
    "df_label[df_label.cluster == 0].label.value_counts()"
   ]
  },
  {
   "cell_type": "code",
   "execution_count": 53,
   "metadata": {},
   "outputs": [
    {
     "data": {
      "text/plain": [
       "3     112749\n",
       "2      13078\n",
       "1       3834\n",
       "6        700\n",
       "0        664\n",
       "5        381\n",
       "11       267\n",
       "12        97\n",
       "4          9\n",
       "7          3\n",
       "10         3\n",
       "9          1\n",
       "Name: label, dtype: int64"
      ]
     },
     "execution_count": 53,
     "metadata": {},
     "output_type": "execute_result"
    }
   ],
   "source": [
    "df_label[df_label.cluster == 4].label.value_counts()"
   ]
  },
  {
   "attachments": {},
   "cell_type": "markdown",
   "metadata": {},
   "source": [
    "0 - Blackmail: This includes ransomware, sextortion, and scams where victims are threatened or deceived to pay a certain amount of cryptocurrency to specific addresses.\n",
    "1 - Cyber-Security Service: Providers offer services like payment gateways, VPNs, etc., and accept only cryptocurrency as payment.\n",
    "2 - Darknet Market: Markets on the darknet where illegal items and services are traded using cryptocurrencies.\n",
    "3 - Centralized Exchange: Intermediaries that allow cryptocurrency trading and swaps between cryptocurrency and fiat.\n",
    "4 - P2P Financial Infrastructure Service: P2P financial activities conducted solely by cryptocurrency.\n",
    "5 - P2P Financial Service: Services that reward users in cryptocurrency for completing specific tasks.\n",
    "6 - Gambling: Casino games where wagers are made using cryptocurrencies.\n",
    "7 - Government Criminal Blacklist: Addresses suspected or confirmed to be involved in criminal activities.\n",
    "8 - Money Laundering: Trading dirty cryptocurrency in complicated ways to make it hard to trace.\n",
    "9 - Ponzi Scheme: Schemes where early investors are paid using the investments of newer participants.\n",
    "10 - Mining Pool: Groups of miners who pool their computational resources to increase the chances of finding a new block and earning cryptocurrency rewards.\n",
    "11 - Tumbler: Services that increase the anonymity of cryptocurrency transactions.\n",
    "12 - Individual Wallet: Wallets owned by ordinary people for everyday transactions."
   ]
  },
  {
   "cell_type": "code",
   "execution_count": 57,
   "metadata": {},
   "outputs": [
    {
     "data": {
      "text/plain": [
       "544462"
      ]
     },
     "execution_count": 57,
     "metadata": {},
     "output_type": "execute_result"
    }
   ],
   "source": [
    "df_label.shape[0]"
   ]
  },
  {
   "cell_type": "code",
   "execution_count": 59,
   "metadata": {},
   "outputs": [
    {
     "data": {
      "text/plain": [
       "3     0.551003\n",
       "6     0.193323\n",
       "1     0.168271\n",
       "2     0.025458\n",
       "11    0.022797\n",
       "5     0.017098\n",
       "0     0.015953\n",
       "10    0.002902\n",
       "12    0.002759\n",
       "4     0.000331\n",
       "7     0.000050\n",
       "8     0.000029\n",
       "9     0.000028\n",
       "Name: label, dtype: float64"
      ]
     },
     "execution_count": 59,
     "metadata": {},
     "output_type": "execute_result"
    }
   ],
   "source": [
    "(df_label.label.value_counts() / df_label.shape[0])"
   ]
  }
 ],
 "metadata": {
  "kernelspec": {
   "display_name": "base",
   "language": "python",
   "name": "python3"
  },
  "language_info": {
   "codemirror_mode": {
    "name": "ipython",
    "version": 3
   },
   "file_extension": ".py",
   "mimetype": "text/x-python",
   "name": "python",
   "nbconvert_exporter": "python",
   "pygments_lexer": "ipython3",
   "version": "3.9.13 (main, Aug 25 2022, 23:26:10) \n[GCC 11.2.0]"
  },
  "orig_nbformat": 4,
  "vscode": {
   "interpreter": {
    "hash": "e09fc4c7730cd78788c38127abe4a8b2eeee42cf00e77e865aa2fb464ce24d99"
   }
  }
 },
 "nbformat": 4,
 "nbformat_minor": 2
}
